{
 "cells": [
  {
   "cell_type": "code",
   "execution_count": 1,
   "id": "b9e5e6ff-c8eb-491e-9033-82125b4919a6",
   "metadata": {},
   "outputs": [],
   "source": [
    "import pandas as pdas  # CSV files In/Output, data processing (e.g. pdas.read_csv)\n",
    "import numpy as npy  # Evaluating mathematical lib, linear algebra\n",
    "import matplotlib.pyplot as matplot_plt  # Draw chart lib\n",
    "import plotly.express as plotly_ex  # Draw chart lib\n",
    "\n",
    "# For Saving best model\n",
    "import joblib"
   ]
  },
  {
   "cell_type": "code",
   "execution_count": 2,
   "id": "41cef049",
   "metadata": {},
   "outputs": [],
   "source": [
    "# Auto detect-width to set data to fit the width of the terminal\n",
    "pdas.set_option(\"display.max_columns\", None)\n",
    "# Input the dataset\n",
    "dts_dtframe = pdas.read_csv(\"../data/churn.csv\")"
   ]
  },
  {
   "cell_type": "code",
   "execution_count": 3,
   "id": "768167ae-accc-4ffc-a56e-32a76b64b3a5",
   "metadata": {},
   "outputs": [
    {
     "name": "stdout",
     "output_type": "stream",
     "text": [
      "Tổng quan về dataset::\n",
      "Tổng số hàng:  7043\n",
      "Tổng số thuộc tính: 21\n",
      "Các thuộc tính:\n",
      "['customerID', 'gender', 'SeniorCitizen', 'Partner', 'Dependents', 'tenure', 'PhoneService', 'MultipleLines', 'InternetService', 'OnlineSecurity', 'OnlineBackup', 'DeviceProtection', 'TechSupport', 'StreamingTV', 'StreamingMovies', 'Contract', 'PaperlessBilling', 'PaymentMethod', 'MonthlyCharges', 'TotalCharges', 'Churn']\n",
      "Số kiểu giá trị của từng thuộc tính:\n",
      "customerID          7043\n",
      "gender                 2\n",
      "SeniorCitizen          2\n",
      "Partner                2\n",
      "Dependents             2\n",
      "tenure                73\n",
      "PhoneService           2\n",
      "MultipleLines          3\n",
      "InternetService        3\n",
      "OnlineSecurity         3\n",
      "OnlineBackup           3\n",
      "DeviceProtection       3\n",
      "TechSupport            3\n",
      "StreamingTV            3\n",
      "StreamingMovies        3\n",
      "Contract               3\n",
      "PaperlessBilling       2\n",
      "PaymentMethod          4\n",
      "MonthlyCharges      1585\n",
      "TotalCharges        6531\n",
      "Churn                  2\n",
      "dtype: int64\n",
      "Giá trị null: 0\n"
     ]
    }
   ],
   "source": [
    "# Get overview of the data\n",
    "def dataoveriew(dataframe, message):\n",
    "    print(f\"{message}:\")\n",
    "    print(\"Tổng số hàng: \", dataframe.shape[0])\n",
    "    print(\"Tổng số thuộc tính:\", dataframe.shape[1])\n",
    "    print(\"Các thuộc tính:\")\n",
    "    print(dataframe.columns.tolist())\n",
    "    print(\"Số kiểu giá trị của từng thuộc tính:\")\n",
    "    print(dataframe.nunique())\n",
    "    print(\"Giá trị null:\", dataframe.isnull().sum().values.sum())\n",
    "\n",
    "\n",
    "dataoveriew(dts_dtframe, \"Tổng quan về dataset:\")"
   ]
  },
  {
   "cell_type": "markdown",
   "id": "a8f8eddc-12eb-4e10-894a-76f11fd054f9",
   "metadata": {},
   "source": [
    "### Explore Target variable"
   ]
  },
  {
   "cell_type": "code",
   "execution_count": 26,
   "id": "ea5ac4e2-e7ac-419d-aeb1-c1b1b735168e",
   "metadata": {},
   "outputs": [
    {
     "data": {
      "application/vnd.plotly.v1+json": {
       "config": {
        "plotlyServerURL": "https://plot.ly"
       },
       "data": [
        {
         "domain": {
          "x": [
           0,
           1
          ],
          "y": [
           0,
           1
          ]
         },
         "hovertemplate": "Category=%{label}<br>Churn=%{value}<extra></extra>",
         "labels": [
          "No",
          "Yes"
         ],
         "legendgroup": "",
         "name": "",
         "showlegend": true,
         "type": "pie",
         "values": [
          5174,
          1869
         ]
        }
       ],
       "layout": {
        "legend": {
         "tracegroupgap": 0
        },
        "piecolorway": [
         "blue",
         "red"
        ],
        "template": {
         "data": {
          "bar": [
           {
            "error_x": {
             "color": "#2a3f5f"
            },
            "error_y": {
             "color": "#2a3f5f"
            },
            "marker": {
             "line": {
              "color": "#E5ECF6",
              "width": 0.5
             },
             "pattern": {
              "fillmode": "overlay",
              "size": 10,
              "solidity": 0.2
             }
            },
            "type": "bar"
           }
          ],
          "barpolar": [
           {
            "marker": {
             "line": {
              "color": "#E5ECF6",
              "width": 0.5
             },
             "pattern": {
              "fillmode": "overlay",
              "size": 10,
              "solidity": 0.2
             }
            },
            "type": "barpolar"
           }
          ],
          "carpet": [
           {
            "aaxis": {
             "endlinecolor": "#2a3f5f",
             "gridcolor": "white",
             "linecolor": "white",
             "minorgridcolor": "white",
             "startlinecolor": "#2a3f5f"
            },
            "baxis": {
             "endlinecolor": "#2a3f5f",
             "gridcolor": "white",
             "linecolor": "white",
             "minorgridcolor": "white",
             "startlinecolor": "#2a3f5f"
            },
            "type": "carpet"
           }
          ],
          "choropleth": [
           {
            "colorbar": {
             "outlinewidth": 0,
             "ticks": ""
            },
            "type": "choropleth"
           }
          ],
          "contour": [
           {
            "colorbar": {
             "outlinewidth": 0,
             "ticks": ""
            },
            "colorscale": [
             [
              0,
              "#0d0887"
             ],
             [
              0.1111111111111111,
              "#46039f"
             ],
             [
              0.2222222222222222,
              "#7201a8"
             ],
             [
              0.3333333333333333,
              "#9c179e"
             ],
             [
              0.4444444444444444,
              "#bd3786"
             ],
             [
              0.5555555555555556,
              "#d8576b"
             ],
             [
              0.6666666666666666,
              "#ed7953"
             ],
             [
              0.7777777777777778,
              "#fb9f3a"
             ],
             [
              0.8888888888888888,
              "#fdca26"
             ],
             [
              1,
              "#f0f921"
             ]
            ],
            "type": "contour"
           }
          ],
          "contourcarpet": [
           {
            "colorbar": {
             "outlinewidth": 0,
             "ticks": ""
            },
            "type": "contourcarpet"
           }
          ],
          "heatmap": [
           {
            "colorbar": {
             "outlinewidth": 0,
             "ticks": ""
            },
            "colorscale": [
             [
              0,
              "#0d0887"
             ],
             [
              0.1111111111111111,
              "#46039f"
             ],
             [
              0.2222222222222222,
              "#7201a8"
             ],
             [
              0.3333333333333333,
              "#9c179e"
             ],
             [
              0.4444444444444444,
              "#bd3786"
             ],
             [
              0.5555555555555556,
              "#d8576b"
             ],
             [
              0.6666666666666666,
              "#ed7953"
             ],
             [
              0.7777777777777778,
              "#fb9f3a"
             ],
             [
              0.8888888888888888,
              "#fdca26"
             ],
             [
              1,
              "#f0f921"
             ]
            ],
            "type": "heatmap"
           }
          ],
          "heatmapgl": [
           {
            "colorbar": {
             "outlinewidth": 0,
             "ticks": ""
            },
            "colorscale": [
             [
              0,
              "#0d0887"
             ],
             [
              0.1111111111111111,
              "#46039f"
             ],
             [
              0.2222222222222222,
              "#7201a8"
             ],
             [
              0.3333333333333333,
              "#9c179e"
             ],
             [
              0.4444444444444444,
              "#bd3786"
             ],
             [
              0.5555555555555556,
              "#d8576b"
             ],
             [
              0.6666666666666666,
              "#ed7953"
             ],
             [
              0.7777777777777778,
              "#fb9f3a"
             ],
             [
              0.8888888888888888,
              "#fdca26"
             ],
             [
              1,
              "#f0f921"
             ]
            ],
            "type": "heatmapgl"
           }
          ],
          "histogram": [
           {
            "marker": {
             "pattern": {
              "fillmode": "overlay",
              "size": 10,
              "solidity": 0.2
             }
            },
            "type": "histogram"
           }
          ],
          "histogram2d": [
           {
            "colorbar": {
             "outlinewidth": 0,
             "ticks": ""
            },
            "colorscale": [
             [
              0,
              "#0d0887"
             ],
             [
              0.1111111111111111,
              "#46039f"
             ],
             [
              0.2222222222222222,
              "#7201a8"
             ],
             [
              0.3333333333333333,
              "#9c179e"
             ],
             [
              0.4444444444444444,
              "#bd3786"
             ],
             [
              0.5555555555555556,
              "#d8576b"
             ],
             [
              0.6666666666666666,
              "#ed7953"
             ],
             [
              0.7777777777777778,
              "#fb9f3a"
             ],
             [
              0.8888888888888888,
              "#fdca26"
             ],
             [
              1,
              "#f0f921"
             ]
            ],
            "type": "histogram2d"
           }
          ],
          "histogram2dcontour": [
           {
            "colorbar": {
             "outlinewidth": 0,
             "ticks": ""
            },
            "colorscale": [
             [
              0,
              "#0d0887"
             ],
             [
              0.1111111111111111,
              "#46039f"
             ],
             [
              0.2222222222222222,
              "#7201a8"
             ],
             [
              0.3333333333333333,
              "#9c179e"
             ],
             [
              0.4444444444444444,
              "#bd3786"
             ],
             [
              0.5555555555555556,
              "#d8576b"
             ],
             [
              0.6666666666666666,
              "#ed7953"
             ],
             [
              0.7777777777777778,
              "#fb9f3a"
             ],
             [
              0.8888888888888888,
              "#fdca26"
             ],
             [
              1,
              "#f0f921"
             ]
            ],
            "type": "histogram2dcontour"
           }
          ],
          "mesh3d": [
           {
            "colorbar": {
             "outlinewidth": 0,
             "ticks": ""
            },
            "type": "mesh3d"
           }
          ],
          "parcoords": [
           {
            "line": {
             "colorbar": {
              "outlinewidth": 0,
              "ticks": ""
             }
            },
            "type": "parcoords"
           }
          ],
          "pie": [
           {
            "automargin": true,
            "type": "pie"
           }
          ],
          "scatter": [
           {
            "marker": {
             "colorbar": {
              "outlinewidth": 0,
              "ticks": ""
             }
            },
            "type": "scatter"
           }
          ],
          "scatter3d": [
           {
            "line": {
             "colorbar": {
              "outlinewidth": 0,
              "ticks": ""
             }
            },
            "marker": {
             "colorbar": {
              "outlinewidth": 0,
              "ticks": ""
             }
            },
            "type": "scatter3d"
           }
          ],
          "scattercarpet": [
           {
            "marker": {
             "colorbar": {
              "outlinewidth": 0,
              "ticks": ""
             }
            },
            "type": "scattercarpet"
           }
          ],
          "scattergeo": [
           {
            "marker": {
             "colorbar": {
              "outlinewidth": 0,
              "ticks": ""
             }
            },
            "type": "scattergeo"
           }
          ],
          "scattergl": [
           {
            "marker": {
             "colorbar": {
              "outlinewidth": 0,
              "ticks": ""
             }
            },
            "type": "scattergl"
           }
          ],
          "scattermapbox": [
           {
            "marker": {
             "colorbar": {
              "outlinewidth": 0,
              "ticks": ""
             }
            },
            "type": "scattermapbox"
           }
          ],
          "scatterpolar": [
           {
            "marker": {
             "colorbar": {
              "outlinewidth": 0,
              "ticks": ""
             }
            },
            "type": "scatterpolar"
           }
          ],
          "scatterpolargl": [
           {
            "marker": {
             "colorbar": {
              "outlinewidth": 0,
              "ticks": ""
             }
            },
            "type": "scatterpolargl"
           }
          ],
          "scatterternary": [
           {
            "marker": {
             "colorbar": {
              "outlinewidth": 0,
              "ticks": ""
             }
            },
            "type": "scatterternary"
           }
          ],
          "surface": [
           {
            "colorbar": {
             "outlinewidth": 0,
             "ticks": ""
            },
            "colorscale": [
             [
              0,
              "#0d0887"
             ],
             [
              0.1111111111111111,
              "#46039f"
             ],
             [
              0.2222222222222222,
              "#7201a8"
             ],
             [
              0.3333333333333333,
              "#9c179e"
             ],
             [
              0.4444444444444444,
              "#bd3786"
             ],
             [
              0.5555555555555556,
              "#d8576b"
             ],
             [
              0.6666666666666666,
              "#ed7953"
             ],
             [
              0.7777777777777778,
              "#fb9f3a"
             ],
             [
              0.8888888888888888,
              "#fdca26"
             ],
             [
              1,
              "#f0f921"
             ]
            ],
            "type": "surface"
           }
          ],
          "table": [
           {
            "cells": {
             "fill": {
              "color": "#EBF0F8"
             },
             "line": {
              "color": "white"
             }
            },
            "header": {
             "fill": {
              "color": "#C8D4E3"
             },
             "line": {
              "color": "white"
             }
            },
            "type": "table"
           }
          ]
         },
         "layout": {
          "annotationdefaults": {
           "arrowcolor": "#2a3f5f",
           "arrowhead": 0,
           "arrowwidth": 1
          },
          "autotypenumbers": "strict",
          "coloraxis": {
           "colorbar": {
            "outlinewidth": 0,
            "ticks": ""
           }
          },
          "colorscale": {
           "diverging": [
            [
             0,
             "#8e0152"
            ],
            [
             0.1,
             "#c51b7d"
            ],
            [
             0.2,
             "#de77ae"
            ],
            [
             0.3,
             "#f1b6da"
            ],
            [
             0.4,
             "#fde0ef"
            ],
            [
             0.5,
             "#f7f7f7"
            ],
            [
             0.6,
             "#e6f5d0"
            ],
            [
             0.7,
             "#b8e186"
            ],
            [
             0.8,
             "#7fbc41"
            ],
            [
             0.9,
             "#4d9221"
            ],
            [
             1,
             "#276419"
            ]
           ],
           "sequential": [
            [
             0,
             "#0d0887"
            ],
            [
             0.1111111111111111,
             "#46039f"
            ],
            [
             0.2222222222222222,
             "#7201a8"
            ],
            [
             0.3333333333333333,
             "#9c179e"
            ],
            [
             0.4444444444444444,
             "#bd3786"
            ],
            [
             0.5555555555555556,
             "#d8576b"
            ],
            [
             0.6666666666666666,
             "#ed7953"
            ],
            [
             0.7777777777777778,
             "#fb9f3a"
            ],
            [
             0.8888888888888888,
             "#fdca26"
            ],
            [
             1,
             "#f0f921"
            ]
           ],
           "sequentialminus": [
            [
             0,
             "#0d0887"
            ],
            [
             0.1111111111111111,
             "#46039f"
            ],
            [
             0.2222222222222222,
             "#7201a8"
            ],
            [
             0.3333333333333333,
             "#9c179e"
            ],
            [
             0.4444444444444444,
             "#bd3786"
            ],
            [
             0.5555555555555556,
             "#d8576b"
            ],
            [
             0.6666666666666666,
             "#ed7953"
            ],
            [
             0.7777777777777778,
             "#fb9f3a"
            ],
            [
             0.8888888888888888,
             "#fdca26"
            ],
            [
             1,
             "#f0f921"
            ]
           ]
          },
          "colorway": [
           "#636efa",
           "#EF553B",
           "#00cc96",
           "#ab63fa",
           "#FFA15A",
           "#19d3f3",
           "#FF6692",
           "#B6E880",
           "#FF97FF",
           "#FECB52"
          ],
          "font": {
           "color": "#2a3f5f"
          },
          "geo": {
           "bgcolor": "white",
           "lakecolor": "white",
           "landcolor": "#E5ECF6",
           "showlakes": true,
           "showland": true,
           "subunitcolor": "white"
          },
          "hoverlabel": {
           "align": "left"
          },
          "hovermode": "closest",
          "mapbox": {
           "style": "light"
          },
          "paper_bgcolor": "white",
          "plot_bgcolor": "#E5ECF6",
          "polar": {
           "angularaxis": {
            "gridcolor": "white",
            "linecolor": "white",
            "ticks": ""
           },
           "bgcolor": "#E5ECF6",
           "radialaxis": {
            "gridcolor": "white",
            "linecolor": "white",
            "ticks": ""
           }
          },
          "scene": {
           "xaxis": {
            "backgroundcolor": "#E5ECF6",
            "gridcolor": "white",
            "gridwidth": 2,
            "linecolor": "white",
            "showbackground": true,
            "ticks": "",
            "zerolinecolor": "white"
           },
           "yaxis": {
            "backgroundcolor": "#E5ECF6",
            "gridcolor": "white",
            "gridwidth": 2,
            "linecolor": "white",
            "showbackground": true,
            "ticks": "",
            "zerolinecolor": "white"
           },
           "zaxis": {
            "backgroundcolor": "#E5ECF6",
            "gridcolor": "white",
            "gridwidth": 2,
            "linecolor": "white",
            "showbackground": true,
            "ticks": "",
            "zerolinecolor": "white"
           }
          },
          "shapedefaults": {
           "line": {
            "color": "#2a3f5f"
           }
          },
          "ternary": {
           "aaxis": {
            "gridcolor": "white",
            "linecolor": "white",
            "ticks": ""
           },
           "baxis": {
            "gridcolor": "white",
            "linecolor": "white",
            "ticks": ""
           },
           "bgcolor": "#E5ECF6",
           "caxis": {
            "gridcolor": "white",
            "linecolor": "white",
            "ticks": ""
           }
          },
          "title": {
           "x": 0.05
          },
          "xaxis": {
           "automargin": true,
           "gridcolor": "white",
           "linecolor": "white",
           "ticks": "",
           "title": {
            "standoff": 15
           },
           "zerolinecolor": "white",
           "zerolinewidth": 2
          },
          "yaxis": {
           "automargin": true,
           "gridcolor": "white",
           "linecolor": "white",
           "ticks": "",
           "title": {
            "standoff": 15
           },
           "zerolinecolor": "white",
           "zerolinewidth": 2
          }
         }
        },
        "title": {
         "text": "Distribution of Churn"
        },
        "width": 800
       }
      }
     },
     "metadata": {},
     "output_type": "display_data"
    }
   ],
   "source": [
    "# Return the Object in descending order containing counts of unique values\n",
    "churn_instance = dts_dtframe[\"Churn\"].value_counts()\n",
    "# Convert series, object to DataFrame\n",
    "churn_instance = churn_instance.to_frame()\n",
    "# Reset index of the DataFrame\n",
    "churn_instance = churn_instance.reset_index()\n",
    "# Rename the column 'index'\n",
    "churn_instance = churn_instance.rename(columns={\"index\": \"Category\"})\n",
    "# Use plotly.express lib to draw the chart\n",
    "churn_pie_chart = plotly_ex.pie(\n",
    "    churn_instance,\n",
    "    values=\"Churn\",\n",
    "    names=\"Category\",\n",
    "    color_discrete_sequence=[\"blue\", \"red\"],\n",
    "    title=\"Distribution of Churn\",\n",
    "    width=800\n",
    ")\n",
    "churn_pie_chart.show()"
   ]
  },
  {
   "cell_type": "markdown",
   "id": "1de888a6-ed36-48c6-89b0-216f98a6683b",
   "metadata": {},
   "source": [
    "### Explore Categorical features"
   ]
  },
  {
   "cell_type": "code",
   "execution_count": 97,
   "id": "72f13bc9-399d-46aa-9e17-c38fb1a376f5",
   "metadata": {},
   "outputs": [],
   "source": [
    "# Defining bar chart function\n",
    "def bar_chart(feature, df=dts_dtframe):\n",
    "    # Groupby the categorical feature\n",
    "    temp_df = df.groupby([feature, \"Churn\"]).size().reset_index()\n",
    "    print(temp_df)\n",
    "    temp_df = temp_df.rename(columns={0: \"Count\"})\n",
    "    print(temp_df)\n",
    "    # Calculate the value counts of each distribution and it's corresponding Percentages\n",
    "    value_counts_df = df[feature].value_counts().to_frame().reset_index()\n",
    "    print(value_counts_df)\n",
    "    categories = [cat[1][0] for cat in value_counts_df.iterrows()]\n",
    "    print(categories)\n",
    "    # Calculate the value counts of each distribution and it's corresponding Percentages\n",
    "    num_list = [num[1][1] for num in value_counts_df.iterrows()]\n",
    "    print(num_list)\n",
    "    div_list = [element / sum(num_list) for element in num_list]\n",
    "    print(div_list)\n",
    "    percentage = [round(element * 100, 1) for element in div_list]\n",
    "    print(percentage)\n",
    "    # Defining string formatting for graph annotation\n",
    "    # Numeric section\n",
    "    def num_format(list_instance):\n",
    "        print(list_instance)\n",
    "        print(len(list_instance))\n",
    "        formatted_str = \"\"\n",
    "        for index, num in enumerate(list_instance):\n",
    "            if index < len(list_instance) - 2:\n",
    "                formatted_str = (\n",
    "                    formatted_str + f\"{num}%, \"\n",
    "                )  # append to empty string(formatted_str)\n",
    "            elif index == len(list_instance) - 2:\n",
    "                formatted_str = formatted_str + f\"{num}% & \"\n",
    "            else:\n",
    "                formatted_str = formatted_str + f\"{num}%\"\n",
    "        return formatted_str\n",
    "\n",
    "    # Categorical section\n",
    "    def str_format(list_instance):\n",
    "        print(list_instance)\n",
    "        print(len(list_instance))\n",
    "        formatted_str = \"\"\n",
    "        for index, cat in enumerate(list_instance):\n",
    "            if index < len(list_instance) - 2:\n",
    "                formatted_str = formatted_str + f\"{cat}, \"\n",
    "            elif index == len(list_instance) - 2:\n",
    "                formatted_str = formatted_str + f\"{cat} & \"\n",
    "            else:\n",
    "                formatted_str = formatted_str + f\"{cat}\"\n",
    "        return formatted_str\n",
    "\n",
    "    # Running the formatting functions\n",
    "    num_str = num_format(percentage)\n",
    "    cat_str = str_format(categories)\n",
    "\n",
    "    # Setting graph framework\n",
    "    chart = plotly_ex.bar(\n",
    "        temp_df,\n",
    "        x=feature,\n",
    "        y=\"Count\",\n",
    "        color=\"Churn\",\n",
    "        title=f\"Churn rate by {feature}\",\n",
    "        barmode=\"group\",\n",
    "        color_discrete_sequence=[\"blue\", \"red\"],\n",
    "        width=900\n",
    "    )\n",
    "    chart.add_annotation(\n",
    "        text=f\"Value count of distribution of {cat_str} are<br>{num_str} percentage respectively.\",\n",
    "        align=\"left\",\n",
    "        showarrow=False,\n",
    "        xref=\"paper\",\n",
    "        yref=\"paper\",\n",
    "        x=1,\n",
    "        y=1.3,\n",
    "        bordercolor=\"black\",\n",
    "        borderwidth=1\n",
    "    )\n",
    "\n",
    "    return chart.show()"
   ]
  },
  {
   "cell_type": "code",
   "execution_count": 76,
   "id": "bc8bbd26-c106-42a4-8f59-dc5a487341c0",
   "metadata": {},
   "outputs": [
    {
     "name": "stdout",
     "output_type": "stream",
     "text": [
      "   gender Churn     0\n",
      "0  Female    No  2549\n",
      "1  Female   Yes   939\n",
      "2    Male    No  2625\n",
      "3    Male   Yes   930\n",
      "   gender Churn  Count\n",
      "0  Female    No   2549\n",
      "1  Female   Yes    939\n",
      "2    Male    No   2625\n",
      "3    Male   Yes    930\n",
      "    index  gender\n",
      "0    Male    3555\n",
      "1  Female    3488\n",
      "['Male', 'Female']\n",
      "[3555, 3488]\n",
      "[0.504756495811444, 0.495243504188556]\n",
      "[50.5, 49.5]\n",
      "[50.5, 49.5]\n",
      "2\n",
      "['Male', 'Female']\n",
      "2\n"
     ]
    },
    {
     "data": {
      "application/vnd.plotly.v1+json": {
       "config": {
        "plotlyServerURL": "https://plot.ly"
       },
       "data": [
        {
         "alignmentgroup": "True",
         "hovertemplate": "Churn=No<br>gender=%{x}<br>Count=%{y}<extra></extra>",
         "legendgroup": "No",
         "marker": {
          "color": "blue",
          "pattern": {
           "shape": ""
          }
         },
         "name": "No",
         "offsetgroup": "No",
         "orientation": "v",
         "showlegend": true,
         "textposition": "auto",
         "type": "bar",
         "x": [
          "Female",
          "Male"
         ],
         "xaxis": "x",
         "y": [
          2549,
          2625
         ],
         "yaxis": "y"
        },
        {
         "alignmentgroup": "True",
         "hovertemplate": "Churn=Yes<br>gender=%{x}<br>Count=%{y}<extra></extra>",
         "legendgroup": "Yes",
         "marker": {
          "color": "red",
          "pattern": {
           "shape": ""
          }
         },
         "name": "Yes",
         "offsetgroup": "Yes",
         "orientation": "v",
         "showlegend": true,
         "textposition": "auto",
         "type": "bar",
         "x": [
          "Female",
          "Male"
         ],
         "xaxis": "x",
         "y": [
          939,
          930
         ],
         "yaxis": "y"
        }
       ],
       "layout": {
        "annotations": [
         {
          "align": "left",
          "bordercolor": "black",
          "borderwidth": 1,
          "showarrow": false,
          "text": "Value count of distribution of Male & Female are<br>50.5% & 49.5% percentage respectively.",
          "x": 1,
          "xref": "paper",
          "y": 1.3,
          "yref": "paper"
         }
        ],
        "barmode": "group",
        "legend": {
         "title": {
          "text": "Churn"
         },
         "tracegroupgap": 0
        },
        "template": {
         "data": {
          "bar": [
           {
            "error_x": {
             "color": "#2a3f5f"
            },
            "error_y": {
             "color": "#2a3f5f"
            },
            "marker": {
             "line": {
              "color": "#E5ECF6",
              "width": 0.5
             },
             "pattern": {
              "fillmode": "overlay",
              "size": 10,
              "solidity": 0.2
             }
            },
            "type": "bar"
           }
          ],
          "barpolar": [
           {
            "marker": {
             "line": {
              "color": "#E5ECF6",
              "width": 0.5
             },
             "pattern": {
              "fillmode": "overlay",
              "size": 10,
              "solidity": 0.2
             }
            },
            "type": "barpolar"
           }
          ],
          "carpet": [
           {
            "aaxis": {
             "endlinecolor": "#2a3f5f",
             "gridcolor": "white",
             "linecolor": "white",
             "minorgridcolor": "white",
             "startlinecolor": "#2a3f5f"
            },
            "baxis": {
             "endlinecolor": "#2a3f5f",
             "gridcolor": "white",
             "linecolor": "white",
             "minorgridcolor": "white",
             "startlinecolor": "#2a3f5f"
            },
            "type": "carpet"
           }
          ],
          "choropleth": [
           {
            "colorbar": {
             "outlinewidth": 0,
             "ticks": ""
            },
            "type": "choropleth"
           }
          ],
          "contour": [
           {
            "colorbar": {
             "outlinewidth": 0,
             "ticks": ""
            },
            "colorscale": [
             [
              0,
              "#0d0887"
             ],
             [
              0.1111111111111111,
              "#46039f"
             ],
             [
              0.2222222222222222,
              "#7201a8"
             ],
             [
              0.3333333333333333,
              "#9c179e"
             ],
             [
              0.4444444444444444,
              "#bd3786"
             ],
             [
              0.5555555555555556,
              "#d8576b"
             ],
             [
              0.6666666666666666,
              "#ed7953"
             ],
             [
              0.7777777777777778,
              "#fb9f3a"
             ],
             [
              0.8888888888888888,
              "#fdca26"
             ],
             [
              1,
              "#f0f921"
             ]
            ],
            "type": "contour"
           }
          ],
          "contourcarpet": [
           {
            "colorbar": {
             "outlinewidth": 0,
             "ticks": ""
            },
            "type": "contourcarpet"
           }
          ],
          "heatmap": [
           {
            "colorbar": {
             "outlinewidth": 0,
             "ticks": ""
            },
            "colorscale": [
             [
              0,
              "#0d0887"
             ],
             [
              0.1111111111111111,
              "#46039f"
             ],
             [
              0.2222222222222222,
              "#7201a8"
             ],
             [
              0.3333333333333333,
              "#9c179e"
             ],
             [
              0.4444444444444444,
              "#bd3786"
             ],
             [
              0.5555555555555556,
              "#d8576b"
             ],
             [
              0.6666666666666666,
              "#ed7953"
             ],
             [
              0.7777777777777778,
              "#fb9f3a"
             ],
             [
              0.8888888888888888,
              "#fdca26"
             ],
             [
              1,
              "#f0f921"
             ]
            ],
            "type": "heatmap"
           }
          ],
          "heatmapgl": [
           {
            "colorbar": {
             "outlinewidth": 0,
             "ticks": ""
            },
            "colorscale": [
             [
              0,
              "#0d0887"
             ],
             [
              0.1111111111111111,
              "#46039f"
             ],
             [
              0.2222222222222222,
              "#7201a8"
             ],
             [
              0.3333333333333333,
              "#9c179e"
             ],
             [
              0.4444444444444444,
              "#bd3786"
             ],
             [
              0.5555555555555556,
              "#d8576b"
             ],
             [
              0.6666666666666666,
              "#ed7953"
             ],
             [
              0.7777777777777778,
              "#fb9f3a"
             ],
             [
              0.8888888888888888,
              "#fdca26"
             ],
             [
              1,
              "#f0f921"
             ]
            ],
            "type": "heatmapgl"
           }
          ],
          "histogram": [
           {
            "marker": {
             "pattern": {
              "fillmode": "overlay",
              "size": 10,
              "solidity": 0.2
             }
            },
            "type": "histogram"
           }
          ],
          "histogram2d": [
           {
            "colorbar": {
             "outlinewidth": 0,
             "ticks": ""
            },
            "colorscale": [
             [
              0,
              "#0d0887"
             ],
             [
              0.1111111111111111,
              "#46039f"
             ],
             [
              0.2222222222222222,
              "#7201a8"
             ],
             [
              0.3333333333333333,
              "#9c179e"
             ],
             [
              0.4444444444444444,
              "#bd3786"
             ],
             [
              0.5555555555555556,
              "#d8576b"
             ],
             [
              0.6666666666666666,
              "#ed7953"
             ],
             [
              0.7777777777777778,
              "#fb9f3a"
             ],
             [
              0.8888888888888888,
              "#fdca26"
             ],
             [
              1,
              "#f0f921"
             ]
            ],
            "type": "histogram2d"
           }
          ],
          "histogram2dcontour": [
           {
            "colorbar": {
             "outlinewidth": 0,
             "ticks": ""
            },
            "colorscale": [
             [
              0,
              "#0d0887"
             ],
             [
              0.1111111111111111,
              "#46039f"
             ],
             [
              0.2222222222222222,
              "#7201a8"
             ],
             [
              0.3333333333333333,
              "#9c179e"
             ],
             [
              0.4444444444444444,
              "#bd3786"
             ],
             [
              0.5555555555555556,
              "#d8576b"
             ],
             [
              0.6666666666666666,
              "#ed7953"
             ],
             [
              0.7777777777777778,
              "#fb9f3a"
             ],
             [
              0.8888888888888888,
              "#fdca26"
             ],
             [
              1,
              "#f0f921"
             ]
            ],
            "type": "histogram2dcontour"
           }
          ],
          "mesh3d": [
           {
            "colorbar": {
             "outlinewidth": 0,
             "ticks": ""
            },
            "type": "mesh3d"
           }
          ],
          "parcoords": [
           {
            "line": {
             "colorbar": {
              "outlinewidth": 0,
              "ticks": ""
             }
            },
            "type": "parcoords"
           }
          ],
          "pie": [
           {
            "automargin": true,
            "type": "pie"
           }
          ],
          "scatter": [
           {
            "marker": {
             "colorbar": {
              "outlinewidth": 0,
              "ticks": ""
             }
            },
            "type": "scatter"
           }
          ],
          "scatter3d": [
           {
            "line": {
             "colorbar": {
              "outlinewidth": 0,
              "ticks": ""
             }
            },
            "marker": {
             "colorbar": {
              "outlinewidth": 0,
              "ticks": ""
             }
            },
            "type": "scatter3d"
           }
          ],
          "scattercarpet": [
           {
            "marker": {
             "colorbar": {
              "outlinewidth": 0,
              "ticks": ""
             }
            },
            "type": "scattercarpet"
           }
          ],
          "scattergeo": [
           {
            "marker": {
             "colorbar": {
              "outlinewidth": 0,
              "ticks": ""
             }
            },
            "type": "scattergeo"
           }
          ],
          "scattergl": [
           {
            "marker": {
             "colorbar": {
              "outlinewidth": 0,
              "ticks": ""
             }
            },
            "type": "scattergl"
           }
          ],
          "scattermapbox": [
           {
            "marker": {
             "colorbar": {
              "outlinewidth": 0,
              "ticks": ""
             }
            },
            "type": "scattermapbox"
           }
          ],
          "scatterpolar": [
           {
            "marker": {
             "colorbar": {
              "outlinewidth": 0,
              "ticks": ""
             }
            },
            "type": "scatterpolar"
           }
          ],
          "scatterpolargl": [
           {
            "marker": {
             "colorbar": {
              "outlinewidth": 0,
              "ticks": ""
             }
            },
            "type": "scatterpolargl"
           }
          ],
          "scatterternary": [
           {
            "marker": {
             "colorbar": {
              "outlinewidth": 0,
              "ticks": ""
             }
            },
            "type": "scatterternary"
           }
          ],
          "surface": [
           {
            "colorbar": {
             "outlinewidth": 0,
             "ticks": ""
            },
            "colorscale": [
             [
              0,
              "#0d0887"
             ],
             [
              0.1111111111111111,
              "#46039f"
             ],
             [
              0.2222222222222222,
              "#7201a8"
             ],
             [
              0.3333333333333333,
              "#9c179e"
             ],
             [
              0.4444444444444444,
              "#bd3786"
             ],
             [
              0.5555555555555556,
              "#d8576b"
             ],
             [
              0.6666666666666666,
              "#ed7953"
             ],
             [
              0.7777777777777778,
              "#fb9f3a"
             ],
             [
              0.8888888888888888,
              "#fdca26"
             ],
             [
              1,
              "#f0f921"
             ]
            ],
            "type": "surface"
           }
          ],
          "table": [
           {
            "cells": {
             "fill": {
              "color": "#EBF0F8"
             },
             "line": {
              "color": "white"
             }
            },
            "header": {
             "fill": {
              "color": "#C8D4E3"
             },
             "line": {
              "color": "white"
             }
            },
            "type": "table"
           }
          ]
         },
         "layout": {
          "annotationdefaults": {
           "arrowcolor": "#2a3f5f",
           "arrowhead": 0,
           "arrowwidth": 1
          },
          "autotypenumbers": "strict",
          "coloraxis": {
           "colorbar": {
            "outlinewidth": 0,
            "ticks": ""
           }
          },
          "colorscale": {
           "diverging": [
            [
             0,
             "#8e0152"
            ],
            [
             0.1,
             "#c51b7d"
            ],
            [
             0.2,
             "#de77ae"
            ],
            [
             0.3,
             "#f1b6da"
            ],
            [
             0.4,
             "#fde0ef"
            ],
            [
             0.5,
             "#f7f7f7"
            ],
            [
             0.6,
             "#e6f5d0"
            ],
            [
             0.7,
             "#b8e186"
            ],
            [
             0.8,
             "#7fbc41"
            ],
            [
             0.9,
             "#4d9221"
            ],
            [
             1,
             "#276419"
            ]
           ],
           "sequential": [
            [
             0,
             "#0d0887"
            ],
            [
             0.1111111111111111,
             "#46039f"
            ],
            [
             0.2222222222222222,
             "#7201a8"
            ],
            [
             0.3333333333333333,
             "#9c179e"
            ],
            [
             0.4444444444444444,
             "#bd3786"
            ],
            [
             0.5555555555555556,
             "#d8576b"
            ],
            [
             0.6666666666666666,
             "#ed7953"
            ],
            [
             0.7777777777777778,
             "#fb9f3a"
            ],
            [
             0.8888888888888888,
             "#fdca26"
            ],
            [
             1,
             "#f0f921"
            ]
           ],
           "sequentialminus": [
            [
             0,
             "#0d0887"
            ],
            [
             0.1111111111111111,
             "#46039f"
            ],
            [
             0.2222222222222222,
             "#7201a8"
            ],
            [
             0.3333333333333333,
             "#9c179e"
            ],
            [
             0.4444444444444444,
             "#bd3786"
            ],
            [
             0.5555555555555556,
             "#d8576b"
            ],
            [
             0.6666666666666666,
             "#ed7953"
            ],
            [
             0.7777777777777778,
             "#fb9f3a"
            ],
            [
             0.8888888888888888,
             "#fdca26"
            ],
            [
             1,
             "#f0f921"
            ]
           ]
          },
          "colorway": [
           "#636efa",
           "#EF553B",
           "#00cc96",
           "#ab63fa",
           "#FFA15A",
           "#19d3f3",
           "#FF6692",
           "#B6E880",
           "#FF97FF",
           "#FECB52"
          ],
          "font": {
           "color": "#2a3f5f"
          },
          "geo": {
           "bgcolor": "white",
           "lakecolor": "white",
           "landcolor": "#E5ECF6",
           "showlakes": true,
           "showland": true,
           "subunitcolor": "white"
          },
          "hoverlabel": {
           "align": "left"
          },
          "hovermode": "closest",
          "mapbox": {
           "style": "light"
          },
          "paper_bgcolor": "white",
          "plot_bgcolor": "#E5ECF6",
          "polar": {
           "angularaxis": {
            "gridcolor": "white",
            "linecolor": "white",
            "ticks": ""
           },
           "bgcolor": "#E5ECF6",
           "radialaxis": {
            "gridcolor": "white",
            "linecolor": "white",
            "ticks": ""
           }
          },
          "scene": {
           "xaxis": {
            "backgroundcolor": "#E5ECF6",
            "gridcolor": "white",
            "gridwidth": 2,
            "linecolor": "white",
            "showbackground": true,
            "ticks": "",
            "zerolinecolor": "white"
           },
           "yaxis": {
            "backgroundcolor": "#E5ECF6",
            "gridcolor": "white",
            "gridwidth": 2,
            "linecolor": "white",
            "showbackground": true,
            "ticks": "",
            "zerolinecolor": "white"
           },
           "zaxis": {
            "backgroundcolor": "#E5ECF6",
            "gridcolor": "white",
            "gridwidth": 2,
            "linecolor": "white",
            "showbackground": true,
            "ticks": "",
            "zerolinecolor": "white"
           }
          },
          "shapedefaults": {
           "line": {
            "color": "#2a3f5f"
           }
          },
          "ternary": {
           "aaxis": {
            "gridcolor": "white",
            "linecolor": "white",
            "ticks": ""
           },
           "baxis": {
            "gridcolor": "white",
            "linecolor": "white",
            "ticks": ""
           },
           "bgcolor": "#E5ECF6",
           "caxis": {
            "gridcolor": "white",
            "linecolor": "white",
            "ticks": ""
           }
          },
          "title": {
           "x": 0.05
          },
          "xaxis": {
           "automargin": true,
           "gridcolor": "white",
           "linecolor": "white",
           "ticks": "",
           "title": {
            "standoff": 15
           },
           "zerolinecolor": "white",
           "zerolinewidth": 2
          },
          "yaxis": {
           "automargin": true,
           "gridcolor": "white",
           "linecolor": "white",
           "ticks": "",
           "title": {
            "standoff": 15
           },
           "zerolinecolor": "white",
           "zerolinewidth": 2
          }
         }
        },
        "title": {
         "text": "Churn rate by gender"
        },
        "width": 900,
        "xaxis": {
         "anchor": "y",
         "domain": [
          0,
          1
         ],
         "title": {
          "text": "gender"
         }
        },
        "yaxis": {
         "anchor": "x",
         "domain": [
          0,
          1
         ],
         "title": {
          "text": "Count"
         }
        }
       }
      }
     },
     "metadata": {},
     "output_type": "display_data"
    },
    {
     "name": "stdout",
     "output_type": "stream",
     "text": [
      "  SeniorCitizen Churn     0\n",
      "0            No    No  4508\n",
      "1            No   Yes  1393\n",
      "2           Yes    No   666\n",
      "3           Yes   Yes   476\n",
      "  SeniorCitizen Churn  Count\n",
      "0            No    No   4508\n",
      "1            No   Yes   1393\n",
      "2           Yes    No    666\n",
      "3           Yes   Yes    476\n",
      "  index  SeniorCitizen\n",
      "0    No           5901\n",
      "1   Yes           1142\n",
      "['No', 'Yes']\n",
      "[5901, 1142]\n",
      "[0.8378531875621185, 0.1621468124378816]\n",
      "[83.8, 16.2]\n",
      "[83.8, 16.2]\n",
      "2\n",
      "['No', 'Yes']\n",
      "2\n"
     ]
    },
    {
     "data": {
      "application/vnd.plotly.v1+json": {
       "config": {
        "plotlyServerURL": "https://plot.ly"
       },
       "data": [
        {
         "alignmentgroup": "True",
         "hovertemplate": "Churn=No<br>SeniorCitizen=%{x}<br>Count=%{y}<extra></extra>",
         "legendgroup": "No",
         "marker": {
          "color": "blue",
          "pattern": {
           "shape": ""
          }
         },
         "name": "No",
         "offsetgroup": "No",
         "orientation": "v",
         "showlegend": true,
         "textposition": "auto",
         "type": "bar",
         "x": [
          "No",
          "Yes"
         ],
         "xaxis": "x",
         "y": [
          4508,
          666
         ],
         "yaxis": "y"
        },
        {
         "alignmentgroup": "True",
         "hovertemplate": "Churn=Yes<br>SeniorCitizen=%{x}<br>Count=%{y}<extra></extra>",
         "legendgroup": "Yes",
         "marker": {
          "color": "red",
          "pattern": {
           "shape": ""
          }
         },
         "name": "Yes",
         "offsetgroup": "Yes",
         "orientation": "v",
         "showlegend": true,
         "textposition": "auto",
         "type": "bar",
         "x": [
          "No",
          "Yes"
         ],
         "xaxis": "x",
         "y": [
          1393,
          476
         ],
         "yaxis": "y"
        }
       ],
       "layout": {
        "annotations": [
         {
          "align": "left",
          "bordercolor": "black",
          "borderwidth": 1,
          "showarrow": false,
          "text": "Value count of distribution of No & Yes are<br>83.8% & 16.2% percentage respectively.",
          "x": 1,
          "xref": "paper",
          "y": 1.3,
          "yref": "paper"
         }
        ],
        "barmode": "group",
        "legend": {
         "title": {
          "text": "Churn"
         },
         "tracegroupgap": 0
        },
        "template": {
         "data": {
          "bar": [
           {
            "error_x": {
             "color": "#2a3f5f"
            },
            "error_y": {
             "color": "#2a3f5f"
            },
            "marker": {
             "line": {
              "color": "#E5ECF6",
              "width": 0.5
             },
             "pattern": {
              "fillmode": "overlay",
              "size": 10,
              "solidity": 0.2
             }
            },
            "type": "bar"
           }
          ],
          "barpolar": [
           {
            "marker": {
             "line": {
              "color": "#E5ECF6",
              "width": 0.5
             },
             "pattern": {
              "fillmode": "overlay",
              "size": 10,
              "solidity": 0.2
             }
            },
            "type": "barpolar"
           }
          ],
          "carpet": [
           {
            "aaxis": {
             "endlinecolor": "#2a3f5f",
             "gridcolor": "white",
             "linecolor": "white",
             "minorgridcolor": "white",
             "startlinecolor": "#2a3f5f"
            },
            "baxis": {
             "endlinecolor": "#2a3f5f",
             "gridcolor": "white",
             "linecolor": "white",
             "minorgridcolor": "white",
             "startlinecolor": "#2a3f5f"
            },
            "type": "carpet"
           }
          ],
          "choropleth": [
           {
            "colorbar": {
             "outlinewidth": 0,
             "ticks": ""
            },
            "type": "choropleth"
           }
          ],
          "contour": [
           {
            "colorbar": {
             "outlinewidth": 0,
             "ticks": ""
            },
            "colorscale": [
             [
              0,
              "#0d0887"
             ],
             [
              0.1111111111111111,
              "#46039f"
             ],
             [
              0.2222222222222222,
              "#7201a8"
             ],
             [
              0.3333333333333333,
              "#9c179e"
             ],
             [
              0.4444444444444444,
              "#bd3786"
             ],
             [
              0.5555555555555556,
              "#d8576b"
             ],
             [
              0.6666666666666666,
              "#ed7953"
             ],
             [
              0.7777777777777778,
              "#fb9f3a"
             ],
             [
              0.8888888888888888,
              "#fdca26"
             ],
             [
              1,
              "#f0f921"
             ]
            ],
            "type": "contour"
           }
          ],
          "contourcarpet": [
           {
            "colorbar": {
             "outlinewidth": 0,
             "ticks": ""
            },
            "type": "contourcarpet"
           }
          ],
          "heatmap": [
           {
            "colorbar": {
             "outlinewidth": 0,
             "ticks": ""
            },
            "colorscale": [
             [
              0,
              "#0d0887"
             ],
             [
              0.1111111111111111,
              "#46039f"
             ],
             [
              0.2222222222222222,
              "#7201a8"
             ],
             [
              0.3333333333333333,
              "#9c179e"
             ],
             [
              0.4444444444444444,
              "#bd3786"
             ],
             [
              0.5555555555555556,
              "#d8576b"
             ],
             [
              0.6666666666666666,
              "#ed7953"
             ],
             [
              0.7777777777777778,
              "#fb9f3a"
             ],
             [
              0.8888888888888888,
              "#fdca26"
             ],
             [
              1,
              "#f0f921"
             ]
            ],
            "type": "heatmap"
           }
          ],
          "heatmapgl": [
           {
            "colorbar": {
             "outlinewidth": 0,
             "ticks": ""
            },
            "colorscale": [
             [
              0,
              "#0d0887"
             ],
             [
              0.1111111111111111,
              "#46039f"
             ],
             [
              0.2222222222222222,
              "#7201a8"
             ],
             [
              0.3333333333333333,
              "#9c179e"
             ],
             [
              0.4444444444444444,
              "#bd3786"
             ],
             [
              0.5555555555555556,
              "#d8576b"
             ],
             [
              0.6666666666666666,
              "#ed7953"
             ],
             [
              0.7777777777777778,
              "#fb9f3a"
             ],
             [
              0.8888888888888888,
              "#fdca26"
             ],
             [
              1,
              "#f0f921"
             ]
            ],
            "type": "heatmapgl"
           }
          ],
          "histogram": [
           {
            "marker": {
             "pattern": {
              "fillmode": "overlay",
              "size": 10,
              "solidity": 0.2
             }
            },
            "type": "histogram"
           }
          ],
          "histogram2d": [
           {
            "colorbar": {
             "outlinewidth": 0,
             "ticks": ""
            },
            "colorscale": [
             [
              0,
              "#0d0887"
             ],
             [
              0.1111111111111111,
              "#46039f"
             ],
             [
              0.2222222222222222,
              "#7201a8"
             ],
             [
              0.3333333333333333,
              "#9c179e"
             ],
             [
              0.4444444444444444,
              "#bd3786"
             ],
             [
              0.5555555555555556,
              "#d8576b"
             ],
             [
              0.6666666666666666,
              "#ed7953"
             ],
             [
              0.7777777777777778,
              "#fb9f3a"
             ],
             [
              0.8888888888888888,
              "#fdca26"
             ],
             [
              1,
              "#f0f921"
             ]
            ],
            "type": "histogram2d"
           }
          ],
          "histogram2dcontour": [
           {
            "colorbar": {
             "outlinewidth": 0,
             "ticks": ""
            },
            "colorscale": [
             [
              0,
              "#0d0887"
             ],
             [
              0.1111111111111111,
              "#46039f"
             ],
             [
              0.2222222222222222,
              "#7201a8"
             ],
             [
              0.3333333333333333,
              "#9c179e"
             ],
             [
              0.4444444444444444,
              "#bd3786"
             ],
             [
              0.5555555555555556,
              "#d8576b"
             ],
             [
              0.6666666666666666,
              "#ed7953"
             ],
             [
              0.7777777777777778,
              "#fb9f3a"
             ],
             [
              0.8888888888888888,
              "#fdca26"
             ],
             [
              1,
              "#f0f921"
             ]
            ],
            "type": "histogram2dcontour"
           }
          ],
          "mesh3d": [
           {
            "colorbar": {
             "outlinewidth": 0,
             "ticks": ""
            },
            "type": "mesh3d"
           }
          ],
          "parcoords": [
           {
            "line": {
             "colorbar": {
              "outlinewidth": 0,
              "ticks": ""
             }
            },
            "type": "parcoords"
           }
          ],
          "pie": [
           {
            "automargin": true,
            "type": "pie"
           }
          ],
          "scatter": [
           {
            "marker": {
             "colorbar": {
              "outlinewidth": 0,
              "ticks": ""
             }
            },
            "type": "scatter"
           }
          ],
          "scatter3d": [
           {
            "line": {
             "colorbar": {
              "outlinewidth": 0,
              "ticks": ""
             }
            },
            "marker": {
             "colorbar": {
              "outlinewidth": 0,
              "ticks": ""
             }
            },
            "type": "scatter3d"
           }
          ],
          "scattercarpet": [
           {
            "marker": {
             "colorbar": {
              "outlinewidth": 0,
              "ticks": ""
             }
            },
            "type": "scattercarpet"
           }
          ],
          "scattergeo": [
           {
            "marker": {
             "colorbar": {
              "outlinewidth": 0,
              "ticks": ""
             }
            },
            "type": "scattergeo"
           }
          ],
          "scattergl": [
           {
            "marker": {
             "colorbar": {
              "outlinewidth": 0,
              "ticks": ""
             }
            },
            "type": "scattergl"
           }
          ],
          "scattermapbox": [
           {
            "marker": {
             "colorbar": {
              "outlinewidth": 0,
              "ticks": ""
             }
            },
            "type": "scattermapbox"
           }
          ],
          "scatterpolar": [
           {
            "marker": {
             "colorbar": {
              "outlinewidth": 0,
              "ticks": ""
             }
            },
            "type": "scatterpolar"
           }
          ],
          "scatterpolargl": [
           {
            "marker": {
             "colorbar": {
              "outlinewidth": 0,
              "ticks": ""
             }
            },
            "type": "scatterpolargl"
           }
          ],
          "scatterternary": [
           {
            "marker": {
             "colorbar": {
              "outlinewidth": 0,
              "ticks": ""
             }
            },
            "type": "scatterternary"
           }
          ],
          "surface": [
           {
            "colorbar": {
             "outlinewidth": 0,
             "ticks": ""
            },
            "colorscale": [
             [
              0,
              "#0d0887"
             ],
             [
              0.1111111111111111,
              "#46039f"
             ],
             [
              0.2222222222222222,
              "#7201a8"
             ],
             [
              0.3333333333333333,
              "#9c179e"
             ],
             [
              0.4444444444444444,
              "#bd3786"
             ],
             [
              0.5555555555555556,
              "#d8576b"
             ],
             [
              0.6666666666666666,
              "#ed7953"
             ],
             [
              0.7777777777777778,
              "#fb9f3a"
             ],
             [
              0.8888888888888888,
              "#fdca26"
             ],
             [
              1,
              "#f0f921"
             ]
            ],
            "type": "surface"
           }
          ],
          "table": [
           {
            "cells": {
             "fill": {
              "color": "#EBF0F8"
             },
             "line": {
              "color": "white"
             }
            },
            "header": {
             "fill": {
              "color": "#C8D4E3"
             },
             "line": {
              "color": "white"
             }
            },
            "type": "table"
           }
          ]
         },
         "layout": {
          "annotationdefaults": {
           "arrowcolor": "#2a3f5f",
           "arrowhead": 0,
           "arrowwidth": 1
          },
          "autotypenumbers": "strict",
          "coloraxis": {
           "colorbar": {
            "outlinewidth": 0,
            "ticks": ""
           }
          },
          "colorscale": {
           "diverging": [
            [
             0,
             "#8e0152"
            ],
            [
             0.1,
             "#c51b7d"
            ],
            [
             0.2,
             "#de77ae"
            ],
            [
             0.3,
             "#f1b6da"
            ],
            [
             0.4,
             "#fde0ef"
            ],
            [
             0.5,
             "#f7f7f7"
            ],
            [
             0.6,
             "#e6f5d0"
            ],
            [
             0.7,
             "#b8e186"
            ],
            [
             0.8,
             "#7fbc41"
            ],
            [
             0.9,
             "#4d9221"
            ],
            [
             1,
             "#276419"
            ]
           ],
           "sequential": [
            [
             0,
             "#0d0887"
            ],
            [
             0.1111111111111111,
             "#46039f"
            ],
            [
             0.2222222222222222,
             "#7201a8"
            ],
            [
             0.3333333333333333,
             "#9c179e"
            ],
            [
             0.4444444444444444,
             "#bd3786"
            ],
            [
             0.5555555555555556,
             "#d8576b"
            ],
            [
             0.6666666666666666,
             "#ed7953"
            ],
            [
             0.7777777777777778,
             "#fb9f3a"
            ],
            [
             0.8888888888888888,
             "#fdca26"
            ],
            [
             1,
             "#f0f921"
            ]
           ],
           "sequentialminus": [
            [
             0,
             "#0d0887"
            ],
            [
             0.1111111111111111,
             "#46039f"
            ],
            [
             0.2222222222222222,
             "#7201a8"
            ],
            [
             0.3333333333333333,
             "#9c179e"
            ],
            [
             0.4444444444444444,
             "#bd3786"
            ],
            [
             0.5555555555555556,
             "#d8576b"
            ],
            [
             0.6666666666666666,
             "#ed7953"
            ],
            [
             0.7777777777777778,
             "#fb9f3a"
            ],
            [
             0.8888888888888888,
             "#fdca26"
            ],
            [
             1,
             "#f0f921"
            ]
           ]
          },
          "colorway": [
           "#636efa",
           "#EF553B",
           "#00cc96",
           "#ab63fa",
           "#FFA15A",
           "#19d3f3",
           "#FF6692",
           "#B6E880",
           "#FF97FF",
           "#FECB52"
          ],
          "font": {
           "color": "#2a3f5f"
          },
          "geo": {
           "bgcolor": "white",
           "lakecolor": "white",
           "landcolor": "#E5ECF6",
           "showlakes": true,
           "showland": true,
           "subunitcolor": "white"
          },
          "hoverlabel": {
           "align": "left"
          },
          "hovermode": "closest",
          "mapbox": {
           "style": "light"
          },
          "paper_bgcolor": "white",
          "plot_bgcolor": "#E5ECF6",
          "polar": {
           "angularaxis": {
            "gridcolor": "white",
            "linecolor": "white",
            "ticks": ""
           },
           "bgcolor": "#E5ECF6",
           "radialaxis": {
            "gridcolor": "white",
            "linecolor": "white",
            "ticks": ""
           }
          },
          "scene": {
           "xaxis": {
            "backgroundcolor": "#E5ECF6",
            "gridcolor": "white",
            "gridwidth": 2,
            "linecolor": "white",
            "showbackground": true,
            "ticks": "",
            "zerolinecolor": "white"
           },
           "yaxis": {
            "backgroundcolor": "#E5ECF6",
            "gridcolor": "white",
            "gridwidth": 2,
            "linecolor": "white",
            "showbackground": true,
            "ticks": "",
            "zerolinecolor": "white"
           },
           "zaxis": {
            "backgroundcolor": "#E5ECF6",
            "gridcolor": "white",
            "gridwidth": 2,
            "linecolor": "white",
            "showbackground": true,
            "ticks": "",
            "zerolinecolor": "white"
           }
          },
          "shapedefaults": {
           "line": {
            "color": "#2a3f5f"
           }
          },
          "ternary": {
           "aaxis": {
            "gridcolor": "white",
            "linecolor": "white",
            "ticks": ""
           },
           "baxis": {
            "gridcolor": "white",
            "linecolor": "white",
            "ticks": ""
           },
           "bgcolor": "#E5ECF6",
           "caxis": {
            "gridcolor": "white",
            "linecolor": "white",
            "ticks": ""
           }
          },
          "title": {
           "x": 0.05
          },
          "xaxis": {
           "automargin": true,
           "gridcolor": "white",
           "linecolor": "white",
           "ticks": "",
           "title": {
            "standoff": 15
           },
           "zerolinecolor": "white",
           "zerolinewidth": 2
          },
          "yaxis": {
           "automargin": true,
           "gridcolor": "white",
           "linecolor": "white",
           "ticks": "",
           "title": {
            "standoff": 15
           },
           "zerolinecolor": "white",
           "zerolinewidth": 2
          }
         }
        },
        "title": {
         "text": "Churn rate by SeniorCitizen"
        },
        "width": 900,
        "xaxis": {
         "anchor": "y",
         "domain": [
          0,
          1
         ],
         "title": {
          "text": "SeniorCitizen"
         }
        },
        "yaxis": {
         "anchor": "x",
         "domain": [
          0,
          1
         ],
         "title": {
          "text": "Count"
         }
        }
       }
      }
     },
     "metadata": {},
     "output_type": "display_data"
    },
    {
     "name": "stdout",
     "output_type": "stream",
     "text": [
      "  Partner Churn     0\n",
      "0      No    No  2441\n",
      "1      No   Yes  1200\n",
      "2     Yes    No  2733\n",
      "3     Yes   Yes   669\n",
      "  Partner Churn  Count\n",
      "0      No    No   2441\n",
      "1      No   Yes   1200\n",
      "2     Yes    No   2733\n",
      "3     Yes   Yes    669\n",
      "  index  Partner\n",
      "0    No     3641\n",
      "1   Yes     3402\n",
      "['No', 'Yes']\n",
      "[3641, 3402]\n",
      "[0.5169672014766434, 0.4830327985233565]\n",
      "[51.7, 48.3]\n",
      "[51.7, 48.3]\n",
      "2\n",
      "['No', 'Yes']\n",
      "2\n"
     ]
    },
    {
     "data": {
      "application/vnd.plotly.v1+json": {
       "config": {
        "plotlyServerURL": "https://plot.ly"
       },
       "data": [
        {
         "alignmentgroup": "True",
         "hovertemplate": "Churn=No<br>Partner=%{x}<br>Count=%{y}<extra></extra>",
         "legendgroup": "No",
         "marker": {
          "color": "blue",
          "pattern": {
           "shape": ""
          }
         },
         "name": "No",
         "offsetgroup": "No",
         "orientation": "v",
         "showlegend": true,
         "textposition": "auto",
         "type": "bar",
         "x": [
          "No",
          "Yes"
         ],
         "xaxis": "x",
         "y": [
          2441,
          2733
         ],
         "yaxis": "y"
        },
        {
         "alignmentgroup": "True",
         "hovertemplate": "Churn=Yes<br>Partner=%{x}<br>Count=%{y}<extra></extra>",
         "legendgroup": "Yes",
         "marker": {
          "color": "red",
          "pattern": {
           "shape": ""
          }
         },
         "name": "Yes",
         "offsetgroup": "Yes",
         "orientation": "v",
         "showlegend": true,
         "textposition": "auto",
         "type": "bar",
         "x": [
          "No",
          "Yes"
         ],
         "xaxis": "x",
         "y": [
          1200,
          669
         ],
         "yaxis": "y"
        }
       ],
       "layout": {
        "annotations": [
         {
          "align": "left",
          "bordercolor": "black",
          "borderwidth": 1,
          "showarrow": false,
          "text": "Value count of distribution of No & Yes are<br>51.7% & 48.3% percentage respectively.",
          "x": 1,
          "xref": "paper",
          "y": 1.3,
          "yref": "paper"
         }
        ],
        "barmode": "group",
        "legend": {
         "title": {
          "text": "Churn"
         },
         "tracegroupgap": 0
        },
        "template": {
         "data": {
          "bar": [
           {
            "error_x": {
             "color": "#2a3f5f"
            },
            "error_y": {
             "color": "#2a3f5f"
            },
            "marker": {
             "line": {
              "color": "#E5ECF6",
              "width": 0.5
             },
             "pattern": {
              "fillmode": "overlay",
              "size": 10,
              "solidity": 0.2
             }
            },
            "type": "bar"
           }
          ],
          "barpolar": [
           {
            "marker": {
             "line": {
              "color": "#E5ECF6",
              "width": 0.5
             },
             "pattern": {
              "fillmode": "overlay",
              "size": 10,
              "solidity": 0.2
             }
            },
            "type": "barpolar"
           }
          ],
          "carpet": [
           {
            "aaxis": {
             "endlinecolor": "#2a3f5f",
             "gridcolor": "white",
             "linecolor": "white",
             "minorgridcolor": "white",
             "startlinecolor": "#2a3f5f"
            },
            "baxis": {
             "endlinecolor": "#2a3f5f",
             "gridcolor": "white",
             "linecolor": "white",
             "minorgridcolor": "white",
             "startlinecolor": "#2a3f5f"
            },
            "type": "carpet"
           }
          ],
          "choropleth": [
           {
            "colorbar": {
             "outlinewidth": 0,
             "ticks": ""
            },
            "type": "choropleth"
           }
          ],
          "contour": [
           {
            "colorbar": {
             "outlinewidth": 0,
             "ticks": ""
            },
            "colorscale": [
             [
              0,
              "#0d0887"
             ],
             [
              0.1111111111111111,
              "#46039f"
             ],
             [
              0.2222222222222222,
              "#7201a8"
             ],
             [
              0.3333333333333333,
              "#9c179e"
             ],
             [
              0.4444444444444444,
              "#bd3786"
             ],
             [
              0.5555555555555556,
              "#d8576b"
             ],
             [
              0.6666666666666666,
              "#ed7953"
             ],
             [
              0.7777777777777778,
              "#fb9f3a"
             ],
             [
              0.8888888888888888,
              "#fdca26"
             ],
             [
              1,
              "#f0f921"
             ]
            ],
            "type": "contour"
           }
          ],
          "contourcarpet": [
           {
            "colorbar": {
             "outlinewidth": 0,
             "ticks": ""
            },
            "type": "contourcarpet"
           }
          ],
          "heatmap": [
           {
            "colorbar": {
             "outlinewidth": 0,
             "ticks": ""
            },
            "colorscale": [
             [
              0,
              "#0d0887"
             ],
             [
              0.1111111111111111,
              "#46039f"
             ],
             [
              0.2222222222222222,
              "#7201a8"
             ],
             [
              0.3333333333333333,
              "#9c179e"
             ],
             [
              0.4444444444444444,
              "#bd3786"
             ],
             [
              0.5555555555555556,
              "#d8576b"
             ],
             [
              0.6666666666666666,
              "#ed7953"
             ],
             [
              0.7777777777777778,
              "#fb9f3a"
             ],
             [
              0.8888888888888888,
              "#fdca26"
             ],
             [
              1,
              "#f0f921"
             ]
            ],
            "type": "heatmap"
           }
          ],
          "heatmapgl": [
           {
            "colorbar": {
             "outlinewidth": 0,
             "ticks": ""
            },
            "colorscale": [
             [
              0,
              "#0d0887"
             ],
             [
              0.1111111111111111,
              "#46039f"
             ],
             [
              0.2222222222222222,
              "#7201a8"
             ],
             [
              0.3333333333333333,
              "#9c179e"
             ],
             [
              0.4444444444444444,
              "#bd3786"
             ],
             [
              0.5555555555555556,
              "#d8576b"
             ],
             [
              0.6666666666666666,
              "#ed7953"
             ],
             [
              0.7777777777777778,
              "#fb9f3a"
             ],
             [
              0.8888888888888888,
              "#fdca26"
             ],
             [
              1,
              "#f0f921"
             ]
            ],
            "type": "heatmapgl"
           }
          ],
          "histogram": [
           {
            "marker": {
             "pattern": {
              "fillmode": "overlay",
              "size": 10,
              "solidity": 0.2
             }
            },
            "type": "histogram"
           }
          ],
          "histogram2d": [
           {
            "colorbar": {
             "outlinewidth": 0,
             "ticks": ""
            },
            "colorscale": [
             [
              0,
              "#0d0887"
             ],
             [
              0.1111111111111111,
              "#46039f"
             ],
             [
              0.2222222222222222,
              "#7201a8"
             ],
             [
              0.3333333333333333,
              "#9c179e"
             ],
             [
              0.4444444444444444,
              "#bd3786"
             ],
             [
              0.5555555555555556,
              "#d8576b"
             ],
             [
              0.6666666666666666,
              "#ed7953"
             ],
             [
              0.7777777777777778,
              "#fb9f3a"
             ],
             [
              0.8888888888888888,
              "#fdca26"
             ],
             [
              1,
              "#f0f921"
             ]
            ],
            "type": "histogram2d"
           }
          ],
          "histogram2dcontour": [
           {
            "colorbar": {
             "outlinewidth": 0,
             "ticks": ""
            },
            "colorscale": [
             [
              0,
              "#0d0887"
             ],
             [
              0.1111111111111111,
              "#46039f"
             ],
             [
              0.2222222222222222,
              "#7201a8"
             ],
             [
              0.3333333333333333,
              "#9c179e"
             ],
             [
              0.4444444444444444,
              "#bd3786"
             ],
             [
              0.5555555555555556,
              "#d8576b"
             ],
             [
              0.6666666666666666,
              "#ed7953"
             ],
             [
              0.7777777777777778,
              "#fb9f3a"
             ],
             [
              0.8888888888888888,
              "#fdca26"
             ],
             [
              1,
              "#f0f921"
             ]
            ],
            "type": "histogram2dcontour"
           }
          ],
          "mesh3d": [
           {
            "colorbar": {
             "outlinewidth": 0,
             "ticks": ""
            },
            "type": "mesh3d"
           }
          ],
          "parcoords": [
           {
            "line": {
             "colorbar": {
              "outlinewidth": 0,
              "ticks": ""
             }
            },
            "type": "parcoords"
           }
          ],
          "pie": [
           {
            "automargin": true,
            "type": "pie"
           }
          ],
          "scatter": [
           {
            "marker": {
             "colorbar": {
              "outlinewidth": 0,
              "ticks": ""
             }
            },
            "type": "scatter"
           }
          ],
          "scatter3d": [
           {
            "line": {
             "colorbar": {
              "outlinewidth": 0,
              "ticks": ""
             }
            },
            "marker": {
             "colorbar": {
              "outlinewidth": 0,
              "ticks": ""
             }
            },
            "type": "scatter3d"
           }
          ],
          "scattercarpet": [
           {
            "marker": {
             "colorbar": {
              "outlinewidth": 0,
              "ticks": ""
             }
            },
            "type": "scattercarpet"
           }
          ],
          "scattergeo": [
           {
            "marker": {
             "colorbar": {
              "outlinewidth": 0,
              "ticks": ""
             }
            },
            "type": "scattergeo"
           }
          ],
          "scattergl": [
           {
            "marker": {
             "colorbar": {
              "outlinewidth": 0,
              "ticks": ""
             }
            },
            "type": "scattergl"
           }
          ],
          "scattermapbox": [
           {
            "marker": {
             "colorbar": {
              "outlinewidth": 0,
              "ticks": ""
             }
            },
            "type": "scattermapbox"
           }
          ],
          "scatterpolar": [
           {
            "marker": {
             "colorbar": {
              "outlinewidth": 0,
              "ticks": ""
             }
            },
            "type": "scatterpolar"
           }
          ],
          "scatterpolargl": [
           {
            "marker": {
             "colorbar": {
              "outlinewidth": 0,
              "ticks": ""
             }
            },
            "type": "scatterpolargl"
           }
          ],
          "scatterternary": [
           {
            "marker": {
             "colorbar": {
              "outlinewidth": 0,
              "ticks": ""
             }
            },
            "type": "scatterternary"
           }
          ],
          "surface": [
           {
            "colorbar": {
             "outlinewidth": 0,
             "ticks": ""
            },
            "colorscale": [
             [
              0,
              "#0d0887"
             ],
             [
              0.1111111111111111,
              "#46039f"
             ],
             [
              0.2222222222222222,
              "#7201a8"
             ],
             [
              0.3333333333333333,
              "#9c179e"
             ],
             [
              0.4444444444444444,
              "#bd3786"
             ],
             [
              0.5555555555555556,
              "#d8576b"
             ],
             [
              0.6666666666666666,
              "#ed7953"
             ],
             [
              0.7777777777777778,
              "#fb9f3a"
             ],
             [
              0.8888888888888888,
              "#fdca26"
             ],
             [
              1,
              "#f0f921"
             ]
            ],
            "type": "surface"
           }
          ],
          "table": [
           {
            "cells": {
             "fill": {
              "color": "#EBF0F8"
             },
             "line": {
              "color": "white"
             }
            },
            "header": {
             "fill": {
              "color": "#C8D4E3"
             },
             "line": {
              "color": "white"
             }
            },
            "type": "table"
           }
          ]
         },
         "layout": {
          "annotationdefaults": {
           "arrowcolor": "#2a3f5f",
           "arrowhead": 0,
           "arrowwidth": 1
          },
          "autotypenumbers": "strict",
          "coloraxis": {
           "colorbar": {
            "outlinewidth": 0,
            "ticks": ""
           }
          },
          "colorscale": {
           "diverging": [
            [
             0,
             "#8e0152"
            ],
            [
             0.1,
             "#c51b7d"
            ],
            [
             0.2,
             "#de77ae"
            ],
            [
             0.3,
             "#f1b6da"
            ],
            [
             0.4,
             "#fde0ef"
            ],
            [
             0.5,
             "#f7f7f7"
            ],
            [
             0.6,
             "#e6f5d0"
            ],
            [
             0.7,
             "#b8e186"
            ],
            [
             0.8,
             "#7fbc41"
            ],
            [
             0.9,
             "#4d9221"
            ],
            [
             1,
             "#276419"
            ]
           ],
           "sequential": [
            [
             0,
             "#0d0887"
            ],
            [
             0.1111111111111111,
             "#46039f"
            ],
            [
             0.2222222222222222,
             "#7201a8"
            ],
            [
             0.3333333333333333,
             "#9c179e"
            ],
            [
             0.4444444444444444,
             "#bd3786"
            ],
            [
             0.5555555555555556,
             "#d8576b"
            ],
            [
             0.6666666666666666,
             "#ed7953"
            ],
            [
             0.7777777777777778,
             "#fb9f3a"
            ],
            [
             0.8888888888888888,
             "#fdca26"
            ],
            [
             1,
             "#f0f921"
            ]
           ],
           "sequentialminus": [
            [
             0,
             "#0d0887"
            ],
            [
             0.1111111111111111,
             "#46039f"
            ],
            [
             0.2222222222222222,
             "#7201a8"
            ],
            [
             0.3333333333333333,
             "#9c179e"
            ],
            [
             0.4444444444444444,
             "#bd3786"
            ],
            [
             0.5555555555555556,
             "#d8576b"
            ],
            [
             0.6666666666666666,
             "#ed7953"
            ],
            [
             0.7777777777777778,
             "#fb9f3a"
            ],
            [
             0.8888888888888888,
             "#fdca26"
            ],
            [
             1,
             "#f0f921"
            ]
           ]
          },
          "colorway": [
           "#636efa",
           "#EF553B",
           "#00cc96",
           "#ab63fa",
           "#FFA15A",
           "#19d3f3",
           "#FF6692",
           "#B6E880",
           "#FF97FF",
           "#FECB52"
          ],
          "font": {
           "color": "#2a3f5f"
          },
          "geo": {
           "bgcolor": "white",
           "lakecolor": "white",
           "landcolor": "#E5ECF6",
           "showlakes": true,
           "showland": true,
           "subunitcolor": "white"
          },
          "hoverlabel": {
           "align": "left"
          },
          "hovermode": "closest",
          "mapbox": {
           "style": "light"
          },
          "paper_bgcolor": "white",
          "plot_bgcolor": "#E5ECF6",
          "polar": {
           "angularaxis": {
            "gridcolor": "white",
            "linecolor": "white",
            "ticks": ""
           },
           "bgcolor": "#E5ECF6",
           "radialaxis": {
            "gridcolor": "white",
            "linecolor": "white",
            "ticks": ""
           }
          },
          "scene": {
           "xaxis": {
            "backgroundcolor": "#E5ECF6",
            "gridcolor": "white",
            "gridwidth": 2,
            "linecolor": "white",
            "showbackground": true,
            "ticks": "",
            "zerolinecolor": "white"
           },
           "yaxis": {
            "backgroundcolor": "#E5ECF6",
            "gridcolor": "white",
            "gridwidth": 2,
            "linecolor": "white",
            "showbackground": true,
            "ticks": "",
            "zerolinecolor": "white"
           },
           "zaxis": {
            "backgroundcolor": "#E5ECF6",
            "gridcolor": "white",
            "gridwidth": 2,
            "linecolor": "white",
            "showbackground": true,
            "ticks": "",
            "zerolinecolor": "white"
           }
          },
          "shapedefaults": {
           "line": {
            "color": "#2a3f5f"
           }
          },
          "ternary": {
           "aaxis": {
            "gridcolor": "white",
            "linecolor": "white",
            "ticks": ""
           },
           "baxis": {
            "gridcolor": "white",
            "linecolor": "white",
            "ticks": ""
           },
           "bgcolor": "#E5ECF6",
           "caxis": {
            "gridcolor": "white",
            "linecolor": "white",
            "ticks": ""
           }
          },
          "title": {
           "x": 0.05
          },
          "xaxis": {
           "automargin": true,
           "gridcolor": "white",
           "linecolor": "white",
           "ticks": "",
           "title": {
            "standoff": 15
           },
           "zerolinecolor": "white",
           "zerolinewidth": 2
          },
          "yaxis": {
           "automargin": true,
           "gridcolor": "white",
           "linecolor": "white",
           "ticks": "",
           "title": {
            "standoff": 15
           },
           "zerolinecolor": "white",
           "zerolinewidth": 2
          }
         }
        },
        "title": {
         "text": "Churn rate by Partner"
        },
        "width": 900,
        "xaxis": {
         "anchor": "y",
         "domain": [
          0,
          1
         ],
         "title": {
          "text": "Partner"
         }
        },
        "yaxis": {
         "anchor": "x",
         "domain": [
          0,
          1
         ],
         "title": {
          "text": "Count"
         }
        }
       }
      }
     },
     "metadata": {},
     "output_type": "display_data"
    },
    {
     "name": "stdout",
     "output_type": "stream",
     "text": [
      "  Dependents Churn     0\n",
      "0         No    No  3390\n",
      "1         No   Yes  1543\n",
      "2        Yes    No  1784\n",
      "3        Yes   Yes   326\n",
      "  Dependents Churn  Count\n",
      "0         No    No   3390\n",
      "1         No   Yes   1543\n",
      "2        Yes    No   1784\n",
      "3        Yes   Yes    326\n",
      "  index  Dependents\n",
      "0    No        4933\n",
      "1   Yes        2110\n",
      "['No', 'Yes']\n",
      "[4933, 2110]\n",
      "[0.7004117563538265, 0.2995882436461735]\n",
      "[70.0, 30.0]\n",
      "[70.0, 30.0]\n",
      "2\n",
      "['No', 'Yes']\n",
      "2\n"
     ]
    },
    {
     "data": {
      "application/vnd.plotly.v1+json": {
       "config": {
        "plotlyServerURL": "https://plot.ly"
       },
       "data": [
        {
         "alignmentgroup": "True",
         "hovertemplate": "Churn=No<br>Dependents=%{x}<br>Count=%{y}<extra></extra>",
         "legendgroup": "No",
         "marker": {
          "color": "blue",
          "pattern": {
           "shape": ""
          }
         },
         "name": "No",
         "offsetgroup": "No",
         "orientation": "v",
         "showlegend": true,
         "textposition": "auto",
         "type": "bar",
         "x": [
          "No",
          "Yes"
         ],
         "xaxis": "x",
         "y": [
          3390,
          1784
         ],
         "yaxis": "y"
        },
        {
         "alignmentgroup": "True",
         "hovertemplate": "Churn=Yes<br>Dependents=%{x}<br>Count=%{y}<extra></extra>",
         "legendgroup": "Yes",
         "marker": {
          "color": "red",
          "pattern": {
           "shape": ""
          }
         },
         "name": "Yes",
         "offsetgroup": "Yes",
         "orientation": "v",
         "showlegend": true,
         "textposition": "auto",
         "type": "bar",
         "x": [
          "No",
          "Yes"
         ],
         "xaxis": "x",
         "y": [
          1543,
          326
         ],
         "yaxis": "y"
        }
       ],
       "layout": {
        "annotations": [
         {
          "align": "left",
          "bordercolor": "black",
          "borderwidth": 1,
          "showarrow": false,
          "text": "Value count of distribution of No & Yes are<br>70.0% & 30.0% percentage respectively.",
          "x": 1,
          "xref": "paper",
          "y": 1.3,
          "yref": "paper"
         }
        ],
        "barmode": "group",
        "legend": {
         "title": {
          "text": "Churn"
         },
         "tracegroupgap": 0
        },
        "template": {
         "data": {
          "bar": [
           {
            "error_x": {
             "color": "#2a3f5f"
            },
            "error_y": {
             "color": "#2a3f5f"
            },
            "marker": {
             "line": {
              "color": "#E5ECF6",
              "width": 0.5
             },
             "pattern": {
              "fillmode": "overlay",
              "size": 10,
              "solidity": 0.2
             }
            },
            "type": "bar"
           }
          ],
          "barpolar": [
           {
            "marker": {
             "line": {
              "color": "#E5ECF6",
              "width": 0.5
             },
             "pattern": {
              "fillmode": "overlay",
              "size": 10,
              "solidity": 0.2
             }
            },
            "type": "barpolar"
           }
          ],
          "carpet": [
           {
            "aaxis": {
             "endlinecolor": "#2a3f5f",
             "gridcolor": "white",
             "linecolor": "white",
             "minorgridcolor": "white",
             "startlinecolor": "#2a3f5f"
            },
            "baxis": {
             "endlinecolor": "#2a3f5f",
             "gridcolor": "white",
             "linecolor": "white",
             "minorgridcolor": "white",
             "startlinecolor": "#2a3f5f"
            },
            "type": "carpet"
           }
          ],
          "choropleth": [
           {
            "colorbar": {
             "outlinewidth": 0,
             "ticks": ""
            },
            "type": "choropleth"
           }
          ],
          "contour": [
           {
            "colorbar": {
             "outlinewidth": 0,
             "ticks": ""
            },
            "colorscale": [
             [
              0,
              "#0d0887"
             ],
             [
              0.1111111111111111,
              "#46039f"
             ],
             [
              0.2222222222222222,
              "#7201a8"
             ],
             [
              0.3333333333333333,
              "#9c179e"
             ],
             [
              0.4444444444444444,
              "#bd3786"
             ],
             [
              0.5555555555555556,
              "#d8576b"
             ],
             [
              0.6666666666666666,
              "#ed7953"
             ],
             [
              0.7777777777777778,
              "#fb9f3a"
             ],
             [
              0.8888888888888888,
              "#fdca26"
             ],
             [
              1,
              "#f0f921"
             ]
            ],
            "type": "contour"
           }
          ],
          "contourcarpet": [
           {
            "colorbar": {
             "outlinewidth": 0,
             "ticks": ""
            },
            "type": "contourcarpet"
           }
          ],
          "heatmap": [
           {
            "colorbar": {
             "outlinewidth": 0,
             "ticks": ""
            },
            "colorscale": [
             [
              0,
              "#0d0887"
             ],
             [
              0.1111111111111111,
              "#46039f"
             ],
             [
              0.2222222222222222,
              "#7201a8"
             ],
             [
              0.3333333333333333,
              "#9c179e"
             ],
             [
              0.4444444444444444,
              "#bd3786"
             ],
             [
              0.5555555555555556,
              "#d8576b"
             ],
             [
              0.6666666666666666,
              "#ed7953"
             ],
             [
              0.7777777777777778,
              "#fb9f3a"
             ],
             [
              0.8888888888888888,
              "#fdca26"
             ],
             [
              1,
              "#f0f921"
             ]
            ],
            "type": "heatmap"
           }
          ],
          "heatmapgl": [
           {
            "colorbar": {
             "outlinewidth": 0,
             "ticks": ""
            },
            "colorscale": [
             [
              0,
              "#0d0887"
             ],
             [
              0.1111111111111111,
              "#46039f"
             ],
             [
              0.2222222222222222,
              "#7201a8"
             ],
             [
              0.3333333333333333,
              "#9c179e"
             ],
             [
              0.4444444444444444,
              "#bd3786"
             ],
             [
              0.5555555555555556,
              "#d8576b"
             ],
             [
              0.6666666666666666,
              "#ed7953"
             ],
             [
              0.7777777777777778,
              "#fb9f3a"
             ],
             [
              0.8888888888888888,
              "#fdca26"
             ],
             [
              1,
              "#f0f921"
             ]
            ],
            "type": "heatmapgl"
           }
          ],
          "histogram": [
           {
            "marker": {
             "pattern": {
              "fillmode": "overlay",
              "size": 10,
              "solidity": 0.2
             }
            },
            "type": "histogram"
           }
          ],
          "histogram2d": [
           {
            "colorbar": {
             "outlinewidth": 0,
             "ticks": ""
            },
            "colorscale": [
             [
              0,
              "#0d0887"
             ],
             [
              0.1111111111111111,
              "#46039f"
             ],
             [
              0.2222222222222222,
              "#7201a8"
             ],
             [
              0.3333333333333333,
              "#9c179e"
             ],
             [
              0.4444444444444444,
              "#bd3786"
             ],
             [
              0.5555555555555556,
              "#d8576b"
             ],
             [
              0.6666666666666666,
              "#ed7953"
             ],
             [
              0.7777777777777778,
              "#fb9f3a"
             ],
             [
              0.8888888888888888,
              "#fdca26"
             ],
             [
              1,
              "#f0f921"
             ]
            ],
            "type": "histogram2d"
           }
          ],
          "histogram2dcontour": [
           {
            "colorbar": {
             "outlinewidth": 0,
             "ticks": ""
            },
            "colorscale": [
             [
              0,
              "#0d0887"
             ],
             [
              0.1111111111111111,
              "#46039f"
             ],
             [
              0.2222222222222222,
              "#7201a8"
             ],
             [
              0.3333333333333333,
              "#9c179e"
             ],
             [
              0.4444444444444444,
              "#bd3786"
             ],
             [
              0.5555555555555556,
              "#d8576b"
             ],
             [
              0.6666666666666666,
              "#ed7953"
             ],
             [
              0.7777777777777778,
              "#fb9f3a"
             ],
             [
              0.8888888888888888,
              "#fdca26"
             ],
             [
              1,
              "#f0f921"
             ]
            ],
            "type": "histogram2dcontour"
           }
          ],
          "mesh3d": [
           {
            "colorbar": {
             "outlinewidth": 0,
             "ticks": ""
            },
            "type": "mesh3d"
           }
          ],
          "parcoords": [
           {
            "line": {
             "colorbar": {
              "outlinewidth": 0,
              "ticks": ""
             }
            },
            "type": "parcoords"
           }
          ],
          "pie": [
           {
            "automargin": true,
            "type": "pie"
           }
          ],
          "scatter": [
           {
            "marker": {
             "colorbar": {
              "outlinewidth": 0,
              "ticks": ""
             }
            },
            "type": "scatter"
           }
          ],
          "scatter3d": [
           {
            "line": {
             "colorbar": {
              "outlinewidth": 0,
              "ticks": ""
             }
            },
            "marker": {
             "colorbar": {
              "outlinewidth": 0,
              "ticks": ""
             }
            },
            "type": "scatter3d"
           }
          ],
          "scattercarpet": [
           {
            "marker": {
             "colorbar": {
              "outlinewidth": 0,
              "ticks": ""
             }
            },
            "type": "scattercarpet"
           }
          ],
          "scattergeo": [
           {
            "marker": {
             "colorbar": {
              "outlinewidth": 0,
              "ticks": ""
             }
            },
            "type": "scattergeo"
           }
          ],
          "scattergl": [
           {
            "marker": {
             "colorbar": {
              "outlinewidth": 0,
              "ticks": ""
             }
            },
            "type": "scattergl"
           }
          ],
          "scattermapbox": [
           {
            "marker": {
             "colorbar": {
              "outlinewidth": 0,
              "ticks": ""
             }
            },
            "type": "scattermapbox"
           }
          ],
          "scatterpolar": [
           {
            "marker": {
             "colorbar": {
              "outlinewidth": 0,
              "ticks": ""
             }
            },
            "type": "scatterpolar"
           }
          ],
          "scatterpolargl": [
           {
            "marker": {
             "colorbar": {
              "outlinewidth": 0,
              "ticks": ""
             }
            },
            "type": "scatterpolargl"
           }
          ],
          "scatterternary": [
           {
            "marker": {
             "colorbar": {
              "outlinewidth": 0,
              "ticks": ""
             }
            },
            "type": "scatterternary"
           }
          ],
          "surface": [
           {
            "colorbar": {
             "outlinewidth": 0,
             "ticks": ""
            },
            "colorscale": [
             [
              0,
              "#0d0887"
             ],
             [
              0.1111111111111111,
              "#46039f"
             ],
             [
              0.2222222222222222,
              "#7201a8"
             ],
             [
              0.3333333333333333,
              "#9c179e"
             ],
             [
              0.4444444444444444,
              "#bd3786"
             ],
             [
              0.5555555555555556,
              "#d8576b"
             ],
             [
              0.6666666666666666,
              "#ed7953"
             ],
             [
              0.7777777777777778,
              "#fb9f3a"
             ],
             [
              0.8888888888888888,
              "#fdca26"
             ],
             [
              1,
              "#f0f921"
             ]
            ],
            "type": "surface"
           }
          ],
          "table": [
           {
            "cells": {
             "fill": {
              "color": "#EBF0F8"
             },
             "line": {
              "color": "white"
             }
            },
            "header": {
             "fill": {
              "color": "#C8D4E3"
             },
             "line": {
              "color": "white"
             }
            },
            "type": "table"
           }
          ]
         },
         "layout": {
          "annotationdefaults": {
           "arrowcolor": "#2a3f5f",
           "arrowhead": 0,
           "arrowwidth": 1
          },
          "autotypenumbers": "strict",
          "coloraxis": {
           "colorbar": {
            "outlinewidth": 0,
            "ticks": ""
           }
          },
          "colorscale": {
           "diverging": [
            [
             0,
             "#8e0152"
            ],
            [
             0.1,
             "#c51b7d"
            ],
            [
             0.2,
             "#de77ae"
            ],
            [
             0.3,
             "#f1b6da"
            ],
            [
             0.4,
             "#fde0ef"
            ],
            [
             0.5,
             "#f7f7f7"
            ],
            [
             0.6,
             "#e6f5d0"
            ],
            [
             0.7,
             "#b8e186"
            ],
            [
             0.8,
             "#7fbc41"
            ],
            [
             0.9,
             "#4d9221"
            ],
            [
             1,
             "#276419"
            ]
           ],
           "sequential": [
            [
             0,
             "#0d0887"
            ],
            [
             0.1111111111111111,
             "#46039f"
            ],
            [
             0.2222222222222222,
             "#7201a8"
            ],
            [
             0.3333333333333333,
             "#9c179e"
            ],
            [
             0.4444444444444444,
             "#bd3786"
            ],
            [
             0.5555555555555556,
             "#d8576b"
            ],
            [
             0.6666666666666666,
             "#ed7953"
            ],
            [
             0.7777777777777778,
             "#fb9f3a"
            ],
            [
             0.8888888888888888,
             "#fdca26"
            ],
            [
             1,
             "#f0f921"
            ]
           ],
           "sequentialminus": [
            [
             0,
             "#0d0887"
            ],
            [
             0.1111111111111111,
             "#46039f"
            ],
            [
             0.2222222222222222,
             "#7201a8"
            ],
            [
             0.3333333333333333,
             "#9c179e"
            ],
            [
             0.4444444444444444,
             "#bd3786"
            ],
            [
             0.5555555555555556,
             "#d8576b"
            ],
            [
             0.6666666666666666,
             "#ed7953"
            ],
            [
             0.7777777777777778,
             "#fb9f3a"
            ],
            [
             0.8888888888888888,
             "#fdca26"
            ],
            [
             1,
             "#f0f921"
            ]
           ]
          },
          "colorway": [
           "#636efa",
           "#EF553B",
           "#00cc96",
           "#ab63fa",
           "#FFA15A",
           "#19d3f3",
           "#FF6692",
           "#B6E880",
           "#FF97FF",
           "#FECB52"
          ],
          "font": {
           "color": "#2a3f5f"
          },
          "geo": {
           "bgcolor": "white",
           "lakecolor": "white",
           "landcolor": "#E5ECF6",
           "showlakes": true,
           "showland": true,
           "subunitcolor": "white"
          },
          "hoverlabel": {
           "align": "left"
          },
          "hovermode": "closest",
          "mapbox": {
           "style": "light"
          },
          "paper_bgcolor": "white",
          "plot_bgcolor": "#E5ECF6",
          "polar": {
           "angularaxis": {
            "gridcolor": "white",
            "linecolor": "white",
            "ticks": ""
           },
           "bgcolor": "#E5ECF6",
           "radialaxis": {
            "gridcolor": "white",
            "linecolor": "white",
            "ticks": ""
           }
          },
          "scene": {
           "xaxis": {
            "backgroundcolor": "#E5ECF6",
            "gridcolor": "white",
            "gridwidth": 2,
            "linecolor": "white",
            "showbackground": true,
            "ticks": "",
            "zerolinecolor": "white"
           },
           "yaxis": {
            "backgroundcolor": "#E5ECF6",
            "gridcolor": "white",
            "gridwidth": 2,
            "linecolor": "white",
            "showbackground": true,
            "ticks": "",
            "zerolinecolor": "white"
           },
           "zaxis": {
            "backgroundcolor": "#E5ECF6",
            "gridcolor": "white",
            "gridwidth": 2,
            "linecolor": "white",
            "showbackground": true,
            "ticks": "",
            "zerolinecolor": "white"
           }
          },
          "shapedefaults": {
           "line": {
            "color": "#2a3f5f"
           }
          },
          "ternary": {
           "aaxis": {
            "gridcolor": "white",
            "linecolor": "white",
            "ticks": ""
           },
           "baxis": {
            "gridcolor": "white",
            "linecolor": "white",
            "ticks": ""
           },
           "bgcolor": "#E5ECF6",
           "caxis": {
            "gridcolor": "white",
            "linecolor": "white",
            "ticks": ""
           }
          },
          "title": {
           "x": 0.05
          },
          "xaxis": {
           "automargin": true,
           "gridcolor": "white",
           "linecolor": "white",
           "ticks": "",
           "title": {
            "standoff": 15
           },
           "zerolinecolor": "white",
           "zerolinewidth": 2
          },
          "yaxis": {
           "automargin": true,
           "gridcolor": "white",
           "linecolor": "white",
           "ticks": "",
           "title": {
            "standoff": 15
           },
           "zerolinecolor": "white",
           "zerolinewidth": 2
          }
         }
        },
        "title": {
         "text": "Churn rate by Dependents"
        },
        "width": 900,
        "xaxis": {
         "anchor": "y",
         "domain": [
          0,
          1
         ],
         "title": {
          "text": "Dependents"
         }
        },
        "yaxis": {
         "anchor": "x",
         "domain": [
          0,
          1
         ],
         "title": {
          "text": "Count"
         }
        }
       }
      }
     },
     "metadata": {},
     "output_type": "display_data"
    }
   ],
   "source": [
    "# Gender feature plot\n",
    "bar_chart(\"gender\")\n",
    "# SeniorCitizen feature plot\n",
    "dts_dtframe.loc[\n",
    "    dts_dtframe.SeniorCitizen == 0, \"SeniorCitizen\"\n",
    "] = \"No\"  # convert 0 to No in all data instances\n",
    "dts_dtframe.loc[\n",
    "    dts_dtframe.SeniorCitizen == 1, \"SeniorCitizen\"\n",
    "] = \"Yes\"  # convert 1 to Yes in all data instances\n",
    "bar_chart(\"SeniorCitizen\")\n",
    "# Partner feature plot\n",
    "bar_chart(\"Partner\")\n",
    "# Dependents feature plot\n",
    "bar_chart(\"Dependents\")"
   ]
  },
  {
   "cell_type": "code",
   "execution_count": 77,
   "id": "08e5e00c-279a-496b-a5e3-0e26e9a5bf29",
   "metadata": {},
   "outputs": [
    {
     "name": "stdout",
     "output_type": "stream",
     "text": [
      "  PhoneService Churn     0\n",
      "0           No    No   512\n",
      "1           No   Yes   170\n",
      "2          Yes    No  4662\n",
      "3          Yes   Yes  1699\n",
      "  PhoneService Churn  Count\n",
      "0           No    No    512\n",
      "1           No   Yes    170\n",
      "2          Yes    No   4662\n",
      "3          Yes   Yes   1699\n",
      "  index  PhoneService\n",
      "0   Yes          6361\n",
      "1    No           682\n",
      "['Yes', 'No']\n",
      "[6361, 682]\n",
      "[0.9031662643759761, 0.09683373562402385]\n",
      "[90.3, 9.7]\n",
      "[90.3, 9.7]\n",
      "2\n",
      "['Yes', 'No']\n",
      "2\n"
     ]
    },
    {
     "data": {
      "application/vnd.plotly.v1+json": {
       "config": {
        "plotlyServerURL": "https://plot.ly"
       },
       "data": [
        {
         "alignmentgroup": "True",
         "hovertemplate": "Churn=No<br>PhoneService=%{x}<br>Count=%{y}<extra></extra>",
         "legendgroup": "No",
         "marker": {
          "color": "blue",
          "pattern": {
           "shape": ""
          }
         },
         "name": "No",
         "offsetgroup": "No",
         "orientation": "v",
         "showlegend": true,
         "textposition": "auto",
         "type": "bar",
         "x": [
          "No",
          "Yes"
         ],
         "xaxis": "x",
         "y": [
          512,
          4662
         ],
         "yaxis": "y"
        },
        {
         "alignmentgroup": "True",
         "hovertemplate": "Churn=Yes<br>PhoneService=%{x}<br>Count=%{y}<extra></extra>",
         "legendgroup": "Yes",
         "marker": {
          "color": "red",
          "pattern": {
           "shape": ""
          }
         },
         "name": "Yes",
         "offsetgroup": "Yes",
         "orientation": "v",
         "showlegend": true,
         "textposition": "auto",
         "type": "bar",
         "x": [
          "No",
          "Yes"
         ],
         "xaxis": "x",
         "y": [
          170,
          1699
         ],
         "yaxis": "y"
        }
       ],
       "layout": {
        "annotations": [
         {
          "align": "left",
          "bordercolor": "black",
          "borderwidth": 1,
          "showarrow": false,
          "text": "Value count of distribution of Yes & No are<br>90.3% & 9.7% percentage respectively.",
          "x": 1,
          "xref": "paper",
          "y": 1.3,
          "yref": "paper"
         }
        ],
        "barmode": "group",
        "legend": {
         "title": {
          "text": "Churn"
         },
         "tracegroupgap": 0
        },
        "template": {
         "data": {
          "bar": [
           {
            "error_x": {
             "color": "#2a3f5f"
            },
            "error_y": {
             "color": "#2a3f5f"
            },
            "marker": {
             "line": {
              "color": "#E5ECF6",
              "width": 0.5
             },
             "pattern": {
              "fillmode": "overlay",
              "size": 10,
              "solidity": 0.2
             }
            },
            "type": "bar"
           }
          ],
          "barpolar": [
           {
            "marker": {
             "line": {
              "color": "#E5ECF6",
              "width": 0.5
             },
             "pattern": {
              "fillmode": "overlay",
              "size": 10,
              "solidity": 0.2
             }
            },
            "type": "barpolar"
           }
          ],
          "carpet": [
           {
            "aaxis": {
             "endlinecolor": "#2a3f5f",
             "gridcolor": "white",
             "linecolor": "white",
             "minorgridcolor": "white",
             "startlinecolor": "#2a3f5f"
            },
            "baxis": {
             "endlinecolor": "#2a3f5f",
             "gridcolor": "white",
             "linecolor": "white",
             "minorgridcolor": "white",
             "startlinecolor": "#2a3f5f"
            },
            "type": "carpet"
           }
          ],
          "choropleth": [
           {
            "colorbar": {
             "outlinewidth": 0,
             "ticks": ""
            },
            "type": "choropleth"
           }
          ],
          "contour": [
           {
            "colorbar": {
             "outlinewidth": 0,
             "ticks": ""
            },
            "colorscale": [
             [
              0,
              "#0d0887"
             ],
             [
              0.1111111111111111,
              "#46039f"
             ],
             [
              0.2222222222222222,
              "#7201a8"
             ],
             [
              0.3333333333333333,
              "#9c179e"
             ],
             [
              0.4444444444444444,
              "#bd3786"
             ],
             [
              0.5555555555555556,
              "#d8576b"
             ],
             [
              0.6666666666666666,
              "#ed7953"
             ],
             [
              0.7777777777777778,
              "#fb9f3a"
             ],
             [
              0.8888888888888888,
              "#fdca26"
             ],
             [
              1,
              "#f0f921"
             ]
            ],
            "type": "contour"
           }
          ],
          "contourcarpet": [
           {
            "colorbar": {
             "outlinewidth": 0,
             "ticks": ""
            },
            "type": "contourcarpet"
           }
          ],
          "heatmap": [
           {
            "colorbar": {
             "outlinewidth": 0,
             "ticks": ""
            },
            "colorscale": [
             [
              0,
              "#0d0887"
             ],
             [
              0.1111111111111111,
              "#46039f"
             ],
             [
              0.2222222222222222,
              "#7201a8"
             ],
             [
              0.3333333333333333,
              "#9c179e"
             ],
             [
              0.4444444444444444,
              "#bd3786"
             ],
             [
              0.5555555555555556,
              "#d8576b"
             ],
             [
              0.6666666666666666,
              "#ed7953"
             ],
             [
              0.7777777777777778,
              "#fb9f3a"
             ],
             [
              0.8888888888888888,
              "#fdca26"
             ],
             [
              1,
              "#f0f921"
             ]
            ],
            "type": "heatmap"
           }
          ],
          "heatmapgl": [
           {
            "colorbar": {
             "outlinewidth": 0,
             "ticks": ""
            },
            "colorscale": [
             [
              0,
              "#0d0887"
             ],
             [
              0.1111111111111111,
              "#46039f"
             ],
             [
              0.2222222222222222,
              "#7201a8"
             ],
             [
              0.3333333333333333,
              "#9c179e"
             ],
             [
              0.4444444444444444,
              "#bd3786"
             ],
             [
              0.5555555555555556,
              "#d8576b"
             ],
             [
              0.6666666666666666,
              "#ed7953"
             ],
             [
              0.7777777777777778,
              "#fb9f3a"
             ],
             [
              0.8888888888888888,
              "#fdca26"
             ],
             [
              1,
              "#f0f921"
             ]
            ],
            "type": "heatmapgl"
           }
          ],
          "histogram": [
           {
            "marker": {
             "pattern": {
              "fillmode": "overlay",
              "size": 10,
              "solidity": 0.2
             }
            },
            "type": "histogram"
           }
          ],
          "histogram2d": [
           {
            "colorbar": {
             "outlinewidth": 0,
             "ticks": ""
            },
            "colorscale": [
             [
              0,
              "#0d0887"
             ],
             [
              0.1111111111111111,
              "#46039f"
             ],
             [
              0.2222222222222222,
              "#7201a8"
             ],
             [
              0.3333333333333333,
              "#9c179e"
             ],
             [
              0.4444444444444444,
              "#bd3786"
             ],
             [
              0.5555555555555556,
              "#d8576b"
             ],
             [
              0.6666666666666666,
              "#ed7953"
             ],
             [
              0.7777777777777778,
              "#fb9f3a"
             ],
             [
              0.8888888888888888,
              "#fdca26"
             ],
             [
              1,
              "#f0f921"
             ]
            ],
            "type": "histogram2d"
           }
          ],
          "histogram2dcontour": [
           {
            "colorbar": {
             "outlinewidth": 0,
             "ticks": ""
            },
            "colorscale": [
             [
              0,
              "#0d0887"
             ],
             [
              0.1111111111111111,
              "#46039f"
             ],
             [
              0.2222222222222222,
              "#7201a8"
             ],
             [
              0.3333333333333333,
              "#9c179e"
             ],
             [
              0.4444444444444444,
              "#bd3786"
             ],
             [
              0.5555555555555556,
              "#d8576b"
             ],
             [
              0.6666666666666666,
              "#ed7953"
             ],
             [
              0.7777777777777778,
              "#fb9f3a"
             ],
             [
              0.8888888888888888,
              "#fdca26"
             ],
             [
              1,
              "#f0f921"
             ]
            ],
            "type": "histogram2dcontour"
           }
          ],
          "mesh3d": [
           {
            "colorbar": {
             "outlinewidth": 0,
             "ticks": ""
            },
            "type": "mesh3d"
           }
          ],
          "parcoords": [
           {
            "line": {
             "colorbar": {
              "outlinewidth": 0,
              "ticks": ""
             }
            },
            "type": "parcoords"
           }
          ],
          "pie": [
           {
            "automargin": true,
            "type": "pie"
           }
          ],
          "scatter": [
           {
            "marker": {
             "colorbar": {
              "outlinewidth": 0,
              "ticks": ""
             }
            },
            "type": "scatter"
           }
          ],
          "scatter3d": [
           {
            "line": {
             "colorbar": {
              "outlinewidth": 0,
              "ticks": ""
             }
            },
            "marker": {
             "colorbar": {
              "outlinewidth": 0,
              "ticks": ""
             }
            },
            "type": "scatter3d"
           }
          ],
          "scattercarpet": [
           {
            "marker": {
             "colorbar": {
              "outlinewidth": 0,
              "ticks": ""
             }
            },
            "type": "scattercarpet"
           }
          ],
          "scattergeo": [
           {
            "marker": {
             "colorbar": {
              "outlinewidth": 0,
              "ticks": ""
             }
            },
            "type": "scattergeo"
           }
          ],
          "scattergl": [
           {
            "marker": {
             "colorbar": {
              "outlinewidth": 0,
              "ticks": ""
             }
            },
            "type": "scattergl"
           }
          ],
          "scattermapbox": [
           {
            "marker": {
             "colorbar": {
              "outlinewidth": 0,
              "ticks": ""
             }
            },
            "type": "scattermapbox"
           }
          ],
          "scatterpolar": [
           {
            "marker": {
             "colorbar": {
              "outlinewidth": 0,
              "ticks": ""
             }
            },
            "type": "scatterpolar"
           }
          ],
          "scatterpolargl": [
           {
            "marker": {
             "colorbar": {
              "outlinewidth": 0,
              "ticks": ""
             }
            },
            "type": "scatterpolargl"
           }
          ],
          "scatterternary": [
           {
            "marker": {
             "colorbar": {
              "outlinewidth": 0,
              "ticks": ""
             }
            },
            "type": "scatterternary"
           }
          ],
          "surface": [
           {
            "colorbar": {
             "outlinewidth": 0,
             "ticks": ""
            },
            "colorscale": [
             [
              0,
              "#0d0887"
             ],
             [
              0.1111111111111111,
              "#46039f"
             ],
             [
              0.2222222222222222,
              "#7201a8"
             ],
             [
              0.3333333333333333,
              "#9c179e"
             ],
             [
              0.4444444444444444,
              "#bd3786"
             ],
             [
              0.5555555555555556,
              "#d8576b"
             ],
             [
              0.6666666666666666,
              "#ed7953"
             ],
             [
              0.7777777777777778,
              "#fb9f3a"
             ],
             [
              0.8888888888888888,
              "#fdca26"
             ],
             [
              1,
              "#f0f921"
             ]
            ],
            "type": "surface"
           }
          ],
          "table": [
           {
            "cells": {
             "fill": {
              "color": "#EBF0F8"
             },
             "line": {
              "color": "white"
             }
            },
            "header": {
             "fill": {
              "color": "#C8D4E3"
             },
             "line": {
              "color": "white"
             }
            },
            "type": "table"
           }
          ]
         },
         "layout": {
          "annotationdefaults": {
           "arrowcolor": "#2a3f5f",
           "arrowhead": 0,
           "arrowwidth": 1
          },
          "autotypenumbers": "strict",
          "coloraxis": {
           "colorbar": {
            "outlinewidth": 0,
            "ticks": ""
           }
          },
          "colorscale": {
           "diverging": [
            [
             0,
             "#8e0152"
            ],
            [
             0.1,
             "#c51b7d"
            ],
            [
             0.2,
             "#de77ae"
            ],
            [
             0.3,
             "#f1b6da"
            ],
            [
             0.4,
             "#fde0ef"
            ],
            [
             0.5,
             "#f7f7f7"
            ],
            [
             0.6,
             "#e6f5d0"
            ],
            [
             0.7,
             "#b8e186"
            ],
            [
             0.8,
             "#7fbc41"
            ],
            [
             0.9,
             "#4d9221"
            ],
            [
             1,
             "#276419"
            ]
           ],
           "sequential": [
            [
             0,
             "#0d0887"
            ],
            [
             0.1111111111111111,
             "#46039f"
            ],
            [
             0.2222222222222222,
             "#7201a8"
            ],
            [
             0.3333333333333333,
             "#9c179e"
            ],
            [
             0.4444444444444444,
             "#bd3786"
            ],
            [
             0.5555555555555556,
             "#d8576b"
            ],
            [
             0.6666666666666666,
             "#ed7953"
            ],
            [
             0.7777777777777778,
             "#fb9f3a"
            ],
            [
             0.8888888888888888,
             "#fdca26"
            ],
            [
             1,
             "#f0f921"
            ]
           ],
           "sequentialminus": [
            [
             0,
             "#0d0887"
            ],
            [
             0.1111111111111111,
             "#46039f"
            ],
            [
             0.2222222222222222,
             "#7201a8"
            ],
            [
             0.3333333333333333,
             "#9c179e"
            ],
            [
             0.4444444444444444,
             "#bd3786"
            ],
            [
             0.5555555555555556,
             "#d8576b"
            ],
            [
             0.6666666666666666,
             "#ed7953"
            ],
            [
             0.7777777777777778,
             "#fb9f3a"
            ],
            [
             0.8888888888888888,
             "#fdca26"
            ],
            [
             1,
             "#f0f921"
            ]
           ]
          },
          "colorway": [
           "#636efa",
           "#EF553B",
           "#00cc96",
           "#ab63fa",
           "#FFA15A",
           "#19d3f3",
           "#FF6692",
           "#B6E880",
           "#FF97FF",
           "#FECB52"
          ],
          "font": {
           "color": "#2a3f5f"
          },
          "geo": {
           "bgcolor": "white",
           "lakecolor": "white",
           "landcolor": "#E5ECF6",
           "showlakes": true,
           "showland": true,
           "subunitcolor": "white"
          },
          "hoverlabel": {
           "align": "left"
          },
          "hovermode": "closest",
          "mapbox": {
           "style": "light"
          },
          "paper_bgcolor": "white",
          "plot_bgcolor": "#E5ECF6",
          "polar": {
           "angularaxis": {
            "gridcolor": "white",
            "linecolor": "white",
            "ticks": ""
           },
           "bgcolor": "#E5ECF6",
           "radialaxis": {
            "gridcolor": "white",
            "linecolor": "white",
            "ticks": ""
           }
          },
          "scene": {
           "xaxis": {
            "backgroundcolor": "#E5ECF6",
            "gridcolor": "white",
            "gridwidth": 2,
            "linecolor": "white",
            "showbackground": true,
            "ticks": "",
            "zerolinecolor": "white"
           },
           "yaxis": {
            "backgroundcolor": "#E5ECF6",
            "gridcolor": "white",
            "gridwidth": 2,
            "linecolor": "white",
            "showbackground": true,
            "ticks": "",
            "zerolinecolor": "white"
           },
           "zaxis": {
            "backgroundcolor": "#E5ECF6",
            "gridcolor": "white",
            "gridwidth": 2,
            "linecolor": "white",
            "showbackground": true,
            "ticks": "",
            "zerolinecolor": "white"
           }
          },
          "shapedefaults": {
           "line": {
            "color": "#2a3f5f"
           }
          },
          "ternary": {
           "aaxis": {
            "gridcolor": "white",
            "linecolor": "white",
            "ticks": ""
           },
           "baxis": {
            "gridcolor": "white",
            "linecolor": "white",
            "ticks": ""
           },
           "bgcolor": "#E5ECF6",
           "caxis": {
            "gridcolor": "white",
            "linecolor": "white",
            "ticks": ""
           }
          },
          "title": {
           "x": 0.05
          },
          "xaxis": {
           "automargin": true,
           "gridcolor": "white",
           "linecolor": "white",
           "ticks": "",
           "title": {
            "standoff": 15
           },
           "zerolinecolor": "white",
           "zerolinewidth": 2
          },
          "yaxis": {
           "automargin": true,
           "gridcolor": "white",
           "linecolor": "white",
           "ticks": "",
           "title": {
            "standoff": 15
           },
           "zerolinecolor": "white",
           "zerolinewidth": 2
          }
         }
        },
        "title": {
         "text": "Churn rate by PhoneService"
        },
        "width": 900,
        "xaxis": {
         "anchor": "y",
         "domain": [
          0,
          1
         ],
         "title": {
          "text": "PhoneService"
         }
        },
        "yaxis": {
         "anchor": "x",
         "domain": [
          0,
          1
         ],
         "title": {
          "text": "Count"
         }
        }
       }
      }
     },
     "metadata": {},
     "output_type": "display_data"
    },
    {
     "name": "stdout",
     "output_type": "stream",
     "text": [
      "      MultipleLines Churn     0\n",
      "0                No    No  2541\n",
      "1                No   Yes   849\n",
      "2  No phone service    No   512\n",
      "3  No phone service   Yes   170\n",
      "4               Yes    No  2121\n",
      "5               Yes   Yes   850\n",
      "      MultipleLines Churn  Count\n",
      "0                No    No   2541\n",
      "1                No   Yes    849\n",
      "2  No phone service    No    512\n",
      "3  No phone service   Yes    170\n",
      "4               Yes    No   2121\n",
      "5               Yes   Yes    850\n",
      "              index  MultipleLines\n",
      "0                No           3390\n",
      "1               Yes           2971\n",
      "2  No phone service            682\n",
      "['No', 'Yes', 'No phone service']\n",
      "[3390, 2971, 682]\n",
      "[0.48132897912821243, 0.42183728524776376, 0.09683373562402385]\n",
      "[48.1, 42.2, 9.7]\n",
      "[48.1, 42.2, 9.7]\n",
      "3\n",
      "['No', 'Yes', 'No phone service']\n",
      "3\n"
     ]
    },
    {
     "data": {
      "application/vnd.plotly.v1+json": {
       "config": {
        "plotlyServerURL": "https://plot.ly"
       },
       "data": [
        {
         "alignmentgroup": "True",
         "hovertemplate": "Churn=No<br>MultipleLines=%{x}<br>Count=%{y}<extra></extra>",
         "legendgroup": "No",
         "marker": {
          "color": "blue",
          "pattern": {
           "shape": ""
          }
         },
         "name": "No",
         "offsetgroup": "No",
         "orientation": "v",
         "showlegend": true,
         "textposition": "auto",
         "type": "bar",
         "x": [
          "No",
          "No phone service",
          "Yes"
         ],
         "xaxis": "x",
         "y": [
          2541,
          512,
          2121
         ],
         "yaxis": "y"
        },
        {
         "alignmentgroup": "True",
         "hovertemplate": "Churn=Yes<br>MultipleLines=%{x}<br>Count=%{y}<extra></extra>",
         "legendgroup": "Yes",
         "marker": {
          "color": "red",
          "pattern": {
           "shape": ""
          }
         },
         "name": "Yes",
         "offsetgroup": "Yes",
         "orientation": "v",
         "showlegend": true,
         "textposition": "auto",
         "type": "bar",
         "x": [
          "No",
          "No phone service",
          "Yes"
         ],
         "xaxis": "x",
         "y": [
          849,
          170,
          850
         ],
         "yaxis": "y"
        }
       ],
       "layout": {
        "annotations": [
         {
          "align": "left",
          "bordercolor": "black",
          "borderwidth": 1,
          "showarrow": false,
          "text": "Value count of distribution of No, Yes & No phone service are<br>48.1%, 42.2% & 9.7% percentage respectively.",
          "x": 1,
          "xref": "paper",
          "y": 1.3,
          "yref": "paper"
         }
        ],
        "barmode": "group",
        "legend": {
         "title": {
          "text": "Churn"
         },
         "tracegroupgap": 0
        },
        "template": {
         "data": {
          "bar": [
           {
            "error_x": {
             "color": "#2a3f5f"
            },
            "error_y": {
             "color": "#2a3f5f"
            },
            "marker": {
             "line": {
              "color": "#E5ECF6",
              "width": 0.5
             },
             "pattern": {
              "fillmode": "overlay",
              "size": 10,
              "solidity": 0.2
             }
            },
            "type": "bar"
           }
          ],
          "barpolar": [
           {
            "marker": {
             "line": {
              "color": "#E5ECF6",
              "width": 0.5
             },
             "pattern": {
              "fillmode": "overlay",
              "size": 10,
              "solidity": 0.2
             }
            },
            "type": "barpolar"
           }
          ],
          "carpet": [
           {
            "aaxis": {
             "endlinecolor": "#2a3f5f",
             "gridcolor": "white",
             "linecolor": "white",
             "minorgridcolor": "white",
             "startlinecolor": "#2a3f5f"
            },
            "baxis": {
             "endlinecolor": "#2a3f5f",
             "gridcolor": "white",
             "linecolor": "white",
             "minorgridcolor": "white",
             "startlinecolor": "#2a3f5f"
            },
            "type": "carpet"
           }
          ],
          "choropleth": [
           {
            "colorbar": {
             "outlinewidth": 0,
             "ticks": ""
            },
            "type": "choropleth"
           }
          ],
          "contour": [
           {
            "colorbar": {
             "outlinewidth": 0,
             "ticks": ""
            },
            "colorscale": [
             [
              0,
              "#0d0887"
             ],
             [
              0.1111111111111111,
              "#46039f"
             ],
             [
              0.2222222222222222,
              "#7201a8"
             ],
             [
              0.3333333333333333,
              "#9c179e"
             ],
             [
              0.4444444444444444,
              "#bd3786"
             ],
             [
              0.5555555555555556,
              "#d8576b"
             ],
             [
              0.6666666666666666,
              "#ed7953"
             ],
             [
              0.7777777777777778,
              "#fb9f3a"
             ],
             [
              0.8888888888888888,
              "#fdca26"
             ],
             [
              1,
              "#f0f921"
             ]
            ],
            "type": "contour"
           }
          ],
          "contourcarpet": [
           {
            "colorbar": {
             "outlinewidth": 0,
             "ticks": ""
            },
            "type": "contourcarpet"
           }
          ],
          "heatmap": [
           {
            "colorbar": {
             "outlinewidth": 0,
             "ticks": ""
            },
            "colorscale": [
             [
              0,
              "#0d0887"
             ],
             [
              0.1111111111111111,
              "#46039f"
             ],
             [
              0.2222222222222222,
              "#7201a8"
             ],
             [
              0.3333333333333333,
              "#9c179e"
             ],
             [
              0.4444444444444444,
              "#bd3786"
             ],
             [
              0.5555555555555556,
              "#d8576b"
             ],
             [
              0.6666666666666666,
              "#ed7953"
             ],
             [
              0.7777777777777778,
              "#fb9f3a"
             ],
             [
              0.8888888888888888,
              "#fdca26"
             ],
             [
              1,
              "#f0f921"
             ]
            ],
            "type": "heatmap"
           }
          ],
          "heatmapgl": [
           {
            "colorbar": {
             "outlinewidth": 0,
             "ticks": ""
            },
            "colorscale": [
             [
              0,
              "#0d0887"
             ],
             [
              0.1111111111111111,
              "#46039f"
             ],
             [
              0.2222222222222222,
              "#7201a8"
             ],
             [
              0.3333333333333333,
              "#9c179e"
             ],
             [
              0.4444444444444444,
              "#bd3786"
             ],
             [
              0.5555555555555556,
              "#d8576b"
             ],
             [
              0.6666666666666666,
              "#ed7953"
             ],
             [
              0.7777777777777778,
              "#fb9f3a"
             ],
             [
              0.8888888888888888,
              "#fdca26"
             ],
             [
              1,
              "#f0f921"
             ]
            ],
            "type": "heatmapgl"
           }
          ],
          "histogram": [
           {
            "marker": {
             "pattern": {
              "fillmode": "overlay",
              "size": 10,
              "solidity": 0.2
             }
            },
            "type": "histogram"
           }
          ],
          "histogram2d": [
           {
            "colorbar": {
             "outlinewidth": 0,
             "ticks": ""
            },
            "colorscale": [
             [
              0,
              "#0d0887"
             ],
             [
              0.1111111111111111,
              "#46039f"
             ],
             [
              0.2222222222222222,
              "#7201a8"
             ],
             [
              0.3333333333333333,
              "#9c179e"
             ],
             [
              0.4444444444444444,
              "#bd3786"
             ],
             [
              0.5555555555555556,
              "#d8576b"
             ],
             [
              0.6666666666666666,
              "#ed7953"
             ],
             [
              0.7777777777777778,
              "#fb9f3a"
             ],
             [
              0.8888888888888888,
              "#fdca26"
             ],
             [
              1,
              "#f0f921"
             ]
            ],
            "type": "histogram2d"
           }
          ],
          "histogram2dcontour": [
           {
            "colorbar": {
             "outlinewidth": 0,
             "ticks": ""
            },
            "colorscale": [
             [
              0,
              "#0d0887"
             ],
             [
              0.1111111111111111,
              "#46039f"
             ],
             [
              0.2222222222222222,
              "#7201a8"
             ],
             [
              0.3333333333333333,
              "#9c179e"
             ],
             [
              0.4444444444444444,
              "#bd3786"
             ],
             [
              0.5555555555555556,
              "#d8576b"
             ],
             [
              0.6666666666666666,
              "#ed7953"
             ],
             [
              0.7777777777777778,
              "#fb9f3a"
             ],
             [
              0.8888888888888888,
              "#fdca26"
             ],
             [
              1,
              "#f0f921"
             ]
            ],
            "type": "histogram2dcontour"
           }
          ],
          "mesh3d": [
           {
            "colorbar": {
             "outlinewidth": 0,
             "ticks": ""
            },
            "type": "mesh3d"
           }
          ],
          "parcoords": [
           {
            "line": {
             "colorbar": {
              "outlinewidth": 0,
              "ticks": ""
             }
            },
            "type": "parcoords"
           }
          ],
          "pie": [
           {
            "automargin": true,
            "type": "pie"
           }
          ],
          "scatter": [
           {
            "marker": {
             "colorbar": {
              "outlinewidth": 0,
              "ticks": ""
             }
            },
            "type": "scatter"
           }
          ],
          "scatter3d": [
           {
            "line": {
             "colorbar": {
              "outlinewidth": 0,
              "ticks": ""
             }
            },
            "marker": {
             "colorbar": {
              "outlinewidth": 0,
              "ticks": ""
             }
            },
            "type": "scatter3d"
           }
          ],
          "scattercarpet": [
           {
            "marker": {
             "colorbar": {
              "outlinewidth": 0,
              "ticks": ""
             }
            },
            "type": "scattercarpet"
           }
          ],
          "scattergeo": [
           {
            "marker": {
             "colorbar": {
              "outlinewidth": 0,
              "ticks": ""
             }
            },
            "type": "scattergeo"
           }
          ],
          "scattergl": [
           {
            "marker": {
             "colorbar": {
              "outlinewidth": 0,
              "ticks": ""
             }
            },
            "type": "scattergl"
           }
          ],
          "scattermapbox": [
           {
            "marker": {
             "colorbar": {
              "outlinewidth": 0,
              "ticks": ""
             }
            },
            "type": "scattermapbox"
           }
          ],
          "scatterpolar": [
           {
            "marker": {
             "colorbar": {
              "outlinewidth": 0,
              "ticks": ""
             }
            },
            "type": "scatterpolar"
           }
          ],
          "scatterpolargl": [
           {
            "marker": {
             "colorbar": {
              "outlinewidth": 0,
              "ticks": ""
             }
            },
            "type": "scatterpolargl"
           }
          ],
          "scatterternary": [
           {
            "marker": {
             "colorbar": {
              "outlinewidth": 0,
              "ticks": ""
             }
            },
            "type": "scatterternary"
           }
          ],
          "surface": [
           {
            "colorbar": {
             "outlinewidth": 0,
             "ticks": ""
            },
            "colorscale": [
             [
              0,
              "#0d0887"
             ],
             [
              0.1111111111111111,
              "#46039f"
             ],
             [
              0.2222222222222222,
              "#7201a8"
             ],
             [
              0.3333333333333333,
              "#9c179e"
             ],
             [
              0.4444444444444444,
              "#bd3786"
             ],
             [
              0.5555555555555556,
              "#d8576b"
             ],
             [
              0.6666666666666666,
              "#ed7953"
             ],
             [
              0.7777777777777778,
              "#fb9f3a"
             ],
             [
              0.8888888888888888,
              "#fdca26"
             ],
             [
              1,
              "#f0f921"
             ]
            ],
            "type": "surface"
           }
          ],
          "table": [
           {
            "cells": {
             "fill": {
              "color": "#EBF0F8"
             },
             "line": {
              "color": "white"
             }
            },
            "header": {
             "fill": {
              "color": "#C8D4E3"
             },
             "line": {
              "color": "white"
             }
            },
            "type": "table"
           }
          ]
         },
         "layout": {
          "annotationdefaults": {
           "arrowcolor": "#2a3f5f",
           "arrowhead": 0,
           "arrowwidth": 1
          },
          "autotypenumbers": "strict",
          "coloraxis": {
           "colorbar": {
            "outlinewidth": 0,
            "ticks": ""
           }
          },
          "colorscale": {
           "diverging": [
            [
             0,
             "#8e0152"
            ],
            [
             0.1,
             "#c51b7d"
            ],
            [
             0.2,
             "#de77ae"
            ],
            [
             0.3,
             "#f1b6da"
            ],
            [
             0.4,
             "#fde0ef"
            ],
            [
             0.5,
             "#f7f7f7"
            ],
            [
             0.6,
             "#e6f5d0"
            ],
            [
             0.7,
             "#b8e186"
            ],
            [
             0.8,
             "#7fbc41"
            ],
            [
             0.9,
             "#4d9221"
            ],
            [
             1,
             "#276419"
            ]
           ],
           "sequential": [
            [
             0,
             "#0d0887"
            ],
            [
             0.1111111111111111,
             "#46039f"
            ],
            [
             0.2222222222222222,
             "#7201a8"
            ],
            [
             0.3333333333333333,
             "#9c179e"
            ],
            [
             0.4444444444444444,
             "#bd3786"
            ],
            [
             0.5555555555555556,
             "#d8576b"
            ],
            [
             0.6666666666666666,
             "#ed7953"
            ],
            [
             0.7777777777777778,
             "#fb9f3a"
            ],
            [
             0.8888888888888888,
             "#fdca26"
            ],
            [
             1,
             "#f0f921"
            ]
           ],
           "sequentialminus": [
            [
             0,
             "#0d0887"
            ],
            [
             0.1111111111111111,
             "#46039f"
            ],
            [
             0.2222222222222222,
             "#7201a8"
            ],
            [
             0.3333333333333333,
             "#9c179e"
            ],
            [
             0.4444444444444444,
             "#bd3786"
            ],
            [
             0.5555555555555556,
             "#d8576b"
            ],
            [
             0.6666666666666666,
             "#ed7953"
            ],
            [
             0.7777777777777778,
             "#fb9f3a"
            ],
            [
             0.8888888888888888,
             "#fdca26"
            ],
            [
             1,
             "#f0f921"
            ]
           ]
          },
          "colorway": [
           "#636efa",
           "#EF553B",
           "#00cc96",
           "#ab63fa",
           "#FFA15A",
           "#19d3f3",
           "#FF6692",
           "#B6E880",
           "#FF97FF",
           "#FECB52"
          ],
          "font": {
           "color": "#2a3f5f"
          },
          "geo": {
           "bgcolor": "white",
           "lakecolor": "white",
           "landcolor": "#E5ECF6",
           "showlakes": true,
           "showland": true,
           "subunitcolor": "white"
          },
          "hoverlabel": {
           "align": "left"
          },
          "hovermode": "closest",
          "mapbox": {
           "style": "light"
          },
          "paper_bgcolor": "white",
          "plot_bgcolor": "#E5ECF6",
          "polar": {
           "angularaxis": {
            "gridcolor": "white",
            "linecolor": "white",
            "ticks": ""
           },
           "bgcolor": "#E5ECF6",
           "radialaxis": {
            "gridcolor": "white",
            "linecolor": "white",
            "ticks": ""
           }
          },
          "scene": {
           "xaxis": {
            "backgroundcolor": "#E5ECF6",
            "gridcolor": "white",
            "gridwidth": 2,
            "linecolor": "white",
            "showbackground": true,
            "ticks": "",
            "zerolinecolor": "white"
           },
           "yaxis": {
            "backgroundcolor": "#E5ECF6",
            "gridcolor": "white",
            "gridwidth": 2,
            "linecolor": "white",
            "showbackground": true,
            "ticks": "",
            "zerolinecolor": "white"
           },
           "zaxis": {
            "backgroundcolor": "#E5ECF6",
            "gridcolor": "white",
            "gridwidth": 2,
            "linecolor": "white",
            "showbackground": true,
            "ticks": "",
            "zerolinecolor": "white"
           }
          },
          "shapedefaults": {
           "line": {
            "color": "#2a3f5f"
           }
          },
          "ternary": {
           "aaxis": {
            "gridcolor": "white",
            "linecolor": "white",
            "ticks": ""
           },
           "baxis": {
            "gridcolor": "white",
            "linecolor": "white",
            "ticks": ""
           },
           "bgcolor": "#E5ECF6",
           "caxis": {
            "gridcolor": "white",
            "linecolor": "white",
            "ticks": ""
           }
          },
          "title": {
           "x": 0.05
          },
          "xaxis": {
           "automargin": true,
           "gridcolor": "white",
           "linecolor": "white",
           "ticks": "",
           "title": {
            "standoff": 15
           },
           "zerolinecolor": "white",
           "zerolinewidth": 2
          },
          "yaxis": {
           "automargin": true,
           "gridcolor": "white",
           "linecolor": "white",
           "ticks": "",
           "title": {
            "standoff": 15
           },
           "zerolinecolor": "white",
           "zerolinewidth": 2
          }
         }
        },
        "title": {
         "text": "Churn rate by MultipleLines"
        },
        "width": 900,
        "xaxis": {
         "anchor": "y",
         "domain": [
          0,
          1
         ],
         "title": {
          "text": "MultipleLines"
         }
        },
        "yaxis": {
         "anchor": "x",
         "domain": [
          0,
          1
         ],
         "title": {
          "text": "Count"
         }
        }
       }
      }
     },
     "metadata": {},
     "output_type": "display_data"
    },
    {
     "name": "stdout",
     "output_type": "stream",
     "text": [
      "  InternetService Churn     0\n",
      "0             DSL    No  1962\n",
      "1             DSL   Yes   459\n",
      "2     Fiber optic    No  1799\n",
      "3     Fiber optic   Yes  1297\n",
      "4              No    No  1413\n",
      "5              No   Yes   113\n",
      "  InternetService Churn  Count\n",
      "0             DSL    No   1962\n",
      "1             DSL   Yes    459\n",
      "2     Fiber optic    No   1799\n",
      "3     Fiber optic   Yes   1297\n",
      "4              No    No   1413\n",
      "5              No   Yes    113\n",
      "         index  InternetService\n",
      "0  Fiber optic             3096\n",
      "1          DSL             2421\n",
      "2           No             1526\n",
      "['Fiber optic', 'DSL', 'No']\n",
      "[3096, 2421, 1526]\n",
      "[0.4395854039471816, 0.34374556297032516, 0.21666903308249325]\n",
      "[44.0, 34.4, 21.7]\n",
      "[44.0, 34.4, 21.7]\n",
      "3\n",
      "['Fiber optic', 'DSL', 'No']\n",
      "3\n"
     ]
    },
    {
     "data": {
      "application/vnd.plotly.v1+json": {
       "config": {
        "plotlyServerURL": "https://plot.ly"
       },
       "data": [
        {
         "alignmentgroup": "True",
         "hovertemplate": "Churn=No<br>InternetService=%{x}<br>Count=%{y}<extra></extra>",
         "legendgroup": "No",
         "marker": {
          "color": "blue",
          "pattern": {
           "shape": ""
          }
         },
         "name": "No",
         "offsetgroup": "No",
         "orientation": "v",
         "showlegend": true,
         "textposition": "auto",
         "type": "bar",
         "x": [
          "DSL",
          "Fiber optic",
          "No"
         ],
         "xaxis": "x",
         "y": [
          1962,
          1799,
          1413
         ],
         "yaxis": "y"
        },
        {
         "alignmentgroup": "True",
         "hovertemplate": "Churn=Yes<br>InternetService=%{x}<br>Count=%{y}<extra></extra>",
         "legendgroup": "Yes",
         "marker": {
          "color": "red",
          "pattern": {
           "shape": ""
          }
         },
         "name": "Yes",
         "offsetgroup": "Yes",
         "orientation": "v",
         "showlegend": true,
         "textposition": "auto",
         "type": "bar",
         "x": [
          "DSL",
          "Fiber optic",
          "No"
         ],
         "xaxis": "x",
         "y": [
          459,
          1297,
          113
         ],
         "yaxis": "y"
        }
       ],
       "layout": {
        "annotations": [
         {
          "align": "left",
          "bordercolor": "black",
          "borderwidth": 1,
          "showarrow": false,
          "text": "Value count of distribution of Fiber optic, DSL & No are<br>44.0%, 34.4% & 21.7% percentage respectively.",
          "x": 1,
          "xref": "paper",
          "y": 1.3,
          "yref": "paper"
         }
        ],
        "barmode": "group",
        "legend": {
         "title": {
          "text": "Churn"
         },
         "tracegroupgap": 0
        },
        "template": {
         "data": {
          "bar": [
           {
            "error_x": {
             "color": "#2a3f5f"
            },
            "error_y": {
             "color": "#2a3f5f"
            },
            "marker": {
             "line": {
              "color": "#E5ECF6",
              "width": 0.5
             },
             "pattern": {
              "fillmode": "overlay",
              "size": 10,
              "solidity": 0.2
             }
            },
            "type": "bar"
           }
          ],
          "barpolar": [
           {
            "marker": {
             "line": {
              "color": "#E5ECF6",
              "width": 0.5
             },
             "pattern": {
              "fillmode": "overlay",
              "size": 10,
              "solidity": 0.2
             }
            },
            "type": "barpolar"
           }
          ],
          "carpet": [
           {
            "aaxis": {
             "endlinecolor": "#2a3f5f",
             "gridcolor": "white",
             "linecolor": "white",
             "minorgridcolor": "white",
             "startlinecolor": "#2a3f5f"
            },
            "baxis": {
             "endlinecolor": "#2a3f5f",
             "gridcolor": "white",
             "linecolor": "white",
             "minorgridcolor": "white",
             "startlinecolor": "#2a3f5f"
            },
            "type": "carpet"
           }
          ],
          "choropleth": [
           {
            "colorbar": {
             "outlinewidth": 0,
             "ticks": ""
            },
            "type": "choropleth"
           }
          ],
          "contour": [
           {
            "colorbar": {
             "outlinewidth": 0,
             "ticks": ""
            },
            "colorscale": [
             [
              0,
              "#0d0887"
             ],
             [
              0.1111111111111111,
              "#46039f"
             ],
             [
              0.2222222222222222,
              "#7201a8"
             ],
             [
              0.3333333333333333,
              "#9c179e"
             ],
             [
              0.4444444444444444,
              "#bd3786"
             ],
             [
              0.5555555555555556,
              "#d8576b"
             ],
             [
              0.6666666666666666,
              "#ed7953"
             ],
             [
              0.7777777777777778,
              "#fb9f3a"
             ],
             [
              0.8888888888888888,
              "#fdca26"
             ],
             [
              1,
              "#f0f921"
             ]
            ],
            "type": "contour"
           }
          ],
          "contourcarpet": [
           {
            "colorbar": {
             "outlinewidth": 0,
             "ticks": ""
            },
            "type": "contourcarpet"
           }
          ],
          "heatmap": [
           {
            "colorbar": {
             "outlinewidth": 0,
             "ticks": ""
            },
            "colorscale": [
             [
              0,
              "#0d0887"
             ],
             [
              0.1111111111111111,
              "#46039f"
             ],
             [
              0.2222222222222222,
              "#7201a8"
             ],
             [
              0.3333333333333333,
              "#9c179e"
             ],
             [
              0.4444444444444444,
              "#bd3786"
             ],
             [
              0.5555555555555556,
              "#d8576b"
             ],
             [
              0.6666666666666666,
              "#ed7953"
             ],
             [
              0.7777777777777778,
              "#fb9f3a"
             ],
             [
              0.8888888888888888,
              "#fdca26"
             ],
             [
              1,
              "#f0f921"
             ]
            ],
            "type": "heatmap"
           }
          ],
          "heatmapgl": [
           {
            "colorbar": {
             "outlinewidth": 0,
             "ticks": ""
            },
            "colorscale": [
             [
              0,
              "#0d0887"
             ],
             [
              0.1111111111111111,
              "#46039f"
             ],
             [
              0.2222222222222222,
              "#7201a8"
             ],
             [
              0.3333333333333333,
              "#9c179e"
             ],
             [
              0.4444444444444444,
              "#bd3786"
             ],
             [
              0.5555555555555556,
              "#d8576b"
             ],
             [
              0.6666666666666666,
              "#ed7953"
             ],
             [
              0.7777777777777778,
              "#fb9f3a"
             ],
             [
              0.8888888888888888,
              "#fdca26"
             ],
             [
              1,
              "#f0f921"
             ]
            ],
            "type": "heatmapgl"
           }
          ],
          "histogram": [
           {
            "marker": {
             "pattern": {
              "fillmode": "overlay",
              "size": 10,
              "solidity": 0.2
             }
            },
            "type": "histogram"
           }
          ],
          "histogram2d": [
           {
            "colorbar": {
             "outlinewidth": 0,
             "ticks": ""
            },
            "colorscale": [
             [
              0,
              "#0d0887"
             ],
             [
              0.1111111111111111,
              "#46039f"
             ],
             [
              0.2222222222222222,
              "#7201a8"
             ],
             [
              0.3333333333333333,
              "#9c179e"
             ],
             [
              0.4444444444444444,
              "#bd3786"
             ],
             [
              0.5555555555555556,
              "#d8576b"
             ],
             [
              0.6666666666666666,
              "#ed7953"
             ],
             [
              0.7777777777777778,
              "#fb9f3a"
             ],
             [
              0.8888888888888888,
              "#fdca26"
             ],
             [
              1,
              "#f0f921"
             ]
            ],
            "type": "histogram2d"
           }
          ],
          "histogram2dcontour": [
           {
            "colorbar": {
             "outlinewidth": 0,
             "ticks": ""
            },
            "colorscale": [
             [
              0,
              "#0d0887"
             ],
             [
              0.1111111111111111,
              "#46039f"
             ],
             [
              0.2222222222222222,
              "#7201a8"
             ],
             [
              0.3333333333333333,
              "#9c179e"
             ],
             [
              0.4444444444444444,
              "#bd3786"
             ],
             [
              0.5555555555555556,
              "#d8576b"
             ],
             [
              0.6666666666666666,
              "#ed7953"
             ],
             [
              0.7777777777777778,
              "#fb9f3a"
             ],
             [
              0.8888888888888888,
              "#fdca26"
             ],
             [
              1,
              "#f0f921"
             ]
            ],
            "type": "histogram2dcontour"
           }
          ],
          "mesh3d": [
           {
            "colorbar": {
             "outlinewidth": 0,
             "ticks": ""
            },
            "type": "mesh3d"
           }
          ],
          "parcoords": [
           {
            "line": {
             "colorbar": {
              "outlinewidth": 0,
              "ticks": ""
             }
            },
            "type": "parcoords"
           }
          ],
          "pie": [
           {
            "automargin": true,
            "type": "pie"
           }
          ],
          "scatter": [
           {
            "marker": {
             "colorbar": {
              "outlinewidth": 0,
              "ticks": ""
             }
            },
            "type": "scatter"
           }
          ],
          "scatter3d": [
           {
            "line": {
             "colorbar": {
              "outlinewidth": 0,
              "ticks": ""
             }
            },
            "marker": {
             "colorbar": {
              "outlinewidth": 0,
              "ticks": ""
             }
            },
            "type": "scatter3d"
           }
          ],
          "scattercarpet": [
           {
            "marker": {
             "colorbar": {
              "outlinewidth": 0,
              "ticks": ""
             }
            },
            "type": "scattercarpet"
           }
          ],
          "scattergeo": [
           {
            "marker": {
             "colorbar": {
              "outlinewidth": 0,
              "ticks": ""
             }
            },
            "type": "scattergeo"
           }
          ],
          "scattergl": [
           {
            "marker": {
             "colorbar": {
              "outlinewidth": 0,
              "ticks": ""
             }
            },
            "type": "scattergl"
           }
          ],
          "scattermapbox": [
           {
            "marker": {
             "colorbar": {
              "outlinewidth": 0,
              "ticks": ""
             }
            },
            "type": "scattermapbox"
           }
          ],
          "scatterpolar": [
           {
            "marker": {
             "colorbar": {
              "outlinewidth": 0,
              "ticks": ""
             }
            },
            "type": "scatterpolar"
           }
          ],
          "scatterpolargl": [
           {
            "marker": {
             "colorbar": {
              "outlinewidth": 0,
              "ticks": ""
             }
            },
            "type": "scatterpolargl"
           }
          ],
          "scatterternary": [
           {
            "marker": {
             "colorbar": {
              "outlinewidth": 0,
              "ticks": ""
             }
            },
            "type": "scatterternary"
           }
          ],
          "surface": [
           {
            "colorbar": {
             "outlinewidth": 0,
             "ticks": ""
            },
            "colorscale": [
             [
              0,
              "#0d0887"
             ],
             [
              0.1111111111111111,
              "#46039f"
             ],
             [
              0.2222222222222222,
              "#7201a8"
             ],
             [
              0.3333333333333333,
              "#9c179e"
             ],
             [
              0.4444444444444444,
              "#bd3786"
             ],
             [
              0.5555555555555556,
              "#d8576b"
             ],
             [
              0.6666666666666666,
              "#ed7953"
             ],
             [
              0.7777777777777778,
              "#fb9f3a"
             ],
             [
              0.8888888888888888,
              "#fdca26"
             ],
             [
              1,
              "#f0f921"
             ]
            ],
            "type": "surface"
           }
          ],
          "table": [
           {
            "cells": {
             "fill": {
              "color": "#EBF0F8"
             },
             "line": {
              "color": "white"
             }
            },
            "header": {
             "fill": {
              "color": "#C8D4E3"
             },
             "line": {
              "color": "white"
             }
            },
            "type": "table"
           }
          ]
         },
         "layout": {
          "annotationdefaults": {
           "arrowcolor": "#2a3f5f",
           "arrowhead": 0,
           "arrowwidth": 1
          },
          "autotypenumbers": "strict",
          "coloraxis": {
           "colorbar": {
            "outlinewidth": 0,
            "ticks": ""
           }
          },
          "colorscale": {
           "diverging": [
            [
             0,
             "#8e0152"
            ],
            [
             0.1,
             "#c51b7d"
            ],
            [
             0.2,
             "#de77ae"
            ],
            [
             0.3,
             "#f1b6da"
            ],
            [
             0.4,
             "#fde0ef"
            ],
            [
             0.5,
             "#f7f7f7"
            ],
            [
             0.6,
             "#e6f5d0"
            ],
            [
             0.7,
             "#b8e186"
            ],
            [
             0.8,
             "#7fbc41"
            ],
            [
             0.9,
             "#4d9221"
            ],
            [
             1,
             "#276419"
            ]
           ],
           "sequential": [
            [
             0,
             "#0d0887"
            ],
            [
             0.1111111111111111,
             "#46039f"
            ],
            [
             0.2222222222222222,
             "#7201a8"
            ],
            [
             0.3333333333333333,
             "#9c179e"
            ],
            [
             0.4444444444444444,
             "#bd3786"
            ],
            [
             0.5555555555555556,
             "#d8576b"
            ],
            [
             0.6666666666666666,
             "#ed7953"
            ],
            [
             0.7777777777777778,
             "#fb9f3a"
            ],
            [
             0.8888888888888888,
             "#fdca26"
            ],
            [
             1,
             "#f0f921"
            ]
           ],
           "sequentialminus": [
            [
             0,
             "#0d0887"
            ],
            [
             0.1111111111111111,
             "#46039f"
            ],
            [
             0.2222222222222222,
             "#7201a8"
            ],
            [
             0.3333333333333333,
             "#9c179e"
            ],
            [
             0.4444444444444444,
             "#bd3786"
            ],
            [
             0.5555555555555556,
             "#d8576b"
            ],
            [
             0.6666666666666666,
             "#ed7953"
            ],
            [
             0.7777777777777778,
             "#fb9f3a"
            ],
            [
             0.8888888888888888,
             "#fdca26"
            ],
            [
             1,
             "#f0f921"
            ]
           ]
          },
          "colorway": [
           "#636efa",
           "#EF553B",
           "#00cc96",
           "#ab63fa",
           "#FFA15A",
           "#19d3f3",
           "#FF6692",
           "#B6E880",
           "#FF97FF",
           "#FECB52"
          ],
          "font": {
           "color": "#2a3f5f"
          },
          "geo": {
           "bgcolor": "white",
           "lakecolor": "white",
           "landcolor": "#E5ECF6",
           "showlakes": true,
           "showland": true,
           "subunitcolor": "white"
          },
          "hoverlabel": {
           "align": "left"
          },
          "hovermode": "closest",
          "mapbox": {
           "style": "light"
          },
          "paper_bgcolor": "white",
          "plot_bgcolor": "#E5ECF6",
          "polar": {
           "angularaxis": {
            "gridcolor": "white",
            "linecolor": "white",
            "ticks": ""
           },
           "bgcolor": "#E5ECF6",
           "radialaxis": {
            "gridcolor": "white",
            "linecolor": "white",
            "ticks": ""
           }
          },
          "scene": {
           "xaxis": {
            "backgroundcolor": "#E5ECF6",
            "gridcolor": "white",
            "gridwidth": 2,
            "linecolor": "white",
            "showbackground": true,
            "ticks": "",
            "zerolinecolor": "white"
           },
           "yaxis": {
            "backgroundcolor": "#E5ECF6",
            "gridcolor": "white",
            "gridwidth": 2,
            "linecolor": "white",
            "showbackground": true,
            "ticks": "",
            "zerolinecolor": "white"
           },
           "zaxis": {
            "backgroundcolor": "#E5ECF6",
            "gridcolor": "white",
            "gridwidth": 2,
            "linecolor": "white",
            "showbackground": true,
            "ticks": "",
            "zerolinecolor": "white"
           }
          },
          "shapedefaults": {
           "line": {
            "color": "#2a3f5f"
           }
          },
          "ternary": {
           "aaxis": {
            "gridcolor": "white",
            "linecolor": "white",
            "ticks": ""
           },
           "baxis": {
            "gridcolor": "white",
            "linecolor": "white",
            "ticks": ""
           },
           "bgcolor": "#E5ECF6",
           "caxis": {
            "gridcolor": "white",
            "linecolor": "white",
            "ticks": ""
           }
          },
          "title": {
           "x": 0.05
          },
          "xaxis": {
           "automargin": true,
           "gridcolor": "white",
           "linecolor": "white",
           "ticks": "",
           "title": {
            "standoff": 15
           },
           "zerolinecolor": "white",
           "zerolinewidth": 2
          },
          "yaxis": {
           "automargin": true,
           "gridcolor": "white",
           "linecolor": "white",
           "ticks": "",
           "title": {
            "standoff": 15
           },
           "zerolinecolor": "white",
           "zerolinewidth": 2
          }
         }
        },
        "title": {
         "text": "Churn rate by InternetService"
        },
        "width": 900,
        "xaxis": {
         "anchor": "y",
         "domain": [
          0,
          1
         ],
         "title": {
          "text": "InternetService"
         }
        },
        "yaxis": {
         "anchor": "x",
         "domain": [
          0,
          1
         ],
         "title": {
          "text": "Count"
         }
        }
       }
      }
     },
     "metadata": {},
     "output_type": "display_data"
    },
    {
     "name": "stdout",
     "output_type": "stream",
     "text": [
      "        OnlineSecurity Churn     0\n",
      "0                   No    No  2037\n",
      "1                   No   Yes  1461\n",
      "2  No internet service    No  1413\n",
      "3  No internet service   Yes   113\n",
      "4                  Yes    No  1724\n",
      "5                  Yes   Yes   295\n",
      "        OnlineSecurity Churn  Count\n",
      "0                   No    No   2037\n",
      "1                   No   Yes   1461\n",
      "2  No internet service    No   1413\n",
      "3  No internet service   Yes    113\n",
      "4                  Yes    No   1724\n",
      "5                  Yes   Yes    295\n",
      "                 index  OnlineSecurity\n",
      "0                   No            3498\n",
      "1                  Yes            2019\n",
      "2  No internet service            1526\n",
      "['No', 'Yes', 'No internet service']\n",
      "[3498, 2019, 1526]\n",
      "[0.4966633536845094, 0.2866676132329973, 0.21666903308249325]\n",
      "[49.7, 28.7, 21.7]\n",
      "[49.7, 28.7, 21.7]\n",
      "3\n",
      "['No', 'Yes', 'No internet service']\n",
      "3\n"
     ]
    },
    {
     "data": {
      "application/vnd.plotly.v1+json": {
       "config": {
        "plotlyServerURL": "https://plot.ly"
       },
       "data": [
        {
         "alignmentgroup": "True",
         "hovertemplate": "Churn=No<br>OnlineSecurity=%{x}<br>Count=%{y}<extra></extra>",
         "legendgroup": "No",
         "marker": {
          "color": "blue",
          "pattern": {
           "shape": ""
          }
         },
         "name": "No",
         "offsetgroup": "No",
         "orientation": "v",
         "showlegend": true,
         "textposition": "auto",
         "type": "bar",
         "x": [
          "No",
          "No internet service",
          "Yes"
         ],
         "xaxis": "x",
         "y": [
          2037,
          1413,
          1724
         ],
         "yaxis": "y"
        },
        {
         "alignmentgroup": "True",
         "hovertemplate": "Churn=Yes<br>OnlineSecurity=%{x}<br>Count=%{y}<extra></extra>",
         "legendgroup": "Yes",
         "marker": {
          "color": "red",
          "pattern": {
           "shape": ""
          }
         },
         "name": "Yes",
         "offsetgroup": "Yes",
         "orientation": "v",
         "showlegend": true,
         "textposition": "auto",
         "type": "bar",
         "x": [
          "No",
          "No internet service",
          "Yes"
         ],
         "xaxis": "x",
         "y": [
          1461,
          113,
          295
         ],
         "yaxis": "y"
        }
       ],
       "layout": {
        "annotations": [
         {
          "align": "left",
          "bordercolor": "black",
          "borderwidth": 1,
          "showarrow": false,
          "text": "Value count of distribution of No, Yes & No internet service are<br>49.7%, 28.7% & 21.7% percentage respectively.",
          "x": 1,
          "xref": "paper",
          "y": 1.3,
          "yref": "paper"
         }
        ],
        "barmode": "group",
        "legend": {
         "title": {
          "text": "Churn"
         },
         "tracegroupgap": 0
        },
        "template": {
         "data": {
          "bar": [
           {
            "error_x": {
             "color": "#2a3f5f"
            },
            "error_y": {
             "color": "#2a3f5f"
            },
            "marker": {
             "line": {
              "color": "#E5ECF6",
              "width": 0.5
             },
             "pattern": {
              "fillmode": "overlay",
              "size": 10,
              "solidity": 0.2
             }
            },
            "type": "bar"
           }
          ],
          "barpolar": [
           {
            "marker": {
             "line": {
              "color": "#E5ECF6",
              "width": 0.5
             },
             "pattern": {
              "fillmode": "overlay",
              "size": 10,
              "solidity": 0.2
             }
            },
            "type": "barpolar"
           }
          ],
          "carpet": [
           {
            "aaxis": {
             "endlinecolor": "#2a3f5f",
             "gridcolor": "white",
             "linecolor": "white",
             "minorgridcolor": "white",
             "startlinecolor": "#2a3f5f"
            },
            "baxis": {
             "endlinecolor": "#2a3f5f",
             "gridcolor": "white",
             "linecolor": "white",
             "minorgridcolor": "white",
             "startlinecolor": "#2a3f5f"
            },
            "type": "carpet"
           }
          ],
          "choropleth": [
           {
            "colorbar": {
             "outlinewidth": 0,
             "ticks": ""
            },
            "type": "choropleth"
           }
          ],
          "contour": [
           {
            "colorbar": {
             "outlinewidth": 0,
             "ticks": ""
            },
            "colorscale": [
             [
              0,
              "#0d0887"
             ],
             [
              0.1111111111111111,
              "#46039f"
             ],
             [
              0.2222222222222222,
              "#7201a8"
             ],
             [
              0.3333333333333333,
              "#9c179e"
             ],
             [
              0.4444444444444444,
              "#bd3786"
             ],
             [
              0.5555555555555556,
              "#d8576b"
             ],
             [
              0.6666666666666666,
              "#ed7953"
             ],
             [
              0.7777777777777778,
              "#fb9f3a"
             ],
             [
              0.8888888888888888,
              "#fdca26"
             ],
             [
              1,
              "#f0f921"
             ]
            ],
            "type": "contour"
           }
          ],
          "contourcarpet": [
           {
            "colorbar": {
             "outlinewidth": 0,
             "ticks": ""
            },
            "type": "contourcarpet"
           }
          ],
          "heatmap": [
           {
            "colorbar": {
             "outlinewidth": 0,
             "ticks": ""
            },
            "colorscale": [
             [
              0,
              "#0d0887"
             ],
             [
              0.1111111111111111,
              "#46039f"
             ],
             [
              0.2222222222222222,
              "#7201a8"
             ],
             [
              0.3333333333333333,
              "#9c179e"
             ],
             [
              0.4444444444444444,
              "#bd3786"
             ],
             [
              0.5555555555555556,
              "#d8576b"
             ],
             [
              0.6666666666666666,
              "#ed7953"
             ],
             [
              0.7777777777777778,
              "#fb9f3a"
             ],
             [
              0.8888888888888888,
              "#fdca26"
             ],
             [
              1,
              "#f0f921"
             ]
            ],
            "type": "heatmap"
           }
          ],
          "heatmapgl": [
           {
            "colorbar": {
             "outlinewidth": 0,
             "ticks": ""
            },
            "colorscale": [
             [
              0,
              "#0d0887"
             ],
             [
              0.1111111111111111,
              "#46039f"
             ],
             [
              0.2222222222222222,
              "#7201a8"
             ],
             [
              0.3333333333333333,
              "#9c179e"
             ],
             [
              0.4444444444444444,
              "#bd3786"
             ],
             [
              0.5555555555555556,
              "#d8576b"
             ],
             [
              0.6666666666666666,
              "#ed7953"
             ],
             [
              0.7777777777777778,
              "#fb9f3a"
             ],
             [
              0.8888888888888888,
              "#fdca26"
             ],
             [
              1,
              "#f0f921"
             ]
            ],
            "type": "heatmapgl"
           }
          ],
          "histogram": [
           {
            "marker": {
             "pattern": {
              "fillmode": "overlay",
              "size": 10,
              "solidity": 0.2
             }
            },
            "type": "histogram"
           }
          ],
          "histogram2d": [
           {
            "colorbar": {
             "outlinewidth": 0,
             "ticks": ""
            },
            "colorscale": [
             [
              0,
              "#0d0887"
             ],
             [
              0.1111111111111111,
              "#46039f"
             ],
             [
              0.2222222222222222,
              "#7201a8"
             ],
             [
              0.3333333333333333,
              "#9c179e"
             ],
             [
              0.4444444444444444,
              "#bd3786"
             ],
             [
              0.5555555555555556,
              "#d8576b"
             ],
             [
              0.6666666666666666,
              "#ed7953"
             ],
             [
              0.7777777777777778,
              "#fb9f3a"
             ],
             [
              0.8888888888888888,
              "#fdca26"
             ],
             [
              1,
              "#f0f921"
             ]
            ],
            "type": "histogram2d"
           }
          ],
          "histogram2dcontour": [
           {
            "colorbar": {
             "outlinewidth": 0,
             "ticks": ""
            },
            "colorscale": [
             [
              0,
              "#0d0887"
             ],
             [
              0.1111111111111111,
              "#46039f"
             ],
             [
              0.2222222222222222,
              "#7201a8"
             ],
             [
              0.3333333333333333,
              "#9c179e"
             ],
             [
              0.4444444444444444,
              "#bd3786"
             ],
             [
              0.5555555555555556,
              "#d8576b"
             ],
             [
              0.6666666666666666,
              "#ed7953"
             ],
             [
              0.7777777777777778,
              "#fb9f3a"
             ],
             [
              0.8888888888888888,
              "#fdca26"
             ],
             [
              1,
              "#f0f921"
             ]
            ],
            "type": "histogram2dcontour"
           }
          ],
          "mesh3d": [
           {
            "colorbar": {
             "outlinewidth": 0,
             "ticks": ""
            },
            "type": "mesh3d"
           }
          ],
          "parcoords": [
           {
            "line": {
             "colorbar": {
              "outlinewidth": 0,
              "ticks": ""
             }
            },
            "type": "parcoords"
           }
          ],
          "pie": [
           {
            "automargin": true,
            "type": "pie"
           }
          ],
          "scatter": [
           {
            "marker": {
             "colorbar": {
              "outlinewidth": 0,
              "ticks": ""
             }
            },
            "type": "scatter"
           }
          ],
          "scatter3d": [
           {
            "line": {
             "colorbar": {
              "outlinewidth": 0,
              "ticks": ""
             }
            },
            "marker": {
             "colorbar": {
              "outlinewidth": 0,
              "ticks": ""
             }
            },
            "type": "scatter3d"
           }
          ],
          "scattercarpet": [
           {
            "marker": {
             "colorbar": {
              "outlinewidth": 0,
              "ticks": ""
             }
            },
            "type": "scattercarpet"
           }
          ],
          "scattergeo": [
           {
            "marker": {
             "colorbar": {
              "outlinewidth": 0,
              "ticks": ""
             }
            },
            "type": "scattergeo"
           }
          ],
          "scattergl": [
           {
            "marker": {
             "colorbar": {
              "outlinewidth": 0,
              "ticks": ""
             }
            },
            "type": "scattergl"
           }
          ],
          "scattermapbox": [
           {
            "marker": {
             "colorbar": {
              "outlinewidth": 0,
              "ticks": ""
             }
            },
            "type": "scattermapbox"
           }
          ],
          "scatterpolar": [
           {
            "marker": {
             "colorbar": {
              "outlinewidth": 0,
              "ticks": ""
             }
            },
            "type": "scatterpolar"
           }
          ],
          "scatterpolargl": [
           {
            "marker": {
             "colorbar": {
              "outlinewidth": 0,
              "ticks": ""
             }
            },
            "type": "scatterpolargl"
           }
          ],
          "scatterternary": [
           {
            "marker": {
             "colorbar": {
              "outlinewidth": 0,
              "ticks": ""
             }
            },
            "type": "scatterternary"
           }
          ],
          "surface": [
           {
            "colorbar": {
             "outlinewidth": 0,
             "ticks": ""
            },
            "colorscale": [
             [
              0,
              "#0d0887"
             ],
             [
              0.1111111111111111,
              "#46039f"
             ],
             [
              0.2222222222222222,
              "#7201a8"
             ],
             [
              0.3333333333333333,
              "#9c179e"
             ],
             [
              0.4444444444444444,
              "#bd3786"
             ],
             [
              0.5555555555555556,
              "#d8576b"
             ],
             [
              0.6666666666666666,
              "#ed7953"
             ],
             [
              0.7777777777777778,
              "#fb9f3a"
             ],
             [
              0.8888888888888888,
              "#fdca26"
             ],
             [
              1,
              "#f0f921"
             ]
            ],
            "type": "surface"
           }
          ],
          "table": [
           {
            "cells": {
             "fill": {
              "color": "#EBF0F8"
             },
             "line": {
              "color": "white"
             }
            },
            "header": {
             "fill": {
              "color": "#C8D4E3"
             },
             "line": {
              "color": "white"
             }
            },
            "type": "table"
           }
          ]
         },
         "layout": {
          "annotationdefaults": {
           "arrowcolor": "#2a3f5f",
           "arrowhead": 0,
           "arrowwidth": 1
          },
          "autotypenumbers": "strict",
          "coloraxis": {
           "colorbar": {
            "outlinewidth": 0,
            "ticks": ""
           }
          },
          "colorscale": {
           "diverging": [
            [
             0,
             "#8e0152"
            ],
            [
             0.1,
             "#c51b7d"
            ],
            [
             0.2,
             "#de77ae"
            ],
            [
             0.3,
             "#f1b6da"
            ],
            [
             0.4,
             "#fde0ef"
            ],
            [
             0.5,
             "#f7f7f7"
            ],
            [
             0.6,
             "#e6f5d0"
            ],
            [
             0.7,
             "#b8e186"
            ],
            [
             0.8,
             "#7fbc41"
            ],
            [
             0.9,
             "#4d9221"
            ],
            [
             1,
             "#276419"
            ]
           ],
           "sequential": [
            [
             0,
             "#0d0887"
            ],
            [
             0.1111111111111111,
             "#46039f"
            ],
            [
             0.2222222222222222,
             "#7201a8"
            ],
            [
             0.3333333333333333,
             "#9c179e"
            ],
            [
             0.4444444444444444,
             "#bd3786"
            ],
            [
             0.5555555555555556,
             "#d8576b"
            ],
            [
             0.6666666666666666,
             "#ed7953"
            ],
            [
             0.7777777777777778,
             "#fb9f3a"
            ],
            [
             0.8888888888888888,
             "#fdca26"
            ],
            [
             1,
             "#f0f921"
            ]
           ],
           "sequentialminus": [
            [
             0,
             "#0d0887"
            ],
            [
             0.1111111111111111,
             "#46039f"
            ],
            [
             0.2222222222222222,
             "#7201a8"
            ],
            [
             0.3333333333333333,
             "#9c179e"
            ],
            [
             0.4444444444444444,
             "#bd3786"
            ],
            [
             0.5555555555555556,
             "#d8576b"
            ],
            [
             0.6666666666666666,
             "#ed7953"
            ],
            [
             0.7777777777777778,
             "#fb9f3a"
            ],
            [
             0.8888888888888888,
             "#fdca26"
            ],
            [
             1,
             "#f0f921"
            ]
           ]
          },
          "colorway": [
           "#636efa",
           "#EF553B",
           "#00cc96",
           "#ab63fa",
           "#FFA15A",
           "#19d3f3",
           "#FF6692",
           "#B6E880",
           "#FF97FF",
           "#FECB52"
          ],
          "font": {
           "color": "#2a3f5f"
          },
          "geo": {
           "bgcolor": "white",
           "lakecolor": "white",
           "landcolor": "#E5ECF6",
           "showlakes": true,
           "showland": true,
           "subunitcolor": "white"
          },
          "hoverlabel": {
           "align": "left"
          },
          "hovermode": "closest",
          "mapbox": {
           "style": "light"
          },
          "paper_bgcolor": "white",
          "plot_bgcolor": "#E5ECF6",
          "polar": {
           "angularaxis": {
            "gridcolor": "white",
            "linecolor": "white",
            "ticks": ""
           },
           "bgcolor": "#E5ECF6",
           "radialaxis": {
            "gridcolor": "white",
            "linecolor": "white",
            "ticks": ""
           }
          },
          "scene": {
           "xaxis": {
            "backgroundcolor": "#E5ECF6",
            "gridcolor": "white",
            "gridwidth": 2,
            "linecolor": "white",
            "showbackground": true,
            "ticks": "",
            "zerolinecolor": "white"
           },
           "yaxis": {
            "backgroundcolor": "#E5ECF6",
            "gridcolor": "white",
            "gridwidth": 2,
            "linecolor": "white",
            "showbackground": true,
            "ticks": "",
            "zerolinecolor": "white"
           },
           "zaxis": {
            "backgroundcolor": "#E5ECF6",
            "gridcolor": "white",
            "gridwidth": 2,
            "linecolor": "white",
            "showbackground": true,
            "ticks": "",
            "zerolinecolor": "white"
           }
          },
          "shapedefaults": {
           "line": {
            "color": "#2a3f5f"
           }
          },
          "ternary": {
           "aaxis": {
            "gridcolor": "white",
            "linecolor": "white",
            "ticks": ""
           },
           "baxis": {
            "gridcolor": "white",
            "linecolor": "white",
            "ticks": ""
           },
           "bgcolor": "#E5ECF6",
           "caxis": {
            "gridcolor": "white",
            "linecolor": "white",
            "ticks": ""
           }
          },
          "title": {
           "x": 0.05
          },
          "xaxis": {
           "automargin": true,
           "gridcolor": "white",
           "linecolor": "white",
           "ticks": "",
           "title": {
            "standoff": 15
           },
           "zerolinecolor": "white",
           "zerolinewidth": 2
          },
          "yaxis": {
           "automargin": true,
           "gridcolor": "white",
           "linecolor": "white",
           "ticks": "",
           "title": {
            "standoff": 15
           },
           "zerolinecolor": "white",
           "zerolinewidth": 2
          }
         }
        },
        "title": {
         "text": "Churn rate by OnlineSecurity"
        },
        "width": 900,
        "xaxis": {
         "anchor": "y",
         "domain": [
          0,
          1
         ],
         "title": {
          "text": "OnlineSecurity"
         }
        },
        "yaxis": {
         "anchor": "x",
         "domain": [
          0,
          1
         ],
         "title": {
          "text": "Count"
         }
        }
       }
      }
     },
     "metadata": {},
     "output_type": "display_data"
    },
    {
     "name": "stdout",
     "output_type": "stream",
     "text": [
      "          OnlineBackup Churn     0\n",
      "0                   No    No  1855\n",
      "1                   No   Yes  1233\n",
      "2  No internet service    No  1413\n",
      "3  No internet service   Yes   113\n",
      "4                  Yes    No  1906\n",
      "5                  Yes   Yes   523\n",
      "          OnlineBackup Churn  Count\n",
      "0                   No    No   1855\n",
      "1                   No   Yes   1233\n",
      "2  No internet service    No   1413\n",
      "3  No internet service   Yes    113\n",
      "4                  Yes    No   1906\n",
      "5                  Yes   Yes    523\n",
      "                 index  OnlineBackup\n",
      "0                   No          3088\n",
      "1                  Yes          2429\n",
      "2  No internet service          1526\n",
      "['No', 'Yes', 'No internet service']\n",
      "[3088, 2429, 1526]\n",
      "[0.43844952435041884, 0.3448814425670879, 0.21666903308249325]\n",
      "[43.8, 34.5, 21.7]\n",
      "[43.8, 34.5, 21.7]\n",
      "3\n",
      "['No', 'Yes', 'No internet service']\n",
      "3\n"
     ]
    },
    {
     "data": {
      "application/vnd.plotly.v1+json": {
       "config": {
        "plotlyServerURL": "https://plot.ly"
       },
       "data": [
        {
         "alignmentgroup": "True",
         "hovertemplate": "Churn=No<br>OnlineBackup=%{x}<br>Count=%{y}<extra></extra>",
         "legendgroup": "No",
         "marker": {
          "color": "blue",
          "pattern": {
           "shape": ""
          }
         },
         "name": "No",
         "offsetgroup": "No",
         "orientation": "v",
         "showlegend": true,
         "textposition": "auto",
         "type": "bar",
         "x": [
          "No",
          "No internet service",
          "Yes"
         ],
         "xaxis": "x",
         "y": [
          1855,
          1413,
          1906
         ],
         "yaxis": "y"
        },
        {
         "alignmentgroup": "True",
         "hovertemplate": "Churn=Yes<br>OnlineBackup=%{x}<br>Count=%{y}<extra></extra>",
         "legendgroup": "Yes",
         "marker": {
          "color": "red",
          "pattern": {
           "shape": ""
          }
         },
         "name": "Yes",
         "offsetgroup": "Yes",
         "orientation": "v",
         "showlegend": true,
         "textposition": "auto",
         "type": "bar",
         "x": [
          "No",
          "No internet service",
          "Yes"
         ],
         "xaxis": "x",
         "y": [
          1233,
          113,
          523
         ],
         "yaxis": "y"
        }
       ],
       "layout": {
        "annotations": [
         {
          "align": "left",
          "bordercolor": "black",
          "borderwidth": 1,
          "showarrow": false,
          "text": "Value count of distribution of No, Yes & No internet service are<br>43.8%, 34.5% & 21.7% percentage respectively.",
          "x": 1,
          "xref": "paper",
          "y": 1.3,
          "yref": "paper"
         }
        ],
        "barmode": "group",
        "legend": {
         "title": {
          "text": "Churn"
         },
         "tracegroupgap": 0
        },
        "template": {
         "data": {
          "bar": [
           {
            "error_x": {
             "color": "#2a3f5f"
            },
            "error_y": {
             "color": "#2a3f5f"
            },
            "marker": {
             "line": {
              "color": "#E5ECF6",
              "width": 0.5
             },
             "pattern": {
              "fillmode": "overlay",
              "size": 10,
              "solidity": 0.2
             }
            },
            "type": "bar"
           }
          ],
          "barpolar": [
           {
            "marker": {
             "line": {
              "color": "#E5ECF6",
              "width": 0.5
             },
             "pattern": {
              "fillmode": "overlay",
              "size": 10,
              "solidity": 0.2
             }
            },
            "type": "barpolar"
           }
          ],
          "carpet": [
           {
            "aaxis": {
             "endlinecolor": "#2a3f5f",
             "gridcolor": "white",
             "linecolor": "white",
             "minorgridcolor": "white",
             "startlinecolor": "#2a3f5f"
            },
            "baxis": {
             "endlinecolor": "#2a3f5f",
             "gridcolor": "white",
             "linecolor": "white",
             "minorgridcolor": "white",
             "startlinecolor": "#2a3f5f"
            },
            "type": "carpet"
           }
          ],
          "choropleth": [
           {
            "colorbar": {
             "outlinewidth": 0,
             "ticks": ""
            },
            "type": "choropleth"
           }
          ],
          "contour": [
           {
            "colorbar": {
             "outlinewidth": 0,
             "ticks": ""
            },
            "colorscale": [
             [
              0,
              "#0d0887"
             ],
             [
              0.1111111111111111,
              "#46039f"
             ],
             [
              0.2222222222222222,
              "#7201a8"
             ],
             [
              0.3333333333333333,
              "#9c179e"
             ],
             [
              0.4444444444444444,
              "#bd3786"
             ],
             [
              0.5555555555555556,
              "#d8576b"
             ],
             [
              0.6666666666666666,
              "#ed7953"
             ],
             [
              0.7777777777777778,
              "#fb9f3a"
             ],
             [
              0.8888888888888888,
              "#fdca26"
             ],
             [
              1,
              "#f0f921"
             ]
            ],
            "type": "contour"
           }
          ],
          "contourcarpet": [
           {
            "colorbar": {
             "outlinewidth": 0,
             "ticks": ""
            },
            "type": "contourcarpet"
           }
          ],
          "heatmap": [
           {
            "colorbar": {
             "outlinewidth": 0,
             "ticks": ""
            },
            "colorscale": [
             [
              0,
              "#0d0887"
             ],
             [
              0.1111111111111111,
              "#46039f"
             ],
             [
              0.2222222222222222,
              "#7201a8"
             ],
             [
              0.3333333333333333,
              "#9c179e"
             ],
             [
              0.4444444444444444,
              "#bd3786"
             ],
             [
              0.5555555555555556,
              "#d8576b"
             ],
             [
              0.6666666666666666,
              "#ed7953"
             ],
             [
              0.7777777777777778,
              "#fb9f3a"
             ],
             [
              0.8888888888888888,
              "#fdca26"
             ],
             [
              1,
              "#f0f921"
             ]
            ],
            "type": "heatmap"
           }
          ],
          "heatmapgl": [
           {
            "colorbar": {
             "outlinewidth": 0,
             "ticks": ""
            },
            "colorscale": [
             [
              0,
              "#0d0887"
             ],
             [
              0.1111111111111111,
              "#46039f"
             ],
             [
              0.2222222222222222,
              "#7201a8"
             ],
             [
              0.3333333333333333,
              "#9c179e"
             ],
             [
              0.4444444444444444,
              "#bd3786"
             ],
             [
              0.5555555555555556,
              "#d8576b"
             ],
             [
              0.6666666666666666,
              "#ed7953"
             ],
             [
              0.7777777777777778,
              "#fb9f3a"
             ],
             [
              0.8888888888888888,
              "#fdca26"
             ],
             [
              1,
              "#f0f921"
             ]
            ],
            "type": "heatmapgl"
           }
          ],
          "histogram": [
           {
            "marker": {
             "pattern": {
              "fillmode": "overlay",
              "size": 10,
              "solidity": 0.2
             }
            },
            "type": "histogram"
           }
          ],
          "histogram2d": [
           {
            "colorbar": {
             "outlinewidth": 0,
             "ticks": ""
            },
            "colorscale": [
             [
              0,
              "#0d0887"
             ],
             [
              0.1111111111111111,
              "#46039f"
             ],
             [
              0.2222222222222222,
              "#7201a8"
             ],
             [
              0.3333333333333333,
              "#9c179e"
             ],
             [
              0.4444444444444444,
              "#bd3786"
             ],
             [
              0.5555555555555556,
              "#d8576b"
             ],
             [
              0.6666666666666666,
              "#ed7953"
             ],
             [
              0.7777777777777778,
              "#fb9f3a"
             ],
             [
              0.8888888888888888,
              "#fdca26"
             ],
             [
              1,
              "#f0f921"
             ]
            ],
            "type": "histogram2d"
           }
          ],
          "histogram2dcontour": [
           {
            "colorbar": {
             "outlinewidth": 0,
             "ticks": ""
            },
            "colorscale": [
             [
              0,
              "#0d0887"
             ],
             [
              0.1111111111111111,
              "#46039f"
             ],
             [
              0.2222222222222222,
              "#7201a8"
             ],
             [
              0.3333333333333333,
              "#9c179e"
             ],
             [
              0.4444444444444444,
              "#bd3786"
             ],
             [
              0.5555555555555556,
              "#d8576b"
             ],
             [
              0.6666666666666666,
              "#ed7953"
             ],
             [
              0.7777777777777778,
              "#fb9f3a"
             ],
             [
              0.8888888888888888,
              "#fdca26"
             ],
             [
              1,
              "#f0f921"
             ]
            ],
            "type": "histogram2dcontour"
           }
          ],
          "mesh3d": [
           {
            "colorbar": {
             "outlinewidth": 0,
             "ticks": ""
            },
            "type": "mesh3d"
           }
          ],
          "parcoords": [
           {
            "line": {
             "colorbar": {
              "outlinewidth": 0,
              "ticks": ""
             }
            },
            "type": "parcoords"
           }
          ],
          "pie": [
           {
            "automargin": true,
            "type": "pie"
           }
          ],
          "scatter": [
           {
            "marker": {
             "colorbar": {
              "outlinewidth": 0,
              "ticks": ""
             }
            },
            "type": "scatter"
           }
          ],
          "scatter3d": [
           {
            "line": {
             "colorbar": {
              "outlinewidth": 0,
              "ticks": ""
             }
            },
            "marker": {
             "colorbar": {
              "outlinewidth": 0,
              "ticks": ""
             }
            },
            "type": "scatter3d"
           }
          ],
          "scattercarpet": [
           {
            "marker": {
             "colorbar": {
              "outlinewidth": 0,
              "ticks": ""
             }
            },
            "type": "scattercarpet"
           }
          ],
          "scattergeo": [
           {
            "marker": {
             "colorbar": {
              "outlinewidth": 0,
              "ticks": ""
             }
            },
            "type": "scattergeo"
           }
          ],
          "scattergl": [
           {
            "marker": {
             "colorbar": {
              "outlinewidth": 0,
              "ticks": ""
             }
            },
            "type": "scattergl"
           }
          ],
          "scattermapbox": [
           {
            "marker": {
             "colorbar": {
              "outlinewidth": 0,
              "ticks": ""
             }
            },
            "type": "scattermapbox"
           }
          ],
          "scatterpolar": [
           {
            "marker": {
             "colorbar": {
              "outlinewidth": 0,
              "ticks": ""
             }
            },
            "type": "scatterpolar"
           }
          ],
          "scatterpolargl": [
           {
            "marker": {
             "colorbar": {
              "outlinewidth": 0,
              "ticks": ""
             }
            },
            "type": "scatterpolargl"
           }
          ],
          "scatterternary": [
           {
            "marker": {
             "colorbar": {
              "outlinewidth": 0,
              "ticks": ""
             }
            },
            "type": "scatterternary"
           }
          ],
          "surface": [
           {
            "colorbar": {
             "outlinewidth": 0,
             "ticks": ""
            },
            "colorscale": [
             [
              0,
              "#0d0887"
             ],
             [
              0.1111111111111111,
              "#46039f"
             ],
             [
              0.2222222222222222,
              "#7201a8"
             ],
             [
              0.3333333333333333,
              "#9c179e"
             ],
             [
              0.4444444444444444,
              "#bd3786"
             ],
             [
              0.5555555555555556,
              "#d8576b"
             ],
             [
              0.6666666666666666,
              "#ed7953"
             ],
             [
              0.7777777777777778,
              "#fb9f3a"
             ],
             [
              0.8888888888888888,
              "#fdca26"
             ],
             [
              1,
              "#f0f921"
             ]
            ],
            "type": "surface"
           }
          ],
          "table": [
           {
            "cells": {
             "fill": {
              "color": "#EBF0F8"
             },
             "line": {
              "color": "white"
             }
            },
            "header": {
             "fill": {
              "color": "#C8D4E3"
             },
             "line": {
              "color": "white"
             }
            },
            "type": "table"
           }
          ]
         },
         "layout": {
          "annotationdefaults": {
           "arrowcolor": "#2a3f5f",
           "arrowhead": 0,
           "arrowwidth": 1
          },
          "autotypenumbers": "strict",
          "coloraxis": {
           "colorbar": {
            "outlinewidth": 0,
            "ticks": ""
           }
          },
          "colorscale": {
           "diverging": [
            [
             0,
             "#8e0152"
            ],
            [
             0.1,
             "#c51b7d"
            ],
            [
             0.2,
             "#de77ae"
            ],
            [
             0.3,
             "#f1b6da"
            ],
            [
             0.4,
             "#fde0ef"
            ],
            [
             0.5,
             "#f7f7f7"
            ],
            [
             0.6,
             "#e6f5d0"
            ],
            [
             0.7,
             "#b8e186"
            ],
            [
             0.8,
             "#7fbc41"
            ],
            [
             0.9,
             "#4d9221"
            ],
            [
             1,
             "#276419"
            ]
           ],
           "sequential": [
            [
             0,
             "#0d0887"
            ],
            [
             0.1111111111111111,
             "#46039f"
            ],
            [
             0.2222222222222222,
             "#7201a8"
            ],
            [
             0.3333333333333333,
             "#9c179e"
            ],
            [
             0.4444444444444444,
             "#bd3786"
            ],
            [
             0.5555555555555556,
             "#d8576b"
            ],
            [
             0.6666666666666666,
             "#ed7953"
            ],
            [
             0.7777777777777778,
             "#fb9f3a"
            ],
            [
             0.8888888888888888,
             "#fdca26"
            ],
            [
             1,
             "#f0f921"
            ]
           ],
           "sequentialminus": [
            [
             0,
             "#0d0887"
            ],
            [
             0.1111111111111111,
             "#46039f"
            ],
            [
             0.2222222222222222,
             "#7201a8"
            ],
            [
             0.3333333333333333,
             "#9c179e"
            ],
            [
             0.4444444444444444,
             "#bd3786"
            ],
            [
             0.5555555555555556,
             "#d8576b"
            ],
            [
             0.6666666666666666,
             "#ed7953"
            ],
            [
             0.7777777777777778,
             "#fb9f3a"
            ],
            [
             0.8888888888888888,
             "#fdca26"
            ],
            [
             1,
             "#f0f921"
            ]
           ]
          },
          "colorway": [
           "#636efa",
           "#EF553B",
           "#00cc96",
           "#ab63fa",
           "#FFA15A",
           "#19d3f3",
           "#FF6692",
           "#B6E880",
           "#FF97FF",
           "#FECB52"
          ],
          "font": {
           "color": "#2a3f5f"
          },
          "geo": {
           "bgcolor": "white",
           "lakecolor": "white",
           "landcolor": "#E5ECF6",
           "showlakes": true,
           "showland": true,
           "subunitcolor": "white"
          },
          "hoverlabel": {
           "align": "left"
          },
          "hovermode": "closest",
          "mapbox": {
           "style": "light"
          },
          "paper_bgcolor": "white",
          "plot_bgcolor": "#E5ECF6",
          "polar": {
           "angularaxis": {
            "gridcolor": "white",
            "linecolor": "white",
            "ticks": ""
           },
           "bgcolor": "#E5ECF6",
           "radialaxis": {
            "gridcolor": "white",
            "linecolor": "white",
            "ticks": ""
           }
          },
          "scene": {
           "xaxis": {
            "backgroundcolor": "#E5ECF6",
            "gridcolor": "white",
            "gridwidth": 2,
            "linecolor": "white",
            "showbackground": true,
            "ticks": "",
            "zerolinecolor": "white"
           },
           "yaxis": {
            "backgroundcolor": "#E5ECF6",
            "gridcolor": "white",
            "gridwidth": 2,
            "linecolor": "white",
            "showbackground": true,
            "ticks": "",
            "zerolinecolor": "white"
           },
           "zaxis": {
            "backgroundcolor": "#E5ECF6",
            "gridcolor": "white",
            "gridwidth": 2,
            "linecolor": "white",
            "showbackground": true,
            "ticks": "",
            "zerolinecolor": "white"
           }
          },
          "shapedefaults": {
           "line": {
            "color": "#2a3f5f"
           }
          },
          "ternary": {
           "aaxis": {
            "gridcolor": "white",
            "linecolor": "white",
            "ticks": ""
           },
           "baxis": {
            "gridcolor": "white",
            "linecolor": "white",
            "ticks": ""
           },
           "bgcolor": "#E5ECF6",
           "caxis": {
            "gridcolor": "white",
            "linecolor": "white",
            "ticks": ""
           }
          },
          "title": {
           "x": 0.05
          },
          "xaxis": {
           "automargin": true,
           "gridcolor": "white",
           "linecolor": "white",
           "ticks": "",
           "title": {
            "standoff": 15
           },
           "zerolinecolor": "white",
           "zerolinewidth": 2
          },
          "yaxis": {
           "automargin": true,
           "gridcolor": "white",
           "linecolor": "white",
           "ticks": "",
           "title": {
            "standoff": 15
           },
           "zerolinecolor": "white",
           "zerolinewidth": 2
          }
         }
        },
        "title": {
         "text": "Churn rate by OnlineBackup"
        },
        "width": 900,
        "xaxis": {
         "anchor": "y",
         "domain": [
          0,
          1
         ],
         "title": {
          "text": "OnlineBackup"
         }
        },
        "yaxis": {
         "anchor": "x",
         "domain": [
          0,
          1
         ],
         "title": {
          "text": "Count"
         }
        }
       }
      }
     },
     "metadata": {},
     "output_type": "display_data"
    },
    {
     "name": "stdout",
     "output_type": "stream",
     "text": [
      "      DeviceProtection Churn     0\n",
      "0                   No    No  1884\n",
      "1                   No   Yes  1211\n",
      "2  No internet service    No  1413\n",
      "3  No internet service   Yes   113\n",
      "4                  Yes    No  1877\n",
      "5                  Yes   Yes   545\n",
      "      DeviceProtection Churn  Count\n",
      "0                   No    No   1884\n",
      "1                   No   Yes   1211\n",
      "2  No internet service    No   1413\n",
      "3  No internet service   Yes    113\n",
      "4                  Yes    No   1877\n",
      "5                  Yes   Yes    545\n",
      "                 index  DeviceProtection\n",
      "0                   No              3095\n",
      "1                  Yes              2422\n",
      "2  No internet service              1526\n",
      "['No', 'Yes', 'No internet service']\n",
      "[3095, 2422, 1526]\n",
      "[0.43944341899758627, 0.3438875479199205, 0.21666903308249325]\n",
      "[43.9, 34.4, 21.7]\n",
      "[43.9, 34.4, 21.7]\n",
      "3\n",
      "['No', 'Yes', 'No internet service']\n",
      "3\n"
     ]
    },
    {
     "data": {
      "application/vnd.plotly.v1+json": {
       "config": {
        "plotlyServerURL": "https://plot.ly"
       },
       "data": [
        {
         "alignmentgroup": "True",
         "hovertemplate": "Churn=No<br>DeviceProtection=%{x}<br>Count=%{y}<extra></extra>",
         "legendgroup": "No",
         "marker": {
          "color": "blue",
          "pattern": {
           "shape": ""
          }
         },
         "name": "No",
         "offsetgroup": "No",
         "orientation": "v",
         "showlegend": true,
         "textposition": "auto",
         "type": "bar",
         "x": [
          "No",
          "No internet service",
          "Yes"
         ],
         "xaxis": "x",
         "y": [
          1884,
          1413,
          1877
         ],
         "yaxis": "y"
        },
        {
         "alignmentgroup": "True",
         "hovertemplate": "Churn=Yes<br>DeviceProtection=%{x}<br>Count=%{y}<extra></extra>",
         "legendgroup": "Yes",
         "marker": {
          "color": "red",
          "pattern": {
           "shape": ""
          }
         },
         "name": "Yes",
         "offsetgroup": "Yes",
         "orientation": "v",
         "showlegend": true,
         "textposition": "auto",
         "type": "bar",
         "x": [
          "No",
          "No internet service",
          "Yes"
         ],
         "xaxis": "x",
         "y": [
          1211,
          113,
          545
         ],
         "yaxis": "y"
        }
       ],
       "layout": {
        "annotations": [
         {
          "align": "left",
          "bordercolor": "black",
          "borderwidth": 1,
          "showarrow": false,
          "text": "Value count of distribution of No, Yes & No internet service are<br>43.9%, 34.4% & 21.7% percentage respectively.",
          "x": 1,
          "xref": "paper",
          "y": 1.3,
          "yref": "paper"
         }
        ],
        "barmode": "group",
        "legend": {
         "title": {
          "text": "Churn"
         },
         "tracegroupgap": 0
        },
        "template": {
         "data": {
          "bar": [
           {
            "error_x": {
             "color": "#2a3f5f"
            },
            "error_y": {
             "color": "#2a3f5f"
            },
            "marker": {
             "line": {
              "color": "#E5ECF6",
              "width": 0.5
             },
             "pattern": {
              "fillmode": "overlay",
              "size": 10,
              "solidity": 0.2
             }
            },
            "type": "bar"
           }
          ],
          "barpolar": [
           {
            "marker": {
             "line": {
              "color": "#E5ECF6",
              "width": 0.5
             },
             "pattern": {
              "fillmode": "overlay",
              "size": 10,
              "solidity": 0.2
             }
            },
            "type": "barpolar"
           }
          ],
          "carpet": [
           {
            "aaxis": {
             "endlinecolor": "#2a3f5f",
             "gridcolor": "white",
             "linecolor": "white",
             "minorgridcolor": "white",
             "startlinecolor": "#2a3f5f"
            },
            "baxis": {
             "endlinecolor": "#2a3f5f",
             "gridcolor": "white",
             "linecolor": "white",
             "minorgridcolor": "white",
             "startlinecolor": "#2a3f5f"
            },
            "type": "carpet"
           }
          ],
          "choropleth": [
           {
            "colorbar": {
             "outlinewidth": 0,
             "ticks": ""
            },
            "type": "choropleth"
           }
          ],
          "contour": [
           {
            "colorbar": {
             "outlinewidth": 0,
             "ticks": ""
            },
            "colorscale": [
             [
              0,
              "#0d0887"
             ],
             [
              0.1111111111111111,
              "#46039f"
             ],
             [
              0.2222222222222222,
              "#7201a8"
             ],
             [
              0.3333333333333333,
              "#9c179e"
             ],
             [
              0.4444444444444444,
              "#bd3786"
             ],
             [
              0.5555555555555556,
              "#d8576b"
             ],
             [
              0.6666666666666666,
              "#ed7953"
             ],
             [
              0.7777777777777778,
              "#fb9f3a"
             ],
             [
              0.8888888888888888,
              "#fdca26"
             ],
             [
              1,
              "#f0f921"
             ]
            ],
            "type": "contour"
           }
          ],
          "contourcarpet": [
           {
            "colorbar": {
             "outlinewidth": 0,
             "ticks": ""
            },
            "type": "contourcarpet"
           }
          ],
          "heatmap": [
           {
            "colorbar": {
             "outlinewidth": 0,
             "ticks": ""
            },
            "colorscale": [
             [
              0,
              "#0d0887"
             ],
             [
              0.1111111111111111,
              "#46039f"
             ],
             [
              0.2222222222222222,
              "#7201a8"
             ],
             [
              0.3333333333333333,
              "#9c179e"
             ],
             [
              0.4444444444444444,
              "#bd3786"
             ],
             [
              0.5555555555555556,
              "#d8576b"
             ],
             [
              0.6666666666666666,
              "#ed7953"
             ],
             [
              0.7777777777777778,
              "#fb9f3a"
             ],
             [
              0.8888888888888888,
              "#fdca26"
             ],
             [
              1,
              "#f0f921"
             ]
            ],
            "type": "heatmap"
           }
          ],
          "heatmapgl": [
           {
            "colorbar": {
             "outlinewidth": 0,
             "ticks": ""
            },
            "colorscale": [
             [
              0,
              "#0d0887"
             ],
             [
              0.1111111111111111,
              "#46039f"
             ],
             [
              0.2222222222222222,
              "#7201a8"
             ],
             [
              0.3333333333333333,
              "#9c179e"
             ],
             [
              0.4444444444444444,
              "#bd3786"
             ],
             [
              0.5555555555555556,
              "#d8576b"
             ],
             [
              0.6666666666666666,
              "#ed7953"
             ],
             [
              0.7777777777777778,
              "#fb9f3a"
             ],
             [
              0.8888888888888888,
              "#fdca26"
             ],
             [
              1,
              "#f0f921"
             ]
            ],
            "type": "heatmapgl"
           }
          ],
          "histogram": [
           {
            "marker": {
             "pattern": {
              "fillmode": "overlay",
              "size": 10,
              "solidity": 0.2
             }
            },
            "type": "histogram"
           }
          ],
          "histogram2d": [
           {
            "colorbar": {
             "outlinewidth": 0,
             "ticks": ""
            },
            "colorscale": [
             [
              0,
              "#0d0887"
             ],
             [
              0.1111111111111111,
              "#46039f"
             ],
             [
              0.2222222222222222,
              "#7201a8"
             ],
             [
              0.3333333333333333,
              "#9c179e"
             ],
             [
              0.4444444444444444,
              "#bd3786"
             ],
             [
              0.5555555555555556,
              "#d8576b"
             ],
             [
              0.6666666666666666,
              "#ed7953"
             ],
             [
              0.7777777777777778,
              "#fb9f3a"
             ],
             [
              0.8888888888888888,
              "#fdca26"
             ],
             [
              1,
              "#f0f921"
             ]
            ],
            "type": "histogram2d"
           }
          ],
          "histogram2dcontour": [
           {
            "colorbar": {
             "outlinewidth": 0,
             "ticks": ""
            },
            "colorscale": [
             [
              0,
              "#0d0887"
             ],
             [
              0.1111111111111111,
              "#46039f"
             ],
             [
              0.2222222222222222,
              "#7201a8"
             ],
             [
              0.3333333333333333,
              "#9c179e"
             ],
             [
              0.4444444444444444,
              "#bd3786"
             ],
             [
              0.5555555555555556,
              "#d8576b"
             ],
             [
              0.6666666666666666,
              "#ed7953"
             ],
             [
              0.7777777777777778,
              "#fb9f3a"
             ],
             [
              0.8888888888888888,
              "#fdca26"
             ],
             [
              1,
              "#f0f921"
             ]
            ],
            "type": "histogram2dcontour"
           }
          ],
          "mesh3d": [
           {
            "colorbar": {
             "outlinewidth": 0,
             "ticks": ""
            },
            "type": "mesh3d"
           }
          ],
          "parcoords": [
           {
            "line": {
             "colorbar": {
              "outlinewidth": 0,
              "ticks": ""
             }
            },
            "type": "parcoords"
           }
          ],
          "pie": [
           {
            "automargin": true,
            "type": "pie"
           }
          ],
          "scatter": [
           {
            "marker": {
             "colorbar": {
              "outlinewidth": 0,
              "ticks": ""
             }
            },
            "type": "scatter"
           }
          ],
          "scatter3d": [
           {
            "line": {
             "colorbar": {
              "outlinewidth": 0,
              "ticks": ""
             }
            },
            "marker": {
             "colorbar": {
              "outlinewidth": 0,
              "ticks": ""
             }
            },
            "type": "scatter3d"
           }
          ],
          "scattercarpet": [
           {
            "marker": {
             "colorbar": {
              "outlinewidth": 0,
              "ticks": ""
             }
            },
            "type": "scattercarpet"
           }
          ],
          "scattergeo": [
           {
            "marker": {
             "colorbar": {
              "outlinewidth": 0,
              "ticks": ""
             }
            },
            "type": "scattergeo"
           }
          ],
          "scattergl": [
           {
            "marker": {
             "colorbar": {
              "outlinewidth": 0,
              "ticks": ""
             }
            },
            "type": "scattergl"
           }
          ],
          "scattermapbox": [
           {
            "marker": {
             "colorbar": {
              "outlinewidth": 0,
              "ticks": ""
             }
            },
            "type": "scattermapbox"
           }
          ],
          "scatterpolar": [
           {
            "marker": {
             "colorbar": {
              "outlinewidth": 0,
              "ticks": ""
             }
            },
            "type": "scatterpolar"
           }
          ],
          "scatterpolargl": [
           {
            "marker": {
             "colorbar": {
              "outlinewidth": 0,
              "ticks": ""
             }
            },
            "type": "scatterpolargl"
           }
          ],
          "scatterternary": [
           {
            "marker": {
             "colorbar": {
              "outlinewidth": 0,
              "ticks": ""
             }
            },
            "type": "scatterternary"
           }
          ],
          "surface": [
           {
            "colorbar": {
             "outlinewidth": 0,
             "ticks": ""
            },
            "colorscale": [
             [
              0,
              "#0d0887"
             ],
             [
              0.1111111111111111,
              "#46039f"
             ],
             [
              0.2222222222222222,
              "#7201a8"
             ],
             [
              0.3333333333333333,
              "#9c179e"
             ],
             [
              0.4444444444444444,
              "#bd3786"
             ],
             [
              0.5555555555555556,
              "#d8576b"
             ],
             [
              0.6666666666666666,
              "#ed7953"
             ],
             [
              0.7777777777777778,
              "#fb9f3a"
             ],
             [
              0.8888888888888888,
              "#fdca26"
             ],
             [
              1,
              "#f0f921"
             ]
            ],
            "type": "surface"
           }
          ],
          "table": [
           {
            "cells": {
             "fill": {
              "color": "#EBF0F8"
             },
             "line": {
              "color": "white"
             }
            },
            "header": {
             "fill": {
              "color": "#C8D4E3"
             },
             "line": {
              "color": "white"
             }
            },
            "type": "table"
           }
          ]
         },
         "layout": {
          "annotationdefaults": {
           "arrowcolor": "#2a3f5f",
           "arrowhead": 0,
           "arrowwidth": 1
          },
          "autotypenumbers": "strict",
          "coloraxis": {
           "colorbar": {
            "outlinewidth": 0,
            "ticks": ""
           }
          },
          "colorscale": {
           "diverging": [
            [
             0,
             "#8e0152"
            ],
            [
             0.1,
             "#c51b7d"
            ],
            [
             0.2,
             "#de77ae"
            ],
            [
             0.3,
             "#f1b6da"
            ],
            [
             0.4,
             "#fde0ef"
            ],
            [
             0.5,
             "#f7f7f7"
            ],
            [
             0.6,
             "#e6f5d0"
            ],
            [
             0.7,
             "#b8e186"
            ],
            [
             0.8,
             "#7fbc41"
            ],
            [
             0.9,
             "#4d9221"
            ],
            [
             1,
             "#276419"
            ]
           ],
           "sequential": [
            [
             0,
             "#0d0887"
            ],
            [
             0.1111111111111111,
             "#46039f"
            ],
            [
             0.2222222222222222,
             "#7201a8"
            ],
            [
             0.3333333333333333,
             "#9c179e"
            ],
            [
             0.4444444444444444,
             "#bd3786"
            ],
            [
             0.5555555555555556,
             "#d8576b"
            ],
            [
             0.6666666666666666,
             "#ed7953"
            ],
            [
             0.7777777777777778,
             "#fb9f3a"
            ],
            [
             0.8888888888888888,
             "#fdca26"
            ],
            [
             1,
             "#f0f921"
            ]
           ],
           "sequentialminus": [
            [
             0,
             "#0d0887"
            ],
            [
             0.1111111111111111,
             "#46039f"
            ],
            [
             0.2222222222222222,
             "#7201a8"
            ],
            [
             0.3333333333333333,
             "#9c179e"
            ],
            [
             0.4444444444444444,
             "#bd3786"
            ],
            [
             0.5555555555555556,
             "#d8576b"
            ],
            [
             0.6666666666666666,
             "#ed7953"
            ],
            [
             0.7777777777777778,
             "#fb9f3a"
            ],
            [
             0.8888888888888888,
             "#fdca26"
            ],
            [
             1,
             "#f0f921"
            ]
           ]
          },
          "colorway": [
           "#636efa",
           "#EF553B",
           "#00cc96",
           "#ab63fa",
           "#FFA15A",
           "#19d3f3",
           "#FF6692",
           "#B6E880",
           "#FF97FF",
           "#FECB52"
          ],
          "font": {
           "color": "#2a3f5f"
          },
          "geo": {
           "bgcolor": "white",
           "lakecolor": "white",
           "landcolor": "#E5ECF6",
           "showlakes": true,
           "showland": true,
           "subunitcolor": "white"
          },
          "hoverlabel": {
           "align": "left"
          },
          "hovermode": "closest",
          "mapbox": {
           "style": "light"
          },
          "paper_bgcolor": "white",
          "plot_bgcolor": "#E5ECF6",
          "polar": {
           "angularaxis": {
            "gridcolor": "white",
            "linecolor": "white",
            "ticks": ""
           },
           "bgcolor": "#E5ECF6",
           "radialaxis": {
            "gridcolor": "white",
            "linecolor": "white",
            "ticks": ""
           }
          },
          "scene": {
           "xaxis": {
            "backgroundcolor": "#E5ECF6",
            "gridcolor": "white",
            "gridwidth": 2,
            "linecolor": "white",
            "showbackground": true,
            "ticks": "",
            "zerolinecolor": "white"
           },
           "yaxis": {
            "backgroundcolor": "#E5ECF6",
            "gridcolor": "white",
            "gridwidth": 2,
            "linecolor": "white",
            "showbackground": true,
            "ticks": "",
            "zerolinecolor": "white"
           },
           "zaxis": {
            "backgroundcolor": "#E5ECF6",
            "gridcolor": "white",
            "gridwidth": 2,
            "linecolor": "white",
            "showbackground": true,
            "ticks": "",
            "zerolinecolor": "white"
           }
          },
          "shapedefaults": {
           "line": {
            "color": "#2a3f5f"
           }
          },
          "ternary": {
           "aaxis": {
            "gridcolor": "white",
            "linecolor": "white",
            "ticks": ""
           },
           "baxis": {
            "gridcolor": "white",
            "linecolor": "white",
            "ticks": ""
           },
           "bgcolor": "#E5ECF6",
           "caxis": {
            "gridcolor": "white",
            "linecolor": "white",
            "ticks": ""
           }
          },
          "title": {
           "x": 0.05
          },
          "xaxis": {
           "automargin": true,
           "gridcolor": "white",
           "linecolor": "white",
           "ticks": "",
           "title": {
            "standoff": 15
           },
           "zerolinecolor": "white",
           "zerolinewidth": 2
          },
          "yaxis": {
           "automargin": true,
           "gridcolor": "white",
           "linecolor": "white",
           "ticks": "",
           "title": {
            "standoff": 15
           },
           "zerolinecolor": "white",
           "zerolinewidth": 2
          }
         }
        },
        "title": {
         "text": "Churn rate by DeviceProtection"
        },
        "width": 900,
        "xaxis": {
         "anchor": "y",
         "domain": [
          0,
          1
         ],
         "title": {
          "text": "DeviceProtection"
         }
        },
        "yaxis": {
         "anchor": "x",
         "domain": [
          0,
          1
         ],
         "title": {
          "text": "Count"
         }
        }
       }
      }
     },
     "metadata": {},
     "output_type": "display_data"
    },
    {
     "name": "stdout",
     "output_type": "stream",
     "text": [
      "           TechSupport Churn     0\n",
      "0                   No    No  2027\n",
      "1                   No   Yes  1446\n",
      "2  No internet service    No  1413\n",
      "3  No internet service   Yes   113\n",
      "4                  Yes    No  1734\n",
      "5                  Yes   Yes   310\n",
      "           TechSupport Churn  Count\n",
      "0                   No    No   2027\n",
      "1                   No   Yes   1446\n",
      "2  No internet service    No   1413\n",
      "3  No internet service   Yes    113\n",
      "4                  Yes    No   1734\n",
      "5                  Yes   Yes    310\n",
      "                 index  TechSupport\n",
      "0                   No         3473\n",
      "1                  Yes         2044\n",
      "2  No internet service         1526\n",
      "['No', 'Yes', 'No internet service']\n",
      "[3473, 2044, 1526]\n",
      "[0.4931137299446259, 0.2902172369728809, 0.21666903308249325]\n",
      "[49.3, 29.0, 21.7]\n",
      "[49.3, 29.0, 21.7]\n",
      "3\n",
      "['No', 'Yes', 'No internet service']\n",
      "3\n"
     ]
    },
    {
     "data": {
      "application/vnd.plotly.v1+json": {
       "config": {
        "plotlyServerURL": "https://plot.ly"
       },
       "data": [
        {
         "alignmentgroup": "True",
         "hovertemplate": "Churn=No<br>TechSupport=%{x}<br>Count=%{y}<extra></extra>",
         "legendgroup": "No",
         "marker": {
          "color": "blue",
          "pattern": {
           "shape": ""
          }
         },
         "name": "No",
         "offsetgroup": "No",
         "orientation": "v",
         "showlegend": true,
         "textposition": "auto",
         "type": "bar",
         "x": [
          "No",
          "No internet service",
          "Yes"
         ],
         "xaxis": "x",
         "y": [
          2027,
          1413,
          1734
         ],
         "yaxis": "y"
        },
        {
         "alignmentgroup": "True",
         "hovertemplate": "Churn=Yes<br>TechSupport=%{x}<br>Count=%{y}<extra></extra>",
         "legendgroup": "Yes",
         "marker": {
          "color": "red",
          "pattern": {
           "shape": ""
          }
         },
         "name": "Yes",
         "offsetgroup": "Yes",
         "orientation": "v",
         "showlegend": true,
         "textposition": "auto",
         "type": "bar",
         "x": [
          "No",
          "No internet service",
          "Yes"
         ],
         "xaxis": "x",
         "y": [
          1446,
          113,
          310
         ],
         "yaxis": "y"
        }
       ],
       "layout": {
        "annotations": [
         {
          "align": "left",
          "bordercolor": "black",
          "borderwidth": 1,
          "showarrow": false,
          "text": "Value count of distribution of No, Yes & No internet service are<br>49.3%, 29.0% & 21.7% percentage respectively.",
          "x": 1,
          "xref": "paper",
          "y": 1.3,
          "yref": "paper"
         }
        ],
        "barmode": "group",
        "legend": {
         "title": {
          "text": "Churn"
         },
         "tracegroupgap": 0
        },
        "template": {
         "data": {
          "bar": [
           {
            "error_x": {
             "color": "#2a3f5f"
            },
            "error_y": {
             "color": "#2a3f5f"
            },
            "marker": {
             "line": {
              "color": "#E5ECF6",
              "width": 0.5
             },
             "pattern": {
              "fillmode": "overlay",
              "size": 10,
              "solidity": 0.2
             }
            },
            "type": "bar"
           }
          ],
          "barpolar": [
           {
            "marker": {
             "line": {
              "color": "#E5ECF6",
              "width": 0.5
             },
             "pattern": {
              "fillmode": "overlay",
              "size": 10,
              "solidity": 0.2
             }
            },
            "type": "barpolar"
           }
          ],
          "carpet": [
           {
            "aaxis": {
             "endlinecolor": "#2a3f5f",
             "gridcolor": "white",
             "linecolor": "white",
             "minorgridcolor": "white",
             "startlinecolor": "#2a3f5f"
            },
            "baxis": {
             "endlinecolor": "#2a3f5f",
             "gridcolor": "white",
             "linecolor": "white",
             "minorgridcolor": "white",
             "startlinecolor": "#2a3f5f"
            },
            "type": "carpet"
           }
          ],
          "choropleth": [
           {
            "colorbar": {
             "outlinewidth": 0,
             "ticks": ""
            },
            "type": "choropleth"
           }
          ],
          "contour": [
           {
            "colorbar": {
             "outlinewidth": 0,
             "ticks": ""
            },
            "colorscale": [
             [
              0,
              "#0d0887"
             ],
             [
              0.1111111111111111,
              "#46039f"
             ],
             [
              0.2222222222222222,
              "#7201a8"
             ],
             [
              0.3333333333333333,
              "#9c179e"
             ],
             [
              0.4444444444444444,
              "#bd3786"
             ],
             [
              0.5555555555555556,
              "#d8576b"
             ],
             [
              0.6666666666666666,
              "#ed7953"
             ],
             [
              0.7777777777777778,
              "#fb9f3a"
             ],
             [
              0.8888888888888888,
              "#fdca26"
             ],
             [
              1,
              "#f0f921"
             ]
            ],
            "type": "contour"
           }
          ],
          "contourcarpet": [
           {
            "colorbar": {
             "outlinewidth": 0,
             "ticks": ""
            },
            "type": "contourcarpet"
           }
          ],
          "heatmap": [
           {
            "colorbar": {
             "outlinewidth": 0,
             "ticks": ""
            },
            "colorscale": [
             [
              0,
              "#0d0887"
             ],
             [
              0.1111111111111111,
              "#46039f"
             ],
             [
              0.2222222222222222,
              "#7201a8"
             ],
             [
              0.3333333333333333,
              "#9c179e"
             ],
             [
              0.4444444444444444,
              "#bd3786"
             ],
             [
              0.5555555555555556,
              "#d8576b"
             ],
             [
              0.6666666666666666,
              "#ed7953"
             ],
             [
              0.7777777777777778,
              "#fb9f3a"
             ],
             [
              0.8888888888888888,
              "#fdca26"
             ],
             [
              1,
              "#f0f921"
             ]
            ],
            "type": "heatmap"
           }
          ],
          "heatmapgl": [
           {
            "colorbar": {
             "outlinewidth": 0,
             "ticks": ""
            },
            "colorscale": [
             [
              0,
              "#0d0887"
             ],
             [
              0.1111111111111111,
              "#46039f"
             ],
             [
              0.2222222222222222,
              "#7201a8"
             ],
             [
              0.3333333333333333,
              "#9c179e"
             ],
             [
              0.4444444444444444,
              "#bd3786"
             ],
             [
              0.5555555555555556,
              "#d8576b"
             ],
             [
              0.6666666666666666,
              "#ed7953"
             ],
             [
              0.7777777777777778,
              "#fb9f3a"
             ],
             [
              0.8888888888888888,
              "#fdca26"
             ],
             [
              1,
              "#f0f921"
             ]
            ],
            "type": "heatmapgl"
           }
          ],
          "histogram": [
           {
            "marker": {
             "pattern": {
              "fillmode": "overlay",
              "size": 10,
              "solidity": 0.2
             }
            },
            "type": "histogram"
           }
          ],
          "histogram2d": [
           {
            "colorbar": {
             "outlinewidth": 0,
             "ticks": ""
            },
            "colorscale": [
             [
              0,
              "#0d0887"
             ],
             [
              0.1111111111111111,
              "#46039f"
             ],
             [
              0.2222222222222222,
              "#7201a8"
             ],
             [
              0.3333333333333333,
              "#9c179e"
             ],
             [
              0.4444444444444444,
              "#bd3786"
             ],
             [
              0.5555555555555556,
              "#d8576b"
             ],
             [
              0.6666666666666666,
              "#ed7953"
             ],
             [
              0.7777777777777778,
              "#fb9f3a"
             ],
             [
              0.8888888888888888,
              "#fdca26"
             ],
             [
              1,
              "#f0f921"
             ]
            ],
            "type": "histogram2d"
           }
          ],
          "histogram2dcontour": [
           {
            "colorbar": {
             "outlinewidth": 0,
             "ticks": ""
            },
            "colorscale": [
             [
              0,
              "#0d0887"
             ],
             [
              0.1111111111111111,
              "#46039f"
             ],
             [
              0.2222222222222222,
              "#7201a8"
             ],
             [
              0.3333333333333333,
              "#9c179e"
             ],
             [
              0.4444444444444444,
              "#bd3786"
             ],
             [
              0.5555555555555556,
              "#d8576b"
             ],
             [
              0.6666666666666666,
              "#ed7953"
             ],
             [
              0.7777777777777778,
              "#fb9f3a"
             ],
             [
              0.8888888888888888,
              "#fdca26"
             ],
             [
              1,
              "#f0f921"
             ]
            ],
            "type": "histogram2dcontour"
           }
          ],
          "mesh3d": [
           {
            "colorbar": {
             "outlinewidth": 0,
             "ticks": ""
            },
            "type": "mesh3d"
           }
          ],
          "parcoords": [
           {
            "line": {
             "colorbar": {
              "outlinewidth": 0,
              "ticks": ""
             }
            },
            "type": "parcoords"
           }
          ],
          "pie": [
           {
            "automargin": true,
            "type": "pie"
           }
          ],
          "scatter": [
           {
            "marker": {
             "colorbar": {
              "outlinewidth": 0,
              "ticks": ""
             }
            },
            "type": "scatter"
           }
          ],
          "scatter3d": [
           {
            "line": {
             "colorbar": {
              "outlinewidth": 0,
              "ticks": ""
             }
            },
            "marker": {
             "colorbar": {
              "outlinewidth": 0,
              "ticks": ""
             }
            },
            "type": "scatter3d"
           }
          ],
          "scattercarpet": [
           {
            "marker": {
             "colorbar": {
              "outlinewidth": 0,
              "ticks": ""
             }
            },
            "type": "scattercarpet"
           }
          ],
          "scattergeo": [
           {
            "marker": {
             "colorbar": {
              "outlinewidth": 0,
              "ticks": ""
             }
            },
            "type": "scattergeo"
           }
          ],
          "scattergl": [
           {
            "marker": {
             "colorbar": {
              "outlinewidth": 0,
              "ticks": ""
             }
            },
            "type": "scattergl"
           }
          ],
          "scattermapbox": [
           {
            "marker": {
             "colorbar": {
              "outlinewidth": 0,
              "ticks": ""
             }
            },
            "type": "scattermapbox"
           }
          ],
          "scatterpolar": [
           {
            "marker": {
             "colorbar": {
              "outlinewidth": 0,
              "ticks": ""
             }
            },
            "type": "scatterpolar"
           }
          ],
          "scatterpolargl": [
           {
            "marker": {
             "colorbar": {
              "outlinewidth": 0,
              "ticks": ""
             }
            },
            "type": "scatterpolargl"
           }
          ],
          "scatterternary": [
           {
            "marker": {
             "colorbar": {
              "outlinewidth": 0,
              "ticks": ""
             }
            },
            "type": "scatterternary"
           }
          ],
          "surface": [
           {
            "colorbar": {
             "outlinewidth": 0,
             "ticks": ""
            },
            "colorscale": [
             [
              0,
              "#0d0887"
             ],
             [
              0.1111111111111111,
              "#46039f"
             ],
             [
              0.2222222222222222,
              "#7201a8"
             ],
             [
              0.3333333333333333,
              "#9c179e"
             ],
             [
              0.4444444444444444,
              "#bd3786"
             ],
             [
              0.5555555555555556,
              "#d8576b"
             ],
             [
              0.6666666666666666,
              "#ed7953"
             ],
             [
              0.7777777777777778,
              "#fb9f3a"
             ],
             [
              0.8888888888888888,
              "#fdca26"
             ],
             [
              1,
              "#f0f921"
             ]
            ],
            "type": "surface"
           }
          ],
          "table": [
           {
            "cells": {
             "fill": {
              "color": "#EBF0F8"
             },
             "line": {
              "color": "white"
             }
            },
            "header": {
             "fill": {
              "color": "#C8D4E3"
             },
             "line": {
              "color": "white"
             }
            },
            "type": "table"
           }
          ]
         },
         "layout": {
          "annotationdefaults": {
           "arrowcolor": "#2a3f5f",
           "arrowhead": 0,
           "arrowwidth": 1
          },
          "autotypenumbers": "strict",
          "coloraxis": {
           "colorbar": {
            "outlinewidth": 0,
            "ticks": ""
           }
          },
          "colorscale": {
           "diverging": [
            [
             0,
             "#8e0152"
            ],
            [
             0.1,
             "#c51b7d"
            ],
            [
             0.2,
             "#de77ae"
            ],
            [
             0.3,
             "#f1b6da"
            ],
            [
             0.4,
             "#fde0ef"
            ],
            [
             0.5,
             "#f7f7f7"
            ],
            [
             0.6,
             "#e6f5d0"
            ],
            [
             0.7,
             "#b8e186"
            ],
            [
             0.8,
             "#7fbc41"
            ],
            [
             0.9,
             "#4d9221"
            ],
            [
             1,
             "#276419"
            ]
           ],
           "sequential": [
            [
             0,
             "#0d0887"
            ],
            [
             0.1111111111111111,
             "#46039f"
            ],
            [
             0.2222222222222222,
             "#7201a8"
            ],
            [
             0.3333333333333333,
             "#9c179e"
            ],
            [
             0.4444444444444444,
             "#bd3786"
            ],
            [
             0.5555555555555556,
             "#d8576b"
            ],
            [
             0.6666666666666666,
             "#ed7953"
            ],
            [
             0.7777777777777778,
             "#fb9f3a"
            ],
            [
             0.8888888888888888,
             "#fdca26"
            ],
            [
             1,
             "#f0f921"
            ]
           ],
           "sequentialminus": [
            [
             0,
             "#0d0887"
            ],
            [
             0.1111111111111111,
             "#46039f"
            ],
            [
             0.2222222222222222,
             "#7201a8"
            ],
            [
             0.3333333333333333,
             "#9c179e"
            ],
            [
             0.4444444444444444,
             "#bd3786"
            ],
            [
             0.5555555555555556,
             "#d8576b"
            ],
            [
             0.6666666666666666,
             "#ed7953"
            ],
            [
             0.7777777777777778,
             "#fb9f3a"
            ],
            [
             0.8888888888888888,
             "#fdca26"
            ],
            [
             1,
             "#f0f921"
            ]
           ]
          },
          "colorway": [
           "#636efa",
           "#EF553B",
           "#00cc96",
           "#ab63fa",
           "#FFA15A",
           "#19d3f3",
           "#FF6692",
           "#B6E880",
           "#FF97FF",
           "#FECB52"
          ],
          "font": {
           "color": "#2a3f5f"
          },
          "geo": {
           "bgcolor": "white",
           "lakecolor": "white",
           "landcolor": "#E5ECF6",
           "showlakes": true,
           "showland": true,
           "subunitcolor": "white"
          },
          "hoverlabel": {
           "align": "left"
          },
          "hovermode": "closest",
          "mapbox": {
           "style": "light"
          },
          "paper_bgcolor": "white",
          "plot_bgcolor": "#E5ECF6",
          "polar": {
           "angularaxis": {
            "gridcolor": "white",
            "linecolor": "white",
            "ticks": ""
           },
           "bgcolor": "#E5ECF6",
           "radialaxis": {
            "gridcolor": "white",
            "linecolor": "white",
            "ticks": ""
           }
          },
          "scene": {
           "xaxis": {
            "backgroundcolor": "#E5ECF6",
            "gridcolor": "white",
            "gridwidth": 2,
            "linecolor": "white",
            "showbackground": true,
            "ticks": "",
            "zerolinecolor": "white"
           },
           "yaxis": {
            "backgroundcolor": "#E5ECF6",
            "gridcolor": "white",
            "gridwidth": 2,
            "linecolor": "white",
            "showbackground": true,
            "ticks": "",
            "zerolinecolor": "white"
           },
           "zaxis": {
            "backgroundcolor": "#E5ECF6",
            "gridcolor": "white",
            "gridwidth": 2,
            "linecolor": "white",
            "showbackground": true,
            "ticks": "",
            "zerolinecolor": "white"
           }
          },
          "shapedefaults": {
           "line": {
            "color": "#2a3f5f"
           }
          },
          "ternary": {
           "aaxis": {
            "gridcolor": "white",
            "linecolor": "white",
            "ticks": ""
           },
           "baxis": {
            "gridcolor": "white",
            "linecolor": "white",
            "ticks": ""
           },
           "bgcolor": "#E5ECF6",
           "caxis": {
            "gridcolor": "white",
            "linecolor": "white",
            "ticks": ""
           }
          },
          "title": {
           "x": 0.05
          },
          "xaxis": {
           "automargin": true,
           "gridcolor": "white",
           "linecolor": "white",
           "ticks": "",
           "title": {
            "standoff": 15
           },
           "zerolinecolor": "white",
           "zerolinewidth": 2
          },
          "yaxis": {
           "automargin": true,
           "gridcolor": "white",
           "linecolor": "white",
           "ticks": "",
           "title": {
            "standoff": 15
           },
           "zerolinecolor": "white",
           "zerolinewidth": 2
          }
         }
        },
        "title": {
         "text": "Churn rate by TechSupport"
        },
        "width": 900,
        "xaxis": {
         "anchor": "y",
         "domain": [
          0,
          1
         ],
         "title": {
          "text": "TechSupport"
         }
        },
        "yaxis": {
         "anchor": "x",
         "domain": [
          0,
          1
         ],
         "title": {
          "text": "Count"
         }
        }
       }
      }
     },
     "metadata": {},
     "output_type": "display_data"
    },
    {
     "name": "stdout",
     "output_type": "stream",
     "text": [
      "           StreamingTV Churn     0\n",
      "0                   No    No  1868\n",
      "1                   No   Yes   942\n",
      "2  No internet service    No  1413\n",
      "3  No internet service   Yes   113\n",
      "4                  Yes    No  1893\n",
      "5                  Yes   Yes   814\n",
      "           StreamingTV Churn  Count\n",
      "0                   No    No   1868\n",
      "1                   No   Yes    942\n",
      "2  No internet service    No   1413\n",
      "3  No internet service   Yes    113\n",
      "4                  Yes    No   1893\n",
      "5                  Yes   Yes    814\n",
      "                 index  StreamingTV\n",
      "0                   No         2810\n",
      "1                  Yes         2707\n",
      "2  No internet service         1526\n",
      "['No', 'Yes', 'No internet service']\n",
      "[2810, 2707, 1526]\n",
      "[0.3989777083629135, 0.38435325855459324, 0.21666903308249325]\n",
      "[39.9, 38.4, 21.7]\n",
      "[39.9, 38.4, 21.7]\n",
      "3\n",
      "['No', 'Yes', 'No internet service']\n",
      "3\n"
     ]
    },
    {
     "data": {
      "application/vnd.plotly.v1+json": {
       "config": {
        "plotlyServerURL": "https://plot.ly"
       },
       "data": [
        {
         "alignmentgroup": "True",
         "hovertemplate": "Churn=No<br>StreamingTV=%{x}<br>Count=%{y}<extra></extra>",
         "legendgroup": "No",
         "marker": {
          "color": "blue",
          "pattern": {
           "shape": ""
          }
         },
         "name": "No",
         "offsetgroup": "No",
         "orientation": "v",
         "showlegend": true,
         "textposition": "auto",
         "type": "bar",
         "x": [
          "No",
          "No internet service",
          "Yes"
         ],
         "xaxis": "x",
         "y": [
          1868,
          1413,
          1893
         ],
         "yaxis": "y"
        },
        {
         "alignmentgroup": "True",
         "hovertemplate": "Churn=Yes<br>StreamingTV=%{x}<br>Count=%{y}<extra></extra>",
         "legendgroup": "Yes",
         "marker": {
          "color": "red",
          "pattern": {
           "shape": ""
          }
         },
         "name": "Yes",
         "offsetgroup": "Yes",
         "orientation": "v",
         "showlegend": true,
         "textposition": "auto",
         "type": "bar",
         "x": [
          "No",
          "No internet service",
          "Yes"
         ],
         "xaxis": "x",
         "y": [
          942,
          113,
          814
         ],
         "yaxis": "y"
        }
       ],
       "layout": {
        "annotations": [
         {
          "align": "left",
          "bordercolor": "black",
          "borderwidth": 1,
          "showarrow": false,
          "text": "Value count of distribution of No, Yes & No internet service are<br>39.9%, 38.4% & 21.7% percentage respectively.",
          "x": 1,
          "xref": "paper",
          "y": 1.3,
          "yref": "paper"
         }
        ],
        "barmode": "group",
        "legend": {
         "title": {
          "text": "Churn"
         },
         "tracegroupgap": 0
        },
        "template": {
         "data": {
          "bar": [
           {
            "error_x": {
             "color": "#2a3f5f"
            },
            "error_y": {
             "color": "#2a3f5f"
            },
            "marker": {
             "line": {
              "color": "#E5ECF6",
              "width": 0.5
             },
             "pattern": {
              "fillmode": "overlay",
              "size": 10,
              "solidity": 0.2
             }
            },
            "type": "bar"
           }
          ],
          "barpolar": [
           {
            "marker": {
             "line": {
              "color": "#E5ECF6",
              "width": 0.5
             },
             "pattern": {
              "fillmode": "overlay",
              "size": 10,
              "solidity": 0.2
             }
            },
            "type": "barpolar"
           }
          ],
          "carpet": [
           {
            "aaxis": {
             "endlinecolor": "#2a3f5f",
             "gridcolor": "white",
             "linecolor": "white",
             "minorgridcolor": "white",
             "startlinecolor": "#2a3f5f"
            },
            "baxis": {
             "endlinecolor": "#2a3f5f",
             "gridcolor": "white",
             "linecolor": "white",
             "minorgridcolor": "white",
             "startlinecolor": "#2a3f5f"
            },
            "type": "carpet"
           }
          ],
          "choropleth": [
           {
            "colorbar": {
             "outlinewidth": 0,
             "ticks": ""
            },
            "type": "choropleth"
           }
          ],
          "contour": [
           {
            "colorbar": {
             "outlinewidth": 0,
             "ticks": ""
            },
            "colorscale": [
             [
              0,
              "#0d0887"
             ],
             [
              0.1111111111111111,
              "#46039f"
             ],
             [
              0.2222222222222222,
              "#7201a8"
             ],
             [
              0.3333333333333333,
              "#9c179e"
             ],
             [
              0.4444444444444444,
              "#bd3786"
             ],
             [
              0.5555555555555556,
              "#d8576b"
             ],
             [
              0.6666666666666666,
              "#ed7953"
             ],
             [
              0.7777777777777778,
              "#fb9f3a"
             ],
             [
              0.8888888888888888,
              "#fdca26"
             ],
             [
              1,
              "#f0f921"
             ]
            ],
            "type": "contour"
           }
          ],
          "contourcarpet": [
           {
            "colorbar": {
             "outlinewidth": 0,
             "ticks": ""
            },
            "type": "contourcarpet"
           }
          ],
          "heatmap": [
           {
            "colorbar": {
             "outlinewidth": 0,
             "ticks": ""
            },
            "colorscale": [
             [
              0,
              "#0d0887"
             ],
             [
              0.1111111111111111,
              "#46039f"
             ],
             [
              0.2222222222222222,
              "#7201a8"
             ],
             [
              0.3333333333333333,
              "#9c179e"
             ],
             [
              0.4444444444444444,
              "#bd3786"
             ],
             [
              0.5555555555555556,
              "#d8576b"
             ],
             [
              0.6666666666666666,
              "#ed7953"
             ],
             [
              0.7777777777777778,
              "#fb9f3a"
             ],
             [
              0.8888888888888888,
              "#fdca26"
             ],
             [
              1,
              "#f0f921"
             ]
            ],
            "type": "heatmap"
           }
          ],
          "heatmapgl": [
           {
            "colorbar": {
             "outlinewidth": 0,
             "ticks": ""
            },
            "colorscale": [
             [
              0,
              "#0d0887"
             ],
             [
              0.1111111111111111,
              "#46039f"
             ],
             [
              0.2222222222222222,
              "#7201a8"
             ],
             [
              0.3333333333333333,
              "#9c179e"
             ],
             [
              0.4444444444444444,
              "#bd3786"
             ],
             [
              0.5555555555555556,
              "#d8576b"
             ],
             [
              0.6666666666666666,
              "#ed7953"
             ],
             [
              0.7777777777777778,
              "#fb9f3a"
             ],
             [
              0.8888888888888888,
              "#fdca26"
             ],
             [
              1,
              "#f0f921"
             ]
            ],
            "type": "heatmapgl"
           }
          ],
          "histogram": [
           {
            "marker": {
             "pattern": {
              "fillmode": "overlay",
              "size": 10,
              "solidity": 0.2
             }
            },
            "type": "histogram"
           }
          ],
          "histogram2d": [
           {
            "colorbar": {
             "outlinewidth": 0,
             "ticks": ""
            },
            "colorscale": [
             [
              0,
              "#0d0887"
             ],
             [
              0.1111111111111111,
              "#46039f"
             ],
             [
              0.2222222222222222,
              "#7201a8"
             ],
             [
              0.3333333333333333,
              "#9c179e"
             ],
             [
              0.4444444444444444,
              "#bd3786"
             ],
             [
              0.5555555555555556,
              "#d8576b"
             ],
             [
              0.6666666666666666,
              "#ed7953"
             ],
             [
              0.7777777777777778,
              "#fb9f3a"
             ],
             [
              0.8888888888888888,
              "#fdca26"
             ],
             [
              1,
              "#f0f921"
             ]
            ],
            "type": "histogram2d"
           }
          ],
          "histogram2dcontour": [
           {
            "colorbar": {
             "outlinewidth": 0,
             "ticks": ""
            },
            "colorscale": [
             [
              0,
              "#0d0887"
             ],
             [
              0.1111111111111111,
              "#46039f"
             ],
             [
              0.2222222222222222,
              "#7201a8"
             ],
             [
              0.3333333333333333,
              "#9c179e"
             ],
             [
              0.4444444444444444,
              "#bd3786"
             ],
             [
              0.5555555555555556,
              "#d8576b"
             ],
             [
              0.6666666666666666,
              "#ed7953"
             ],
             [
              0.7777777777777778,
              "#fb9f3a"
             ],
             [
              0.8888888888888888,
              "#fdca26"
             ],
             [
              1,
              "#f0f921"
             ]
            ],
            "type": "histogram2dcontour"
           }
          ],
          "mesh3d": [
           {
            "colorbar": {
             "outlinewidth": 0,
             "ticks": ""
            },
            "type": "mesh3d"
           }
          ],
          "parcoords": [
           {
            "line": {
             "colorbar": {
              "outlinewidth": 0,
              "ticks": ""
             }
            },
            "type": "parcoords"
           }
          ],
          "pie": [
           {
            "automargin": true,
            "type": "pie"
           }
          ],
          "scatter": [
           {
            "marker": {
             "colorbar": {
              "outlinewidth": 0,
              "ticks": ""
             }
            },
            "type": "scatter"
           }
          ],
          "scatter3d": [
           {
            "line": {
             "colorbar": {
              "outlinewidth": 0,
              "ticks": ""
             }
            },
            "marker": {
             "colorbar": {
              "outlinewidth": 0,
              "ticks": ""
             }
            },
            "type": "scatter3d"
           }
          ],
          "scattercarpet": [
           {
            "marker": {
             "colorbar": {
              "outlinewidth": 0,
              "ticks": ""
             }
            },
            "type": "scattercarpet"
           }
          ],
          "scattergeo": [
           {
            "marker": {
             "colorbar": {
              "outlinewidth": 0,
              "ticks": ""
             }
            },
            "type": "scattergeo"
           }
          ],
          "scattergl": [
           {
            "marker": {
             "colorbar": {
              "outlinewidth": 0,
              "ticks": ""
             }
            },
            "type": "scattergl"
           }
          ],
          "scattermapbox": [
           {
            "marker": {
             "colorbar": {
              "outlinewidth": 0,
              "ticks": ""
             }
            },
            "type": "scattermapbox"
           }
          ],
          "scatterpolar": [
           {
            "marker": {
             "colorbar": {
              "outlinewidth": 0,
              "ticks": ""
             }
            },
            "type": "scatterpolar"
           }
          ],
          "scatterpolargl": [
           {
            "marker": {
             "colorbar": {
              "outlinewidth": 0,
              "ticks": ""
             }
            },
            "type": "scatterpolargl"
           }
          ],
          "scatterternary": [
           {
            "marker": {
             "colorbar": {
              "outlinewidth": 0,
              "ticks": ""
             }
            },
            "type": "scatterternary"
           }
          ],
          "surface": [
           {
            "colorbar": {
             "outlinewidth": 0,
             "ticks": ""
            },
            "colorscale": [
             [
              0,
              "#0d0887"
             ],
             [
              0.1111111111111111,
              "#46039f"
             ],
             [
              0.2222222222222222,
              "#7201a8"
             ],
             [
              0.3333333333333333,
              "#9c179e"
             ],
             [
              0.4444444444444444,
              "#bd3786"
             ],
             [
              0.5555555555555556,
              "#d8576b"
             ],
             [
              0.6666666666666666,
              "#ed7953"
             ],
             [
              0.7777777777777778,
              "#fb9f3a"
             ],
             [
              0.8888888888888888,
              "#fdca26"
             ],
             [
              1,
              "#f0f921"
             ]
            ],
            "type": "surface"
           }
          ],
          "table": [
           {
            "cells": {
             "fill": {
              "color": "#EBF0F8"
             },
             "line": {
              "color": "white"
             }
            },
            "header": {
             "fill": {
              "color": "#C8D4E3"
             },
             "line": {
              "color": "white"
             }
            },
            "type": "table"
           }
          ]
         },
         "layout": {
          "annotationdefaults": {
           "arrowcolor": "#2a3f5f",
           "arrowhead": 0,
           "arrowwidth": 1
          },
          "autotypenumbers": "strict",
          "coloraxis": {
           "colorbar": {
            "outlinewidth": 0,
            "ticks": ""
           }
          },
          "colorscale": {
           "diverging": [
            [
             0,
             "#8e0152"
            ],
            [
             0.1,
             "#c51b7d"
            ],
            [
             0.2,
             "#de77ae"
            ],
            [
             0.3,
             "#f1b6da"
            ],
            [
             0.4,
             "#fde0ef"
            ],
            [
             0.5,
             "#f7f7f7"
            ],
            [
             0.6,
             "#e6f5d0"
            ],
            [
             0.7,
             "#b8e186"
            ],
            [
             0.8,
             "#7fbc41"
            ],
            [
             0.9,
             "#4d9221"
            ],
            [
             1,
             "#276419"
            ]
           ],
           "sequential": [
            [
             0,
             "#0d0887"
            ],
            [
             0.1111111111111111,
             "#46039f"
            ],
            [
             0.2222222222222222,
             "#7201a8"
            ],
            [
             0.3333333333333333,
             "#9c179e"
            ],
            [
             0.4444444444444444,
             "#bd3786"
            ],
            [
             0.5555555555555556,
             "#d8576b"
            ],
            [
             0.6666666666666666,
             "#ed7953"
            ],
            [
             0.7777777777777778,
             "#fb9f3a"
            ],
            [
             0.8888888888888888,
             "#fdca26"
            ],
            [
             1,
             "#f0f921"
            ]
           ],
           "sequentialminus": [
            [
             0,
             "#0d0887"
            ],
            [
             0.1111111111111111,
             "#46039f"
            ],
            [
             0.2222222222222222,
             "#7201a8"
            ],
            [
             0.3333333333333333,
             "#9c179e"
            ],
            [
             0.4444444444444444,
             "#bd3786"
            ],
            [
             0.5555555555555556,
             "#d8576b"
            ],
            [
             0.6666666666666666,
             "#ed7953"
            ],
            [
             0.7777777777777778,
             "#fb9f3a"
            ],
            [
             0.8888888888888888,
             "#fdca26"
            ],
            [
             1,
             "#f0f921"
            ]
           ]
          },
          "colorway": [
           "#636efa",
           "#EF553B",
           "#00cc96",
           "#ab63fa",
           "#FFA15A",
           "#19d3f3",
           "#FF6692",
           "#B6E880",
           "#FF97FF",
           "#FECB52"
          ],
          "font": {
           "color": "#2a3f5f"
          },
          "geo": {
           "bgcolor": "white",
           "lakecolor": "white",
           "landcolor": "#E5ECF6",
           "showlakes": true,
           "showland": true,
           "subunitcolor": "white"
          },
          "hoverlabel": {
           "align": "left"
          },
          "hovermode": "closest",
          "mapbox": {
           "style": "light"
          },
          "paper_bgcolor": "white",
          "plot_bgcolor": "#E5ECF6",
          "polar": {
           "angularaxis": {
            "gridcolor": "white",
            "linecolor": "white",
            "ticks": ""
           },
           "bgcolor": "#E5ECF6",
           "radialaxis": {
            "gridcolor": "white",
            "linecolor": "white",
            "ticks": ""
           }
          },
          "scene": {
           "xaxis": {
            "backgroundcolor": "#E5ECF6",
            "gridcolor": "white",
            "gridwidth": 2,
            "linecolor": "white",
            "showbackground": true,
            "ticks": "",
            "zerolinecolor": "white"
           },
           "yaxis": {
            "backgroundcolor": "#E5ECF6",
            "gridcolor": "white",
            "gridwidth": 2,
            "linecolor": "white",
            "showbackground": true,
            "ticks": "",
            "zerolinecolor": "white"
           },
           "zaxis": {
            "backgroundcolor": "#E5ECF6",
            "gridcolor": "white",
            "gridwidth": 2,
            "linecolor": "white",
            "showbackground": true,
            "ticks": "",
            "zerolinecolor": "white"
           }
          },
          "shapedefaults": {
           "line": {
            "color": "#2a3f5f"
           }
          },
          "ternary": {
           "aaxis": {
            "gridcolor": "white",
            "linecolor": "white",
            "ticks": ""
           },
           "baxis": {
            "gridcolor": "white",
            "linecolor": "white",
            "ticks": ""
           },
           "bgcolor": "#E5ECF6",
           "caxis": {
            "gridcolor": "white",
            "linecolor": "white",
            "ticks": ""
           }
          },
          "title": {
           "x": 0.05
          },
          "xaxis": {
           "automargin": true,
           "gridcolor": "white",
           "linecolor": "white",
           "ticks": "",
           "title": {
            "standoff": 15
           },
           "zerolinecolor": "white",
           "zerolinewidth": 2
          },
          "yaxis": {
           "automargin": true,
           "gridcolor": "white",
           "linecolor": "white",
           "ticks": "",
           "title": {
            "standoff": 15
           },
           "zerolinecolor": "white",
           "zerolinewidth": 2
          }
         }
        },
        "title": {
         "text": "Churn rate by StreamingTV"
        },
        "width": 900,
        "xaxis": {
         "anchor": "y",
         "domain": [
          0,
          1
         ],
         "title": {
          "text": "StreamingTV"
         }
        },
        "yaxis": {
         "anchor": "x",
         "domain": [
          0,
          1
         ],
         "title": {
          "text": "Count"
         }
        }
       }
      }
     },
     "metadata": {},
     "output_type": "display_data"
    },
    {
     "name": "stdout",
     "output_type": "stream",
     "text": [
      "       StreamingMovies Churn     0\n",
      "0                   No    No  1847\n",
      "1                   No   Yes   938\n",
      "2  No internet service    No  1413\n",
      "3  No internet service   Yes   113\n",
      "4                  Yes    No  1914\n",
      "5                  Yes   Yes   818\n",
      "       StreamingMovies Churn  Count\n",
      "0                   No    No   1847\n",
      "1                   No   Yes    938\n",
      "2  No internet service    No   1413\n",
      "3  No internet service   Yes    113\n",
      "4                  Yes    No   1914\n",
      "5                  Yes   Yes    818\n",
      "                 index  StreamingMovies\n",
      "0                   No             2785\n",
      "1                  Yes             2732\n",
      "2  No internet service             1526\n",
      "['No', 'Yes', 'No internet service']\n",
      "[2785, 2732, 1526]\n",
      "[0.39542808462303, 0.3879028822944768, 0.21666903308249325]\n",
      "[39.5, 38.8, 21.7]\n",
      "[39.5, 38.8, 21.7]\n",
      "3\n",
      "['No', 'Yes', 'No internet service']\n",
      "3\n"
     ]
    },
    {
     "data": {
      "application/vnd.plotly.v1+json": {
       "config": {
        "plotlyServerURL": "https://plot.ly"
       },
       "data": [
        {
         "alignmentgroup": "True",
         "hovertemplate": "Churn=No<br>StreamingMovies=%{x}<br>Count=%{y}<extra></extra>",
         "legendgroup": "No",
         "marker": {
          "color": "blue",
          "pattern": {
           "shape": ""
          }
         },
         "name": "No",
         "offsetgroup": "No",
         "orientation": "v",
         "showlegend": true,
         "textposition": "auto",
         "type": "bar",
         "x": [
          "No",
          "No internet service",
          "Yes"
         ],
         "xaxis": "x",
         "y": [
          1847,
          1413,
          1914
         ],
         "yaxis": "y"
        },
        {
         "alignmentgroup": "True",
         "hovertemplate": "Churn=Yes<br>StreamingMovies=%{x}<br>Count=%{y}<extra></extra>",
         "legendgroup": "Yes",
         "marker": {
          "color": "red",
          "pattern": {
           "shape": ""
          }
         },
         "name": "Yes",
         "offsetgroup": "Yes",
         "orientation": "v",
         "showlegend": true,
         "textposition": "auto",
         "type": "bar",
         "x": [
          "No",
          "No internet service",
          "Yes"
         ],
         "xaxis": "x",
         "y": [
          938,
          113,
          818
         ],
         "yaxis": "y"
        }
       ],
       "layout": {
        "annotations": [
         {
          "align": "left",
          "bordercolor": "black",
          "borderwidth": 1,
          "showarrow": false,
          "text": "Value count of distribution of No, Yes & No internet service are<br>39.5%, 38.8% & 21.7% percentage respectively.",
          "x": 1,
          "xref": "paper",
          "y": 1.3,
          "yref": "paper"
         }
        ],
        "barmode": "group",
        "legend": {
         "title": {
          "text": "Churn"
         },
         "tracegroupgap": 0
        },
        "template": {
         "data": {
          "bar": [
           {
            "error_x": {
             "color": "#2a3f5f"
            },
            "error_y": {
             "color": "#2a3f5f"
            },
            "marker": {
             "line": {
              "color": "#E5ECF6",
              "width": 0.5
             },
             "pattern": {
              "fillmode": "overlay",
              "size": 10,
              "solidity": 0.2
             }
            },
            "type": "bar"
           }
          ],
          "barpolar": [
           {
            "marker": {
             "line": {
              "color": "#E5ECF6",
              "width": 0.5
             },
             "pattern": {
              "fillmode": "overlay",
              "size": 10,
              "solidity": 0.2
             }
            },
            "type": "barpolar"
           }
          ],
          "carpet": [
           {
            "aaxis": {
             "endlinecolor": "#2a3f5f",
             "gridcolor": "white",
             "linecolor": "white",
             "minorgridcolor": "white",
             "startlinecolor": "#2a3f5f"
            },
            "baxis": {
             "endlinecolor": "#2a3f5f",
             "gridcolor": "white",
             "linecolor": "white",
             "minorgridcolor": "white",
             "startlinecolor": "#2a3f5f"
            },
            "type": "carpet"
           }
          ],
          "choropleth": [
           {
            "colorbar": {
             "outlinewidth": 0,
             "ticks": ""
            },
            "type": "choropleth"
           }
          ],
          "contour": [
           {
            "colorbar": {
             "outlinewidth": 0,
             "ticks": ""
            },
            "colorscale": [
             [
              0,
              "#0d0887"
             ],
             [
              0.1111111111111111,
              "#46039f"
             ],
             [
              0.2222222222222222,
              "#7201a8"
             ],
             [
              0.3333333333333333,
              "#9c179e"
             ],
             [
              0.4444444444444444,
              "#bd3786"
             ],
             [
              0.5555555555555556,
              "#d8576b"
             ],
             [
              0.6666666666666666,
              "#ed7953"
             ],
             [
              0.7777777777777778,
              "#fb9f3a"
             ],
             [
              0.8888888888888888,
              "#fdca26"
             ],
             [
              1,
              "#f0f921"
             ]
            ],
            "type": "contour"
           }
          ],
          "contourcarpet": [
           {
            "colorbar": {
             "outlinewidth": 0,
             "ticks": ""
            },
            "type": "contourcarpet"
           }
          ],
          "heatmap": [
           {
            "colorbar": {
             "outlinewidth": 0,
             "ticks": ""
            },
            "colorscale": [
             [
              0,
              "#0d0887"
             ],
             [
              0.1111111111111111,
              "#46039f"
             ],
             [
              0.2222222222222222,
              "#7201a8"
             ],
             [
              0.3333333333333333,
              "#9c179e"
             ],
             [
              0.4444444444444444,
              "#bd3786"
             ],
             [
              0.5555555555555556,
              "#d8576b"
             ],
             [
              0.6666666666666666,
              "#ed7953"
             ],
             [
              0.7777777777777778,
              "#fb9f3a"
             ],
             [
              0.8888888888888888,
              "#fdca26"
             ],
             [
              1,
              "#f0f921"
             ]
            ],
            "type": "heatmap"
           }
          ],
          "heatmapgl": [
           {
            "colorbar": {
             "outlinewidth": 0,
             "ticks": ""
            },
            "colorscale": [
             [
              0,
              "#0d0887"
             ],
             [
              0.1111111111111111,
              "#46039f"
             ],
             [
              0.2222222222222222,
              "#7201a8"
             ],
             [
              0.3333333333333333,
              "#9c179e"
             ],
             [
              0.4444444444444444,
              "#bd3786"
             ],
             [
              0.5555555555555556,
              "#d8576b"
             ],
             [
              0.6666666666666666,
              "#ed7953"
             ],
             [
              0.7777777777777778,
              "#fb9f3a"
             ],
             [
              0.8888888888888888,
              "#fdca26"
             ],
             [
              1,
              "#f0f921"
             ]
            ],
            "type": "heatmapgl"
           }
          ],
          "histogram": [
           {
            "marker": {
             "pattern": {
              "fillmode": "overlay",
              "size": 10,
              "solidity": 0.2
             }
            },
            "type": "histogram"
           }
          ],
          "histogram2d": [
           {
            "colorbar": {
             "outlinewidth": 0,
             "ticks": ""
            },
            "colorscale": [
             [
              0,
              "#0d0887"
             ],
             [
              0.1111111111111111,
              "#46039f"
             ],
             [
              0.2222222222222222,
              "#7201a8"
             ],
             [
              0.3333333333333333,
              "#9c179e"
             ],
             [
              0.4444444444444444,
              "#bd3786"
             ],
             [
              0.5555555555555556,
              "#d8576b"
             ],
             [
              0.6666666666666666,
              "#ed7953"
             ],
             [
              0.7777777777777778,
              "#fb9f3a"
             ],
             [
              0.8888888888888888,
              "#fdca26"
             ],
             [
              1,
              "#f0f921"
             ]
            ],
            "type": "histogram2d"
           }
          ],
          "histogram2dcontour": [
           {
            "colorbar": {
             "outlinewidth": 0,
             "ticks": ""
            },
            "colorscale": [
             [
              0,
              "#0d0887"
             ],
             [
              0.1111111111111111,
              "#46039f"
             ],
             [
              0.2222222222222222,
              "#7201a8"
             ],
             [
              0.3333333333333333,
              "#9c179e"
             ],
             [
              0.4444444444444444,
              "#bd3786"
             ],
             [
              0.5555555555555556,
              "#d8576b"
             ],
             [
              0.6666666666666666,
              "#ed7953"
             ],
             [
              0.7777777777777778,
              "#fb9f3a"
             ],
             [
              0.8888888888888888,
              "#fdca26"
             ],
             [
              1,
              "#f0f921"
             ]
            ],
            "type": "histogram2dcontour"
           }
          ],
          "mesh3d": [
           {
            "colorbar": {
             "outlinewidth": 0,
             "ticks": ""
            },
            "type": "mesh3d"
           }
          ],
          "parcoords": [
           {
            "line": {
             "colorbar": {
              "outlinewidth": 0,
              "ticks": ""
             }
            },
            "type": "parcoords"
           }
          ],
          "pie": [
           {
            "automargin": true,
            "type": "pie"
           }
          ],
          "scatter": [
           {
            "marker": {
             "colorbar": {
              "outlinewidth": 0,
              "ticks": ""
             }
            },
            "type": "scatter"
           }
          ],
          "scatter3d": [
           {
            "line": {
             "colorbar": {
              "outlinewidth": 0,
              "ticks": ""
             }
            },
            "marker": {
             "colorbar": {
              "outlinewidth": 0,
              "ticks": ""
             }
            },
            "type": "scatter3d"
           }
          ],
          "scattercarpet": [
           {
            "marker": {
             "colorbar": {
              "outlinewidth": 0,
              "ticks": ""
             }
            },
            "type": "scattercarpet"
           }
          ],
          "scattergeo": [
           {
            "marker": {
             "colorbar": {
              "outlinewidth": 0,
              "ticks": ""
             }
            },
            "type": "scattergeo"
           }
          ],
          "scattergl": [
           {
            "marker": {
             "colorbar": {
              "outlinewidth": 0,
              "ticks": ""
             }
            },
            "type": "scattergl"
           }
          ],
          "scattermapbox": [
           {
            "marker": {
             "colorbar": {
              "outlinewidth": 0,
              "ticks": ""
             }
            },
            "type": "scattermapbox"
           }
          ],
          "scatterpolar": [
           {
            "marker": {
             "colorbar": {
              "outlinewidth": 0,
              "ticks": ""
             }
            },
            "type": "scatterpolar"
           }
          ],
          "scatterpolargl": [
           {
            "marker": {
             "colorbar": {
              "outlinewidth": 0,
              "ticks": ""
             }
            },
            "type": "scatterpolargl"
           }
          ],
          "scatterternary": [
           {
            "marker": {
             "colorbar": {
              "outlinewidth": 0,
              "ticks": ""
             }
            },
            "type": "scatterternary"
           }
          ],
          "surface": [
           {
            "colorbar": {
             "outlinewidth": 0,
             "ticks": ""
            },
            "colorscale": [
             [
              0,
              "#0d0887"
             ],
             [
              0.1111111111111111,
              "#46039f"
             ],
             [
              0.2222222222222222,
              "#7201a8"
             ],
             [
              0.3333333333333333,
              "#9c179e"
             ],
             [
              0.4444444444444444,
              "#bd3786"
             ],
             [
              0.5555555555555556,
              "#d8576b"
             ],
             [
              0.6666666666666666,
              "#ed7953"
             ],
             [
              0.7777777777777778,
              "#fb9f3a"
             ],
             [
              0.8888888888888888,
              "#fdca26"
             ],
             [
              1,
              "#f0f921"
             ]
            ],
            "type": "surface"
           }
          ],
          "table": [
           {
            "cells": {
             "fill": {
              "color": "#EBF0F8"
             },
             "line": {
              "color": "white"
             }
            },
            "header": {
             "fill": {
              "color": "#C8D4E3"
             },
             "line": {
              "color": "white"
             }
            },
            "type": "table"
           }
          ]
         },
         "layout": {
          "annotationdefaults": {
           "arrowcolor": "#2a3f5f",
           "arrowhead": 0,
           "arrowwidth": 1
          },
          "autotypenumbers": "strict",
          "coloraxis": {
           "colorbar": {
            "outlinewidth": 0,
            "ticks": ""
           }
          },
          "colorscale": {
           "diverging": [
            [
             0,
             "#8e0152"
            ],
            [
             0.1,
             "#c51b7d"
            ],
            [
             0.2,
             "#de77ae"
            ],
            [
             0.3,
             "#f1b6da"
            ],
            [
             0.4,
             "#fde0ef"
            ],
            [
             0.5,
             "#f7f7f7"
            ],
            [
             0.6,
             "#e6f5d0"
            ],
            [
             0.7,
             "#b8e186"
            ],
            [
             0.8,
             "#7fbc41"
            ],
            [
             0.9,
             "#4d9221"
            ],
            [
             1,
             "#276419"
            ]
           ],
           "sequential": [
            [
             0,
             "#0d0887"
            ],
            [
             0.1111111111111111,
             "#46039f"
            ],
            [
             0.2222222222222222,
             "#7201a8"
            ],
            [
             0.3333333333333333,
             "#9c179e"
            ],
            [
             0.4444444444444444,
             "#bd3786"
            ],
            [
             0.5555555555555556,
             "#d8576b"
            ],
            [
             0.6666666666666666,
             "#ed7953"
            ],
            [
             0.7777777777777778,
             "#fb9f3a"
            ],
            [
             0.8888888888888888,
             "#fdca26"
            ],
            [
             1,
             "#f0f921"
            ]
           ],
           "sequentialminus": [
            [
             0,
             "#0d0887"
            ],
            [
             0.1111111111111111,
             "#46039f"
            ],
            [
             0.2222222222222222,
             "#7201a8"
            ],
            [
             0.3333333333333333,
             "#9c179e"
            ],
            [
             0.4444444444444444,
             "#bd3786"
            ],
            [
             0.5555555555555556,
             "#d8576b"
            ],
            [
             0.6666666666666666,
             "#ed7953"
            ],
            [
             0.7777777777777778,
             "#fb9f3a"
            ],
            [
             0.8888888888888888,
             "#fdca26"
            ],
            [
             1,
             "#f0f921"
            ]
           ]
          },
          "colorway": [
           "#636efa",
           "#EF553B",
           "#00cc96",
           "#ab63fa",
           "#FFA15A",
           "#19d3f3",
           "#FF6692",
           "#B6E880",
           "#FF97FF",
           "#FECB52"
          ],
          "font": {
           "color": "#2a3f5f"
          },
          "geo": {
           "bgcolor": "white",
           "lakecolor": "white",
           "landcolor": "#E5ECF6",
           "showlakes": true,
           "showland": true,
           "subunitcolor": "white"
          },
          "hoverlabel": {
           "align": "left"
          },
          "hovermode": "closest",
          "mapbox": {
           "style": "light"
          },
          "paper_bgcolor": "white",
          "plot_bgcolor": "#E5ECF6",
          "polar": {
           "angularaxis": {
            "gridcolor": "white",
            "linecolor": "white",
            "ticks": ""
           },
           "bgcolor": "#E5ECF6",
           "radialaxis": {
            "gridcolor": "white",
            "linecolor": "white",
            "ticks": ""
           }
          },
          "scene": {
           "xaxis": {
            "backgroundcolor": "#E5ECF6",
            "gridcolor": "white",
            "gridwidth": 2,
            "linecolor": "white",
            "showbackground": true,
            "ticks": "",
            "zerolinecolor": "white"
           },
           "yaxis": {
            "backgroundcolor": "#E5ECF6",
            "gridcolor": "white",
            "gridwidth": 2,
            "linecolor": "white",
            "showbackground": true,
            "ticks": "",
            "zerolinecolor": "white"
           },
           "zaxis": {
            "backgroundcolor": "#E5ECF6",
            "gridcolor": "white",
            "gridwidth": 2,
            "linecolor": "white",
            "showbackground": true,
            "ticks": "",
            "zerolinecolor": "white"
           }
          },
          "shapedefaults": {
           "line": {
            "color": "#2a3f5f"
           }
          },
          "ternary": {
           "aaxis": {
            "gridcolor": "white",
            "linecolor": "white",
            "ticks": ""
           },
           "baxis": {
            "gridcolor": "white",
            "linecolor": "white",
            "ticks": ""
           },
           "bgcolor": "#E5ECF6",
           "caxis": {
            "gridcolor": "white",
            "linecolor": "white",
            "ticks": ""
           }
          },
          "title": {
           "x": 0.05
          },
          "xaxis": {
           "automargin": true,
           "gridcolor": "white",
           "linecolor": "white",
           "ticks": "",
           "title": {
            "standoff": 15
           },
           "zerolinecolor": "white",
           "zerolinewidth": 2
          },
          "yaxis": {
           "automargin": true,
           "gridcolor": "white",
           "linecolor": "white",
           "ticks": "",
           "title": {
            "standoff": 15
           },
           "zerolinecolor": "white",
           "zerolinewidth": 2
          }
         }
        },
        "title": {
         "text": "Churn rate by StreamingMovies"
        },
        "width": 900,
        "xaxis": {
         "anchor": "y",
         "domain": [
          0,
          1
         ],
         "title": {
          "text": "StreamingMovies"
         }
        },
        "yaxis": {
         "anchor": "x",
         "domain": [
          0,
          1
         ],
         "title": {
          "text": "Count"
         }
        }
       }
      }
     },
     "metadata": {},
     "output_type": "display_data"
    }
   ],
   "source": [
    "bar_chart(\"PhoneService\")\n",
    "bar_chart(\"MultipleLines\")\n",
    "bar_chart(\"InternetService\")\n",
    "bar_chart(\"OnlineSecurity\")\n",
    "bar_chart(\"OnlineBackup\")\n",
    "bar_chart(\"DeviceProtection\")\n",
    "bar_chart(\"TechSupport\")\n",
    "bar_chart(\"StreamingTV\")\n",
    "bar_chart(\"StreamingMovies\")"
   ]
  },
  {
   "cell_type": "code",
   "execution_count": 89,
   "id": "2a81ba76-319c-4514-8b40-e112e1b38f96",
   "metadata": {},
   "outputs": [
    {
     "name": "stdout",
     "output_type": "stream",
     "text": [
      "         Contract Churn     0\n",
      "0  Month-to-month    No  2220\n",
      "1  Month-to-month   Yes  1655\n",
      "2        One year    No  1307\n",
      "3        One year   Yes   166\n",
      "4        Two year    No  1647\n",
      "5        Two year   Yes    48\n",
      "         Contract Churn  Count\n",
      "0  Month-to-month    No   2220\n",
      "1  Month-to-month   Yes   1655\n",
      "2        One year    No   1307\n",
      "3        One year   Yes    166\n",
      "4        Two year    No   1647\n",
      "5        Two year   Yes     48\n",
      "            index  Contract\n",
      "0  Month-to-month      3875\n",
      "1        Two year      1695\n",
      "2        One year      1473\n",
      "['Month-to-month', 'Two year', 'One year']\n",
      "[3875, 1695, 1473]\n",
      "[0.5501916796819537, 0.24066448956410622, 0.20914383075394008]\n",
      "[55.0, 24.1, 20.9]\n",
      "[55.0, 24.1, 20.9]\n",
      "3\n",
      "['Month-to-month', 'Two year', 'One year']\n",
      "3\n"
     ]
    },
    {
     "data": {
      "application/vnd.plotly.v1+json": {
       "config": {
        "plotlyServerURL": "https://plot.ly"
       },
       "data": [
        {
         "alignmentgroup": "True",
         "hovertemplate": "Churn=No<br>Contract=%{x}<br>Count=%{y}<extra></extra>",
         "legendgroup": "No",
         "marker": {
          "color": "blue",
          "pattern": {
           "shape": ""
          }
         },
         "name": "No",
         "offsetgroup": "No",
         "orientation": "v",
         "showlegend": true,
         "textposition": "auto",
         "type": "bar",
         "x": [
          "Month-to-month",
          "One year",
          "Two year"
         ],
         "xaxis": "x",
         "y": [
          2220,
          1307,
          1647
         ],
         "yaxis": "y"
        },
        {
         "alignmentgroup": "True",
         "hovertemplate": "Churn=Yes<br>Contract=%{x}<br>Count=%{y}<extra></extra>",
         "legendgroup": "Yes",
         "marker": {
          "color": "red",
          "pattern": {
           "shape": ""
          }
         },
         "name": "Yes",
         "offsetgroup": "Yes",
         "orientation": "v",
         "showlegend": true,
         "textposition": "auto",
         "type": "bar",
         "x": [
          "Month-to-month",
          "One year",
          "Two year"
         ],
         "xaxis": "x",
         "y": [
          1655,
          166,
          48
         ],
         "yaxis": "y"
        }
       ],
       "layout": {
        "annotations": [
         {
          "align": "left",
          "bordercolor": "black",
          "borderwidth": 1,
          "showarrow": false,
          "text": "Value count of distribution of Month-to-month, Two year & One year are<br>55.0%, 24.1% & 20.9% percentage respectively.",
          "x": 1.1,
          "xref": "paper",
          "y": 1.3,
          "yref": "paper"
         }
        ],
        "barmode": "group",
        "legend": {
         "title": {
          "text": "Churn"
         },
         "tracegroupgap": 0
        },
        "template": {
         "data": {
          "bar": [
           {
            "error_x": {
             "color": "#2a3f5f"
            },
            "error_y": {
             "color": "#2a3f5f"
            },
            "marker": {
             "line": {
              "color": "#E5ECF6",
              "width": 0.5
             },
             "pattern": {
              "fillmode": "overlay",
              "size": 10,
              "solidity": 0.2
             }
            },
            "type": "bar"
           }
          ],
          "barpolar": [
           {
            "marker": {
             "line": {
              "color": "#E5ECF6",
              "width": 0.5
             },
             "pattern": {
              "fillmode": "overlay",
              "size": 10,
              "solidity": 0.2
             }
            },
            "type": "barpolar"
           }
          ],
          "carpet": [
           {
            "aaxis": {
             "endlinecolor": "#2a3f5f",
             "gridcolor": "white",
             "linecolor": "white",
             "minorgridcolor": "white",
             "startlinecolor": "#2a3f5f"
            },
            "baxis": {
             "endlinecolor": "#2a3f5f",
             "gridcolor": "white",
             "linecolor": "white",
             "minorgridcolor": "white",
             "startlinecolor": "#2a3f5f"
            },
            "type": "carpet"
           }
          ],
          "choropleth": [
           {
            "colorbar": {
             "outlinewidth": 0,
             "ticks": ""
            },
            "type": "choropleth"
           }
          ],
          "contour": [
           {
            "colorbar": {
             "outlinewidth": 0,
             "ticks": ""
            },
            "colorscale": [
             [
              0,
              "#0d0887"
             ],
             [
              0.1111111111111111,
              "#46039f"
             ],
             [
              0.2222222222222222,
              "#7201a8"
             ],
             [
              0.3333333333333333,
              "#9c179e"
             ],
             [
              0.4444444444444444,
              "#bd3786"
             ],
             [
              0.5555555555555556,
              "#d8576b"
             ],
             [
              0.6666666666666666,
              "#ed7953"
             ],
             [
              0.7777777777777778,
              "#fb9f3a"
             ],
             [
              0.8888888888888888,
              "#fdca26"
             ],
             [
              1,
              "#f0f921"
             ]
            ],
            "type": "contour"
           }
          ],
          "contourcarpet": [
           {
            "colorbar": {
             "outlinewidth": 0,
             "ticks": ""
            },
            "type": "contourcarpet"
           }
          ],
          "heatmap": [
           {
            "colorbar": {
             "outlinewidth": 0,
             "ticks": ""
            },
            "colorscale": [
             [
              0,
              "#0d0887"
             ],
             [
              0.1111111111111111,
              "#46039f"
             ],
             [
              0.2222222222222222,
              "#7201a8"
             ],
             [
              0.3333333333333333,
              "#9c179e"
             ],
             [
              0.4444444444444444,
              "#bd3786"
             ],
             [
              0.5555555555555556,
              "#d8576b"
             ],
             [
              0.6666666666666666,
              "#ed7953"
             ],
             [
              0.7777777777777778,
              "#fb9f3a"
             ],
             [
              0.8888888888888888,
              "#fdca26"
             ],
             [
              1,
              "#f0f921"
             ]
            ],
            "type": "heatmap"
           }
          ],
          "heatmapgl": [
           {
            "colorbar": {
             "outlinewidth": 0,
             "ticks": ""
            },
            "colorscale": [
             [
              0,
              "#0d0887"
             ],
             [
              0.1111111111111111,
              "#46039f"
             ],
             [
              0.2222222222222222,
              "#7201a8"
             ],
             [
              0.3333333333333333,
              "#9c179e"
             ],
             [
              0.4444444444444444,
              "#bd3786"
             ],
             [
              0.5555555555555556,
              "#d8576b"
             ],
             [
              0.6666666666666666,
              "#ed7953"
             ],
             [
              0.7777777777777778,
              "#fb9f3a"
             ],
             [
              0.8888888888888888,
              "#fdca26"
             ],
             [
              1,
              "#f0f921"
             ]
            ],
            "type": "heatmapgl"
           }
          ],
          "histogram": [
           {
            "marker": {
             "pattern": {
              "fillmode": "overlay",
              "size": 10,
              "solidity": 0.2
             }
            },
            "type": "histogram"
           }
          ],
          "histogram2d": [
           {
            "colorbar": {
             "outlinewidth": 0,
             "ticks": ""
            },
            "colorscale": [
             [
              0,
              "#0d0887"
             ],
             [
              0.1111111111111111,
              "#46039f"
             ],
             [
              0.2222222222222222,
              "#7201a8"
             ],
             [
              0.3333333333333333,
              "#9c179e"
             ],
             [
              0.4444444444444444,
              "#bd3786"
             ],
             [
              0.5555555555555556,
              "#d8576b"
             ],
             [
              0.6666666666666666,
              "#ed7953"
             ],
             [
              0.7777777777777778,
              "#fb9f3a"
             ],
             [
              0.8888888888888888,
              "#fdca26"
             ],
             [
              1,
              "#f0f921"
             ]
            ],
            "type": "histogram2d"
           }
          ],
          "histogram2dcontour": [
           {
            "colorbar": {
             "outlinewidth": 0,
             "ticks": ""
            },
            "colorscale": [
             [
              0,
              "#0d0887"
             ],
             [
              0.1111111111111111,
              "#46039f"
             ],
             [
              0.2222222222222222,
              "#7201a8"
             ],
             [
              0.3333333333333333,
              "#9c179e"
             ],
             [
              0.4444444444444444,
              "#bd3786"
             ],
             [
              0.5555555555555556,
              "#d8576b"
             ],
             [
              0.6666666666666666,
              "#ed7953"
             ],
             [
              0.7777777777777778,
              "#fb9f3a"
             ],
             [
              0.8888888888888888,
              "#fdca26"
             ],
             [
              1,
              "#f0f921"
             ]
            ],
            "type": "histogram2dcontour"
           }
          ],
          "mesh3d": [
           {
            "colorbar": {
             "outlinewidth": 0,
             "ticks": ""
            },
            "type": "mesh3d"
           }
          ],
          "parcoords": [
           {
            "line": {
             "colorbar": {
              "outlinewidth": 0,
              "ticks": ""
             }
            },
            "type": "parcoords"
           }
          ],
          "pie": [
           {
            "automargin": true,
            "type": "pie"
           }
          ],
          "scatter": [
           {
            "marker": {
             "colorbar": {
              "outlinewidth": 0,
              "ticks": ""
             }
            },
            "type": "scatter"
           }
          ],
          "scatter3d": [
           {
            "line": {
             "colorbar": {
              "outlinewidth": 0,
              "ticks": ""
             }
            },
            "marker": {
             "colorbar": {
              "outlinewidth": 0,
              "ticks": ""
             }
            },
            "type": "scatter3d"
           }
          ],
          "scattercarpet": [
           {
            "marker": {
             "colorbar": {
              "outlinewidth": 0,
              "ticks": ""
             }
            },
            "type": "scattercarpet"
           }
          ],
          "scattergeo": [
           {
            "marker": {
             "colorbar": {
              "outlinewidth": 0,
              "ticks": ""
             }
            },
            "type": "scattergeo"
           }
          ],
          "scattergl": [
           {
            "marker": {
             "colorbar": {
              "outlinewidth": 0,
              "ticks": ""
             }
            },
            "type": "scattergl"
           }
          ],
          "scattermapbox": [
           {
            "marker": {
             "colorbar": {
              "outlinewidth": 0,
              "ticks": ""
             }
            },
            "type": "scattermapbox"
           }
          ],
          "scatterpolar": [
           {
            "marker": {
             "colorbar": {
              "outlinewidth": 0,
              "ticks": ""
             }
            },
            "type": "scatterpolar"
           }
          ],
          "scatterpolargl": [
           {
            "marker": {
             "colorbar": {
              "outlinewidth": 0,
              "ticks": ""
             }
            },
            "type": "scatterpolargl"
           }
          ],
          "scatterternary": [
           {
            "marker": {
             "colorbar": {
              "outlinewidth": 0,
              "ticks": ""
             }
            },
            "type": "scatterternary"
           }
          ],
          "surface": [
           {
            "colorbar": {
             "outlinewidth": 0,
             "ticks": ""
            },
            "colorscale": [
             [
              0,
              "#0d0887"
             ],
             [
              0.1111111111111111,
              "#46039f"
             ],
             [
              0.2222222222222222,
              "#7201a8"
             ],
             [
              0.3333333333333333,
              "#9c179e"
             ],
             [
              0.4444444444444444,
              "#bd3786"
             ],
             [
              0.5555555555555556,
              "#d8576b"
             ],
             [
              0.6666666666666666,
              "#ed7953"
             ],
             [
              0.7777777777777778,
              "#fb9f3a"
             ],
             [
              0.8888888888888888,
              "#fdca26"
             ],
             [
              1,
              "#f0f921"
             ]
            ],
            "type": "surface"
           }
          ],
          "table": [
           {
            "cells": {
             "fill": {
              "color": "#EBF0F8"
             },
             "line": {
              "color": "white"
             }
            },
            "header": {
             "fill": {
              "color": "#C8D4E3"
             },
             "line": {
              "color": "white"
             }
            },
            "type": "table"
           }
          ]
         },
         "layout": {
          "annotationdefaults": {
           "arrowcolor": "#2a3f5f",
           "arrowhead": 0,
           "arrowwidth": 1
          },
          "autotypenumbers": "strict",
          "coloraxis": {
           "colorbar": {
            "outlinewidth": 0,
            "ticks": ""
           }
          },
          "colorscale": {
           "diverging": [
            [
             0,
             "#8e0152"
            ],
            [
             0.1,
             "#c51b7d"
            ],
            [
             0.2,
             "#de77ae"
            ],
            [
             0.3,
             "#f1b6da"
            ],
            [
             0.4,
             "#fde0ef"
            ],
            [
             0.5,
             "#f7f7f7"
            ],
            [
             0.6,
             "#e6f5d0"
            ],
            [
             0.7,
             "#b8e186"
            ],
            [
             0.8,
             "#7fbc41"
            ],
            [
             0.9,
             "#4d9221"
            ],
            [
             1,
             "#276419"
            ]
           ],
           "sequential": [
            [
             0,
             "#0d0887"
            ],
            [
             0.1111111111111111,
             "#46039f"
            ],
            [
             0.2222222222222222,
             "#7201a8"
            ],
            [
             0.3333333333333333,
             "#9c179e"
            ],
            [
             0.4444444444444444,
             "#bd3786"
            ],
            [
             0.5555555555555556,
             "#d8576b"
            ],
            [
             0.6666666666666666,
             "#ed7953"
            ],
            [
             0.7777777777777778,
             "#fb9f3a"
            ],
            [
             0.8888888888888888,
             "#fdca26"
            ],
            [
             1,
             "#f0f921"
            ]
           ],
           "sequentialminus": [
            [
             0,
             "#0d0887"
            ],
            [
             0.1111111111111111,
             "#46039f"
            ],
            [
             0.2222222222222222,
             "#7201a8"
            ],
            [
             0.3333333333333333,
             "#9c179e"
            ],
            [
             0.4444444444444444,
             "#bd3786"
            ],
            [
             0.5555555555555556,
             "#d8576b"
            ],
            [
             0.6666666666666666,
             "#ed7953"
            ],
            [
             0.7777777777777778,
             "#fb9f3a"
            ],
            [
             0.8888888888888888,
             "#fdca26"
            ],
            [
             1,
             "#f0f921"
            ]
           ]
          },
          "colorway": [
           "#636efa",
           "#EF553B",
           "#00cc96",
           "#ab63fa",
           "#FFA15A",
           "#19d3f3",
           "#FF6692",
           "#B6E880",
           "#FF97FF",
           "#FECB52"
          ],
          "font": {
           "color": "#2a3f5f"
          },
          "geo": {
           "bgcolor": "white",
           "lakecolor": "white",
           "landcolor": "#E5ECF6",
           "showlakes": true,
           "showland": true,
           "subunitcolor": "white"
          },
          "hoverlabel": {
           "align": "left"
          },
          "hovermode": "closest",
          "mapbox": {
           "style": "light"
          },
          "paper_bgcolor": "white",
          "plot_bgcolor": "#E5ECF6",
          "polar": {
           "angularaxis": {
            "gridcolor": "white",
            "linecolor": "white",
            "ticks": ""
           },
           "bgcolor": "#E5ECF6",
           "radialaxis": {
            "gridcolor": "white",
            "linecolor": "white",
            "ticks": ""
           }
          },
          "scene": {
           "xaxis": {
            "backgroundcolor": "#E5ECF6",
            "gridcolor": "white",
            "gridwidth": 2,
            "linecolor": "white",
            "showbackground": true,
            "ticks": "",
            "zerolinecolor": "white"
           },
           "yaxis": {
            "backgroundcolor": "#E5ECF6",
            "gridcolor": "white",
            "gridwidth": 2,
            "linecolor": "white",
            "showbackground": true,
            "ticks": "",
            "zerolinecolor": "white"
           },
           "zaxis": {
            "backgroundcolor": "#E5ECF6",
            "gridcolor": "white",
            "gridwidth": 2,
            "linecolor": "white",
            "showbackground": true,
            "ticks": "",
            "zerolinecolor": "white"
           }
          },
          "shapedefaults": {
           "line": {
            "color": "#2a3f5f"
           }
          },
          "ternary": {
           "aaxis": {
            "gridcolor": "white",
            "linecolor": "white",
            "ticks": ""
           },
           "baxis": {
            "gridcolor": "white",
            "linecolor": "white",
            "ticks": ""
           },
           "bgcolor": "#E5ECF6",
           "caxis": {
            "gridcolor": "white",
            "linecolor": "white",
            "ticks": ""
           }
          },
          "title": {
           "x": 0.05
          },
          "xaxis": {
           "automargin": true,
           "gridcolor": "white",
           "linecolor": "white",
           "ticks": "",
           "title": {
            "standoff": 15
           },
           "zerolinecolor": "white",
           "zerolinewidth": 2
          },
          "yaxis": {
           "automargin": true,
           "gridcolor": "white",
           "linecolor": "white",
           "ticks": "",
           "title": {
            "standoff": 15
           },
           "zerolinecolor": "white",
           "zerolinewidth": 2
          }
         }
        },
        "title": {
         "text": "Churn rate by Contract"
        },
        "width": 1100,
        "xaxis": {
         "anchor": "y",
         "domain": [
          0,
          1
         ],
         "title": {
          "text": "Contract"
         }
        },
        "yaxis": {
         "anchor": "x",
         "domain": [
          0,
          1
         ],
         "title": {
          "text": "Count"
         }
        }
       }
      }
     },
     "metadata": {},
     "output_type": "display_data"
    },
    {
     "name": "stdout",
     "output_type": "stream",
     "text": [
      "  PaperlessBilling Churn     0\n",
      "0               No    No  2403\n",
      "1               No   Yes   469\n",
      "2              Yes    No  2771\n",
      "3              Yes   Yes  1400\n",
      "  PaperlessBilling Churn  Count\n",
      "0               No    No   2403\n",
      "1               No   Yes    469\n",
      "2              Yes    No   2771\n",
      "3              Yes   Yes   1400\n",
      "  index  PaperlessBilling\n",
      "0   Yes              4171\n",
      "1    No              2872\n",
      "['Yes', 'No']\n",
      "[4171, 2872]\n",
      "[0.5922192247621753, 0.4077807752378248]\n",
      "[59.2, 40.8]\n",
      "[59.2, 40.8]\n",
      "2\n",
      "['Yes', 'No']\n",
      "2\n"
     ]
    },
    {
     "data": {
      "application/vnd.plotly.v1+json": {
       "config": {
        "plotlyServerURL": "https://plot.ly"
       },
       "data": [
        {
         "alignmentgroup": "True",
         "hovertemplate": "Churn=No<br>PaperlessBilling=%{x}<br>Count=%{y}<extra></extra>",
         "legendgroup": "No",
         "marker": {
          "color": "blue",
          "pattern": {
           "shape": ""
          }
         },
         "name": "No",
         "offsetgroup": "No",
         "orientation": "v",
         "showlegend": true,
         "textposition": "auto",
         "type": "bar",
         "x": [
          "No",
          "Yes"
         ],
         "xaxis": "x",
         "y": [
          2403,
          2771
         ],
         "yaxis": "y"
        },
        {
         "alignmentgroup": "True",
         "hovertemplate": "Churn=Yes<br>PaperlessBilling=%{x}<br>Count=%{y}<extra></extra>",
         "legendgroup": "Yes",
         "marker": {
          "color": "red",
          "pattern": {
           "shape": ""
          }
         },
         "name": "Yes",
         "offsetgroup": "Yes",
         "orientation": "v",
         "showlegend": true,
         "textposition": "auto",
         "type": "bar",
         "x": [
          "No",
          "Yes"
         ],
         "xaxis": "x",
         "y": [
          469,
          1400
         ],
         "yaxis": "y"
        }
       ],
       "layout": {
        "annotations": [
         {
          "align": "left",
          "bordercolor": "black",
          "borderwidth": 1,
          "showarrow": false,
          "text": "Value count of distribution of Yes & No are<br>59.2% & 40.8% percentage respectively.",
          "x": 1.1,
          "xref": "paper",
          "y": 1.3,
          "yref": "paper"
         }
        ],
        "barmode": "group",
        "legend": {
         "title": {
          "text": "Churn"
         },
         "tracegroupgap": 0
        },
        "template": {
         "data": {
          "bar": [
           {
            "error_x": {
             "color": "#2a3f5f"
            },
            "error_y": {
             "color": "#2a3f5f"
            },
            "marker": {
             "line": {
              "color": "#E5ECF6",
              "width": 0.5
             },
             "pattern": {
              "fillmode": "overlay",
              "size": 10,
              "solidity": 0.2
             }
            },
            "type": "bar"
           }
          ],
          "barpolar": [
           {
            "marker": {
             "line": {
              "color": "#E5ECF6",
              "width": 0.5
             },
             "pattern": {
              "fillmode": "overlay",
              "size": 10,
              "solidity": 0.2
             }
            },
            "type": "barpolar"
           }
          ],
          "carpet": [
           {
            "aaxis": {
             "endlinecolor": "#2a3f5f",
             "gridcolor": "white",
             "linecolor": "white",
             "minorgridcolor": "white",
             "startlinecolor": "#2a3f5f"
            },
            "baxis": {
             "endlinecolor": "#2a3f5f",
             "gridcolor": "white",
             "linecolor": "white",
             "minorgridcolor": "white",
             "startlinecolor": "#2a3f5f"
            },
            "type": "carpet"
           }
          ],
          "choropleth": [
           {
            "colorbar": {
             "outlinewidth": 0,
             "ticks": ""
            },
            "type": "choropleth"
           }
          ],
          "contour": [
           {
            "colorbar": {
             "outlinewidth": 0,
             "ticks": ""
            },
            "colorscale": [
             [
              0,
              "#0d0887"
             ],
             [
              0.1111111111111111,
              "#46039f"
             ],
             [
              0.2222222222222222,
              "#7201a8"
             ],
             [
              0.3333333333333333,
              "#9c179e"
             ],
             [
              0.4444444444444444,
              "#bd3786"
             ],
             [
              0.5555555555555556,
              "#d8576b"
             ],
             [
              0.6666666666666666,
              "#ed7953"
             ],
             [
              0.7777777777777778,
              "#fb9f3a"
             ],
             [
              0.8888888888888888,
              "#fdca26"
             ],
             [
              1,
              "#f0f921"
             ]
            ],
            "type": "contour"
           }
          ],
          "contourcarpet": [
           {
            "colorbar": {
             "outlinewidth": 0,
             "ticks": ""
            },
            "type": "contourcarpet"
           }
          ],
          "heatmap": [
           {
            "colorbar": {
             "outlinewidth": 0,
             "ticks": ""
            },
            "colorscale": [
             [
              0,
              "#0d0887"
             ],
             [
              0.1111111111111111,
              "#46039f"
             ],
             [
              0.2222222222222222,
              "#7201a8"
             ],
             [
              0.3333333333333333,
              "#9c179e"
             ],
             [
              0.4444444444444444,
              "#bd3786"
             ],
             [
              0.5555555555555556,
              "#d8576b"
             ],
             [
              0.6666666666666666,
              "#ed7953"
             ],
             [
              0.7777777777777778,
              "#fb9f3a"
             ],
             [
              0.8888888888888888,
              "#fdca26"
             ],
             [
              1,
              "#f0f921"
             ]
            ],
            "type": "heatmap"
           }
          ],
          "heatmapgl": [
           {
            "colorbar": {
             "outlinewidth": 0,
             "ticks": ""
            },
            "colorscale": [
             [
              0,
              "#0d0887"
             ],
             [
              0.1111111111111111,
              "#46039f"
             ],
             [
              0.2222222222222222,
              "#7201a8"
             ],
             [
              0.3333333333333333,
              "#9c179e"
             ],
             [
              0.4444444444444444,
              "#bd3786"
             ],
             [
              0.5555555555555556,
              "#d8576b"
             ],
             [
              0.6666666666666666,
              "#ed7953"
             ],
             [
              0.7777777777777778,
              "#fb9f3a"
             ],
             [
              0.8888888888888888,
              "#fdca26"
             ],
             [
              1,
              "#f0f921"
             ]
            ],
            "type": "heatmapgl"
           }
          ],
          "histogram": [
           {
            "marker": {
             "pattern": {
              "fillmode": "overlay",
              "size": 10,
              "solidity": 0.2
             }
            },
            "type": "histogram"
           }
          ],
          "histogram2d": [
           {
            "colorbar": {
             "outlinewidth": 0,
             "ticks": ""
            },
            "colorscale": [
             [
              0,
              "#0d0887"
             ],
             [
              0.1111111111111111,
              "#46039f"
             ],
             [
              0.2222222222222222,
              "#7201a8"
             ],
             [
              0.3333333333333333,
              "#9c179e"
             ],
             [
              0.4444444444444444,
              "#bd3786"
             ],
             [
              0.5555555555555556,
              "#d8576b"
             ],
             [
              0.6666666666666666,
              "#ed7953"
             ],
             [
              0.7777777777777778,
              "#fb9f3a"
             ],
             [
              0.8888888888888888,
              "#fdca26"
             ],
             [
              1,
              "#f0f921"
             ]
            ],
            "type": "histogram2d"
           }
          ],
          "histogram2dcontour": [
           {
            "colorbar": {
             "outlinewidth": 0,
             "ticks": ""
            },
            "colorscale": [
             [
              0,
              "#0d0887"
             ],
             [
              0.1111111111111111,
              "#46039f"
             ],
             [
              0.2222222222222222,
              "#7201a8"
             ],
             [
              0.3333333333333333,
              "#9c179e"
             ],
             [
              0.4444444444444444,
              "#bd3786"
             ],
             [
              0.5555555555555556,
              "#d8576b"
             ],
             [
              0.6666666666666666,
              "#ed7953"
             ],
             [
              0.7777777777777778,
              "#fb9f3a"
             ],
             [
              0.8888888888888888,
              "#fdca26"
             ],
             [
              1,
              "#f0f921"
             ]
            ],
            "type": "histogram2dcontour"
           }
          ],
          "mesh3d": [
           {
            "colorbar": {
             "outlinewidth": 0,
             "ticks": ""
            },
            "type": "mesh3d"
           }
          ],
          "parcoords": [
           {
            "line": {
             "colorbar": {
              "outlinewidth": 0,
              "ticks": ""
             }
            },
            "type": "parcoords"
           }
          ],
          "pie": [
           {
            "automargin": true,
            "type": "pie"
           }
          ],
          "scatter": [
           {
            "marker": {
             "colorbar": {
              "outlinewidth": 0,
              "ticks": ""
             }
            },
            "type": "scatter"
           }
          ],
          "scatter3d": [
           {
            "line": {
             "colorbar": {
              "outlinewidth": 0,
              "ticks": ""
             }
            },
            "marker": {
             "colorbar": {
              "outlinewidth": 0,
              "ticks": ""
             }
            },
            "type": "scatter3d"
           }
          ],
          "scattercarpet": [
           {
            "marker": {
             "colorbar": {
              "outlinewidth": 0,
              "ticks": ""
             }
            },
            "type": "scattercarpet"
           }
          ],
          "scattergeo": [
           {
            "marker": {
             "colorbar": {
              "outlinewidth": 0,
              "ticks": ""
             }
            },
            "type": "scattergeo"
           }
          ],
          "scattergl": [
           {
            "marker": {
             "colorbar": {
              "outlinewidth": 0,
              "ticks": ""
             }
            },
            "type": "scattergl"
           }
          ],
          "scattermapbox": [
           {
            "marker": {
             "colorbar": {
              "outlinewidth": 0,
              "ticks": ""
             }
            },
            "type": "scattermapbox"
           }
          ],
          "scatterpolar": [
           {
            "marker": {
             "colorbar": {
              "outlinewidth": 0,
              "ticks": ""
             }
            },
            "type": "scatterpolar"
           }
          ],
          "scatterpolargl": [
           {
            "marker": {
             "colorbar": {
              "outlinewidth": 0,
              "ticks": ""
             }
            },
            "type": "scatterpolargl"
           }
          ],
          "scatterternary": [
           {
            "marker": {
             "colorbar": {
              "outlinewidth": 0,
              "ticks": ""
             }
            },
            "type": "scatterternary"
           }
          ],
          "surface": [
           {
            "colorbar": {
             "outlinewidth": 0,
             "ticks": ""
            },
            "colorscale": [
             [
              0,
              "#0d0887"
             ],
             [
              0.1111111111111111,
              "#46039f"
             ],
             [
              0.2222222222222222,
              "#7201a8"
             ],
             [
              0.3333333333333333,
              "#9c179e"
             ],
             [
              0.4444444444444444,
              "#bd3786"
             ],
             [
              0.5555555555555556,
              "#d8576b"
             ],
             [
              0.6666666666666666,
              "#ed7953"
             ],
             [
              0.7777777777777778,
              "#fb9f3a"
             ],
             [
              0.8888888888888888,
              "#fdca26"
             ],
             [
              1,
              "#f0f921"
             ]
            ],
            "type": "surface"
           }
          ],
          "table": [
           {
            "cells": {
             "fill": {
              "color": "#EBF0F8"
             },
             "line": {
              "color": "white"
             }
            },
            "header": {
             "fill": {
              "color": "#C8D4E3"
             },
             "line": {
              "color": "white"
             }
            },
            "type": "table"
           }
          ]
         },
         "layout": {
          "annotationdefaults": {
           "arrowcolor": "#2a3f5f",
           "arrowhead": 0,
           "arrowwidth": 1
          },
          "autotypenumbers": "strict",
          "coloraxis": {
           "colorbar": {
            "outlinewidth": 0,
            "ticks": ""
           }
          },
          "colorscale": {
           "diverging": [
            [
             0,
             "#8e0152"
            ],
            [
             0.1,
             "#c51b7d"
            ],
            [
             0.2,
             "#de77ae"
            ],
            [
             0.3,
             "#f1b6da"
            ],
            [
             0.4,
             "#fde0ef"
            ],
            [
             0.5,
             "#f7f7f7"
            ],
            [
             0.6,
             "#e6f5d0"
            ],
            [
             0.7,
             "#b8e186"
            ],
            [
             0.8,
             "#7fbc41"
            ],
            [
             0.9,
             "#4d9221"
            ],
            [
             1,
             "#276419"
            ]
           ],
           "sequential": [
            [
             0,
             "#0d0887"
            ],
            [
             0.1111111111111111,
             "#46039f"
            ],
            [
             0.2222222222222222,
             "#7201a8"
            ],
            [
             0.3333333333333333,
             "#9c179e"
            ],
            [
             0.4444444444444444,
             "#bd3786"
            ],
            [
             0.5555555555555556,
             "#d8576b"
            ],
            [
             0.6666666666666666,
             "#ed7953"
            ],
            [
             0.7777777777777778,
             "#fb9f3a"
            ],
            [
             0.8888888888888888,
             "#fdca26"
            ],
            [
             1,
             "#f0f921"
            ]
           ],
           "sequentialminus": [
            [
             0,
             "#0d0887"
            ],
            [
             0.1111111111111111,
             "#46039f"
            ],
            [
             0.2222222222222222,
             "#7201a8"
            ],
            [
             0.3333333333333333,
             "#9c179e"
            ],
            [
             0.4444444444444444,
             "#bd3786"
            ],
            [
             0.5555555555555556,
             "#d8576b"
            ],
            [
             0.6666666666666666,
             "#ed7953"
            ],
            [
             0.7777777777777778,
             "#fb9f3a"
            ],
            [
             0.8888888888888888,
             "#fdca26"
            ],
            [
             1,
             "#f0f921"
            ]
           ]
          },
          "colorway": [
           "#636efa",
           "#EF553B",
           "#00cc96",
           "#ab63fa",
           "#FFA15A",
           "#19d3f3",
           "#FF6692",
           "#B6E880",
           "#FF97FF",
           "#FECB52"
          ],
          "font": {
           "color": "#2a3f5f"
          },
          "geo": {
           "bgcolor": "white",
           "lakecolor": "white",
           "landcolor": "#E5ECF6",
           "showlakes": true,
           "showland": true,
           "subunitcolor": "white"
          },
          "hoverlabel": {
           "align": "left"
          },
          "hovermode": "closest",
          "mapbox": {
           "style": "light"
          },
          "paper_bgcolor": "white",
          "plot_bgcolor": "#E5ECF6",
          "polar": {
           "angularaxis": {
            "gridcolor": "white",
            "linecolor": "white",
            "ticks": ""
           },
           "bgcolor": "#E5ECF6",
           "radialaxis": {
            "gridcolor": "white",
            "linecolor": "white",
            "ticks": ""
           }
          },
          "scene": {
           "xaxis": {
            "backgroundcolor": "#E5ECF6",
            "gridcolor": "white",
            "gridwidth": 2,
            "linecolor": "white",
            "showbackground": true,
            "ticks": "",
            "zerolinecolor": "white"
           },
           "yaxis": {
            "backgroundcolor": "#E5ECF6",
            "gridcolor": "white",
            "gridwidth": 2,
            "linecolor": "white",
            "showbackground": true,
            "ticks": "",
            "zerolinecolor": "white"
           },
           "zaxis": {
            "backgroundcolor": "#E5ECF6",
            "gridcolor": "white",
            "gridwidth": 2,
            "linecolor": "white",
            "showbackground": true,
            "ticks": "",
            "zerolinecolor": "white"
           }
          },
          "shapedefaults": {
           "line": {
            "color": "#2a3f5f"
           }
          },
          "ternary": {
           "aaxis": {
            "gridcolor": "white",
            "linecolor": "white",
            "ticks": ""
           },
           "baxis": {
            "gridcolor": "white",
            "linecolor": "white",
            "ticks": ""
           },
           "bgcolor": "#E5ECF6",
           "caxis": {
            "gridcolor": "white",
            "linecolor": "white",
            "ticks": ""
           }
          },
          "title": {
           "x": 0.05
          },
          "xaxis": {
           "automargin": true,
           "gridcolor": "white",
           "linecolor": "white",
           "ticks": "",
           "title": {
            "standoff": 15
           },
           "zerolinecolor": "white",
           "zerolinewidth": 2
          },
          "yaxis": {
           "automargin": true,
           "gridcolor": "white",
           "linecolor": "white",
           "ticks": "",
           "title": {
            "standoff": 15
           },
           "zerolinecolor": "white",
           "zerolinewidth": 2
          }
         }
        },
        "title": {
         "text": "Churn rate by PaperlessBilling"
        },
        "width": 1100,
        "xaxis": {
         "anchor": "y",
         "domain": [
          0,
          1
         ],
         "title": {
          "text": "PaperlessBilling"
         }
        },
        "yaxis": {
         "anchor": "x",
         "domain": [
          0,
          1
         ],
         "title": {
          "text": "Count"
         }
        }
       }
      }
     },
     "metadata": {},
     "output_type": "display_data"
    },
    {
     "name": "stdout",
     "output_type": "stream",
     "text": [
      "               PaymentMethod Churn     0\n",
      "0  Bank transfer (automatic)    No  1286\n",
      "1  Bank transfer (automatic)   Yes   258\n",
      "2    Credit card (automatic)    No  1290\n",
      "3    Credit card (automatic)   Yes   232\n",
      "4           Electronic check    No  1294\n",
      "5           Electronic check   Yes  1071\n",
      "6               Mailed check    No  1304\n",
      "7               Mailed check   Yes   308\n",
      "               PaymentMethod Churn  Count\n",
      "0  Bank transfer (automatic)    No   1286\n",
      "1  Bank transfer (automatic)   Yes    258\n",
      "2    Credit card (automatic)    No   1290\n",
      "3    Credit card (automatic)   Yes    232\n",
      "4           Electronic check    No   1294\n",
      "5           Electronic check   Yes   1071\n",
      "6               Mailed check    No   1304\n",
      "7               Mailed check   Yes    308\n",
      "                       index  PaymentMethod\n",
      "0           Electronic check           2365\n",
      "1               Mailed check           1612\n",
      "2  Bank transfer (automatic)           1544\n",
      "3    Credit card (automatic)           1522\n",
      "['Electronic check', 'Mailed check', 'Bank transfer (automatic)', 'Credit card (automatic)']\n",
      "[2365, 1612, 1544, 1522]\n",
      "[0.3357944057929859, 0.22887973874769274, 0.21922476217520942, 0.2161010932841119]\n",
      "[33.6, 22.9, 21.9, 21.6]\n",
      "[33.6, 22.9, 21.9, 21.6]\n",
      "4\n",
      "['Electronic check', 'Mailed check', 'Bank transfer (automatic)', 'Credit card (automatic)']\n",
      "4\n"
     ]
    },
    {
     "data": {
      "application/vnd.plotly.v1+json": {
       "config": {
        "plotlyServerURL": "https://plot.ly"
       },
       "data": [
        {
         "alignmentgroup": "True",
         "hovertemplate": "Churn=No<br>PaymentMethod=%{x}<br>Count=%{y}<extra></extra>",
         "legendgroup": "No",
         "marker": {
          "color": "blue",
          "pattern": {
           "shape": ""
          }
         },
         "name": "No",
         "offsetgroup": "No",
         "orientation": "v",
         "showlegend": true,
         "textposition": "auto",
         "type": "bar",
         "x": [
          "Bank transfer (automatic)",
          "Credit card (automatic)",
          "Electronic check",
          "Mailed check"
         ],
         "xaxis": "x",
         "y": [
          1286,
          1290,
          1294,
          1304
         ],
         "yaxis": "y"
        },
        {
         "alignmentgroup": "True",
         "hovertemplate": "Churn=Yes<br>PaymentMethod=%{x}<br>Count=%{y}<extra></extra>",
         "legendgroup": "Yes",
         "marker": {
          "color": "red",
          "pattern": {
           "shape": ""
          }
         },
         "name": "Yes",
         "offsetgroup": "Yes",
         "orientation": "v",
         "showlegend": true,
         "textposition": "auto",
         "type": "bar",
         "x": [
          "Bank transfer (automatic)",
          "Credit card (automatic)",
          "Electronic check",
          "Mailed check"
         ],
         "xaxis": "x",
         "y": [
          258,
          232,
          1071,
          308
         ],
         "yaxis": "y"
        }
       ],
       "layout": {
        "annotations": [
         {
          "align": "left",
          "bordercolor": "black",
          "borderwidth": 1,
          "showarrow": false,
          "text": "Value count of distribution of Electronic check, Mailed check, Bank transfer (automatic) & Credit card (automatic) are<br>33.6%, 22.9%, 21.9% & 21.6% percentage respectively.",
          "x": 1.1,
          "xref": "paper",
          "y": 1.3,
          "yref": "paper"
         }
        ],
        "barmode": "group",
        "legend": {
         "title": {
          "text": "Churn"
         },
         "tracegroupgap": 0
        },
        "template": {
         "data": {
          "bar": [
           {
            "error_x": {
             "color": "#2a3f5f"
            },
            "error_y": {
             "color": "#2a3f5f"
            },
            "marker": {
             "line": {
              "color": "#E5ECF6",
              "width": 0.5
             },
             "pattern": {
              "fillmode": "overlay",
              "size": 10,
              "solidity": 0.2
             }
            },
            "type": "bar"
           }
          ],
          "barpolar": [
           {
            "marker": {
             "line": {
              "color": "#E5ECF6",
              "width": 0.5
             },
             "pattern": {
              "fillmode": "overlay",
              "size": 10,
              "solidity": 0.2
             }
            },
            "type": "barpolar"
           }
          ],
          "carpet": [
           {
            "aaxis": {
             "endlinecolor": "#2a3f5f",
             "gridcolor": "white",
             "linecolor": "white",
             "minorgridcolor": "white",
             "startlinecolor": "#2a3f5f"
            },
            "baxis": {
             "endlinecolor": "#2a3f5f",
             "gridcolor": "white",
             "linecolor": "white",
             "minorgridcolor": "white",
             "startlinecolor": "#2a3f5f"
            },
            "type": "carpet"
           }
          ],
          "choropleth": [
           {
            "colorbar": {
             "outlinewidth": 0,
             "ticks": ""
            },
            "type": "choropleth"
           }
          ],
          "contour": [
           {
            "colorbar": {
             "outlinewidth": 0,
             "ticks": ""
            },
            "colorscale": [
             [
              0,
              "#0d0887"
             ],
             [
              0.1111111111111111,
              "#46039f"
             ],
             [
              0.2222222222222222,
              "#7201a8"
             ],
             [
              0.3333333333333333,
              "#9c179e"
             ],
             [
              0.4444444444444444,
              "#bd3786"
             ],
             [
              0.5555555555555556,
              "#d8576b"
             ],
             [
              0.6666666666666666,
              "#ed7953"
             ],
             [
              0.7777777777777778,
              "#fb9f3a"
             ],
             [
              0.8888888888888888,
              "#fdca26"
             ],
             [
              1,
              "#f0f921"
             ]
            ],
            "type": "contour"
           }
          ],
          "contourcarpet": [
           {
            "colorbar": {
             "outlinewidth": 0,
             "ticks": ""
            },
            "type": "contourcarpet"
           }
          ],
          "heatmap": [
           {
            "colorbar": {
             "outlinewidth": 0,
             "ticks": ""
            },
            "colorscale": [
             [
              0,
              "#0d0887"
             ],
             [
              0.1111111111111111,
              "#46039f"
             ],
             [
              0.2222222222222222,
              "#7201a8"
             ],
             [
              0.3333333333333333,
              "#9c179e"
             ],
             [
              0.4444444444444444,
              "#bd3786"
             ],
             [
              0.5555555555555556,
              "#d8576b"
             ],
             [
              0.6666666666666666,
              "#ed7953"
             ],
             [
              0.7777777777777778,
              "#fb9f3a"
             ],
             [
              0.8888888888888888,
              "#fdca26"
             ],
             [
              1,
              "#f0f921"
             ]
            ],
            "type": "heatmap"
           }
          ],
          "heatmapgl": [
           {
            "colorbar": {
             "outlinewidth": 0,
             "ticks": ""
            },
            "colorscale": [
             [
              0,
              "#0d0887"
             ],
             [
              0.1111111111111111,
              "#46039f"
             ],
             [
              0.2222222222222222,
              "#7201a8"
             ],
             [
              0.3333333333333333,
              "#9c179e"
             ],
             [
              0.4444444444444444,
              "#bd3786"
             ],
             [
              0.5555555555555556,
              "#d8576b"
             ],
             [
              0.6666666666666666,
              "#ed7953"
             ],
             [
              0.7777777777777778,
              "#fb9f3a"
             ],
             [
              0.8888888888888888,
              "#fdca26"
             ],
             [
              1,
              "#f0f921"
             ]
            ],
            "type": "heatmapgl"
           }
          ],
          "histogram": [
           {
            "marker": {
             "pattern": {
              "fillmode": "overlay",
              "size": 10,
              "solidity": 0.2
             }
            },
            "type": "histogram"
           }
          ],
          "histogram2d": [
           {
            "colorbar": {
             "outlinewidth": 0,
             "ticks": ""
            },
            "colorscale": [
             [
              0,
              "#0d0887"
             ],
             [
              0.1111111111111111,
              "#46039f"
             ],
             [
              0.2222222222222222,
              "#7201a8"
             ],
             [
              0.3333333333333333,
              "#9c179e"
             ],
             [
              0.4444444444444444,
              "#bd3786"
             ],
             [
              0.5555555555555556,
              "#d8576b"
             ],
             [
              0.6666666666666666,
              "#ed7953"
             ],
             [
              0.7777777777777778,
              "#fb9f3a"
             ],
             [
              0.8888888888888888,
              "#fdca26"
             ],
             [
              1,
              "#f0f921"
             ]
            ],
            "type": "histogram2d"
           }
          ],
          "histogram2dcontour": [
           {
            "colorbar": {
             "outlinewidth": 0,
             "ticks": ""
            },
            "colorscale": [
             [
              0,
              "#0d0887"
             ],
             [
              0.1111111111111111,
              "#46039f"
             ],
             [
              0.2222222222222222,
              "#7201a8"
             ],
             [
              0.3333333333333333,
              "#9c179e"
             ],
             [
              0.4444444444444444,
              "#bd3786"
             ],
             [
              0.5555555555555556,
              "#d8576b"
             ],
             [
              0.6666666666666666,
              "#ed7953"
             ],
             [
              0.7777777777777778,
              "#fb9f3a"
             ],
             [
              0.8888888888888888,
              "#fdca26"
             ],
             [
              1,
              "#f0f921"
             ]
            ],
            "type": "histogram2dcontour"
           }
          ],
          "mesh3d": [
           {
            "colorbar": {
             "outlinewidth": 0,
             "ticks": ""
            },
            "type": "mesh3d"
           }
          ],
          "parcoords": [
           {
            "line": {
             "colorbar": {
              "outlinewidth": 0,
              "ticks": ""
             }
            },
            "type": "parcoords"
           }
          ],
          "pie": [
           {
            "automargin": true,
            "type": "pie"
           }
          ],
          "scatter": [
           {
            "marker": {
             "colorbar": {
              "outlinewidth": 0,
              "ticks": ""
             }
            },
            "type": "scatter"
           }
          ],
          "scatter3d": [
           {
            "line": {
             "colorbar": {
              "outlinewidth": 0,
              "ticks": ""
             }
            },
            "marker": {
             "colorbar": {
              "outlinewidth": 0,
              "ticks": ""
             }
            },
            "type": "scatter3d"
           }
          ],
          "scattercarpet": [
           {
            "marker": {
             "colorbar": {
              "outlinewidth": 0,
              "ticks": ""
             }
            },
            "type": "scattercarpet"
           }
          ],
          "scattergeo": [
           {
            "marker": {
             "colorbar": {
              "outlinewidth": 0,
              "ticks": ""
             }
            },
            "type": "scattergeo"
           }
          ],
          "scattergl": [
           {
            "marker": {
             "colorbar": {
              "outlinewidth": 0,
              "ticks": ""
             }
            },
            "type": "scattergl"
           }
          ],
          "scattermapbox": [
           {
            "marker": {
             "colorbar": {
              "outlinewidth": 0,
              "ticks": ""
             }
            },
            "type": "scattermapbox"
           }
          ],
          "scatterpolar": [
           {
            "marker": {
             "colorbar": {
              "outlinewidth": 0,
              "ticks": ""
             }
            },
            "type": "scatterpolar"
           }
          ],
          "scatterpolargl": [
           {
            "marker": {
             "colorbar": {
              "outlinewidth": 0,
              "ticks": ""
             }
            },
            "type": "scatterpolargl"
           }
          ],
          "scatterternary": [
           {
            "marker": {
             "colorbar": {
              "outlinewidth": 0,
              "ticks": ""
             }
            },
            "type": "scatterternary"
           }
          ],
          "surface": [
           {
            "colorbar": {
             "outlinewidth": 0,
             "ticks": ""
            },
            "colorscale": [
             [
              0,
              "#0d0887"
             ],
             [
              0.1111111111111111,
              "#46039f"
             ],
             [
              0.2222222222222222,
              "#7201a8"
             ],
             [
              0.3333333333333333,
              "#9c179e"
             ],
             [
              0.4444444444444444,
              "#bd3786"
             ],
             [
              0.5555555555555556,
              "#d8576b"
             ],
             [
              0.6666666666666666,
              "#ed7953"
             ],
             [
              0.7777777777777778,
              "#fb9f3a"
             ],
             [
              0.8888888888888888,
              "#fdca26"
             ],
             [
              1,
              "#f0f921"
             ]
            ],
            "type": "surface"
           }
          ],
          "table": [
           {
            "cells": {
             "fill": {
              "color": "#EBF0F8"
             },
             "line": {
              "color": "white"
             }
            },
            "header": {
             "fill": {
              "color": "#C8D4E3"
             },
             "line": {
              "color": "white"
             }
            },
            "type": "table"
           }
          ]
         },
         "layout": {
          "annotationdefaults": {
           "arrowcolor": "#2a3f5f",
           "arrowhead": 0,
           "arrowwidth": 1
          },
          "autotypenumbers": "strict",
          "coloraxis": {
           "colorbar": {
            "outlinewidth": 0,
            "ticks": ""
           }
          },
          "colorscale": {
           "diverging": [
            [
             0,
             "#8e0152"
            ],
            [
             0.1,
             "#c51b7d"
            ],
            [
             0.2,
             "#de77ae"
            ],
            [
             0.3,
             "#f1b6da"
            ],
            [
             0.4,
             "#fde0ef"
            ],
            [
             0.5,
             "#f7f7f7"
            ],
            [
             0.6,
             "#e6f5d0"
            ],
            [
             0.7,
             "#b8e186"
            ],
            [
             0.8,
             "#7fbc41"
            ],
            [
             0.9,
             "#4d9221"
            ],
            [
             1,
             "#276419"
            ]
           ],
           "sequential": [
            [
             0,
             "#0d0887"
            ],
            [
             0.1111111111111111,
             "#46039f"
            ],
            [
             0.2222222222222222,
             "#7201a8"
            ],
            [
             0.3333333333333333,
             "#9c179e"
            ],
            [
             0.4444444444444444,
             "#bd3786"
            ],
            [
             0.5555555555555556,
             "#d8576b"
            ],
            [
             0.6666666666666666,
             "#ed7953"
            ],
            [
             0.7777777777777778,
             "#fb9f3a"
            ],
            [
             0.8888888888888888,
             "#fdca26"
            ],
            [
             1,
             "#f0f921"
            ]
           ],
           "sequentialminus": [
            [
             0,
             "#0d0887"
            ],
            [
             0.1111111111111111,
             "#46039f"
            ],
            [
             0.2222222222222222,
             "#7201a8"
            ],
            [
             0.3333333333333333,
             "#9c179e"
            ],
            [
             0.4444444444444444,
             "#bd3786"
            ],
            [
             0.5555555555555556,
             "#d8576b"
            ],
            [
             0.6666666666666666,
             "#ed7953"
            ],
            [
             0.7777777777777778,
             "#fb9f3a"
            ],
            [
             0.8888888888888888,
             "#fdca26"
            ],
            [
             1,
             "#f0f921"
            ]
           ]
          },
          "colorway": [
           "#636efa",
           "#EF553B",
           "#00cc96",
           "#ab63fa",
           "#FFA15A",
           "#19d3f3",
           "#FF6692",
           "#B6E880",
           "#FF97FF",
           "#FECB52"
          ],
          "font": {
           "color": "#2a3f5f"
          },
          "geo": {
           "bgcolor": "white",
           "lakecolor": "white",
           "landcolor": "#E5ECF6",
           "showlakes": true,
           "showland": true,
           "subunitcolor": "white"
          },
          "hoverlabel": {
           "align": "left"
          },
          "hovermode": "closest",
          "mapbox": {
           "style": "light"
          },
          "paper_bgcolor": "white",
          "plot_bgcolor": "#E5ECF6",
          "polar": {
           "angularaxis": {
            "gridcolor": "white",
            "linecolor": "white",
            "ticks": ""
           },
           "bgcolor": "#E5ECF6",
           "radialaxis": {
            "gridcolor": "white",
            "linecolor": "white",
            "ticks": ""
           }
          },
          "scene": {
           "xaxis": {
            "backgroundcolor": "#E5ECF6",
            "gridcolor": "white",
            "gridwidth": 2,
            "linecolor": "white",
            "showbackground": true,
            "ticks": "",
            "zerolinecolor": "white"
           },
           "yaxis": {
            "backgroundcolor": "#E5ECF6",
            "gridcolor": "white",
            "gridwidth": 2,
            "linecolor": "white",
            "showbackground": true,
            "ticks": "",
            "zerolinecolor": "white"
           },
           "zaxis": {
            "backgroundcolor": "#E5ECF6",
            "gridcolor": "white",
            "gridwidth": 2,
            "linecolor": "white",
            "showbackground": true,
            "ticks": "",
            "zerolinecolor": "white"
           }
          },
          "shapedefaults": {
           "line": {
            "color": "#2a3f5f"
           }
          },
          "ternary": {
           "aaxis": {
            "gridcolor": "white",
            "linecolor": "white",
            "ticks": ""
           },
           "baxis": {
            "gridcolor": "white",
            "linecolor": "white",
            "ticks": ""
           },
           "bgcolor": "#E5ECF6",
           "caxis": {
            "gridcolor": "white",
            "linecolor": "white",
            "ticks": ""
           }
          },
          "title": {
           "x": 0.05
          },
          "xaxis": {
           "automargin": true,
           "gridcolor": "white",
           "linecolor": "white",
           "ticks": "",
           "title": {
            "standoff": 15
           },
           "zerolinecolor": "white",
           "zerolinewidth": 2
          },
          "yaxis": {
           "automargin": true,
           "gridcolor": "white",
           "linecolor": "white",
           "ticks": "",
           "title": {
            "standoff": 15
           },
           "zerolinecolor": "white",
           "zerolinewidth": 2
          }
         }
        },
        "title": {
         "text": "Churn rate by PaymentMethod"
        },
        "width": 1100,
        "xaxis": {
         "anchor": "y",
         "domain": [
          0,
          1
         ],
         "title": {
          "text": "PaymentMethod"
         }
        },
        "yaxis": {
         "anchor": "x",
         "domain": [
          0,
          1
         ],
         "title": {
          "text": "Count"
         }
        }
       }
      }
     },
     "metadata": {},
     "output_type": "display_data"
    }
   ],
   "source": [
    "bar_chart(\"Contract\")\n",
    "bar_chart(\"PaperlessBilling\")\n",
    "bar_chart(\"PaymentMethod\")"
   ]
  },
  {
   "cell_type": "markdown",
   "id": "ddf17f51-1477-477d-9cb8-1fefed8d25ba",
   "metadata": {},
   "source": [
    "### Explore Numeric features"
   ]
  },
  {
   "cell_type": "code",
   "execution_count": 15,
   "id": "5213bf08-af65-40ba-b0a4-b96bbeed6b83",
   "metadata": {},
   "outputs": [
    {
     "data": {
      "text/plain": [
       "customerID           object\n",
       "gender               object\n",
       "SeniorCitizen        object\n",
       "Partner              object\n",
       "Dependents           object\n",
       "tenure                int64\n",
       "PhoneService         object\n",
       "MultipleLines        object\n",
       "InternetService      object\n",
       "OnlineSecurity       object\n",
       "OnlineBackup         object\n",
       "DeviceProtection     object\n",
       "TechSupport          object\n",
       "StreamingTV          object\n",
       "StreamingMovies      object\n",
       "Contract             object\n",
       "PaperlessBilling     object\n",
       "PaymentMethod        object\n",
       "MonthlyCharges      float64\n",
       "TotalCharges         object\n",
       "Churn                object\n",
       "dtype: object"
      ]
     },
     "execution_count": 15,
     "metadata": {},
     "output_type": "execute_result"
    }
   ],
   "source": [
    "dts_dtframe.dtypes"
   ]
  },
  {
   "cell_type": "code",
   "execution_count": 16,
   "id": "1d83f610-3d19-426b-8f11-1010135f2aea",
   "metadata": {},
   "outputs": [
    {
     "name": "stdout",
     "output_type": "stream",
     "text": [
      "could not convert string to float: ''\n"
     ]
    }
   ],
   "source": [
    "try:\n",
    "    dts_dtframe[\"TotalCharges\"] = dts_dtframe[\"TotalCharges\"].astype(float)\n",
    "except ValueError as val_err:\n",
    "    print(val_err)"
   ]
  },
  {
   "cell_type": "code",
   "execution_count": 17,
   "id": "1aa95e65-6896-436b-aa3e-2345542e8276",
   "metadata": {},
   "outputs": [],
   "source": [
    "dts_dtframe[\"TotalCharges\"] = pdas.to_numeric(\n",
    "    dts_dtframe[\"TotalCharges\"], errors=\"coerce\"\n",
    ")\n",
    "# Fill the missing values with with the median value\n",
    "dts_dtframe[\"TotalCharges\"] = dts_dtframe[\"TotalCharges\"].fillna(\n",
    "    dts_dtframe[\"TotalCharges\"].median()\n",
    ")"
   ]
  },
  {
   "cell_type": "code",
   "execution_count": 92,
   "id": "08b1ebf9-d47b-426d-84d0-221eb9dc0612",
   "metadata": {},
   "outputs": [],
   "source": [
    "# Defining the histogram plotting function\n",
    "def hist(feature):\n",
    "    group_df = dts_dtframe.groupby([feature, \"Churn\"]).size().reset_index()\n",
    "    print(group_df)\n",
    "    group_df = group_df.rename(columns={0: \"Count\"})\n",
    "    print(group_df)\n",
    "    chart = plotly_ex.histogram(\n",
    "        group_df,\n",
    "        x=feature,\n",
    "        y=\"Count\",\n",
    "        color=\"Churn\",\n",
    "        marginal=\"box\",\n",
    "        title=f\"Churn rate frequency to {feature} distribution\",\n",
    "        color_discrete_sequence=[\"blue\", \"red\"],\n",
    "        width=900\n",
    "    )\n",
    "    chart.show()"
   ]
  },
  {
   "cell_type": "code",
   "execution_count": 93,
   "id": "146bd0da-e217-4d94-a688-f38cadfb2acb",
   "metadata": {},
   "outputs": [
    {
     "name": "stdout",
     "output_type": "stream",
     "text": [
      "     tenure Churn    0\n",
      "0         0    No   11\n",
      "1         1    No  233\n",
      "2         1   Yes  380\n",
      "3         2    No  115\n",
      "4         2   Yes  123\n",
      "..      ...   ...  ...\n",
      "140      70   Yes   11\n",
      "141      71    No  164\n",
      "142      71   Yes    6\n",
      "143      72    No  356\n",
      "144      72   Yes    6\n",
      "\n",
      "[145 rows x 3 columns]\n",
      "     tenure Churn  Count\n",
      "0         0    No     11\n",
      "1         1    No    233\n",
      "2         1   Yes    380\n",
      "3         2    No    115\n",
      "4         2   Yes    123\n",
      "..      ...   ...    ...\n",
      "140      70   Yes     11\n",
      "141      71    No    164\n",
      "142      71   Yes      6\n",
      "143      72    No    356\n",
      "144      72   Yes      6\n",
      "\n",
      "[145 rows x 3 columns]\n"
     ]
    },
    {
     "data": {
      "application/vnd.plotly.v1+json": {
       "config": {
        "plotlyServerURL": "https://plot.ly"
       },
       "data": [
        {
         "alignmentgroup": "True",
         "bingroup": "x",
         "histfunc": "sum",
         "hovertemplate": "Churn=No<br>tenure=%{x}<br>sum of Count=%{y}<extra></extra>",
         "legendgroup": "No",
         "marker": {
          "color": "blue",
          "pattern": {
           "shape": ""
          }
         },
         "name": "No",
         "offsetgroup": "No",
         "orientation": "v",
         "showlegend": true,
         "type": "histogram",
         "x": [
          0,
          1,
          2,
          3,
          4,
          5,
          6,
          7,
          8,
          9,
          10,
          11,
          12,
          13,
          14,
          15,
          16,
          17,
          18,
          19,
          20,
          21,
          22,
          23,
          24,
          25,
          26,
          27,
          28,
          29,
          30,
          31,
          32,
          33,
          34,
          35,
          36,
          37,
          38,
          39,
          40,
          41,
          42,
          43,
          44,
          45,
          46,
          47,
          48,
          49,
          50,
          51,
          52,
          53,
          54,
          55,
          56,
          57,
          58,
          59,
          60,
          61,
          62,
          63,
          64,
          65,
          66,
          67,
          68,
          69,
          70,
          71,
          72
         ],
         "xaxis": "x",
         "y": [
          11,
          233,
          115,
          106,
          93,
          69,
          70,
          80,
          81,
          73,
          71,
          68,
          79,
          71,
          52,
          62,
          52,
          61,
          73,
          54,
          53,
          46,
          63,
          72,
          71,
          56,
          64,
          59,
          45,
          57,
          56,
          49,
          50,
          50,
          53,
          73,
          40,
          50,
          46,
          42,
          51,
          56,
          51,
          50,
          45,
          55,
          62,
          54,
          55,
          51,
          58,
          60,
          72,
          56,
          55,
          55,
          70,
          57,
          56,
          52,
          70,
          68,
          65,
          68,
          76,
          67,
          76,
          88,
          91,
          87,
          108,
          164,
          356
         ],
         "yaxis": "y"
        },
        {
         "alignmentgroup": "True",
         "hovertemplate": "Churn=No<br>tenure=%{x}<extra></extra>",
         "legendgroup": "No",
         "marker": {
          "color": "blue"
         },
         "name": "No",
         "notched": true,
         "offsetgroup": "No",
         "showlegend": false,
         "type": "box",
         "x": [
          0,
          1,
          2,
          3,
          4,
          5,
          6,
          7,
          8,
          9,
          10,
          11,
          12,
          13,
          14,
          15,
          16,
          17,
          18,
          19,
          20,
          21,
          22,
          23,
          24,
          25,
          26,
          27,
          28,
          29,
          30,
          31,
          32,
          33,
          34,
          35,
          36,
          37,
          38,
          39,
          40,
          41,
          42,
          43,
          44,
          45,
          46,
          47,
          48,
          49,
          50,
          51,
          52,
          53,
          54,
          55,
          56,
          57,
          58,
          59,
          60,
          61,
          62,
          63,
          64,
          65,
          66,
          67,
          68,
          69,
          70,
          71,
          72
         ],
         "xaxis": "x2",
         "yaxis": "y2"
        },
        {
         "alignmentgroup": "True",
         "bingroup": "x",
         "histfunc": "sum",
         "hovertemplate": "Churn=Yes<br>tenure=%{x}<br>sum of Count=%{y}<extra></extra>",
         "legendgroup": "Yes",
         "marker": {
          "color": "red",
          "pattern": {
           "shape": ""
          }
         },
         "name": "Yes",
         "offsetgroup": "Yes",
         "orientation": "v",
         "showlegend": true,
         "type": "histogram",
         "x": [
          1,
          2,
          3,
          4,
          5,
          6,
          7,
          8,
          9,
          10,
          11,
          12,
          13,
          14,
          15,
          16,
          17,
          18,
          19,
          20,
          21,
          22,
          23,
          24,
          25,
          26,
          27,
          28,
          29,
          30,
          31,
          32,
          33,
          34,
          35,
          36,
          37,
          38,
          39,
          40,
          41,
          42,
          43,
          44,
          45,
          46,
          47,
          48,
          49,
          50,
          51,
          52,
          53,
          54,
          55,
          56,
          57,
          58,
          59,
          60,
          61,
          62,
          63,
          64,
          65,
          66,
          67,
          68,
          69,
          70,
          71,
          72
         ],
         "xaxis": "x",
         "y": [
          380,
          123,
          94,
          83,
          64,
          40,
          51,
          42,
          46,
          45,
          31,
          38,
          38,
          24,
          37,
          28,
          26,
          24,
          19,
          18,
          17,
          27,
          13,
          23,
          23,
          15,
          13,
          12,
          15,
          16,
          16,
          19,
          14,
          12,
          15,
          10,
          15,
          13,
          14,
          13,
          14,
          14,
          15,
          6,
          6,
          12,
          14,
          9,
          15,
          10,
          8,
          8,
          14,
          13,
          9,
          10,
          8,
          11,
          8,
          6,
          8,
          5,
          4,
          4,
          9,
          13,
          10,
          9,
          8,
          11,
          6,
          6
         ],
         "yaxis": "y"
        },
        {
         "alignmentgroup": "True",
         "hovertemplate": "Churn=Yes<br>tenure=%{x}<extra></extra>",
         "legendgroup": "Yes",
         "marker": {
          "color": "red"
         },
         "name": "Yes",
         "notched": true,
         "offsetgroup": "Yes",
         "showlegend": false,
         "type": "box",
         "x": [
          1,
          2,
          3,
          4,
          5,
          6,
          7,
          8,
          9,
          10,
          11,
          12,
          13,
          14,
          15,
          16,
          17,
          18,
          19,
          20,
          21,
          22,
          23,
          24,
          25,
          26,
          27,
          28,
          29,
          30,
          31,
          32,
          33,
          34,
          35,
          36,
          37,
          38,
          39,
          40,
          41,
          42,
          43,
          44,
          45,
          46,
          47,
          48,
          49,
          50,
          51,
          52,
          53,
          54,
          55,
          56,
          57,
          58,
          59,
          60,
          61,
          62,
          63,
          64,
          65,
          66,
          67,
          68,
          69,
          70,
          71,
          72
         ],
         "xaxis": "x2",
         "yaxis": "y2"
        }
       ],
       "layout": {
        "barmode": "relative",
        "legend": {
         "title": {
          "text": "Churn"
         },
         "tracegroupgap": 0
        },
        "template": {
         "data": {
          "bar": [
           {
            "error_x": {
             "color": "#2a3f5f"
            },
            "error_y": {
             "color": "#2a3f5f"
            },
            "marker": {
             "line": {
              "color": "#E5ECF6",
              "width": 0.5
             },
             "pattern": {
              "fillmode": "overlay",
              "size": 10,
              "solidity": 0.2
             }
            },
            "type": "bar"
           }
          ],
          "barpolar": [
           {
            "marker": {
             "line": {
              "color": "#E5ECF6",
              "width": 0.5
             },
             "pattern": {
              "fillmode": "overlay",
              "size": 10,
              "solidity": 0.2
             }
            },
            "type": "barpolar"
           }
          ],
          "carpet": [
           {
            "aaxis": {
             "endlinecolor": "#2a3f5f",
             "gridcolor": "white",
             "linecolor": "white",
             "minorgridcolor": "white",
             "startlinecolor": "#2a3f5f"
            },
            "baxis": {
             "endlinecolor": "#2a3f5f",
             "gridcolor": "white",
             "linecolor": "white",
             "minorgridcolor": "white",
             "startlinecolor": "#2a3f5f"
            },
            "type": "carpet"
           }
          ],
          "choropleth": [
           {
            "colorbar": {
             "outlinewidth": 0,
             "ticks": ""
            },
            "type": "choropleth"
           }
          ],
          "contour": [
           {
            "colorbar": {
             "outlinewidth": 0,
             "ticks": ""
            },
            "colorscale": [
             [
              0,
              "#0d0887"
             ],
             [
              0.1111111111111111,
              "#46039f"
             ],
             [
              0.2222222222222222,
              "#7201a8"
             ],
             [
              0.3333333333333333,
              "#9c179e"
             ],
             [
              0.4444444444444444,
              "#bd3786"
             ],
             [
              0.5555555555555556,
              "#d8576b"
             ],
             [
              0.6666666666666666,
              "#ed7953"
             ],
             [
              0.7777777777777778,
              "#fb9f3a"
             ],
             [
              0.8888888888888888,
              "#fdca26"
             ],
             [
              1,
              "#f0f921"
             ]
            ],
            "type": "contour"
           }
          ],
          "contourcarpet": [
           {
            "colorbar": {
             "outlinewidth": 0,
             "ticks": ""
            },
            "type": "contourcarpet"
           }
          ],
          "heatmap": [
           {
            "colorbar": {
             "outlinewidth": 0,
             "ticks": ""
            },
            "colorscale": [
             [
              0,
              "#0d0887"
             ],
             [
              0.1111111111111111,
              "#46039f"
             ],
             [
              0.2222222222222222,
              "#7201a8"
             ],
             [
              0.3333333333333333,
              "#9c179e"
             ],
             [
              0.4444444444444444,
              "#bd3786"
             ],
             [
              0.5555555555555556,
              "#d8576b"
             ],
             [
              0.6666666666666666,
              "#ed7953"
             ],
             [
              0.7777777777777778,
              "#fb9f3a"
             ],
             [
              0.8888888888888888,
              "#fdca26"
             ],
             [
              1,
              "#f0f921"
             ]
            ],
            "type": "heatmap"
           }
          ],
          "heatmapgl": [
           {
            "colorbar": {
             "outlinewidth": 0,
             "ticks": ""
            },
            "colorscale": [
             [
              0,
              "#0d0887"
             ],
             [
              0.1111111111111111,
              "#46039f"
             ],
             [
              0.2222222222222222,
              "#7201a8"
             ],
             [
              0.3333333333333333,
              "#9c179e"
             ],
             [
              0.4444444444444444,
              "#bd3786"
             ],
             [
              0.5555555555555556,
              "#d8576b"
             ],
             [
              0.6666666666666666,
              "#ed7953"
             ],
             [
              0.7777777777777778,
              "#fb9f3a"
             ],
             [
              0.8888888888888888,
              "#fdca26"
             ],
             [
              1,
              "#f0f921"
             ]
            ],
            "type": "heatmapgl"
           }
          ],
          "histogram": [
           {
            "marker": {
             "pattern": {
              "fillmode": "overlay",
              "size": 10,
              "solidity": 0.2
             }
            },
            "type": "histogram"
           }
          ],
          "histogram2d": [
           {
            "colorbar": {
             "outlinewidth": 0,
             "ticks": ""
            },
            "colorscale": [
             [
              0,
              "#0d0887"
             ],
             [
              0.1111111111111111,
              "#46039f"
             ],
             [
              0.2222222222222222,
              "#7201a8"
             ],
             [
              0.3333333333333333,
              "#9c179e"
             ],
             [
              0.4444444444444444,
              "#bd3786"
             ],
             [
              0.5555555555555556,
              "#d8576b"
             ],
             [
              0.6666666666666666,
              "#ed7953"
             ],
             [
              0.7777777777777778,
              "#fb9f3a"
             ],
             [
              0.8888888888888888,
              "#fdca26"
             ],
             [
              1,
              "#f0f921"
             ]
            ],
            "type": "histogram2d"
           }
          ],
          "histogram2dcontour": [
           {
            "colorbar": {
             "outlinewidth": 0,
             "ticks": ""
            },
            "colorscale": [
             [
              0,
              "#0d0887"
             ],
             [
              0.1111111111111111,
              "#46039f"
             ],
             [
              0.2222222222222222,
              "#7201a8"
             ],
             [
              0.3333333333333333,
              "#9c179e"
             ],
             [
              0.4444444444444444,
              "#bd3786"
             ],
             [
              0.5555555555555556,
              "#d8576b"
             ],
             [
              0.6666666666666666,
              "#ed7953"
             ],
             [
              0.7777777777777778,
              "#fb9f3a"
             ],
             [
              0.8888888888888888,
              "#fdca26"
             ],
             [
              1,
              "#f0f921"
             ]
            ],
            "type": "histogram2dcontour"
           }
          ],
          "mesh3d": [
           {
            "colorbar": {
             "outlinewidth": 0,
             "ticks": ""
            },
            "type": "mesh3d"
           }
          ],
          "parcoords": [
           {
            "line": {
             "colorbar": {
              "outlinewidth": 0,
              "ticks": ""
             }
            },
            "type": "parcoords"
           }
          ],
          "pie": [
           {
            "automargin": true,
            "type": "pie"
           }
          ],
          "scatter": [
           {
            "marker": {
             "colorbar": {
              "outlinewidth": 0,
              "ticks": ""
             }
            },
            "type": "scatter"
           }
          ],
          "scatter3d": [
           {
            "line": {
             "colorbar": {
              "outlinewidth": 0,
              "ticks": ""
             }
            },
            "marker": {
             "colorbar": {
              "outlinewidth": 0,
              "ticks": ""
             }
            },
            "type": "scatter3d"
           }
          ],
          "scattercarpet": [
           {
            "marker": {
             "colorbar": {
              "outlinewidth": 0,
              "ticks": ""
             }
            },
            "type": "scattercarpet"
           }
          ],
          "scattergeo": [
           {
            "marker": {
             "colorbar": {
              "outlinewidth": 0,
              "ticks": ""
             }
            },
            "type": "scattergeo"
           }
          ],
          "scattergl": [
           {
            "marker": {
             "colorbar": {
              "outlinewidth": 0,
              "ticks": ""
             }
            },
            "type": "scattergl"
           }
          ],
          "scattermapbox": [
           {
            "marker": {
             "colorbar": {
              "outlinewidth": 0,
              "ticks": ""
             }
            },
            "type": "scattermapbox"
           }
          ],
          "scatterpolar": [
           {
            "marker": {
             "colorbar": {
              "outlinewidth": 0,
              "ticks": ""
             }
            },
            "type": "scatterpolar"
           }
          ],
          "scatterpolargl": [
           {
            "marker": {
             "colorbar": {
              "outlinewidth": 0,
              "ticks": ""
             }
            },
            "type": "scatterpolargl"
           }
          ],
          "scatterternary": [
           {
            "marker": {
             "colorbar": {
              "outlinewidth": 0,
              "ticks": ""
             }
            },
            "type": "scatterternary"
           }
          ],
          "surface": [
           {
            "colorbar": {
             "outlinewidth": 0,
             "ticks": ""
            },
            "colorscale": [
             [
              0,
              "#0d0887"
             ],
             [
              0.1111111111111111,
              "#46039f"
             ],
             [
              0.2222222222222222,
              "#7201a8"
             ],
             [
              0.3333333333333333,
              "#9c179e"
             ],
             [
              0.4444444444444444,
              "#bd3786"
             ],
             [
              0.5555555555555556,
              "#d8576b"
             ],
             [
              0.6666666666666666,
              "#ed7953"
             ],
             [
              0.7777777777777778,
              "#fb9f3a"
             ],
             [
              0.8888888888888888,
              "#fdca26"
             ],
             [
              1,
              "#f0f921"
             ]
            ],
            "type": "surface"
           }
          ],
          "table": [
           {
            "cells": {
             "fill": {
              "color": "#EBF0F8"
             },
             "line": {
              "color": "white"
             }
            },
            "header": {
             "fill": {
              "color": "#C8D4E3"
             },
             "line": {
              "color": "white"
             }
            },
            "type": "table"
           }
          ]
         },
         "layout": {
          "annotationdefaults": {
           "arrowcolor": "#2a3f5f",
           "arrowhead": 0,
           "arrowwidth": 1
          },
          "autotypenumbers": "strict",
          "coloraxis": {
           "colorbar": {
            "outlinewidth": 0,
            "ticks": ""
           }
          },
          "colorscale": {
           "diverging": [
            [
             0,
             "#8e0152"
            ],
            [
             0.1,
             "#c51b7d"
            ],
            [
             0.2,
             "#de77ae"
            ],
            [
             0.3,
             "#f1b6da"
            ],
            [
             0.4,
             "#fde0ef"
            ],
            [
             0.5,
             "#f7f7f7"
            ],
            [
             0.6,
             "#e6f5d0"
            ],
            [
             0.7,
             "#b8e186"
            ],
            [
             0.8,
             "#7fbc41"
            ],
            [
             0.9,
             "#4d9221"
            ],
            [
             1,
             "#276419"
            ]
           ],
           "sequential": [
            [
             0,
             "#0d0887"
            ],
            [
             0.1111111111111111,
             "#46039f"
            ],
            [
             0.2222222222222222,
             "#7201a8"
            ],
            [
             0.3333333333333333,
             "#9c179e"
            ],
            [
             0.4444444444444444,
             "#bd3786"
            ],
            [
             0.5555555555555556,
             "#d8576b"
            ],
            [
             0.6666666666666666,
             "#ed7953"
            ],
            [
             0.7777777777777778,
             "#fb9f3a"
            ],
            [
             0.8888888888888888,
             "#fdca26"
            ],
            [
             1,
             "#f0f921"
            ]
           ],
           "sequentialminus": [
            [
             0,
             "#0d0887"
            ],
            [
             0.1111111111111111,
             "#46039f"
            ],
            [
             0.2222222222222222,
             "#7201a8"
            ],
            [
             0.3333333333333333,
             "#9c179e"
            ],
            [
             0.4444444444444444,
             "#bd3786"
            ],
            [
             0.5555555555555556,
             "#d8576b"
            ],
            [
             0.6666666666666666,
             "#ed7953"
            ],
            [
             0.7777777777777778,
             "#fb9f3a"
            ],
            [
             0.8888888888888888,
             "#fdca26"
            ],
            [
             1,
             "#f0f921"
            ]
           ]
          },
          "colorway": [
           "#636efa",
           "#EF553B",
           "#00cc96",
           "#ab63fa",
           "#FFA15A",
           "#19d3f3",
           "#FF6692",
           "#B6E880",
           "#FF97FF",
           "#FECB52"
          ],
          "font": {
           "color": "#2a3f5f"
          },
          "geo": {
           "bgcolor": "white",
           "lakecolor": "white",
           "landcolor": "#E5ECF6",
           "showlakes": true,
           "showland": true,
           "subunitcolor": "white"
          },
          "hoverlabel": {
           "align": "left"
          },
          "hovermode": "closest",
          "mapbox": {
           "style": "light"
          },
          "paper_bgcolor": "white",
          "plot_bgcolor": "#E5ECF6",
          "polar": {
           "angularaxis": {
            "gridcolor": "white",
            "linecolor": "white",
            "ticks": ""
           },
           "bgcolor": "#E5ECF6",
           "radialaxis": {
            "gridcolor": "white",
            "linecolor": "white",
            "ticks": ""
           }
          },
          "scene": {
           "xaxis": {
            "backgroundcolor": "#E5ECF6",
            "gridcolor": "white",
            "gridwidth": 2,
            "linecolor": "white",
            "showbackground": true,
            "ticks": "",
            "zerolinecolor": "white"
           },
           "yaxis": {
            "backgroundcolor": "#E5ECF6",
            "gridcolor": "white",
            "gridwidth": 2,
            "linecolor": "white",
            "showbackground": true,
            "ticks": "",
            "zerolinecolor": "white"
           },
           "zaxis": {
            "backgroundcolor": "#E5ECF6",
            "gridcolor": "white",
            "gridwidth": 2,
            "linecolor": "white",
            "showbackground": true,
            "ticks": "",
            "zerolinecolor": "white"
           }
          },
          "shapedefaults": {
           "line": {
            "color": "#2a3f5f"
           }
          },
          "ternary": {
           "aaxis": {
            "gridcolor": "white",
            "linecolor": "white",
            "ticks": ""
           },
           "baxis": {
            "gridcolor": "white",
            "linecolor": "white",
            "ticks": ""
           },
           "bgcolor": "#E5ECF6",
           "caxis": {
            "gridcolor": "white",
            "linecolor": "white",
            "ticks": ""
           }
          },
          "title": {
           "x": 0.05
          },
          "xaxis": {
           "automargin": true,
           "gridcolor": "white",
           "linecolor": "white",
           "ticks": "",
           "title": {
            "standoff": 15
           },
           "zerolinecolor": "white",
           "zerolinewidth": 2
          },
          "yaxis": {
           "automargin": true,
           "gridcolor": "white",
           "linecolor": "white",
           "ticks": "",
           "title": {
            "standoff": 15
           },
           "zerolinecolor": "white",
           "zerolinewidth": 2
          }
         }
        },
        "title": {
         "text": "Churn rate frequency to tenure distribution"
        },
        "width": 900,
        "xaxis": {
         "anchor": "y",
         "domain": [
          0,
          1
         ],
         "title": {
          "text": "tenure"
         }
        },
        "xaxis2": {
         "anchor": "y2",
         "domain": [
          0,
          1
         ],
         "matches": "x",
         "showgrid": true,
         "showticklabels": false
        },
        "yaxis": {
         "anchor": "x",
         "domain": [
          0,
          0.7326
         ],
         "title": {
          "text": "sum of Count"
         }
        },
        "yaxis2": {
         "anchor": "x2",
         "domain": [
          0.7426,
          1
         ],
         "matches": "y2",
         "showgrid": false,
         "showline": false,
         "showticklabels": false,
         "ticks": ""
        }
       }
      }
     },
     "metadata": {},
     "output_type": "display_data"
    },
    {
     "name": "stdout",
     "output_type": "stream",
     "text": [
      "      MonthlyCharges Churn  0\n",
      "0              18.25    No  1\n",
      "1              18.40    No  1\n",
      "2              18.55    No  1\n",
      "3              18.70    No  2\n",
      "4              18.75    No  1\n",
      "...              ...   ... ..\n",
      "2365          118.20    No  1\n",
      "2366          118.35   Yes  1\n",
      "2367          118.60    No  2\n",
      "2368          118.65    No  1\n",
      "2369          118.75    No  1\n",
      "\n",
      "[2370 rows x 3 columns]\n",
      "      MonthlyCharges Churn  Count\n",
      "0              18.25    No      1\n",
      "1              18.40    No      1\n",
      "2              18.55    No      1\n",
      "3              18.70    No      2\n",
      "4              18.75    No      1\n",
      "...              ...   ...    ...\n",
      "2365          118.20    No      1\n",
      "2366          118.35   Yes      1\n",
      "2367          118.60    No      2\n",
      "2368          118.65    No      1\n",
      "2369          118.75    No      1\n",
      "\n",
      "[2370 rows x 3 columns]\n"
     ]
    },
    {
     "data": {
      "application/vnd.plotly.v1+json": {
       "config": {
        "plotlyServerURL": "https://plot.ly"
       },
       "data": [
        {
         "alignmentgroup": "True",
         "bingroup": "x",
         "histfunc": "sum",
         "hovertemplate": "Churn=No<br>MonthlyCharges=%{x}<br>sum of Count=%{y}<extra></extra>",
         "legendgroup": "No",
         "marker": {
          "color": "blue",
          "pattern": {
           "shape": ""
          }
         },
         "name": "No",
         "offsetgroup": "No",
         "orientation": "v",
         "showlegend": true,
         "type": "histogram",
         "x": [
          18.25,
          18.4,
          18.55,
          18.7,
          18.75,
          18.8,
          18.85,
          18.9,
          18.95,
          19,
          19.05,
          19.1,
          19.15,
          19.2,
          19.25,
          19.3,
          19.35,
          19.4,
          19.45,
          19.5,
          19.55,
          19.6,
          19.65,
          19.7,
          19.75,
          19.8,
          19.85,
          19.9,
          19.95,
          20,
          20.05,
          20.1,
          20.15,
          20.2,
          20.25,
          20.3,
          20.35,
          20.4,
          20.45,
          20.5,
          20.55,
          20.6,
          20.65,
          20.7,
          20.75,
          20.8,
          20.85,
          20.9,
          20.95,
          21,
          21.05,
          21.1,
          21.15,
          21.2,
          21.25,
          21.3,
          21.45,
          22.95,
          23.05,
          23.3,
          23.4,
          23.5,
          23.55,
          23.6,
          23.65,
          23.75,
          23.8,
          23.85,
          23.9,
          23.95,
          24,
          24.05,
          24.1,
          24.15,
          24.2,
          24.25,
          24.3,
          24.35,
          24.4,
          24.45,
          24.5,
          24.55,
          24.6,
          24.65,
          24.7,
          24.75,
          24.8,
          24.85,
          24.9,
          24.95,
          25,
          25.05,
          25.1,
          25.15,
          25.2,
          25.25,
          25.3,
          25.35,
          25.4,
          25.45,
          25.5,
          25.55,
          25.6,
          25.65,
          25.7,
          25.75,
          25.8,
          25.85,
          25.9,
          25.95,
          26,
          26.05,
          26.1,
          26.2,
          26.25,
          26.3,
          26.35,
          26.4,
          26.45,
          26.5,
          26.8,
          26.9,
          28.5,
          29.05,
          29.1,
          29.15,
          29.2,
          29.25,
          29.3,
          29.35,
          29.45,
          29.5,
          29.6,
          29.65,
          29.75,
          29.8,
          29.85,
          29.9,
          30.05,
          30.1,
          30.15,
          30.2,
          30.25,
          30.35,
          30.4,
          30.5,
          30.55,
          30.75,
          30.85,
          31.05,
          31.1,
          31.2,
          31.65,
          33.15,
          33.45,
          33.6,
          33.7,
          33.75,
          34,
          34.05,
          34.2,
          34.25,
          34.3,
          34.4,
          34.55,
          34.6,
          34.65,
          34.7,
          34.8,
          34.85,
          34.95,
          35,
          35.05,
          35.1,
          35.15,
          35.2,
          35.3,
          35.35,
          35.4,
          35.45,
          35.5,
          35.55,
          35.6,
          35.65,
          35.7,
          35.75,
          35.8,
          35.9,
          36,
          36.05,
          36.1,
          36.15,
          36.25,
          36.65,
          37.7,
          38.1,
          38.25,
          38.5,
          38.55,
          38.6,
          38.8,
          38.85,
          38.9,
          39,
          39.1,
          39.15,
          39.2,
          39.35,
          39.4,
          39.45,
          39.5,
          39.55,
          39.6,
          39.65,
          39.7,
          39.85,
          39.9,
          39.95,
          40.05,
          40.1,
          40.15,
          40.2,
          40.25,
          40.3,
          40.35,
          40.4,
          40.45,
          40.55,
          40.6,
          40.65,
          40.7,
          40.75,
          40.9,
          41.1,
          41.15,
          41.35,
          41.9,
          41.95,
          42.1,
          42.3,
          42.4,
          43.05,
          43.35,
          43.45,
          43.55,
          43.6,
          43.7,
          43.75,
          43.8,
          43.85,
          43.9,
          43.95,
          44,
          44.05,
          44.1,
          44.15,
          44.25,
          44.3,
          44.35,
          44.4,
          44.45,
          44.5,
          44.55,
          44.6,
          44.65,
          44.7,
          44.75,
          44.8,
          44.85,
          44.9,
          44.95,
          45,
          45.05,
          45.1,
          45.15,
          45.2,
          45.25,
          45.3,
          45.35,
          45.4,
          45.45,
          45.5,
          45.55,
          45.6,
          45.65,
          45.75,
          45.8,
          45.85,
          45.9,
          46,
          46.1,
          46.2,
          46.25,
          46.3,
          46.35,
          46.4,
          46.6,
          47.05,
          47.4,
          47.6,
          47.85,
          47.95,
          48.15,
          48.2,
          48.25,
          48.4,
          48.45,
          48.6,
          48.65,
          48.7,
          48.75,
          48.8,
          48.85,
          48.9,
          48.95,
          49,
          49.05,
          49.15,
          49.2,
          49.25,
          49.3,
          49.35,
          49.4,
          49.45,
          49.5,
          49.55,
          49.6,
          49.65,
          49.7,
          49.75,
          49.8,
          49.85,
          49.9,
          49.95,
          50,
          50.05,
          50.1,
          50.15,
          50.2,
          50.25,
          50.3,
          50.35,
          50.4,
          50.45,
          50.5,
          50.55,
          50.6,
          50.65,
          50.7,
          50.75,
          50.8,
          50.85,
          50.9,
          50.95,
          51,
          51.05,
          51.1,
          51.15,
          51.2,
          51.25,
          51.3,
          51.35,
          51.4,
          51.45,
          51.55,
          51.6,
          51.65,
          51.7,
          51.8,
          52,
          52.1,
          52.15,
          52.3,
          52.5,
          52.55,
          52.7,
          52.85,
          53,
          53.1,
          53.15,
          53.3,
          53.35,
          53.4,
          53.45,
          53.5,
          53.55,
          53.6,
          53.65,
          53.7,
          53.75,
          53.8,
          53.85,
          53.95,
          54,
          54.05,
          54.1,
          54.15,
          54.2,
          54.25,
          54.3,
          54.35,
          54.4,
          54.45,
          54.5,
          54.55,
          54.6,
          54.65,
          54.7,
          54.75,
          54.8,
          54.85,
          54.9,
          54.95,
          55,
          55.05,
          55.1,
          55.15,
          55.2,
          55.25,
          55.3,
          55.35,
          55.45,
          55.5,
          55.55,
          55.6,
          55.65,
          55.7,
          55.75,
          55.8,
          55.85,
          55.9,
          55.95,
          56,
          56.05,
          56.1,
          56.15,
          56.2,
          56.25,
          56.3,
          56.35,
          56.4,
          56.45,
          56.55,
          56.6,
          56.7,
          56.75,
          56.8,
          56.85,
          56.9,
          56.95,
          57.2,
          57.5,
          57.55,
          57.6,
          57.65,
          57.75,
          57.8,
          57.95,
          58,
          58.2,
          58.25,
          58.35,
          58.4,
          58.45,
          58.5,
          58.55,
          58.6,
          58.65,
          58.7,
          58.75,
          58.85,
          58.9,
          58.95,
          59,
          59.05,
          59.1,
          59.15,
          59.2,
          59.25,
          59.3,
          59.4,
          59.45,
          59.5,
          59.55,
          59.6,
          59.65,
          59.7,
          59.75,
          59.8,
          59.85,
          59.9,
          59.95,
          60,
          60.05,
          60.15,
          60.2,
          60.25,
          60.3,
          60.35,
          60.4,
          60.45,
          60.5,
          60.55,
          60.6,
          60.65,
          60.7,
          60.75,
          60.8,
          60.85,
          60.9,
          60.95,
          61,
          61.05,
          61.1,
          61.15,
          61.2,
          61.25,
          61.3,
          61.35,
          61.4,
          61.45,
          61.5,
          61.55,
          61.6,
          61.65,
          61.75,
          61.8,
          61.9,
          61.95,
          62.05,
          62.1,
          62.15,
          62.25,
          62.45,
          62.5,
          62.55,
          62.65,
          62.8,
          62.85,
          63.05,
          63.1,
          63.15,
          63.25,
          63.3,
          63.35,
          63.4,
          63.55,
          63.7,
          63.75,
          63.8,
          63.85,
          63.9,
          63.95,
          64,
          64.05,
          64.1,
          64.15,
          64.2,
          64.25,
          64.3,
          64.35,
          64.4,
          64.45,
          64.5,
          64.55,
          64.6,
          64.65,
          64.7,
          64.75,
          64.8,
          64.85,
          64.9,
          64.95,
          65,
          65.05,
          65.1,
          65.15,
          65.2,
          65.25,
          65.3,
          65.35,
          65.4,
          65.45,
          65.5,
          65.55,
          65.6,
          65.65,
          65.7,
          65.75,
          65.8,
          65.85,
          65.9,
          66,
          66.05,
          66.1,
          66.15,
          66.2,
          66.25,
          66.3,
          66.4,
          66.5,
          66.6,
          66.65,
          66.7,
          66.75,
          66.8,
          66.85,
          66.9,
          67.05,
          67.2,
          67.25,
          67.4,
          67.45,
          67.6,
          67.65,
          67.7,
          67.8,
          67.85,
          67.95,
          68.05,
          68.1,
          68.15,
          68.25,
          68.3,
          68.35,
          68.4,
          68.45,
          68.5,
          68.55,
          68.6,
          68.65,
          68.7,
          68.75,
          68.8,
          68.85,
          68.9,
          68.95,
          69,
          69.05,
          69.1,
          69.15,
          69.2,
          69.25,
          69.3,
          69.35,
          69.4,
          69.45,
          69.5,
          69.55,
          69.6,
          69.65,
          69.7,
          69.75,
          69.8,
          69.85,
          69.9,
          69.95,
          70,
          70.05,
          70.1,
          70.15,
          70.2,
          70.25,
          70.3,
          70.35,
          70.4,
          70.45,
          70.5,
          70.55,
          70.6,
          70.65,
          70.7,
          70.75,
          70.8,
          70.85,
          70.9,
          70.95,
          71,
          71.05,
          71.1,
          71.25,
          71.3,
          71.35,
          71.4,
          71.45,
          71.5,
          71.55,
          71.6,
          71.65,
          71.7,
          71.75,
          71.8,
          71.85,
          71.9,
          71.95,
          72,
          72.1,
          72.25,
          72.35,
          72.45,
          72.6,
          72.75,
          72.8,
          72.9,
          72.95,
          73,
          73.05,
          73.1,
          73.15,
          73.25,
          73.3,
          73.35,
          73.45,
          73.5,
          73.55,
          73.6,
          73.65,
          73.7,
          73.75,
          73.8,
          73.85,
          73.9,
          74,
          74.05,
          74.1,
          74.15,
          74.2,
          74.25,
          74.3,
          74.35,
          74.4,
          74.45,
          74.5,
          74.55,
          74.6,
          74.65,
          74.7,
          74.75,
          74.8,
          74.85,
          74.9,
          74.95,
          75,
          75.05,
          75.1,
          75.15,
          75.2,
          75.25,
          75.3,
          75.35,
          75.4,
          75.45,
          75.5,
          75.55,
          75.6,
          75.65,
          75.7,
          75.75,
          75.8,
          75.85,
          75.9,
          75.95,
          76,
          76.05,
          76.1,
          76.15,
          76.2,
          76.25,
          76.3,
          76.35,
          76.4,
          76.45,
          76.5,
          76.55,
          76.6,
          76.75,
          76.8,
          76.85,
          76.9,
          76.95,
          77.15,
          77.2,
          77.3,
          77.35,
          77.4,
          77.55,
          77.75,
          77.8,
          77.9,
          78,
          78.1,
          78.15,
          78.2,
          78.3,
          78.35,
          78.4,
          78.45,
          78.5,
          78.55,
          78.6,
          78.65,
          78.7,
          78.75,
          78.8,
          78.85,
          78.9,
          78.95,
          79,
          79.05,
          79.1,
          79.15,
          79.2,
          79.25,
          79.3,
          79.35,
          79.4,
          79.45,
          79.5,
          79.55,
          79.6,
          79.65,
          79.7,
          79.75,
          79.8,
          79.85,
          79.9,
          79.95,
          80,
          80.05,
          80.1,
          80.15,
          80.2,
          80.25,
          80.3,
          80.35,
          80.4,
          80.45,
          80.5,
          80.55,
          80.6,
          80.65,
          80.7,
          80.75,
          80.8,
          80.85,
          80.9,
          80.95,
          81,
          81.05,
          81.1,
          81.15,
          81.2,
          81.25,
          81.3,
          81.35,
          81.4,
          81.45,
          81.5,
          81.55,
          81.6,
          81.65,
          81.7,
          81.75,
          81.8,
          81.85,
          81.9,
          81.95,
          82,
          82.05,
          82.1,
          82.15,
          82.3,
          82.45,
          82.5,
          82.55,
          82.65,
          82.7,
          82.75,
          82.85,
          82.9,
          82.95,
          83,
          83.05,
          83.15,
          83.2,
          83.25,
          83.3,
          83.4,
          83.45,
          83.5,
          83.55,
          83.6,
          83.65,
          83.7,
          83.75,
          83.8,
          83.85,
          84,
          84.05,
          84.1,
          84.15,
          84.2,
          84.25,
          84.3,
          84.35,
          84.4,
          84.45,
          84.5,
          84.55,
          84.6,
          84.65,
          84.7,
          84.75,
          84.8,
          84.85,
          84.9,
          84.95,
          85,
          85.05,
          85.1,
          85.15,
          85.2,
          85.25,
          85.3,
          85.35,
          85.4,
          85.45,
          85.5,
          85.55,
          85.6,
          85.65,
          85.7,
          85.75,
          85.8,
          85.85,
          85.9,
          85.95,
          86,
          86.05,
          86.1,
          86.15,
          86.2,
          86.25,
          86.35,
          86.4,
          86.45,
          86.5,
          86.55,
          86.6,
          86.65,
          86.7,
          86.75,
          86.8,
          86.85,
          86.9,
          86.95,
          87,
          87.1,
          87.15,
          87.2,
          87.25,
          87.3,
          87.35,
          87.55,
          87.6,
          87.65,
          87.7,
          87.75,
          87.8,
          87.9,
          87.95,
          88,
          88.05,
          88.1,
          88.15,
          88.2,
          88.4,
          88.45,
          88.5,
          88.55,
          88.6,
          88.65,
          88.7,
          88.75,
          88.8,
          88.85,
          88.9,
          88.95,
          89,
          89.05,
          89.1,
          89.15,
          89.2,
          89.25,
          89.3,
          89.35,
          89.4,
          89.45,
          89.55,
          89.6,
          89.65,
          89.7,
          89.75,
          89.8,
          89.85,
          89.9,
          89.95,
          90,
          90.05,
          90.1,
          90.15,
          90.2,
          90.25,
          90.3,
          90.35,
          90.4,
          90.45,
          90.5,
          90.55,
          90.6,
          90.65,
          90.7,
          90.75,
          90.8,
          90.85,
          90.95,
          91,
          91.05,
          91.1,
          91.15,
          91.2,
          91.25,
          91.3,
          91.35,
          91.45,
          91.5,
          91.55,
          91.6,
          91.65,
          91.7,
          91.8,
          91.95,
          92,
          92.05,
          92.15,
          92.2,
          92.3,
          92.4,
          92.45,
          92.55,
          92.6,
          92.65,
          92.7,
          92.85,
          92.9,
          92.95,
          93,
          93.05,
          93.15,
          93.2,
          93.25,
          93.3,
          93.35,
          93.4,
          93.45,
          93.5,
          93.55,
          93.6,
          93.65,
          93.7,
          93.75,
          93.8,
          93.85,
          93.9,
          93.95,
          94,
          94.05,
          94.1,
          94.15,
          94.2,
          94.25,
          94.3,
          94.35,
          94.4,
          94.45,
          94.5,
          94.55,
          94.6,
          94.65,
          94.7,
          94.75,
          94.8,
          94.85,
          94.9,
          94.95,
          95,
          95.05,
          95.1,
          95.15,
          95.2,
          95.25,
          95.3,
          95.35,
          95.4,
          95.45,
          95.5,
          95.55,
          95.6,
          95.65,
          95.7,
          95.75,
          95.8,
          95.85,
          95.9,
          95.95,
          96,
          96.1,
          96.2,
          96.35,
          96.4,
          96.5,
          96.55,
          96.6,
          96.65,
          96.75,
          96.8,
          96.85,
          96.9,
          96.95,
          97,
          97.05,
          97.1,
          97.2,
          97.25,
          97.45,
          97.55,
          97.65,
          97.7,
          97.75,
          97.8,
          97.85,
          97.95,
          98,
          98.05,
          98.1,
          98.15,
          98.2,
          98.25,
          98.3,
          98.35,
          98.45,
          98.55,
          98.6,
          98.65,
          98.7,
          98.8,
          98.85,
          98.9,
          99,
          99.05,
          99.1,
          99.15,
          99.2,
          99.25,
          99.3,
          99.35,
          99.4,
          99.45,
          99.5,
          99.55,
          99.65,
          99.7,
          99.75,
          99.8,
          99.85,
          99.9,
          99.95,
          100,
          100.05,
          100.1,
          100.15,
          100.2,
          100.25,
          100.3,
          100.35,
          100.4,
          100.45,
          100.5,
          100.55,
          100.6,
          100.65,
          100.7,
          100.75,
          100.8,
          100.85,
          100.9,
          101,
          101.05,
          101.1,
          101.15,
          101.25,
          101.3,
          101.35,
          101.4,
          101.45,
          101.5,
          101.55,
          101.6,
          101.75,
          101.8,
          101.9,
          102.05,
          102.1,
          102.15,
          102.4,
          102.45,
          102.5,
          102.55,
          102.6,
          102.65,
          102.7,
          102.85,
          102.9,
          103,
          103.05,
          103.1,
          103.15,
          103.2,
          103.25,
          103.3,
          103.4,
          103.45,
          103.5,
          103.6,
          103.65,
          103.7,
          103.75,
          103.8,
          103.85,
          103.9,
          103.95,
          104,
          104.05,
          104.1,
          104.15,
          104.25,
          104.3,
          104.35,
          104.4,
          104.45,
          104.5,
          104.55,
          104.6,
          104.65,
          104.7,
          104.75,
          104.8,
          104.85,
          104.9,
          104.95,
          105,
          105.05,
          105.1,
          105.15,
          105.2,
          105.25,
          105.3,
          105.35,
          105.4,
          105.45,
          105.5,
          105.55,
          105.6,
          105.65,
          105.7,
          105.75,
          105.8,
          105.85,
          105.9,
          105.95,
          106,
          106.05,
          106.1,
          106.15,
          106.2,
          106.3,
          106.35,
          106.4,
          106.45,
          106.5,
          106.6,
          106.65,
          106.7,
          106.75,
          106.8,
          106.85,
          106.9,
          107,
          107.05,
          107.15,
          107.2,
          107.25,
          107.35,
          107.4,
          107.45,
          107.5,
          107.55,
          107.6,
          107.65,
          107.7,
          107.75,
          107.9,
          107.95,
          108,
          108.05,
          108.1,
          108.15,
          108.2,
          108.25,
          108.3,
          108.35,
          108.4,
          108.45,
          108.5,
          108.55,
          108.65,
          108.75,
          108.8,
          108.9,
          108.95,
          109,
          109.05,
          109.1,
          109.15,
          109.2,
          109.25,
          109.3,
          109.4,
          109.45,
          109.5,
          109.55,
          109.6,
          109.65,
          109.7,
          109.75,
          109.8,
          109.85,
          109.9,
          109.95,
          110,
          110.05,
          110.1,
          110.15,
          110.2,
          110.25,
          110.3,
          110.35,
          110.45,
          110.5,
          110.55,
          110.6,
          110.65,
          110.7,
          110.75,
          110.8,
          110.85,
          110.9,
          111.05,
          111.1,
          111.15,
          111.2,
          111.25,
          111.3,
          111.35,
          111.4,
          111.45,
          111.5,
          111.55,
          111.6,
          111.65,
          111.75,
          111.8,
          111.9,
          111.95,
          112.1,
          112.2,
          112.25,
          112.35,
          112.4,
          112.55,
          112.6,
          112.75,
          112.9,
          112.95,
          113,
          113.05,
          113.1,
          113.15,
          113.2,
          113.25,
          113.3,
          113.35,
          113.4,
          113.45,
          113.6,
          113.65,
          113.75,
          113.8,
          113.95,
          114,
          114.05,
          114.1,
          114.3,
          114.35,
          114.45,
          114.5,
          114.55,
          114.6,
          114.65,
          114.7,
          114.75,
          114.85,
          114.9,
          114.95,
          115,
          115.05,
          115.1,
          115.15,
          115.25,
          115.5,
          115.55,
          115.6,
          115.65,
          115.75,
          115.8,
          115.85,
          116,
          116.05,
          116.1,
          116.15,
          116.25,
          116.3,
          116.4,
          116.45,
          116.5,
          116.55,
          116.6,
          116.75,
          116.8,
          116.85,
          116.95,
          117.15,
          117.2,
          117.35,
          117.5,
          117.6,
          118.2,
          118.6,
          118.65,
          118.75
         ],
         "xaxis": "x",
         "y": [
          1,
          1,
          1,
          2,
          1,
          7,
          4,
          2,
          5,
          6,
          9,
          11,
          11,
          17,
          15,
          21,
          23,
          27,
          25,
          29,
          38,
          33,
          39,
          41,
          33,
          35,
          40,
          40,
          41,
          40,
          58,
          33,
          34,
          29,
          35,
          27,
          35,
          28,
          31,
          25,
          24,
          14,
          22,
          13,
          17,
          7,
          14,
          8,
          6,
          4,
          5,
          5,
          2,
          3,
          2,
          1,
          1,
          1,
          1,
          2,
          1,
          1,
          2,
          1,
          1,
          3,
          1,
          2,
          3,
          4,
          5,
          5,
          6,
          6,
          5,
          8,
          7,
          5,
          10,
          11,
          6,
          6,
          8,
          8,
          12,
          7,
          12,
          10,
          10,
          11,
          17,
          11,
          16,
          12,
          7,
          18,
          7,
          6,
          11,
          10,
          4,
          8,
          10,
          4,
          9,
          8,
          2,
          3,
          1,
          2,
          6,
          2,
          5,
          2,
          2,
          3,
          2,
          2,
          3,
          1,
          1,
          1,
          1,
          2,
          1,
          3,
          1,
          1,
          2,
          2,
          3,
          1,
          2,
          1,
          3,
          5,
          1,
          4,
          1,
          2,
          2,
          2,
          2,
          1,
          3,
          2,
          1,
          2,
          1,
          1,
          1,
          1,
          1,
          1,
          2,
          4,
          1,
          1,
          2,
          1,
          3,
          2,
          2,
          1,
          1,
          1,
          2,
          1,
          2,
          1,
          1,
          3,
          2,
          2,
          1,
          2,
          1,
          1,
          4,
          2,
          3,
          1,
          1,
          3,
          1,
          5,
          3,
          2,
          2,
          1,
          2,
          1,
          2,
          1,
          1,
          1,
          1,
          2,
          2,
          1,
          1,
          1,
          2,
          1,
          4,
          1,
          2,
          1,
          2,
          1,
          1,
          1,
          1,
          1,
          3,
          1,
          2,
          1,
          2,
          1,
          1,
          3,
          2,
          3,
          2,
          2,
          1,
          4,
          2,
          4,
          1,
          1,
          1,
          2,
          1,
          1,
          1,
          1,
          1,
          1,
          1,
          1,
          1,
          1,
          2,
          1,
          2,
          1,
          4,
          2,
          2,
          4,
          5,
          3,
          2,
          2,
          2,
          3,
          2,
          3,
          8,
          2,
          5,
          5,
          4,
          1,
          4,
          8,
          3,
          3,
          5,
          9,
          4,
          1,
          1,
          5,
          6,
          2,
          2,
          4,
          3,
          1,
          5,
          1,
          3,
          1,
          3,
          3,
          5,
          2,
          1,
          1,
          1,
          3,
          3,
          1,
          1,
          1,
          1,
          1,
          3,
          1,
          1,
          1,
          2,
          1,
          1,
          2,
          1,
          3,
          2,
          7,
          2,
          1,
          3,
          3,
          3,
          3,
          6,
          3,
          2,
          1,
          4,
          5,
          3,
          4,
          2,
          3,
          4,
          3,
          7,
          8,
          6,
          3,
          5,
          6,
          4,
          7,
          5,
          4,
          7,
          5,
          2,
          1,
          2,
          8,
          3,
          2,
          4,
          3,
          3,
          2,
          3,
          7,
          4,
          3,
          5,
          1,
          2,
          3,
          2,
          3,
          1,
          2,
          2,
          1,
          2,
          1,
          1,
          1,
          1,
          1,
          1,
          1,
          1,
          1,
          1,
          1,
          2,
          2,
          1,
          1,
          1,
          4,
          2,
          1,
          3,
          5,
          1,
          4,
          4,
          2,
          2,
          2,
          2,
          4,
          4,
          6,
          5,
          6,
          3,
          5,
          5,
          5,
          5,
          6,
          9,
          2,
          7,
          4,
          4,
          5,
          4,
          6,
          3,
          2,
          4,
          3,
          4,
          9,
          3,
          5,
          5,
          3,
          2,
          4,
          7,
          2,
          7,
          1,
          3,
          1,
          1,
          3,
          3,
          5,
          2,
          5,
          4,
          2,
          3,
          1,
          2,
          2,
          1,
          4,
          2,
          1,
          1,
          1,
          2,
          1,
          1,
          1,
          1,
          1,
          1,
          2,
          1,
          3,
          2,
          4,
          2,
          1,
          1,
          2,
          3,
          1,
          1,
          4,
          2,
          2,
          3,
          3,
          2,
          4,
          1,
          2,
          1,
          2,
          1,
          8,
          4,
          5,
          5,
          4,
          3,
          6,
          8,
          5,
          6,
          3,
          10,
          3,
          3,
          3,
          5,
          3,
          2,
          2,
          1,
          4,
          1,
          4,
          3,
          2,
          1,
          3,
          2,
          5,
          4,
          2,
          3,
          1,
          2,
          3,
          2,
          2,
          5,
          6,
          3,
          2,
          2,
          1,
          1,
          1,
          1,
          3,
          1,
          1,
          2,
          3,
          1,
          1,
          1,
          1,
          1,
          3,
          1,
          1,
          1,
          1,
          1,
          1,
          1,
          1,
          2,
          3,
          1,
          2,
          2,
          2,
          2,
          2,
          4,
          3,
          3,
          5,
          1,
          2,
          4,
          7,
          4,
          4,
          2,
          1,
          3,
          1,
          4,
          4,
          4,
          5,
          6,
          4,
          1,
          3,
          2,
          5,
          5,
          1,
          2,
          1,
          1,
          5,
          3,
          6,
          5,
          2,
          1,
          2,
          3,
          1,
          1,
          4,
          2,
          4,
          1,
          4,
          2,
          6,
          2,
          1,
          1,
          2,
          1,
          2,
          3,
          2,
          1,
          1,
          2,
          1,
          5,
          1,
          1,
          1,
          3,
          1,
          1,
          1,
          1,
          2,
          2,
          1,
          1,
          2,
          1,
          1,
          1,
          2,
          1,
          2,
          6,
          1,
          1,
          1,
          4,
          4,
          6,
          6,
          5,
          5,
          1,
          2,
          5,
          3,
          2,
          8,
          5,
          2,
          4,
          7,
          5,
          4,
          5,
          5,
          8,
          1,
          5,
          4,
          7,
          6,
          3,
          5,
          8,
          4,
          4,
          6,
          5,
          4,
          3,
          6,
          2,
          4,
          2,
          3,
          4,
          3,
          4,
          6,
          1,
          1,
          2,
          2,
          2,
          1,
          1,
          2,
          1,
          1,
          1,
          1,
          1,
          2,
          1,
          1,
          6,
          1,
          1,
          1,
          2,
          2,
          3,
          2,
          3,
          3,
          2,
          1,
          3,
          2,
          1,
          3,
          2,
          3,
          5,
          3,
          1,
          2,
          2,
          3,
          5,
          1,
          5,
          4,
          5,
          3,
          3,
          2,
          6,
          6,
          3,
          5,
          2,
          7,
          7,
          5,
          3,
          7,
          5,
          6,
          3,
          3,
          5,
          2,
          8,
          5,
          5,
          3,
          5,
          8,
          7,
          1,
          9,
          5,
          4,
          3,
          4,
          5,
          2,
          4,
          4,
          2,
          3,
          3,
          5,
          3,
          1,
          2,
          1,
          1,
          2,
          2,
          1,
          1,
          1,
          2,
          1,
          2,
          2,
          2,
          1,
          1,
          1,
          2,
          2,
          2,
          1,
          2,
          1,
          2,
          2,
          1,
          2,
          1,
          3,
          1,
          4,
          3,
          2,
          1,
          3,
          1,
          6,
          4,
          5,
          5,
          5,
          4,
          3,
          2,
          6,
          10,
          3,
          6,
          3,
          4,
          2,
          5,
          4,
          5,
          2,
          3,
          3,
          4,
          10,
          1,
          7,
          7,
          5,
          6,
          4,
          4,
          3,
          5,
          5,
          4,
          9,
          4,
          9,
          7,
          4,
          7,
          3,
          5,
          7,
          4,
          2,
          9,
          3,
          1,
          5,
          2,
          4,
          4,
          2,
          3,
          3,
          3,
          2,
          1,
          1,
          3,
          1,
          1,
          3,
          3,
          3,
          2,
          1,
          1,
          2,
          3,
          2,
          3,
          1,
          3,
          1,
          1,
          3,
          1,
          1,
          1,
          1,
          2,
          3,
          4,
          2,
          3,
          2,
          1,
          3,
          1,
          1,
          2,
          1,
          2,
          5,
          3,
          6,
          5,
          2,
          4,
          4,
          8,
          6,
          5,
          5,
          4,
          1,
          6,
          2,
          6,
          4,
          11,
          4,
          6,
          4,
          3,
          3,
          4,
          4,
          4,
          4,
          7,
          3,
          2,
          6,
          4,
          2,
          3,
          3,
          4,
          3,
          3,
          2,
          6,
          6,
          1,
          5,
          6,
          1,
          3,
          2,
          1,
          4,
          6,
          1,
          3,
          1,
          3,
          2,
          2,
          3,
          2,
          2,
          1,
          1,
          3,
          1,
          2,
          1,
          2,
          1,
          3,
          1,
          1,
          1,
          1,
          1,
          1,
          2,
          2,
          3,
          1,
          2,
          1,
          3,
          1,
          1,
          2,
          2,
          2,
          2,
          2,
          4,
          4,
          2,
          3,
          4,
          3,
          7,
          5,
          6,
          4,
          3,
          3,
          5,
          5,
          9,
          4,
          4,
          5,
          5,
          4,
          11,
          6,
          3,
          2,
          8,
          6,
          7,
          1,
          5,
          2,
          7,
          7,
          7,
          2,
          5,
          4,
          7,
          7,
          2,
          6,
          1,
          6,
          4,
          3,
          2,
          4,
          2,
          5,
          2,
          3,
          1,
          2,
          4,
          1,
          1,
          3,
          1,
          2,
          5,
          1,
          3,
          3,
          2,
          2,
          2,
          3,
          1,
          1,
          2,
          2,
          3,
          2,
          2,
          1,
          2,
          2,
          4,
          1,
          2,
          3,
          1,
          4,
          2,
          2,
          2,
          1,
          1,
          3,
          1,
          2,
          1,
          5,
          4,
          6,
          3,
          4,
          2,
          7,
          3,
          5,
          4,
          2,
          4,
          3,
          5,
          3,
          7,
          7,
          1,
          6,
          3,
          9,
          2,
          8,
          4,
          3,
          2,
          5,
          1,
          6,
          1,
          5,
          1,
          2,
          6,
          5,
          2,
          2,
          3,
          4,
          3,
          1,
          4,
          1,
          3,
          1,
          2,
          3,
          4,
          2,
          3,
          2,
          2,
          3,
          1,
          4,
          2,
          2,
          3,
          1,
          1,
          2,
          3,
          2,
          2,
          1,
          1,
          4,
          2,
          2,
          1,
          2,
          1,
          1,
          1,
          2,
          1,
          1,
          2,
          3,
          5,
          2,
          4,
          3,
          9,
          3,
          3,
          5,
          1,
          4,
          3,
          3,
          5,
          2,
          4,
          1,
          8,
          5,
          2,
          3,
          2,
          3,
          2,
          2,
          5,
          1,
          5,
          4,
          2,
          7,
          2,
          5,
          4,
          5,
          7,
          2,
          4,
          2,
          5,
          2,
          3,
          4,
          1,
          3,
          3,
          5,
          2,
          4,
          4,
          3,
          1,
          2,
          1,
          1,
          2,
          1,
          3,
          1,
          3,
          1,
          2,
          1,
          2,
          1,
          3,
          2,
          1,
          1,
          1,
          1,
          3,
          3,
          4,
          3,
          1,
          1,
          1,
          1,
          2,
          1,
          4,
          2,
          4,
          2,
          2,
          2,
          5,
          3,
          5,
          6,
          5,
          2,
          4,
          4,
          5,
          6,
          4,
          2,
          3,
          3,
          1,
          2,
          4,
          2,
          5,
          3,
          4,
          5,
          5,
          2,
          5,
          6,
          2,
          7,
          5,
          2,
          4,
          4,
          3,
          2,
          3,
          4,
          1,
          2,
          2,
          1,
          2,
          4,
          3,
          3,
          1,
          2,
          3,
          3,
          1,
          3,
          2,
          3,
          2,
          1,
          4,
          1,
          1,
          1,
          2,
          1,
          1,
          1,
          1,
          1,
          4,
          3,
          1,
          1,
          1,
          2,
          3,
          1,
          3,
          1,
          2,
          5,
          2,
          2,
          3,
          2,
          1,
          2,
          2,
          3,
          1,
          2,
          3,
          1,
          3,
          4,
          1,
          2,
          3,
          2,
          5,
          3,
          3,
          4,
          1,
          1,
          5,
          2,
          2,
          4,
          4,
          2,
          1,
          3,
          3,
          2,
          2,
          3,
          2,
          3,
          2,
          2,
          1,
          4,
          6,
          1,
          3,
          2,
          1,
          3,
          6,
          1,
          2,
          2,
          1,
          3,
          1,
          2,
          2,
          1,
          1,
          2,
          2,
          1,
          2,
          2,
          1,
          2,
          1,
          2,
          1,
          1,
          1,
          1,
          1,
          1,
          1,
          1,
          1,
          1,
          1,
          1,
          1,
          2,
          1,
          1,
          1,
          1,
          1,
          1,
          1,
          5,
          1,
          1,
          1,
          2,
          2,
          2,
          3,
          2,
          2,
          1,
          1,
          2,
          2,
          1,
          1,
          1,
          2,
          2,
          1,
          4,
          3,
          4,
          1,
          2,
          3,
          2,
          1,
          2,
          4,
          1,
          1,
          3,
          2,
          1,
          3,
          1,
          1,
          1,
          1,
          1,
          2,
          1,
          1,
          1,
          1,
          1,
          1,
          1,
          1,
          1,
          1,
          2,
          1,
          1
         ],
         "yaxis": "y"
        },
        {
         "alignmentgroup": "True",
         "hovertemplate": "Churn=No<br>MonthlyCharges=%{x}<extra></extra>",
         "legendgroup": "No",
         "marker": {
          "color": "blue"
         },
         "name": "No",
         "notched": true,
         "offsetgroup": "No",
         "showlegend": false,
         "type": "box",
         "x": [
          18.25,
          18.4,
          18.55,
          18.7,
          18.75,
          18.8,
          18.85,
          18.9,
          18.95,
          19,
          19.05,
          19.1,
          19.15,
          19.2,
          19.25,
          19.3,
          19.35,
          19.4,
          19.45,
          19.5,
          19.55,
          19.6,
          19.65,
          19.7,
          19.75,
          19.8,
          19.85,
          19.9,
          19.95,
          20,
          20.05,
          20.1,
          20.15,
          20.2,
          20.25,
          20.3,
          20.35,
          20.4,
          20.45,
          20.5,
          20.55,
          20.6,
          20.65,
          20.7,
          20.75,
          20.8,
          20.85,
          20.9,
          20.95,
          21,
          21.05,
          21.1,
          21.15,
          21.2,
          21.25,
          21.3,
          21.45,
          22.95,
          23.05,
          23.3,
          23.4,
          23.5,
          23.55,
          23.6,
          23.65,
          23.75,
          23.8,
          23.85,
          23.9,
          23.95,
          24,
          24.05,
          24.1,
          24.15,
          24.2,
          24.25,
          24.3,
          24.35,
          24.4,
          24.45,
          24.5,
          24.55,
          24.6,
          24.65,
          24.7,
          24.75,
          24.8,
          24.85,
          24.9,
          24.95,
          25,
          25.05,
          25.1,
          25.15,
          25.2,
          25.25,
          25.3,
          25.35,
          25.4,
          25.45,
          25.5,
          25.55,
          25.6,
          25.65,
          25.7,
          25.75,
          25.8,
          25.85,
          25.9,
          25.95,
          26,
          26.05,
          26.1,
          26.2,
          26.25,
          26.3,
          26.35,
          26.4,
          26.45,
          26.5,
          26.8,
          26.9,
          28.5,
          29.05,
          29.1,
          29.15,
          29.2,
          29.25,
          29.3,
          29.35,
          29.45,
          29.5,
          29.6,
          29.65,
          29.75,
          29.8,
          29.85,
          29.9,
          30.05,
          30.1,
          30.15,
          30.2,
          30.25,
          30.35,
          30.4,
          30.5,
          30.55,
          30.75,
          30.85,
          31.05,
          31.1,
          31.2,
          31.65,
          33.15,
          33.45,
          33.6,
          33.7,
          33.75,
          34,
          34.05,
          34.2,
          34.25,
          34.3,
          34.4,
          34.55,
          34.6,
          34.65,
          34.7,
          34.8,
          34.85,
          34.95,
          35,
          35.05,
          35.1,
          35.15,
          35.2,
          35.3,
          35.35,
          35.4,
          35.45,
          35.5,
          35.55,
          35.6,
          35.65,
          35.7,
          35.75,
          35.8,
          35.9,
          36,
          36.05,
          36.1,
          36.15,
          36.25,
          36.65,
          37.7,
          38.1,
          38.25,
          38.5,
          38.55,
          38.6,
          38.8,
          38.85,
          38.9,
          39,
          39.1,
          39.15,
          39.2,
          39.35,
          39.4,
          39.45,
          39.5,
          39.55,
          39.6,
          39.65,
          39.7,
          39.85,
          39.9,
          39.95,
          40.05,
          40.1,
          40.15,
          40.2,
          40.25,
          40.3,
          40.35,
          40.4,
          40.45,
          40.55,
          40.6,
          40.65,
          40.7,
          40.75,
          40.9,
          41.1,
          41.15,
          41.35,
          41.9,
          41.95,
          42.1,
          42.3,
          42.4,
          43.05,
          43.35,
          43.45,
          43.55,
          43.6,
          43.7,
          43.75,
          43.8,
          43.85,
          43.9,
          43.95,
          44,
          44.05,
          44.1,
          44.15,
          44.25,
          44.3,
          44.35,
          44.4,
          44.45,
          44.5,
          44.55,
          44.6,
          44.65,
          44.7,
          44.75,
          44.8,
          44.85,
          44.9,
          44.95,
          45,
          45.05,
          45.1,
          45.15,
          45.2,
          45.25,
          45.3,
          45.35,
          45.4,
          45.45,
          45.5,
          45.55,
          45.6,
          45.65,
          45.75,
          45.8,
          45.85,
          45.9,
          46,
          46.1,
          46.2,
          46.25,
          46.3,
          46.35,
          46.4,
          46.6,
          47.05,
          47.4,
          47.6,
          47.85,
          47.95,
          48.15,
          48.2,
          48.25,
          48.4,
          48.45,
          48.6,
          48.65,
          48.7,
          48.75,
          48.8,
          48.85,
          48.9,
          48.95,
          49,
          49.05,
          49.15,
          49.2,
          49.25,
          49.3,
          49.35,
          49.4,
          49.45,
          49.5,
          49.55,
          49.6,
          49.65,
          49.7,
          49.75,
          49.8,
          49.85,
          49.9,
          49.95,
          50,
          50.05,
          50.1,
          50.15,
          50.2,
          50.25,
          50.3,
          50.35,
          50.4,
          50.45,
          50.5,
          50.55,
          50.6,
          50.65,
          50.7,
          50.75,
          50.8,
          50.85,
          50.9,
          50.95,
          51,
          51.05,
          51.1,
          51.15,
          51.2,
          51.25,
          51.3,
          51.35,
          51.4,
          51.45,
          51.55,
          51.6,
          51.65,
          51.7,
          51.8,
          52,
          52.1,
          52.15,
          52.3,
          52.5,
          52.55,
          52.7,
          52.85,
          53,
          53.1,
          53.15,
          53.3,
          53.35,
          53.4,
          53.45,
          53.5,
          53.55,
          53.6,
          53.65,
          53.7,
          53.75,
          53.8,
          53.85,
          53.95,
          54,
          54.05,
          54.1,
          54.15,
          54.2,
          54.25,
          54.3,
          54.35,
          54.4,
          54.45,
          54.5,
          54.55,
          54.6,
          54.65,
          54.7,
          54.75,
          54.8,
          54.85,
          54.9,
          54.95,
          55,
          55.05,
          55.1,
          55.15,
          55.2,
          55.25,
          55.3,
          55.35,
          55.45,
          55.5,
          55.55,
          55.6,
          55.65,
          55.7,
          55.75,
          55.8,
          55.85,
          55.9,
          55.95,
          56,
          56.05,
          56.1,
          56.15,
          56.2,
          56.25,
          56.3,
          56.35,
          56.4,
          56.45,
          56.55,
          56.6,
          56.7,
          56.75,
          56.8,
          56.85,
          56.9,
          56.95,
          57.2,
          57.5,
          57.55,
          57.6,
          57.65,
          57.75,
          57.8,
          57.95,
          58,
          58.2,
          58.25,
          58.35,
          58.4,
          58.45,
          58.5,
          58.55,
          58.6,
          58.65,
          58.7,
          58.75,
          58.85,
          58.9,
          58.95,
          59,
          59.05,
          59.1,
          59.15,
          59.2,
          59.25,
          59.3,
          59.4,
          59.45,
          59.5,
          59.55,
          59.6,
          59.65,
          59.7,
          59.75,
          59.8,
          59.85,
          59.9,
          59.95,
          60,
          60.05,
          60.15,
          60.2,
          60.25,
          60.3,
          60.35,
          60.4,
          60.45,
          60.5,
          60.55,
          60.6,
          60.65,
          60.7,
          60.75,
          60.8,
          60.85,
          60.9,
          60.95,
          61,
          61.05,
          61.1,
          61.15,
          61.2,
          61.25,
          61.3,
          61.35,
          61.4,
          61.45,
          61.5,
          61.55,
          61.6,
          61.65,
          61.75,
          61.8,
          61.9,
          61.95,
          62.05,
          62.1,
          62.15,
          62.25,
          62.45,
          62.5,
          62.55,
          62.65,
          62.8,
          62.85,
          63.05,
          63.1,
          63.15,
          63.25,
          63.3,
          63.35,
          63.4,
          63.55,
          63.7,
          63.75,
          63.8,
          63.85,
          63.9,
          63.95,
          64,
          64.05,
          64.1,
          64.15,
          64.2,
          64.25,
          64.3,
          64.35,
          64.4,
          64.45,
          64.5,
          64.55,
          64.6,
          64.65,
          64.7,
          64.75,
          64.8,
          64.85,
          64.9,
          64.95,
          65,
          65.05,
          65.1,
          65.15,
          65.2,
          65.25,
          65.3,
          65.35,
          65.4,
          65.45,
          65.5,
          65.55,
          65.6,
          65.65,
          65.7,
          65.75,
          65.8,
          65.85,
          65.9,
          66,
          66.05,
          66.1,
          66.15,
          66.2,
          66.25,
          66.3,
          66.4,
          66.5,
          66.6,
          66.65,
          66.7,
          66.75,
          66.8,
          66.85,
          66.9,
          67.05,
          67.2,
          67.25,
          67.4,
          67.45,
          67.6,
          67.65,
          67.7,
          67.8,
          67.85,
          67.95,
          68.05,
          68.1,
          68.15,
          68.25,
          68.3,
          68.35,
          68.4,
          68.45,
          68.5,
          68.55,
          68.6,
          68.65,
          68.7,
          68.75,
          68.8,
          68.85,
          68.9,
          68.95,
          69,
          69.05,
          69.1,
          69.15,
          69.2,
          69.25,
          69.3,
          69.35,
          69.4,
          69.45,
          69.5,
          69.55,
          69.6,
          69.65,
          69.7,
          69.75,
          69.8,
          69.85,
          69.9,
          69.95,
          70,
          70.05,
          70.1,
          70.15,
          70.2,
          70.25,
          70.3,
          70.35,
          70.4,
          70.45,
          70.5,
          70.55,
          70.6,
          70.65,
          70.7,
          70.75,
          70.8,
          70.85,
          70.9,
          70.95,
          71,
          71.05,
          71.1,
          71.25,
          71.3,
          71.35,
          71.4,
          71.45,
          71.5,
          71.55,
          71.6,
          71.65,
          71.7,
          71.75,
          71.8,
          71.85,
          71.9,
          71.95,
          72,
          72.1,
          72.25,
          72.35,
          72.45,
          72.6,
          72.75,
          72.8,
          72.9,
          72.95,
          73,
          73.05,
          73.1,
          73.15,
          73.25,
          73.3,
          73.35,
          73.45,
          73.5,
          73.55,
          73.6,
          73.65,
          73.7,
          73.75,
          73.8,
          73.85,
          73.9,
          74,
          74.05,
          74.1,
          74.15,
          74.2,
          74.25,
          74.3,
          74.35,
          74.4,
          74.45,
          74.5,
          74.55,
          74.6,
          74.65,
          74.7,
          74.75,
          74.8,
          74.85,
          74.9,
          74.95,
          75,
          75.05,
          75.1,
          75.15,
          75.2,
          75.25,
          75.3,
          75.35,
          75.4,
          75.45,
          75.5,
          75.55,
          75.6,
          75.65,
          75.7,
          75.75,
          75.8,
          75.85,
          75.9,
          75.95,
          76,
          76.05,
          76.1,
          76.15,
          76.2,
          76.25,
          76.3,
          76.35,
          76.4,
          76.45,
          76.5,
          76.55,
          76.6,
          76.75,
          76.8,
          76.85,
          76.9,
          76.95,
          77.15,
          77.2,
          77.3,
          77.35,
          77.4,
          77.55,
          77.75,
          77.8,
          77.9,
          78,
          78.1,
          78.15,
          78.2,
          78.3,
          78.35,
          78.4,
          78.45,
          78.5,
          78.55,
          78.6,
          78.65,
          78.7,
          78.75,
          78.8,
          78.85,
          78.9,
          78.95,
          79,
          79.05,
          79.1,
          79.15,
          79.2,
          79.25,
          79.3,
          79.35,
          79.4,
          79.45,
          79.5,
          79.55,
          79.6,
          79.65,
          79.7,
          79.75,
          79.8,
          79.85,
          79.9,
          79.95,
          80,
          80.05,
          80.1,
          80.15,
          80.2,
          80.25,
          80.3,
          80.35,
          80.4,
          80.45,
          80.5,
          80.55,
          80.6,
          80.65,
          80.7,
          80.75,
          80.8,
          80.85,
          80.9,
          80.95,
          81,
          81.05,
          81.1,
          81.15,
          81.2,
          81.25,
          81.3,
          81.35,
          81.4,
          81.45,
          81.5,
          81.55,
          81.6,
          81.65,
          81.7,
          81.75,
          81.8,
          81.85,
          81.9,
          81.95,
          82,
          82.05,
          82.1,
          82.15,
          82.3,
          82.45,
          82.5,
          82.55,
          82.65,
          82.7,
          82.75,
          82.85,
          82.9,
          82.95,
          83,
          83.05,
          83.15,
          83.2,
          83.25,
          83.3,
          83.4,
          83.45,
          83.5,
          83.55,
          83.6,
          83.65,
          83.7,
          83.75,
          83.8,
          83.85,
          84,
          84.05,
          84.1,
          84.15,
          84.2,
          84.25,
          84.3,
          84.35,
          84.4,
          84.45,
          84.5,
          84.55,
          84.6,
          84.65,
          84.7,
          84.75,
          84.8,
          84.85,
          84.9,
          84.95,
          85,
          85.05,
          85.1,
          85.15,
          85.2,
          85.25,
          85.3,
          85.35,
          85.4,
          85.45,
          85.5,
          85.55,
          85.6,
          85.65,
          85.7,
          85.75,
          85.8,
          85.85,
          85.9,
          85.95,
          86,
          86.05,
          86.1,
          86.15,
          86.2,
          86.25,
          86.35,
          86.4,
          86.45,
          86.5,
          86.55,
          86.6,
          86.65,
          86.7,
          86.75,
          86.8,
          86.85,
          86.9,
          86.95,
          87,
          87.1,
          87.15,
          87.2,
          87.25,
          87.3,
          87.35,
          87.55,
          87.6,
          87.65,
          87.7,
          87.75,
          87.8,
          87.9,
          87.95,
          88,
          88.05,
          88.1,
          88.15,
          88.2,
          88.4,
          88.45,
          88.5,
          88.55,
          88.6,
          88.65,
          88.7,
          88.75,
          88.8,
          88.85,
          88.9,
          88.95,
          89,
          89.05,
          89.1,
          89.15,
          89.2,
          89.25,
          89.3,
          89.35,
          89.4,
          89.45,
          89.55,
          89.6,
          89.65,
          89.7,
          89.75,
          89.8,
          89.85,
          89.9,
          89.95,
          90,
          90.05,
          90.1,
          90.15,
          90.2,
          90.25,
          90.3,
          90.35,
          90.4,
          90.45,
          90.5,
          90.55,
          90.6,
          90.65,
          90.7,
          90.75,
          90.8,
          90.85,
          90.95,
          91,
          91.05,
          91.1,
          91.15,
          91.2,
          91.25,
          91.3,
          91.35,
          91.45,
          91.5,
          91.55,
          91.6,
          91.65,
          91.7,
          91.8,
          91.95,
          92,
          92.05,
          92.15,
          92.2,
          92.3,
          92.4,
          92.45,
          92.55,
          92.6,
          92.65,
          92.7,
          92.85,
          92.9,
          92.95,
          93,
          93.05,
          93.15,
          93.2,
          93.25,
          93.3,
          93.35,
          93.4,
          93.45,
          93.5,
          93.55,
          93.6,
          93.65,
          93.7,
          93.75,
          93.8,
          93.85,
          93.9,
          93.95,
          94,
          94.05,
          94.1,
          94.15,
          94.2,
          94.25,
          94.3,
          94.35,
          94.4,
          94.45,
          94.5,
          94.55,
          94.6,
          94.65,
          94.7,
          94.75,
          94.8,
          94.85,
          94.9,
          94.95,
          95,
          95.05,
          95.1,
          95.15,
          95.2,
          95.25,
          95.3,
          95.35,
          95.4,
          95.45,
          95.5,
          95.55,
          95.6,
          95.65,
          95.7,
          95.75,
          95.8,
          95.85,
          95.9,
          95.95,
          96,
          96.1,
          96.2,
          96.35,
          96.4,
          96.5,
          96.55,
          96.6,
          96.65,
          96.75,
          96.8,
          96.85,
          96.9,
          96.95,
          97,
          97.05,
          97.1,
          97.2,
          97.25,
          97.45,
          97.55,
          97.65,
          97.7,
          97.75,
          97.8,
          97.85,
          97.95,
          98,
          98.05,
          98.1,
          98.15,
          98.2,
          98.25,
          98.3,
          98.35,
          98.45,
          98.55,
          98.6,
          98.65,
          98.7,
          98.8,
          98.85,
          98.9,
          99,
          99.05,
          99.1,
          99.15,
          99.2,
          99.25,
          99.3,
          99.35,
          99.4,
          99.45,
          99.5,
          99.55,
          99.65,
          99.7,
          99.75,
          99.8,
          99.85,
          99.9,
          99.95,
          100,
          100.05,
          100.1,
          100.15,
          100.2,
          100.25,
          100.3,
          100.35,
          100.4,
          100.45,
          100.5,
          100.55,
          100.6,
          100.65,
          100.7,
          100.75,
          100.8,
          100.85,
          100.9,
          101,
          101.05,
          101.1,
          101.15,
          101.25,
          101.3,
          101.35,
          101.4,
          101.45,
          101.5,
          101.55,
          101.6,
          101.75,
          101.8,
          101.9,
          102.05,
          102.1,
          102.15,
          102.4,
          102.45,
          102.5,
          102.55,
          102.6,
          102.65,
          102.7,
          102.85,
          102.9,
          103,
          103.05,
          103.1,
          103.15,
          103.2,
          103.25,
          103.3,
          103.4,
          103.45,
          103.5,
          103.6,
          103.65,
          103.7,
          103.75,
          103.8,
          103.85,
          103.9,
          103.95,
          104,
          104.05,
          104.1,
          104.15,
          104.25,
          104.3,
          104.35,
          104.4,
          104.45,
          104.5,
          104.55,
          104.6,
          104.65,
          104.7,
          104.75,
          104.8,
          104.85,
          104.9,
          104.95,
          105,
          105.05,
          105.1,
          105.15,
          105.2,
          105.25,
          105.3,
          105.35,
          105.4,
          105.45,
          105.5,
          105.55,
          105.6,
          105.65,
          105.7,
          105.75,
          105.8,
          105.85,
          105.9,
          105.95,
          106,
          106.05,
          106.1,
          106.15,
          106.2,
          106.3,
          106.35,
          106.4,
          106.45,
          106.5,
          106.6,
          106.65,
          106.7,
          106.75,
          106.8,
          106.85,
          106.9,
          107,
          107.05,
          107.15,
          107.2,
          107.25,
          107.35,
          107.4,
          107.45,
          107.5,
          107.55,
          107.6,
          107.65,
          107.7,
          107.75,
          107.9,
          107.95,
          108,
          108.05,
          108.1,
          108.15,
          108.2,
          108.25,
          108.3,
          108.35,
          108.4,
          108.45,
          108.5,
          108.55,
          108.65,
          108.75,
          108.8,
          108.9,
          108.95,
          109,
          109.05,
          109.1,
          109.15,
          109.2,
          109.25,
          109.3,
          109.4,
          109.45,
          109.5,
          109.55,
          109.6,
          109.65,
          109.7,
          109.75,
          109.8,
          109.85,
          109.9,
          109.95,
          110,
          110.05,
          110.1,
          110.15,
          110.2,
          110.25,
          110.3,
          110.35,
          110.45,
          110.5,
          110.55,
          110.6,
          110.65,
          110.7,
          110.75,
          110.8,
          110.85,
          110.9,
          111.05,
          111.1,
          111.15,
          111.2,
          111.25,
          111.3,
          111.35,
          111.4,
          111.45,
          111.5,
          111.55,
          111.6,
          111.65,
          111.75,
          111.8,
          111.9,
          111.95,
          112.1,
          112.2,
          112.25,
          112.35,
          112.4,
          112.55,
          112.6,
          112.75,
          112.9,
          112.95,
          113,
          113.05,
          113.1,
          113.15,
          113.2,
          113.25,
          113.3,
          113.35,
          113.4,
          113.45,
          113.6,
          113.65,
          113.75,
          113.8,
          113.95,
          114,
          114.05,
          114.1,
          114.3,
          114.35,
          114.45,
          114.5,
          114.55,
          114.6,
          114.65,
          114.7,
          114.75,
          114.85,
          114.9,
          114.95,
          115,
          115.05,
          115.1,
          115.15,
          115.25,
          115.5,
          115.55,
          115.6,
          115.65,
          115.75,
          115.8,
          115.85,
          116,
          116.05,
          116.1,
          116.15,
          116.25,
          116.3,
          116.4,
          116.45,
          116.5,
          116.55,
          116.6,
          116.75,
          116.8,
          116.85,
          116.95,
          117.15,
          117.2,
          117.35,
          117.5,
          117.6,
          118.2,
          118.6,
          118.65,
          118.75
         ],
         "xaxis": "x2",
         "yaxis": "y2"
        },
        {
         "alignmentgroup": "True",
         "bingroup": "x",
         "histfunc": "sum",
         "hovertemplate": "Churn=Yes<br>MonthlyCharges=%{x}<br>sum of Count=%{y}<extra></extra>",
         "legendgroup": "Yes",
         "marker": {
          "color": "red",
          "pattern": {
           "shape": ""
          }
         },
         "name": "Yes",
         "offsetgroup": "Yes",
         "orientation": "v",
         "showlegend": true,
         "type": "histogram",
         "x": [
          18.85,
          18.95,
          19,
          19.1,
          19.25,
          19.3,
          19.35,
          19.4,
          19.45,
          19.5,
          19.55,
          19.6,
          19.65,
          19.7,
          19.75,
          19.8,
          19.85,
          19.9,
          19.95,
          20,
          20.05,
          20.1,
          20.15,
          20.2,
          20.25,
          20.3,
          20.35,
          20.4,
          20.5,
          20.55,
          20.6,
          20.65,
          20.8,
          20.85,
          20.9,
          20.95,
          21,
          21.05,
          23.15,
          23.45,
          23.9,
          24.05,
          24.1,
          24.25,
          24.35,
          24.4,
          24.45,
          24.5,
          24.6,
          24.75,
          24.8,
          24.9,
          24.95,
          25.05,
          25.1,
          25.15,
          25.2,
          25.25,
          25.3,
          25.4,
          25.5,
          25.7,
          25.8,
          25.9,
          28.45,
          28.6,
          29.2,
          29.4,
          29.5,
          29.6,
          29.65,
          29.7,
          29.85,
          29.95,
          30.1,
          30.2,
          30.3,
          30.35,
          30.4,
          30.45,
          30.5,
          30.6,
          30.75,
          30.9,
          31,
          31.05,
          31.35,
          33.5,
          33.55,
          33.65,
          33.9,
          34,
          34.25,
          34.5,
          34.7,
          35,
          35.05,
          35.1,
          35.15,
          35.2,
          35.25,
          35.4,
          35.45,
          35.55,
          35.75,
          35.9,
          36.45,
          36.5,
          36.85,
          39,
          39.05,
          39.1,
          39.3,
          39.5,
          39.65,
          40,
          40.05,
          40.1,
          40.15,
          40.2,
          40.3,
          40.4,
          40.65,
          41.05,
          41.15,
          41.6,
          41.9,
          42.35,
          42.6,
          42.9,
          43.25,
          43.3,
          43.65,
          43.75,
          43.95,
          44.05,
          44.1,
          44.15,
          44.2,
          44.3,
          44.35,
          44.4,
          44.45,
          44.55,
          44.6,
          44.65,
          44.7,
          44.75,
          44.85,
          44.9,
          44.95,
          45,
          45.05,
          45.1,
          45.15,
          45.25,
          45.3,
          45.35,
          45.4,
          45.55,
          45.6,
          45.65,
          45.7,
          45.75,
          45.8,
          45.85,
          45.95,
          46,
          46.05,
          46.2,
          46.3,
          46.35,
          47.15,
          47.8,
          47.85,
          47.95,
          48.35,
          48.55,
          48.6,
          48.7,
          48.75,
          48.8,
          48.95,
          49.05,
          49.1,
          49.15,
          49.2,
          49.25,
          49.35,
          49.4,
          49.55,
          49.6,
          49.65,
          49.75,
          49.85,
          49.9,
          49.95,
          50.05,
          50.1,
          50.15,
          50.25,
          50.35,
          50.4,
          50.45,
          50.5,
          50.55,
          50.6,
          50.65,
          50.7,
          50.75,
          50.8,
          50.85,
          50.9,
          51,
          51.05,
          51.2,
          51.25,
          51.5,
          51.55,
          51.75,
          51.8,
          52.2,
          53.4,
          53.5,
          53.55,
          53.65,
          53.75,
          53.85,
          53.9,
          53.95,
          54.15,
          54.2,
          54.3,
          54.35,
          54.4,
          54.45,
          54.55,
          54.7,
          54.75,
          54.85,
          54.9,
          55,
          55.05,
          55.1,
          55.15,
          55.2,
          55.25,
          55.3,
          55.35,
          55.4,
          55.55,
          55.65,
          55.7,
          55.8,
          55.85,
          55.9,
          55.95,
          56.15,
          56.25,
          56.5,
          56.65,
          56.7,
          57.15,
          57.45,
          57.55,
          58.5,
          58.6,
          59,
          59.2,
          59.3,
          59.4,
          59.45,
          59.5,
          59.75,
          59.8,
          59.85,
          59.9,
          60,
          60.05,
          60.1,
          60.15,
          60.3,
          60.35,
          60.4,
          60.45,
          61.15,
          61.45,
          61.6,
          61.65,
          62.05,
          62.3,
          62.65,
          62.7,
          63.6,
          64.4,
          64.65,
          64.7,
          64.75,
          65,
          65.2,
          65.25,
          65.3,
          65.4,
          65.45,
          65.7,
          66.25,
          66.35,
          66.4,
          66.5,
          67.5,
          67.75,
          67.95,
          68.25,
          68.5,
          68.65,
          68.85,
          68.95,
          69,
          69.05,
          69.1,
          69.15,
          69.2,
          69.25,
          69.35,
          69.4,
          69.5,
          69.55,
          69.6,
          69.65,
          69.7,
          69.75,
          69.8,
          69.85,
          69.9,
          69.95,
          70,
          70.05,
          70.1,
          70.15,
          70.2,
          70.25,
          70.3,
          70.35,
          70.4,
          70.45,
          70.5,
          70.55,
          70.6,
          70.65,
          70.7,
          70.75,
          70.8,
          70.85,
          70.9,
          70.95,
          71,
          71.05,
          71.1,
          71.15,
          71.3,
          71.35,
          71.55,
          71.65,
          71.8,
          72.15,
          72.2,
          72.25,
          72.45,
          72.65,
          72.85,
          72.9,
          73,
          73.2,
          73.25,
          73.5,
          73.55,
          73.6,
          73.65,
          73.75,
          73.85,
          73.9,
          73.95,
          74.05,
          74.1,
          74.15,
          74.2,
          74.25,
          74.3,
          74.35,
          74.4,
          74.45,
          74.5,
          74.55,
          74.6,
          74.65,
          74.7,
          74.75,
          74.8,
          74.85,
          74.9,
          74.95,
          75,
          75.05,
          75.1,
          75.15,
          75.2,
          75.25,
          75.3,
          75.35,
          75.4,
          75.45,
          75.5,
          75.55,
          75.6,
          75.65,
          75.7,
          75.75,
          75.8,
          75.85,
          75.9,
          76,
          76.05,
          76.1,
          76.2,
          76.25,
          76.35,
          76.4,
          76.45,
          76.5,
          76.65,
          76.95,
          77,
          77.15,
          77.5,
          77.65,
          77.75,
          77.85,
          77.95,
          78.05,
          78.1,
          78.25,
          78.3,
          78.45,
          78.5,
          78.55,
          78.6,
          78.65,
          78.75,
          78.8,
          78.85,
          78.9,
          78.95,
          79,
          79.05,
          79.1,
          79.15,
          79.2,
          79.25,
          79.3,
          79.35,
          79.4,
          79.45,
          79.5,
          79.55,
          79.6,
          79.65,
          79.7,
          79.75,
          79.8,
          79.85,
          79.9,
          79.95,
          80,
          80.05,
          80.1,
          80.15,
          80.2,
          80.25,
          80.3,
          80.35,
          80.4,
          80.45,
          80.5,
          80.55,
          80.6,
          80.65,
          80.7,
          80.75,
          80.8,
          80.85,
          80.95,
          81,
          81.05,
          81.1,
          81.15,
          81.25,
          81.3,
          81.35,
          81.45,
          81.5,
          81.7,
          81.95,
          82,
          82.05,
          82.3,
          82.35,
          82.4,
          82.45,
          82.85,
          83,
          83.05,
          83.15,
          83.2,
          83.3,
          83.35,
          83.55,
          83.6,
          83.65,
          83.75,
          83.8,
          83.85,
          83.9,
          83.95,
          84,
          84.05,
          84.1,
          84.15,
          84.2,
          84.25,
          84.3,
          84.35,
          84.4,
          84.45,
          84.5,
          84.55,
          84.6,
          84.65,
          84.7,
          84.75,
          84.8,
          84.85,
          84.9,
          84.95,
          85,
          85.05,
          85.1,
          85.15,
          85.2,
          85.25,
          85.3,
          85.35,
          85.4,
          85.45,
          85.5,
          85.55,
          85.6,
          85.65,
          85.7,
          85.75,
          85.8,
          85.85,
          85.9,
          85.95,
          86,
          86.05,
          86.1,
          86.15,
          86.2,
          86.25,
          86.3,
          86.45,
          86.5,
          86.55,
          86.6,
          86.65,
          86.8,
          86.85,
          87.05,
          87.1,
          87.15,
          87.25,
          87.4,
          87.45,
          87.55,
          88.05,
          88.15,
          88.2,
          88.25,
          88.3,
          88.35,
          88.4,
          88.45,
          88.55,
          88.7,
          88.8,
          88.85,
          88.9,
          88.95,
          89,
          89.05,
          89.1,
          89.15,
          89.2,
          89.25,
          89.3,
          89.35,
          89.4,
          89.45,
          89.5,
          89.55,
          89.6,
          89.65,
          89.7,
          89.75,
          89.8,
          89.85,
          89.9,
          89.95,
          90,
          90.05,
          90.1,
          90.15,
          90.2,
          90.25,
          90.35,
          90.4,
          90.45,
          90.5,
          90.55,
          90.6,
          90.7,
          90.75,
          90.8,
          90.85,
          90.9,
          90.95,
          91,
          91.05,
          91.1,
          91.15,
          91.25,
          91.3,
          91.4,
          91.5,
          91.65,
          91.7,
          91.75,
          91.85,
          92.1,
          92.35,
          92.45,
          92.5,
          92.55,
          93.15,
          93.2,
          93.3,
          93.35,
          93.4,
          93.5,
          93.55,
          93.7,
          93.8,
          93.85,
          93.9,
          94,
          94.05,
          94.1,
          94.2,
          94.25,
          94.3,
          94.35,
          94.4,
          94.45,
          94.5,
          94.55,
          94.6,
          94.65,
          94.7,
          94.75,
          94.8,
          94.85,
          94.9,
          94.95,
          95,
          95.05,
          95.1,
          95.15,
          95.2,
          95.25,
          95.35,
          95.45,
          95.5,
          95.55,
          95.6,
          95.65,
          95.7,
          95.75,
          95.8,
          95.85,
          95.9,
          96,
          96.05,
          96.1,
          96.15,
          96.2,
          96.25,
          96.3,
          96.4,
          96.5,
          96.55,
          96.6,
          96.65,
          96.7,
          96.75,
          96.8,
          97.1,
          97.35,
          97.65,
          97.8,
          97.85,
          97.9,
          97.95,
          98,
          98.05,
          98.1,
          98.15,
          98.25,
          98.3,
          98.35,
          98.4,
          98.5,
          98.55,
          98.6,
          98.65,
          98.7,
          98.75,
          98.8,
          98.9,
          99,
          99.05,
          99.1,
          99.15,
          99.2,
          99.25,
          99.3,
          99.35,
          99.4,
          99.45,
          99.5,
          99.55,
          99.6,
          99.65,
          99.7,
          99.75,
          99.8,
          99.85,
          99.9,
          99.95,
          100,
          100.05,
          100.1,
          100.15,
          100.2,
          100.25,
          100.3,
          100.35,
          100.45,
          100.5,
          100.55,
          100.6,
          100.65,
          100.7,
          100.75,
          100.8,
          100.85,
          100.95,
          101,
          101.05,
          101.1,
          101.15,
          101.25,
          101.3,
          101.35,
          101.4,
          101.45,
          101.5,
          101.55,
          101.7,
          101.75,
          101.85,
          101.9,
          101.95,
          102,
          102.1,
          102.25,
          102.35,
          102.45,
          102.6,
          102.8,
          102.95,
          103,
          103.25,
          103.3,
          103.35,
          103.4,
          103.45,
          103.7,
          103.75,
          103.85,
          103.9,
          103.95,
          104,
          104.05,
          104.1,
          104.15,
          104.2,
          104.25,
          104.3,
          104.4,
          104.5,
          104.55,
          104.6,
          104.65,
          104.7,
          104.75,
          104.8,
          104.85,
          104.9,
          104.95,
          105,
          105.05,
          105.1,
          105.2,
          105.25,
          105.3,
          105.35,
          105.4,
          105.5,
          105.55,
          105.65,
          105.7,
          105.75,
          105.85,
          105.9,
          105.95,
          106,
          106.05,
          106.1,
          106.15,
          106.25,
          106.3,
          106.35,
          106.4,
          106.45,
          106.5,
          106.55,
          106.6,
          106.7,
          106.75,
          106.9,
          106.95,
          107.35,
          107.4,
          107.5,
          107.55,
          107.95,
          108.05,
          108.15,
          108.4,
          108.45,
          108.55,
          108.6,
          108.65,
          108.75,
          108.85,
          109.15,
          109.25,
          109.45,
          109.5,
          109.55,
          109.65,
          109.75,
          109.8,
          109.9,
          110,
          110.1,
          110.15,
          110.35,
          110.45,
          110.75,
          110.85,
          110.9,
          111.1,
          111.2,
          111.25,
          111.3,
          111.6,
          111.95,
          112.95,
          113.15,
          113.2,
          113.6,
          114.2,
          114.5,
          115.55,
          115.65,
          116.2,
          117.45,
          117.8,
          118.35
         ],
         "xaxis": "x",
         "y": [
          1,
          1,
          1,
          1,
          3,
          3,
          2,
          4,
          3,
          3,
          2,
          4,
          4,
          2,
          6,
          3,
          5,
          4,
          3,
          3,
          3,
          4,
          6,
          6,
          4,
          1,
          3,
          2,
          3,
          3,
          1,
          1,
          1,
          1,
          2,
          2,
          1,
          1,
          1,
          1,
          1,
          1,
          2,
          2,
          1,
          1,
          4,
          1,
          1,
          3,
          3,
          1,
          1,
          3,
          3,
          2,
          3,
          2,
          3,
          1,
          1,
          1,
          1,
          1,
          1,
          1,
          1,
          1,
          1,
          1,
          2,
          3,
          1,
          2,
          1,
          1,
          1,
          1,
          1,
          1,
          2,
          1,
          1,
          1,
          1,
          1,
          1,
          1,
          1,
          1,
          1,
          1,
          1,
          1,
          5,
          1,
          1,
          2,
          1,
          1,
          1,
          1,
          2,
          1,
          1,
          1,
          2,
          1,
          1,
          1,
          1,
          1,
          2,
          1,
          2,
          1,
          1,
          2,
          1,
          2,
          1,
          1,
          2,
          1,
          1,
          1,
          1,
          1,
          1,
          1,
          1,
          2,
          1,
          1,
          1,
          1,
          1,
          2,
          1,
          1,
          2,
          3,
          1,
          2,
          3,
          2,
          2,
          1,
          3,
          1,
          2,
          2,
          3,
          3,
          4,
          2,
          8,
          2,
          3,
          2,
          1,
          3,
          4,
          1,
          1,
          3,
          2,
          5,
          1,
          1,
          1,
          1,
          1,
          1,
          1,
          1,
          2,
          3,
          1,
          1,
          2,
          1,
          2,
          2,
          1,
          3,
          1,
          3,
          2,
          3,
          3,
          1,
          2,
          1,
          1,
          2,
          2,
          1,
          1,
          4,
          2,
          2,
          2,
          3,
          1,
          2,
          3,
          2,
          1,
          3,
          4,
          1,
          2,
          2,
          1,
          1,
          1,
          1,
          1,
          1,
          1,
          1,
          1,
          1,
          1,
          1,
          1,
          2,
          1,
          2,
          2,
          3,
          1,
          2,
          1,
          3,
          2,
          1,
          2,
          1,
          1,
          6,
          1,
          2,
          3,
          2,
          2,
          2,
          2,
          1,
          1,
          1,
          2,
          2,
          1,
          2,
          2,
          2,
          2,
          1,
          1,
          1,
          1,
          1,
          1,
          1,
          2,
          1,
          1,
          1,
          1,
          1,
          1,
          1,
          1,
          1,
          1,
          1,
          3,
          1,
          1,
          1,
          1,
          1,
          1,
          1,
          1,
          1,
          1,
          2,
          1,
          1,
          1,
          1,
          1,
          1,
          2,
          1,
          1,
          1,
          1,
          1,
          1,
          1,
          1,
          1,
          1,
          1,
          1,
          1,
          1,
          1,
          1,
          1,
          2,
          1,
          2,
          3,
          1,
          4,
          1,
          2,
          4,
          4,
          2,
          3,
          4,
          5,
          6,
          3,
          5,
          3,
          2,
          3,
          5,
          7,
          3,
          6,
          7,
          3,
          3,
          7,
          1,
          5,
          4,
          1,
          2,
          2,
          2,
          3,
          5,
          1,
          2,
          2,
          2,
          4,
          1,
          1,
          2,
          1,
          2,
          1,
          2,
          1,
          1,
          1,
          1,
          1,
          1,
          1,
          1,
          2,
          1,
          1,
          2,
          2,
          2,
          2,
          3,
          5,
          4,
          1,
          2,
          1,
          2,
          2,
          3,
          5,
          5,
          13,
          3,
          4,
          2,
          2,
          4,
          4,
          3,
          2,
          1,
          9,
          8,
          3,
          2,
          3,
          2,
          4,
          2,
          6,
          5,
          1,
          3,
          3,
          3,
          1,
          1,
          2,
          3,
          4,
          1,
          3,
          2,
          2,
          1,
          1,
          1,
          1,
          3,
          3,
          3,
          2,
          1,
          1,
          1,
          2,
          1,
          1,
          2,
          2,
          2,
          1,
          1,
          2,
          3,
          1,
          2,
          1,
          1,
          1,
          1,
          2,
          2,
          5,
          3,
          2,
          2,
          4,
          4,
          4,
          1,
          4,
          4,
          2,
          4,
          4,
          4,
          5,
          4,
          3,
          1,
          4,
          6,
          2,
          4,
          2,
          2,
          3,
          4,
          4,
          5,
          3,
          2,
          5,
          5,
          3,
          4,
          3,
          1,
          1,
          3,
          6,
          1,
          6,
          1,
          2,
          1,
          1,
          1,
          1,
          1,
          1,
          2,
          1,
          3,
          1,
          1,
          1,
          1,
          1,
          1,
          1,
          1,
          1,
          1,
          2,
          2,
          2,
          1,
          1,
          3,
          2,
          2,
          3,
          1,
          1,
          3,
          2,
          1,
          2,
          1,
          4,
          2,
          3,
          4,
          5,
          1,
          4,
          2,
          1,
          3,
          6,
          4,
          2,
          3,
          5,
          2,
          1,
          4,
          5,
          4,
          5,
          7,
          2,
          6,
          1,
          4,
          2,
          3,
          3,
          1,
          3,
          1,
          1,
          3,
          3,
          2,
          1,
          1,
          2,
          2,
          2,
          2,
          2,
          2,
          2,
          1,
          1,
          2,
          1,
          1,
          1,
          2,
          1,
          1,
          1,
          1,
          1,
          1,
          1,
          2,
          4,
          1,
          2,
          1,
          1,
          2,
          1,
          1,
          2,
          1,
          3,
          2,
          4,
          2,
          1,
          3,
          2,
          4,
          3,
          6,
          4,
          2,
          2,
          2,
          3,
          4,
          2,
          2,
          3,
          3,
          3,
          3,
          1,
          2,
          1,
          1,
          2,
          2,
          2,
          3,
          5,
          1,
          1,
          4,
          4,
          1,
          1,
          1,
          2,
          2,
          1,
          1,
          2,
          2,
          1,
          2,
          2,
          1,
          3,
          1,
          1,
          1,
          3,
          1,
          1,
          2,
          1,
          1,
          1,
          1,
          3,
          2,
          3,
          7,
          3,
          4,
          1,
          4,
          5,
          5,
          1,
          1,
          7,
          5,
          3,
          3,
          2,
          4,
          5,
          2,
          1,
          4,
          1,
          1,
          4,
          3,
          3,
          4,
          2,
          5,
          2,
          4,
          3,
          2,
          4,
          4,
          1,
          2,
          1,
          1,
          3,
          3,
          3,
          2,
          2,
          3,
          2,
          1,
          1,
          2,
          2,
          1,
          2,
          1,
          2,
          2,
          1,
          2,
          1,
          1,
          1,
          1,
          1,
          1,
          1,
          2,
          2,
          2,
          2,
          1,
          2,
          4,
          2,
          2,
          1,
          3,
          3,
          2,
          2,
          2,
          3,
          1,
          3,
          2,
          3,
          1,
          1,
          1,
          4,
          6,
          3,
          1,
          1,
          2,
          2,
          4,
          3,
          1,
          4,
          4,
          5,
          1,
          3,
          4,
          4,
          2,
          1,
          2,
          3,
          3,
          4,
          1,
          1,
          2,
          2,
          2,
          2,
          2,
          1,
          3,
          2,
          3,
          2,
          4,
          2,
          1,
          1,
          1,
          1,
          1,
          1,
          2,
          1,
          2,
          2,
          1,
          1,
          2,
          1,
          2,
          3,
          1,
          2,
          2,
          1,
          2,
          2,
          3,
          2,
          2,
          1,
          2,
          1,
          4,
          2,
          2,
          3,
          1,
          2,
          6,
          2,
          1,
          1,
          2,
          3,
          2,
          2,
          1,
          1,
          1,
          4,
          1,
          2,
          2,
          1,
          2,
          1,
          1,
          3,
          1,
          3,
          1,
          1,
          1,
          2,
          4,
          3,
          1,
          4,
          2,
          1,
          1,
          2,
          2,
          1,
          1,
          1,
          2,
          1,
          2,
          1,
          1,
          1,
          1,
          1,
          1,
          1,
          1,
          2,
          1,
          1,
          1,
          1,
          1,
          1,
          1,
          1,
          1,
          1,
          2,
          2,
          1,
          1,
          1,
          1,
          2,
          1,
          1,
          1,
          1,
          1,
          2,
          1,
          1,
          1,
          1,
          1,
          1,
          2,
          2,
          1,
          1,
          1,
          1,
          1,
          1,
          1,
          1,
          1,
          1,
          1
         ],
         "yaxis": "y"
        },
        {
         "alignmentgroup": "True",
         "hovertemplate": "Churn=Yes<br>MonthlyCharges=%{x}<extra></extra>",
         "legendgroup": "Yes",
         "marker": {
          "color": "red"
         },
         "name": "Yes",
         "notched": true,
         "offsetgroup": "Yes",
         "showlegend": false,
         "type": "box",
         "x": [
          18.85,
          18.95,
          19,
          19.1,
          19.25,
          19.3,
          19.35,
          19.4,
          19.45,
          19.5,
          19.55,
          19.6,
          19.65,
          19.7,
          19.75,
          19.8,
          19.85,
          19.9,
          19.95,
          20,
          20.05,
          20.1,
          20.15,
          20.2,
          20.25,
          20.3,
          20.35,
          20.4,
          20.5,
          20.55,
          20.6,
          20.65,
          20.8,
          20.85,
          20.9,
          20.95,
          21,
          21.05,
          23.15,
          23.45,
          23.9,
          24.05,
          24.1,
          24.25,
          24.35,
          24.4,
          24.45,
          24.5,
          24.6,
          24.75,
          24.8,
          24.9,
          24.95,
          25.05,
          25.1,
          25.15,
          25.2,
          25.25,
          25.3,
          25.4,
          25.5,
          25.7,
          25.8,
          25.9,
          28.45,
          28.6,
          29.2,
          29.4,
          29.5,
          29.6,
          29.65,
          29.7,
          29.85,
          29.95,
          30.1,
          30.2,
          30.3,
          30.35,
          30.4,
          30.45,
          30.5,
          30.6,
          30.75,
          30.9,
          31,
          31.05,
          31.35,
          33.5,
          33.55,
          33.65,
          33.9,
          34,
          34.25,
          34.5,
          34.7,
          35,
          35.05,
          35.1,
          35.15,
          35.2,
          35.25,
          35.4,
          35.45,
          35.55,
          35.75,
          35.9,
          36.45,
          36.5,
          36.85,
          39,
          39.05,
          39.1,
          39.3,
          39.5,
          39.65,
          40,
          40.05,
          40.1,
          40.15,
          40.2,
          40.3,
          40.4,
          40.65,
          41.05,
          41.15,
          41.6,
          41.9,
          42.35,
          42.6,
          42.9,
          43.25,
          43.3,
          43.65,
          43.75,
          43.95,
          44.05,
          44.1,
          44.15,
          44.2,
          44.3,
          44.35,
          44.4,
          44.45,
          44.55,
          44.6,
          44.65,
          44.7,
          44.75,
          44.85,
          44.9,
          44.95,
          45,
          45.05,
          45.1,
          45.15,
          45.25,
          45.3,
          45.35,
          45.4,
          45.55,
          45.6,
          45.65,
          45.7,
          45.75,
          45.8,
          45.85,
          45.95,
          46,
          46.05,
          46.2,
          46.3,
          46.35,
          47.15,
          47.8,
          47.85,
          47.95,
          48.35,
          48.55,
          48.6,
          48.7,
          48.75,
          48.8,
          48.95,
          49.05,
          49.1,
          49.15,
          49.2,
          49.25,
          49.35,
          49.4,
          49.55,
          49.6,
          49.65,
          49.75,
          49.85,
          49.9,
          49.95,
          50.05,
          50.1,
          50.15,
          50.25,
          50.35,
          50.4,
          50.45,
          50.5,
          50.55,
          50.6,
          50.65,
          50.7,
          50.75,
          50.8,
          50.85,
          50.9,
          51,
          51.05,
          51.2,
          51.25,
          51.5,
          51.55,
          51.75,
          51.8,
          52.2,
          53.4,
          53.5,
          53.55,
          53.65,
          53.75,
          53.85,
          53.9,
          53.95,
          54.15,
          54.2,
          54.3,
          54.35,
          54.4,
          54.45,
          54.55,
          54.7,
          54.75,
          54.85,
          54.9,
          55,
          55.05,
          55.1,
          55.15,
          55.2,
          55.25,
          55.3,
          55.35,
          55.4,
          55.55,
          55.65,
          55.7,
          55.8,
          55.85,
          55.9,
          55.95,
          56.15,
          56.25,
          56.5,
          56.65,
          56.7,
          57.15,
          57.45,
          57.55,
          58.5,
          58.6,
          59,
          59.2,
          59.3,
          59.4,
          59.45,
          59.5,
          59.75,
          59.8,
          59.85,
          59.9,
          60,
          60.05,
          60.1,
          60.15,
          60.3,
          60.35,
          60.4,
          60.45,
          61.15,
          61.45,
          61.6,
          61.65,
          62.05,
          62.3,
          62.65,
          62.7,
          63.6,
          64.4,
          64.65,
          64.7,
          64.75,
          65,
          65.2,
          65.25,
          65.3,
          65.4,
          65.45,
          65.7,
          66.25,
          66.35,
          66.4,
          66.5,
          67.5,
          67.75,
          67.95,
          68.25,
          68.5,
          68.65,
          68.85,
          68.95,
          69,
          69.05,
          69.1,
          69.15,
          69.2,
          69.25,
          69.35,
          69.4,
          69.5,
          69.55,
          69.6,
          69.65,
          69.7,
          69.75,
          69.8,
          69.85,
          69.9,
          69.95,
          70,
          70.05,
          70.1,
          70.15,
          70.2,
          70.25,
          70.3,
          70.35,
          70.4,
          70.45,
          70.5,
          70.55,
          70.6,
          70.65,
          70.7,
          70.75,
          70.8,
          70.85,
          70.9,
          70.95,
          71,
          71.05,
          71.1,
          71.15,
          71.3,
          71.35,
          71.55,
          71.65,
          71.8,
          72.15,
          72.2,
          72.25,
          72.45,
          72.65,
          72.85,
          72.9,
          73,
          73.2,
          73.25,
          73.5,
          73.55,
          73.6,
          73.65,
          73.75,
          73.85,
          73.9,
          73.95,
          74.05,
          74.1,
          74.15,
          74.2,
          74.25,
          74.3,
          74.35,
          74.4,
          74.45,
          74.5,
          74.55,
          74.6,
          74.65,
          74.7,
          74.75,
          74.8,
          74.85,
          74.9,
          74.95,
          75,
          75.05,
          75.1,
          75.15,
          75.2,
          75.25,
          75.3,
          75.35,
          75.4,
          75.45,
          75.5,
          75.55,
          75.6,
          75.65,
          75.7,
          75.75,
          75.8,
          75.85,
          75.9,
          76,
          76.05,
          76.1,
          76.2,
          76.25,
          76.35,
          76.4,
          76.45,
          76.5,
          76.65,
          76.95,
          77,
          77.15,
          77.5,
          77.65,
          77.75,
          77.85,
          77.95,
          78.05,
          78.1,
          78.25,
          78.3,
          78.45,
          78.5,
          78.55,
          78.6,
          78.65,
          78.75,
          78.8,
          78.85,
          78.9,
          78.95,
          79,
          79.05,
          79.1,
          79.15,
          79.2,
          79.25,
          79.3,
          79.35,
          79.4,
          79.45,
          79.5,
          79.55,
          79.6,
          79.65,
          79.7,
          79.75,
          79.8,
          79.85,
          79.9,
          79.95,
          80,
          80.05,
          80.1,
          80.15,
          80.2,
          80.25,
          80.3,
          80.35,
          80.4,
          80.45,
          80.5,
          80.55,
          80.6,
          80.65,
          80.7,
          80.75,
          80.8,
          80.85,
          80.95,
          81,
          81.05,
          81.1,
          81.15,
          81.25,
          81.3,
          81.35,
          81.45,
          81.5,
          81.7,
          81.95,
          82,
          82.05,
          82.3,
          82.35,
          82.4,
          82.45,
          82.85,
          83,
          83.05,
          83.15,
          83.2,
          83.3,
          83.35,
          83.55,
          83.6,
          83.65,
          83.75,
          83.8,
          83.85,
          83.9,
          83.95,
          84,
          84.05,
          84.1,
          84.15,
          84.2,
          84.25,
          84.3,
          84.35,
          84.4,
          84.45,
          84.5,
          84.55,
          84.6,
          84.65,
          84.7,
          84.75,
          84.8,
          84.85,
          84.9,
          84.95,
          85,
          85.05,
          85.1,
          85.15,
          85.2,
          85.25,
          85.3,
          85.35,
          85.4,
          85.45,
          85.5,
          85.55,
          85.6,
          85.65,
          85.7,
          85.75,
          85.8,
          85.85,
          85.9,
          85.95,
          86,
          86.05,
          86.1,
          86.15,
          86.2,
          86.25,
          86.3,
          86.45,
          86.5,
          86.55,
          86.6,
          86.65,
          86.8,
          86.85,
          87.05,
          87.1,
          87.15,
          87.25,
          87.4,
          87.45,
          87.55,
          88.05,
          88.15,
          88.2,
          88.25,
          88.3,
          88.35,
          88.4,
          88.45,
          88.55,
          88.7,
          88.8,
          88.85,
          88.9,
          88.95,
          89,
          89.05,
          89.1,
          89.15,
          89.2,
          89.25,
          89.3,
          89.35,
          89.4,
          89.45,
          89.5,
          89.55,
          89.6,
          89.65,
          89.7,
          89.75,
          89.8,
          89.85,
          89.9,
          89.95,
          90,
          90.05,
          90.1,
          90.15,
          90.2,
          90.25,
          90.35,
          90.4,
          90.45,
          90.5,
          90.55,
          90.6,
          90.7,
          90.75,
          90.8,
          90.85,
          90.9,
          90.95,
          91,
          91.05,
          91.1,
          91.15,
          91.25,
          91.3,
          91.4,
          91.5,
          91.65,
          91.7,
          91.75,
          91.85,
          92.1,
          92.35,
          92.45,
          92.5,
          92.55,
          93.15,
          93.2,
          93.3,
          93.35,
          93.4,
          93.5,
          93.55,
          93.7,
          93.8,
          93.85,
          93.9,
          94,
          94.05,
          94.1,
          94.2,
          94.25,
          94.3,
          94.35,
          94.4,
          94.45,
          94.5,
          94.55,
          94.6,
          94.65,
          94.7,
          94.75,
          94.8,
          94.85,
          94.9,
          94.95,
          95,
          95.05,
          95.1,
          95.15,
          95.2,
          95.25,
          95.35,
          95.45,
          95.5,
          95.55,
          95.6,
          95.65,
          95.7,
          95.75,
          95.8,
          95.85,
          95.9,
          96,
          96.05,
          96.1,
          96.15,
          96.2,
          96.25,
          96.3,
          96.4,
          96.5,
          96.55,
          96.6,
          96.65,
          96.7,
          96.75,
          96.8,
          97.1,
          97.35,
          97.65,
          97.8,
          97.85,
          97.9,
          97.95,
          98,
          98.05,
          98.1,
          98.15,
          98.25,
          98.3,
          98.35,
          98.4,
          98.5,
          98.55,
          98.6,
          98.65,
          98.7,
          98.75,
          98.8,
          98.9,
          99,
          99.05,
          99.1,
          99.15,
          99.2,
          99.25,
          99.3,
          99.35,
          99.4,
          99.45,
          99.5,
          99.55,
          99.6,
          99.65,
          99.7,
          99.75,
          99.8,
          99.85,
          99.9,
          99.95,
          100,
          100.05,
          100.1,
          100.15,
          100.2,
          100.25,
          100.3,
          100.35,
          100.45,
          100.5,
          100.55,
          100.6,
          100.65,
          100.7,
          100.75,
          100.8,
          100.85,
          100.95,
          101,
          101.05,
          101.1,
          101.15,
          101.25,
          101.3,
          101.35,
          101.4,
          101.45,
          101.5,
          101.55,
          101.7,
          101.75,
          101.85,
          101.9,
          101.95,
          102,
          102.1,
          102.25,
          102.35,
          102.45,
          102.6,
          102.8,
          102.95,
          103,
          103.25,
          103.3,
          103.35,
          103.4,
          103.45,
          103.7,
          103.75,
          103.85,
          103.9,
          103.95,
          104,
          104.05,
          104.1,
          104.15,
          104.2,
          104.25,
          104.3,
          104.4,
          104.5,
          104.55,
          104.6,
          104.65,
          104.7,
          104.75,
          104.8,
          104.85,
          104.9,
          104.95,
          105,
          105.05,
          105.1,
          105.2,
          105.25,
          105.3,
          105.35,
          105.4,
          105.5,
          105.55,
          105.65,
          105.7,
          105.75,
          105.85,
          105.9,
          105.95,
          106,
          106.05,
          106.1,
          106.15,
          106.25,
          106.3,
          106.35,
          106.4,
          106.45,
          106.5,
          106.55,
          106.6,
          106.7,
          106.75,
          106.9,
          106.95,
          107.35,
          107.4,
          107.5,
          107.55,
          107.95,
          108.05,
          108.15,
          108.4,
          108.45,
          108.55,
          108.6,
          108.65,
          108.75,
          108.85,
          109.15,
          109.25,
          109.45,
          109.5,
          109.55,
          109.65,
          109.75,
          109.8,
          109.9,
          110,
          110.1,
          110.15,
          110.35,
          110.45,
          110.75,
          110.85,
          110.9,
          111.1,
          111.2,
          111.25,
          111.3,
          111.6,
          111.95,
          112.95,
          113.15,
          113.2,
          113.6,
          114.2,
          114.5,
          115.55,
          115.65,
          116.2,
          117.45,
          117.8,
          118.35
         ],
         "xaxis": "x2",
         "yaxis": "y2"
        }
       ],
       "layout": {
        "barmode": "relative",
        "legend": {
         "title": {
          "text": "Churn"
         },
         "tracegroupgap": 0
        },
        "template": {
         "data": {
          "bar": [
           {
            "error_x": {
             "color": "#2a3f5f"
            },
            "error_y": {
             "color": "#2a3f5f"
            },
            "marker": {
             "line": {
              "color": "#E5ECF6",
              "width": 0.5
             },
             "pattern": {
              "fillmode": "overlay",
              "size": 10,
              "solidity": 0.2
             }
            },
            "type": "bar"
           }
          ],
          "barpolar": [
           {
            "marker": {
             "line": {
              "color": "#E5ECF6",
              "width": 0.5
             },
             "pattern": {
              "fillmode": "overlay",
              "size": 10,
              "solidity": 0.2
             }
            },
            "type": "barpolar"
           }
          ],
          "carpet": [
           {
            "aaxis": {
             "endlinecolor": "#2a3f5f",
             "gridcolor": "white",
             "linecolor": "white",
             "minorgridcolor": "white",
             "startlinecolor": "#2a3f5f"
            },
            "baxis": {
             "endlinecolor": "#2a3f5f",
             "gridcolor": "white",
             "linecolor": "white",
             "minorgridcolor": "white",
             "startlinecolor": "#2a3f5f"
            },
            "type": "carpet"
           }
          ],
          "choropleth": [
           {
            "colorbar": {
             "outlinewidth": 0,
             "ticks": ""
            },
            "type": "choropleth"
           }
          ],
          "contour": [
           {
            "colorbar": {
             "outlinewidth": 0,
             "ticks": ""
            },
            "colorscale": [
             [
              0,
              "#0d0887"
             ],
             [
              0.1111111111111111,
              "#46039f"
             ],
             [
              0.2222222222222222,
              "#7201a8"
             ],
             [
              0.3333333333333333,
              "#9c179e"
             ],
             [
              0.4444444444444444,
              "#bd3786"
             ],
             [
              0.5555555555555556,
              "#d8576b"
             ],
             [
              0.6666666666666666,
              "#ed7953"
             ],
             [
              0.7777777777777778,
              "#fb9f3a"
             ],
             [
              0.8888888888888888,
              "#fdca26"
             ],
             [
              1,
              "#f0f921"
             ]
            ],
            "type": "contour"
           }
          ],
          "contourcarpet": [
           {
            "colorbar": {
             "outlinewidth": 0,
             "ticks": ""
            },
            "type": "contourcarpet"
           }
          ],
          "heatmap": [
           {
            "colorbar": {
             "outlinewidth": 0,
             "ticks": ""
            },
            "colorscale": [
             [
              0,
              "#0d0887"
             ],
             [
              0.1111111111111111,
              "#46039f"
             ],
             [
              0.2222222222222222,
              "#7201a8"
             ],
             [
              0.3333333333333333,
              "#9c179e"
             ],
             [
              0.4444444444444444,
              "#bd3786"
             ],
             [
              0.5555555555555556,
              "#d8576b"
             ],
             [
              0.6666666666666666,
              "#ed7953"
             ],
             [
              0.7777777777777778,
              "#fb9f3a"
             ],
             [
              0.8888888888888888,
              "#fdca26"
             ],
             [
              1,
              "#f0f921"
             ]
            ],
            "type": "heatmap"
           }
          ],
          "heatmapgl": [
           {
            "colorbar": {
             "outlinewidth": 0,
             "ticks": ""
            },
            "colorscale": [
             [
              0,
              "#0d0887"
             ],
             [
              0.1111111111111111,
              "#46039f"
             ],
             [
              0.2222222222222222,
              "#7201a8"
             ],
             [
              0.3333333333333333,
              "#9c179e"
             ],
             [
              0.4444444444444444,
              "#bd3786"
             ],
             [
              0.5555555555555556,
              "#d8576b"
             ],
             [
              0.6666666666666666,
              "#ed7953"
             ],
             [
              0.7777777777777778,
              "#fb9f3a"
             ],
             [
              0.8888888888888888,
              "#fdca26"
             ],
             [
              1,
              "#f0f921"
             ]
            ],
            "type": "heatmapgl"
           }
          ],
          "histogram": [
           {
            "marker": {
             "pattern": {
              "fillmode": "overlay",
              "size": 10,
              "solidity": 0.2
             }
            },
            "type": "histogram"
           }
          ],
          "histogram2d": [
           {
            "colorbar": {
             "outlinewidth": 0,
             "ticks": ""
            },
            "colorscale": [
             [
              0,
              "#0d0887"
             ],
             [
              0.1111111111111111,
              "#46039f"
             ],
             [
              0.2222222222222222,
              "#7201a8"
             ],
             [
              0.3333333333333333,
              "#9c179e"
             ],
             [
              0.4444444444444444,
              "#bd3786"
             ],
             [
              0.5555555555555556,
              "#d8576b"
             ],
             [
              0.6666666666666666,
              "#ed7953"
             ],
             [
              0.7777777777777778,
              "#fb9f3a"
             ],
             [
              0.8888888888888888,
              "#fdca26"
             ],
             [
              1,
              "#f0f921"
             ]
            ],
            "type": "histogram2d"
           }
          ],
          "histogram2dcontour": [
           {
            "colorbar": {
             "outlinewidth": 0,
             "ticks": ""
            },
            "colorscale": [
             [
              0,
              "#0d0887"
             ],
             [
              0.1111111111111111,
              "#46039f"
             ],
             [
              0.2222222222222222,
              "#7201a8"
             ],
             [
              0.3333333333333333,
              "#9c179e"
             ],
             [
              0.4444444444444444,
              "#bd3786"
             ],
             [
              0.5555555555555556,
              "#d8576b"
             ],
             [
              0.6666666666666666,
              "#ed7953"
             ],
             [
              0.7777777777777778,
              "#fb9f3a"
             ],
             [
              0.8888888888888888,
              "#fdca26"
             ],
             [
              1,
              "#f0f921"
             ]
            ],
            "type": "histogram2dcontour"
           }
          ],
          "mesh3d": [
           {
            "colorbar": {
             "outlinewidth": 0,
             "ticks": ""
            },
            "type": "mesh3d"
           }
          ],
          "parcoords": [
           {
            "line": {
             "colorbar": {
              "outlinewidth": 0,
              "ticks": ""
             }
            },
            "type": "parcoords"
           }
          ],
          "pie": [
           {
            "automargin": true,
            "type": "pie"
           }
          ],
          "scatter": [
           {
            "marker": {
             "colorbar": {
              "outlinewidth": 0,
              "ticks": ""
             }
            },
            "type": "scatter"
           }
          ],
          "scatter3d": [
           {
            "line": {
             "colorbar": {
              "outlinewidth": 0,
              "ticks": ""
             }
            },
            "marker": {
             "colorbar": {
              "outlinewidth": 0,
              "ticks": ""
             }
            },
            "type": "scatter3d"
           }
          ],
          "scattercarpet": [
           {
            "marker": {
             "colorbar": {
              "outlinewidth": 0,
              "ticks": ""
             }
            },
            "type": "scattercarpet"
           }
          ],
          "scattergeo": [
           {
            "marker": {
             "colorbar": {
              "outlinewidth": 0,
              "ticks": ""
             }
            },
            "type": "scattergeo"
           }
          ],
          "scattergl": [
           {
            "marker": {
             "colorbar": {
              "outlinewidth": 0,
              "ticks": ""
             }
            },
            "type": "scattergl"
           }
          ],
          "scattermapbox": [
           {
            "marker": {
             "colorbar": {
              "outlinewidth": 0,
              "ticks": ""
             }
            },
            "type": "scattermapbox"
           }
          ],
          "scatterpolar": [
           {
            "marker": {
             "colorbar": {
              "outlinewidth": 0,
              "ticks": ""
             }
            },
            "type": "scatterpolar"
           }
          ],
          "scatterpolargl": [
           {
            "marker": {
             "colorbar": {
              "outlinewidth": 0,
              "ticks": ""
             }
            },
            "type": "scatterpolargl"
           }
          ],
          "scatterternary": [
           {
            "marker": {
             "colorbar": {
              "outlinewidth": 0,
              "ticks": ""
             }
            },
            "type": "scatterternary"
           }
          ],
          "surface": [
           {
            "colorbar": {
             "outlinewidth": 0,
             "ticks": ""
            },
            "colorscale": [
             [
              0,
              "#0d0887"
             ],
             [
              0.1111111111111111,
              "#46039f"
             ],
             [
              0.2222222222222222,
              "#7201a8"
             ],
             [
              0.3333333333333333,
              "#9c179e"
             ],
             [
              0.4444444444444444,
              "#bd3786"
             ],
             [
              0.5555555555555556,
              "#d8576b"
             ],
             [
              0.6666666666666666,
              "#ed7953"
             ],
             [
              0.7777777777777778,
              "#fb9f3a"
             ],
             [
              0.8888888888888888,
              "#fdca26"
             ],
             [
              1,
              "#f0f921"
             ]
            ],
            "type": "surface"
           }
          ],
          "table": [
           {
            "cells": {
             "fill": {
              "color": "#EBF0F8"
             },
             "line": {
              "color": "white"
             }
            },
            "header": {
             "fill": {
              "color": "#C8D4E3"
             },
             "line": {
              "color": "white"
             }
            },
            "type": "table"
           }
          ]
         },
         "layout": {
          "annotationdefaults": {
           "arrowcolor": "#2a3f5f",
           "arrowhead": 0,
           "arrowwidth": 1
          },
          "autotypenumbers": "strict",
          "coloraxis": {
           "colorbar": {
            "outlinewidth": 0,
            "ticks": ""
           }
          },
          "colorscale": {
           "diverging": [
            [
             0,
             "#8e0152"
            ],
            [
             0.1,
             "#c51b7d"
            ],
            [
             0.2,
             "#de77ae"
            ],
            [
             0.3,
             "#f1b6da"
            ],
            [
             0.4,
             "#fde0ef"
            ],
            [
             0.5,
             "#f7f7f7"
            ],
            [
             0.6,
             "#e6f5d0"
            ],
            [
             0.7,
             "#b8e186"
            ],
            [
             0.8,
             "#7fbc41"
            ],
            [
             0.9,
             "#4d9221"
            ],
            [
             1,
             "#276419"
            ]
           ],
           "sequential": [
            [
             0,
             "#0d0887"
            ],
            [
             0.1111111111111111,
             "#46039f"
            ],
            [
             0.2222222222222222,
             "#7201a8"
            ],
            [
             0.3333333333333333,
             "#9c179e"
            ],
            [
             0.4444444444444444,
             "#bd3786"
            ],
            [
             0.5555555555555556,
             "#d8576b"
            ],
            [
             0.6666666666666666,
             "#ed7953"
            ],
            [
             0.7777777777777778,
             "#fb9f3a"
            ],
            [
             0.8888888888888888,
             "#fdca26"
            ],
            [
             1,
             "#f0f921"
            ]
           ],
           "sequentialminus": [
            [
             0,
             "#0d0887"
            ],
            [
             0.1111111111111111,
             "#46039f"
            ],
            [
             0.2222222222222222,
             "#7201a8"
            ],
            [
             0.3333333333333333,
             "#9c179e"
            ],
            [
             0.4444444444444444,
             "#bd3786"
            ],
            [
             0.5555555555555556,
             "#d8576b"
            ],
            [
             0.6666666666666666,
             "#ed7953"
            ],
            [
             0.7777777777777778,
             "#fb9f3a"
            ],
            [
             0.8888888888888888,
             "#fdca26"
            ],
            [
             1,
             "#f0f921"
            ]
           ]
          },
          "colorway": [
           "#636efa",
           "#EF553B",
           "#00cc96",
           "#ab63fa",
           "#FFA15A",
           "#19d3f3",
           "#FF6692",
           "#B6E880",
           "#FF97FF",
           "#FECB52"
          ],
          "font": {
           "color": "#2a3f5f"
          },
          "geo": {
           "bgcolor": "white",
           "lakecolor": "white",
           "landcolor": "#E5ECF6",
           "showlakes": true,
           "showland": true,
           "subunitcolor": "white"
          },
          "hoverlabel": {
           "align": "left"
          },
          "hovermode": "closest",
          "mapbox": {
           "style": "light"
          },
          "paper_bgcolor": "white",
          "plot_bgcolor": "#E5ECF6",
          "polar": {
           "angularaxis": {
            "gridcolor": "white",
            "linecolor": "white",
            "ticks": ""
           },
           "bgcolor": "#E5ECF6",
           "radialaxis": {
            "gridcolor": "white",
            "linecolor": "white",
            "ticks": ""
           }
          },
          "scene": {
           "xaxis": {
            "backgroundcolor": "#E5ECF6",
            "gridcolor": "white",
            "gridwidth": 2,
            "linecolor": "white",
            "showbackground": true,
            "ticks": "",
            "zerolinecolor": "white"
           },
           "yaxis": {
            "backgroundcolor": "#E5ECF6",
            "gridcolor": "white",
            "gridwidth": 2,
            "linecolor": "white",
            "showbackground": true,
            "ticks": "",
            "zerolinecolor": "white"
           },
           "zaxis": {
            "backgroundcolor": "#E5ECF6",
            "gridcolor": "white",
            "gridwidth": 2,
            "linecolor": "white",
            "showbackground": true,
            "ticks": "",
            "zerolinecolor": "white"
           }
          },
          "shapedefaults": {
           "line": {
            "color": "#2a3f5f"
           }
          },
          "ternary": {
           "aaxis": {
            "gridcolor": "white",
            "linecolor": "white",
            "ticks": ""
           },
           "baxis": {
            "gridcolor": "white",
            "linecolor": "white",
            "ticks": ""
           },
           "bgcolor": "#E5ECF6",
           "caxis": {
            "gridcolor": "white",
            "linecolor": "white",
            "ticks": ""
           }
          },
          "title": {
           "x": 0.05
          },
          "xaxis": {
           "automargin": true,
           "gridcolor": "white",
           "linecolor": "white",
           "ticks": "",
           "title": {
            "standoff": 15
           },
           "zerolinecolor": "white",
           "zerolinewidth": 2
          },
          "yaxis": {
           "automargin": true,
           "gridcolor": "white",
           "linecolor": "white",
           "ticks": "",
           "title": {
            "standoff": 15
           },
           "zerolinecolor": "white",
           "zerolinewidth": 2
          }
         }
        },
        "title": {
         "text": "Churn rate frequency to MonthlyCharges distribution"
        },
        "width": 900,
        "xaxis": {
         "anchor": "y",
         "domain": [
          0,
          1
         ],
         "title": {
          "text": "MonthlyCharges"
         }
        },
        "xaxis2": {
         "anchor": "y2",
         "domain": [
          0,
          1
         ],
         "matches": "x",
         "showgrid": true,
         "showticklabels": false
        },
        "yaxis": {
         "anchor": "x",
         "domain": [
          0,
          0.7326
         ],
         "title": {
          "text": "sum of Count"
         }
        },
        "yaxis2": {
         "anchor": "x2",
         "domain": [
          0.7426,
          1
         ],
         "matches": "y2",
         "showgrid": false,
         "showline": false,
         "showticklabels": false,
         "ticks": ""
        }
       }
      }
     },
     "metadata": {},
     "output_type": "display_data"
    },
    {
     "name": "stdout",
     "output_type": "stream",
     "text": [
      "      TotalCharges Churn  0\n",
      "0            18.80    No  1\n",
      "1            18.85    No  1\n",
      "2            18.85   Yes  1\n",
      "3            18.90    No  1\n",
      "4            19.00    No  1\n",
      "...            ...   ... ..\n",
      "6693       8564.75    No  1\n",
      "6694       8594.40    No  1\n",
      "6695       8670.10    No  1\n",
      "6696       8672.45    No  1\n",
      "6697       8684.80   Yes  1\n",
      "\n",
      "[6698 rows x 3 columns]\n",
      "      TotalCharges Churn  Count\n",
      "0            18.80    No      1\n",
      "1            18.85    No      1\n",
      "2            18.85   Yes      1\n",
      "3            18.90    No      1\n",
      "4            19.00    No      1\n",
      "...            ...   ...    ...\n",
      "6693       8564.75    No      1\n",
      "6694       8594.40    No      1\n",
      "6695       8670.10    No      1\n",
      "6696       8672.45    No      1\n",
      "6697       8684.80   Yes      1\n",
      "\n",
      "[6698 rows x 3 columns]\n"
     ]
    },
    {
     "data": {
      "application/vnd.plotly.v1+json": {
       "config": {
        "plotlyServerURL": "https://plot.ly"
       },
       "data": [
        {
         "alignmentgroup": "True",
         "bingroup": "x",
         "histfunc": "sum",
         "hovertemplate": "Churn=No<br>TotalCharges=%{x}<br>sum of Count=%{y}<extra></extra>",
         "legendgroup": "No",
         "marker": {
          "color": "blue",
          "pattern": {
           "shape": ""
          }
         },
         "name": "No",
         "offsetgroup": "No",
         "orientation": "v",
         "showlegend": true,
         "type": "histogram",
         "x": [
          18.8,
          18.85,
          18.9,
          19,
          19.05,
          19.1,
          19.15,
          19.2,
          19.25,
          19.3,
          19.4,
          19.45,
          19.5,
          19.55,
          19.65,
          19.7,
          19.75,
          19.8,
          19.85,
          19.9,
          19.95,
          20,
          20.05,
          20.15,
          20.2,
          20.25,
          20.3,
          20.35,
          20.4,
          20.45,
          20.5,
          20.55,
          20.6,
          20.65,
          20.7,
          20.75,
          20.8,
          20.9,
          20.95,
          21.05,
          21.1,
          24,
          24.2,
          24.4,
          24.7,
          24.9,
          25,
          25.15,
          25.25,
          25.35,
          25.4,
          25.7,
          25.75,
          25.85,
          27.55,
          29.15,
          29.85,
          29.9,
          30.55,
          31.2,
          31.9,
          32.7,
          33.6,
          33.7,
          34.75,
          34.8,
          35,
          35.1,
          35.9,
          36.8,
          37.2,
          38,
          38.15,
          38.25,
          38.45,
          38.8,
          39.25,
          39.3,
          39.8,
          39.85,
          40.25,
          40.9,
          41.2,
          41.85,
          42.45,
          42.7,
          42.9,
          43.15,
          43.8,
          43.85,
          43.95,
          44,
          44.05,
          44.15,
          44.2,
          44.3,
          44.4,
          44.45,
          44.55,
          44.6,
          44.75,
          44.8,
          44.9,
          44.95,
          45,
          45.15,
          45.2,
          45.25,
          45.3,
          45.35,
          45.4,
          45.55,
          45.6,
          45.75,
          45.8,
          45.85,
          46.3,
          46.35,
          46.4,
          47.7,
          47.95,
          48.35,
          48.45,
          48.6,
          48.75,
          49,
          49.05,
          49.3,
          49.5,
          49.55,
          49.65,
          49.7,
          49.75,
          49.8,
          49.85,
          49.9,
          49.95,
          50.05,
          50.1,
          50.15,
          50.6,
          50.7,
          50.75,
          51.2,
          51.25,
          51.6,
          52,
          52.05,
          53.05,
          53.15,
          53.55,
          54.3,
          54.5,
          54.65,
          54.7,
          55.05,
          55.25,
          55.3,
          55.45,
          55.55,
          55.7,
          56,
          57.2,
          57.4,
          57.5,
          58,
          58.3,
          59.25,
          59.55,
          60.65,
          61.05,
          61.15,
          61.35,
          61.45,
          61.7,
          62,
          62.8,
          62.9,
          63,
          63.15,
          63.6,
          63.75,
          65.95,
          67.1,
          67.55,
          68.2,
          68.35,
          68.45,
          68.8,
          69.25,
          69.9,
          69.95,
          70.05,
          70.1,
          70.2,
          70.25,
          70.35,
          70.45,
          70.6,
          70.7,
          71.1,
          71.2,
          71.25,
          72,
          72.1,
          73.05,
          73.1,
          73.45,
          74,
          74.1,
          74.2,
          74.3,
          74.35,
          74.6,
          74.7,
          75.1,
          75.35,
          75.45,
          75.5,
          75.55,
          76.65,
          76.95,
          77.6,
          78.25,
          78.3,
          78.9,
          79.05,
          79.15,
          79.8,
          80.55,
          80.95,
          81.05,
          82.15,
          82.7,
          82.85,
          82.9,
          83.3,
          83.4,
          83.75,
          84.2,
          84.4,
          84.5,
          84.6,
          84.75,
          85,
          85.1,
          85.5,
          86.05,
          86.35,
          87.3,
          87.9,
          89.05,
          89.25,
          89.3,
          89.35,
          89.75,
          90.05,
          90.1,
          91.4,
          91.45,
          92.05,
          92.25,
          92.5,
          92.75,
          93.4,
          93.45,
          93.55,
          94.15,
          94.4,
          94.45,
          94.5,
          95.55,
          95.85,
          96.1,
          96.8,
          96.85,
          97,
          97.5,
          98.35,
          98.5,
          99.45,
          99.6,
          99.95,
          100.2,
          100.35,
          100.9,
          101.1,
          101.65,
          101.9,
          103.7,
          104.3,
          105.5,
          105.6,
          106.2,
          106.8,
          106.9,
          107.05,
          107.1,
          107.25,
          107.6,
          108.65,
          109.2,
          109.25,
          109.3,
          109.5,
          109.6,
          109.8,
          110.05,
          110.15,
          111.05,
          111.4,
          111.65,
          112.75,
          113.1,
          113.5,
          113.95,
          114.15,
          116.6,
          116.85,
          116.95,
          117.05,
          117.8,
          117.95,
          118.25,
          118.4,
          119.3,
          119.5,
          120.25,
          121.25,
          122,
          122.7,
          122.9,
          123.05,
          123.65,
          123.8,
          124.4,
          124.45,
          125,
          125.5,
          125.95,
          128.6,
          129.15,
          129.2,
          129.55,
          129.6,
          130.15,
          130.25,
          130.5,
          130.55,
          132.25,
          132.4,
          134.05,
          134.6,
          134.75,
          135.2,
          135.75,
          136.05,
          136.75,
          137.1,
          137.25,
          137.6,
          138.85,
          139.25,
          139.75,
          140.1,
          140.4,
          140.95,
          141.1,
          141.6,
          141.65,
          141.7,
          143.65,
          143.9,
          144,
          144.15,
          144.35,
          144.8,
          144.95,
          145.15,
          146.4,
          146.6,
          146.65,
          147.5,
          147.55,
          147.75,
          147.8,
          148.05,
          149.05,
          150,
          150.35,
          150.6,
          150.75,
          150.85,
          151.75,
          152.3,
          152.6,
          152.95,
          153.3,
          153.8,
          153.95,
          154.3,
          154.55,
          154.8,
          155.35,
          155.9,
          156.1,
          156.85,
          157.55,
          157.65,
          157.75,
          158.35,
          158.95,
          159.2,
          159.35,
          160.05,
          160.85,
          161.15,
          161.45,
          161.65,
          161.95,
          162.15,
          162.3,
          162.45,
          162.55,
          163.2,
          163.55,
          163.6,
          163.7,
          164.6,
          165.35,
          165.5,
          167.2,
          168.5,
          168.6,
          168.65,
          168.9,
          169.65,
          169.75,
          170.5,
          170.9,
          171,
          171.45,
          172.35,
          173,
          173.15,
          174.2,
          174.45,
          174.65,
          174.7,
          174.75,
          176.2,
          176.3,
          177.4,
          178.7,
          178.8,
          178.85,
          179.85,
          180.7,
          181.65,
          181.8,
          183.15,
          184.05,
          184.1,
          184.15,
          184.4,
          184.95,
          185.2,
          185.4,
          186.05,
          186.15,
          186.3,
          187.35,
          187.75,
          188.1,
          189.1,
          189.45,
          189.95,
          190.1,
          190.25,
          190.5,
          191.1,
          193.05,
          194.2,
          194.55,
          195.65,
          196.35,
          196.4,
          196.75,
          196.9,
          197.4,
          198.1,
          198.25,
          198.5,
          198.6,
          198.7,
          199.45,
          199.75,
          199.85,
          200.2,
          201.7,
          201.95,
          202.15,
          202.25,
          202.3,
          202.9,
          203.95,
          204.55,
          206.15,
          207.35,
          207.4,
          208,
          208.25,
          208.45,
          209.9,
          210.65,
          211.95,
          212.3,
          212.4,
          213.35,
          214.4,
          214.55,
          214.75,
          215.25,
          216.2,
          216.45,
          217.1,
          217.45,
          217.5,
          218.5,
          218.55,
          219.35,
          219.5,
          220.35,
          220.4,
          220.45,
          220.65,
          220.75,
          220.8,
          221.1,
          222.65,
          223.15,
          223.6,
          223.75,
          223.9,
          224.5,
          224.85,
          225.55,
          225.65,
          225.75,
          225.85,
          226.2,
          226.55,
          226.8,
          226.95,
          227.35,
          227.45,
          228.65,
          228.75,
          229.4,
          229.7,
          231.45,
          232.1,
          232.35,
          232.4,
          232.5,
          232.55,
          233.65,
          233.9,
          234.85,
          235,
          235.05,
          235.2,
          235.65,
          235.8,
          237.2,
          237.3,
          237.65,
          237.7,
          238.1,
          238.15,
          238.5,
          239,
          239.05,
          239.45,
          239.75,
          241.3,
          242.4,
          243.65,
          244.1,
          244.45,
          244.75,
          244.8,
          244.85,
          245.15,
          246.25,
          246.3,
          246.6,
          246.7,
          247,
          248.4,
          249.4,
          249.55,
          250.1,
          250.8,
          251.25,
          251.6,
          251.65,
          252,
          252.75,
          253,
          253.8,
          253.9,
          254.5,
          255.35,
          255.5,
          255.55,
          255.6,
          256.6,
          256.75,
          257,
          257.6,
          258.35,
          259.4,
          259.65,
          260.7,
          260.9,
          261.3,
          261.65,
          262.05,
          262.3,
          263.05,
          263.65,
          264.55,
          264.8,
          265.3,
          265.45,
          265.75,
          265.8,
          266.6,
          266.8,
          266.95,
          267,
          267.35,
          268.4,
          268.45,
          269.65,
          270.15,
          270.2,
          270.6,
          272,
          272.35,
          272.95,
          273.2,
          273.25,
          273.4,
          274.35,
          274.7,
          275.4,
          275.7,
          275.9,
          276.5,
          278.4,
          278.85,
          279.2,
          279.3,
          279.5,
          280,
          280.35,
          280.4,
          280.85,
          283.75,
          283.95,
          284.3,
          284.35,
          284.9,
          285.2,
          286.8,
          287.85,
          288.35,
          290.55,
          291.45,
          292.4,
          293.15,
          293.85,
          294.2,
          294.45,
          294.5,
          294.9,
          294.95,
          295.55,
          295.65,
          295.95,
          296.15,
          297.35,
          298.7,
          299.05,
          299.3,
          299.4,
          299.75,
          300.4,
          300.7,
          301.55,
          301.9,
          302.35,
          302.45,
          302.6,
          303.7,
          304.6,
          305.55,
          306.05,
          307,
          307.6,
          308.05,
          308.1,
          309.25,
          309.35,
          309.4,
          310.6,
          311.6,
          312.7,
          313,
          313.4,
          313.45,
          313.6,
          314.45,
          314.55,
          314.6,
          314.95,
          316.2,
          316.9,
          317.75,
          318.1,
          318.6,
          319.6,
          319.85,
          320.4,
          320.45,
          321.05,
          321.4,
          321.7,
          322.5,
          322.9,
          323.15,
          323.45,
          324.15,
          324.2,
          324.8,
          326.65,
          326.8,
          329.75,
          330.25,
          330.6,
          330.8,
          331.35,
          331.6,
          331.85,
          332.5,
          332.65,
          333.65,
          335.4,
          335.65,
          335.75,
          335.95,
          336.15,
          336.7,
          337.9,
          339.9,
          340.35,
          340.4,
          340.85,
          341.35,
          341.6,
          342.3,
          343.45,
          343.6,
          344.2,
          344.5,
          345.5,
          345.9,
          346.45,
          347.65,
          348.15,
          348.8,
          349.8,
          350.1,
          350.35,
          351.5,
          351.55,
          352.65,
          353.65,
          355.1,
          355.9,
          356.1,
          356.15,
          356.65,
          357,
          357.15,
          357.6,
          357.7,
          358.05,
          358.15,
          358.5,
          359.4,
          360.35,
          360.55,
          362.6,
          363.15,
          365.8,
          367.55,
          367.95,
          368.85,
          369.05,
          369.1,
          369.15,
          369.25,
          369.3,
          369.6,
          370.25,
          370.4,
          370.5,
          371.4,
          371.6,
          372.45,
          373,
          373.5,
          374,
          374.8,
          375.25,
          377.55,
          377.85,
          378.6,
          381.2,
          382.2,
          382.8,
          383.55,
          383.65,
          384.25,
          385.55,
          386.5,
          387.4,
          387.7,
          387.9,
          388.6,
          389.25,
          389.8,
          389.95,
          390.4,
          391.7,
          392.5,
          392.65,
          393.15,
          393.45,
          394.1,
          394.85,
          395.6,
          397,
          398.55,
          399.25,
          399.45,
          400,
          400.3,
          401.3,
          401.5,
          401.85,
          401.95,
          402.5,
          402.6,
          402.85,
          403.15,
          404.35,
          405.6,
          405.7,
          406.05,
          406.95,
          407.05,
          408.25,
          408.5,
          411.15,
          411.25,
          411.45,
          411.6,
          411.75,
          412.55,
          412.6,
          413,
          413.25,
          414.1,
          414.95,
          415.1,
          415.4,
          415.9,
          416.4,
          416.45,
          417,
          417.5,
          417.65,
          417.7,
          417.75,
          418.25,
          418.3,
          419.35,
          419.4,
          419.7,
          419.9,
          420.45,
          422.3,
          422.4,
          422.5,
          422.6,
          422.7,
          424.5,
          424.75,
          425.1,
          426.35,
          426.65,
          428.45,
          428.7,
          429.55,
          432.25,
          432.5,
          433.5,
          433.75,
          433.95,
          434.5,
          434.8,
          435,
          435.25,
          435.45,
          436.2,
          436.6,
          436.9,
          438.05,
          438.9,
          439.2,
          439.75,
          440.2,
          442.45,
          442.6,
          444.75,
          445.3,
          445.85,
          445.95,
          446.8,
          447.75,
          447.9,
          449.3,
          450.4,
          450.65,
          450.9,
          451.55,
          452.2,
          452.35,
          452.55,
          452.8,
          454,
          454.05,
          454.65,
          456.85,
          457.1,
          457.3,
          458.1,
          459.6,
          459.95,
          460.2,
          460.25,
          461.3,
          463.6,
          465.45,
          465.7,
          465.85,
          466.6,
          467.15,
          467.5,
          467.7,
          467.85,
          468.35,
          469.25,
          469.65,
          469.85,
          470,
          470.2,
          470.6,
          471.35,
          471.55,
          471.7,
          471.85,
          472.25,
          472.65,
          473.9,
          475,
          475.1,
          475.2,
          475.25,
          475.7,
          476.8,
          477.05,
          477.55,
          477.6,
          478.1,
          478.75,
          481.1,
          482.25,
          482.8,
          483.15,
          483.3,
          484.05,
          485.2,
          485.25,
          485.9,
          486.05,
          486.2,
          487.05,
          487.75,
          487.95,
          488.25,
          488.65,
          490.55,
          490.65,
          492,
          492.1,
          493.4,
          493.65,
          493.95,
          494.05,
          494.9,
          494.95,
          495.15,
          497.3,
          497.6,
          498.1,
          498.25,
          499.4,
          500.1,
          501.2,
          501.35,
          503.25,
          504.05,
          504.2,
          505.45,
          505.9,
          505.95,
          507.4,
          507.9,
          509.3,
          510.8,
          511.25,
          512.25,
          514.6,
          514.75,
          515.45,
          515.75,
          516.15,
          516.3,
          518.3,
          518.75,
          520.1,
          520.55,
          520.95,
          521,
          521.35,
          521.8,
          521.9,
          522.35,
          522.95,
          523.1,
          524.35,
          524.5,
          525,
          525.55,
          527.35,
          527.5,
          528.45,
          529.5,
          529.8,
          530.05,
          531.15,
          531.55,
          531.6,
          532.1,
          533.05,
          533.5,
          533.6,
          533.9,
          534.7,
          535.05,
          535.35,
          535.55,
          536.35,
          537.35,
          538.2,
          538.5,
          540.05,
          540.95,
          541.5,
          542.4,
          543,
          543.8,
          546.45,
          546.85,
          547.8,
          548.8,
          548.9,
          550.1,
          550.35,
          550.6,
          551.3,
          551.95,
          552.1,
          552.65,
          552.7,
          552.9,
          553,
          553.4,
          554.05,
          554.25,
          554.45,
          555.4,
          558.8,
          559.2,
          561.15,
          562.6,
          562.7,
          563.05,
          563.5,
          564.35,
          564.4,
          564.65,
          565.35,
          565.75,
          566.1,
          566.5,
          567.8,
          568.2,
          568.85,
          571.05,
          571.15,
          571.45,
          571.75,
          572.2,
          572.45,
          572.85,
          573.05,
          573.15,
          574.35,
          574.5,
          576.65,
          576.7,
          576.95,
          577.15,
          578.5,
          579,
          579.4,
          580.1,
          580.8,
          581.7,
          581.85,
          583,
          583.3,
          587.1,
          587.4,
          587.45,
          587.7,
          589.25,
          590.35,
          592.65,
          592.75,
          593.05,
          593.2,
          593.3,
          593.85,
          595.05,
          595.5,
          597.9,
          599.25,
          599.3,
          600.15,
          600.25,
          601.25,
          601.55,
          601.6,
          602.9,
          603,
          605.25,
          605.45,
          605.75,
          605.9,
          607.3,
          607.7,
          608.15,
          608.5,
          609.05,
          609.1,
          609.65,
          610.2,
          610.75,
          611.45,
          611.65,
          612.1,
          612.95,
          613.95,
          614.45,
          615.35,
          616.9,
          617.15,
          617.35,
          617.65,
          617.85,
          620.55,
          620.75,
          624.15,
          624.6,
          625.05,
          625.65,
          628.65,
          629.35,
          629.55,
          630.6,
          631.4,
          632.2,
          633.45,
          633.85,
          635.9,
          637.4,
          637.55,
          638,
          638.55,
          638.95,
          639.45,
          639.7,
          641.15,
          641.25,
          641.35,
          644.5,
          645.8,
          646.05,
          647.5,
          648.65,
          649.4,
          651.5,
          651.55,
          653.15,
          653.25,
          653.9,
          653.95,
          654.5,
          654.55,
          654.85,
          655.3,
          657.5,
          658.1,
          659.35,
          659.45,
          660.05,
          661.55,
          662.95,
          663.55,
          664.4,
          666,
          666.75,
          668.85,
          669.45,
          670.35,
          670.65,
          672.2,
          672.7,
          673.2,
          674.55,
          675.6,
          676.15,
          677.05,
          677.9,
          678.2,
          678.45,
          678.75,
          678.8,
          679,
          679.8,
          681.4,
          682.1,
          682.15,
          683.25,
          683.75,
          684.05,
          684.4,
          684.85,
          685.55,
          686.95,
          688,
          688.2,
          688.5,
          689,
          689.35,
          689.75,
          690.25,
          690.5,
          692.35,
          692.55,
          693.3,
          693.45,
          695.05,
          695.75,
          695.85,
          696.8,
          697.25,
          697.65,
          697.7,
          700.45,
          701.05,
          701.3,
          702,
          702.05,
          702.9,
          704.3,
          705.45,
          707.5,
          708.2,
          708.8,
          709.5,
          710.05,
          711.15,
          711.9,
          711.95,
          712.25,
          713.6,
          715,
          716.1,
          716.4,
          717.3,
          717.5,
          717.95,
          718.1,
          718.55,
          720.05,
          720.1,
          720.45,
          723.3,
          723.35,
          724.65,
          726.1,
          727.8,
          727.85,
          729.95,
          730.1,
          730.4,
          731.3,
          733.55,
          733.95,
          734.6,
          735.5,
          735.9,
          736.8,
          739.35,
          739.9,
          740.55,
          741,
          741.4,
          741.5,
          742.9,
          743.05,
          743.3,
          743.5,
          743.75,
          745.3,
          746.05,
          746.75,
          747.2,
          749.25,
          749.35,
          750.1,
          754,
          754.5,
          755.4,
          755.5,
          755.6,
          756.4,
          757.95,
          759.35,
          759.55,
          760.05,
          761.85,
          761.95,
          762.45,
          763.1,
          764.55,
          765.15,
          765.45,
          767.55,
          767.9,
          768.05,
          768.45,
          769.1,
          770.4,
          770.5,
          771.95,
          772.4,
          772.85,
          773.2,
          775.3,
          775.6,
          776.25,
          777.3,
          777.35,
          779.2,
          779.25,
          780.1,
          780.15,
          780.2,
          780.25,
          780.85,
          781.25,
          781.4,
          784.25,
          784.45,
          785.75,
          786.3,
          786.5,
          788.05,
          788.35,
          788.55,
          788.6,
          789.2,
          789.55,
          790,
          790.7,
          791.15,
          791.7,
          792.15,
          795.15,
          795.65,
          797.1,
          797.25,
          798.2,
          799,
          800.3,
          801.3,
          802.35,
          804.25,
          804.85,
          805.2,
          806.95,
          808.95,
          809.25,
          810.3,
          810.45,
          810.85,
          811.65,
          812.4,
          812.5,
          813.3,
          813.45,
          814.75,
          815.55,
          816.8,
          817.95,
          818.45,
          819.95,
          821.6,
          824.85,
          825.1,
          825.4,
          826,
          826.1,
          827.05,
          827.3,
          827.45,
          827.7,
          828.05,
          828.2,
          828.85,
          829.3,
          830.25,
          830.8,
          831.75,
          832.3,
          833.55,
          834.7,
          835.15,
          835.5,
          836.35,
          837.5,
          838.5,
          838.7,
          839.4,
          839.65,
          842.25,
          844.45,
          845.25,
          845.6,
          846.8,
          847.25,
          847.8,
          849.1,
          849.9,
          851.2,
          851.8,
          852.7,
          854.45,
          854.8,
          854.9,
          855.1,
          856.5,
          857.75,
          857.8,
          858.6,
          860.85,
          861.85,
          862.4,
          864.2,
          864.55,
          864.85,
          865,
          865.05,
          865.1,
          865.75,
          865.85,
          866.4,
          867.1,
          867.3,
          868.1,
          869.9,
          870.25,
          873.4,
          874.2,
          875.35,
          875.55,
          876.15,
          876.75,
          877.35,
          879.8,
          880.05,
          882.55,
          883.35,
          886.4,
          886.7,
          887.35,
          888.65,
          888.75,
          889,
          890.35,
          890.5,
          892.15,
          892.7,
          893,
          893.2,
          894.3,
          897.75,
          899.45,
          900.9,
          901.25,
          902,
          902.25,
          903.7,
          903.8,
          905.55,
          906.85,
          907.05,
          908.15,
          908.55,
          908.75,
          910.45,
          911.6,
          912,
          913.3,
          914.4,
          914.6,
          916,
          916.15,
          917.15,
          917.45,
          918.7,
          918.75,
          920.5,
          921.3,
          921.4,
          921.55,
          923.1,
          923.85,
          926,
          926.2,
          926.25,
          927.1,
          927.15,
          927.65,
          928.4,
          929.2,
          929.3,
          929.45,
          930.05,
          930.9,
          930.95,
          931.55,
          931.75,
          931.9,
          934.15,
          934.8,
          935.9,
          936.7,
          936.85,
          937.1,
          938.65,
          938.95,
          939.8,
          942.95,
          943,
          943.1,
          943.85,
          944.65,
          945.7,
          946.95,
          947.4,
          947.75,
          948.9,
          949.8,
          949.85,
          950.75,
          951.55,
          953.65,
          954.9,
          955.15,
          955.6,
          955.75,
          956.65,
          957.1,
          958.1,
          958.15,
          958.25,
          958.45,
          959.9,
          961.4,
          962.25,
          962.9,
          963.95,
          964.35,
          964.9,
          966.25,
          966.55,
          967.85,
          967.9,
          969.85,
          970.4,
          970.45,
          970.55,
          970.85,
          973.1,
          973.35,
          973.65,
          973.95,
          978,
          978.6,
          979.05,
          979.5,
          980.35,
          981.45,
          982.95,
          985.05,
          987.95,
          989.05,
          990.3,
          990.45,
          992.7,
          993.15,
          995.35,
          996.45,
          996.85,
          996.95,
          997.75,
          998.1,
          999.8,
          999.9,
          1001.2,
          1001.5,
          1003.05,
          1004.35,
          1004.5,
          1004.75,
          1005.7,
          1006.9,
          1007.8,
          1007.9,
          1008.7,
          1009.25,
          1010,
          1011.05,
          1011.5,
          1011.8,
          1012.4,
          1013.05,
          1013.2,
          1013.35,
          1013.6,
          1014.25,
          1016.7,
          1017.35,
          1020.2,
          1020.75,
          1021.55,
          1021.75,
          1022.5,
          1022.6,
          1022.95,
          1023.75,
          1023.85,
          1023.95,
          1024,
          1024.65,
          1024.7,
          1025.05,
          1025.15,
          1026.35,
          1027.25,
          1028.75,
          1028.9,
          1029.35,
          1029.8,
          1031.1,
          1031.4,
          1031.7,
          1032.05,
          1033,
          1033.9,
          1033.95,
          1035.5,
          1035.7,
          1036,
          1039.45,
          1041.8,
          1042.65,
          1043.3,
          1043.4,
          1043.8,
          1045.25,
          1046.2,
          1046.5,
          1048.45,
          1049.05,
          1049.6,
          1050.5,
          1051.05,
          1051.9,
          1054.75,
          1054.8,
          1055.9,
          1057,
          1057.55,
          1057.85,
          1058.1,
          1061.6,
          1064.95,
          1066.15,
          1066.9,
          1067.05,
          1067.65,
          1068.15,
          1070.15,
          1070.25,
          1070.5,
          1070.7,
          1071.4,
          1071.6,
          1072.6,
          1073.3,
          1074.65,
          1077.05,
          1077.5,
          1077.95,
          1078.75,
          1079.05,
          1079.45,
          1079.65,
          1080.55,
          1081.25,
          1082.75,
          1082.8,
          1083,
          1083.7,
          1086.75,
          1087.25,
          1087.45,
          1087.7,
          1088.25,
          1090.1,
          1090.6,
          1090.65,
          1092.35,
          1093,
          1093.2,
          1093.4,
          1094.35,
          1096.6,
          1096.65,
          1097.15,
          1098.85,
          1102.4,
          1103.25,
          1107.2,
          1108,
          1108.2,
          1108.6,
          1108.8,
          1110.05,
          1110.35,
          1110.5,
          1111.2,
          1112.3,
          1113.95,
          1114.55,
          1114.85,
          1115.6,
          1117.55,
          1118.8,
          1119.35,
          1119.9,
          1121.05,
          1122.4,
          1123.15,
          1123.65,
          1124.2,
          1125.2,
          1125.6,
          1126.35,
          1126.75,
          1128.1,
          1129.35,
          1130,
          1130.85,
          1131.5,
          1133.7,
          1134.25,
          1137.05,
          1138.8,
          1139.2,
          1140.05,
          1143.8,
          1144.6,
          1146.05,
          1147,
          1147.85,
          1149.65,
          1151.05,
          1151.55,
          1152.8,
          1153.25,
          1155.6,
          1156.35,
          1156.55,
          1158.85,
          1160.45,
          1160.75,
          1161.75,
          1164.05,
          1165.55,
          1165.6,
          1165.9,
          1166.7,
          1167.6,
          1167.8,
          1170.5,
          1170.55,
          1171.3,
          1171.5,
          1173.35,
          1173.55,
          1174.35,
          1174.8,
          1175.6,
          1175.85,
          1177.05,
          1177.95,
          1178.75,
          1181.75,
          1183.05,
          1183.2,
          1183.8,
          1184,
          1185,
          1185.95,
          1187.05,
          1188.2,
          1188.25,
          1189.4,
          1189.9,
          1190.5,
          1191.2,
          1191.4,
          1192.3,
          1192.7,
          1193.55,
          1195.25,
          1195.75,
          1195.95,
          1198.05,
          1198.8,
          1199.4,
          1201.65,
          1203.9,
          1203.95,
          1205.05,
          1205.5,
          1207,
          1208.15,
          1208.6,
          1209.25,
          1210.3,
          1211.65,
          1212.1,
          1212.25,
          1212.85,
          1215.1,
          1215.45,
          1215.65,
          1215.8,
          1216.35,
          1216.6,
          1218.25,
          1218.45,
          1218.65,
          1219.85,
          1221.55,
          1221.65,
          1222.25,
          1222.65,
          1224.05,
          1225.65,
          1226.45,
          1228.65,
          1229.1,
          1230.9,
          1231.85,
          1232.9,
          1233.15,
          1233.25,
          1234.6,
          1234.8,
          1235.55,
          1237.3,
          1237.65,
          1238.65,
          1240.15,
          1240.8,
          1242.2,
          1242.25,
          1242.45,
          1244.8,
          1245.05,
          1245.6,
          1246.4,
          1247.75,
          1248.9,
          1249.25,
          1250.1,
          1250.85,
          1252,
          1252.85,
          1253.15,
          1253.5,
          1253.65,
          1253.8,
          1255.1,
          1258.15,
          1258.35,
          1259.35,
          1260.7,
          1261,
          1261.35,
          1261.45,
          1261.7,
          1263.05,
          1263.85,
          1263.9,
          1264.2,
          1265.65,
          1266.35,
          1266.4,
          1267,
          1267.05,
          1267.2,
          1267.95,
          1268.85,
          1269.1,
          1269.6,
          1270.25,
          1270.55,
          1271.8,
          1272.05,
          1273.3,
          1274.05,
          1274.45,
          1275.6,
          1275.65,
          1275.7,
          1275.85,
          1277.5,
          1277.75,
          1278.8,
          1279,
          1281.25,
          1282.85,
          1284.2,
          1285.05,
          1285.8,
          1286,
          1286.05,
          1287.85,
          1288,
          1288.3,
          1288.75,
          1291.3,
          1291.35,
          1292.2,
          1292.6,
          1292.65,
          1293.8,
          1294.6,
          1295.4,
          1296.15,
          1296.8,
          1297.35,
          1297.8,
          1298.7,
          1299.1,
          1299.8,
          1301.1,
          1301.9,
          1302.65,
          1303.25,
          1303.5,
          1304.8,
          1304.85,
          1305.95,
          1306.3,
          1307.8,
          1309,
          1309.15,
          1311.3,
          1311.6,
          1311.75,
          1312.45,
          1313.25,
          1315,
          1315.35,
          1316.9,
          1317.95,
          1319.85,
          1319.95,
          1321.3,
          1322.55,
          1322.85,
          1323.7,
          1325.85,
          1326.25,
          1326.35,
          1327.4,
          1327.85,
          1328.15,
          1328.35,
          1329.15,
          1331.05,
          1332.4,
          1334.45,
          1334.5,
          1335.2,
          1336.1,
          1336.15,
          1336.35,
          1336.65,
          1336.8,
          1336.9,
          1337.45,
          1337.5,
          1339.8,
          1340.1,
          1341.5,
          1342.15,
          1343.4,
          1344.5,
          1345.65,
          1345.75,
          1345.85,
          1346.2,
          1346.3,
          1346.9,
          1347.15,
          1348.5,
          1348.95,
          1354.4,
          1355.1,
          1355.45,
          1356.3,
          1356.7,
          1357.1,
          1358.6,
          1359.45,
          1359.5,
          1360.25,
          1362.85,
          1363.25,
          1363.45,
          1364.75,
          1367.75,
          1370.35,
          1372.45,
          1372.9,
          1373,
          1373.05,
          1374.2,
          1374.35,
          1374.9,
          1375.4,
          1375.6,
          1376.5,
          1377.7,
          1378.45,
          1378.75,
          1379.6,
          1379.8,
          1380.4,
          1381.2,
          1381.8,
          1382.9,
          1383.6,
          1385.85,
          1386.8,
          1386.9,
          1387,
          1387.35,
          1387.45,
          1388,
          1388.45,
          1388.75,
          1389.35,
          1389.6,
          1389.85,
          1390.85,
          1391.15,
          1391.65,
          1392.25,
          1393.6,
          1394.55,
          1395.05,
          1396,
          1396.25,
          1396.9,
          1397.3,
          1397.475,
          1397.65,
          1398.25,
          1398.6,
          1399.35,
          1400.3,
          1401.15,
          1401.4,
          1402.25,
          1403.1,
          1404.65,
          1405.3,
          1406,
          1406.65,
          1406.9,
          1410.25,
          1411.2,
          1411.35,
          1411.65,
          1411.9,
          1412.4,
          1412.65,
          1413,
          1414.2,
          1414.45,
          1414.65,
          1414.8,
          1415,
          1415.85,
          1416.2,
          1416.5,
          1416.75,
          1417.9,
          1419.4,
          1421.75,
          1421.9,
          1423.05,
          1423.15,
          1423.35,
          1423.65,
          1423.85,
          1424.2,
          1424.4,
          1424.6,
          1424.9,
          1426.45,
          1427.55,
          1429.65,
          1430.05,
          1430.95,
          1431.65,
          1432.55,
          1433.8,
          1434.1,
          1434.6,
          1436.95,
          1438.05,
          1439.35,
          1440.75,
          1441.65,
          1441.8,
          1441.95,
          1442,
          1442.2,
          1442.6,
          1442.65,
          1443.65,
          1444.05,
          1445.2,
          1445.95,
          1446.8,
          1447.9,
          1451.1,
          1453.1,
          1454.25,
          1458.1,
          1459.35,
          1460.85,
          1461.15,
          1461.45,
          1462.05,
          1462.6,
          1463.45,
          1463.7,
          1466.1,
          1468.75,
          1468.9,
          1470.05,
          1474.35,
          1474.9,
          1476.25,
          1477.65,
          1478.85,
          1482.3,
          1489.3,
          1490.4,
          1492.1,
          1493.1,
          1493.2,
          1493.55,
          1493.75,
          1494.5,
          1495.1,
          1496.45,
          1497.05,
          1497.9,
          1498.35,
          1498.55,
          1498.65,
          1498.85,
          1500.25,
          1500.5,
          1500.95,
          1501.75,
          1502.25,
          1505.05,
          1505.15,
          1505.35,
          1505.45,
          1505.9,
          1506.4,
          1507,
          1509.8,
          1509.9,
          1510.3,
          1510.5,
          1513.6,
          1514.85,
          1516.6,
          1517.5,
          1519,
          1520.1,
          1521.2,
          1522.65,
          1522.7,
          1523.4,
          1524.85,
          1525.35,
          1529.45,
          1529.65,
          1530.6,
          1533.8,
          1534.05,
          1536.75,
          1537.85,
          1537.9,
          1538.6,
          1539.75,
          1539.8,
          1540.05,
          1540.2,
          1540.35,
          1545.4,
          1546.3,
          1547.35,
          1548.65,
          1549.75,
          1551.6,
          1553.2,
          1554.9,
          1556.85,
          1558.65,
          1558.7,
          1559.15,
          1559.25,
          1559.3,
          1559.45,
          1563.9,
          1563.95,
          1564.05,
          1564.4,
          1566.75,
          1566.9,
          1567,
          1567.55,
          1570.7,
          1573.05,
          1573.95,
          1574.5,
          1579.7,
          1580.1,
          1581.95,
          1583.5,
          1584.8,
          1588.25,
          1588.7,
          1588.75,
          1593.1,
          1594.75,
          1595.5,
          1596.6,
          1597.05,
          1597.4,
          1600.25,
          1600.95,
          1601.2,
          1601.5,
          1608.15,
          1611,
          1611.15,
          1611.65,
          1612.2,
          1614.05,
          1614.2,
          1614.7,
          1614.9,
          1615.1,
          1618.2,
          1620.2,
          1620.25,
          1620.45,
          1620.8,
          1621.35,
          1623.15,
          1623.4,
          1626.05,
          1626.4,
          1629.2,
          1630.4,
          1633,
          1636.95,
          1637.3,
          1638.7,
          1640,
          1641.3,
          1641.8,
          1642.75,
          1643.25,
          1643.55,
          1646.45,
          1647,
          1648.45,
          1651.95,
          1652.1,
          1652.4,
          1652.95,
          1653.45,
          1653.85,
          1654.45,
          1654.6,
          1654.7,
          1654.75,
          1654.85,
          1655.35,
          1657.4,
          1662.05,
          1663.5,
          1663.75,
          1664.3,
          1665.2,
          1667.25,
          1669.4,
          1671.6,
          1672.1,
          1672.15,
          1672.35,
          1673.4,
          1673.8,
          1677.85,
          1678.05,
          1679.25,
          1679.4,
          1679.65,
          1680.25,
          1681.6,
          1682.05,
          1682.4,
          1683.6,
          1683.7,
          1685.9,
          1686.15,
          1686.85,
          1688.9,
          1689.45,
          1691.9,
          1696.2,
          1697.7,
          1698.55,
          1699.15,
          1700.9,
          1701.65,
          1702.9,
          1706.45,
          1709.1,
          1709.15,
          1710.15,
          1710.9,
          1712.9,
          1713.1,
          1714.55,
          1714.95,
          1715.1,
          1715.15,
          1718.2,
          1718.35,
          1718.95,
          1719.15,
          1723.95,
          1724.15,
          1725,
          1725.4,
          1725.95,
          1728.2,
          1729.35,
          1730.65,
          1732.6,
          1732.95,
          1733.15,
          1734.2,
          1734.5,
          1734.65,
          1737.45,
          1738.9,
          1739.6,
          1740.8,
          1742.45,
          1742.5,
          1743.05,
          1743.9,
          1745.2,
          1745.5,
          1747.2,
          1748.55,
          1748.9,
          1750.7,
          1750.85,
          1752.45,
          1752.65,
          1753,
          1755.35,
          1756.2,
          1756.6,
          1758.9,
          1759.4,
          1759.55,
          1760.25,
          1763.55,
          1764.75,
          1765.95,
          1766.75,
          1769.6,
          1776,
          1776.45,
          1777.6,
          1778.5,
          1778.7,
          1781.35,
          1782,
          1782.05,
          1782.4,
          1783.6,
          1783.75,
          1784.5,
          1784.9,
          1785.65,
          1787.35,
          1789.65,
          1789.9,
          1790.15,
          1790.35,
          1790.6,
          1790.65,
          1790.8,
          1793.25,
          1794.65,
          1794.8,
          1796.55,
          1797.1,
          1797.75,
          1798.65,
          1798.9,
          1799.3,
          1800.05,
          1801.1,
          1801.9,
          1802.15,
          1802.55,
          1803.7,
          1806.35,
          1809.35,
          1810.55,
          1810.85,
          1813.1,
          1813.35,
          1815,
          1815.3,
          1815.65,
          1816.2,
          1816.75,
          1818.3,
          1818.9,
          1820.9,
          1821.2,
          1821.8,
          1821.95,
          1825.5,
          1826.7,
          1830.05,
          1830.1,
          1832.4,
          1834.15,
          1835.3,
          1836.9,
          1837.7,
          1837.9,
          1838.15,
          1840.75,
          1841.2,
          1841.9,
          1842.7,
          1843.05,
          1846.65,
          1847.55,
          1848.8,
          1849.2,
          1849.95,
          1850.65,
          1851.45,
          1856.4,
          1857.25,
          1857.3,
          1857.75,
          1857.85,
          1859.1,
          1859.2,
          1859.5,
          1861.1,
          1862.9,
          1864.2,
          1864.65,
          1866.45,
          1867.6,
          1867.7,
          1868.4,
          1871.15,
          1871.85,
          1872.2,
          1873.7,
          1874.3,
          1874.45,
          1875.25,
          1879.25,
          1882.55,
          1882.8,
          1884.65,
          1885.15,
          1886.25,
          1886.4,
          1887,
          1888.25,
          1888.45,
          1889.5,
          1893.5,
          1898.1,
          1901,
          1901.05,
          1901.25,
          1901.65,
          1902,
          1905.4,
          1905.7,
          1908.35,
          1910.75,
          1911.5,
          1912.15,
          1912.85,
          1914.5,
          1916,
          1916.2,
          1923.5,
          1923.85,
          1924.1,
          1927.3,
          1928.7,
          1929,
          1929.95,
          1930.9,
          1931.3,
          1932.75,
          1936.85,
          1937.4,
          1938.05,
          1938.9,
          1939.35,
          1940.8,
          1940.85,
          1941.5,
          1943.9,
          1948.35,
          1949.4,
          1952.25,
          1952.8,
          1955.4,
          1956.4,
          1957.1,
          1958.45,
          1958.95,
          1959.5,
          1961.6,
          1964.6,
          1968.1,
          1971.15,
          1971.5,
          1972.35,
          1975.85,
          1978.65,
          1980.3,
          1982.1,
          1982.6,
          1983.15,
          1985.15,
          1988.05,
          1990.5,
          1992.2,
          1992.55,
          1992.85,
          1992.95,
          1993.2,
          1993.25,
          2000.2,
          2001,
          2003.6,
          2006.1,
          2006.95,
          2007.25,
          2007.85,
          2010.95,
          2015.8,
          2016.3,
          2016.45,
          2018.1,
          2018.4,
          2019.8,
          2020.9,
          2021.2,
          2021.35,
          2023.55,
          2024.1,
          2025.1,
          2028.8,
          2029.05,
          2030.75,
          2031.95,
          2032.3,
          2033.05,
          2033.85,
          2034.25,
          2036.55,
          2038.7,
          2042.05,
          2044.75,
          2044.95,
          2045.55,
          2048.8,
          2049.05,
          2053.05,
          2054.4,
          2058.5,
          2062.15,
          2065.15,
          2065.4,
          2066,
          2067,
          2070.05,
          2070.75,
          2072.75,
          2075.1,
          2076.05,
          2077.95,
          2078.55,
          2078.95,
          2080.1,
          2083.1,
          2085.45,
          2088.05,
          2088.45,
          2090.25,
          2092.9,
          2093.4,
          2093.9,
          2094.65,
          2094.9,
          2096.1,
          2104.55,
          2106.05,
          2106.3,
          2107.15,
          2108.35,
          2111.3,
          2117.2,
          2117.25,
          2130.45,
          2130.55,
          2134.3,
          2136.9,
          2139.1,
          2142.8,
          2146.5,
          2149.05,
          2151.6,
          2156.25,
          2157.3,
          2157.5,
          2162.6,
          2168.15,
          2168.9,
          2169.4,
          2172.05,
          2180.55,
          2181.55,
          2181.75,
          2184.6,
          2184.85,
          2187.15,
          2188.45,
          2188.5,
          2191.15,
          2191.7,
          2192.9,
          2193,
          2193.2,
          2193.65,
          2196.3,
          2196.45,
          2198.3,
          2198.9,
          2199.05,
          2200.7,
          2201.75,
          2203.1,
          2203.7,
          2204.35,
          2208.05,
          2208.75,
          2209.15,
          2209.75,
          2210.2,
          2211.8,
          2212.55,
          2215,
          2215.25,
          2215.4,
          2215.45,
          2220.1,
          2221.55,
          2224.5,
          2227.8,
          2230.85,
          2234.55,
          2234.95,
          2236.2,
          2237.55,
          2239.4,
          2243.9,
          2244.95,
          2245.4,
          2248.05,
          2249.1,
          2258.25,
          2259.35,
          2263.4,
          2263.45,
          2264.5,
          2265,
          2271.85,
          2272.8,
          2274.1,
          2275.1,
          2276.1,
          2278.75,
          2281.6,
          2282.95,
          2283.15,
          2283.3,
          2288.7,
          2289.9,
          2292.75,
          2296.25,
          2298.55,
          2298.9,
          2301.15,
          2302.35,
          2308.6,
          2309.55,
          2310.2,
          2312.55,
          2313.8,
          2316.85,
          2317.1,
          2320.8,
          2322.85,
          2324.7,
          2326.05,
          2333.05,
          2333.85,
          2337.45,
          2338.35,
          2339.3,
          2341.5,
          2341.55,
          2343.85,
          2344.5,
          2345.55,
          2347.85,
          2348.45,
          2349.8,
          2351.45,
          2356.75,
          2357.75,
          2364,
          2369.3,
          2369.7,
          2375.2,
          2379.1,
          2383.6,
          2386.85,
          2390.45,
          2391.15,
          2395.05,
          2395.7,
          2398.4,
          2401.05,
          2404.1,
          2404.15,
          2404.85,
          2406.1,
          2409.9,
          2413.05,
          2414.55,
          2415.95,
          2419,
          2419.55,
          2421.6,
          2421.75,
          2423.4,
          2424.05,
          2424.45,
          2424.5,
          2425.4,
          2427.1,
          2427.35,
          2429.1,
          2431.95,
          2433.5,
          2434.45,
          2438.6,
          2440.25,
          2441.7,
          2443.3,
          2444.25,
          2447.45,
          2448.5,
          2453.3,
          2455.05,
          2459.8,
          2460.35,
          2460.55,
          2462.55,
          2462.6,
          2471.25,
          2471.6,
          2473.95,
          2475.35,
          2479.05,
          2479.25,
          2483.65,
          2484,
          2490.15,
          2492.25,
          2494.65,
          2495.15,
          2495.2,
          2497.2,
          2509.25,
          2509.95,
          2510.7,
          2511.3,
          2511.55,
          2511.95,
          2513.5,
          2516.2,
          2522.4,
          2531.4,
          2531.8,
          2535.55,
          2536.55,
          2537,
          2538.05,
          2538.2,
          2540.1,
          2545.7,
          2545.75,
          2546.85,
          2548.55,
          2548.65,
          2549.1,
          2552.9,
          2553.35,
          2553.7,
          2554,
          2555.05,
          2560.1,
          2564.95,
          2566.3,
          2568.15,
          2570,
          2570.2,
          2575.45,
          2576.8,
          2583.75,
          2586,
          2588.95,
          2595.25,
          2595.85,
          2599.95,
          2603.1,
          2603.3,
          2603.95,
          2606.35,
          2607.6,
          2610.65,
          2613.4,
          2614.1,
          2618.3,
          2619.15,
          2619.25,
          2621.75,
          2623.65,
          2625.25,
          2626.15,
          2627.2,
          2627.35,
          2633.3,
          2633.4,
          2633.95,
          2635,
          2638.1,
          2640.55,
          2647.1,
          2647.2,
          2651.1,
          2651.2,
          2654.05,
          2656.3,
          2656.7,
          2657.55,
          2658.4,
          2658.8,
          2659.45,
          2661.1,
          2664.3,
          2665,
          2666.75,
          2669.45,
          2673.45,
          2674.15,
          2679.7,
          2680.15,
          2681.15,
          2683.2,
          2684.35,
          2684.85,
          2686.05,
          2688.45,
          2688.85,
          2689.35,
          2692.75,
          2696.55,
          2708.2,
          2715.3,
          2719.2,
          2722.2,
          2723.15,
          2723.4,
          2723.75,
          2724.25,
          2727.3,
          2727.8,
          2730.85,
          2731,
          2737.05,
          2743.45,
          2747.2,
          2748.7,
          2751,
          2753.8,
          2754,
          2762.75,
          2763,
          2763.35,
          2766.4,
          2768.35,
          2768.65,
          2773.9,
          2774.55,
          2779.5,
          2780.6,
          2782.4,
          2789.7,
          2790.65,
          2793.55,
          2796.35,
          2796.45,
          2799,
          2799.75,
          2802.3,
          2807.1,
          2807.65,
          2809.05,
          2813.05,
          2815.25,
          2820.65,
          2823,
          2830.45,
          2832.75,
          2835.5,
          2835.9,
          2838.55,
          2839.45,
          2839.95,
          2845.15,
          2847.2,
          2848.45,
          2852.4,
          2854.95,
          2857.6,
          2861.45,
          2862.55,
          2871.5,
          2874.45,
          2877.05,
          2877.95,
          2878.55,
          2878.75,
          2879.2,
          2879.9,
          2882.25,
          2884.9,
          2888.7,
          2893.4,
          2894.55,
          2896.55,
          2896.6,
          2897.95,
          2898.95,
          2901.8,
          2907.35,
          2907.55,
          2908.2,
          2909.95,
          2911.5,
          2911.8,
          2917.65,
          2919.85,
          2921.75,
          2924.05,
          2928.5,
          2929.75,
          2933.95,
          2936.25,
          2937.65,
          2939.8,
          2948.6,
          2958.95,
          2959.8,
          2960.1,
          2961.4,
          2962,
          2964,
          2964.05,
          2964.8,
          2965.75,
          2966.95,
          2970.3,
          2970.8,
          2971.7,
          2974.5,
          2976.95,
          2979.2,
          2979.3,
          2983.65,
          2985.25,
          2989.6,
          2997.45,
          2998,
          3000.25,
          3003.55,
          3005.8,
          3007.25,
          3008.15,
          3008.55,
          3009.5,
          3011.65,
          3015.75,
          3019.1,
          3019.7,
          3021.3,
          3021.45,
          3023.55,
          3023.65,
          3023.85,
          3024.15,
          3027.25,
          3027.65,
          3035.35,
          3035.8,
          3038.55,
          3042.25,
          3043.6,
          3043.7,
          3045.75,
          3047.15,
          3053,
          3055.5,
          3058.15,
          3058.3,
          3062.45,
          3068.6,
          3069.45,
          3077,
          3082.1,
          3084.9,
          3085.35,
          3088.25,
          3088.75,
          3089.1,
          3089.6,
          3090.05,
          3090.65,
          3091.75,
          3092,
          3094.05,
          3094.65,
          3096.9,
          3097,
          3097.2,
          3103.25,
          3107.3,
          3109.9,
          3112.05,
          3116.15,
          3119.9,
          3121.1,
          3121.4,
          3121.45,
          3122.4,
          3126.45,
          3126.85,
          3128.8,
          3131.55,
          3131.8,
          3132.75,
          3134.7,
          3139.8,
          3141.7,
          3143.65,
          3145.15,
          3145.9,
          3147.15,
          3157,
          3161.2,
          3161.4,
          3161.6,
          3162.65,
          3165.6,
          3166.9,
          3168,
          3168.75,
          3169.55,
          3171.6,
          3173.35,
          3175.85,
          3177.25,
          3180.5,
          3181.8,
          3187.65,
          3190.25,
          3190.65,
          3196,
          3199,
          3204.4,
          3205.6,
          3208.65,
          3210.35,
          3211.2,
          3211.9,
          3213.75,
          3217.65,
          3219.75,
          3221.25,
          3231.05,
          3236.35,
          3237.05,
          3238.4,
          3242.5,
          3244.4,
          3246.45,
          3247.55,
          3249.4,
          3250.45,
          3251.3,
          3251.85,
          3252,
          3254.35,
          3255.35,
          3260.1,
          3263.6,
          3263.9,
          3265.95,
          3268.05,
          3270.25,
          3273.8,
          3273.95,
          3274.35,
          3275.15,
          3281.65,
          3282.75,
          3283.05,
          3292.3,
          3297,
          3301.05,
          3306.85,
          3313.4,
          3314.15,
          3316.1,
          3320.6,
          3320.75,
          3321.35,
          3327.05,
          3330.1,
          3334.9,
          3334.95,
          3339.05,
          3340.55,
          3342,
          3342.45,
          3343.15,
          3344.1,
          3346.8,
          3348.1,
          3349.1,
          3353.4,
          3355.65,
          3357.9,
          3358.65,
          3363.8,
          3364.55,
          3365.4,
          3366.05,
          3369.05,
          3369.25,
          3370.2,
          3371,
          3371.75,
          3373.4,
          3375.9,
          3377.8,
          3379.25,
          3382.3,
          3389.25,
          3398.9,
          3399.85,
          3403.4,
          3409.1,
          3410,
          3410.6,
          3413.25,
          3414.65,
          3415.25,
          3416.85,
          3418.2,
          3419.3,
          3419.5,
          3420.5,
          3423.5,
          3425.35,
          3431.75,
          3435.6,
          3437.45,
          3437.5,
          3439,
          3440.25,
          3442.15,
          3442.8,
          3450.15,
          3452.55,
          3454.6,
          3457.45,
          3460.3,
          3460.95,
          3462.1,
          3465.05,
          3465.7,
          3470.8,
          3471.1,
          3472.05,
          3474.2,
          3478.15,
          3478.75,
          3479.05,
          3480.35,
          3482.85,
          3483.45,
          3486.65,
          3487.95,
          3488.15,
          3491.55,
          3496.3,
          3503.5,
          3505.1,
          3509.4,
          3510.3,
          3512.15,
          3512.5,
          3512.9,
          3517.9,
          3521.7,
          3522.65,
          3527,
          3527.3,
          3529.95,
          3532,
          3532.25,
          3532.85,
          3533.6,
          3539.25,
          3540.65,
          3541.1,
          3541.4,
          3545.05,
          3545.1,
          3548.3,
          3551.65,
          3554.6,
          3557.7,
          3561.15,
          3562.5,
          3565.65,
          3566.6,
          3566.7,
          3571.6,
          3574.5,
          3579.15,
          3580.95,
          3581.4,
          3581.6,
          3582.4,
          3590.2,
          3591.25,
          3593.8,
          3597.5,
          3600.65,
          3603.45,
          3605.6,
          3608,
          3616.25,
          3617.1,
          3618.7,
          3623.95,
          3624.35,
          3625.2,
          3626.35,
          3627.3,
          3629.2,
          3632,
          3634.8,
          3635.15,
          3638.25,
          3641.5,
          3645.05,
          3645.5,
          3645.6,
          3645.75,
          3646.8,
          3649.6,
          3650.35,
          3653,
          3656.25,
          3662.25,
          3665.55,
          3670.5,
          3673.15,
          3673.6,
          3674.95,
          3682.45,
          3684.95,
          3686.05,
          3687.75,
          3687.85,
          3688.6,
          3691.2,
          3694.45,
          3694.7,
          3704.15,
          3707.6,
          3708.4,
          3713.95,
          3720.35,
          3721.9,
          3723.65,
          3725.5,
          3726.15,
          3729.6,
          3729.75,
          3735.45,
          3739.8,
          3741.85,
          3751.15,
          3753.2,
          3756.4,
          3756.45,
          3765.05,
          3766.2,
          3767.4,
          3769.7,
          3770,
          3771.5,
          3772.5,
          3772.65,
          3775.85,
          3778,
          3778.1,
          3778.2,
          3778.85,
          3782.4,
          3784,
          3789.2,
          3791.6,
          3794.5,
          3795.45,
          3801.3,
          3801.7,
          3804.4,
          3808,
          3808.2,
          3810.55,
          3810.8,
          3815.4,
          3822.45,
          3824.2,
          3827.9,
          3829.75,
          3833.95,
          3834.4,
          3835.55,
          3836.3,
          3838.2,
          3838.75,
          3842.6,
          3845.45,
          3846.35,
          3846.75,
          3847.6,
          3848,
          3848.8,
          3851.45,
          3857.1,
          3858.05,
          3861.45,
          3865.45,
          3865.6,
          3870,
          3870.3,
          3871.85,
          3874.1,
          3875.4,
          3876.2,
          3877.65,
          3877.95,
          3880.05,
          3882.3,
          3883.3,
          3886.05,
          3886.45,
          3886.85,
          3887.25,
          3887.85,
          3888.65,
          3893.6,
          3894.4,
          3895.35,
          3899.05,
          3901.25,
          3902.45,
          3902.6,
          3906.7,
          3914.05,
          3915.4,
          3919.15,
          3921.1,
          3921.3,
          3923.8,
          3928.3,
          3930.55,
          3930.6,
          3942.45,
          3944.5,
          3946.9,
          3948.45,
          3949.15,
          3950.85,
          3952.45,
          3952.65,
          3953.15,
          3953.7,
          3954.1,
          3956.7,
          3958.2,
          3958.25,
          3958.85,
          3959.15,
          3965.05,
          3966.3,
          3970.4,
          3972.25,
          3973.2,
          3974.15,
          3974.7,
          3975.7,
          3975.9,
          3983.6,
          3985.35,
          3988.5,
          3990.6,
          3990.75,
          3994.05,
          3996.8,
          4003,
          4003.85,
          4009.2,
          4013.8,
          4014,
          4014.2,
          4014.6,
          4016.2,
          4016.3,
          4016.75,
          4017.45,
          4018.05,
          4018.35,
          4018.55,
          4024.2,
          4025.5,
          4025.6,
          4036,
          4039,
          4039.3,
          4039.5,
          4040.2,
          4040.65,
          4042.2,
          4048.95,
          4052.4,
          4054.2,
          4055.5,
          4059.85,
          4060.55,
          4060.9,
          4063,
          4068,
          4069.9,
          4070.95,
          4079.55,
          4084.35,
          4085.75,
          4089.45,
          4096.9,
          4097.05,
          4103.9,
          4107.25,
          4107.3,
          4108.15,
          4109,
          4111.35,
          4113.15,
          4113.7,
          4116.8,
          4116.9,
          4119.4,
          4122.65,
          4122.9,
          4124.65,
          4126.2,
          4126.35,
          4131.2,
          4133.95,
          4134.7,
          4135,
          4136.4,
          4137.2,
          4138.7,
          4138.9,
          4140.1,
          4144.8,
          4144.9,
          4145.25,
          4145.9,
          4149.45,
          4154.55,
          4155.95,
          4156.8,
          4158.25,
          4159.45,
          4162.05,
          4164.4,
          4166.35,
          4174.35,
          4176.7,
          4178.65,
          4179.1,
          4179.2,
          4188.4,
          4189.7,
          4191.45,
          4192.15,
          4193.4,
          4194.85,
          4200.25,
          4209.95,
          4213.9,
          4214.25,
          4217.8,
          4220.35,
          4222.95,
          4224.7,
          4226.7,
          4228.55,
          4230.25,
          4233.95,
          4234.15,
          4236.6,
          4237.5,
          4238.45,
          4245.55,
          4250.1,
          4254.1,
          4261.2,
          4263.4,
          4263.45,
          4264,
          4264.25,
          4264.6,
          4265,
          4266.4,
          4267.15,
          4275.75,
          4282.4,
          4284.2,
          4284.65,
          4285.8,
          4287.2,
          4295.35,
          4297.6,
          4297.95,
          4298.45,
          4299.2,
          4299.75,
          4299.95,
          4300.45,
          4300.8,
          4303.65,
          4304,
          4304.5,
          4307.1,
          4308.25,
          4309.55,
          4310.35,
          4312.5,
          4317.35,
          4318.35,
          4322.85,
          4323.35,
          4326.25,
          4326.8,
          4327.5,
          4331.4,
          4335.2,
          4345,
          4348.1,
          4354.45,
          4361.55,
          4362.05,
          4368.85,
          4368.95,
          4370.25,
          4370.75,
          4374.55,
          4375.8,
          4378.35,
          4378.8,
          4378.9,
          4385.05,
          4386.2,
          4390.25,
          4391.25,
          4391.45,
          4392.5,
          4408.45,
          4415.75,
          4421.95,
          4422.95,
          4428.45,
          4428.6,
          4433.3,
          4438.2,
          4442.75,
          4445.3,
          4447.55,
          4447.75,
          4448.8,
          4449.75,
          4451.85,
          4453.3,
          4454.25,
          4456.35,
          4456.65,
          4459.15,
          4459.8,
          4461.85,
          4464.8,
          4469.1,
          4473,
          4473.45,
          4475.9,
          4478.85,
          4479.2,
          4480.7,
          4483.95,
          4484.05,
          4487.3,
          4492.9,
          4494.65,
          4495.65,
          4504.9,
          4507.15,
          4508.65,
          4509.5,
          4510.8,
          4513.65,
          4519.5,
          4520.15,
          4523.25,
          4524.05,
          4525.8,
          4526.85,
          4528,
          4532.3,
          4534.45,
          4535.85,
          4539.35,
          4539.6,
          4541.9,
          4542.35,
          4543.15,
          4543.95,
          4546,
          4549.05,
          4549.45,
          4551.5,
          4554.85,
          4555.2,
          4557.5,
          4563,
          4564.9,
          4566.5,
          4575.35,
          4576.3,
          4577.75,
          4577.9,
          4586.15,
          4589.85,
          4590.35,
          4594.65,
          4599.15,
          4600.95,
          4613.95,
          4614.55,
          4615.25,
          4615.9,
          4616.05,
          4616.1,
          4619.55,
          4620.4,
          4627.65,
          4627.8,
          4630.2,
          4631.7,
          4634.35,
          4639.45,
          4641.1,
          4652.4,
          4653.25,
          4657.95,
          4663.4,
          4664.15,
          4664.2,
          4664.5,
          4667,
          4669.2,
          4671.65,
          4671.7,
          4674.4,
          4674.55,
          4676.7,
          4677.1,
          4681.75,
          4684.3,
          4685.55,
          4688.65,
          4689.15,
          4690.65,
          4692.55,
          4692.95,
          4693.2,
          4698.05,
          4707.1,
          4707.85,
          4713.4,
          4719.75,
          4720,
          4729.3,
          4729.75,
          4730.6,
          4730.9,
          4732.35,
          4733.1,
          4735.2,
          4735.35,
          4738.3,
          4738.85,
          4741.45,
          4744.35,
          4746.05,
          4747.2,
          4747.5,
          4747.65,
          4747.85,
          4748.7,
          4753.85,
          4754.3,
          4758.8,
          4759.55,
          4760.3,
          4764,
          4765,
          4779.45,
          4784.45,
          4786.1,
          4786.15,
          4793.8,
          4798.4,
          4801.1,
          4804.65,
          4804.75,
          4805.3,
          4805.65,
          4807.35,
          4807.45,
          4808.7,
          4811.6,
          4818.8,
          4819.75,
          4820.55,
          4824.45,
          4828.05,
          4834,
          4839.15,
          4845.4,
          4847.05,
          4847.35,
          4849.1,
          4854.3,
          4855.35,
          4858.7,
          4859.1,
          4859.25,
          4859.95,
          4860.35,
          4860.85,
          4861.45,
          4862.5,
          4863.85,
          4868.4,
          4869.35,
          4869.5,
          4871.45,
          4872.2,
          4872.35,
          4882.8,
          4884.85,
          4885.85,
          4888.2,
          4889.2,
          4889.3,
          4890.5,
          4891.5,
          4895.1,
          4896.35,
          4900.65,
          4902.8,
          4903.15,
          4903.2,
          4904.2,
          4904.25,
          4904.85,
          4905.75,
          4908.25,
          4911.05,
          4911.35,
          4914.8,
          4914.9,
          4915.15,
          4916.4,
          4916.95,
          4917.75,
          4917.9,
          4919.7,
          4920.55,
          4920.8,
          4921.2,
          4922.4,
          4925.35,
          4929.55,
          4931.8,
          4932.5,
          4939.25,
          4946.05,
          4946.7,
          4947.55,
          4949.1,
          4952.95,
          4953.25,
          4959.15,
          4959.6,
          4964.7,
          4965,
          4965.1,
          4968,
          4972.1,
          4973.4,
          4976.15,
          4977.2,
          4981.15,
          4982.5,
          4983.05,
          4984.85,
          4985.9,
          4991.5,
          4993.4,
          4995.35,
          4997.5,
          5000.05,
          5011.15,
          5012.1,
          5012.35,
          5013,
          5016.25,
          5016.65,
          5017.7,
          5023,
          5025,
          5025.8,
          5025.85,
          5029.05,
          5031,
          5031.85,
          5032.25,
          5034.05,
          5036.9,
          5038.15,
          5038.45,
          5040.2,
          5042.75,
          5043.2,
          5044.8,
          5059.75,
          5060.85,
          5060.9,
          5064.45,
          5064.85,
          5067.45,
          5068.05,
          5070.4,
          5071.9,
          5073.1,
          5083.55,
          5088.4,
          5099.15,
          5102.35,
          5116.6,
          5121.75,
          5125.5,
          5125.75,
          5129.3,
          5129.45,
          5135.15,
          5135.35,
          5138.1,
          5139.65,
          5150.55,
          5153.5,
          5154.5,
          5163,
          5163.3,
          5165.7,
          5166.2,
          5168.1,
          5174.35,
          5175.3,
          5186,
          5189.75,
          5193.2,
          5194.05,
          5196.1,
          5199.8,
          5200.8,
          5206.55,
          5212.65,
          5215.1,
          5215.25,
          5219.65,
          5222.3,
          5222.35,
          5224.5,
          5224.95,
          5229.45,
          5229.8,
          5231.2,
          5231.3,
          5232.9,
          5233.25,
          5234.95,
          5236.4,
          5237.4,
          5243.05,
          5244.45,
          5251.75,
          5253.95,
          5264.25,
          5264.3,
          5264.5,
          5265.2,
          5265.5,
          5265.55,
          5270.6,
          5276.1,
          5289.05,
          5289.8,
          5290.45,
          5294.6,
          5295.7,
          5299.65,
          5301.1,
          5305.05,
          5308.7,
          5309.5,
          5311.85,
          5315.1,
          5315.8,
          5317.8,
          5321.25,
          5324.5,
          5327.25,
          5329,
          5329.55,
          5330.2,
          5333.35,
          5336.35,
          5347.95,
          5348.65,
          5357.75,
          5360.75,
          5364.8,
          5375.15,
          5376.4,
          5377.8,
          5386.5,
          5388.15,
          5396.25,
          5398.6,
          5401.9,
          5405.8,
          5409.75,
          5411.4,
          5411.65,
          5420.65,
          5424.25,
          5430.35,
          5430.65,
          5431.4,
          5431.9,
          5432.2,
          5435,
          5436.45,
          5437.1,
          5437.75,
          5438.95,
          5442.05,
          5443.65,
          5445.95,
          5448.6,
          5450.7,
          5458.8,
          5459.2,
          5460.2,
          5461.45,
          5468.45,
          5468.95,
          5471.75,
          5475.9,
          5480.25,
          5481.25,
          5483.9,
          5484.4,
          5487,
          5496.9,
          5497.05,
          5498.2,
          5498.8,
          5500.6,
          5502.55,
          5511.65,
          5514.95,
          5515.45,
          5515.8,
          5522.7,
          5526.75,
          5528.9,
          5535.8,
          5536.5,
          5538.35,
          5538.8,
          5542.55,
          5550.1,
          5552.05,
          5552.5,
          5553.25,
          5555.3,
          5560,
          5563.65,
          5564.85,
          5566.4,
          5567.45,
          5567.55,
          5574.35,
          5576.3,
          5580.8,
          5581.05,
          5585.4,
          5586.45,
          5588.8,
          5589.3,
          5589.45,
          5594,
          5595.3,
          5597.65,
          5598,
          5598.3,
          5600.15,
          5601.4,
          5602.25,
          5607.75,
          5608.4,
          5610.15,
          5611.7,
          5611.75,
          5617.95,
          5618.3,
          5621.85,
          5623.7,
          5625.55,
          5629.15,
          5629.55,
          5632.55,
          5637.85,
          5645.8,
          5646.6,
          5647.95,
          5655.45,
          5656.75,
          5661.7,
          5662.25,
          5669.5,
          5673.7,
          5676,
          5676.65,
          5680.9,
          5681.1,
          5682.25,
          5683.6,
          5686.4,
          5688.45,
          5692.65,
          5696.6,
          5703,
          5703.25,
          5705.05,
          5706.2,
          5706.3,
          5708.2,
          5711.05,
          5714.2,
          5714.25,
          5717.85,
          5718.2,
          5720.35,
          5720.95,
          5727.15,
          5727.45,
          5728.55,
          5730.15,
          5730.7,
          5731.4,
          5731.45,
          5731.85,
          5733.4,
          5737.6,
          5743.3,
          5744.35,
          5746.75,
          5749.8,
          5750,
          5753.25,
          5755.8,
          5757.2,
          5760.65,
          5762.95,
          5763.15,
          5764.7,
          5774.55,
          5776.45,
          5779.6,
          5780.7,
          5784.3,
          5785.65,
          5791.1,
          5791.85,
          5794.45,
          5798.3,
          5809.75,
          5810.9,
          5811.8,
          5812,
          5815.15,
          5817,
          5817.45,
          5817.7,
          5822.3,
          5824.75,
          5825.5,
          5826.65,
          5831.2,
          5832,
          5832.65,
          5835.5,
          5839.3,
          5841.35,
          5844.65,
          5846.65,
          5848.6,
          5860.7,
          5861.75,
          5867,
          5869.4,
          5873.75,
          5878.9,
          5882.75,
          5883.85,
          5886.85,
          5890,
          5893.9,
          5893.95,
          5894.5,
          5895.45,
          5897.4,
          5898.6,
          5899.85,
          5903.15,
          5913.95,
          5914.4,
          5916.95,
          5917.55,
          5919.35,
          5924.4,
          5925.75,
          5930.05,
          5931,
          5931.75,
          5935.1,
          5936.55,
          5941.05,
          5943.65,
          5948.7,
          5950.2,
          5953,
          5956.85,
          5957.9,
          5958.85,
          5959.3,
          5960.5,
          5963.95,
          5965.95,
          5968.4,
          5969.3,
          5969.85,
          5969.95,
          5971.25,
          5974.3,
          5976.9,
          5979.7,
          5980.55,
          5980.75,
          5981.65,
          5985,
          5985.75,
          5986.45,
          5986.55,
          5991.05,
          5997.1,
          5999.85,
          6000.1,
          6001.45,
          6004.85,
          6017.9,
          6018.65,
          6019.35,
          6028.95,
          6029,
          6029.9,
          6033.1,
          6033.3,
          6034.85,
          6038.55,
          6042.7,
          6045.9,
          6046.1,
          6049.5,
          6052.25,
          6055.55,
          6056.9,
          6058.95,
          6065.3,
          6066.55,
          6067.4,
          6068.65,
          6069.25,
          6075.9,
          6077.75,
          6078.75,
          6079,
          6081.4,
          6083.1,
          6093.3,
          6094.25,
          6096.45,
          6096.9,
          6109.65,
          6109.75,
          6110.75,
          6118.95,
          6126.1,
          6126.15,
          6129.2,
          6129.65,
          6130.85,
          6130.95,
          6132.7,
          6139.5,
          6140.85,
          6141.65,
          6145.2,
          6148.45,
          6151.9,
          6152.3,
          6152.4,
          6153.85,
          6155.4,
          6157.6,
          6161.9,
          6164.7,
          6171.2,
          6172,
          6176.6,
          6179.35,
          6185.15,
          6185.8,
          6194.1,
          6201.95,
          6218.45,
          6223.3,
          6223.8,
          6224.8,
          6225.4,
          6227.5,
          6230.1,
          6236.75,
          6237.05,
          6239.05,
          6241.35,
          6252.7,
          6253,
          6254.45,
          6256.2,
          6263.8,
          6273.4,
          6287.3,
          6292.7,
          6293.2,
          6293.45,
          6293.75,
          6296.75,
          6297.65,
          6300.15,
          6300.85,
          6301.7,
          6302.8,
          6302.85,
          6306.5,
          6309.65,
          6310.9,
          6311.2,
          6312.9,
          6314.35,
          6316.2,
          6322.1,
          6325.25,
          6328.7,
          6330.4,
          6332.75,
          6333.4,
          6333.8,
          6339.3,
          6339.45,
          6342.7,
          6347.55,
          6350.5,
          6352.4,
          6362.35,
          6363.45,
          6365.35,
          6367.2,
          6368.2,
          6369.45,
          6373.1,
          6375.2,
          6375.8,
          6376.55,
          6382,
          6382.55,
          6383.9,
          6385.95,
          6388.65,
          6392.85,
          6393.65,
          6397.6,
          6398.05,
          6401.25,
          6404,
          6411.25,
          6416.7,
          6423,
          6424.25,
          6424.7,
          6425.65,
          6430.9,
          6431.05,
          6435.25,
          6441.85,
          6444.05,
          6448.85,
          6449.15,
          6457.15,
          6460.55,
          6463.15,
          6468.6,
          6470.1,
          6471.85,
          6474.4,
          6474.45,
          6479.4,
          6480.9,
          6487.2,
          6496.15,
          6501.35,
          6503.2,
          6506.15,
          6510.45,
          6511.25,
          6511.8,
          6518.35,
          6519.75,
          6520.8,
          6521.9,
          6526.65,
          6536.5,
          6538.45,
          6548.65,
          6549.45,
          6555.2,
          6557.75,
          6561.25,
          6562.9,
          6563.4,
          6565.85,
          6567.9,
          6572.85,
          6578.55,
          6585.2,
          6586.85,
          6588.95,
          6589.6,
          6590.5,
          6590.8,
          6595,
          6595.9,
          6597.25,
          6602.9,
          6603.8,
          6605.55,
          6613.65,
          6614.9,
          6631.85,
          6632.75,
          6637.9,
          6638.35,
          6640.7,
          6643.5,
          6652.45,
          6654.1,
          6668,
          6668.05,
          6668.35,
          6669.05,
          6669.45,
          6671.7,
          6674.65,
          6683.4,
          6687.85,
          6688.1,
          6688.95,
          6689,
          6690.75,
          6692.65,
          6697.2,
          6697.35,
          6700.05,
          6703.5,
          6705.7,
          6707.15,
          6713.2,
          6716.45,
          6717.9,
          6719.9,
          6721.6,
          6725.3,
          6725.5,
          6733,
          6733.15,
          6735.05,
          6741.15,
          6743.55,
          6744.2,
          6744.25,
          6747.35,
          6751.35,
          6754.35,
          6758.45,
          6766.95,
          6767.1,
          6770.5,
          6770.85,
          6779.05,
          6780.1,
          6782.15,
          6786.1,
          6792.45,
          6794.75,
          6812.95,
          6816.95,
          6819.45,
          6823.4,
          6825.65,
          6827.5,
          6838.6,
          6840.95,
          6841.05,
          6841.3,
          6841.4,
          6841.45,
          6843.15,
          6844.5,
          6849.4,
          6849.75,
          6856.45,
          6856.95,
          6858.9,
          6859.05,
          6860.6,
          6869.7,
          6871.7,
          6875.35,
          6880.85,
          6885.75,
          6889.8,
          6891.4,
          6891.45,
          6895.5,
          6910.3,
          6912.7,
          6914.95,
          6921.7,
          6925.9,
          6929.4,
          6936.85,
          6944.5,
          6951.15,
          6953.4,
          6954.15,
          6962.85,
          6976.75,
          6982.5,
          6989.45,
          6989.7,
          6991.6,
          6991.9,
          6993.65,
          6994.6,
          6994.8,
          6997.3,
          6998.95,
          7002.95,
          7008.15,
          7009.5,
          7015.9,
          7028.5,
          7030.65,
          7031.3,
          7031.45,
          7035.6,
          7039.05,
          7039.45,
          7047.5,
          7049.5,
          7049.75,
          7051.95,
          7053.35,
          7061.65,
          7069.25,
          7069.3,
          7074.4,
          7076.35,
          7082.45,
          7082.5,
          7082.85,
          7085.5,
          7099,
          7104.2,
          7107,
          7108.2,
          7110.75,
          7111.3,
          7112.15,
          7113.75,
          7114.25,
          7118.9,
          7129.45,
          7132.15,
          7133.1,
          7133.45,
          7138.65,
          7142.5,
          7149.35,
          7159.05,
          7159.7,
          7168.25,
          7171.7,
          7173.15,
          7181.25,
          7181.95,
          7188.5,
          7195.35,
          7209,
          7210.85,
          7213.75,
          7222.75,
          7227.45,
          7234.8,
          7238.6,
          7240.65,
          7244.7,
          7245.9,
          7246.15,
          7251.7,
          7251.9,
          7261.25,
          7261.75,
          7266.95,
          7279.35,
          7281.6,
          7283.25,
          7285.7,
          7288.4,
          7291.75,
          7297.75,
          7303.05,
          7308.95,
          7317.1,
          7320.9,
          7321.05,
          7322.5,
          7323.15,
          7325.1,
          7332.4,
          7334.05,
          7337.55,
          7344.45,
          7346.2,
          7349.35,
          7362.9,
          7365.3,
          7365.7,
          7379.8,
          7382.25,
          7382.85,
          7383.7,
          7386.05,
          7388.45,
          7396.15,
          7397,
          7405.5,
          7412.25,
          7413.55,
          7422.1,
          7430.75,
          7447.7,
          7455.45,
          7459,
          7459.05,
          7467.5,
          7467.55,
          7470.1,
          7472.15,
          7475.1,
          7475.85,
          7493.05,
          7508.55,
          7511.3,
          7511.65,
          7511.9,
          7517.7,
          7521.95,
          7530.8,
          7537.5,
          7542.25,
          7544,
          7544.3,
          7548.6,
          7550.3,
          7553.6,
          7554.05,
          7555,
          7556.9,
          7559.55,
          7565.35,
          7567.2,
          7576.7,
          7578.05,
          7581.5,
          7589.8,
          7609.75,
          7610.1,
          7611.55,
          7616,
          7623.2,
          7624.2,
          7629.85,
          7634.25,
          7634.8,
          7657.4,
          7658.3,
          7661.8,
          7665.8,
          7677.4,
          7679.65,
          7689.8,
          7707.7,
          7711.25,
          7711.45,
          7713.55,
          7714.65,
          7719.5,
          7726.35,
          7732.65,
          7737.55,
          7746.7,
          7748.75,
          7751.7,
          7752.05,
          7758.9,
          7767.25,
          7774.05,
          7782.85,
          7789.6,
          7795.95,
          7806.5,
          7806.6,
          7839.85,
          7840.6,
          7842.3,
          7843.55,
          7845.8,
          7848.5,
          7849.85,
          7852.4,
          7853.7,
          7854.15,
          7854.9,
          7862.25,
          7869.05,
          7875,
          7878.3,
          7880.25,
          7881.2,
          7882.25,
          7882.5,
          7887.25,
          7895.15,
          7898.45,
          7904.25,
          7919.8,
          7920.7,
          7922.75,
          7930.55,
          7932.5,
          7939.25,
          7942.15,
          7943.45,
          7953.25,
          7962.2,
          7965.95,
          7966.9,
          7982.5,
          7984.15,
          7985.9,
          7987.6,
          7990.05,
          7993.3,
          7998.8,
          8003.8,
          8012.75,
          8013.55,
          8016.6,
          8022.85,
          8033.1,
          8035.95,
          8041.65,
          8046.85,
          8058.55,
          8058.85,
          8061.5,
          8065.65,
          8071.05,
          8075.35,
          8078.1,
          8086.4,
          8093.15,
          8100.25,
          8100.55,
          8124.2,
          8126.65,
          8129.3,
          8152.3,
          8164.1,
          8165.1,
          8166.8,
          8175.9,
          8182.75,
          8182.85,
          8192.6,
          8196.4,
          8220.4,
          8240.85,
          8244.3,
          8248.5,
          8250,
          8277.05,
          8289.2,
          8297.5,
          8306.05,
          8308.9,
          8309.55,
          8310.55,
          8312.4,
          8312.75,
          8317.95,
          8331.95,
          8332.15,
          8333.95,
          8337.45,
          8349.45,
          8349.7,
          8375.05,
          8399.15,
          8404.9,
          8405,
          8424.9,
          8425.15,
          8425.3,
          8436.25,
          8443.7,
          8456.75,
          8468.2,
          8476.5,
          8477.6,
          8477.7,
          8496.7,
          8529.5,
          8543.25,
          8547.15,
          8564.75,
          8594.4,
          8670.1,
          8672.45
         ],
         "xaxis": "x",
         "y": [
          1,
          1,
          1,
          1,
          1,
          2,
          1,
          4,
          2,
          2,
          3,
          3,
          3,
          6,
          6,
          1,
          7,
          1,
          3,
          4,
          2,
          2,
          6,
          2,
          5,
          4,
          4,
          4,
          3,
          5,
          1,
          1,
          1,
          2,
          1,
          2,
          1,
          1,
          1,
          1,
          1,
          1,
          1,
          3,
          2,
          1,
          1,
          1,
          2,
          1,
          1,
          1,
          1,
          1,
          1,
          1,
          1,
          1,
          1,
          1,
          1,
          1,
          2,
          2,
          1,
          1,
          1,
          1,
          1,
          1,
          1,
          1,
          1,
          1,
          1,
          1,
          1,
          1,
          1,
          1,
          1,
          1,
          1,
          1,
          1,
          1,
          1,
          1,
          1,
          1,
          1,
          4,
          1,
          1,
          1,
          1,
          1,
          1,
          2,
          1,
          3,
          1,
          1,
          1,
          1,
          1,
          1,
          1,
          2,
          1,
          1,
          1,
          1,
          1,
          1,
          1,
          1,
          1,
          1,
          1,
          1,
          1,
          1,
          1,
          1,
          1,
          1,
          1,
          1,
          1,
          1,
          1,
          1,
          2,
          1,
          3,
          1,
          1,
          1,
          3,
          2,
          1,
          2,
          1,
          1,
          1,
          2,
          1,
          1,
          1,
          1,
          1,
          1,
          1,
          1,
          1,
          2,
          1,
          1,
          1,
          2,
          1,
          1,
          2,
          1,
          1,
          1,
          1,
          1,
          2,
          2,
          1,
          1,
          1,
          1,
          1,
          1,
          1,
          1,
          1,
          1,
          1,
          1,
          1,
          1,
          1,
          1,
          1,
          1,
          1,
          1,
          1,
          1,
          1,
          1,
          1,
          1,
          1,
          2,
          1,
          1,
          1,
          1,
          1,
          1,
          1,
          1,
          1,
          1,
          1,
          1,
          2,
          1,
          1,
          1,
          1,
          1,
          1,
          1,
          1,
          1,
          1,
          1,
          1,
          1,
          1,
          1,
          1,
          1,
          1,
          1,
          1,
          1,
          1,
          2,
          1,
          1,
          1,
          2,
          2,
          1,
          1,
          1,
          1,
          1,
          2,
          1,
          2,
          1,
          1,
          1,
          1,
          1,
          1,
          1,
          1,
          2,
          1,
          1,
          1,
          1,
          1,
          1,
          2,
          1,
          1,
          1,
          1,
          1,
          1,
          1,
          1,
          1,
          1,
          2,
          2,
          1,
          1,
          1,
          1,
          1,
          1,
          1,
          1,
          1,
          1,
          1,
          1,
          1,
          1,
          1,
          1,
          1,
          1,
          1,
          1,
          1,
          1,
          1,
          1,
          1,
          1,
          1,
          1,
          1,
          1,
          1,
          1,
          1,
          1,
          1,
          1,
          1,
          1,
          2,
          1,
          1,
          1,
          1,
          1,
          1,
          1,
          1,
          2,
          1,
          1,
          1,
          1,
          1,
          1,
          1,
          1,
          1,
          1,
          1,
          1,
          1,
          1,
          1,
          1,
          2,
          1,
          1,
          1,
          1,
          1,
          1,
          2,
          1,
          1,
          1,
          2,
          1,
          1,
          1,
          2,
          1,
          1,
          1,
          1,
          1,
          1,
          1,
          1,
          1,
          1,
          1,
          1,
          1,
          1,
          1,
          1,
          1,
          1,
          1,
          1,
          1,
          1,
          1,
          1,
          1,
          1,
          1,
          1,
          1,
          1,
          1,
          1,
          1,
          1,
          1,
          1,
          1,
          2,
          1,
          1,
          1,
          1,
          1,
          1,
          1,
          1,
          1,
          1,
          1,
          1,
          1,
          1,
          1,
          1,
          1,
          1,
          1,
          1,
          1,
          1,
          1,
          2,
          1,
          1,
          1,
          1,
          1,
          1,
          1,
          1,
          1,
          2,
          1,
          1,
          1,
          1,
          1,
          1,
          1,
          1,
          1,
          1,
          1,
          1,
          1,
          1,
          1,
          1,
          1,
          1,
          1,
          1,
          1,
          1,
          1,
          1,
          1,
          1,
          1,
          1,
          1,
          1,
          1,
          1,
          1,
          1,
          1,
          1,
          1,
          1,
          1,
          1,
          1,
          1,
          1,
          1,
          1,
          1,
          1,
          1,
          1,
          1,
          2,
          1,
          1,
          1,
          1,
          1,
          1,
          1,
          1,
          1,
          1,
          1,
          1,
          1,
          1,
          1,
          1,
          1,
          1,
          1,
          1,
          1,
          1,
          1,
          2,
          2,
          1,
          1,
          1,
          1,
          1,
          1,
          1,
          1,
          1,
          1,
          1,
          1,
          1,
          1,
          1,
          1,
          1,
          1,
          1,
          1,
          1,
          1,
          1,
          1,
          1,
          1,
          1,
          1,
          1,
          1,
          3,
          1,
          1,
          1,
          1,
          1,
          1,
          1,
          1,
          1,
          1,
          1,
          1,
          1,
          1,
          1,
          1,
          1,
          1,
          1,
          1,
          1,
          1,
          1,
          1,
          1,
          1,
          1,
          1,
          1,
          1,
          1,
          1,
          1,
          1,
          1,
          2,
          1,
          1,
          1,
          1,
          1,
          1,
          1,
          1,
          1,
          2,
          1,
          1,
          1,
          1,
          1,
          1,
          1,
          1,
          1,
          1,
          1,
          1,
          2,
          1,
          1,
          1,
          2,
          1,
          1,
          1,
          1,
          1,
          1,
          1,
          1,
          1,
          1,
          1,
          1,
          2,
          1,
          1,
          1,
          1,
          1,
          1,
          1,
          1,
          1,
          1,
          1,
          1,
          1,
          1,
          1,
          1,
          1,
          1,
          1,
          1,
          1,
          1,
          1,
          1,
          1,
          1,
          1,
          1,
          1,
          1,
          1,
          1,
          1,
          2,
          1,
          1,
          1,
          1,
          1,
          1,
          1,
          1,
          2,
          1,
          1,
          1,
          1,
          2,
          1,
          1,
          1,
          1,
          1,
          1,
          1,
          1,
          1,
          1,
          1,
          1,
          1,
          1,
          1,
          1,
          1,
          1,
          1,
          1,
          1,
          1,
          1,
          1,
          1,
          1,
          1,
          1,
          1,
          1,
          1,
          1,
          1,
          1,
          1,
          1,
          1,
          1,
          1,
          1,
          2,
          1,
          1,
          1,
          1,
          1,
          1,
          1,
          1,
          1,
          1,
          1,
          1,
          1,
          1,
          1,
          1,
          1,
          1,
          1,
          1,
          1,
          1,
          1,
          1,
          1,
          1,
          1,
          1,
          1,
          1,
          1,
          1,
          2,
          1,
          1,
          1,
          1,
          1,
          1,
          1,
          1,
          1,
          1,
          1,
          1,
          1,
          1,
          1,
          1,
          1,
          1,
          1,
          2,
          1,
          1,
          1,
          1,
          1,
          1,
          1,
          1,
          1,
          1,
          1,
          1,
          1,
          1,
          2,
          1,
          1,
          1,
          1,
          1,
          2,
          1,
          1,
          1,
          1,
          1,
          1,
          1,
          1,
          2,
          1,
          1,
          1,
          1,
          1,
          1,
          1,
          2,
          1,
          1,
          1,
          1,
          1,
          1,
          1,
          1,
          1,
          1,
          1,
          1,
          1,
          1,
          1,
          1,
          1,
          1,
          1,
          1,
          1,
          1,
          1,
          1,
          1,
          1,
          1,
          1,
          1,
          1,
          1,
          1,
          1,
          1,
          1,
          1,
          1,
          1,
          1,
          1,
          1,
          2,
          1,
          1,
          3,
          1,
          1,
          1,
          1,
          1,
          1,
          1,
          1,
          1,
          1,
          1,
          1,
          1,
          1,
          1,
          1,
          1,
          1,
          1,
          1,
          2,
          1,
          1,
          1,
          1,
          1,
          1,
          1,
          1,
          1,
          1,
          1,
          1,
          1,
          1,
          1,
          1,
          1,
          1,
          1,
          1,
          1,
          1,
          1,
          1,
          1,
          1,
          1,
          1,
          1,
          1,
          1,
          1,
          1,
          1,
          1,
          1,
          1,
          1,
          1,
          1,
          1,
          1,
          1,
          1,
          1,
          1,
          1,
          1,
          1,
          1,
          1,
          1,
          1,
          1,
          1,
          1,
          1,
          1,
          1,
          1,
          1,
          1,
          1,
          1,
          1,
          1,
          1,
          1,
          1,
          1,
          1,
          1,
          1,
          1,
          1,
          1,
          1,
          1,
          1,
          1,
          1,
          1,
          1,
          1,
          1,
          1,
          1,
          1,
          1,
          1,
          1,
          1,
          1,
          1,
          1,
          1,
          1,
          1,
          1,
          1,
          1,
          1,
          1,
          1,
          1,
          1,
          1,
          1,
          1,
          1,
          1,
          1,
          1,
          1,
          2,
          1,
          1,
          1,
          1,
          1,
          2,
          1,
          1,
          3,
          1,
          1,
          1,
          1,
          1,
          1,
          1,
          1,
          1,
          2,
          1,
          1,
          1,
          1,
          1,
          1,
          1,
          1,
          1,
          1,
          1,
          1,
          1,
          1,
          1,
          1,
          1,
          1,
          1,
          1,
          2,
          1,
          1,
          1,
          1,
          1,
          1,
          1,
          1,
          2,
          1,
          1,
          1,
          1,
          1,
          1,
          1,
          1,
          1,
          1,
          1,
          1,
          1,
          1,
          1,
          1,
          1,
          1,
          1,
          2,
          1,
          1,
          1,
          1,
          1,
          1,
          1,
          1,
          1,
          2,
          1,
          1,
          1,
          1,
          1,
          1,
          1,
          1,
          1,
          1,
          1,
          1,
          1,
          1,
          1,
          1,
          1,
          1,
          1,
          1,
          1,
          1,
          1,
          1,
          1,
          1,
          1,
          1,
          1,
          1,
          1,
          1,
          1,
          1,
          1,
          1,
          1,
          1,
          1,
          1,
          1,
          1,
          1,
          1,
          1,
          1,
          1,
          1,
          1,
          1,
          1,
          1,
          1,
          1,
          1,
          1,
          1,
          1,
          1,
          1,
          1,
          1,
          1,
          1,
          1,
          1,
          1,
          1,
          1,
          1,
          1,
          1,
          1,
          2,
          1,
          1,
          1,
          1,
          1,
          1,
          1,
          1,
          1,
          1,
          1,
          1,
          1,
          1,
          1,
          1,
          1,
          1,
          1,
          1,
          1,
          1,
          1,
          1,
          1,
          1,
          1,
          1,
          1,
          2,
          1,
          1,
          1,
          1,
          1,
          1,
          1,
          1,
          1,
          2,
          1,
          1,
          1,
          1,
          1,
          1,
          1,
          1,
          1,
          1,
          1,
          1,
          1,
          1,
          2,
          1,
          1,
          1,
          1,
          1,
          1,
          1,
          1,
          1,
          1,
          1,
          1,
          1,
          1,
          1,
          1,
          1,
          1,
          1,
          1,
          1,
          1,
          1,
          1,
          1,
          1,
          1,
          1,
          1,
          1,
          1,
          1,
          1,
          1,
          1,
          1,
          1,
          1,
          1,
          1,
          1,
          1,
          1,
          1,
          1,
          1,
          1,
          1,
          1,
          1,
          1,
          1,
          1,
          1,
          1,
          1,
          1,
          1,
          1,
          1,
          1,
          1,
          1,
          1,
          1,
          1,
          1,
          1,
          1,
          1,
          1,
          1,
          1,
          1,
          1,
          1,
          2,
          1,
          1,
          1,
          1,
          1,
          1,
          1,
          1,
          1,
          1,
          1,
          1,
          1,
          1,
          1,
          1,
          1,
          1,
          1,
          1,
          1,
          1,
          1,
          2,
          1,
          1,
          1,
          1,
          1,
          1,
          1,
          1,
          1,
          1,
          1,
          1,
          1,
          1,
          1,
          1,
          1,
          1,
          1,
          1,
          1,
          1,
          1,
          1,
          1,
          1,
          1,
          1,
          1,
          1,
          1,
          1,
          1,
          1,
          1,
          1,
          1,
          1,
          1,
          1,
          1,
          1,
          1,
          1,
          1,
          1,
          1,
          1,
          1,
          1,
          1,
          1,
          1,
          1,
          1,
          1,
          1,
          1,
          1,
          1,
          1,
          1,
          1,
          1,
          1,
          1,
          1,
          1,
          1,
          1,
          1,
          1,
          1,
          1,
          1,
          1,
          1,
          1,
          1,
          1,
          1,
          1,
          1,
          1,
          1,
          1,
          1,
          1,
          1,
          1,
          1,
          1,
          1,
          1,
          1,
          1,
          1,
          1,
          1,
          1,
          1,
          1,
          1,
          1,
          1,
          1,
          1,
          1,
          1,
          1,
          1,
          1,
          1,
          1,
          1,
          1,
          1,
          1,
          1,
          1,
          1,
          1,
          1,
          1,
          1,
          1,
          1,
          1,
          1,
          1,
          1,
          1,
          1,
          1,
          1,
          1,
          1,
          1,
          1,
          1,
          1,
          1,
          1,
          1,
          1,
          1,
          1,
          1,
          1,
          1,
          1,
          1,
          1,
          1,
          1,
          1,
          1,
          1,
          1,
          1,
          1,
          1,
          1,
          1,
          1,
          1,
          1,
          1,
          1,
          1,
          1,
          2,
          1,
          1,
          1,
          1,
          1,
          1,
          1,
          1,
          1,
          1,
          1,
          1,
          1,
          1,
          1,
          1,
          1,
          1,
          1,
          1,
          1,
          1,
          1,
          1,
          2,
          1,
          1,
          1,
          1,
          1,
          1,
          1,
          2,
          1,
          1,
          1,
          1,
          1,
          1,
          2,
          1,
          1,
          1,
          1,
          1,
          2,
          1,
          1,
          1,
          1,
          1,
          1,
          1,
          1,
          1,
          1,
          1,
          1,
          1,
          1,
          1,
          1,
          1,
          1,
          2,
          1,
          1,
          1,
          1,
          1,
          1,
          1,
          1,
          1,
          1,
          1,
          1,
          1,
          1,
          1,
          1,
          1,
          1,
          1,
          1,
          1,
          1,
          1,
          1,
          1,
          1,
          1,
          1,
          1,
          1,
          1,
          1,
          1,
          1,
          1,
          1,
          1,
          1,
          1,
          1,
          1,
          1,
          1,
          1,
          1,
          1,
          1,
          1,
          1,
          1,
          1,
          1,
          1,
          1,
          1,
          1,
          1,
          1,
          1,
          1,
          1,
          1,
          1,
          1,
          1,
          1,
          1,
          1,
          1,
          1,
          1,
          1,
          1,
          1,
          1,
          1,
          1,
          1,
          1,
          1,
          1,
          1,
          1,
          1,
          1,
          1,
          1,
          1,
          1,
          1,
          1,
          1,
          1,
          1,
          1,
          1,
          1,
          1,
          1,
          1,
          1,
          1,
          1,
          1,
          1,
          1,
          1,
          1,
          1,
          1,
          1,
          1,
          1,
          1,
          1,
          1,
          1,
          1,
          1,
          1,
          1,
          1,
          1,
          1,
          1,
          1,
          1,
          1,
          1,
          1,
          1,
          1,
          1,
          1,
          1,
          1,
          1,
          1,
          2,
          1,
          1,
          1,
          1,
          1,
          1,
          1,
          1,
          1,
          1,
          1,
          1,
          1,
          1,
          1,
          1,
          1,
          1,
          1,
          1,
          1,
          1,
          1,
          1,
          1,
          1,
          1,
          1,
          1,
          1,
          1,
          1,
          1,
          1,
          1,
          1,
          1,
          1,
          1,
          1,
          1,
          1,
          1,
          1,
          1,
          1,
          1,
          1,
          1,
          1,
          2,
          1,
          1,
          1,
          1,
          1,
          1,
          1,
          1,
          1,
          1,
          1,
          1,
          1,
          1,
          1,
          1,
          1,
          1,
          1,
          1,
          1,
          1,
          1,
          1,
          1,
          1,
          1,
          1,
          1,
          1,
          1,
          1,
          1,
          1,
          1,
          1,
          1,
          2,
          1,
          1,
          1,
          1,
          1,
          1,
          1,
          1,
          1,
          1,
          1,
          1,
          1,
          1,
          1,
          1,
          1,
          1,
          1,
          1,
          1,
          1,
          1,
          1,
          1,
          1,
          1,
          1,
          1,
          1,
          1,
          1,
          1,
          1,
          1,
          1,
          1,
          1,
          1,
          1,
          1,
          1,
          1,
          1,
          1,
          1,
          1,
          1,
          1,
          1,
          1,
          1,
          1,
          2,
          1,
          1,
          1,
          1,
          1,
          1,
          1,
          1,
          1,
          1,
          1,
          1,
          1,
          1,
          1,
          1,
          1,
          1,
          1,
          1,
          1,
          1,
          1,
          1,
          1,
          1,
          1,
          1,
          1,
          1,
          1,
          1,
          1,
          1,
          1,
          1,
          1,
          1,
          1,
          1,
          1,
          1,
          1,
          1,
          1,
          1,
          1,
          1,
          2,
          1,
          1,
          1,
          1,
          1,
          1,
          1,
          1,
          1,
          1,
          1,
          1,
          1,
          1,
          1,
          1,
          1,
          1,
          1,
          1,
          1,
          2,
          1,
          1,
          1,
          1,
          1,
          1,
          1,
          1,
          1,
          1,
          1,
          1,
          1,
          1,
          1,
          1,
          1,
          1,
          1,
          1,
          1,
          1,
          2,
          1,
          1,
          1,
          1,
          1,
          1,
          1,
          1,
          1,
          1,
          1,
          1,
          1,
          1,
          1,
          1,
          1,
          1,
          1,
          2,
          1,
          1,
          1,
          1,
          1,
          1,
          1,
          1,
          1,
          1,
          1,
          1,
          1,
          1,
          1,
          1,
          1,
          1,
          1,
          1,
          1,
          1,
          1,
          1,
          1,
          1,
          1,
          1,
          1,
          1,
          1,
          1,
          1,
          1,
          1,
          1,
          1,
          1,
          1,
          1,
          1,
          1,
          1,
          1,
          1,
          1,
          1,
          1,
          1,
          1,
          1,
          1,
          1,
          1,
          1,
          1,
          1,
          1,
          1,
          1,
          1,
          1,
          1,
          1,
          1,
          1,
          1,
          1,
          1,
          1,
          1,
          1,
          1,
          1,
          1,
          1,
          1,
          1,
          1,
          1,
          1,
          1,
          1,
          2,
          1,
          1,
          1,
          1,
          1,
          1,
          1,
          1,
          1,
          1,
          1,
          1,
          1,
          1,
          1,
          1,
          1,
          1,
          1,
          1,
          1,
          1,
          1,
          1,
          1,
          1,
          1,
          1,
          1,
          1,
          2,
          1,
          1,
          1,
          1,
          1,
          1,
          1,
          1,
          1,
          1,
          1,
          1,
          1,
          1,
          1,
          1,
          1,
          1,
          1,
          1,
          1,
          1,
          1,
          1,
          1,
          1,
          1,
          1,
          1,
          1,
          1,
          1,
          1,
          1,
          1,
          1,
          1,
          1,
          1,
          1,
          1,
          1,
          1,
          1,
          1,
          1,
          1,
          1,
          1,
          1,
          1,
          1,
          1,
          1,
          1,
          1,
          1,
          1,
          1,
          1,
          1,
          1,
          1,
          1,
          1,
          1,
          1,
          1,
          1,
          1,
          1,
          1,
          1,
          1,
          1,
          1,
          1,
          1,
          1,
          1,
          1,
          1,
          1,
          1,
          1,
          1,
          1,
          1,
          2,
          1,
          1,
          1,
          1,
          1,
          1,
          1,
          1,
          1,
          1,
          1,
          1,
          1,
          1,
          1,
          1,
          1,
          1,
          1,
          1,
          1,
          1,
          1,
          1,
          1,
          11,
          1,
          1,
          1,
          1,
          1,
          1,
          1,
          1,
          1,
          1,
          1,
          1,
          1,
          1,
          2,
          1,
          1,
          1,
          1,
          1,
          1,
          1,
          1,
          1,
          1,
          1,
          1,
          1,
          1,
          1,
          1,
          1,
          1,
          1,
          1,
          1,
          1,
          1,
          1,
          1,
          1,
          1,
          1,
          1,
          1,
          1,
          1,
          1,
          1,
          1,
          1,
          1,
          1,
          1,
          1,
          1,
          1,
          1,
          1,
          1,
          1,
          1,
          1,
          1,
          1,
          2,
          1,
          1,
          1,
          1,
          1,
          1,
          1,
          1,
          1,
          1,
          1,
          1,
          1,
          1,
          1,
          1,
          1,
          1,
          2,
          1,
          1,
          1,
          1,
          1,
          1,
          1,
          1,
          1,
          1,
          1,
          1,
          2,
          1,
          1,
          1,
          1,
          1,
          1,
          1,
          1,
          1,
          1,
          1,
          1,
          1,
          1,
          1,
          1,
          1,
          1,
          1,
          1,
          1,
          1,
          1,
          1,
          1,
          1,
          1,
          1,
          1,
          1,
          1,
          1,
          1,
          1,
          1,
          1,
          1,
          1,
          1,
          1,
          1,
          1,
          1,
          1,
          1,
          1,
          1,
          1,
          1,
          1,
          1,
          1,
          1,
          1,
          1,
          1,
          1,
          1,
          1,
          1,
          1,
          1,
          1,
          1,
          1,
          1,
          1,
          1,
          1,
          1,
          1,
          1,
          1,
          1,
          1,
          1,
          1,
          1,
          1,
          1,
          1,
          1,
          1,
          1,
          1,
          1,
          1,
          1,
          1,
          1,
          1,
          1,
          1,
          1,
          1,
          1,
          1,
          1,
          1,
          1,
          1,
          1,
          1,
          1,
          1,
          1,
          1,
          1,
          1,
          2,
          1,
          1,
          1,
          1,
          1,
          1,
          1,
          1,
          1,
          1,
          1,
          1,
          1,
          1,
          1,
          1,
          1,
          2,
          1,
          1,
          1,
          1,
          1,
          1,
          1,
          1,
          1,
          1,
          1,
          1,
          1,
          1,
          1,
          1,
          1,
          1,
          1,
          1,
          1,
          1,
          1,
          1,
          1,
          1,
          2,
          1,
          2,
          1,
          1,
          1,
          1,
          1,
          1,
          1,
          1,
          1,
          1,
          1,
          1,
          1,
          1,
          1,
          1,
          1,
          1,
          1,
          1,
          1,
          1,
          1,
          1,
          1,
          1,
          2,
          1,
          1,
          1,
          1,
          1,
          1,
          1,
          2,
          1,
          1,
          1,
          1,
          1,
          1,
          1,
          1,
          1,
          1,
          1,
          1,
          1,
          1,
          1,
          1,
          1,
          1,
          1,
          1,
          1,
          1,
          1,
          1,
          1,
          1,
          1,
          1,
          1,
          1,
          1,
          1,
          1,
          1,
          1,
          1,
          1,
          1,
          1,
          1,
          1,
          1,
          1,
          1,
          1,
          1,
          1,
          1,
          1,
          1,
          1,
          1,
          1,
          1,
          1,
          1,
          2,
          1,
          1,
          1,
          1,
          1,
          1,
          1,
          1,
          1,
          1,
          1,
          1,
          1,
          1,
          1,
          1,
          1,
          1,
          1,
          1,
          1,
          1,
          1,
          1,
          1,
          1,
          1,
          1,
          1,
          1,
          1,
          1,
          1,
          1,
          1,
          1,
          1,
          1,
          1,
          1,
          1,
          1,
          1,
          1,
          1,
          1,
          1,
          1,
          1,
          1,
          1,
          1,
          1,
          1,
          1,
          1,
          1,
          1,
          1,
          1,
          1,
          1,
          1,
          1,
          1,
          1,
          1,
          1,
          1,
          1,
          1,
          1,
          1,
          1,
          1,
          1,
          1,
          1,
          1,
          1,
          1,
          1,
          1,
          1,
          1,
          1,
          1,
          1,
          1,
          1,
          1,
          1,
          1,
          1,
          1,
          1,
          1,
          2,
          1,
          1,
          1,
          1,
          1,
          1,
          1,
          1,
          1,
          1,
          1,
          1,
          1,
          1,
          1,
          1,
          1,
          1,
          1,
          1,
          1,
          1,
          1,
          1,
          1,
          1,
          1,
          1,
          1,
          1,
          1,
          1,
          1,
          1,
          1,
          1,
          1,
          1,
          1,
          1,
          1,
          1,
          1,
          1,
          1,
          1,
          1,
          1,
          1,
          1,
          1,
          1,
          1,
          1,
          1,
          1,
          1,
          1,
          1,
          1,
          1,
          1,
          1,
          1,
          1,
          1,
          1,
          1,
          1,
          1,
          1,
          1,
          1,
          1,
          1,
          1,
          1,
          1,
          1,
          1,
          1,
          1,
          1,
          1,
          1,
          1,
          1,
          1,
          1,
          1,
          1,
          1,
          1,
          1,
          1,
          1,
          1,
          2,
          1,
          1,
          1,
          1,
          1,
          1,
          1,
          1,
          1,
          1,
          1,
          1,
          1,
          1,
          1,
          1,
          1,
          1,
          1,
          1,
          1,
          1,
          1,
          1,
          1,
          1,
          1,
          1,
          1,
          1,
          1,
          1,
          1,
          1,
          1,
          1,
          1,
          1,
          1,
          1,
          1,
          1,
          1,
          1,
          1,
          1,
          1,
          1,
          1,
          1,
          1,
          1,
          1,
          1,
          1,
          2,
          1,
          1,
          1,
          1,
          1,
          1,
          1,
          1,
          1,
          1,
          1,
          1,
          1,
          1,
          1,
          1,
          1,
          1,
          1,
          1,
          1,
          1,
          1,
          1,
          1,
          1,
          1,
          1,
          1,
          1,
          1,
          1,
          1,
          1,
          1,
          1,
          1,
          1,
          1,
          1,
          1,
          1,
          1,
          1,
          1,
          1,
          1,
          1,
          1,
          1,
          1,
          1,
          1,
          1,
          1,
          1,
          1,
          1,
          1,
          1,
          1,
          1,
          1,
          1,
          1,
          1,
          1,
          1,
          1,
          1,
          1,
          1,
          1,
          1,
          1,
          1,
          1,
          1,
          1,
          1,
          1,
          1,
          1,
          1,
          1,
          1,
          1,
          1,
          1,
          1,
          1,
          1,
          1,
          1,
          1,
          1,
          1,
          1,
          1,
          1,
          1,
          1,
          1,
          1,
          1,
          1,
          1,
          1,
          1,
          1,
          1,
          1,
          1,
          1,
          1,
          1,
          1,
          1,
          1,
          1,
          1,
          1,
          1,
          1,
          1,
          1,
          1,
          1,
          1,
          1,
          1,
          1,
          1,
          1,
          1,
          1,
          1,
          1,
          1,
          1,
          1,
          1,
          1,
          1,
          1,
          1,
          2,
          1,
          1,
          1,
          1,
          1,
          1,
          1,
          1,
          1,
          1,
          1,
          1,
          1,
          1,
          1,
          1,
          1,
          1,
          1,
          1,
          1,
          1,
          1,
          1,
          1,
          1,
          1,
          1,
          1,
          1,
          1,
          1,
          1,
          1,
          1,
          1,
          1,
          1,
          1,
          1,
          1,
          1,
          1,
          1,
          1,
          1,
          1,
          1,
          1,
          1,
          1,
          1,
          1,
          1,
          2,
          1,
          1,
          1,
          1,
          2,
          1,
          1,
          1,
          1,
          1,
          1,
          1,
          1,
          1,
          1,
          1,
          1,
          1,
          1,
          1,
          1,
          1,
          1,
          1,
          1,
          1,
          1,
          1,
          1,
          1,
          1,
          1,
          1,
          1,
          1,
          2,
          1,
          1,
          1,
          1,
          1,
          1,
          1,
          1,
          1,
          1,
          1,
          1,
          1,
          1,
          1,
          1,
          1,
          1,
          1,
          1,
          1,
          1,
          1,
          1,
          1,
          1,
          1,
          1,
          1,
          1,
          1,
          1,
          1,
          1,
          1,
          1,
          1,
          1,
          1,
          1,
          1,
          1,
          1,
          1,
          1,
          1,
          1,
          1,
          1,
          1,
          1,
          1,
          1,
          1,
          1,
          1,
          1,
          1,
          1,
          1,
          1,
          1,
          1,
          1,
          1,
          1,
          1,
          1,
          1,
          1,
          1,
          1,
          1,
          1,
          1,
          1,
          1,
          1,
          1,
          1,
          1,
          1,
          1,
          1,
          1,
          1,
          1,
          1,
          1,
          1,
          1,
          1,
          1,
          1,
          1,
          1,
          1,
          1,
          1,
          1,
          1,
          1,
          1,
          1,
          1,
          1,
          1,
          1,
          1,
          1,
          1,
          1,
          1,
          1,
          1,
          1,
          1,
          1,
          1,
          1,
          1,
          1,
          1,
          1,
          1,
          1,
          1,
          1,
          1,
          1,
          1,
          1,
          1,
          1,
          1,
          1,
          1,
          1,
          1,
          1,
          1,
          1,
          1,
          1,
          1,
          1,
          1,
          1,
          1,
          1,
          1,
          1,
          1,
          1,
          1,
          1,
          1,
          1,
          1,
          1,
          1,
          1,
          1,
          1,
          1,
          1,
          1,
          1,
          1,
          1,
          1,
          1,
          1,
          1,
          1,
          1,
          1,
          1,
          1,
          1,
          1,
          1,
          1,
          1,
          1,
          1,
          1,
          1,
          1,
          1,
          1,
          1,
          1,
          1,
          1,
          1,
          1,
          1,
          1,
          1,
          1,
          1,
          1,
          1,
          1,
          1,
          1,
          1,
          1,
          1,
          1,
          1,
          1,
          1,
          1,
          1,
          1,
          1,
          1,
          1,
          1,
          1,
          1,
          1,
          1,
          1,
          1,
          1,
          1,
          1,
          1,
          1,
          1,
          1,
          1,
          1,
          1,
          2,
          1,
          1,
          1,
          1,
          1,
          1,
          1,
          1,
          1,
          1,
          1,
          1,
          1,
          1,
          1,
          1,
          1,
          1,
          1,
          1,
          1,
          1,
          1,
          1,
          1,
          1,
          1,
          1,
          1,
          1,
          1,
          1,
          1,
          1,
          1,
          1,
          1,
          1,
          1,
          1,
          1,
          1,
          1,
          2,
          1,
          1,
          1,
          1,
          1,
          1,
          1,
          1,
          1,
          1,
          1,
          1,
          1,
          1,
          1,
          1,
          1,
          1,
          1,
          1,
          1,
          1,
          1,
          1,
          1,
          1,
          1,
          1,
          1,
          1,
          1,
          1,
          1,
          1,
          1,
          1,
          1,
          1,
          1,
          1,
          1,
          1,
          1,
          1,
          1,
          1,
          1,
          1,
          1,
          1,
          2,
          1,
          1,
          1,
          1,
          1,
          1,
          1,
          1,
          1,
          1,
          1,
          1,
          1,
          1,
          1,
          1,
          1,
          1,
          1,
          1,
          1,
          1,
          1,
          1,
          1,
          1,
          1,
          1,
          1,
          1,
          1,
          1,
          1,
          1,
          1,
          1,
          1,
          1,
          1,
          1,
          1,
          1,
          1,
          1,
          1,
          1,
          1,
          1,
          1,
          1,
          1,
          1,
          1,
          2,
          1,
          1,
          1,
          1,
          1,
          1,
          1,
          1,
          1,
          1,
          1,
          1,
          1,
          1,
          1,
          1,
          1,
          1,
          1,
          1,
          1,
          1,
          1,
          1,
          1,
          1,
          1,
          1,
          1,
          1,
          1,
          1,
          1,
          1,
          1,
          1,
          1,
          1,
          1,
          1,
          1,
          1,
          1,
          1,
          1,
          2,
          1,
          1,
          1,
          1,
          1,
          1,
          1,
          1,
          1,
          1,
          1,
          1,
          1,
          1,
          1,
          1,
          1,
          1,
          1,
          1,
          1,
          1,
          1,
          1,
          1,
          1,
          1,
          1,
          1,
          1,
          1,
          1,
          2,
          1,
          1,
          1,
          1,
          1,
          1,
          2,
          1,
          1,
          1,
          1,
          1,
          1,
          1,
          1,
          1,
          1,
          1,
          1,
          1,
          1,
          1,
          1,
          1,
          1,
          1,
          1,
          1,
          1,
          1,
          1,
          1,
          1,
          1,
          1,
          1,
          1,
          1,
          1,
          1,
          1,
          1,
          1,
          1,
          1,
          1,
          1,
          1,
          1,
          1,
          1,
          1,
          1,
          1,
          1,
          1,
          1,
          1,
          1,
          1,
          1,
          1,
          1,
          1,
          1,
          1,
          1,
          1,
          1,
          1,
          1,
          1,
          1,
          1,
          1,
          1,
          1,
          1,
          1,
          1,
          1,
          1,
          1,
          1,
          1,
          1,
          1,
          1,
          1,
          1,
          1,
          1,
          1,
          1,
          1,
          1,
          1,
          1,
          1,
          1,
          1,
          1,
          1,
          1,
          1,
          1,
          1,
          1,
          1,
          1,
          1,
          1,
          1,
          1,
          1,
          1,
          1,
          1,
          1,
          1,
          1,
          1,
          1,
          1,
          1,
          1,
          1,
          1,
          1,
          1,
          1,
          1,
          1,
          2,
          1,
          1,
          1,
          1,
          1,
          1,
          1,
          1,
          1,
          1,
          1,
          1,
          1,
          1,
          1,
          1,
          1,
          1,
          1,
          1,
          1,
          1,
          1,
          1,
          1,
          1,
          1,
          1,
          1,
          1,
          1,
          1,
          1,
          1,
          1,
          1,
          1,
          1,
          1,
          1,
          1,
          1,
          1,
          1,
          1,
          1,
          1,
          1,
          1,
          1,
          1,
          1,
          1,
          1,
          1,
          1,
          1,
          1,
          1,
          1,
          1,
          1,
          1,
          1,
          1,
          1,
          1,
          1,
          1,
          1,
          1,
          1,
          1,
          1,
          1,
          1,
          1,
          1,
          1,
          1,
          1,
          1,
          1,
          1,
          1,
          1,
          1,
          1,
          1,
          1,
          1,
          1,
          1,
          1,
          1,
          1,
          1,
          1,
          1,
          1,
          1,
          1,
          1,
          1,
          1,
          1,
          1,
          1,
          1,
          1,
          1,
          1,
          1,
          1,
          1,
          1,
          1,
          1,
          1,
          1,
          1,
          1,
          1,
          1,
          1,
          1,
          1,
          1,
          1,
          1,
          1,
          1,
          1,
          1,
          1,
          1,
          1,
          1,
          1,
          1,
          1,
          1,
          1,
          1,
          1,
          1,
          1,
          1,
          1,
          1,
          1,
          1,
          1,
          1,
          1,
          1,
          1,
          1,
          1,
          1,
          1,
          1,
          1,
          1,
          1,
          1,
          1,
          1,
          1,
          1,
          1,
          1,
          1,
          1,
          1,
          1,
          1,
          1,
          1,
          1,
          1,
          1,
          1,
          1,
          1,
          1,
          1,
          1,
          1,
          1,
          1,
          1,
          1,
          1,
          1,
          1,
          1,
          1,
          1,
          1,
          1,
          1,
          1,
          1,
          1,
          1,
          1,
          1,
          1,
          1,
          1,
          1,
          1,
          1,
          1,
          1,
          1,
          1,
          1,
          1,
          1,
          1,
          1,
          1,
          1,
          1,
          1,
          1,
          1,
          1,
          1,
          1,
          1,
          1,
          1,
          1,
          1,
          1,
          1,
          1,
          1,
          1,
          1,
          1,
          1,
          1,
          1,
          1,
          1,
          1,
          1,
          1,
          1,
          1,
          1,
          1,
          1,
          1,
          1,
          1,
          1,
          1,
          1,
          1,
          1,
          1,
          1,
          1,
          1,
          1,
          1,
          1,
          1,
          1,
          1,
          1,
          1,
          1,
          1,
          1,
          1,
          1,
          1,
          1,
          1,
          1,
          1,
          1,
          1,
          1,
          1,
          1,
          1,
          1,
          1,
          1,
          1,
          1,
          1,
          1,
          1,
          1,
          1,
          1,
          1,
          1,
          1,
          1,
          1,
          1,
          1,
          1,
          1,
          1,
          1,
          1,
          1,
          1,
          1,
          1,
          1,
          1,
          1,
          1,
          1,
          1,
          1,
          1,
          1,
          1,
          1,
          1,
          1,
          1,
          1,
          2,
          1,
          1,
          1,
          1,
          1,
          1,
          1,
          1,
          1,
          1,
          1,
          1,
          1,
          1,
          1,
          1,
          1,
          1,
          1,
          1,
          1,
          1,
          1,
          1,
          1,
          1,
          1,
          1,
          1,
          1,
          1,
          1,
          1,
          1,
          1,
          1,
          1,
          1,
          1,
          1,
          1,
          1,
          1,
          1,
          1,
          1,
          1,
          1,
          1,
          1,
          1,
          1,
          1,
          1,
          1,
          1,
          1,
          1,
          1,
          1,
          1,
          1,
          1,
          1,
          1,
          1,
          2,
          1,
          1,
          1,
          1,
          1,
          1,
          1,
          1,
          1,
          1,
          1,
          1,
          1,
          1,
          1,
          1,
          1,
          1,
          1,
          1,
          1,
          1,
          1,
          1,
          1,
          1,
          1,
          1,
          1,
          1,
          1,
          1,
          1,
          1,
          1,
          1,
          1,
          1,
          1,
          1,
          1,
          1,
          1,
          1,
          1,
          1,
          1,
          1,
          1,
          1,
          1,
          1,
          1,
          1,
          1,
          1,
          1,
          1,
          1,
          1,
          1,
          1,
          1,
          1,
          1,
          1,
          1,
          1,
          1,
          1,
          1,
          1,
          1,
          1,
          1,
          1,
          1,
          1,
          1,
          1,
          1,
          1,
          1,
          1,
          1,
          1,
          1,
          1,
          1,
          1,
          1,
          1,
          1,
          1,
          1,
          1,
          1,
          1,
          1,
          1,
          1,
          1,
          1,
          1,
          1,
          1,
          1,
          1,
          1,
          1,
          1,
          1,
          1,
          1,
          1,
          1,
          1,
          1,
          1,
          1,
          1,
          1,
          1,
          1,
          1,
          1,
          1,
          1,
          1,
          1,
          1,
          1,
          1,
          1,
          1,
          1,
          1,
          1,
          1,
          1,
          1,
          1,
          1,
          1,
          1,
          1,
          1,
          1,
          1,
          1,
          1,
          1,
          1,
          1,
          1,
          1,
          1,
          1,
          1,
          1,
          1,
          1,
          1,
          1,
          1,
          1,
          1,
          1,
          1,
          1,
          1,
          1,
          1,
          1,
          1,
          1,
          1,
          1,
          1,
          1,
          1,
          1,
          1,
          1,
          1,
          1,
          1,
          1,
          1,
          1,
          1,
          1,
          1,
          1,
          1,
          1,
          1,
          1,
          1,
          1,
          1,
          1,
          1,
          1,
          1,
          1,
          1,
          1,
          1,
          1,
          1,
          1,
          1,
          1,
          2,
          1,
          1,
          1,
          1,
          1,
          1,
          1,
          1,
          1,
          1,
          1,
          1,
          1,
          1,
          1,
          1,
          1,
          1,
          1,
          1,
          1,
          1,
          1,
          1,
          1,
          1,
          1,
          1,
          1,
          1,
          1,
          1,
          2,
          1,
          1,
          1,
          1,
          1,
          1,
          1,
          1,
          1,
          1,
          1,
          1,
          2,
          1,
          1,
          1,
          1,
          1,
          1,
          1,
          1,
          1,
          1,
          1,
          1,
          2,
          1,
          1,
          1,
          1,
          1,
          1,
          1,
          1,
          1,
          1,
          1,
          1,
          1,
          1,
          1,
          1,
          1,
          1,
          1,
          1,
          1,
          1,
          1,
          1,
          1,
          1,
          1,
          1,
          1,
          1,
          1,
          1,
          1,
          1,
          1,
          1,
          1,
          1,
          1,
          1,
          1,
          1,
          1,
          1,
          1,
          1,
          1,
          1,
          1,
          1,
          1,
          1,
          1,
          1,
          1,
          1,
          1,
          1,
          1,
          1,
          1,
          1,
          1,
          1,
          1,
          1,
          1,
          1,
          1,
          1,
          1,
          1,
          1,
          1,
          1,
          1,
          1,
          1,
          1,
          1,
          1,
          1,
          1,
          1,
          1,
          1,
          1,
          1,
          2,
          1,
          1,
          1,
          1,
          1,
          1,
          1,
          1,
          1,
          1,
          1,
          1,
          1,
          1,
          1,
          1,
          1,
          1,
          1,
          1,
          1,
          1,
          1,
          1,
          1,
          1,
          1,
          1,
          1,
          1,
          1,
          1,
          1,
          1,
          1,
          1,
          1,
          1,
          1,
          1,
          1,
          1,
          1,
          1,
          1,
          1,
          1,
          1,
          1,
          1,
          1,
          1,
          1,
          1,
          1,
          1,
          1,
          1,
          1,
          1,
          1,
          1,
          1,
          1,
          1,
          1,
          1,
          1,
          1,
          1,
          1,
          1,
          1,
          1,
          1,
          1,
          1,
          1,
          1,
          1,
          1,
          1,
          1,
          1,
          1,
          1,
          1,
          1,
          1,
          1,
          1,
          1,
          1,
          1,
          1,
          1,
          1,
          1,
          1,
          1,
          1,
          1,
          1,
          1,
          1,
          1,
          1,
          1,
          1,
          1,
          1,
          1,
          1,
          1,
          1,
          1,
          1,
          1,
          1,
          1,
          1,
          1,
          1,
          1,
          1,
          1,
          1,
          1,
          1,
          1,
          1,
          1,
          1,
          1,
          1,
          1,
          1,
          1,
          1,
          1,
          1,
          1,
          1,
          1,
          1,
          1,
          1,
          1,
          1,
          1,
          1,
          1,
          1,
          1,
          1,
          1,
          1,
          1,
          1,
          1,
          1,
          1,
          1,
          1,
          1,
          1,
          1,
          1,
          1,
          1,
          1,
          1,
          1,
          1,
          1,
          1,
          1,
          1,
          1,
          1,
          1,
          1,
          1,
          1,
          1,
          1,
          1,
          1,
          1,
          1,
          1,
          1,
          1,
          1,
          1,
          1,
          1,
          1,
          1,
          1,
          1,
          1,
          1,
          1,
          1,
          1,
          1,
          1,
          1,
          1,
          1,
          1,
          1,
          1,
          1,
          1,
          1,
          1,
          1,
          1,
          1,
          1,
          1,
          1,
          1,
          1,
          1,
          1,
          1,
          1,
          1,
          1,
          1,
          1,
          1,
          1,
          1,
          1,
          1,
          1,
          1,
          1,
          1,
          1,
          1,
          1,
          1,
          1,
          1,
          1,
          1,
          1,
          1,
          1,
          1,
          1,
          1,
          1,
          1,
          1,
          1,
          1,
          1,
          1,
          1,
          1,
          1,
          1,
          1,
          1,
          1,
          1,
          1,
          1,
          1,
          1,
          1,
          1,
          1,
          1,
          1,
          1,
          1,
          1,
          1,
          1,
          1,
          1,
          1,
          1,
          1,
          1,
          1,
          1,
          1,
          1,
          1,
          1,
          1,
          1,
          1,
          1,
          1,
          1,
          1,
          1,
          1,
          1,
          1,
          1,
          1,
          1,
          1,
          1,
          1,
          1,
          1,
          1,
          1,
          1,
          1,
          1,
          1,
          1,
          1,
          1,
          1,
          1,
          1,
          1,
          1,
          1,
          1,
          1,
          1,
          1,
          1,
          1,
          1,
          1,
          1,
          1,
          1,
          1,
          1,
          1,
          1,
          1,
          1,
          1,
          1,
          1,
          1,
          1,
          1,
          1,
          1,
          1,
          1,
          1,
          1,
          1,
          1,
          1,
          1,
          1,
          1,
          1,
          1,
          1,
          1,
          1,
          1,
          1,
          1,
          1,
          1,
          1,
          1,
          1,
          1,
          1,
          1,
          1,
          1,
          1,
          1,
          1,
          1,
          1,
          1,
          1,
          1,
          1,
          1,
          1,
          1,
          1,
          1,
          1,
          1,
          1,
          1,
          1,
          1,
          1,
          1,
          1,
          1,
          2,
          1,
          1,
          1,
          1,
          1,
          1,
          1,
          1,
          1,
          1,
          1,
          1,
          1,
          1,
          1,
          1,
          1,
          1,
          1,
          1,
          1,
          1,
          1,
          1,
          1,
          1,
          1,
          1,
          1,
          1,
          1,
          1,
          1,
          1,
          1,
          1,
          1,
          1,
          1,
          1,
          1,
          1,
          1,
          1,
          1,
          1,
          1,
          1,
          1,
          1,
          1,
          1,
          1,
          1,
          1,
          1,
          1,
          1,
          1,
          1,
          1,
          1,
          1,
          1,
          1,
          1,
          1,
          1,
          1,
          1,
          1,
          1,
          1,
          1,
          1,
          1,
          1,
          1,
          1,
          1,
          1,
          1,
          1,
          1,
          1,
          1,
          1,
          1,
          1,
          1,
          1,
          1,
          1,
          1,
          1,
          1,
          1,
          1,
          1,
          1,
          1,
          1,
          1,
          1,
          1,
          1,
          1,
          1,
          1,
          1,
          1,
          1,
          1,
          1,
          1,
          1,
          1,
          1,
          1,
          1,
          1,
          1,
          1,
          1,
          1,
          1,
          1,
          1,
          1,
          1,
          1,
          1,
          1,
          1,
          1,
          1,
          1,
          1,
          1,
          1,
          1,
          1,
          1,
          1,
          1,
          1,
          1,
          1,
          1,
          1,
          1,
          1,
          1,
          1,
          1,
          1,
          1,
          1,
          1,
          1,
          1,
          1,
          1,
          1,
          1,
          1,
          1,
          1,
          1,
          1,
          1,
          1,
          1,
          1,
          1,
          1,
          1,
          1,
          1,
          1,
          1,
          1,
          1,
          1,
          1,
          1,
          1,
          1,
          1,
          1,
          1,
          1,
          1,
          1,
          1,
          1,
          1,
          1,
          1,
          1,
          1,
          1,
          1,
          1,
          1,
          1,
          1,
          1,
          1
         ],
         "yaxis": "y"
        },
        {
         "alignmentgroup": "True",
         "hovertemplate": "Churn=No<br>TotalCharges=%{x}<extra></extra>",
         "legendgroup": "No",
         "marker": {
          "color": "blue"
         },
         "name": "No",
         "notched": true,
         "offsetgroup": "No",
         "showlegend": false,
         "type": "box",
         "x": [
          18.8,
          18.85,
          18.9,
          19,
          19.05,
          19.1,
          19.15,
          19.2,
          19.25,
          19.3,
          19.4,
          19.45,
          19.5,
          19.55,
          19.65,
          19.7,
          19.75,
          19.8,
          19.85,
          19.9,
          19.95,
          20,
          20.05,
          20.15,
          20.2,
          20.25,
          20.3,
          20.35,
          20.4,
          20.45,
          20.5,
          20.55,
          20.6,
          20.65,
          20.7,
          20.75,
          20.8,
          20.9,
          20.95,
          21.05,
          21.1,
          24,
          24.2,
          24.4,
          24.7,
          24.9,
          25,
          25.15,
          25.25,
          25.35,
          25.4,
          25.7,
          25.75,
          25.85,
          27.55,
          29.15,
          29.85,
          29.9,
          30.55,
          31.2,
          31.9,
          32.7,
          33.6,
          33.7,
          34.75,
          34.8,
          35,
          35.1,
          35.9,
          36.8,
          37.2,
          38,
          38.15,
          38.25,
          38.45,
          38.8,
          39.25,
          39.3,
          39.8,
          39.85,
          40.25,
          40.9,
          41.2,
          41.85,
          42.45,
          42.7,
          42.9,
          43.15,
          43.8,
          43.85,
          43.95,
          44,
          44.05,
          44.15,
          44.2,
          44.3,
          44.4,
          44.45,
          44.55,
          44.6,
          44.75,
          44.8,
          44.9,
          44.95,
          45,
          45.15,
          45.2,
          45.25,
          45.3,
          45.35,
          45.4,
          45.55,
          45.6,
          45.75,
          45.8,
          45.85,
          46.3,
          46.35,
          46.4,
          47.7,
          47.95,
          48.35,
          48.45,
          48.6,
          48.75,
          49,
          49.05,
          49.3,
          49.5,
          49.55,
          49.65,
          49.7,
          49.75,
          49.8,
          49.85,
          49.9,
          49.95,
          50.05,
          50.1,
          50.15,
          50.6,
          50.7,
          50.75,
          51.2,
          51.25,
          51.6,
          52,
          52.05,
          53.05,
          53.15,
          53.55,
          54.3,
          54.5,
          54.65,
          54.7,
          55.05,
          55.25,
          55.3,
          55.45,
          55.55,
          55.7,
          56,
          57.2,
          57.4,
          57.5,
          58,
          58.3,
          59.25,
          59.55,
          60.65,
          61.05,
          61.15,
          61.35,
          61.45,
          61.7,
          62,
          62.8,
          62.9,
          63,
          63.15,
          63.6,
          63.75,
          65.95,
          67.1,
          67.55,
          68.2,
          68.35,
          68.45,
          68.8,
          69.25,
          69.9,
          69.95,
          70.05,
          70.1,
          70.2,
          70.25,
          70.35,
          70.45,
          70.6,
          70.7,
          71.1,
          71.2,
          71.25,
          72,
          72.1,
          73.05,
          73.1,
          73.45,
          74,
          74.1,
          74.2,
          74.3,
          74.35,
          74.6,
          74.7,
          75.1,
          75.35,
          75.45,
          75.5,
          75.55,
          76.65,
          76.95,
          77.6,
          78.25,
          78.3,
          78.9,
          79.05,
          79.15,
          79.8,
          80.55,
          80.95,
          81.05,
          82.15,
          82.7,
          82.85,
          82.9,
          83.3,
          83.4,
          83.75,
          84.2,
          84.4,
          84.5,
          84.6,
          84.75,
          85,
          85.1,
          85.5,
          86.05,
          86.35,
          87.3,
          87.9,
          89.05,
          89.25,
          89.3,
          89.35,
          89.75,
          90.05,
          90.1,
          91.4,
          91.45,
          92.05,
          92.25,
          92.5,
          92.75,
          93.4,
          93.45,
          93.55,
          94.15,
          94.4,
          94.45,
          94.5,
          95.55,
          95.85,
          96.1,
          96.8,
          96.85,
          97,
          97.5,
          98.35,
          98.5,
          99.45,
          99.6,
          99.95,
          100.2,
          100.35,
          100.9,
          101.1,
          101.65,
          101.9,
          103.7,
          104.3,
          105.5,
          105.6,
          106.2,
          106.8,
          106.9,
          107.05,
          107.1,
          107.25,
          107.6,
          108.65,
          109.2,
          109.25,
          109.3,
          109.5,
          109.6,
          109.8,
          110.05,
          110.15,
          111.05,
          111.4,
          111.65,
          112.75,
          113.1,
          113.5,
          113.95,
          114.15,
          116.6,
          116.85,
          116.95,
          117.05,
          117.8,
          117.95,
          118.25,
          118.4,
          119.3,
          119.5,
          120.25,
          121.25,
          122,
          122.7,
          122.9,
          123.05,
          123.65,
          123.8,
          124.4,
          124.45,
          125,
          125.5,
          125.95,
          128.6,
          129.15,
          129.2,
          129.55,
          129.6,
          130.15,
          130.25,
          130.5,
          130.55,
          132.25,
          132.4,
          134.05,
          134.6,
          134.75,
          135.2,
          135.75,
          136.05,
          136.75,
          137.1,
          137.25,
          137.6,
          138.85,
          139.25,
          139.75,
          140.1,
          140.4,
          140.95,
          141.1,
          141.6,
          141.65,
          141.7,
          143.65,
          143.9,
          144,
          144.15,
          144.35,
          144.8,
          144.95,
          145.15,
          146.4,
          146.6,
          146.65,
          147.5,
          147.55,
          147.75,
          147.8,
          148.05,
          149.05,
          150,
          150.35,
          150.6,
          150.75,
          150.85,
          151.75,
          152.3,
          152.6,
          152.95,
          153.3,
          153.8,
          153.95,
          154.3,
          154.55,
          154.8,
          155.35,
          155.9,
          156.1,
          156.85,
          157.55,
          157.65,
          157.75,
          158.35,
          158.95,
          159.2,
          159.35,
          160.05,
          160.85,
          161.15,
          161.45,
          161.65,
          161.95,
          162.15,
          162.3,
          162.45,
          162.55,
          163.2,
          163.55,
          163.6,
          163.7,
          164.6,
          165.35,
          165.5,
          167.2,
          168.5,
          168.6,
          168.65,
          168.9,
          169.65,
          169.75,
          170.5,
          170.9,
          171,
          171.45,
          172.35,
          173,
          173.15,
          174.2,
          174.45,
          174.65,
          174.7,
          174.75,
          176.2,
          176.3,
          177.4,
          178.7,
          178.8,
          178.85,
          179.85,
          180.7,
          181.65,
          181.8,
          183.15,
          184.05,
          184.1,
          184.15,
          184.4,
          184.95,
          185.2,
          185.4,
          186.05,
          186.15,
          186.3,
          187.35,
          187.75,
          188.1,
          189.1,
          189.45,
          189.95,
          190.1,
          190.25,
          190.5,
          191.1,
          193.05,
          194.2,
          194.55,
          195.65,
          196.35,
          196.4,
          196.75,
          196.9,
          197.4,
          198.1,
          198.25,
          198.5,
          198.6,
          198.7,
          199.45,
          199.75,
          199.85,
          200.2,
          201.7,
          201.95,
          202.15,
          202.25,
          202.3,
          202.9,
          203.95,
          204.55,
          206.15,
          207.35,
          207.4,
          208,
          208.25,
          208.45,
          209.9,
          210.65,
          211.95,
          212.3,
          212.4,
          213.35,
          214.4,
          214.55,
          214.75,
          215.25,
          216.2,
          216.45,
          217.1,
          217.45,
          217.5,
          218.5,
          218.55,
          219.35,
          219.5,
          220.35,
          220.4,
          220.45,
          220.65,
          220.75,
          220.8,
          221.1,
          222.65,
          223.15,
          223.6,
          223.75,
          223.9,
          224.5,
          224.85,
          225.55,
          225.65,
          225.75,
          225.85,
          226.2,
          226.55,
          226.8,
          226.95,
          227.35,
          227.45,
          228.65,
          228.75,
          229.4,
          229.7,
          231.45,
          232.1,
          232.35,
          232.4,
          232.5,
          232.55,
          233.65,
          233.9,
          234.85,
          235,
          235.05,
          235.2,
          235.65,
          235.8,
          237.2,
          237.3,
          237.65,
          237.7,
          238.1,
          238.15,
          238.5,
          239,
          239.05,
          239.45,
          239.75,
          241.3,
          242.4,
          243.65,
          244.1,
          244.45,
          244.75,
          244.8,
          244.85,
          245.15,
          246.25,
          246.3,
          246.6,
          246.7,
          247,
          248.4,
          249.4,
          249.55,
          250.1,
          250.8,
          251.25,
          251.6,
          251.65,
          252,
          252.75,
          253,
          253.8,
          253.9,
          254.5,
          255.35,
          255.5,
          255.55,
          255.6,
          256.6,
          256.75,
          257,
          257.6,
          258.35,
          259.4,
          259.65,
          260.7,
          260.9,
          261.3,
          261.65,
          262.05,
          262.3,
          263.05,
          263.65,
          264.55,
          264.8,
          265.3,
          265.45,
          265.75,
          265.8,
          266.6,
          266.8,
          266.95,
          267,
          267.35,
          268.4,
          268.45,
          269.65,
          270.15,
          270.2,
          270.6,
          272,
          272.35,
          272.95,
          273.2,
          273.25,
          273.4,
          274.35,
          274.7,
          275.4,
          275.7,
          275.9,
          276.5,
          278.4,
          278.85,
          279.2,
          279.3,
          279.5,
          280,
          280.35,
          280.4,
          280.85,
          283.75,
          283.95,
          284.3,
          284.35,
          284.9,
          285.2,
          286.8,
          287.85,
          288.35,
          290.55,
          291.45,
          292.4,
          293.15,
          293.85,
          294.2,
          294.45,
          294.5,
          294.9,
          294.95,
          295.55,
          295.65,
          295.95,
          296.15,
          297.35,
          298.7,
          299.05,
          299.3,
          299.4,
          299.75,
          300.4,
          300.7,
          301.55,
          301.9,
          302.35,
          302.45,
          302.6,
          303.7,
          304.6,
          305.55,
          306.05,
          307,
          307.6,
          308.05,
          308.1,
          309.25,
          309.35,
          309.4,
          310.6,
          311.6,
          312.7,
          313,
          313.4,
          313.45,
          313.6,
          314.45,
          314.55,
          314.6,
          314.95,
          316.2,
          316.9,
          317.75,
          318.1,
          318.6,
          319.6,
          319.85,
          320.4,
          320.45,
          321.05,
          321.4,
          321.7,
          322.5,
          322.9,
          323.15,
          323.45,
          324.15,
          324.2,
          324.8,
          326.65,
          326.8,
          329.75,
          330.25,
          330.6,
          330.8,
          331.35,
          331.6,
          331.85,
          332.5,
          332.65,
          333.65,
          335.4,
          335.65,
          335.75,
          335.95,
          336.15,
          336.7,
          337.9,
          339.9,
          340.35,
          340.4,
          340.85,
          341.35,
          341.6,
          342.3,
          343.45,
          343.6,
          344.2,
          344.5,
          345.5,
          345.9,
          346.45,
          347.65,
          348.15,
          348.8,
          349.8,
          350.1,
          350.35,
          351.5,
          351.55,
          352.65,
          353.65,
          355.1,
          355.9,
          356.1,
          356.15,
          356.65,
          357,
          357.15,
          357.6,
          357.7,
          358.05,
          358.15,
          358.5,
          359.4,
          360.35,
          360.55,
          362.6,
          363.15,
          365.8,
          367.55,
          367.95,
          368.85,
          369.05,
          369.1,
          369.15,
          369.25,
          369.3,
          369.6,
          370.25,
          370.4,
          370.5,
          371.4,
          371.6,
          372.45,
          373,
          373.5,
          374,
          374.8,
          375.25,
          377.55,
          377.85,
          378.6,
          381.2,
          382.2,
          382.8,
          383.55,
          383.65,
          384.25,
          385.55,
          386.5,
          387.4,
          387.7,
          387.9,
          388.6,
          389.25,
          389.8,
          389.95,
          390.4,
          391.7,
          392.5,
          392.65,
          393.15,
          393.45,
          394.1,
          394.85,
          395.6,
          397,
          398.55,
          399.25,
          399.45,
          400,
          400.3,
          401.3,
          401.5,
          401.85,
          401.95,
          402.5,
          402.6,
          402.85,
          403.15,
          404.35,
          405.6,
          405.7,
          406.05,
          406.95,
          407.05,
          408.25,
          408.5,
          411.15,
          411.25,
          411.45,
          411.6,
          411.75,
          412.55,
          412.6,
          413,
          413.25,
          414.1,
          414.95,
          415.1,
          415.4,
          415.9,
          416.4,
          416.45,
          417,
          417.5,
          417.65,
          417.7,
          417.75,
          418.25,
          418.3,
          419.35,
          419.4,
          419.7,
          419.9,
          420.45,
          422.3,
          422.4,
          422.5,
          422.6,
          422.7,
          424.5,
          424.75,
          425.1,
          426.35,
          426.65,
          428.45,
          428.7,
          429.55,
          432.25,
          432.5,
          433.5,
          433.75,
          433.95,
          434.5,
          434.8,
          435,
          435.25,
          435.45,
          436.2,
          436.6,
          436.9,
          438.05,
          438.9,
          439.2,
          439.75,
          440.2,
          442.45,
          442.6,
          444.75,
          445.3,
          445.85,
          445.95,
          446.8,
          447.75,
          447.9,
          449.3,
          450.4,
          450.65,
          450.9,
          451.55,
          452.2,
          452.35,
          452.55,
          452.8,
          454,
          454.05,
          454.65,
          456.85,
          457.1,
          457.3,
          458.1,
          459.6,
          459.95,
          460.2,
          460.25,
          461.3,
          463.6,
          465.45,
          465.7,
          465.85,
          466.6,
          467.15,
          467.5,
          467.7,
          467.85,
          468.35,
          469.25,
          469.65,
          469.85,
          470,
          470.2,
          470.6,
          471.35,
          471.55,
          471.7,
          471.85,
          472.25,
          472.65,
          473.9,
          475,
          475.1,
          475.2,
          475.25,
          475.7,
          476.8,
          477.05,
          477.55,
          477.6,
          478.1,
          478.75,
          481.1,
          482.25,
          482.8,
          483.15,
          483.3,
          484.05,
          485.2,
          485.25,
          485.9,
          486.05,
          486.2,
          487.05,
          487.75,
          487.95,
          488.25,
          488.65,
          490.55,
          490.65,
          492,
          492.1,
          493.4,
          493.65,
          493.95,
          494.05,
          494.9,
          494.95,
          495.15,
          497.3,
          497.6,
          498.1,
          498.25,
          499.4,
          500.1,
          501.2,
          501.35,
          503.25,
          504.05,
          504.2,
          505.45,
          505.9,
          505.95,
          507.4,
          507.9,
          509.3,
          510.8,
          511.25,
          512.25,
          514.6,
          514.75,
          515.45,
          515.75,
          516.15,
          516.3,
          518.3,
          518.75,
          520.1,
          520.55,
          520.95,
          521,
          521.35,
          521.8,
          521.9,
          522.35,
          522.95,
          523.1,
          524.35,
          524.5,
          525,
          525.55,
          527.35,
          527.5,
          528.45,
          529.5,
          529.8,
          530.05,
          531.15,
          531.55,
          531.6,
          532.1,
          533.05,
          533.5,
          533.6,
          533.9,
          534.7,
          535.05,
          535.35,
          535.55,
          536.35,
          537.35,
          538.2,
          538.5,
          540.05,
          540.95,
          541.5,
          542.4,
          543,
          543.8,
          546.45,
          546.85,
          547.8,
          548.8,
          548.9,
          550.1,
          550.35,
          550.6,
          551.3,
          551.95,
          552.1,
          552.65,
          552.7,
          552.9,
          553,
          553.4,
          554.05,
          554.25,
          554.45,
          555.4,
          558.8,
          559.2,
          561.15,
          562.6,
          562.7,
          563.05,
          563.5,
          564.35,
          564.4,
          564.65,
          565.35,
          565.75,
          566.1,
          566.5,
          567.8,
          568.2,
          568.85,
          571.05,
          571.15,
          571.45,
          571.75,
          572.2,
          572.45,
          572.85,
          573.05,
          573.15,
          574.35,
          574.5,
          576.65,
          576.7,
          576.95,
          577.15,
          578.5,
          579,
          579.4,
          580.1,
          580.8,
          581.7,
          581.85,
          583,
          583.3,
          587.1,
          587.4,
          587.45,
          587.7,
          589.25,
          590.35,
          592.65,
          592.75,
          593.05,
          593.2,
          593.3,
          593.85,
          595.05,
          595.5,
          597.9,
          599.25,
          599.3,
          600.15,
          600.25,
          601.25,
          601.55,
          601.6,
          602.9,
          603,
          605.25,
          605.45,
          605.75,
          605.9,
          607.3,
          607.7,
          608.15,
          608.5,
          609.05,
          609.1,
          609.65,
          610.2,
          610.75,
          611.45,
          611.65,
          612.1,
          612.95,
          613.95,
          614.45,
          615.35,
          616.9,
          617.15,
          617.35,
          617.65,
          617.85,
          620.55,
          620.75,
          624.15,
          624.6,
          625.05,
          625.65,
          628.65,
          629.35,
          629.55,
          630.6,
          631.4,
          632.2,
          633.45,
          633.85,
          635.9,
          637.4,
          637.55,
          638,
          638.55,
          638.95,
          639.45,
          639.7,
          641.15,
          641.25,
          641.35,
          644.5,
          645.8,
          646.05,
          647.5,
          648.65,
          649.4,
          651.5,
          651.55,
          653.15,
          653.25,
          653.9,
          653.95,
          654.5,
          654.55,
          654.85,
          655.3,
          657.5,
          658.1,
          659.35,
          659.45,
          660.05,
          661.55,
          662.95,
          663.55,
          664.4,
          666,
          666.75,
          668.85,
          669.45,
          670.35,
          670.65,
          672.2,
          672.7,
          673.2,
          674.55,
          675.6,
          676.15,
          677.05,
          677.9,
          678.2,
          678.45,
          678.75,
          678.8,
          679,
          679.8,
          681.4,
          682.1,
          682.15,
          683.25,
          683.75,
          684.05,
          684.4,
          684.85,
          685.55,
          686.95,
          688,
          688.2,
          688.5,
          689,
          689.35,
          689.75,
          690.25,
          690.5,
          692.35,
          692.55,
          693.3,
          693.45,
          695.05,
          695.75,
          695.85,
          696.8,
          697.25,
          697.65,
          697.7,
          700.45,
          701.05,
          701.3,
          702,
          702.05,
          702.9,
          704.3,
          705.45,
          707.5,
          708.2,
          708.8,
          709.5,
          710.05,
          711.15,
          711.9,
          711.95,
          712.25,
          713.6,
          715,
          716.1,
          716.4,
          717.3,
          717.5,
          717.95,
          718.1,
          718.55,
          720.05,
          720.1,
          720.45,
          723.3,
          723.35,
          724.65,
          726.1,
          727.8,
          727.85,
          729.95,
          730.1,
          730.4,
          731.3,
          733.55,
          733.95,
          734.6,
          735.5,
          735.9,
          736.8,
          739.35,
          739.9,
          740.55,
          741,
          741.4,
          741.5,
          742.9,
          743.05,
          743.3,
          743.5,
          743.75,
          745.3,
          746.05,
          746.75,
          747.2,
          749.25,
          749.35,
          750.1,
          754,
          754.5,
          755.4,
          755.5,
          755.6,
          756.4,
          757.95,
          759.35,
          759.55,
          760.05,
          761.85,
          761.95,
          762.45,
          763.1,
          764.55,
          765.15,
          765.45,
          767.55,
          767.9,
          768.05,
          768.45,
          769.1,
          770.4,
          770.5,
          771.95,
          772.4,
          772.85,
          773.2,
          775.3,
          775.6,
          776.25,
          777.3,
          777.35,
          779.2,
          779.25,
          780.1,
          780.15,
          780.2,
          780.25,
          780.85,
          781.25,
          781.4,
          784.25,
          784.45,
          785.75,
          786.3,
          786.5,
          788.05,
          788.35,
          788.55,
          788.6,
          789.2,
          789.55,
          790,
          790.7,
          791.15,
          791.7,
          792.15,
          795.15,
          795.65,
          797.1,
          797.25,
          798.2,
          799,
          800.3,
          801.3,
          802.35,
          804.25,
          804.85,
          805.2,
          806.95,
          808.95,
          809.25,
          810.3,
          810.45,
          810.85,
          811.65,
          812.4,
          812.5,
          813.3,
          813.45,
          814.75,
          815.55,
          816.8,
          817.95,
          818.45,
          819.95,
          821.6,
          824.85,
          825.1,
          825.4,
          826,
          826.1,
          827.05,
          827.3,
          827.45,
          827.7,
          828.05,
          828.2,
          828.85,
          829.3,
          830.25,
          830.8,
          831.75,
          832.3,
          833.55,
          834.7,
          835.15,
          835.5,
          836.35,
          837.5,
          838.5,
          838.7,
          839.4,
          839.65,
          842.25,
          844.45,
          845.25,
          845.6,
          846.8,
          847.25,
          847.8,
          849.1,
          849.9,
          851.2,
          851.8,
          852.7,
          854.45,
          854.8,
          854.9,
          855.1,
          856.5,
          857.75,
          857.8,
          858.6,
          860.85,
          861.85,
          862.4,
          864.2,
          864.55,
          864.85,
          865,
          865.05,
          865.1,
          865.75,
          865.85,
          866.4,
          867.1,
          867.3,
          868.1,
          869.9,
          870.25,
          873.4,
          874.2,
          875.35,
          875.55,
          876.15,
          876.75,
          877.35,
          879.8,
          880.05,
          882.55,
          883.35,
          886.4,
          886.7,
          887.35,
          888.65,
          888.75,
          889,
          890.35,
          890.5,
          892.15,
          892.7,
          893,
          893.2,
          894.3,
          897.75,
          899.45,
          900.9,
          901.25,
          902,
          902.25,
          903.7,
          903.8,
          905.55,
          906.85,
          907.05,
          908.15,
          908.55,
          908.75,
          910.45,
          911.6,
          912,
          913.3,
          914.4,
          914.6,
          916,
          916.15,
          917.15,
          917.45,
          918.7,
          918.75,
          920.5,
          921.3,
          921.4,
          921.55,
          923.1,
          923.85,
          926,
          926.2,
          926.25,
          927.1,
          927.15,
          927.65,
          928.4,
          929.2,
          929.3,
          929.45,
          930.05,
          930.9,
          930.95,
          931.55,
          931.75,
          931.9,
          934.15,
          934.8,
          935.9,
          936.7,
          936.85,
          937.1,
          938.65,
          938.95,
          939.8,
          942.95,
          943,
          943.1,
          943.85,
          944.65,
          945.7,
          946.95,
          947.4,
          947.75,
          948.9,
          949.8,
          949.85,
          950.75,
          951.55,
          953.65,
          954.9,
          955.15,
          955.6,
          955.75,
          956.65,
          957.1,
          958.1,
          958.15,
          958.25,
          958.45,
          959.9,
          961.4,
          962.25,
          962.9,
          963.95,
          964.35,
          964.9,
          966.25,
          966.55,
          967.85,
          967.9,
          969.85,
          970.4,
          970.45,
          970.55,
          970.85,
          973.1,
          973.35,
          973.65,
          973.95,
          978,
          978.6,
          979.05,
          979.5,
          980.35,
          981.45,
          982.95,
          985.05,
          987.95,
          989.05,
          990.3,
          990.45,
          992.7,
          993.15,
          995.35,
          996.45,
          996.85,
          996.95,
          997.75,
          998.1,
          999.8,
          999.9,
          1001.2,
          1001.5,
          1003.05,
          1004.35,
          1004.5,
          1004.75,
          1005.7,
          1006.9,
          1007.8,
          1007.9,
          1008.7,
          1009.25,
          1010,
          1011.05,
          1011.5,
          1011.8,
          1012.4,
          1013.05,
          1013.2,
          1013.35,
          1013.6,
          1014.25,
          1016.7,
          1017.35,
          1020.2,
          1020.75,
          1021.55,
          1021.75,
          1022.5,
          1022.6,
          1022.95,
          1023.75,
          1023.85,
          1023.95,
          1024,
          1024.65,
          1024.7,
          1025.05,
          1025.15,
          1026.35,
          1027.25,
          1028.75,
          1028.9,
          1029.35,
          1029.8,
          1031.1,
          1031.4,
          1031.7,
          1032.05,
          1033,
          1033.9,
          1033.95,
          1035.5,
          1035.7,
          1036,
          1039.45,
          1041.8,
          1042.65,
          1043.3,
          1043.4,
          1043.8,
          1045.25,
          1046.2,
          1046.5,
          1048.45,
          1049.05,
          1049.6,
          1050.5,
          1051.05,
          1051.9,
          1054.75,
          1054.8,
          1055.9,
          1057,
          1057.55,
          1057.85,
          1058.1,
          1061.6,
          1064.95,
          1066.15,
          1066.9,
          1067.05,
          1067.65,
          1068.15,
          1070.15,
          1070.25,
          1070.5,
          1070.7,
          1071.4,
          1071.6,
          1072.6,
          1073.3,
          1074.65,
          1077.05,
          1077.5,
          1077.95,
          1078.75,
          1079.05,
          1079.45,
          1079.65,
          1080.55,
          1081.25,
          1082.75,
          1082.8,
          1083,
          1083.7,
          1086.75,
          1087.25,
          1087.45,
          1087.7,
          1088.25,
          1090.1,
          1090.6,
          1090.65,
          1092.35,
          1093,
          1093.2,
          1093.4,
          1094.35,
          1096.6,
          1096.65,
          1097.15,
          1098.85,
          1102.4,
          1103.25,
          1107.2,
          1108,
          1108.2,
          1108.6,
          1108.8,
          1110.05,
          1110.35,
          1110.5,
          1111.2,
          1112.3,
          1113.95,
          1114.55,
          1114.85,
          1115.6,
          1117.55,
          1118.8,
          1119.35,
          1119.9,
          1121.05,
          1122.4,
          1123.15,
          1123.65,
          1124.2,
          1125.2,
          1125.6,
          1126.35,
          1126.75,
          1128.1,
          1129.35,
          1130,
          1130.85,
          1131.5,
          1133.7,
          1134.25,
          1137.05,
          1138.8,
          1139.2,
          1140.05,
          1143.8,
          1144.6,
          1146.05,
          1147,
          1147.85,
          1149.65,
          1151.05,
          1151.55,
          1152.8,
          1153.25,
          1155.6,
          1156.35,
          1156.55,
          1158.85,
          1160.45,
          1160.75,
          1161.75,
          1164.05,
          1165.55,
          1165.6,
          1165.9,
          1166.7,
          1167.6,
          1167.8,
          1170.5,
          1170.55,
          1171.3,
          1171.5,
          1173.35,
          1173.55,
          1174.35,
          1174.8,
          1175.6,
          1175.85,
          1177.05,
          1177.95,
          1178.75,
          1181.75,
          1183.05,
          1183.2,
          1183.8,
          1184,
          1185,
          1185.95,
          1187.05,
          1188.2,
          1188.25,
          1189.4,
          1189.9,
          1190.5,
          1191.2,
          1191.4,
          1192.3,
          1192.7,
          1193.55,
          1195.25,
          1195.75,
          1195.95,
          1198.05,
          1198.8,
          1199.4,
          1201.65,
          1203.9,
          1203.95,
          1205.05,
          1205.5,
          1207,
          1208.15,
          1208.6,
          1209.25,
          1210.3,
          1211.65,
          1212.1,
          1212.25,
          1212.85,
          1215.1,
          1215.45,
          1215.65,
          1215.8,
          1216.35,
          1216.6,
          1218.25,
          1218.45,
          1218.65,
          1219.85,
          1221.55,
          1221.65,
          1222.25,
          1222.65,
          1224.05,
          1225.65,
          1226.45,
          1228.65,
          1229.1,
          1230.9,
          1231.85,
          1232.9,
          1233.15,
          1233.25,
          1234.6,
          1234.8,
          1235.55,
          1237.3,
          1237.65,
          1238.65,
          1240.15,
          1240.8,
          1242.2,
          1242.25,
          1242.45,
          1244.8,
          1245.05,
          1245.6,
          1246.4,
          1247.75,
          1248.9,
          1249.25,
          1250.1,
          1250.85,
          1252,
          1252.85,
          1253.15,
          1253.5,
          1253.65,
          1253.8,
          1255.1,
          1258.15,
          1258.35,
          1259.35,
          1260.7,
          1261,
          1261.35,
          1261.45,
          1261.7,
          1263.05,
          1263.85,
          1263.9,
          1264.2,
          1265.65,
          1266.35,
          1266.4,
          1267,
          1267.05,
          1267.2,
          1267.95,
          1268.85,
          1269.1,
          1269.6,
          1270.25,
          1270.55,
          1271.8,
          1272.05,
          1273.3,
          1274.05,
          1274.45,
          1275.6,
          1275.65,
          1275.7,
          1275.85,
          1277.5,
          1277.75,
          1278.8,
          1279,
          1281.25,
          1282.85,
          1284.2,
          1285.05,
          1285.8,
          1286,
          1286.05,
          1287.85,
          1288,
          1288.3,
          1288.75,
          1291.3,
          1291.35,
          1292.2,
          1292.6,
          1292.65,
          1293.8,
          1294.6,
          1295.4,
          1296.15,
          1296.8,
          1297.35,
          1297.8,
          1298.7,
          1299.1,
          1299.8,
          1301.1,
          1301.9,
          1302.65,
          1303.25,
          1303.5,
          1304.8,
          1304.85,
          1305.95,
          1306.3,
          1307.8,
          1309,
          1309.15,
          1311.3,
          1311.6,
          1311.75,
          1312.45,
          1313.25,
          1315,
          1315.35,
          1316.9,
          1317.95,
          1319.85,
          1319.95,
          1321.3,
          1322.55,
          1322.85,
          1323.7,
          1325.85,
          1326.25,
          1326.35,
          1327.4,
          1327.85,
          1328.15,
          1328.35,
          1329.15,
          1331.05,
          1332.4,
          1334.45,
          1334.5,
          1335.2,
          1336.1,
          1336.15,
          1336.35,
          1336.65,
          1336.8,
          1336.9,
          1337.45,
          1337.5,
          1339.8,
          1340.1,
          1341.5,
          1342.15,
          1343.4,
          1344.5,
          1345.65,
          1345.75,
          1345.85,
          1346.2,
          1346.3,
          1346.9,
          1347.15,
          1348.5,
          1348.95,
          1354.4,
          1355.1,
          1355.45,
          1356.3,
          1356.7,
          1357.1,
          1358.6,
          1359.45,
          1359.5,
          1360.25,
          1362.85,
          1363.25,
          1363.45,
          1364.75,
          1367.75,
          1370.35,
          1372.45,
          1372.9,
          1373,
          1373.05,
          1374.2,
          1374.35,
          1374.9,
          1375.4,
          1375.6,
          1376.5,
          1377.7,
          1378.45,
          1378.75,
          1379.6,
          1379.8,
          1380.4,
          1381.2,
          1381.8,
          1382.9,
          1383.6,
          1385.85,
          1386.8,
          1386.9,
          1387,
          1387.35,
          1387.45,
          1388,
          1388.45,
          1388.75,
          1389.35,
          1389.6,
          1389.85,
          1390.85,
          1391.15,
          1391.65,
          1392.25,
          1393.6,
          1394.55,
          1395.05,
          1396,
          1396.25,
          1396.9,
          1397.3,
          1397.475,
          1397.65,
          1398.25,
          1398.6,
          1399.35,
          1400.3,
          1401.15,
          1401.4,
          1402.25,
          1403.1,
          1404.65,
          1405.3,
          1406,
          1406.65,
          1406.9,
          1410.25,
          1411.2,
          1411.35,
          1411.65,
          1411.9,
          1412.4,
          1412.65,
          1413,
          1414.2,
          1414.45,
          1414.65,
          1414.8,
          1415,
          1415.85,
          1416.2,
          1416.5,
          1416.75,
          1417.9,
          1419.4,
          1421.75,
          1421.9,
          1423.05,
          1423.15,
          1423.35,
          1423.65,
          1423.85,
          1424.2,
          1424.4,
          1424.6,
          1424.9,
          1426.45,
          1427.55,
          1429.65,
          1430.05,
          1430.95,
          1431.65,
          1432.55,
          1433.8,
          1434.1,
          1434.6,
          1436.95,
          1438.05,
          1439.35,
          1440.75,
          1441.65,
          1441.8,
          1441.95,
          1442,
          1442.2,
          1442.6,
          1442.65,
          1443.65,
          1444.05,
          1445.2,
          1445.95,
          1446.8,
          1447.9,
          1451.1,
          1453.1,
          1454.25,
          1458.1,
          1459.35,
          1460.85,
          1461.15,
          1461.45,
          1462.05,
          1462.6,
          1463.45,
          1463.7,
          1466.1,
          1468.75,
          1468.9,
          1470.05,
          1474.35,
          1474.9,
          1476.25,
          1477.65,
          1478.85,
          1482.3,
          1489.3,
          1490.4,
          1492.1,
          1493.1,
          1493.2,
          1493.55,
          1493.75,
          1494.5,
          1495.1,
          1496.45,
          1497.05,
          1497.9,
          1498.35,
          1498.55,
          1498.65,
          1498.85,
          1500.25,
          1500.5,
          1500.95,
          1501.75,
          1502.25,
          1505.05,
          1505.15,
          1505.35,
          1505.45,
          1505.9,
          1506.4,
          1507,
          1509.8,
          1509.9,
          1510.3,
          1510.5,
          1513.6,
          1514.85,
          1516.6,
          1517.5,
          1519,
          1520.1,
          1521.2,
          1522.65,
          1522.7,
          1523.4,
          1524.85,
          1525.35,
          1529.45,
          1529.65,
          1530.6,
          1533.8,
          1534.05,
          1536.75,
          1537.85,
          1537.9,
          1538.6,
          1539.75,
          1539.8,
          1540.05,
          1540.2,
          1540.35,
          1545.4,
          1546.3,
          1547.35,
          1548.65,
          1549.75,
          1551.6,
          1553.2,
          1554.9,
          1556.85,
          1558.65,
          1558.7,
          1559.15,
          1559.25,
          1559.3,
          1559.45,
          1563.9,
          1563.95,
          1564.05,
          1564.4,
          1566.75,
          1566.9,
          1567,
          1567.55,
          1570.7,
          1573.05,
          1573.95,
          1574.5,
          1579.7,
          1580.1,
          1581.95,
          1583.5,
          1584.8,
          1588.25,
          1588.7,
          1588.75,
          1593.1,
          1594.75,
          1595.5,
          1596.6,
          1597.05,
          1597.4,
          1600.25,
          1600.95,
          1601.2,
          1601.5,
          1608.15,
          1611,
          1611.15,
          1611.65,
          1612.2,
          1614.05,
          1614.2,
          1614.7,
          1614.9,
          1615.1,
          1618.2,
          1620.2,
          1620.25,
          1620.45,
          1620.8,
          1621.35,
          1623.15,
          1623.4,
          1626.05,
          1626.4,
          1629.2,
          1630.4,
          1633,
          1636.95,
          1637.3,
          1638.7,
          1640,
          1641.3,
          1641.8,
          1642.75,
          1643.25,
          1643.55,
          1646.45,
          1647,
          1648.45,
          1651.95,
          1652.1,
          1652.4,
          1652.95,
          1653.45,
          1653.85,
          1654.45,
          1654.6,
          1654.7,
          1654.75,
          1654.85,
          1655.35,
          1657.4,
          1662.05,
          1663.5,
          1663.75,
          1664.3,
          1665.2,
          1667.25,
          1669.4,
          1671.6,
          1672.1,
          1672.15,
          1672.35,
          1673.4,
          1673.8,
          1677.85,
          1678.05,
          1679.25,
          1679.4,
          1679.65,
          1680.25,
          1681.6,
          1682.05,
          1682.4,
          1683.6,
          1683.7,
          1685.9,
          1686.15,
          1686.85,
          1688.9,
          1689.45,
          1691.9,
          1696.2,
          1697.7,
          1698.55,
          1699.15,
          1700.9,
          1701.65,
          1702.9,
          1706.45,
          1709.1,
          1709.15,
          1710.15,
          1710.9,
          1712.9,
          1713.1,
          1714.55,
          1714.95,
          1715.1,
          1715.15,
          1718.2,
          1718.35,
          1718.95,
          1719.15,
          1723.95,
          1724.15,
          1725,
          1725.4,
          1725.95,
          1728.2,
          1729.35,
          1730.65,
          1732.6,
          1732.95,
          1733.15,
          1734.2,
          1734.5,
          1734.65,
          1737.45,
          1738.9,
          1739.6,
          1740.8,
          1742.45,
          1742.5,
          1743.05,
          1743.9,
          1745.2,
          1745.5,
          1747.2,
          1748.55,
          1748.9,
          1750.7,
          1750.85,
          1752.45,
          1752.65,
          1753,
          1755.35,
          1756.2,
          1756.6,
          1758.9,
          1759.4,
          1759.55,
          1760.25,
          1763.55,
          1764.75,
          1765.95,
          1766.75,
          1769.6,
          1776,
          1776.45,
          1777.6,
          1778.5,
          1778.7,
          1781.35,
          1782,
          1782.05,
          1782.4,
          1783.6,
          1783.75,
          1784.5,
          1784.9,
          1785.65,
          1787.35,
          1789.65,
          1789.9,
          1790.15,
          1790.35,
          1790.6,
          1790.65,
          1790.8,
          1793.25,
          1794.65,
          1794.8,
          1796.55,
          1797.1,
          1797.75,
          1798.65,
          1798.9,
          1799.3,
          1800.05,
          1801.1,
          1801.9,
          1802.15,
          1802.55,
          1803.7,
          1806.35,
          1809.35,
          1810.55,
          1810.85,
          1813.1,
          1813.35,
          1815,
          1815.3,
          1815.65,
          1816.2,
          1816.75,
          1818.3,
          1818.9,
          1820.9,
          1821.2,
          1821.8,
          1821.95,
          1825.5,
          1826.7,
          1830.05,
          1830.1,
          1832.4,
          1834.15,
          1835.3,
          1836.9,
          1837.7,
          1837.9,
          1838.15,
          1840.75,
          1841.2,
          1841.9,
          1842.7,
          1843.05,
          1846.65,
          1847.55,
          1848.8,
          1849.2,
          1849.95,
          1850.65,
          1851.45,
          1856.4,
          1857.25,
          1857.3,
          1857.75,
          1857.85,
          1859.1,
          1859.2,
          1859.5,
          1861.1,
          1862.9,
          1864.2,
          1864.65,
          1866.45,
          1867.6,
          1867.7,
          1868.4,
          1871.15,
          1871.85,
          1872.2,
          1873.7,
          1874.3,
          1874.45,
          1875.25,
          1879.25,
          1882.55,
          1882.8,
          1884.65,
          1885.15,
          1886.25,
          1886.4,
          1887,
          1888.25,
          1888.45,
          1889.5,
          1893.5,
          1898.1,
          1901,
          1901.05,
          1901.25,
          1901.65,
          1902,
          1905.4,
          1905.7,
          1908.35,
          1910.75,
          1911.5,
          1912.15,
          1912.85,
          1914.5,
          1916,
          1916.2,
          1923.5,
          1923.85,
          1924.1,
          1927.3,
          1928.7,
          1929,
          1929.95,
          1930.9,
          1931.3,
          1932.75,
          1936.85,
          1937.4,
          1938.05,
          1938.9,
          1939.35,
          1940.8,
          1940.85,
          1941.5,
          1943.9,
          1948.35,
          1949.4,
          1952.25,
          1952.8,
          1955.4,
          1956.4,
          1957.1,
          1958.45,
          1958.95,
          1959.5,
          1961.6,
          1964.6,
          1968.1,
          1971.15,
          1971.5,
          1972.35,
          1975.85,
          1978.65,
          1980.3,
          1982.1,
          1982.6,
          1983.15,
          1985.15,
          1988.05,
          1990.5,
          1992.2,
          1992.55,
          1992.85,
          1992.95,
          1993.2,
          1993.25,
          2000.2,
          2001,
          2003.6,
          2006.1,
          2006.95,
          2007.25,
          2007.85,
          2010.95,
          2015.8,
          2016.3,
          2016.45,
          2018.1,
          2018.4,
          2019.8,
          2020.9,
          2021.2,
          2021.35,
          2023.55,
          2024.1,
          2025.1,
          2028.8,
          2029.05,
          2030.75,
          2031.95,
          2032.3,
          2033.05,
          2033.85,
          2034.25,
          2036.55,
          2038.7,
          2042.05,
          2044.75,
          2044.95,
          2045.55,
          2048.8,
          2049.05,
          2053.05,
          2054.4,
          2058.5,
          2062.15,
          2065.15,
          2065.4,
          2066,
          2067,
          2070.05,
          2070.75,
          2072.75,
          2075.1,
          2076.05,
          2077.95,
          2078.55,
          2078.95,
          2080.1,
          2083.1,
          2085.45,
          2088.05,
          2088.45,
          2090.25,
          2092.9,
          2093.4,
          2093.9,
          2094.65,
          2094.9,
          2096.1,
          2104.55,
          2106.05,
          2106.3,
          2107.15,
          2108.35,
          2111.3,
          2117.2,
          2117.25,
          2130.45,
          2130.55,
          2134.3,
          2136.9,
          2139.1,
          2142.8,
          2146.5,
          2149.05,
          2151.6,
          2156.25,
          2157.3,
          2157.5,
          2162.6,
          2168.15,
          2168.9,
          2169.4,
          2172.05,
          2180.55,
          2181.55,
          2181.75,
          2184.6,
          2184.85,
          2187.15,
          2188.45,
          2188.5,
          2191.15,
          2191.7,
          2192.9,
          2193,
          2193.2,
          2193.65,
          2196.3,
          2196.45,
          2198.3,
          2198.9,
          2199.05,
          2200.7,
          2201.75,
          2203.1,
          2203.7,
          2204.35,
          2208.05,
          2208.75,
          2209.15,
          2209.75,
          2210.2,
          2211.8,
          2212.55,
          2215,
          2215.25,
          2215.4,
          2215.45,
          2220.1,
          2221.55,
          2224.5,
          2227.8,
          2230.85,
          2234.55,
          2234.95,
          2236.2,
          2237.55,
          2239.4,
          2243.9,
          2244.95,
          2245.4,
          2248.05,
          2249.1,
          2258.25,
          2259.35,
          2263.4,
          2263.45,
          2264.5,
          2265,
          2271.85,
          2272.8,
          2274.1,
          2275.1,
          2276.1,
          2278.75,
          2281.6,
          2282.95,
          2283.15,
          2283.3,
          2288.7,
          2289.9,
          2292.75,
          2296.25,
          2298.55,
          2298.9,
          2301.15,
          2302.35,
          2308.6,
          2309.55,
          2310.2,
          2312.55,
          2313.8,
          2316.85,
          2317.1,
          2320.8,
          2322.85,
          2324.7,
          2326.05,
          2333.05,
          2333.85,
          2337.45,
          2338.35,
          2339.3,
          2341.5,
          2341.55,
          2343.85,
          2344.5,
          2345.55,
          2347.85,
          2348.45,
          2349.8,
          2351.45,
          2356.75,
          2357.75,
          2364,
          2369.3,
          2369.7,
          2375.2,
          2379.1,
          2383.6,
          2386.85,
          2390.45,
          2391.15,
          2395.05,
          2395.7,
          2398.4,
          2401.05,
          2404.1,
          2404.15,
          2404.85,
          2406.1,
          2409.9,
          2413.05,
          2414.55,
          2415.95,
          2419,
          2419.55,
          2421.6,
          2421.75,
          2423.4,
          2424.05,
          2424.45,
          2424.5,
          2425.4,
          2427.1,
          2427.35,
          2429.1,
          2431.95,
          2433.5,
          2434.45,
          2438.6,
          2440.25,
          2441.7,
          2443.3,
          2444.25,
          2447.45,
          2448.5,
          2453.3,
          2455.05,
          2459.8,
          2460.35,
          2460.55,
          2462.55,
          2462.6,
          2471.25,
          2471.6,
          2473.95,
          2475.35,
          2479.05,
          2479.25,
          2483.65,
          2484,
          2490.15,
          2492.25,
          2494.65,
          2495.15,
          2495.2,
          2497.2,
          2509.25,
          2509.95,
          2510.7,
          2511.3,
          2511.55,
          2511.95,
          2513.5,
          2516.2,
          2522.4,
          2531.4,
          2531.8,
          2535.55,
          2536.55,
          2537,
          2538.05,
          2538.2,
          2540.1,
          2545.7,
          2545.75,
          2546.85,
          2548.55,
          2548.65,
          2549.1,
          2552.9,
          2553.35,
          2553.7,
          2554,
          2555.05,
          2560.1,
          2564.95,
          2566.3,
          2568.15,
          2570,
          2570.2,
          2575.45,
          2576.8,
          2583.75,
          2586,
          2588.95,
          2595.25,
          2595.85,
          2599.95,
          2603.1,
          2603.3,
          2603.95,
          2606.35,
          2607.6,
          2610.65,
          2613.4,
          2614.1,
          2618.3,
          2619.15,
          2619.25,
          2621.75,
          2623.65,
          2625.25,
          2626.15,
          2627.2,
          2627.35,
          2633.3,
          2633.4,
          2633.95,
          2635,
          2638.1,
          2640.55,
          2647.1,
          2647.2,
          2651.1,
          2651.2,
          2654.05,
          2656.3,
          2656.7,
          2657.55,
          2658.4,
          2658.8,
          2659.45,
          2661.1,
          2664.3,
          2665,
          2666.75,
          2669.45,
          2673.45,
          2674.15,
          2679.7,
          2680.15,
          2681.15,
          2683.2,
          2684.35,
          2684.85,
          2686.05,
          2688.45,
          2688.85,
          2689.35,
          2692.75,
          2696.55,
          2708.2,
          2715.3,
          2719.2,
          2722.2,
          2723.15,
          2723.4,
          2723.75,
          2724.25,
          2727.3,
          2727.8,
          2730.85,
          2731,
          2737.05,
          2743.45,
          2747.2,
          2748.7,
          2751,
          2753.8,
          2754,
          2762.75,
          2763,
          2763.35,
          2766.4,
          2768.35,
          2768.65,
          2773.9,
          2774.55,
          2779.5,
          2780.6,
          2782.4,
          2789.7,
          2790.65,
          2793.55,
          2796.35,
          2796.45,
          2799,
          2799.75,
          2802.3,
          2807.1,
          2807.65,
          2809.05,
          2813.05,
          2815.25,
          2820.65,
          2823,
          2830.45,
          2832.75,
          2835.5,
          2835.9,
          2838.55,
          2839.45,
          2839.95,
          2845.15,
          2847.2,
          2848.45,
          2852.4,
          2854.95,
          2857.6,
          2861.45,
          2862.55,
          2871.5,
          2874.45,
          2877.05,
          2877.95,
          2878.55,
          2878.75,
          2879.2,
          2879.9,
          2882.25,
          2884.9,
          2888.7,
          2893.4,
          2894.55,
          2896.55,
          2896.6,
          2897.95,
          2898.95,
          2901.8,
          2907.35,
          2907.55,
          2908.2,
          2909.95,
          2911.5,
          2911.8,
          2917.65,
          2919.85,
          2921.75,
          2924.05,
          2928.5,
          2929.75,
          2933.95,
          2936.25,
          2937.65,
          2939.8,
          2948.6,
          2958.95,
          2959.8,
          2960.1,
          2961.4,
          2962,
          2964,
          2964.05,
          2964.8,
          2965.75,
          2966.95,
          2970.3,
          2970.8,
          2971.7,
          2974.5,
          2976.95,
          2979.2,
          2979.3,
          2983.65,
          2985.25,
          2989.6,
          2997.45,
          2998,
          3000.25,
          3003.55,
          3005.8,
          3007.25,
          3008.15,
          3008.55,
          3009.5,
          3011.65,
          3015.75,
          3019.1,
          3019.7,
          3021.3,
          3021.45,
          3023.55,
          3023.65,
          3023.85,
          3024.15,
          3027.25,
          3027.65,
          3035.35,
          3035.8,
          3038.55,
          3042.25,
          3043.6,
          3043.7,
          3045.75,
          3047.15,
          3053,
          3055.5,
          3058.15,
          3058.3,
          3062.45,
          3068.6,
          3069.45,
          3077,
          3082.1,
          3084.9,
          3085.35,
          3088.25,
          3088.75,
          3089.1,
          3089.6,
          3090.05,
          3090.65,
          3091.75,
          3092,
          3094.05,
          3094.65,
          3096.9,
          3097,
          3097.2,
          3103.25,
          3107.3,
          3109.9,
          3112.05,
          3116.15,
          3119.9,
          3121.1,
          3121.4,
          3121.45,
          3122.4,
          3126.45,
          3126.85,
          3128.8,
          3131.55,
          3131.8,
          3132.75,
          3134.7,
          3139.8,
          3141.7,
          3143.65,
          3145.15,
          3145.9,
          3147.15,
          3157,
          3161.2,
          3161.4,
          3161.6,
          3162.65,
          3165.6,
          3166.9,
          3168,
          3168.75,
          3169.55,
          3171.6,
          3173.35,
          3175.85,
          3177.25,
          3180.5,
          3181.8,
          3187.65,
          3190.25,
          3190.65,
          3196,
          3199,
          3204.4,
          3205.6,
          3208.65,
          3210.35,
          3211.2,
          3211.9,
          3213.75,
          3217.65,
          3219.75,
          3221.25,
          3231.05,
          3236.35,
          3237.05,
          3238.4,
          3242.5,
          3244.4,
          3246.45,
          3247.55,
          3249.4,
          3250.45,
          3251.3,
          3251.85,
          3252,
          3254.35,
          3255.35,
          3260.1,
          3263.6,
          3263.9,
          3265.95,
          3268.05,
          3270.25,
          3273.8,
          3273.95,
          3274.35,
          3275.15,
          3281.65,
          3282.75,
          3283.05,
          3292.3,
          3297,
          3301.05,
          3306.85,
          3313.4,
          3314.15,
          3316.1,
          3320.6,
          3320.75,
          3321.35,
          3327.05,
          3330.1,
          3334.9,
          3334.95,
          3339.05,
          3340.55,
          3342,
          3342.45,
          3343.15,
          3344.1,
          3346.8,
          3348.1,
          3349.1,
          3353.4,
          3355.65,
          3357.9,
          3358.65,
          3363.8,
          3364.55,
          3365.4,
          3366.05,
          3369.05,
          3369.25,
          3370.2,
          3371,
          3371.75,
          3373.4,
          3375.9,
          3377.8,
          3379.25,
          3382.3,
          3389.25,
          3398.9,
          3399.85,
          3403.4,
          3409.1,
          3410,
          3410.6,
          3413.25,
          3414.65,
          3415.25,
          3416.85,
          3418.2,
          3419.3,
          3419.5,
          3420.5,
          3423.5,
          3425.35,
          3431.75,
          3435.6,
          3437.45,
          3437.5,
          3439,
          3440.25,
          3442.15,
          3442.8,
          3450.15,
          3452.55,
          3454.6,
          3457.45,
          3460.3,
          3460.95,
          3462.1,
          3465.05,
          3465.7,
          3470.8,
          3471.1,
          3472.05,
          3474.2,
          3478.15,
          3478.75,
          3479.05,
          3480.35,
          3482.85,
          3483.45,
          3486.65,
          3487.95,
          3488.15,
          3491.55,
          3496.3,
          3503.5,
          3505.1,
          3509.4,
          3510.3,
          3512.15,
          3512.5,
          3512.9,
          3517.9,
          3521.7,
          3522.65,
          3527,
          3527.3,
          3529.95,
          3532,
          3532.25,
          3532.85,
          3533.6,
          3539.25,
          3540.65,
          3541.1,
          3541.4,
          3545.05,
          3545.1,
          3548.3,
          3551.65,
          3554.6,
          3557.7,
          3561.15,
          3562.5,
          3565.65,
          3566.6,
          3566.7,
          3571.6,
          3574.5,
          3579.15,
          3580.95,
          3581.4,
          3581.6,
          3582.4,
          3590.2,
          3591.25,
          3593.8,
          3597.5,
          3600.65,
          3603.45,
          3605.6,
          3608,
          3616.25,
          3617.1,
          3618.7,
          3623.95,
          3624.35,
          3625.2,
          3626.35,
          3627.3,
          3629.2,
          3632,
          3634.8,
          3635.15,
          3638.25,
          3641.5,
          3645.05,
          3645.5,
          3645.6,
          3645.75,
          3646.8,
          3649.6,
          3650.35,
          3653,
          3656.25,
          3662.25,
          3665.55,
          3670.5,
          3673.15,
          3673.6,
          3674.95,
          3682.45,
          3684.95,
          3686.05,
          3687.75,
          3687.85,
          3688.6,
          3691.2,
          3694.45,
          3694.7,
          3704.15,
          3707.6,
          3708.4,
          3713.95,
          3720.35,
          3721.9,
          3723.65,
          3725.5,
          3726.15,
          3729.6,
          3729.75,
          3735.45,
          3739.8,
          3741.85,
          3751.15,
          3753.2,
          3756.4,
          3756.45,
          3765.05,
          3766.2,
          3767.4,
          3769.7,
          3770,
          3771.5,
          3772.5,
          3772.65,
          3775.85,
          3778,
          3778.1,
          3778.2,
          3778.85,
          3782.4,
          3784,
          3789.2,
          3791.6,
          3794.5,
          3795.45,
          3801.3,
          3801.7,
          3804.4,
          3808,
          3808.2,
          3810.55,
          3810.8,
          3815.4,
          3822.45,
          3824.2,
          3827.9,
          3829.75,
          3833.95,
          3834.4,
          3835.55,
          3836.3,
          3838.2,
          3838.75,
          3842.6,
          3845.45,
          3846.35,
          3846.75,
          3847.6,
          3848,
          3848.8,
          3851.45,
          3857.1,
          3858.05,
          3861.45,
          3865.45,
          3865.6,
          3870,
          3870.3,
          3871.85,
          3874.1,
          3875.4,
          3876.2,
          3877.65,
          3877.95,
          3880.05,
          3882.3,
          3883.3,
          3886.05,
          3886.45,
          3886.85,
          3887.25,
          3887.85,
          3888.65,
          3893.6,
          3894.4,
          3895.35,
          3899.05,
          3901.25,
          3902.45,
          3902.6,
          3906.7,
          3914.05,
          3915.4,
          3919.15,
          3921.1,
          3921.3,
          3923.8,
          3928.3,
          3930.55,
          3930.6,
          3942.45,
          3944.5,
          3946.9,
          3948.45,
          3949.15,
          3950.85,
          3952.45,
          3952.65,
          3953.15,
          3953.7,
          3954.1,
          3956.7,
          3958.2,
          3958.25,
          3958.85,
          3959.15,
          3965.05,
          3966.3,
          3970.4,
          3972.25,
          3973.2,
          3974.15,
          3974.7,
          3975.7,
          3975.9,
          3983.6,
          3985.35,
          3988.5,
          3990.6,
          3990.75,
          3994.05,
          3996.8,
          4003,
          4003.85,
          4009.2,
          4013.8,
          4014,
          4014.2,
          4014.6,
          4016.2,
          4016.3,
          4016.75,
          4017.45,
          4018.05,
          4018.35,
          4018.55,
          4024.2,
          4025.5,
          4025.6,
          4036,
          4039,
          4039.3,
          4039.5,
          4040.2,
          4040.65,
          4042.2,
          4048.95,
          4052.4,
          4054.2,
          4055.5,
          4059.85,
          4060.55,
          4060.9,
          4063,
          4068,
          4069.9,
          4070.95,
          4079.55,
          4084.35,
          4085.75,
          4089.45,
          4096.9,
          4097.05,
          4103.9,
          4107.25,
          4107.3,
          4108.15,
          4109,
          4111.35,
          4113.15,
          4113.7,
          4116.8,
          4116.9,
          4119.4,
          4122.65,
          4122.9,
          4124.65,
          4126.2,
          4126.35,
          4131.2,
          4133.95,
          4134.7,
          4135,
          4136.4,
          4137.2,
          4138.7,
          4138.9,
          4140.1,
          4144.8,
          4144.9,
          4145.25,
          4145.9,
          4149.45,
          4154.55,
          4155.95,
          4156.8,
          4158.25,
          4159.45,
          4162.05,
          4164.4,
          4166.35,
          4174.35,
          4176.7,
          4178.65,
          4179.1,
          4179.2,
          4188.4,
          4189.7,
          4191.45,
          4192.15,
          4193.4,
          4194.85,
          4200.25,
          4209.95,
          4213.9,
          4214.25,
          4217.8,
          4220.35,
          4222.95,
          4224.7,
          4226.7,
          4228.55,
          4230.25,
          4233.95,
          4234.15,
          4236.6,
          4237.5,
          4238.45,
          4245.55,
          4250.1,
          4254.1,
          4261.2,
          4263.4,
          4263.45,
          4264,
          4264.25,
          4264.6,
          4265,
          4266.4,
          4267.15,
          4275.75,
          4282.4,
          4284.2,
          4284.65,
          4285.8,
          4287.2,
          4295.35,
          4297.6,
          4297.95,
          4298.45,
          4299.2,
          4299.75,
          4299.95,
          4300.45,
          4300.8,
          4303.65,
          4304,
          4304.5,
          4307.1,
          4308.25,
          4309.55,
          4310.35,
          4312.5,
          4317.35,
          4318.35,
          4322.85,
          4323.35,
          4326.25,
          4326.8,
          4327.5,
          4331.4,
          4335.2,
          4345,
          4348.1,
          4354.45,
          4361.55,
          4362.05,
          4368.85,
          4368.95,
          4370.25,
          4370.75,
          4374.55,
          4375.8,
          4378.35,
          4378.8,
          4378.9,
          4385.05,
          4386.2,
          4390.25,
          4391.25,
          4391.45,
          4392.5,
          4408.45,
          4415.75,
          4421.95,
          4422.95,
          4428.45,
          4428.6,
          4433.3,
          4438.2,
          4442.75,
          4445.3,
          4447.55,
          4447.75,
          4448.8,
          4449.75,
          4451.85,
          4453.3,
          4454.25,
          4456.35,
          4456.65,
          4459.15,
          4459.8,
          4461.85,
          4464.8,
          4469.1,
          4473,
          4473.45,
          4475.9,
          4478.85,
          4479.2,
          4480.7,
          4483.95,
          4484.05,
          4487.3,
          4492.9,
          4494.65,
          4495.65,
          4504.9,
          4507.15,
          4508.65,
          4509.5,
          4510.8,
          4513.65,
          4519.5,
          4520.15,
          4523.25,
          4524.05,
          4525.8,
          4526.85,
          4528,
          4532.3,
          4534.45,
          4535.85,
          4539.35,
          4539.6,
          4541.9,
          4542.35,
          4543.15,
          4543.95,
          4546,
          4549.05,
          4549.45,
          4551.5,
          4554.85,
          4555.2,
          4557.5,
          4563,
          4564.9,
          4566.5,
          4575.35,
          4576.3,
          4577.75,
          4577.9,
          4586.15,
          4589.85,
          4590.35,
          4594.65,
          4599.15,
          4600.95,
          4613.95,
          4614.55,
          4615.25,
          4615.9,
          4616.05,
          4616.1,
          4619.55,
          4620.4,
          4627.65,
          4627.8,
          4630.2,
          4631.7,
          4634.35,
          4639.45,
          4641.1,
          4652.4,
          4653.25,
          4657.95,
          4663.4,
          4664.15,
          4664.2,
          4664.5,
          4667,
          4669.2,
          4671.65,
          4671.7,
          4674.4,
          4674.55,
          4676.7,
          4677.1,
          4681.75,
          4684.3,
          4685.55,
          4688.65,
          4689.15,
          4690.65,
          4692.55,
          4692.95,
          4693.2,
          4698.05,
          4707.1,
          4707.85,
          4713.4,
          4719.75,
          4720,
          4729.3,
          4729.75,
          4730.6,
          4730.9,
          4732.35,
          4733.1,
          4735.2,
          4735.35,
          4738.3,
          4738.85,
          4741.45,
          4744.35,
          4746.05,
          4747.2,
          4747.5,
          4747.65,
          4747.85,
          4748.7,
          4753.85,
          4754.3,
          4758.8,
          4759.55,
          4760.3,
          4764,
          4765,
          4779.45,
          4784.45,
          4786.1,
          4786.15,
          4793.8,
          4798.4,
          4801.1,
          4804.65,
          4804.75,
          4805.3,
          4805.65,
          4807.35,
          4807.45,
          4808.7,
          4811.6,
          4818.8,
          4819.75,
          4820.55,
          4824.45,
          4828.05,
          4834,
          4839.15,
          4845.4,
          4847.05,
          4847.35,
          4849.1,
          4854.3,
          4855.35,
          4858.7,
          4859.1,
          4859.25,
          4859.95,
          4860.35,
          4860.85,
          4861.45,
          4862.5,
          4863.85,
          4868.4,
          4869.35,
          4869.5,
          4871.45,
          4872.2,
          4872.35,
          4882.8,
          4884.85,
          4885.85,
          4888.2,
          4889.2,
          4889.3,
          4890.5,
          4891.5,
          4895.1,
          4896.35,
          4900.65,
          4902.8,
          4903.15,
          4903.2,
          4904.2,
          4904.25,
          4904.85,
          4905.75,
          4908.25,
          4911.05,
          4911.35,
          4914.8,
          4914.9,
          4915.15,
          4916.4,
          4916.95,
          4917.75,
          4917.9,
          4919.7,
          4920.55,
          4920.8,
          4921.2,
          4922.4,
          4925.35,
          4929.55,
          4931.8,
          4932.5,
          4939.25,
          4946.05,
          4946.7,
          4947.55,
          4949.1,
          4952.95,
          4953.25,
          4959.15,
          4959.6,
          4964.7,
          4965,
          4965.1,
          4968,
          4972.1,
          4973.4,
          4976.15,
          4977.2,
          4981.15,
          4982.5,
          4983.05,
          4984.85,
          4985.9,
          4991.5,
          4993.4,
          4995.35,
          4997.5,
          5000.05,
          5011.15,
          5012.1,
          5012.35,
          5013,
          5016.25,
          5016.65,
          5017.7,
          5023,
          5025,
          5025.8,
          5025.85,
          5029.05,
          5031,
          5031.85,
          5032.25,
          5034.05,
          5036.9,
          5038.15,
          5038.45,
          5040.2,
          5042.75,
          5043.2,
          5044.8,
          5059.75,
          5060.85,
          5060.9,
          5064.45,
          5064.85,
          5067.45,
          5068.05,
          5070.4,
          5071.9,
          5073.1,
          5083.55,
          5088.4,
          5099.15,
          5102.35,
          5116.6,
          5121.75,
          5125.5,
          5125.75,
          5129.3,
          5129.45,
          5135.15,
          5135.35,
          5138.1,
          5139.65,
          5150.55,
          5153.5,
          5154.5,
          5163,
          5163.3,
          5165.7,
          5166.2,
          5168.1,
          5174.35,
          5175.3,
          5186,
          5189.75,
          5193.2,
          5194.05,
          5196.1,
          5199.8,
          5200.8,
          5206.55,
          5212.65,
          5215.1,
          5215.25,
          5219.65,
          5222.3,
          5222.35,
          5224.5,
          5224.95,
          5229.45,
          5229.8,
          5231.2,
          5231.3,
          5232.9,
          5233.25,
          5234.95,
          5236.4,
          5237.4,
          5243.05,
          5244.45,
          5251.75,
          5253.95,
          5264.25,
          5264.3,
          5264.5,
          5265.2,
          5265.5,
          5265.55,
          5270.6,
          5276.1,
          5289.05,
          5289.8,
          5290.45,
          5294.6,
          5295.7,
          5299.65,
          5301.1,
          5305.05,
          5308.7,
          5309.5,
          5311.85,
          5315.1,
          5315.8,
          5317.8,
          5321.25,
          5324.5,
          5327.25,
          5329,
          5329.55,
          5330.2,
          5333.35,
          5336.35,
          5347.95,
          5348.65,
          5357.75,
          5360.75,
          5364.8,
          5375.15,
          5376.4,
          5377.8,
          5386.5,
          5388.15,
          5396.25,
          5398.6,
          5401.9,
          5405.8,
          5409.75,
          5411.4,
          5411.65,
          5420.65,
          5424.25,
          5430.35,
          5430.65,
          5431.4,
          5431.9,
          5432.2,
          5435,
          5436.45,
          5437.1,
          5437.75,
          5438.95,
          5442.05,
          5443.65,
          5445.95,
          5448.6,
          5450.7,
          5458.8,
          5459.2,
          5460.2,
          5461.45,
          5468.45,
          5468.95,
          5471.75,
          5475.9,
          5480.25,
          5481.25,
          5483.9,
          5484.4,
          5487,
          5496.9,
          5497.05,
          5498.2,
          5498.8,
          5500.6,
          5502.55,
          5511.65,
          5514.95,
          5515.45,
          5515.8,
          5522.7,
          5526.75,
          5528.9,
          5535.8,
          5536.5,
          5538.35,
          5538.8,
          5542.55,
          5550.1,
          5552.05,
          5552.5,
          5553.25,
          5555.3,
          5560,
          5563.65,
          5564.85,
          5566.4,
          5567.45,
          5567.55,
          5574.35,
          5576.3,
          5580.8,
          5581.05,
          5585.4,
          5586.45,
          5588.8,
          5589.3,
          5589.45,
          5594,
          5595.3,
          5597.65,
          5598,
          5598.3,
          5600.15,
          5601.4,
          5602.25,
          5607.75,
          5608.4,
          5610.15,
          5611.7,
          5611.75,
          5617.95,
          5618.3,
          5621.85,
          5623.7,
          5625.55,
          5629.15,
          5629.55,
          5632.55,
          5637.85,
          5645.8,
          5646.6,
          5647.95,
          5655.45,
          5656.75,
          5661.7,
          5662.25,
          5669.5,
          5673.7,
          5676,
          5676.65,
          5680.9,
          5681.1,
          5682.25,
          5683.6,
          5686.4,
          5688.45,
          5692.65,
          5696.6,
          5703,
          5703.25,
          5705.05,
          5706.2,
          5706.3,
          5708.2,
          5711.05,
          5714.2,
          5714.25,
          5717.85,
          5718.2,
          5720.35,
          5720.95,
          5727.15,
          5727.45,
          5728.55,
          5730.15,
          5730.7,
          5731.4,
          5731.45,
          5731.85,
          5733.4,
          5737.6,
          5743.3,
          5744.35,
          5746.75,
          5749.8,
          5750,
          5753.25,
          5755.8,
          5757.2,
          5760.65,
          5762.95,
          5763.15,
          5764.7,
          5774.55,
          5776.45,
          5779.6,
          5780.7,
          5784.3,
          5785.65,
          5791.1,
          5791.85,
          5794.45,
          5798.3,
          5809.75,
          5810.9,
          5811.8,
          5812,
          5815.15,
          5817,
          5817.45,
          5817.7,
          5822.3,
          5824.75,
          5825.5,
          5826.65,
          5831.2,
          5832,
          5832.65,
          5835.5,
          5839.3,
          5841.35,
          5844.65,
          5846.65,
          5848.6,
          5860.7,
          5861.75,
          5867,
          5869.4,
          5873.75,
          5878.9,
          5882.75,
          5883.85,
          5886.85,
          5890,
          5893.9,
          5893.95,
          5894.5,
          5895.45,
          5897.4,
          5898.6,
          5899.85,
          5903.15,
          5913.95,
          5914.4,
          5916.95,
          5917.55,
          5919.35,
          5924.4,
          5925.75,
          5930.05,
          5931,
          5931.75,
          5935.1,
          5936.55,
          5941.05,
          5943.65,
          5948.7,
          5950.2,
          5953,
          5956.85,
          5957.9,
          5958.85,
          5959.3,
          5960.5,
          5963.95,
          5965.95,
          5968.4,
          5969.3,
          5969.85,
          5969.95,
          5971.25,
          5974.3,
          5976.9,
          5979.7,
          5980.55,
          5980.75,
          5981.65,
          5985,
          5985.75,
          5986.45,
          5986.55,
          5991.05,
          5997.1,
          5999.85,
          6000.1,
          6001.45,
          6004.85,
          6017.9,
          6018.65,
          6019.35,
          6028.95,
          6029,
          6029.9,
          6033.1,
          6033.3,
          6034.85,
          6038.55,
          6042.7,
          6045.9,
          6046.1,
          6049.5,
          6052.25,
          6055.55,
          6056.9,
          6058.95,
          6065.3,
          6066.55,
          6067.4,
          6068.65,
          6069.25,
          6075.9,
          6077.75,
          6078.75,
          6079,
          6081.4,
          6083.1,
          6093.3,
          6094.25,
          6096.45,
          6096.9,
          6109.65,
          6109.75,
          6110.75,
          6118.95,
          6126.1,
          6126.15,
          6129.2,
          6129.65,
          6130.85,
          6130.95,
          6132.7,
          6139.5,
          6140.85,
          6141.65,
          6145.2,
          6148.45,
          6151.9,
          6152.3,
          6152.4,
          6153.85,
          6155.4,
          6157.6,
          6161.9,
          6164.7,
          6171.2,
          6172,
          6176.6,
          6179.35,
          6185.15,
          6185.8,
          6194.1,
          6201.95,
          6218.45,
          6223.3,
          6223.8,
          6224.8,
          6225.4,
          6227.5,
          6230.1,
          6236.75,
          6237.05,
          6239.05,
          6241.35,
          6252.7,
          6253,
          6254.45,
          6256.2,
          6263.8,
          6273.4,
          6287.3,
          6292.7,
          6293.2,
          6293.45,
          6293.75,
          6296.75,
          6297.65,
          6300.15,
          6300.85,
          6301.7,
          6302.8,
          6302.85,
          6306.5,
          6309.65,
          6310.9,
          6311.2,
          6312.9,
          6314.35,
          6316.2,
          6322.1,
          6325.25,
          6328.7,
          6330.4,
          6332.75,
          6333.4,
          6333.8,
          6339.3,
          6339.45,
          6342.7,
          6347.55,
          6350.5,
          6352.4,
          6362.35,
          6363.45,
          6365.35,
          6367.2,
          6368.2,
          6369.45,
          6373.1,
          6375.2,
          6375.8,
          6376.55,
          6382,
          6382.55,
          6383.9,
          6385.95,
          6388.65,
          6392.85,
          6393.65,
          6397.6,
          6398.05,
          6401.25,
          6404,
          6411.25,
          6416.7,
          6423,
          6424.25,
          6424.7,
          6425.65,
          6430.9,
          6431.05,
          6435.25,
          6441.85,
          6444.05,
          6448.85,
          6449.15,
          6457.15,
          6460.55,
          6463.15,
          6468.6,
          6470.1,
          6471.85,
          6474.4,
          6474.45,
          6479.4,
          6480.9,
          6487.2,
          6496.15,
          6501.35,
          6503.2,
          6506.15,
          6510.45,
          6511.25,
          6511.8,
          6518.35,
          6519.75,
          6520.8,
          6521.9,
          6526.65,
          6536.5,
          6538.45,
          6548.65,
          6549.45,
          6555.2,
          6557.75,
          6561.25,
          6562.9,
          6563.4,
          6565.85,
          6567.9,
          6572.85,
          6578.55,
          6585.2,
          6586.85,
          6588.95,
          6589.6,
          6590.5,
          6590.8,
          6595,
          6595.9,
          6597.25,
          6602.9,
          6603.8,
          6605.55,
          6613.65,
          6614.9,
          6631.85,
          6632.75,
          6637.9,
          6638.35,
          6640.7,
          6643.5,
          6652.45,
          6654.1,
          6668,
          6668.05,
          6668.35,
          6669.05,
          6669.45,
          6671.7,
          6674.65,
          6683.4,
          6687.85,
          6688.1,
          6688.95,
          6689,
          6690.75,
          6692.65,
          6697.2,
          6697.35,
          6700.05,
          6703.5,
          6705.7,
          6707.15,
          6713.2,
          6716.45,
          6717.9,
          6719.9,
          6721.6,
          6725.3,
          6725.5,
          6733,
          6733.15,
          6735.05,
          6741.15,
          6743.55,
          6744.2,
          6744.25,
          6747.35,
          6751.35,
          6754.35,
          6758.45,
          6766.95,
          6767.1,
          6770.5,
          6770.85,
          6779.05,
          6780.1,
          6782.15,
          6786.1,
          6792.45,
          6794.75,
          6812.95,
          6816.95,
          6819.45,
          6823.4,
          6825.65,
          6827.5,
          6838.6,
          6840.95,
          6841.05,
          6841.3,
          6841.4,
          6841.45,
          6843.15,
          6844.5,
          6849.4,
          6849.75,
          6856.45,
          6856.95,
          6858.9,
          6859.05,
          6860.6,
          6869.7,
          6871.7,
          6875.35,
          6880.85,
          6885.75,
          6889.8,
          6891.4,
          6891.45,
          6895.5,
          6910.3,
          6912.7,
          6914.95,
          6921.7,
          6925.9,
          6929.4,
          6936.85,
          6944.5,
          6951.15,
          6953.4,
          6954.15,
          6962.85,
          6976.75,
          6982.5,
          6989.45,
          6989.7,
          6991.6,
          6991.9,
          6993.65,
          6994.6,
          6994.8,
          6997.3,
          6998.95,
          7002.95,
          7008.15,
          7009.5,
          7015.9,
          7028.5,
          7030.65,
          7031.3,
          7031.45,
          7035.6,
          7039.05,
          7039.45,
          7047.5,
          7049.5,
          7049.75,
          7051.95,
          7053.35,
          7061.65,
          7069.25,
          7069.3,
          7074.4,
          7076.35,
          7082.45,
          7082.5,
          7082.85,
          7085.5,
          7099,
          7104.2,
          7107,
          7108.2,
          7110.75,
          7111.3,
          7112.15,
          7113.75,
          7114.25,
          7118.9,
          7129.45,
          7132.15,
          7133.1,
          7133.45,
          7138.65,
          7142.5,
          7149.35,
          7159.05,
          7159.7,
          7168.25,
          7171.7,
          7173.15,
          7181.25,
          7181.95,
          7188.5,
          7195.35,
          7209,
          7210.85,
          7213.75,
          7222.75,
          7227.45,
          7234.8,
          7238.6,
          7240.65,
          7244.7,
          7245.9,
          7246.15,
          7251.7,
          7251.9,
          7261.25,
          7261.75,
          7266.95,
          7279.35,
          7281.6,
          7283.25,
          7285.7,
          7288.4,
          7291.75,
          7297.75,
          7303.05,
          7308.95,
          7317.1,
          7320.9,
          7321.05,
          7322.5,
          7323.15,
          7325.1,
          7332.4,
          7334.05,
          7337.55,
          7344.45,
          7346.2,
          7349.35,
          7362.9,
          7365.3,
          7365.7,
          7379.8,
          7382.25,
          7382.85,
          7383.7,
          7386.05,
          7388.45,
          7396.15,
          7397,
          7405.5,
          7412.25,
          7413.55,
          7422.1,
          7430.75,
          7447.7,
          7455.45,
          7459,
          7459.05,
          7467.5,
          7467.55,
          7470.1,
          7472.15,
          7475.1,
          7475.85,
          7493.05,
          7508.55,
          7511.3,
          7511.65,
          7511.9,
          7517.7,
          7521.95,
          7530.8,
          7537.5,
          7542.25,
          7544,
          7544.3,
          7548.6,
          7550.3,
          7553.6,
          7554.05,
          7555,
          7556.9,
          7559.55,
          7565.35,
          7567.2,
          7576.7,
          7578.05,
          7581.5,
          7589.8,
          7609.75,
          7610.1,
          7611.55,
          7616,
          7623.2,
          7624.2,
          7629.85,
          7634.25,
          7634.8,
          7657.4,
          7658.3,
          7661.8,
          7665.8,
          7677.4,
          7679.65,
          7689.8,
          7707.7,
          7711.25,
          7711.45,
          7713.55,
          7714.65,
          7719.5,
          7726.35,
          7732.65,
          7737.55,
          7746.7,
          7748.75,
          7751.7,
          7752.05,
          7758.9,
          7767.25,
          7774.05,
          7782.85,
          7789.6,
          7795.95,
          7806.5,
          7806.6,
          7839.85,
          7840.6,
          7842.3,
          7843.55,
          7845.8,
          7848.5,
          7849.85,
          7852.4,
          7853.7,
          7854.15,
          7854.9,
          7862.25,
          7869.05,
          7875,
          7878.3,
          7880.25,
          7881.2,
          7882.25,
          7882.5,
          7887.25,
          7895.15,
          7898.45,
          7904.25,
          7919.8,
          7920.7,
          7922.75,
          7930.55,
          7932.5,
          7939.25,
          7942.15,
          7943.45,
          7953.25,
          7962.2,
          7965.95,
          7966.9,
          7982.5,
          7984.15,
          7985.9,
          7987.6,
          7990.05,
          7993.3,
          7998.8,
          8003.8,
          8012.75,
          8013.55,
          8016.6,
          8022.85,
          8033.1,
          8035.95,
          8041.65,
          8046.85,
          8058.55,
          8058.85,
          8061.5,
          8065.65,
          8071.05,
          8075.35,
          8078.1,
          8086.4,
          8093.15,
          8100.25,
          8100.55,
          8124.2,
          8126.65,
          8129.3,
          8152.3,
          8164.1,
          8165.1,
          8166.8,
          8175.9,
          8182.75,
          8182.85,
          8192.6,
          8196.4,
          8220.4,
          8240.85,
          8244.3,
          8248.5,
          8250,
          8277.05,
          8289.2,
          8297.5,
          8306.05,
          8308.9,
          8309.55,
          8310.55,
          8312.4,
          8312.75,
          8317.95,
          8331.95,
          8332.15,
          8333.95,
          8337.45,
          8349.45,
          8349.7,
          8375.05,
          8399.15,
          8404.9,
          8405,
          8424.9,
          8425.15,
          8425.3,
          8436.25,
          8443.7,
          8456.75,
          8468.2,
          8476.5,
          8477.6,
          8477.7,
          8496.7,
          8529.5,
          8543.25,
          8547.15,
          8564.75,
          8594.4,
          8670.1,
          8672.45
         ],
         "xaxis": "x2",
         "yaxis": "y2"
        },
        {
         "alignmentgroup": "True",
         "bingroup": "x",
         "histfunc": "sum",
         "hovertemplate": "Churn=Yes<br>TotalCharges=%{x}<br>sum of Count=%{y}<extra></extra>",
         "legendgroup": "Yes",
         "marker": {
          "color": "red",
          "pattern": {
           "shape": ""
          }
         },
         "name": "Yes",
         "offsetgroup": "Yes",
         "orientation": "v",
         "showlegend": true,
         "type": "histogram",
         "x": [
          18.85,
          19.1,
          19.25,
          19.3,
          19.4,
          19.45,
          19.5,
          19.55,
          19.6,
          19.65,
          19.7,
          19.75,
          19.8,
          19.85,
          19.9,
          19.95,
          20,
          20.05,
          20.1,
          20.15,
          20.2,
          20.25,
          20.3,
          20.4,
          20.5,
          20.55,
          20.6,
          20.85,
          20.9,
          20.95,
          21,
          23.45,
          24.05,
          24.25,
          24.45,
          24.6,
          24.75,
          24.8,
          25.05,
          25.1,
          25.15,
          25.2,
          25.25,
          25.3,
          25.7,
          25.8,
          28.3,
          29.7,
          29.95,
          30.2,
          30.5,
          31.35,
          31.55,
          33.2,
          34.7,
          35.05,
          35.25,
          35.45,
          35.55,
          35.75,
          35.85,
          35.9,
          36.45,
          36.55,
          38.7,
          39.65,
          40.1,
          40.2,
          41.85,
          42.9,
          43.3,
          43.95,
          44.1,
          44.15,
          44.35,
          44.4,
          44.45,
          44.65,
          44.7,
          44.9,
          45.05,
          45.1,
          45.15,
          45.3,
          45.4,
          45.6,
          45.65,
          45.7,
          45.75,
          45.8,
          45.85,
          45.95,
          46,
          46.2,
          46.3,
          47.5,
          48.55,
          48.6,
          48.95,
          49.25,
          49.55,
          49.65,
          49.9,
          49.95,
          50.1,
          50.15,
          50.35,
          50.45,
          50.5,
          50.55,
          50.6,
          50.65,
          50.75,
          50.8,
          50.9,
          51.15,
          51.25,
          52.2,
          53.5,
          53.55,
          53.95,
          54.35,
          54.75,
          54.9,
          55,
          55.2,
          55.4,
          55.7,
          55.8,
          56.25,
          56.35,
          58.15,
          58.85,
          58.9,
          59.05,
          59.2,
          59.75,
          59.85,
          60,
          60.1,
          60.15,
          62.05,
          62.25,
          63.75,
          64.55,
          66.95,
          68.5,
          68.65,
          68.75,
          68.95,
          69.1,
          69.15,
          69.2,
          69.25,
          69.35,
          69.4,
          69.5,
          69.55,
          69.6,
          69.65,
          69.7,
          69.75,
          69.8,
          69.85,
          69.9,
          69.95,
          70,
          70.05,
          70.1,
          70.15,
          70.25,
          70.3,
          70.4,
          70.45,
          70.5,
          70.55,
          70.6,
          70.65,
          70.75,
          70.8,
          70.85,
          70.9,
          71,
          71.1,
          71.15,
          71.35,
          71.55,
          71.65,
          72.4,
          73,
          73.5,
          73.55,
          73.6,
          73.65,
          74.2,
          74.25,
          74.3,
          74.35,
          74.4,
          74.45,
          74.5,
          74.6,
          74.7,
          74.9,
          74.95,
          75.05,
          75.1,
          75.3,
          75.35,
          75.45,
          75.6,
          75.7,
          75.75,
          75.8,
          75.9,
          76,
          76.2,
          76.35,
          76.4,
          76.45,
          77.15,
          77.5,
          77.75,
          78.05,
          78.45,
          78.65,
          78.8,
          78.95,
          79.05,
          79.1,
          79.15,
          79.2,
          79.25,
          79.35,
          79.45,
          79.5,
          79.55,
          79.6,
          79.65,
          79.7,
          79.9,
          79.95,
          80,
          80.05,
          80.15,
          80.2,
          80.25,
          80.3,
          80.35,
          80.5,
          80.55,
          80.8,
          80.85,
          81,
          81.1,
          81.25,
          81.7,
          81.95,
          82.3,
          84.3,
          84.5,
          84.6,
          84.65,
          84.8,
          84.85,
          85,
          85.05,
          85.15,
          85.45,
          85.5,
          85.55,
          85.7,
          85.8,
          86,
          86.05,
          86.6,
          88.35,
          88.8,
          89.1,
          89.15,
          89.3,
          89.5,
          89.55,
          89.9,
          90.35,
          90.55,
          90.6,
          90.75,
          90.85,
          91.1,
          91.3,
          91.7,
          92.45,
          92.65,
          93.3,
          93.55,
          93.7,
          93.85,
          94,
          94.4,
          94.55,
          94.6,
          95,
          95.05,
          95.1,
          95.45,
          95.6,
          95.65,
          96.05,
          96.45,
          97.1,
          98.5,
          99.75,
          100.25,
          100.4,
          100.8,
          101.45,
          102.45,
          102.5,
          102.75,
          104.2,
          106.55,
          106.85,
          108.05,
          108.15,
          108.7,
          108.95,
          112.3,
          113.35,
          113.55,
          113.85,
          114.1,
          114.7,
          115.1,
          115.95,
          116.65,
          118.3,
          118.5,
          119.75,
          123.65,
          126.05,
          127.1,
          130.1,
          130.75,
          131.05,
          131.65,
          132.2,
          134.35,
          134.5,
          134.7,
          135,
          137.6,
          137.85,
          137.95,
          139.05,
          139.35,
          139.4,
          140.7,
          141.45,
          141.5,
          142.35,
          143.35,
          143.65,
          144.15,
          144.55,
          145,
          145.15,
          145.4,
          146.05,
          146.3,
          146.9,
          147.15,
          149.55,
          151.3,
          151.65,
          151.8,
          152.45,
          152.7,
          153.05,
          154.65,
          154.85,
          155.35,
          155.65,
          155.8,
          156.25,
          156.35,
          156.4,
          158.4,
          159.15,
          159.4,
          159.45,
          160.75,
          160.8,
          161.5,
          162.45,
          164.3,
          164.5,
          164.85,
          165,
          165.2,
          165.4,
          165.45,
          166.3,
          167.3,
          167.5,
          168.15,
          168.2,
          169.05,
          169.45,
          169.8,
          170.85,
          171.15,
          172.85,
          174.3,
          174.8,
          178.1,
          178.5,
          178.7,
          179.25,
          179.35,
          180.25,
          180.3,
          181.1,
          181.5,
          181.6,
          181.65,
          181.7,
          183.75,
          184.1,
          184.4,
          184.65,
          185.55,
          185.6,
          187.45,
          188.7,
          189.2,
          190.05,
          191.05,
          191.35,
          193.6,
          193.8,
          195.05,
          195.3,
          196.15,
          196.75,
          196.9,
          196.95,
          197.7,
          198,
          201,
          201.1,
          204.7,
          205.05,
          206.6,
          208.7,
          208.85,
          209.1,
          210.3,
          210.75,
          214.75,
          215.2,
          215.8,
          216.75,
          216.9,
          217.55,
          219,
          219.65,
          220.1,
          220.6,
          220.95,
          221.35,
          221.7,
          221.9,
          222.3,
          223.15,
          223.45,
          224.05,
          225.6,
          226.45,
          228,
          228.4,
          229.5,
          229.55,
          229.6,
          231.8,
          233.55,
          233.7,
          235.1,
          235.5,
          237.25,
          237.75,
          237.95,
          239.55,
          240.45,
          242,
          242.05,
          242.8,
          242.95,
          244.65,
          245.2,
          246.3,
          246.5,
          247.25,
          248.95,
          249.95,
          250.05,
          251.75,
          255.25,
          256.25,
          256.6,
          257.05,
          259.8,
          260.8,
          260.9,
          261.25,
          262.05,
          264.8,
          264.85,
          265.35,
          266.9,
          267.35,
          267.4,
          267.6,
          268.35,
          270.7,
          270.8,
          270.95,
          272.15,
          272.2,
          273,
          273.75,
          279.25,
          279.55,
          280.85,
          281,
          287.4,
          288.05,
          289.1,
          289.3,
          291.4,
          291.9,
          292.8,
          292.85,
          293.3,
          293.65,
          294.45,
          296.1,
          297.3,
          298.35,
          298.45,
          299.2,
          299.7,
          300.8,
          301.4,
          302.75,
          303.15,
          305.1,
          305.55,
          305.95,
          306.6,
          307.4,
          308.25,
          308.7,
          309.1,
          315.3,
          316.9,
          317.25,
          318.5,
          318.9,
          319.15,
          321.65,
          321.75,
          321.9,
          323.25,
          324.25,
          324.3,
          324.6,
          325.45,
          327.45,
          328.95,
          329.8,
          329.95,
          330.05,
          330.15,
          331.3,
          331.9,
          332.45,
          333.55,
          333.6,
          334.65,
          334.8,
          338.1,
          338.9,
          340.25,
          340.85,
          341.45,
          342.4,
          343.95,
          346.2,
          346.4,
          347.25,
          347.4,
          347.65,
          349.65,
          350.3,
          354.05,
          355.2,
          357.75,
          360.1,
          362.2,
          364.55,
          365.35,
          365.4,
          365.55,
          365.65,
          368.1,
          370.65,
          371.65,
          371.9,
          372.45,
          374.5,
          378.4,
          381.3,
          384.5,
          385,
          385.9,
          387.2,
          389.1,
          389.6,
          390.85,
          396.1,
          396.3,
          399.6,
          401.1,
          402.6,
          403.35,
          404.2,
          409.9,
          412.1,
          412.5,
          413.65,
          415.05,
          415.55,
          415.95,
          416.3,
          416.45,
          418.4,
          418.8,
          420.2,
          424.15,
          424.45,
          425.9,
          431,
          434.1,
          434.5,
          435.4,
          438,
          438.25,
          438.4,
          442.2,
          442.85,
          443.9,
          446.05,
          446.1,
          449.75,
          450.8,
          451.1,
          452.7,
          453.4,
          453.75,
          454.15,
          455.3,
          455.5,
          460.25,
          461.7,
          462.8,
          463.05,
          465.05,
          467.55,
          469.8,
          470.6,
          470.95,
          474.8,
          474.9,
          477.55,
          477.7,
          480.6,
          480.75,
          482.8,
          483.7,
          486.85,
          489.45,
          492.55,
          494.05,
          496.9,
          497.55,
          498.1,
          501,
          502.6,
          502.85,
          503.6,
          506.9,
          511.25,
          512.45,
          514,
          518.9,
          519.15,
          520,
          521.1,
          521.3,
          522.95,
          523.15,
          523.5,
          526.7,
          526.95,
          527.9,
          528.35,
          529.5,
          531,
          536.4,
          539.85,
          541.15,
          541.9,
          544.55,
          545.15,
          545.2,
          546.95,
          547.65,
          551.35,
          552.95,
          553,
          556.35,
          560.6,
          560.85,
          563.65,
          567.45,
          573.3,
          573.75,
          575.45,
          576.65,
          577.6,
          582.5,
          583.45,
          585.95,
          586.05,
          587.1,
          593.45,
          593.75,
          597,
          600,
          602.55,
          604.7,
          606.25,
          606.55,
          608,
          608.8,
          609.9,
          613.4,
          620.35,
          620.55,
          622.9,
          627.4,
          631.85,
          632.95,
          633.3,
          633.4,
          635.6,
          639.65,
          644.35,
          646.85,
          649.65,
          651.4,
          654.85,
          655.5,
          655.85,
          655.9,
          658.95,
          659.65,
          660.9,
          661.25,
          662.65,
          663.05,
          665.45,
          667.7,
          668.4,
          669,
          669.45,
          669.85,
          672.55,
          673.1,
          673.25,
          676.35,
          676.7,
          679.3,
          679.55,
          679.85,
          680.05,
          688.65,
          692.1,
          696.35,
          700.85,
          703.55,
          706.6,
          706.85,
          712.75,
          712.85,
          713,
          713.1,
          713.75,
          714.15,
          723.4,
          727.8,
          729.95,
          732.5,
          733.35,
          734.35,
          738.2,
          740,
          740.3,
          740.8,
          741.7,
          742.95,
          746.5,
          751.65,
          754.65,
          757.1,
          758.6,
          762.1,
          762.25,
          762.5,
          764.95,
          765.5,
          770.6,
          773.65,
          777.3,
          778.1,
          780.5,
          788.8,
          790.15,
          791.75,
          793.55,
          794.25,
          799.65,
          803.3,
          805.1,
          809.75,
          810.2,
          810.7,
          811.8,
          813.85,
          815.5,
          818.05,
          819.4,
          819.55,
          820.5,
          824.75,
          825.7,
          829.1,
          829.55,
          830.7,
          830.85,
          832.05,
          832.35,
          834.1,
          834.15,
          834.2,
          837.95,
          840.1,
          842.9,
          846,
          847.3,
          851.75,
          853,
          853.1,
          855.3,
          856.35,
          856.65,
          857.2,
          857.25,
          858.6,
          863.1,
          865.55,
          865.8,
          866.45,
          868.5,
          871.4,
          872.65,
          874.8,
          878.35,
          880.2,
          889.9,
          890.6,
          892.65,
          893.55,
          896.75,
          896.9,
          898.35,
          899.8,
          900.5,
          903.6,
          906.85,
          909.25,
          914,
          914.3,
          916.75,
          916.9,
          918.6,
          919.4,
          923.5,
          926.25,
          927.35,
          930.4,
          930.45,
          933.3,
          934.1,
          937.5,
          937.6,
          939.7,
          940.35,
          941,
          947.3,
          950.2,
          952.3,
          953.45,
          971.3,
          973.25,
          973.45,
          973.55,
          987.95,
          989.45,
          990.85,
          990.9,
          994.55,
          994.8,
          997.65,
          999.45,
          1008.55,
          1008.7,
          1021.8,
          1023.9,
          1025.95,
          1029.75,
          1032,
          1036.75,
          1037.75,
          1043.3,
          1043.35,
          1046.1,
          1046.5,
          1047.7,
          1048.85,
          1052.35,
          1052.4,
          1054.6,
          1056.95,
          1058.25,
          1058.6,
          1059.55,
          1060.2,
          1060.6,
          1062.1,
          1064.65,
          1067.15,
          1068.85,
          1072,
          1074.3,
          1077.5,
          1078.9,
          1081.45,
          1093.1,
          1094.5,
          1095.3,
          1095.65,
          1096.25,
          1099.6,
          1101.85,
          1105.4,
          1107.25,
          1111.65,
          1111.85,
          1115.15,
          1115.2,
          1120.3,
          1120.95,
          1127.2,
          1127.35,
          1129.1,
          1129.75,
          1130.85,
          1131.2,
          1131.3,
          1132.35,
          1132.75,
          1133.65,
          1133.9,
          1135.7,
          1139.2,
          1144.5,
          1145.35,
          1145.7,
          1146.65,
          1147.45,
          1148.1,
          1149.65,
          1152.7,
          1156.1,
          1157.05,
          1162.85,
          1164.3,
          1167.8,
          1169.35,
          1172.95,
          1174.35,
          1178.25,
          1178.4,
          1180.95,
          1182.55,
          1193.05,
          1194.3,
          1200.15,
          1201.15,
          1206.05,
          1208.35,
          1210.4,
          1214.05,
          1215.6,
          1217.25,
          1218.55,
          1222.05,
          1222.8,
          1230.25,
          1233.4,
          1233.65,
          1235.55,
          1236.15,
          1237.85,
          1238.45,
          1240.25,
          1244.5,
          1253.9,
          1254.7,
          1258.3,
          1258.6,
          1259,
          1266.1,
          1269.55,
          1270.2,
          1281,
          1284.2,
          1290,
          1301,
          1301.7,
          1308.1,
          1308.4,
          1312.15,
          1313.55,
          1327.15,
          1329.2,
          1334,
          1338.15,
          1345.55,
          1348.9,
          1350.15,
          1358.85,
          1359,
          1359.7,
          1364.3,
          1369.8,
          1375.15,
          1378.25,
          1380.1,
          1384.75,
          1389.2,
          1390.6,
          1400.55,
          1400.85,
          1415.55,
          1422.05,
          1422.1,
          1422.65,
          1424.5,
          1424.95,
          1425.45,
          1426.4,
          1426.75,
          1430.25,
          1441.1,
          1444.65,
          1445.3,
          1448.6,
          1448.8,
          1451.6,
          1451.9,
          1454.15,
          1457.25,
          1460.65,
          1463.45,
          1463.5,
          1465.75,
          1470.95,
          1471.75,
          1474.75,
          1483.25,
          1490.95,
          1496.9,
          1498.2,
          1502.65,
          1504.05,
          1505.85,
          1511.2,
          1515.1,
          1520.9,
          1527.35,
          1527.5,
          1529.2,
          1531.4,
          1532.45,
          1534.75,
          1539.45,
          1544.05,
          1553.9,
          1553.95,
          1554,
          1555.65,
          1561.5,
          1565.7,
          1573.7,
          1574.45,
          1581.2,
          1582.75,
          1587.55,
          1592.35,
          1597.25,
          1604.5,
          1607.2,
          1612.75,
          1616.15,
          1617.5,
          1622.45,
          1625,
          1625.65,
          1637.4,
          1639.3,
          1660,
          1676.95,
          1687.95,
          1692.6,
          1704.95,
          1710.45,
          1712.7,
          1715.65,
          1716.45,
          1727.5,
          1730.35,
          1734.5,
          1740.7,
          1742.75,
          1742.95,
          1743.5,
          1747.85,
          1752.55,
          1758.6,
          1761.05,
          1761.45,
          1767.35,
          1772.25,
          1775.8,
          1776.55,
          1776.95,
          1777.9,
          1779.95,
          1782.4,
          1789.25,
          1808.7,
          1820.45,
          1834.95,
          1836.25,
          1842.8,
          1845.9,
          1852.85,
          1855.65,
          1861.5,
          1863.8,
          1873.7,
          1875.55,
          1880.85,
          1888.65,
          1893.95,
          1899.65,
          1900.25,
          1907.85,
          1910.6,
          1914.9,
          1917.1,
          1929.35,
          1931.75,
          1934.45,
          1943.2,
          1951,
          1970.5,
          1973.75,
          1974.8,
          1993.8,
          1994.3,
          2001.5,
          2010.55,
          2011.4,
          2012.7,
          2015.35,
          2030.3,
          2043.45,
          2068.55,
          2070.6,
          2076.2,
          2082.95,
          2088.75,
          2088.8,
          2095,
          2104.55,
          2109.35,
          2110.15,
          2111.45,
          2119.5,
          2122.05,
          2122.45,
          2135.5,
          2139.2,
          2145,
          2157.95,
          2165.05,
          2169.75,
          2169.8,
          2171.15,
          2177.45,
          2178.6,
          2180.55,
          2184.35,
          2186.4,
          2187.55,
          2196.15,
          2200.25,
          2203.65,
          2217.15,
          2227.1,
          2231.05,
          2238.5,
          2239.65,
          2249.95,
          2250.65,
          2254.2,
          2257.75,
          2264.05,
          2265.25,
          2274.35,
          2274.9,
          2276.95,
          2277.65,
          2282.55,
          2287.25,
          2291.2,
          2293.6,
          2303.35,
          2317.1,
          2319.8,
          2331.3,
          2335.3,
          2342.2,
          2345.2,
          2347.9,
          2351.8,
          2354.8,
          2361.8,
          2362.1,
          2365.15,
          2368.4,
          2369.05,
          2375.4,
          2381.55,
          2384.15,
          2387.75,
          2391.8,
          2404.15,
          2405.05,
          2407.3,
          2416.1,
          2416.55,
          2431.35,
          2433.9,
          2435.15,
          2440.15,
          2447.95,
          2448.75,
          2452.7,
          2460.15,
          2467.1,
          2467.75,
          2470.1,
          2483.05,
          2483.5,
          2496.7,
          2497.2,
          2497.35,
          2498.4,
          2499.3,
          2510.2,
          2514.5,
          2515.3,
          2524.45,
          2530.4,
          2541.25,
          2542.45,
          2550.9,
          2555.9,
          2564.3,
          2566.5,
          2568.55,
          2572.95,
          2576.2,
          2585.95,
          2587.7,
          2596.15,
          2597.6,
          2598.95,
          2602.9,
          2624.25,
          2625.55,
          2628.6,
          2636.05,
          2642.05,
          2649.15,
          2651.2,
          2653.65,
          2655.25,
          2656.5,
          2659.4,
          2660.2,
          2661.1,
          2697.4,
          2698.35,
          2710.25,
          2716.3,
          2718.3,
          2724.6,
          2728.6,
          2745.2,
          2745.7,
          2754.45,
          2755.35,
          2757.85,
          2758.15,
          2781.85,
          2791.5,
          2804.45,
          2806.9,
          2812.2,
          2816.65,
          2838.7,
          2839.65,
          2841.55,
          2847.4,
          2854.55,
          2862.75,
          2866.45,
          2867.75,
          2868.05,
          2868.15,
          2869.85,
          2874.15,
          2890.65,
          2896.4,
          2911.3,
          2917.5,
          2931,
          2933.2,
          2934.3,
          2952.85,
          2954.5,
          2967.35,
          2978.3,
          2979.5,
          2983.8,
          2995.45,
          3001.2,
          3004.15,
          3013.05,
          3014.65,
          3017.65,
          3019.25,
          3019.5,
          3021.6,
          3027.4,
          3029.1,
          3030.6,
          3036.75,
          3046.05,
          3046.15,
          3046.4,
          3050.15,
          3058.65,
          3066.45,
          3067.2,
          3078.1,
          3092.65,
          3105.55,
          3110.1,
          3124.5,
          3132.75,
          3147.5,
          3152.5,
          3160.55,
          3171.15,
          3182.95,
          3183.4,
          3184.25,
          3186.65,
          3186.7,
          3198.6,
          3201.55,
          3204.65,
          3207.55,
          3217.55,
          3229.4,
          3229.65,
          3233.6,
          3233.85,
          3243.45,
          3264.45,
          3264.5,
          3266,
          3273.55,
          3303.05,
          3309.25,
          3326.2,
          3351.55,
          3361.05,
          3365.85,
          3384,
          3395.8,
          3409.6,
          3432.9,
          3436.1,
          3444.85,
          3457.9,
          3467,
          3473.4,
          3474.05,
          3474.45,
          3475.55,
          3480,
          3496.3,
          3515.25,
          3520.75,
          3527.6,
          3541.35,
          3545.35,
          3549.25,
          3563.8,
          3580.3,
          3587.25,
          3588.4,
          3605.2,
          3615.6,
          3624.3,
          3626.1,
          3640.45,
          3653.35,
          3655.45,
          3678.3,
          3692.85,
          3706.95,
          3715.65,
          3734.25,
          3744.05,
          3754.6,
          3759.05,
          3762,
          3777.15,
          3807.35,
          3825.85,
          3856.75,
          3862.55,
          3912.9,
          3913.3,
          3937.45,
          3941.7,
          3959.35,
          3969.35,
          3969.4,
          3994.45,
          4016.85,
          4026.4,
          4029.95,
          4036.85,
          4042.3,
          4045.65,
          4056.75,
          4059.35,
          4062.2,
          4065,
          4086.3,
          4092.85,
          4113.1,
          4116.15,
          4131.95,
          4134.85,
          4138.05,
          4146.05,
          4154.8,
          4186.3,
          4187.75,
          4211.55,
          4213.35,
          4242.35,
          4254.85,
          4259.3,
          4273.45,
          4284.8,
          4323.45,
          4338.6,
          4346.4,
          4348.65,
          4350.1,
          4364.1,
          4367.35,
          4370.25,
          4388.4,
          4398.15,
          4399.5,
          4400.75,
          4414.3,
          4424.2,
          4443.45,
          4458.15,
          4481,
          4504.55,
          4512.7,
          4515.85,
          4517.25,
          4527.45,
          4528,
          4533.7,
          4533.9,
          4534.9,
          4541.2,
          4547.25,
          4594.95,
          4600.7,
          4627.85,
          4653.85,
          4680.05,
          4687.9,
          4689.5,
          4718.25,
          4740,
          4749.15,
          4750.95,
          4759.75,
          4759.85,
          4783.5,
          4812.75,
          4816.7,
          4820.15,
          4822.85,
          4830.25,
          4837.6,
          4853.75,
          4867.95,
          4871.05,
          4872.45,
          4874.7,
          4874.8,
          4888.7,
          4913.3,
          4941.8,
          4990.25,
          5000.2,
          5017.9,
          5029.2,
          5036.3,
          5037.55,
          5069.65,
          5071.05,
          5082.8,
          5084.65,
          5118.95,
          5121.3,
          5124.55,
          5124.6,
          5127.95,
          5149.5,
          5154.6,
          5224.35,
          5238.9,
          5265.1,
          5275.8,
          5278.15,
          5283.95,
          5293.2,
          5293.4,
          5293.95,
          5341.8,
          5356.45,
          5373.1,
          5426.85,
          5427.05,
          5435.6,
          5438.9,
          5440.9,
          5453.4,
          5464.65,
          5485.5,
          5508.35,
          5509.3,
          5510.65,
          5549.4,
          5551.15,
          5568.35,
          5574.75,
          5610.25,
          5610.7,
          5614.45,
          5617.75,
          5624.85,
          5638.3,
          5639.05,
          5643.4,
          5685.8,
          5688.05,
          5742.9,
          5743.05,
          5746.15,
          5763.3,
          5769.6,
          5769.75,
          5785.5,
          5794.65,
          5812.6,
          5885.4,
          5893.15,
          5916.45,
          5918.8,
          5921.35,
          5940.85,
          5961.1,
          6010.05,
          6014.85,
          6017.65,
          6039.9,
          6056.15,
          6110.2,
          6125.4,
          6127.6,
          6137,
          6143.15,
          6144.55,
          6145.85,
          6205.5,
          6215.35,
          6219.6,
          6252.9,
          6254.2,
          6281.45,
          6283.3,
          6287.25,
          6341.45,
          6383.35,
          6396.45,
          6405,
          6413.65,
          6418.9,
          6428.4,
          6440.25,
          6441.4,
          6448.05,
          6465,
          6529.25,
          6547.7,
          6579.05,
          6581.9,
          6585.35,
          6603,
          6615.15,
          6710.5,
          6786.4,
          6822.15,
          6851.65,
          6859.5,
          6871.9,
          6873.75,
          6876.05,
          6886.25,
          6890,
          6903.1,
          6937.95,
          6941.2,
          6975.25,
          6979.8,
          6981.35,
          6985.65,
          7007.6,
          7040.85,
          7101.5,
          7133.25,
          7156.2,
          7176.55,
          7220.35,
          7250.15,
          7262,
          7299.65,
          7318.2,
          7348.8,
          7372.65,
          7432.05,
          7446.9,
          7482.1,
          7491.75,
          7532.15,
          7534.65,
          7548.1,
          7611.85,
          7674.55,
          7689.95,
          7690.9,
          7723.7,
          7723.9,
          7752.3,
          7804.15,
          7856,
          7968.85,
          8109.8,
          8127.6,
          8684.8
         ],
         "xaxis": "x",
         "y": [
          1,
          1,
          1,
          2,
          1,
          3,
          1,
          1,
          2,
          2,
          1,
          2,
          1,
          1,
          4,
          2,
          1,
          2,
          3,
          4,
          6,
          2,
          1,
          1,
          3,
          2,
          1,
          1,
          2,
          1,
          1,
          1,
          1,
          1,
          1,
          1,
          1,
          3,
          2,
          2,
          1,
          2,
          1,
          1,
          1,
          1,
          1,
          1,
          1,
          1,
          1,
          1,
          1,
          1,
          1,
          1,
          1,
          1,
          1,
          1,
          1,
          2,
          1,
          1,
          1,
          1,
          1,
          1,
          1,
          1,
          1,
          1,
          1,
          1,
          1,
          3,
          1,
          1,
          1,
          1,
          2,
          3,
          1,
          5,
          1,
          1,
          2,
          3,
          1,
          1,
          2,
          2,
          1,
          1,
          1,
          1,
          1,
          1,
          1,
          1,
          1,
          1,
          1,
          1,
          1,
          1,
          1,
          3,
          1,
          2,
          1,
          1,
          1,
          2,
          1,
          1,
          1,
          1,
          1,
          1,
          1,
          1,
          1,
          1,
          2,
          1,
          1,
          1,
          1,
          1,
          1,
          1,
          1,
          1,
          1,
          1,
          1,
          1,
          1,
          1,
          1,
          1,
          1,
          1,
          1,
          1,
          1,
          1,
          1,
          1,
          3,
          1,
          2,
          2,
          2,
          2,
          2,
          3,
          4,
          4,
          1,
          2,
          2,
          2,
          3,
          3,
          2,
          1,
          2,
          3,
          1,
          3,
          1,
          2,
          1,
          1,
          2,
          1,
          1,
          1,
          2,
          1,
          2,
          1,
          1,
          2,
          1,
          2,
          1,
          1,
          1,
          1,
          1,
          1,
          1,
          1,
          1,
          2,
          2,
          2,
          2,
          2,
          3,
          3,
          1,
          1,
          1,
          4,
          2,
          1,
          1,
          1,
          1,
          1,
          1,
          1,
          1,
          2,
          1,
          1,
          2,
          1,
          1,
          1,
          1,
          2,
          1,
          1,
          1,
          1,
          1,
          1,
          1,
          2,
          1,
          1,
          3,
          2,
          1,
          1,
          1,
          1,
          1,
          1,
          1,
          1,
          1,
          1,
          1,
          1,
          2,
          1,
          1,
          1,
          1,
          1,
          1,
          1,
          1,
          1,
          2,
          1,
          1,
          1,
          1,
          2,
          1,
          1,
          2,
          2,
          1,
          1,
          1,
          1,
          1,
          2,
          1,
          1,
          1,
          1,
          1,
          1,
          1,
          1,
          1,
          2,
          2,
          1,
          2,
          2,
          1,
          2,
          1,
          1,
          1,
          1,
          2,
          1,
          1,
          1,
          1,
          1,
          1,
          1,
          1,
          1,
          1,
          1,
          1,
          1,
          1,
          1,
          2,
          1,
          1,
          1,
          1,
          1,
          1,
          1,
          1,
          1,
          1,
          1,
          1,
          1,
          1,
          1,
          1,
          1,
          1,
          1,
          1,
          1,
          1,
          1,
          1,
          1,
          1,
          1,
          1,
          1,
          1,
          1,
          2,
          1,
          1,
          1,
          1,
          1,
          1,
          1,
          1,
          1,
          1,
          1,
          1,
          1,
          1,
          1,
          1,
          1,
          1,
          1,
          2,
          1,
          1,
          1,
          1,
          1,
          1,
          2,
          1,
          2,
          1,
          1,
          1,
          1,
          1,
          1,
          1,
          1,
          1,
          1,
          1,
          1,
          1,
          1,
          1,
          1,
          1,
          1,
          1,
          1,
          1,
          1,
          1,
          1,
          1,
          1,
          1,
          1,
          1,
          2,
          1,
          2,
          1,
          1,
          1,
          1,
          1,
          1,
          1,
          1,
          1,
          1,
          1,
          1,
          1,
          1,
          1,
          1,
          1,
          1,
          1,
          1,
          1,
          1,
          1,
          1,
          1,
          1,
          1,
          1,
          1,
          1,
          1,
          1,
          1,
          2,
          1,
          1,
          1,
          1,
          1,
          1,
          1,
          1,
          1,
          1,
          1,
          1,
          1,
          1,
          1,
          1,
          1,
          1,
          1,
          1,
          1,
          1,
          1,
          1,
          1,
          1,
          1,
          1,
          1,
          1,
          1,
          1,
          1,
          1,
          1,
          1,
          1,
          1,
          1,
          1,
          1,
          1,
          2,
          1,
          1,
          1,
          1,
          1,
          1,
          1,
          1,
          1,
          1,
          1,
          1,
          1,
          1,
          1,
          1,
          1,
          1,
          1,
          1,
          1,
          1,
          1,
          1,
          1,
          1,
          1,
          1,
          2,
          1,
          1,
          1,
          1,
          1,
          1,
          1,
          1,
          1,
          1,
          1,
          1,
          1,
          1,
          1,
          1,
          1,
          1,
          1,
          1,
          1,
          1,
          1,
          1,
          2,
          1,
          1,
          1,
          1,
          1,
          1,
          1,
          1,
          1,
          1,
          1,
          1,
          1,
          1,
          1,
          1,
          1,
          1,
          1,
          1,
          2,
          1,
          1,
          2,
          1,
          1,
          1,
          1,
          1,
          1,
          1,
          1,
          1,
          1,
          1,
          1,
          1,
          1,
          1,
          1,
          1,
          1,
          1,
          1,
          1,
          1,
          1,
          1,
          1,
          1,
          1,
          1,
          1,
          1,
          1,
          1,
          1,
          1,
          1,
          1,
          1,
          1,
          1,
          1,
          1,
          1,
          1,
          1,
          1,
          1,
          1,
          1,
          1,
          1,
          1,
          1,
          1,
          1,
          1,
          1,
          1,
          1,
          1,
          1,
          1,
          1,
          1,
          1,
          1,
          1,
          1,
          1,
          1,
          1,
          1,
          1,
          1,
          1,
          1,
          1,
          1,
          1,
          1,
          1,
          1,
          2,
          1,
          1,
          1,
          1,
          1,
          1,
          1,
          1,
          1,
          1,
          1,
          1,
          1,
          1,
          1,
          1,
          1,
          1,
          1,
          1,
          1,
          2,
          1,
          1,
          1,
          1,
          1,
          1,
          1,
          1,
          1,
          1,
          1,
          1,
          1,
          1,
          1,
          1,
          1,
          1,
          1,
          1,
          1,
          1,
          1,
          1,
          1,
          1,
          1,
          1,
          1,
          1,
          1,
          1,
          1,
          1,
          1,
          2,
          1,
          1,
          1,
          1,
          1,
          1,
          1,
          1,
          1,
          1,
          1,
          1,
          1,
          1,
          1,
          1,
          1,
          1,
          1,
          1,
          1,
          1,
          1,
          1,
          1,
          1,
          1,
          1,
          1,
          1,
          1,
          1,
          1,
          1,
          1,
          1,
          1,
          1,
          1,
          1,
          1,
          1,
          1,
          1,
          1,
          1,
          1,
          1,
          1,
          1,
          1,
          1,
          1,
          1,
          1,
          1,
          1,
          1,
          1,
          1,
          1,
          1,
          1,
          1,
          1,
          1,
          1,
          1,
          1,
          1,
          1,
          1,
          1,
          1,
          1,
          1,
          1,
          1,
          1,
          1,
          1,
          1,
          1,
          1,
          1,
          1,
          1,
          1,
          1,
          1,
          1,
          1,
          1,
          1,
          1,
          1,
          1,
          1,
          1,
          1,
          1,
          1,
          1,
          1,
          1,
          1,
          1,
          1,
          1,
          1,
          1,
          1,
          1,
          1,
          1,
          1,
          1,
          2,
          1,
          1,
          1,
          1,
          1,
          1,
          1,
          1,
          1,
          1,
          1,
          1,
          1,
          1,
          1,
          1,
          1,
          1,
          1,
          1,
          1,
          1,
          1,
          1,
          1,
          1,
          1,
          1,
          1,
          1,
          1,
          1,
          1,
          1,
          1,
          1,
          1,
          1,
          1,
          1,
          1,
          1,
          1,
          1,
          1,
          1,
          1,
          1,
          1,
          1,
          1,
          1,
          1,
          1,
          1,
          1,
          1,
          1,
          1,
          1,
          1,
          1,
          1,
          1,
          1,
          1,
          1,
          1,
          1,
          1,
          1,
          1,
          1,
          1,
          1,
          1,
          1,
          1,
          1,
          1,
          1,
          1,
          1,
          1,
          1,
          1,
          1,
          1,
          1,
          1,
          1,
          1,
          1,
          1,
          1,
          1,
          1,
          1,
          1,
          1,
          1,
          1,
          1,
          1,
          1,
          1,
          1,
          1,
          1,
          1,
          1,
          1,
          1,
          1,
          1,
          1,
          1,
          1,
          1,
          1,
          1,
          1,
          1,
          1,
          1,
          1,
          1,
          1,
          1,
          1,
          1,
          1,
          1,
          1,
          1,
          1,
          1,
          1,
          1,
          2,
          1,
          1,
          1,
          1,
          1,
          1,
          1,
          1,
          1,
          1,
          1,
          1,
          1,
          1,
          1,
          1,
          1,
          1,
          1,
          1,
          1,
          1,
          1,
          1,
          1,
          1,
          1,
          1,
          1,
          1,
          1,
          1,
          1,
          1,
          1,
          1,
          1,
          1,
          1,
          1,
          1,
          1,
          1,
          1,
          1,
          1,
          1,
          1,
          1,
          1,
          1,
          1,
          1,
          1,
          1,
          1,
          1,
          1,
          1,
          1,
          1,
          1,
          1,
          1,
          1,
          1,
          1,
          1,
          1,
          1,
          1,
          1,
          1,
          1,
          1,
          1,
          1,
          1,
          1,
          1,
          1,
          1,
          1,
          1,
          1,
          1,
          1,
          1,
          1,
          1,
          1,
          1,
          1,
          1,
          1,
          1,
          1,
          1,
          1,
          1,
          1,
          1,
          1,
          1,
          1,
          1,
          1,
          1,
          1,
          1,
          1,
          1,
          1,
          1,
          1,
          1,
          1,
          1,
          1,
          1,
          1,
          1,
          1,
          1,
          1,
          1,
          1,
          1,
          1,
          1,
          1,
          1,
          1,
          1,
          1,
          1,
          1,
          1,
          1,
          1,
          1,
          1,
          1,
          1,
          1,
          1,
          1,
          1,
          1,
          1,
          1,
          1,
          1,
          1,
          1,
          1,
          1,
          1,
          1,
          1,
          1,
          1,
          1,
          1,
          1,
          1,
          1,
          1,
          1,
          1,
          1,
          1,
          1,
          1,
          1,
          1,
          1,
          1,
          1,
          1,
          1,
          1,
          1,
          1,
          1,
          1,
          1,
          1,
          1,
          1,
          1,
          1,
          1,
          1,
          1,
          1,
          1,
          1,
          1,
          1,
          1,
          1,
          1,
          1,
          1,
          1,
          1,
          1,
          1,
          1,
          1,
          1,
          1,
          1,
          1,
          1,
          1,
          1,
          1,
          1,
          1,
          1,
          1,
          1,
          1,
          1,
          1,
          1,
          1,
          1,
          1,
          1,
          1,
          1,
          1,
          1,
          1,
          1,
          1,
          1,
          1,
          1,
          1,
          1,
          1,
          1,
          1,
          1,
          1,
          1,
          1,
          1,
          1,
          1,
          1,
          1,
          1,
          1,
          1,
          1,
          1,
          1,
          1,
          1,
          1,
          1,
          1,
          1,
          1,
          1,
          1,
          1,
          1,
          1,
          1,
          1,
          1,
          1,
          1,
          1,
          1,
          1,
          1,
          1,
          1,
          1,
          1,
          1,
          1,
          1,
          2,
          1,
          1,
          1,
          1,
          1,
          1,
          1,
          1,
          1,
          1,
          1,
          1,
          2,
          1,
          1,
          1,
          1,
          1,
          1,
          1,
          1,
          1,
          1,
          1,
          1,
          1,
          1,
          1,
          1,
          1,
          1,
          1,
          1,
          1,
          1,
          1,
          1,
          1,
          1,
          1,
          1,
          1,
          1,
          1,
          1,
          1,
          1,
          1,
          1,
          1,
          1,
          1,
          1,
          1,
          1,
          1,
          1,
          1,
          1,
          1,
          1,
          1,
          1,
          1,
          1,
          1,
          1,
          1,
          1,
          1,
          1,
          1,
          1,
          1,
          1,
          1,
          1,
          1,
          1,
          1,
          1,
          1,
          1,
          1,
          1,
          1,
          1,
          1,
          1,
          1,
          1,
          1,
          1,
          1,
          1,
          1,
          1,
          1,
          1,
          1,
          1,
          1,
          1,
          1,
          1,
          1,
          1,
          1,
          1,
          1,
          1,
          1,
          1,
          1,
          1,
          1,
          1,
          1,
          1,
          1,
          1,
          1,
          1,
          1,
          1,
          1,
          1,
          1,
          1,
          1,
          1,
          1,
          1,
          1,
          1,
          1,
          1,
          1,
          1,
          1,
          1,
          1,
          1,
          1,
          1,
          1,
          1,
          1,
          1,
          1,
          1,
          1,
          1,
          1,
          1,
          1,
          1,
          1,
          1,
          1,
          1,
          1,
          1,
          1,
          1,
          1,
          1,
          1,
          1,
          1,
          1,
          1,
          1,
          1,
          1,
          1,
          1,
          1,
          1,
          1,
          1,
          1,
          1,
          1,
          1,
          1,
          1,
          1,
          1,
          1,
          1,
          1,
          1,
          1,
          1,
          1,
          1,
          1,
          1,
          1,
          1,
          1,
          1,
          1,
          1,
          1,
          1,
          1,
          1,
          1,
          1,
          1,
          1,
          1,
          1,
          1,
          1,
          1,
          1,
          1,
          1,
          1,
          1,
          1,
          1,
          1,
          1,
          1,
          1,
          1,
          1,
          1,
          1,
          1,
          1,
          1,
          1,
          1,
          1,
          1,
          1,
          1,
          1,
          1,
          1,
          1,
          1,
          1,
          1,
          1,
          1,
          1,
          1,
          1,
          1,
          1,
          1,
          1,
          1,
          1,
          1,
          1,
          1,
          1,
          1,
          1,
          1,
          1,
          1,
          1,
          1,
          1,
          1,
          1,
          1,
          1,
          1,
          1,
          1,
          1,
          1,
          1,
          1,
          1,
          1,
          1,
          1,
          1,
          1,
          1,
          1,
          1,
          1,
          1,
          1,
          1,
          1,
          1,
          1,
          1,
          1,
          1,
          1,
          1,
          1,
          1,
          1,
          1,
          1,
          1,
          1,
          1,
          1,
          1,
          1,
          1,
          1,
          1,
          1,
          1,
          1,
          1,
          1,
          1,
          1,
          1,
          1,
          1,
          1,
          1,
          1,
          1,
          1,
          1,
          1,
          1,
          1,
          1,
          1,
          1,
          1,
          1,
          1,
          1,
          1,
          1,
          1,
          1,
          1,
          1,
          1,
          1,
          1,
          1,
          1,
          1,
          1,
          1,
          1,
          1,
          1,
          1,
          1,
          1,
          1,
          1,
          1,
          1,
          1,
          1,
          1,
          1,
          1,
          1,
          1,
          1,
          1,
          1,
          1,
          1,
          1,
          1,
          1,
          1,
          1,
          1,
          1,
          1,
          1,
          1,
          1,
          1,
          1,
          1,
          1,
          1,
          1,
          1,
          1,
          1,
          1,
          1,
          1,
          1,
          1,
          1,
          1,
          1,
          1,
          1,
          1,
          1,
          1,
          1,
          1,
          1,
          1,
          1,
          1,
          1,
          1,
          1,
          1,
          1,
          1,
          1,
          1,
          1,
          1,
          1,
          1,
          1,
          1,
          1,
          1,
          1,
          1,
          1,
          1,
          1,
          1,
          1,
          1,
          1,
          1,
          1,
          1,
          1,
          1,
          1,
          1,
          1,
          1,
          1,
          1,
          1,
          1,
          1,
          1,
          1,
          1,
          1,
          1,
          1,
          1,
          1,
          1,
          1,
          1,
          1,
          1,
          1,
          1,
          1,
          1,
          1,
          1,
          1,
          1,
          1,
          1,
          1
         ],
         "yaxis": "y"
        },
        {
         "alignmentgroup": "True",
         "hovertemplate": "Churn=Yes<br>TotalCharges=%{x}<extra></extra>",
         "legendgroup": "Yes",
         "marker": {
          "color": "red"
         },
         "name": "Yes",
         "notched": true,
         "offsetgroup": "Yes",
         "showlegend": false,
         "type": "box",
         "x": [
          18.85,
          19.1,
          19.25,
          19.3,
          19.4,
          19.45,
          19.5,
          19.55,
          19.6,
          19.65,
          19.7,
          19.75,
          19.8,
          19.85,
          19.9,
          19.95,
          20,
          20.05,
          20.1,
          20.15,
          20.2,
          20.25,
          20.3,
          20.4,
          20.5,
          20.55,
          20.6,
          20.85,
          20.9,
          20.95,
          21,
          23.45,
          24.05,
          24.25,
          24.45,
          24.6,
          24.75,
          24.8,
          25.05,
          25.1,
          25.15,
          25.2,
          25.25,
          25.3,
          25.7,
          25.8,
          28.3,
          29.7,
          29.95,
          30.2,
          30.5,
          31.35,
          31.55,
          33.2,
          34.7,
          35.05,
          35.25,
          35.45,
          35.55,
          35.75,
          35.85,
          35.9,
          36.45,
          36.55,
          38.7,
          39.65,
          40.1,
          40.2,
          41.85,
          42.9,
          43.3,
          43.95,
          44.1,
          44.15,
          44.35,
          44.4,
          44.45,
          44.65,
          44.7,
          44.9,
          45.05,
          45.1,
          45.15,
          45.3,
          45.4,
          45.6,
          45.65,
          45.7,
          45.75,
          45.8,
          45.85,
          45.95,
          46,
          46.2,
          46.3,
          47.5,
          48.55,
          48.6,
          48.95,
          49.25,
          49.55,
          49.65,
          49.9,
          49.95,
          50.1,
          50.15,
          50.35,
          50.45,
          50.5,
          50.55,
          50.6,
          50.65,
          50.75,
          50.8,
          50.9,
          51.15,
          51.25,
          52.2,
          53.5,
          53.55,
          53.95,
          54.35,
          54.75,
          54.9,
          55,
          55.2,
          55.4,
          55.7,
          55.8,
          56.25,
          56.35,
          58.15,
          58.85,
          58.9,
          59.05,
          59.2,
          59.75,
          59.85,
          60,
          60.1,
          60.15,
          62.05,
          62.25,
          63.75,
          64.55,
          66.95,
          68.5,
          68.65,
          68.75,
          68.95,
          69.1,
          69.15,
          69.2,
          69.25,
          69.35,
          69.4,
          69.5,
          69.55,
          69.6,
          69.65,
          69.7,
          69.75,
          69.8,
          69.85,
          69.9,
          69.95,
          70,
          70.05,
          70.1,
          70.15,
          70.25,
          70.3,
          70.4,
          70.45,
          70.5,
          70.55,
          70.6,
          70.65,
          70.75,
          70.8,
          70.85,
          70.9,
          71,
          71.1,
          71.15,
          71.35,
          71.55,
          71.65,
          72.4,
          73,
          73.5,
          73.55,
          73.6,
          73.65,
          74.2,
          74.25,
          74.3,
          74.35,
          74.4,
          74.45,
          74.5,
          74.6,
          74.7,
          74.9,
          74.95,
          75.05,
          75.1,
          75.3,
          75.35,
          75.45,
          75.6,
          75.7,
          75.75,
          75.8,
          75.9,
          76,
          76.2,
          76.35,
          76.4,
          76.45,
          77.15,
          77.5,
          77.75,
          78.05,
          78.45,
          78.65,
          78.8,
          78.95,
          79.05,
          79.1,
          79.15,
          79.2,
          79.25,
          79.35,
          79.45,
          79.5,
          79.55,
          79.6,
          79.65,
          79.7,
          79.9,
          79.95,
          80,
          80.05,
          80.15,
          80.2,
          80.25,
          80.3,
          80.35,
          80.5,
          80.55,
          80.8,
          80.85,
          81,
          81.1,
          81.25,
          81.7,
          81.95,
          82.3,
          84.3,
          84.5,
          84.6,
          84.65,
          84.8,
          84.85,
          85,
          85.05,
          85.15,
          85.45,
          85.5,
          85.55,
          85.7,
          85.8,
          86,
          86.05,
          86.6,
          88.35,
          88.8,
          89.1,
          89.15,
          89.3,
          89.5,
          89.55,
          89.9,
          90.35,
          90.55,
          90.6,
          90.75,
          90.85,
          91.1,
          91.3,
          91.7,
          92.45,
          92.65,
          93.3,
          93.55,
          93.7,
          93.85,
          94,
          94.4,
          94.55,
          94.6,
          95,
          95.05,
          95.1,
          95.45,
          95.6,
          95.65,
          96.05,
          96.45,
          97.1,
          98.5,
          99.75,
          100.25,
          100.4,
          100.8,
          101.45,
          102.45,
          102.5,
          102.75,
          104.2,
          106.55,
          106.85,
          108.05,
          108.15,
          108.7,
          108.95,
          112.3,
          113.35,
          113.55,
          113.85,
          114.1,
          114.7,
          115.1,
          115.95,
          116.65,
          118.3,
          118.5,
          119.75,
          123.65,
          126.05,
          127.1,
          130.1,
          130.75,
          131.05,
          131.65,
          132.2,
          134.35,
          134.5,
          134.7,
          135,
          137.6,
          137.85,
          137.95,
          139.05,
          139.35,
          139.4,
          140.7,
          141.45,
          141.5,
          142.35,
          143.35,
          143.65,
          144.15,
          144.55,
          145,
          145.15,
          145.4,
          146.05,
          146.3,
          146.9,
          147.15,
          149.55,
          151.3,
          151.65,
          151.8,
          152.45,
          152.7,
          153.05,
          154.65,
          154.85,
          155.35,
          155.65,
          155.8,
          156.25,
          156.35,
          156.4,
          158.4,
          159.15,
          159.4,
          159.45,
          160.75,
          160.8,
          161.5,
          162.45,
          164.3,
          164.5,
          164.85,
          165,
          165.2,
          165.4,
          165.45,
          166.3,
          167.3,
          167.5,
          168.15,
          168.2,
          169.05,
          169.45,
          169.8,
          170.85,
          171.15,
          172.85,
          174.3,
          174.8,
          178.1,
          178.5,
          178.7,
          179.25,
          179.35,
          180.25,
          180.3,
          181.1,
          181.5,
          181.6,
          181.65,
          181.7,
          183.75,
          184.1,
          184.4,
          184.65,
          185.55,
          185.6,
          187.45,
          188.7,
          189.2,
          190.05,
          191.05,
          191.35,
          193.6,
          193.8,
          195.05,
          195.3,
          196.15,
          196.75,
          196.9,
          196.95,
          197.7,
          198,
          201,
          201.1,
          204.7,
          205.05,
          206.6,
          208.7,
          208.85,
          209.1,
          210.3,
          210.75,
          214.75,
          215.2,
          215.8,
          216.75,
          216.9,
          217.55,
          219,
          219.65,
          220.1,
          220.6,
          220.95,
          221.35,
          221.7,
          221.9,
          222.3,
          223.15,
          223.45,
          224.05,
          225.6,
          226.45,
          228,
          228.4,
          229.5,
          229.55,
          229.6,
          231.8,
          233.55,
          233.7,
          235.1,
          235.5,
          237.25,
          237.75,
          237.95,
          239.55,
          240.45,
          242,
          242.05,
          242.8,
          242.95,
          244.65,
          245.2,
          246.3,
          246.5,
          247.25,
          248.95,
          249.95,
          250.05,
          251.75,
          255.25,
          256.25,
          256.6,
          257.05,
          259.8,
          260.8,
          260.9,
          261.25,
          262.05,
          264.8,
          264.85,
          265.35,
          266.9,
          267.35,
          267.4,
          267.6,
          268.35,
          270.7,
          270.8,
          270.95,
          272.15,
          272.2,
          273,
          273.75,
          279.25,
          279.55,
          280.85,
          281,
          287.4,
          288.05,
          289.1,
          289.3,
          291.4,
          291.9,
          292.8,
          292.85,
          293.3,
          293.65,
          294.45,
          296.1,
          297.3,
          298.35,
          298.45,
          299.2,
          299.7,
          300.8,
          301.4,
          302.75,
          303.15,
          305.1,
          305.55,
          305.95,
          306.6,
          307.4,
          308.25,
          308.7,
          309.1,
          315.3,
          316.9,
          317.25,
          318.5,
          318.9,
          319.15,
          321.65,
          321.75,
          321.9,
          323.25,
          324.25,
          324.3,
          324.6,
          325.45,
          327.45,
          328.95,
          329.8,
          329.95,
          330.05,
          330.15,
          331.3,
          331.9,
          332.45,
          333.55,
          333.6,
          334.65,
          334.8,
          338.1,
          338.9,
          340.25,
          340.85,
          341.45,
          342.4,
          343.95,
          346.2,
          346.4,
          347.25,
          347.4,
          347.65,
          349.65,
          350.3,
          354.05,
          355.2,
          357.75,
          360.1,
          362.2,
          364.55,
          365.35,
          365.4,
          365.55,
          365.65,
          368.1,
          370.65,
          371.65,
          371.9,
          372.45,
          374.5,
          378.4,
          381.3,
          384.5,
          385,
          385.9,
          387.2,
          389.1,
          389.6,
          390.85,
          396.1,
          396.3,
          399.6,
          401.1,
          402.6,
          403.35,
          404.2,
          409.9,
          412.1,
          412.5,
          413.65,
          415.05,
          415.55,
          415.95,
          416.3,
          416.45,
          418.4,
          418.8,
          420.2,
          424.15,
          424.45,
          425.9,
          431,
          434.1,
          434.5,
          435.4,
          438,
          438.25,
          438.4,
          442.2,
          442.85,
          443.9,
          446.05,
          446.1,
          449.75,
          450.8,
          451.1,
          452.7,
          453.4,
          453.75,
          454.15,
          455.3,
          455.5,
          460.25,
          461.7,
          462.8,
          463.05,
          465.05,
          467.55,
          469.8,
          470.6,
          470.95,
          474.8,
          474.9,
          477.55,
          477.7,
          480.6,
          480.75,
          482.8,
          483.7,
          486.85,
          489.45,
          492.55,
          494.05,
          496.9,
          497.55,
          498.1,
          501,
          502.6,
          502.85,
          503.6,
          506.9,
          511.25,
          512.45,
          514,
          518.9,
          519.15,
          520,
          521.1,
          521.3,
          522.95,
          523.15,
          523.5,
          526.7,
          526.95,
          527.9,
          528.35,
          529.5,
          531,
          536.4,
          539.85,
          541.15,
          541.9,
          544.55,
          545.15,
          545.2,
          546.95,
          547.65,
          551.35,
          552.95,
          553,
          556.35,
          560.6,
          560.85,
          563.65,
          567.45,
          573.3,
          573.75,
          575.45,
          576.65,
          577.6,
          582.5,
          583.45,
          585.95,
          586.05,
          587.1,
          593.45,
          593.75,
          597,
          600,
          602.55,
          604.7,
          606.25,
          606.55,
          608,
          608.8,
          609.9,
          613.4,
          620.35,
          620.55,
          622.9,
          627.4,
          631.85,
          632.95,
          633.3,
          633.4,
          635.6,
          639.65,
          644.35,
          646.85,
          649.65,
          651.4,
          654.85,
          655.5,
          655.85,
          655.9,
          658.95,
          659.65,
          660.9,
          661.25,
          662.65,
          663.05,
          665.45,
          667.7,
          668.4,
          669,
          669.45,
          669.85,
          672.55,
          673.1,
          673.25,
          676.35,
          676.7,
          679.3,
          679.55,
          679.85,
          680.05,
          688.65,
          692.1,
          696.35,
          700.85,
          703.55,
          706.6,
          706.85,
          712.75,
          712.85,
          713,
          713.1,
          713.75,
          714.15,
          723.4,
          727.8,
          729.95,
          732.5,
          733.35,
          734.35,
          738.2,
          740,
          740.3,
          740.8,
          741.7,
          742.95,
          746.5,
          751.65,
          754.65,
          757.1,
          758.6,
          762.1,
          762.25,
          762.5,
          764.95,
          765.5,
          770.6,
          773.65,
          777.3,
          778.1,
          780.5,
          788.8,
          790.15,
          791.75,
          793.55,
          794.25,
          799.65,
          803.3,
          805.1,
          809.75,
          810.2,
          810.7,
          811.8,
          813.85,
          815.5,
          818.05,
          819.4,
          819.55,
          820.5,
          824.75,
          825.7,
          829.1,
          829.55,
          830.7,
          830.85,
          832.05,
          832.35,
          834.1,
          834.15,
          834.2,
          837.95,
          840.1,
          842.9,
          846,
          847.3,
          851.75,
          853,
          853.1,
          855.3,
          856.35,
          856.65,
          857.2,
          857.25,
          858.6,
          863.1,
          865.55,
          865.8,
          866.45,
          868.5,
          871.4,
          872.65,
          874.8,
          878.35,
          880.2,
          889.9,
          890.6,
          892.65,
          893.55,
          896.75,
          896.9,
          898.35,
          899.8,
          900.5,
          903.6,
          906.85,
          909.25,
          914,
          914.3,
          916.75,
          916.9,
          918.6,
          919.4,
          923.5,
          926.25,
          927.35,
          930.4,
          930.45,
          933.3,
          934.1,
          937.5,
          937.6,
          939.7,
          940.35,
          941,
          947.3,
          950.2,
          952.3,
          953.45,
          971.3,
          973.25,
          973.45,
          973.55,
          987.95,
          989.45,
          990.85,
          990.9,
          994.55,
          994.8,
          997.65,
          999.45,
          1008.55,
          1008.7,
          1021.8,
          1023.9,
          1025.95,
          1029.75,
          1032,
          1036.75,
          1037.75,
          1043.3,
          1043.35,
          1046.1,
          1046.5,
          1047.7,
          1048.85,
          1052.35,
          1052.4,
          1054.6,
          1056.95,
          1058.25,
          1058.6,
          1059.55,
          1060.2,
          1060.6,
          1062.1,
          1064.65,
          1067.15,
          1068.85,
          1072,
          1074.3,
          1077.5,
          1078.9,
          1081.45,
          1093.1,
          1094.5,
          1095.3,
          1095.65,
          1096.25,
          1099.6,
          1101.85,
          1105.4,
          1107.25,
          1111.65,
          1111.85,
          1115.15,
          1115.2,
          1120.3,
          1120.95,
          1127.2,
          1127.35,
          1129.1,
          1129.75,
          1130.85,
          1131.2,
          1131.3,
          1132.35,
          1132.75,
          1133.65,
          1133.9,
          1135.7,
          1139.2,
          1144.5,
          1145.35,
          1145.7,
          1146.65,
          1147.45,
          1148.1,
          1149.65,
          1152.7,
          1156.1,
          1157.05,
          1162.85,
          1164.3,
          1167.8,
          1169.35,
          1172.95,
          1174.35,
          1178.25,
          1178.4,
          1180.95,
          1182.55,
          1193.05,
          1194.3,
          1200.15,
          1201.15,
          1206.05,
          1208.35,
          1210.4,
          1214.05,
          1215.6,
          1217.25,
          1218.55,
          1222.05,
          1222.8,
          1230.25,
          1233.4,
          1233.65,
          1235.55,
          1236.15,
          1237.85,
          1238.45,
          1240.25,
          1244.5,
          1253.9,
          1254.7,
          1258.3,
          1258.6,
          1259,
          1266.1,
          1269.55,
          1270.2,
          1281,
          1284.2,
          1290,
          1301,
          1301.7,
          1308.1,
          1308.4,
          1312.15,
          1313.55,
          1327.15,
          1329.2,
          1334,
          1338.15,
          1345.55,
          1348.9,
          1350.15,
          1358.85,
          1359,
          1359.7,
          1364.3,
          1369.8,
          1375.15,
          1378.25,
          1380.1,
          1384.75,
          1389.2,
          1390.6,
          1400.55,
          1400.85,
          1415.55,
          1422.05,
          1422.1,
          1422.65,
          1424.5,
          1424.95,
          1425.45,
          1426.4,
          1426.75,
          1430.25,
          1441.1,
          1444.65,
          1445.3,
          1448.6,
          1448.8,
          1451.6,
          1451.9,
          1454.15,
          1457.25,
          1460.65,
          1463.45,
          1463.5,
          1465.75,
          1470.95,
          1471.75,
          1474.75,
          1483.25,
          1490.95,
          1496.9,
          1498.2,
          1502.65,
          1504.05,
          1505.85,
          1511.2,
          1515.1,
          1520.9,
          1527.35,
          1527.5,
          1529.2,
          1531.4,
          1532.45,
          1534.75,
          1539.45,
          1544.05,
          1553.9,
          1553.95,
          1554,
          1555.65,
          1561.5,
          1565.7,
          1573.7,
          1574.45,
          1581.2,
          1582.75,
          1587.55,
          1592.35,
          1597.25,
          1604.5,
          1607.2,
          1612.75,
          1616.15,
          1617.5,
          1622.45,
          1625,
          1625.65,
          1637.4,
          1639.3,
          1660,
          1676.95,
          1687.95,
          1692.6,
          1704.95,
          1710.45,
          1712.7,
          1715.65,
          1716.45,
          1727.5,
          1730.35,
          1734.5,
          1740.7,
          1742.75,
          1742.95,
          1743.5,
          1747.85,
          1752.55,
          1758.6,
          1761.05,
          1761.45,
          1767.35,
          1772.25,
          1775.8,
          1776.55,
          1776.95,
          1777.9,
          1779.95,
          1782.4,
          1789.25,
          1808.7,
          1820.45,
          1834.95,
          1836.25,
          1842.8,
          1845.9,
          1852.85,
          1855.65,
          1861.5,
          1863.8,
          1873.7,
          1875.55,
          1880.85,
          1888.65,
          1893.95,
          1899.65,
          1900.25,
          1907.85,
          1910.6,
          1914.9,
          1917.1,
          1929.35,
          1931.75,
          1934.45,
          1943.2,
          1951,
          1970.5,
          1973.75,
          1974.8,
          1993.8,
          1994.3,
          2001.5,
          2010.55,
          2011.4,
          2012.7,
          2015.35,
          2030.3,
          2043.45,
          2068.55,
          2070.6,
          2076.2,
          2082.95,
          2088.75,
          2088.8,
          2095,
          2104.55,
          2109.35,
          2110.15,
          2111.45,
          2119.5,
          2122.05,
          2122.45,
          2135.5,
          2139.2,
          2145,
          2157.95,
          2165.05,
          2169.75,
          2169.8,
          2171.15,
          2177.45,
          2178.6,
          2180.55,
          2184.35,
          2186.4,
          2187.55,
          2196.15,
          2200.25,
          2203.65,
          2217.15,
          2227.1,
          2231.05,
          2238.5,
          2239.65,
          2249.95,
          2250.65,
          2254.2,
          2257.75,
          2264.05,
          2265.25,
          2274.35,
          2274.9,
          2276.95,
          2277.65,
          2282.55,
          2287.25,
          2291.2,
          2293.6,
          2303.35,
          2317.1,
          2319.8,
          2331.3,
          2335.3,
          2342.2,
          2345.2,
          2347.9,
          2351.8,
          2354.8,
          2361.8,
          2362.1,
          2365.15,
          2368.4,
          2369.05,
          2375.4,
          2381.55,
          2384.15,
          2387.75,
          2391.8,
          2404.15,
          2405.05,
          2407.3,
          2416.1,
          2416.55,
          2431.35,
          2433.9,
          2435.15,
          2440.15,
          2447.95,
          2448.75,
          2452.7,
          2460.15,
          2467.1,
          2467.75,
          2470.1,
          2483.05,
          2483.5,
          2496.7,
          2497.2,
          2497.35,
          2498.4,
          2499.3,
          2510.2,
          2514.5,
          2515.3,
          2524.45,
          2530.4,
          2541.25,
          2542.45,
          2550.9,
          2555.9,
          2564.3,
          2566.5,
          2568.55,
          2572.95,
          2576.2,
          2585.95,
          2587.7,
          2596.15,
          2597.6,
          2598.95,
          2602.9,
          2624.25,
          2625.55,
          2628.6,
          2636.05,
          2642.05,
          2649.15,
          2651.2,
          2653.65,
          2655.25,
          2656.5,
          2659.4,
          2660.2,
          2661.1,
          2697.4,
          2698.35,
          2710.25,
          2716.3,
          2718.3,
          2724.6,
          2728.6,
          2745.2,
          2745.7,
          2754.45,
          2755.35,
          2757.85,
          2758.15,
          2781.85,
          2791.5,
          2804.45,
          2806.9,
          2812.2,
          2816.65,
          2838.7,
          2839.65,
          2841.55,
          2847.4,
          2854.55,
          2862.75,
          2866.45,
          2867.75,
          2868.05,
          2868.15,
          2869.85,
          2874.15,
          2890.65,
          2896.4,
          2911.3,
          2917.5,
          2931,
          2933.2,
          2934.3,
          2952.85,
          2954.5,
          2967.35,
          2978.3,
          2979.5,
          2983.8,
          2995.45,
          3001.2,
          3004.15,
          3013.05,
          3014.65,
          3017.65,
          3019.25,
          3019.5,
          3021.6,
          3027.4,
          3029.1,
          3030.6,
          3036.75,
          3046.05,
          3046.15,
          3046.4,
          3050.15,
          3058.65,
          3066.45,
          3067.2,
          3078.1,
          3092.65,
          3105.55,
          3110.1,
          3124.5,
          3132.75,
          3147.5,
          3152.5,
          3160.55,
          3171.15,
          3182.95,
          3183.4,
          3184.25,
          3186.65,
          3186.7,
          3198.6,
          3201.55,
          3204.65,
          3207.55,
          3217.55,
          3229.4,
          3229.65,
          3233.6,
          3233.85,
          3243.45,
          3264.45,
          3264.5,
          3266,
          3273.55,
          3303.05,
          3309.25,
          3326.2,
          3351.55,
          3361.05,
          3365.85,
          3384,
          3395.8,
          3409.6,
          3432.9,
          3436.1,
          3444.85,
          3457.9,
          3467,
          3473.4,
          3474.05,
          3474.45,
          3475.55,
          3480,
          3496.3,
          3515.25,
          3520.75,
          3527.6,
          3541.35,
          3545.35,
          3549.25,
          3563.8,
          3580.3,
          3587.25,
          3588.4,
          3605.2,
          3615.6,
          3624.3,
          3626.1,
          3640.45,
          3653.35,
          3655.45,
          3678.3,
          3692.85,
          3706.95,
          3715.65,
          3734.25,
          3744.05,
          3754.6,
          3759.05,
          3762,
          3777.15,
          3807.35,
          3825.85,
          3856.75,
          3862.55,
          3912.9,
          3913.3,
          3937.45,
          3941.7,
          3959.35,
          3969.35,
          3969.4,
          3994.45,
          4016.85,
          4026.4,
          4029.95,
          4036.85,
          4042.3,
          4045.65,
          4056.75,
          4059.35,
          4062.2,
          4065,
          4086.3,
          4092.85,
          4113.1,
          4116.15,
          4131.95,
          4134.85,
          4138.05,
          4146.05,
          4154.8,
          4186.3,
          4187.75,
          4211.55,
          4213.35,
          4242.35,
          4254.85,
          4259.3,
          4273.45,
          4284.8,
          4323.45,
          4338.6,
          4346.4,
          4348.65,
          4350.1,
          4364.1,
          4367.35,
          4370.25,
          4388.4,
          4398.15,
          4399.5,
          4400.75,
          4414.3,
          4424.2,
          4443.45,
          4458.15,
          4481,
          4504.55,
          4512.7,
          4515.85,
          4517.25,
          4527.45,
          4528,
          4533.7,
          4533.9,
          4534.9,
          4541.2,
          4547.25,
          4594.95,
          4600.7,
          4627.85,
          4653.85,
          4680.05,
          4687.9,
          4689.5,
          4718.25,
          4740,
          4749.15,
          4750.95,
          4759.75,
          4759.85,
          4783.5,
          4812.75,
          4816.7,
          4820.15,
          4822.85,
          4830.25,
          4837.6,
          4853.75,
          4867.95,
          4871.05,
          4872.45,
          4874.7,
          4874.8,
          4888.7,
          4913.3,
          4941.8,
          4990.25,
          5000.2,
          5017.9,
          5029.2,
          5036.3,
          5037.55,
          5069.65,
          5071.05,
          5082.8,
          5084.65,
          5118.95,
          5121.3,
          5124.55,
          5124.6,
          5127.95,
          5149.5,
          5154.6,
          5224.35,
          5238.9,
          5265.1,
          5275.8,
          5278.15,
          5283.95,
          5293.2,
          5293.4,
          5293.95,
          5341.8,
          5356.45,
          5373.1,
          5426.85,
          5427.05,
          5435.6,
          5438.9,
          5440.9,
          5453.4,
          5464.65,
          5485.5,
          5508.35,
          5509.3,
          5510.65,
          5549.4,
          5551.15,
          5568.35,
          5574.75,
          5610.25,
          5610.7,
          5614.45,
          5617.75,
          5624.85,
          5638.3,
          5639.05,
          5643.4,
          5685.8,
          5688.05,
          5742.9,
          5743.05,
          5746.15,
          5763.3,
          5769.6,
          5769.75,
          5785.5,
          5794.65,
          5812.6,
          5885.4,
          5893.15,
          5916.45,
          5918.8,
          5921.35,
          5940.85,
          5961.1,
          6010.05,
          6014.85,
          6017.65,
          6039.9,
          6056.15,
          6110.2,
          6125.4,
          6127.6,
          6137,
          6143.15,
          6144.55,
          6145.85,
          6205.5,
          6215.35,
          6219.6,
          6252.9,
          6254.2,
          6281.45,
          6283.3,
          6287.25,
          6341.45,
          6383.35,
          6396.45,
          6405,
          6413.65,
          6418.9,
          6428.4,
          6440.25,
          6441.4,
          6448.05,
          6465,
          6529.25,
          6547.7,
          6579.05,
          6581.9,
          6585.35,
          6603,
          6615.15,
          6710.5,
          6786.4,
          6822.15,
          6851.65,
          6859.5,
          6871.9,
          6873.75,
          6876.05,
          6886.25,
          6890,
          6903.1,
          6937.95,
          6941.2,
          6975.25,
          6979.8,
          6981.35,
          6985.65,
          7007.6,
          7040.85,
          7101.5,
          7133.25,
          7156.2,
          7176.55,
          7220.35,
          7250.15,
          7262,
          7299.65,
          7318.2,
          7348.8,
          7372.65,
          7432.05,
          7446.9,
          7482.1,
          7491.75,
          7532.15,
          7534.65,
          7548.1,
          7611.85,
          7674.55,
          7689.95,
          7690.9,
          7723.7,
          7723.9,
          7752.3,
          7804.15,
          7856,
          7968.85,
          8109.8,
          8127.6,
          8684.8
         ],
         "xaxis": "x2",
         "yaxis": "y2"
        }
       ],
       "layout": {
        "barmode": "relative",
        "legend": {
         "title": {
          "text": "Churn"
         },
         "tracegroupgap": 0
        },
        "template": {
         "data": {
          "bar": [
           {
            "error_x": {
             "color": "#2a3f5f"
            },
            "error_y": {
             "color": "#2a3f5f"
            },
            "marker": {
             "line": {
              "color": "#E5ECF6",
              "width": 0.5
             },
             "pattern": {
              "fillmode": "overlay",
              "size": 10,
              "solidity": 0.2
             }
            },
            "type": "bar"
           }
          ],
          "barpolar": [
           {
            "marker": {
             "line": {
              "color": "#E5ECF6",
              "width": 0.5
             },
             "pattern": {
              "fillmode": "overlay",
              "size": 10,
              "solidity": 0.2
             }
            },
            "type": "barpolar"
           }
          ],
          "carpet": [
           {
            "aaxis": {
             "endlinecolor": "#2a3f5f",
             "gridcolor": "white",
             "linecolor": "white",
             "minorgridcolor": "white",
             "startlinecolor": "#2a3f5f"
            },
            "baxis": {
             "endlinecolor": "#2a3f5f",
             "gridcolor": "white",
             "linecolor": "white",
             "minorgridcolor": "white",
             "startlinecolor": "#2a3f5f"
            },
            "type": "carpet"
           }
          ],
          "choropleth": [
           {
            "colorbar": {
             "outlinewidth": 0,
             "ticks": ""
            },
            "type": "choropleth"
           }
          ],
          "contour": [
           {
            "colorbar": {
             "outlinewidth": 0,
             "ticks": ""
            },
            "colorscale": [
             [
              0,
              "#0d0887"
             ],
             [
              0.1111111111111111,
              "#46039f"
             ],
             [
              0.2222222222222222,
              "#7201a8"
             ],
             [
              0.3333333333333333,
              "#9c179e"
             ],
             [
              0.4444444444444444,
              "#bd3786"
             ],
             [
              0.5555555555555556,
              "#d8576b"
             ],
             [
              0.6666666666666666,
              "#ed7953"
             ],
             [
              0.7777777777777778,
              "#fb9f3a"
             ],
             [
              0.8888888888888888,
              "#fdca26"
             ],
             [
              1,
              "#f0f921"
             ]
            ],
            "type": "contour"
           }
          ],
          "contourcarpet": [
           {
            "colorbar": {
             "outlinewidth": 0,
             "ticks": ""
            },
            "type": "contourcarpet"
           }
          ],
          "heatmap": [
           {
            "colorbar": {
             "outlinewidth": 0,
             "ticks": ""
            },
            "colorscale": [
             [
              0,
              "#0d0887"
             ],
             [
              0.1111111111111111,
              "#46039f"
             ],
             [
              0.2222222222222222,
              "#7201a8"
             ],
             [
              0.3333333333333333,
              "#9c179e"
             ],
             [
              0.4444444444444444,
              "#bd3786"
             ],
             [
              0.5555555555555556,
              "#d8576b"
             ],
             [
              0.6666666666666666,
              "#ed7953"
             ],
             [
              0.7777777777777778,
              "#fb9f3a"
             ],
             [
              0.8888888888888888,
              "#fdca26"
             ],
             [
              1,
              "#f0f921"
             ]
            ],
            "type": "heatmap"
           }
          ],
          "heatmapgl": [
           {
            "colorbar": {
             "outlinewidth": 0,
             "ticks": ""
            },
            "colorscale": [
             [
              0,
              "#0d0887"
             ],
             [
              0.1111111111111111,
              "#46039f"
             ],
             [
              0.2222222222222222,
              "#7201a8"
             ],
             [
              0.3333333333333333,
              "#9c179e"
             ],
             [
              0.4444444444444444,
              "#bd3786"
             ],
             [
              0.5555555555555556,
              "#d8576b"
             ],
             [
              0.6666666666666666,
              "#ed7953"
             ],
             [
              0.7777777777777778,
              "#fb9f3a"
             ],
             [
              0.8888888888888888,
              "#fdca26"
             ],
             [
              1,
              "#f0f921"
             ]
            ],
            "type": "heatmapgl"
           }
          ],
          "histogram": [
           {
            "marker": {
             "pattern": {
              "fillmode": "overlay",
              "size": 10,
              "solidity": 0.2
             }
            },
            "type": "histogram"
           }
          ],
          "histogram2d": [
           {
            "colorbar": {
             "outlinewidth": 0,
             "ticks": ""
            },
            "colorscale": [
             [
              0,
              "#0d0887"
             ],
             [
              0.1111111111111111,
              "#46039f"
             ],
             [
              0.2222222222222222,
              "#7201a8"
             ],
             [
              0.3333333333333333,
              "#9c179e"
             ],
             [
              0.4444444444444444,
              "#bd3786"
             ],
             [
              0.5555555555555556,
              "#d8576b"
             ],
             [
              0.6666666666666666,
              "#ed7953"
             ],
             [
              0.7777777777777778,
              "#fb9f3a"
             ],
             [
              0.8888888888888888,
              "#fdca26"
             ],
             [
              1,
              "#f0f921"
             ]
            ],
            "type": "histogram2d"
           }
          ],
          "histogram2dcontour": [
           {
            "colorbar": {
             "outlinewidth": 0,
             "ticks": ""
            },
            "colorscale": [
             [
              0,
              "#0d0887"
             ],
             [
              0.1111111111111111,
              "#46039f"
             ],
             [
              0.2222222222222222,
              "#7201a8"
             ],
             [
              0.3333333333333333,
              "#9c179e"
             ],
             [
              0.4444444444444444,
              "#bd3786"
             ],
             [
              0.5555555555555556,
              "#d8576b"
             ],
             [
              0.6666666666666666,
              "#ed7953"
             ],
             [
              0.7777777777777778,
              "#fb9f3a"
             ],
             [
              0.8888888888888888,
              "#fdca26"
             ],
             [
              1,
              "#f0f921"
             ]
            ],
            "type": "histogram2dcontour"
           }
          ],
          "mesh3d": [
           {
            "colorbar": {
             "outlinewidth": 0,
             "ticks": ""
            },
            "type": "mesh3d"
           }
          ],
          "parcoords": [
           {
            "line": {
             "colorbar": {
              "outlinewidth": 0,
              "ticks": ""
             }
            },
            "type": "parcoords"
           }
          ],
          "pie": [
           {
            "automargin": true,
            "type": "pie"
           }
          ],
          "scatter": [
           {
            "marker": {
             "colorbar": {
              "outlinewidth": 0,
              "ticks": ""
             }
            },
            "type": "scatter"
           }
          ],
          "scatter3d": [
           {
            "line": {
             "colorbar": {
              "outlinewidth": 0,
              "ticks": ""
             }
            },
            "marker": {
             "colorbar": {
              "outlinewidth": 0,
              "ticks": ""
             }
            },
            "type": "scatter3d"
           }
          ],
          "scattercarpet": [
           {
            "marker": {
             "colorbar": {
              "outlinewidth": 0,
              "ticks": ""
             }
            },
            "type": "scattercarpet"
           }
          ],
          "scattergeo": [
           {
            "marker": {
             "colorbar": {
              "outlinewidth": 0,
              "ticks": ""
             }
            },
            "type": "scattergeo"
           }
          ],
          "scattergl": [
           {
            "marker": {
             "colorbar": {
              "outlinewidth": 0,
              "ticks": ""
             }
            },
            "type": "scattergl"
           }
          ],
          "scattermapbox": [
           {
            "marker": {
             "colorbar": {
              "outlinewidth": 0,
              "ticks": ""
             }
            },
            "type": "scattermapbox"
           }
          ],
          "scatterpolar": [
           {
            "marker": {
             "colorbar": {
              "outlinewidth": 0,
              "ticks": ""
             }
            },
            "type": "scatterpolar"
           }
          ],
          "scatterpolargl": [
           {
            "marker": {
             "colorbar": {
              "outlinewidth": 0,
              "ticks": ""
             }
            },
            "type": "scatterpolargl"
           }
          ],
          "scatterternary": [
           {
            "marker": {
             "colorbar": {
              "outlinewidth": 0,
              "ticks": ""
             }
            },
            "type": "scatterternary"
           }
          ],
          "surface": [
           {
            "colorbar": {
             "outlinewidth": 0,
             "ticks": ""
            },
            "colorscale": [
             [
              0,
              "#0d0887"
             ],
             [
              0.1111111111111111,
              "#46039f"
             ],
             [
              0.2222222222222222,
              "#7201a8"
             ],
             [
              0.3333333333333333,
              "#9c179e"
             ],
             [
              0.4444444444444444,
              "#bd3786"
             ],
             [
              0.5555555555555556,
              "#d8576b"
             ],
             [
              0.6666666666666666,
              "#ed7953"
             ],
             [
              0.7777777777777778,
              "#fb9f3a"
             ],
             [
              0.8888888888888888,
              "#fdca26"
             ],
             [
              1,
              "#f0f921"
             ]
            ],
            "type": "surface"
           }
          ],
          "table": [
           {
            "cells": {
             "fill": {
              "color": "#EBF0F8"
             },
             "line": {
              "color": "white"
             }
            },
            "header": {
             "fill": {
              "color": "#C8D4E3"
             },
             "line": {
              "color": "white"
             }
            },
            "type": "table"
           }
          ]
         },
         "layout": {
          "annotationdefaults": {
           "arrowcolor": "#2a3f5f",
           "arrowhead": 0,
           "arrowwidth": 1
          },
          "autotypenumbers": "strict",
          "coloraxis": {
           "colorbar": {
            "outlinewidth": 0,
            "ticks": ""
           }
          },
          "colorscale": {
           "diverging": [
            [
             0,
             "#8e0152"
            ],
            [
             0.1,
             "#c51b7d"
            ],
            [
             0.2,
             "#de77ae"
            ],
            [
             0.3,
             "#f1b6da"
            ],
            [
             0.4,
             "#fde0ef"
            ],
            [
             0.5,
             "#f7f7f7"
            ],
            [
             0.6,
             "#e6f5d0"
            ],
            [
             0.7,
             "#b8e186"
            ],
            [
             0.8,
             "#7fbc41"
            ],
            [
             0.9,
             "#4d9221"
            ],
            [
             1,
             "#276419"
            ]
           ],
           "sequential": [
            [
             0,
             "#0d0887"
            ],
            [
             0.1111111111111111,
             "#46039f"
            ],
            [
             0.2222222222222222,
             "#7201a8"
            ],
            [
             0.3333333333333333,
             "#9c179e"
            ],
            [
             0.4444444444444444,
             "#bd3786"
            ],
            [
             0.5555555555555556,
             "#d8576b"
            ],
            [
             0.6666666666666666,
             "#ed7953"
            ],
            [
             0.7777777777777778,
             "#fb9f3a"
            ],
            [
             0.8888888888888888,
             "#fdca26"
            ],
            [
             1,
             "#f0f921"
            ]
           ],
           "sequentialminus": [
            [
             0,
             "#0d0887"
            ],
            [
             0.1111111111111111,
             "#46039f"
            ],
            [
             0.2222222222222222,
             "#7201a8"
            ],
            [
             0.3333333333333333,
             "#9c179e"
            ],
            [
             0.4444444444444444,
             "#bd3786"
            ],
            [
             0.5555555555555556,
             "#d8576b"
            ],
            [
             0.6666666666666666,
             "#ed7953"
            ],
            [
             0.7777777777777778,
             "#fb9f3a"
            ],
            [
             0.8888888888888888,
             "#fdca26"
            ],
            [
             1,
             "#f0f921"
            ]
           ]
          },
          "colorway": [
           "#636efa",
           "#EF553B",
           "#00cc96",
           "#ab63fa",
           "#FFA15A",
           "#19d3f3",
           "#FF6692",
           "#B6E880",
           "#FF97FF",
           "#FECB52"
          ],
          "font": {
           "color": "#2a3f5f"
          },
          "geo": {
           "bgcolor": "white",
           "lakecolor": "white",
           "landcolor": "#E5ECF6",
           "showlakes": true,
           "showland": true,
           "subunitcolor": "white"
          },
          "hoverlabel": {
           "align": "left"
          },
          "hovermode": "closest",
          "mapbox": {
           "style": "light"
          },
          "paper_bgcolor": "white",
          "plot_bgcolor": "#E5ECF6",
          "polar": {
           "angularaxis": {
            "gridcolor": "white",
            "linecolor": "white",
            "ticks": ""
           },
           "bgcolor": "#E5ECF6",
           "radialaxis": {
            "gridcolor": "white",
            "linecolor": "white",
            "ticks": ""
           }
          },
          "scene": {
           "xaxis": {
            "backgroundcolor": "#E5ECF6",
            "gridcolor": "white",
            "gridwidth": 2,
            "linecolor": "white",
            "showbackground": true,
            "ticks": "",
            "zerolinecolor": "white"
           },
           "yaxis": {
            "backgroundcolor": "#E5ECF6",
            "gridcolor": "white",
            "gridwidth": 2,
            "linecolor": "white",
            "showbackground": true,
            "ticks": "",
            "zerolinecolor": "white"
           },
           "zaxis": {
            "backgroundcolor": "#E5ECF6",
            "gridcolor": "white",
            "gridwidth": 2,
            "linecolor": "white",
            "showbackground": true,
            "ticks": "",
            "zerolinecolor": "white"
           }
          },
          "shapedefaults": {
           "line": {
            "color": "#2a3f5f"
           }
          },
          "ternary": {
           "aaxis": {
            "gridcolor": "white",
            "linecolor": "white",
            "ticks": ""
           },
           "baxis": {
            "gridcolor": "white",
            "linecolor": "white",
            "ticks": ""
           },
           "bgcolor": "#E5ECF6",
           "caxis": {
            "gridcolor": "white",
            "linecolor": "white",
            "ticks": ""
           }
          },
          "title": {
           "x": 0.05
          },
          "xaxis": {
           "automargin": true,
           "gridcolor": "white",
           "linecolor": "white",
           "ticks": "",
           "title": {
            "standoff": 15
           },
           "zerolinecolor": "white",
           "zerolinewidth": 2
          },
          "yaxis": {
           "automargin": true,
           "gridcolor": "white",
           "linecolor": "white",
           "ticks": "",
           "title": {
            "standoff": 15
           },
           "zerolinecolor": "white",
           "zerolinewidth": 2
          }
         }
        },
        "title": {
         "text": "Churn rate frequency to TotalCharges distribution"
        },
        "width": 900,
        "xaxis": {
         "anchor": "y",
         "domain": [
          0,
          1
         ],
         "title": {
          "text": "TotalCharges"
         }
        },
        "xaxis2": {
         "anchor": "y2",
         "domain": [
          0,
          1
         ],
         "matches": "x",
         "showgrid": true,
         "showticklabels": false
        },
        "yaxis": {
         "anchor": "x",
         "domain": [
          0,
          0.7326
         ],
         "title": {
          "text": "sum of Count"
         }
        },
        "yaxis2": {
         "anchor": "x2",
         "domain": [
          0.7426,
          1
         ],
         "matches": "y2",
         "showgrid": false,
         "showline": false,
         "showticklabels": false,
         "ticks": ""
        }
       }
      }
     },
     "metadata": {},
     "output_type": "display_data"
    }
   ],
   "source": [
    "hist(\"tenure\")\n",
    "hist(\"MonthlyCharges\")\n",
    "hist(\"TotalCharges\")"
   ]
  },
  {
   "cell_type": "code",
   "execution_count": 98,
   "id": "382aebfa-3f09-4672-868c-9c7eb6b37f24",
   "metadata": {},
   "outputs": [
    {
     "name": "stdout",
     "output_type": "stream",
     "text": [
      "  tenure_bins Churn     0\n",
      "0         low    No  1272\n",
      "1         low   Yes  1099\n",
      "2      medium    No  1821\n",
      "3      medium   Yes   548\n",
      "4        high    No  2081\n",
      "5        high   Yes   222\n",
      "  tenure_bins Churn  Count\n",
      "0         low    No   1272\n",
      "1         low   Yes   1099\n",
      "2      medium    No   1821\n",
      "3      medium   Yes    548\n",
      "4        high    No   2081\n",
      "5        high   Yes    222\n",
      "    index  tenure_bins\n",
      "0     low         2371\n",
      "1  medium         2369\n",
      "2    high         2303\n",
      "['low', 'medium', 'high']\n",
      "[2371, 2369, 2303]\n",
      "[0.336646315490558, 0.3363623455913673, 0.3269913389180747]\n",
      "[33.7, 33.6, 32.7]\n",
      "[33.7, 33.6, 32.7]\n",
      "3\n",
      "['low', 'medium', 'high']\n",
      "3\n"
     ]
    },
    {
     "data": {
      "application/vnd.plotly.v1+json": {
       "config": {
        "plotlyServerURL": "https://plot.ly"
       },
       "data": [
        {
         "alignmentgroup": "True",
         "hovertemplate": "Churn=No<br>tenure_bins=%{x}<br>Count=%{y}<extra></extra>",
         "legendgroup": "No",
         "marker": {
          "color": "blue",
          "pattern": {
           "shape": ""
          }
         },
         "name": "No",
         "offsetgroup": "No",
         "orientation": "v",
         "showlegend": true,
         "textposition": "auto",
         "type": "bar",
         "x": [
          "low",
          "medium",
          "high"
         ],
         "xaxis": "x",
         "y": [
          1272,
          1821,
          2081
         ],
         "yaxis": "y"
        },
        {
         "alignmentgroup": "True",
         "hovertemplate": "Churn=Yes<br>tenure_bins=%{x}<br>Count=%{y}<extra></extra>",
         "legendgroup": "Yes",
         "marker": {
          "color": "red",
          "pattern": {
           "shape": ""
          }
         },
         "name": "Yes",
         "offsetgroup": "Yes",
         "orientation": "v",
         "showlegend": true,
         "textposition": "auto",
         "type": "bar",
         "x": [
          "low",
          "medium",
          "high"
         ],
         "xaxis": "x",
         "y": [
          1099,
          548,
          222
         ],
         "yaxis": "y"
        }
       ],
       "layout": {
        "annotations": [
         {
          "align": "left",
          "bordercolor": "black",
          "borderwidth": 1,
          "showarrow": false,
          "text": "Value count of distribution of low, medium & high are<br>33.7%, 33.6% & 32.7% percentage respectively.",
          "x": 1,
          "xref": "paper",
          "y": 1.3,
          "yref": "paper"
         }
        ],
        "barmode": "group",
        "legend": {
         "title": {
          "text": "Churn"
         },
         "tracegroupgap": 0
        },
        "template": {
         "data": {
          "bar": [
           {
            "error_x": {
             "color": "#2a3f5f"
            },
            "error_y": {
             "color": "#2a3f5f"
            },
            "marker": {
             "line": {
              "color": "#E5ECF6",
              "width": 0.5
             },
             "pattern": {
              "fillmode": "overlay",
              "size": 10,
              "solidity": 0.2
             }
            },
            "type": "bar"
           }
          ],
          "barpolar": [
           {
            "marker": {
             "line": {
              "color": "#E5ECF6",
              "width": 0.5
             },
             "pattern": {
              "fillmode": "overlay",
              "size": 10,
              "solidity": 0.2
             }
            },
            "type": "barpolar"
           }
          ],
          "carpet": [
           {
            "aaxis": {
             "endlinecolor": "#2a3f5f",
             "gridcolor": "white",
             "linecolor": "white",
             "minorgridcolor": "white",
             "startlinecolor": "#2a3f5f"
            },
            "baxis": {
             "endlinecolor": "#2a3f5f",
             "gridcolor": "white",
             "linecolor": "white",
             "minorgridcolor": "white",
             "startlinecolor": "#2a3f5f"
            },
            "type": "carpet"
           }
          ],
          "choropleth": [
           {
            "colorbar": {
             "outlinewidth": 0,
             "ticks": ""
            },
            "type": "choropleth"
           }
          ],
          "contour": [
           {
            "colorbar": {
             "outlinewidth": 0,
             "ticks": ""
            },
            "colorscale": [
             [
              0,
              "#0d0887"
             ],
             [
              0.1111111111111111,
              "#46039f"
             ],
             [
              0.2222222222222222,
              "#7201a8"
             ],
             [
              0.3333333333333333,
              "#9c179e"
             ],
             [
              0.4444444444444444,
              "#bd3786"
             ],
             [
              0.5555555555555556,
              "#d8576b"
             ],
             [
              0.6666666666666666,
              "#ed7953"
             ],
             [
              0.7777777777777778,
              "#fb9f3a"
             ],
             [
              0.8888888888888888,
              "#fdca26"
             ],
             [
              1,
              "#f0f921"
             ]
            ],
            "type": "contour"
           }
          ],
          "contourcarpet": [
           {
            "colorbar": {
             "outlinewidth": 0,
             "ticks": ""
            },
            "type": "contourcarpet"
           }
          ],
          "heatmap": [
           {
            "colorbar": {
             "outlinewidth": 0,
             "ticks": ""
            },
            "colorscale": [
             [
              0,
              "#0d0887"
             ],
             [
              0.1111111111111111,
              "#46039f"
             ],
             [
              0.2222222222222222,
              "#7201a8"
             ],
             [
              0.3333333333333333,
              "#9c179e"
             ],
             [
              0.4444444444444444,
              "#bd3786"
             ],
             [
              0.5555555555555556,
              "#d8576b"
             ],
             [
              0.6666666666666666,
              "#ed7953"
             ],
             [
              0.7777777777777778,
              "#fb9f3a"
             ],
             [
              0.8888888888888888,
              "#fdca26"
             ],
             [
              1,
              "#f0f921"
             ]
            ],
            "type": "heatmap"
           }
          ],
          "heatmapgl": [
           {
            "colorbar": {
             "outlinewidth": 0,
             "ticks": ""
            },
            "colorscale": [
             [
              0,
              "#0d0887"
             ],
             [
              0.1111111111111111,
              "#46039f"
             ],
             [
              0.2222222222222222,
              "#7201a8"
             ],
             [
              0.3333333333333333,
              "#9c179e"
             ],
             [
              0.4444444444444444,
              "#bd3786"
             ],
             [
              0.5555555555555556,
              "#d8576b"
             ],
             [
              0.6666666666666666,
              "#ed7953"
             ],
             [
              0.7777777777777778,
              "#fb9f3a"
             ],
             [
              0.8888888888888888,
              "#fdca26"
             ],
             [
              1,
              "#f0f921"
             ]
            ],
            "type": "heatmapgl"
           }
          ],
          "histogram": [
           {
            "marker": {
             "pattern": {
              "fillmode": "overlay",
              "size": 10,
              "solidity": 0.2
             }
            },
            "type": "histogram"
           }
          ],
          "histogram2d": [
           {
            "colorbar": {
             "outlinewidth": 0,
             "ticks": ""
            },
            "colorscale": [
             [
              0,
              "#0d0887"
             ],
             [
              0.1111111111111111,
              "#46039f"
             ],
             [
              0.2222222222222222,
              "#7201a8"
             ],
             [
              0.3333333333333333,
              "#9c179e"
             ],
             [
              0.4444444444444444,
              "#bd3786"
             ],
             [
              0.5555555555555556,
              "#d8576b"
             ],
             [
              0.6666666666666666,
              "#ed7953"
             ],
             [
              0.7777777777777778,
              "#fb9f3a"
             ],
             [
              0.8888888888888888,
              "#fdca26"
             ],
             [
              1,
              "#f0f921"
             ]
            ],
            "type": "histogram2d"
           }
          ],
          "histogram2dcontour": [
           {
            "colorbar": {
             "outlinewidth": 0,
             "ticks": ""
            },
            "colorscale": [
             [
              0,
              "#0d0887"
             ],
             [
              0.1111111111111111,
              "#46039f"
             ],
             [
              0.2222222222222222,
              "#7201a8"
             ],
             [
              0.3333333333333333,
              "#9c179e"
             ],
             [
              0.4444444444444444,
              "#bd3786"
             ],
             [
              0.5555555555555556,
              "#d8576b"
             ],
             [
              0.6666666666666666,
              "#ed7953"
             ],
             [
              0.7777777777777778,
              "#fb9f3a"
             ],
             [
              0.8888888888888888,
              "#fdca26"
             ],
             [
              1,
              "#f0f921"
             ]
            ],
            "type": "histogram2dcontour"
           }
          ],
          "mesh3d": [
           {
            "colorbar": {
             "outlinewidth": 0,
             "ticks": ""
            },
            "type": "mesh3d"
           }
          ],
          "parcoords": [
           {
            "line": {
             "colorbar": {
              "outlinewidth": 0,
              "ticks": ""
             }
            },
            "type": "parcoords"
           }
          ],
          "pie": [
           {
            "automargin": true,
            "type": "pie"
           }
          ],
          "scatter": [
           {
            "marker": {
             "colorbar": {
              "outlinewidth": 0,
              "ticks": ""
             }
            },
            "type": "scatter"
           }
          ],
          "scatter3d": [
           {
            "line": {
             "colorbar": {
              "outlinewidth": 0,
              "ticks": ""
             }
            },
            "marker": {
             "colorbar": {
              "outlinewidth": 0,
              "ticks": ""
             }
            },
            "type": "scatter3d"
           }
          ],
          "scattercarpet": [
           {
            "marker": {
             "colorbar": {
              "outlinewidth": 0,
              "ticks": ""
             }
            },
            "type": "scattercarpet"
           }
          ],
          "scattergeo": [
           {
            "marker": {
             "colorbar": {
              "outlinewidth": 0,
              "ticks": ""
             }
            },
            "type": "scattergeo"
           }
          ],
          "scattergl": [
           {
            "marker": {
             "colorbar": {
              "outlinewidth": 0,
              "ticks": ""
             }
            },
            "type": "scattergl"
           }
          ],
          "scattermapbox": [
           {
            "marker": {
             "colorbar": {
              "outlinewidth": 0,
              "ticks": ""
             }
            },
            "type": "scattermapbox"
           }
          ],
          "scatterpolar": [
           {
            "marker": {
             "colorbar": {
              "outlinewidth": 0,
              "ticks": ""
             }
            },
            "type": "scatterpolar"
           }
          ],
          "scatterpolargl": [
           {
            "marker": {
             "colorbar": {
              "outlinewidth": 0,
              "ticks": ""
             }
            },
            "type": "scatterpolargl"
           }
          ],
          "scatterternary": [
           {
            "marker": {
             "colorbar": {
              "outlinewidth": 0,
              "ticks": ""
             }
            },
            "type": "scatterternary"
           }
          ],
          "surface": [
           {
            "colorbar": {
             "outlinewidth": 0,
             "ticks": ""
            },
            "colorscale": [
             [
              0,
              "#0d0887"
             ],
             [
              0.1111111111111111,
              "#46039f"
             ],
             [
              0.2222222222222222,
              "#7201a8"
             ],
             [
              0.3333333333333333,
              "#9c179e"
             ],
             [
              0.4444444444444444,
              "#bd3786"
             ],
             [
              0.5555555555555556,
              "#d8576b"
             ],
             [
              0.6666666666666666,
              "#ed7953"
             ],
             [
              0.7777777777777778,
              "#fb9f3a"
             ],
             [
              0.8888888888888888,
              "#fdca26"
             ],
             [
              1,
              "#f0f921"
             ]
            ],
            "type": "surface"
           }
          ],
          "table": [
           {
            "cells": {
             "fill": {
              "color": "#EBF0F8"
             },
             "line": {
              "color": "white"
             }
            },
            "header": {
             "fill": {
              "color": "#C8D4E3"
             },
             "line": {
              "color": "white"
             }
            },
            "type": "table"
           }
          ]
         },
         "layout": {
          "annotationdefaults": {
           "arrowcolor": "#2a3f5f",
           "arrowhead": 0,
           "arrowwidth": 1
          },
          "autotypenumbers": "strict",
          "coloraxis": {
           "colorbar": {
            "outlinewidth": 0,
            "ticks": ""
           }
          },
          "colorscale": {
           "diverging": [
            [
             0,
             "#8e0152"
            ],
            [
             0.1,
             "#c51b7d"
            ],
            [
             0.2,
             "#de77ae"
            ],
            [
             0.3,
             "#f1b6da"
            ],
            [
             0.4,
             "#fde0ef"
            ],
            [
             0.5,
             "#f7f7f7"
            ],
            [
             0.6,
             "#e6f5d0"
            ],
            [
             0.7,
             "#b8e186"
            ],
            [
             0.8,
             "#7fbc41"
            ],
            [
             0.9,
             "#4d9221"
            ],
            [
             1,
             "#276419"
            ]
           ],
           "sequential": [
            [
             0,
             "#0d0887"
            ],
            [
             0.1111111111111111,
             "#46039f"
            ],
            [
             0.2222222222222222,
             "#7201a8"
            ],
            [
             0.3333333333333333,
             "#9c179e"
            ],
            [
             0.4444444444444444,
             "#bd3786"
            ],
            [
             0.5555555555555556,
             "#d8576b"
            ],
            [
             0.6666666666666666,
             "#ed7953"
            ],
            [
             0.7777777777777778,
             "#fb9f3a"
            ],
            [
             0.8888888888888888,
             "#fdca26"
            ],
            [
             1,
             "#f0f921"
            ]
           ],
           "sequentialminus": [
            [
             0,
             "#0d0887"
            ],
            [
             0.1111111111111111,
             "#46039f"
            ],
            [
             0.2222222222222222,
             "#7201a8"
            ],
            [
             0.3333333333333333,
             "#9c179e"
            ],
            [
             0.4444444444444444,
             "#bd3786"
            ],
            [
             0.5555555555555556,
             "#d8576b"
            ],
            [
             0.6666666666666666,
             "#ed7953"
            ],
            [
             0.7777777777777778,
             "#fb9f3a"
            ],
            [
             0.8888888888888888,
             "#fdca26"
            ],
            [
             1,
             "#f0f921"
            ]
           ]
          },
          "colorway": [
           "#636efa",
           "#EF553B",
           "#00cc96",
           "#ab63fa",
           "#FFA15A",
           "#19d3f3",
           "#FF6692",
           "#B6E880",
           "#FF97FF",
           "#FECB52"
          ],
          "font": {
           "color": "#2a3f5f"
          },
          "geo": {
           "bgcolor": "white",
           "lakecolor": "white",
           "landcolor": "#E5ECF6",
           "showlakes": true,
           "showland": true,
           "subunitcolor": "white"
          },
          "hoverlabel": {
           "align": "left"
          },
          "hovermode": "closest",
          "mapbox": {
           "style": "light"
          },
          "paper_bgcolor": "white",
          "plot_bgcolor": "#E5ECF6",
          "polar": {
           "angularaxis": {
            "gridcolor": "white",
            "linecolor": "white",
            "ticks": ""
           },
           "bgcolor": "#E5ECF6",
           "radialaxis": {
            "gridcolor": "white",
            "linecolor": "white",
            "ticks": ""
           }
          },
          "scene": {
           "xaxis": {
            "backgroundcolor": "#E5ECF6",
            "gridcolor": "white",
            "gridwidth": 2,
            "linecolor": "white",
            "showbackground": true,
            "ticks": "",
            "zerolinecolor": "white"
           },
           "yaxis": {
            "backgroundcolor": "#E5ECF6",
            "gridcolor": "white",
            "gridwidth": 2,
            "linecolor": "white",
            "showbackground": true,
            "ticks": "",
            "zerolinecolor": "white"
           },
           "zaxis": {
            "backgroundcolor": "#E5ECF6",
            "gridcolor": "white",
            "gridwidth": 2,
            "linecolor": "white",
            "showbackground": true,
            "ticks": "",
            "zerolinecolor": "white"
           }
          },
          "shapedefaults": {
           "line": {
            "color": "#2a3f5f"
           }
          },
          "ternary": {
           "aaxis": {
            "gridcolor": "white",
            "linecolor": "white",
            "ticks": ""
           },
           "baxis": {
            "gridcolor": "white",
            "linecolor": "white",
            "ticks": ""
           },
           "bgcolor": "#E5ECF6",
           "caxis": {
            "gridcolor": "white",
            "linecolor": "white",
            "ticks": ""
           }
          },
          "title": {
           "x": 0.05
          },
          "xaxis": {
           "automargin": true,
           "gridcolor": "white",
           "linecolor": "white",
           "ticks": "",
           "title": {
            "standoff": 15
           },
           "zerolinecolor": "white",
           "zerolinewidth": 2
          },
          "yaxis": {
           "automargin": true,
           "gridcolor": "white",
           "linecolor": "white",
           "ticks": "",
           "title": {
            "standoff": 15
           },
           "zerolinecolor": "white",
           "zerolinewidth": 2
          }
         }
        },
        "title": {
         "text": "Churn rate by tenure_bins"
        },
        "width": 900,
        "xaxis": {
         "anchor": "y",
         "domain": [
          0,
          1
         ],
         "title": {
          "text": "tenure_bins"
         }
        },
        "yaxis": {
         "anchor": "x",
         "domain": [
          0,
          1
         ],
         "title": {
          "text": "Count"
         }
        }
       }
      }
     },
     "metadata": {},
     "output_type": "display_data"
    },
    {
     "name": "stdout",
     "output_type": "stream",
     "text": [
      "  MonthlyCharges_bins Churn     0\n",
      "0                 low    No  1978\n",
      "1                 low   Yes   373\n",
      "2              medium    No  1649\n",
      "3              medium   Yes   696\n",
      "4                high    No  1547\n",
      "5                high   Yes   800\n",
      "  MonthlyCharges_bins Churn  Count\n",
      "0                 low    No   1978\n",
      "1                 low   Yes    373\n",
      "2              medium    No   1649\n",
      "3              medium   Yes    696\n",
      "4                high    No   1547\n",
      "5                high   Yes    800\n",
      "    index  MonthlyCharges_bins\n",
      "0     low                 2351\n",
      "1    high                 2347\n",
      "2  medium                 2345\n",
      "['low', 'high', 'medium']\n",
      "[2351, 2347, 2345]\n",
      "[0.3338066164986511, 0.3332386767002698, 0.3329547068010791]\n",
      "[33.4, 33.3, 33.3]\n",
      "[33.4, 33.3, 33.3]\n",
      "3\n",
      "['low', 'high', 'medium']\n",
      "3\n"
     ]
    },
    {
     "data": {
      "application/vnd.plotly.v1+json": {
       "config": {
        "plotlyServerURL": "https://plot.ly"
       },
       "data": [
        {
         "alignmentgroup": "True",
         "hovertemplate": "Churn=No<br>MonthlyCharges_bins=%{x}<br>Count=%{y}<extra></extra>",
         "legendgroup": "No",
         "marker": {
          "color": "blue",
          "pattern": {
           "shape": ""
          }
         },
         "name": "No",
         "offsetgroup": "No",
         "orientation": "v",
         "showlegend": true,
         "textposition": "auto",
         "type": "bar",
         "x": [
          "low",
          "medium",
          "high"
         ],
         "xaxis": "x",
         "y": [
          1978,
          1649,
          1547
         ],
         "yaxis": "y"
        },
        {
         "alignmentgroup": "True",
         "hovertemplate": "Churn=Yes<br>MonthlyCharges_bins=%{x}<br>Count=%{y}<extra></extra>",
         "legendgroup": "Yes",
         "marker": {
          "color": "red",
          "pattern": {
           "shape": ""
          }
         },
         "name": "Yes",
         "offsetgroup": "Yes",
         "orientation": "v",
         "showlegend": true,
         "textposition": "auto",
         "type": "bar",
         "x": [
          "low",
          "medium",
          "high"
         ],
         "xaxis": "x",
         "y": [
          373,
          696,
          800
         ],
         "yaxis": "y"
        }
       ],
       "layout": {
        "annotations": [
         {
          "align": "left",
          "bordercolor": "black",
          "borderwidth": 1,
          "showarrow": false,
          "text": "Value count of distribution of low, high & medium are<br>33.4%, 33.3% & 33.3% percentage respectively.",
          "x": 1,
          "xref": "paper",
          "y": 1.3,
          "yref": "paper"
         }
        ],
        "barmode": "group",
        "legend": {
         "title": {
          "text": "Churn"
         },
         "tracegroupgap": 0
        },
        "template": {
         "data": {
          "bar": [
           {
            "error_x": {
             "color": "#2a3f5f"
            },
            "error_y": {
             "color": "#2a3f5f"
            },
            "marker": {
             "line": {
              "color": "#E5ECF6",
              "width": 0.5
             },
             "pattern": {
              "fillmode": "overlay",
              "size": 10,
              "solidity": 0.2
             }
            },
            "type": "bar"
           }
          ],
          "barpolar": [
           {
            "marker": {
             "line": {
              "color": "#E5ECF6",
              "width": 0.5
             },
             "pattern": {
              "fillmode": "overlay",
              "size": 10,
              "solidity": 0.2
             }
            },
            "type": "barpolar"
           }
          ],
          "carpet": [
           {
            "aaxis": {
             "endlinecolor": "#2a3f5f",
             "gridcolor": "white",
             "linecolor": "white",
             "minorgridcolor": "white",
             "startlinecolor": "#2a3f5f"
            },
            "baxis": {
             "endlinecolor": "#2a3f5f",
             "gridcolor": "white",
             "linecolor": "white",
             "minorgridcolor": "white",
             "startlinecolor": "#2a3f5f"
            },
            "type": "carpet"
           }
          ],
          "choropleth": [
           {
            "colorbar": {
             "outlinewidth": 0,
             "ticks": ""
            },
            "type": "choropleth"
           }
          ],
          "contour": [
           {
            "colorbar": {
             "outlinewidth": 0,
             "ticks": ""
            },
            "colorscale": [
             [
              0,
              "#0d0887"
             ],
             [
              0.1111111111111111,
              "#46039f"
             ],
             [
              0.2222222222222222,
              "#7201a8"
             ],
             [
              0.3333333333333333,
              "#9c179e"
             ],
             [
              0.4444444444444444,
              "#bd3786"
             ],
             [
              0.5555555555555556,
              "#d8576b"
             ],
             [
              0.6666666666666666,
              "#ed7953"
             ],
             [
              0.7777777777777778,
              "#fb9f3a"
             ],
             [
              0.8888888888888888,
              "#fdca26"
             ],
             [
              1,
              "#f0f921"
             ]
            ],
            "type": "contour"
           }
          ],
          "contourcarpet": [
           {
            "colorbar": {
             "outlinewidth": 0,
             "ticks": ""
            },
            "type": "contourcarpet"
           }
          ],
          "heatmap": [
           {
            "colorbar": {
             "outlinewidth": 0,
             "ticks": ""
            },
            "colorscale": [
             [
              0,
              "#0d0887"
             ],
             [
              0.1111111111111111,
              "#46039f"
             ],
             [
              0.2222222222222222,
              "#7201a8"
             ],
             [
              0.3333333333333333,
              "#9c179e"
             ],
             [
              0.4444444444444444,
              "#bd3786"
             ],
             [
              0.5555555555555556,
              "#d8576b"
             ],
             [
              0.6666666666666666,
              "#ed7953"
             ],
             [
              0.7777777777777778,
              "#fb9f3a"
             ],
             [
              0.8888888888888888,
              "#fdca26"
             ],
             [
              1,
              "#f0f921"
             ]
            ],
            "type": "heatmap"
           }
          ],
          "heatmapgl": [
           {
            "colorbar": {
             "outlinewidth": 0,
             "ticks": ""
            },
            "colorscale": [
             [
              0,
              "#0d0887"
             ],
             [
              0.1111111111111111,
              "#46039f"
             ],
             [
              0.2222222222222222,
              "#7201a8"
             ],
             [
              0.3333333333333333,
              "#9c179e"
             ],
             [
              0.4444444444444444,
              "#bd3786"
             ],
             [
              0.5555555555555556,
              "#d8576b"
             ],
             [
              0.6666666666666666,
              "#ed7953"
             ],
             [
              0.7777777777777778,
              "#fb9f3a"
             ],
             [
              0.8888888888888888,
              "#fdca26"
             ],
             [
              1,
              "#f0f921"
             ]
            ],
            "type": "heatmapgl"
           }
          ],
          "histogram": [
           {
            "marker": {
             "pattern": {
              "fillmode": "overlay",
              "size": 10,
              "solidity": 0.2
             }
            },
            "type": "histogram"
           }
          ],
          "histogram2d": [
           {
            "colorbar": {
             "outlinewidth": 0,
             "ticks": ""
            },
            "colorscale": [
             [
              0,
              "#0d0887"
             ],
             [
              0.1111111111111111,
              "#46039f"
             ],
             [
              0.2222222222222222,
              "#7201a8"
             ],
             [
              0.3333333333333333,
              "#9c179e"
             ],
             [
              0.4444444444444444,
              "#bd3786"
             ],
             [
              0.5555555555555556,
              "#d8576b"
             ],
             [
              0.6666666666666666,
              "#ed7953"
             ],
             [
              0.7777777777777778,
              "#fb9f3a"
             ],
             [
              0.8888888888888888,
              "#fdca26"
             ],
             [
              1,
              "#f0f921"
             ]
            ],
            "type": "histogram2d"
           }
          ],
          "histogram2dcontour": [
           {
            "colorbar": {
             "outlinewidth": 0,
             "ticks": ""
            },
            "colorscale": [
             [
              0,
              "#0d0887"
             ],
             [
              0.1111111111111111,
              "#46039f"
             ],
             [
              0.2222222222222222,
              "#7201a8"
             ],
             [
              0.3333333333333333,
              "#9c179e"
             ],
             [
              0.4444444444444444,
              "#bd3786"
             ],
             [
              0.5555555555555556,
              "#d8576b"
             ],
             [
              0.6666666666666666,
              "#ed7953"
             ],
             [
              0.7777777777777778,
              "#fb9f3a"
             ],
             [
              0.8888888888888888,
              "#fdca26"
             ],
             [
              1,
              "#f0f921"
             ]
            ],
            "type": "histogram2dcontour"
           }
          ],
          "mesh3d": [
           {
            "colorbar": {
             "outlinewidth": 0,
             "ticks": ""
            },
            "type": "mesh3d"
           }
          ],
          "parcoords": [
           {
            "line": {
             "colorbar": {
              "outlinewidth": 0,
              "ticks": ""
             }
            },
            "type": "parcoords"
           }
          ],
          "pie": [
           {
            "automargin": true,
            "type": "pie"
           }
          ],
          "scatter": [
           {
            "marker": {
             "colorbar": {
              "outlinewidth": 0,
              "ticks": ""
             }
            },
            "type": "scatter"
           }
          ],
          "scatter3d": [
           {
            "line": {
             "colorbar": {
              "outlinewidth": 0,
              "ticks": ""
             }
            },
            "marker": {
             "colorbar": {
              "outlinewidth": 0,
              "ticks": ""
             }
            },
            "type": "scatter3d"
           }
          ],
          "scattercarpet": [
           {
            "marker": {
             "colorbar": {
              "outlinewidth": 0,
              "ticks": ""
             }
            },
            "type": "scattercarpet"
           }
          ],
          "scattergeo": [
           {
            "marker": {
             "colorbar": {
              "outlinewidth": 0,
              "ticks": ""
             }
            },
            "type": "scattergeo"
           }
          ],
          "scattergl": [
           {
            "marker": {
             "colorbar": {
              "outlinewidth": 0,
              "ticks": ""
             }
            },
            "type": "scattergl"
           }
          ],
          "scattermapbox": [
           {
            "marker": {
             "colorbar": {
              "outlinewidth": 0,
              "ticks": ""
             }
            },
            "type": "scattermapbox"
           }
          ],
          "scatterpolar": [
           {
            "marker": {
             "colorbar": {
              "outlinewidth": 0,
              "ticks": ""
             }
            },
            "type": "scatterpolar"
           }
          ],
          "scatterpolargl": [
           {
            "marker": {
             "colorbar": {
              "outlinewidth": 0,
              "ticks": ""
             }
            },
            "type": "scatterpolargl"
           }
          ],
          "scatterternary": [
           {
            "marker": {
             "colorbar": {
              "outlinewidth": 0,
              "ticks": ""
             }
            },
            "type": "scatterternary"
           }
          ],
          "surface": [
           {
            "colorbar": {
             "outlinewidth": 0,
             "ticks": ""
            },
            "colorscale": [
             [
              0,
              "#0d0887"
             ],
             [
              0.1111111111111111,
              "#46039f"
             ],
             [
              0.2222222222222222,
              "#7201a8"
             ],
             [
              0.3333333333333333,
              "#9c179e"
             ],
             [
              0.4444444444444444,
              "#bd3786"
             ],
             [
              0.5555555555555556,
              "#d8576b"
             ],
             [
              0.6666666666666666,
              "#ed7953"
             ],
             [
              0.7777777777777778,
              "#fb9f3a"
             ],
             [
              0.8888888888888888,
              "#fdca26"
             ],
             [
              1,
              "#f0f921"
             ]
            ],
            "type": "surface"
           }
          ],
          "table": [
           {
            "cells": {
             "fill": {
              "color": "#EBF0F8"
             },
             "line": {
              "color": "white"
             }
            },
            "header": {
             "fill": {
              "color": "#C8D4E3"
             },
             "line": {
              "color": "white"
             }
            },
            "type": "table"
           }
          ]
         },
         "layout": {
          "annotationdefaults": {
           "arrowcolor": "#2a3f5f",
           "arrowhead": 0,
           "arrowwidth": 1
          },
          "autotypenumbers": "strict",
          "coloraxis": {
           "colorbar": {
            "outlinewidth": 0,
            "ticks": ""
           }
          },
          "colorscale": {
           "diverging": [
            [
             0,
             "#8e0152"
            ],
            [
             0.1,
             "#c51b7d"
            ],
            [
             0.2,
             "#de77ae"
            ],
            [
             0.3,
             "#f1b6da"
            ],
            [
             0.4,
             "#fde0ef"
            ],
            [
             0.5,
             "#f7f7f7"
            ],
            [
             0.6,
             "#e6f5d0"
            ],
            [
             0.7,
             "#b8e186"
            ],
            [
             0.8,
             "#7fbc41"
            ],
            [
             0.9,
             "#4d9221"
            ],
            [
             1,
             "#276419"
            ]
           ],
           "sequential": [
            [
             0,
             "#0d0887"
            ],
            [
             0.1111111111111111,
             "#46039f"
            ],
            [
             0.2222222222222222,
             "#7201a8"
            ],
            [
             0.3333333333333333,
             "#9c179e"
            ],
            [
             0.4444444444444444,
             "#bd3786"
            ],
            [
             0.5555555555555556,
             "#d8576b"
            ],
            [
             0.6666666666666666,
             "#ed7953"
            ],
            [
             0.7777777777777778,
             "#fb9f3a"
            ],
            [
             0.8888888888888888,
             "#fdca26"
            ],
            [
             1,
             "#f0f921"
            ]
           ],
           "sequentialminus": [
            [
             0,
             "#0d0887"
            ],
            [
             0.1111111111111111,
             "#46039f"
            ],
            [
             0.2222222222222222,
             "#7201a8"
            ],
            [
             0.3333333333333333,
             "#9c179e"
            ],
            [
             0.4444444444444444,
             "#bd3786"
            ],
            [
             0.5555555555555556,
             "#d8576b"
            ],
            [
             0.6666666666666666,
             "#ed7953"
            ],
            [
             0.7777777777777778,
             "#fb9f3a"
            ],
            [
             0.8888888888888888,
             "#fdca26"
            ],
            [
             1,
             "#f0f921"
            ]
           ]
          },
          "colorway": [
           "#636efa",
           "#EF553B",
           "#00cc96",
           "#ab63fa",
           "#FFA15A",
           "#19d3f3",
           "#FF6692",
           "#B6E880",
           "#FF97FF",
           "#FECB52"
          ],
          "font": {
           "color": "#2a3f5f"
          },
          "geo": {
           "bgcolor": "white",
           "lakecolor": "white",
           "landcolor": "#E5ECF6",
           "showlakes": true,
           "showland": true,
           "subunitcolor": "white"
          },
          "hoverlabel": {
           "align": "left"
          },
          "hovermode": "closest",
          "mapbox": {
           "style": "light"
          },
          "paper_bgcolor": "white",
          "plot_bgcolor": "#E5ECF6",
          "polar": {
           "angularaxis": {
            "gridcolor": "white",
            "linecolor": "white",
            "ticks": ""
           },
           "bgcolor": "#E5ECF6",
           "radialaxis": {
            "gridcolor": "white",
            "linecolor": "white",
            "ticks": ""
           }
          },
          "scene": {
           "xaxis": {
            "backgroundcolor": "#E5ECF6",
            "gridcolor": "white",
            "gridwidth": 2,
            "linecolor": "white",
            "showbackground": true,
            "ticks": "",
            "zerolinecolor": "white"
           },
           "yaxis": {
            "backgroundcolor": "#E5ECF6",
            "gridcolor": "white",
            "gridwidth": 2,
            "linecolor": "white",
            "showbackground": true,
            "ticks": "",
            "zerolinecolor": "white"
           },
           "zaxis": {
            "backgroundcolor": "#E5ECF6",
            "gridcolor": "white",
            "gridwidth": 2,
            "linecolor": "white",
            "showbackground": true,
            "ticks": "",
            "zerolinecolor": "white"
           }
          },
          "shapedefaults": {
           "line": {
            "color": "#2a3f5f"
           }
          },
          "ternary": {
           "aaxis": {
            "gridcolor": "white",
            "linecolor": "white",
            "ticks": ""
           },
           "baxis": {
            "gridcolor": "white",
            "linecolor": "white",
            "ticks": ""
           },
           "bgcolor": "#E5ECF6",
           "caxis": {
            "gridcolor": "white",
            "linecolor": "white",
            "ticks": ""
           }
          },
          "title": {
           "x": 0.05
          },
          "xaxis": {
           "automargin": true,
           "gridcolor": "white",
           "linecolor": "white",
           "ticks": "",
           "title": {
            "standoff": 15
           },
           "zerolinecolor": "white",
           "zerolinewidth": 2
          },
          "yaxis": {
           "automargin": true,
           "gridcolor": "white",
           "linecolor": "white",
           "ticks": "",
           "title": {
            "standoff": 15
           },
           "zerolinecolor": "white",
           "zerolinewidth": 2
          }
         }
        },
        "title": {
         "text": "Churn rate by MonthlyCharges_bins"
        },
        "width": 900,
        "xaxis": {
         "anchor": "y",
         "domain": [
          0,
          1
         ],
         "title": {
          "text": "MonthlyCharges_bins"
         }
        },
        "yaxis": {
         "anchor": "x",
         "domain": [
          0,
          1
         ],
         "title": {
          "text": "Count"
         }
        }
       }
      }
     },
     "metadata": {},
     "output_type": "display_data"
    },
    {
     "name": "stdout",
     "output_type": "stream",
     "text": [
      "  TotalCharges_bins Churn     0\n",
      "0               low    No  1422\n",
      "1               low   Yes   926\n",
      "2            medium    No  1792\n",
      "3            medium   Yes   555\n",
      "4              high    No  1960\n",
      "5              high   Yes   388\n",
      "  TotalCharges_bins Churn  Count\n",
      "0               low    No   1422\n",
      "1               low   Yes    926\n",
      "2            medium    No   1792\n",
      "3            medium   Yes    555\n",
      "4              high    No   1960\n",
      "5              high   Yes    388\n",
      "    index  TotalCharges_bins\n",
      "0     low               2348\n",
      "1    high               2348\n",
      "2  medium               2347\n",
      "['low', 'high', 'medium']\n",
      "[2348, 2348, 2347]\n",
      "[0.33338066164986513, 0.33338066164986513, 0.3332386767002698]\n",
      "[33.3, 33.3, 33.3]\n",
      "[33.3, 33.3, 33.3]\n",
      "3\n",
      "['low', 'high', 'medium']\n",
      "3\n"
     ]
    },
    {
     "data": {
      "application/vnd.plotly.v1+json": {
       "config": {
        "plotlyServerURL": "https://plot.ly"
       },
       "data": [
        {
         "alignmentgroup": "True",
         "hovertemplate": "Churn=No<br>TotalCharges_bins=%{x}<br>Count=%{y}<extra></extra>",
         "legendgroup": "No",
         "marker": {
          "color": "blue",
          "pattern": {
           "shape": ""
          }
         },
         "name": "No",
         "offsetgroup": "No",
         "orientation": "v",
         "showlegend": true,
         "textposition": "auto",
         "type": "bar",
         "x": [
          "low",
          "medium",
          "high"
         ],
         "xaxis": "x",
         "y": [
          1422,
          1792,
          1960
         ],
         "yaxis": "y"
        },
        {
         "alignmentgroup": "True",
         "hovertemplate": "Churn=Yes<br>TotalCharges_bins=%{x}<br>Count=%{y}<extra></extra>",
         "legendgroup": "Yes",
         "marker": {
          "color": "red",
          "pattern": {
           "shape": ""
          }
         },
         "name": "Yes",
         "offsetgroup": "Yes",
         "orientation": "v",
         "showlegend": true,
         "textposition": "auto",
         "type": "bar",
         "x": [
          "low",
          "medium",
          "high"
         ],
         "xaxis": "x",
         "y": [
          926,
          555,
          388
         ],
         "yaxis": "y"
        }
       ],
       "layout": {
        "annotations": [
         {
          "align": "left",
          "bordercolor": "black",
          "borderwidth": 1,
          "showarrow": false,
          "text": "Value count of distribution of low, high & medium are<br>33.3%, 33.3% & 33.3% percentage respectively.",
          "x": 1,
          "xref": "paper",
          "y": 1.3,
          "yref": "paper"
         }
        ],
        "barmode": "group",
        "legend": {
         "title": {
          "text": "Churn"
         },
         "tracegroupgap": 0
        },
        "template": {
         "data": {
          "bar": [
           {
            "error_x": {
             "color": "#2a3f5f"
            },
            "error_y": {
             "color": "#2a3f5f"
            },
            "marker": {
             "line": {
              "color": "#E5ECF6",
              "width": 0.5
             },
             "pattern": {
              "fillmode": "overlay",
              "size": 10,
              "solidity": 0.2
             }
            },
            "type": "bar"
           }
          ],
          "barpolar": [
           {
            "marker": {
             "line": {
              "color": "#E5ECF6",
              "width": 0.5
             },
             "pattern": {
              "fillmode": "overlay",
              "size": 10,
              "solidity": 0.2
             }
            },
            "type": "barpolar"
           }
          ],
          "carpet": [
           {
            "aaxis": {
             "endlinecolor": "#2a3f5f",
             "gridcolor": "white",
             "linecolor": "white",
             "minorgridcolor": "white",
             "startlinecolor": "#2a3f5f"
            },
            "baxis": {
             "endlinecolor": "#2a3f5f",
             "gridcolor": "white",
             "linecolor": "white",
             "minorgridcolor": "white",
             "startlinecolor": "#2a3f5f"
            },
            "type": "carpet"
           }
          ],
          "choropleth": [
           {
            "colorbar": {
             "outlinewidth": 0,
             "ticks": ""
            },
            "type": "choropleth"
           }
          ],
          "contour": [
           {
            "colorbar": {
             "outlinewidth": 0,
             "ticks": ""
            },
            "colorscale": [
             [
              0,
              "#0d0887"
             ],
             [
              0.1111111111111111,
              "#46039f"
             ],
             [
              0.2222222222222222,
              "#7201a8"
             ],
             [
              0.3333333333333333,
              "#9c179e"
             ],
             [
              0.4444444444444444,
              "#bd3786"
             ],
             [
              0.5555555555555556,
              "#d8576b"
             ],
             [
              0.6666666666666666,
              "#ed7953"
             ],
             [
              0.7777777777777778,
              "#fb9f3a"
             ],
             [
              0.8888888888888888,
              "#fdca26"
             ],
             [
              1,
              "#f0f921"
             ]
            ],
            "type": "contour"
           }
          ],
          "contourcarpet": [
           {
            "colorbar": {
             "outlinewidth": 0,
             "ticks": ""
            },
            "type": "contourcarpet"
           }
          ],
          "heatmap": [
           {
            "colorbar": {
             "outlinewidth": 0,
             "ticks": ""
            },
            "colorscale": [
             [
              0,
              "#0d0887"
             ],
             [
              0.1111111111111111,
              "#46039f"
             ],
             [
              0.2222222222222222,
              "#7201a8"
             ],
             [
              0.3333333333333333,
              "#9c179e"
             ],
             [
              0.4444444444444444,
              "#bd3786"
             ],
             [
              0.5555555555555556,
              "#d8576b"
             ],
             [
              0.6666666666666666,
              "#ed7953"
             ],
             [
              0.7777777777777778,
              "#fb9f3a"
             ],
             [
              0.8888888888888888,
              "#fdca26"
             ],
             [
              1,
              "#f0f921"
             ]
            ],
            "type": "heatmap"
           }
          ],
          "heatmapgl": [
           {
            "colorbar": {
             "outlinewidth": 0,
             "ticks": ""
            },
            "colorscale": [
             [
              0,
              "#0d0887"
             ],
             [
              0.1111111111111111,
              "#46039f"
             ],
             [
              0.2222222222222222,
              "#7201a8"
             ],
             [
              0.3333333333333333,
              "#9c179e"
             ],
             [
              0.4444444444444444,
              "#bd3786"
             ],
             [
              0.5555555555555556,
              "#d8576b"
             ],
             [
              0.6666666666666666,
              "#ed7953"
             ],
             [
              0.7777777777777778,
              "#fb9f3a"
             ],
             [
              0.8888888888888888,
              "#fdca26"
             ],
             [
              1,
              "#f0f921"
             ]
            ],
            "type": "heatmapgl"
           }
          ],
          "histogram": [
           {
            "marker": {
             "pattern": {
              "fillmode": "overlay",
              "size": 10,
              "solidity": 0.2
             }
            },
            "type": "histogram"
           }
          ],
          "histogram2d": [
           {
            "colorbar": {
             "outlinewidth": 0,
             "ticks": ""
            },
            "colorscale": [
             [
              0,
              "#0d0887"
             ],
             [
              0.1111111111111111,
              "#46039f"
             ],
             [
              0.2222222222222222,
              "#7201a8"
             ],
             [
              0.3333333333333333,
              "#9c179e"
             ],
             [
              0.4444444444444444,
              "#bd3786"
             ],
             [
              0.5555555555555556,
              "#d8576b"
             ],
             [
              0.6666666666666666,
              "#ed7953"
             ],
             [
              0.7777777777777778,
              "#fb9f3a"
             ],
             [
              0.8888888888888888,
              "#fdca26"
             ],
             [
              1,
              "#f0f921"
             ]
            ],
            "type": "histogram2d"
           }
          ],
          "histogram2dcontour": [
           {
            "colorbar": {
             "outlinewidth": 0,
             "ticks": ""
            },
            "colorscale": [
             [
              0,
              "#0d0887"
             ],
             [
              0.1111111111111111,
              "#46039f"
             ],
             [
              0.2222222222222222,
              "#7201a8"
             ],
             [
              0.3333333333333333,
              "#9c179e"
             ],
             [
              0.4444444444444444,
              "#bd3786"
             ],
             [
              0.5555555555555556,
              "#d8576b"
             ],
             [
              0.6666666666666666,
              "#ed7953"
             ],
             [
              0.7777777777777778,
              "#fb9f3a"
             ],
             [
              0.8888888888888888,
              "#fdca26"
             ],
             [
              1,
              "#f0f921"
             ]
            ],
            "type": "histogram2dcontour"
           }
          ],
          "mesh3d": [
           {
            "colorbar": {
             "outlinewidth": 0,
             "ticks": ""
            },
            "type": "mesh3d"
           }
          ],
          "parcoords": [
           {
            "line": {
             "colorbar": {
              "outlinewidth": 0,
              "ticks": ""
             }
            },
            "type": "parcoords"
           }
          ],
          "pie": [
           {
            "automargin": true,
            "type": "pie"
           }
          ],
          "scatter": [
           {
            "marker": {
             "colorbar": {
              "outlinewidth": 0,
              "ticks": ""
             }
            },
            "type": "scatter"
           }
          ],
          "scatter3d": [
           {
            "line": {
             "colorbar": {
              "outlinewidth": 0,
              "ticks": ""
             }
            },
            "marker": {
             "colorbar": {
              "outlinewidth": 0,
              "ticks": ""
             }
            },
            "type": "scatter3d"
           }
          ],
          "scattercarpet": [
           {
            "marker": {
             "colorbar": {
              "outlinewidth": 0,
              "ticks": ""
             }
            },
            "type": "scattercarpet"
           }
          ],
          "scattergeo": [
           {
            "marker": {
             "colorbar": {
              "outlinewidth": 0,
              "ticks": ""
             }
            },
            "type": "scattergeo"
           }
          ],
          "scattergl": [
           {
            "marker": {
             "colorbar": {
              "outlinewidth": 0,
              "ticks": ""
             }
            },
            "type": "scattergl"
           }
          ],
          "scattermapbox": [
           {
            "marker": {
             "colorbar": {
              "outlinewidth": 0,
              "ticks": ""
             }
            },
            "type": "scattermapbox"
           }
          ],
          "scatterpolar": [
           {
            "marker": {
             "colorbar": {
              "outlinewidth": 0,
              "ticks": ""
             }
            },
            "type": "scatterpolar"
           }
          ],
          "scatterpolargl": [
           {
            "marker": {
             "colorbar": {
              "outlinewidth": 0,
              "ticks": ""
             }
            },
            "type": "scatterpolargl"
           }
          ],
          "scatterternary": [
           {
            "marker": {
             "colorbar": {
              "outlinewidth": 0,
              "ticks": ""
             }
            },
            "type": "scatterternary"
           }
          ],
          "surface": [
           {
            "colorbar": {
             "outlinewidth": 0,
             "ticks": ""
            },
            "colorscale": [
             [
              0,
              "#0d0887"
             ],
             [
              0.1111111111111111,
              "#46039f"
             ],
             [
              0.2222222222222222,
              "#7201a8"
             ],
             [
              0.3333333333333333,
              "#9c179e"
             ],
             [
              0.4444444444444444,
              "#bd3786"
             ],
             [
              0.5555555555555556,
              "#d8576b"
             ],
             [
              0.6666666666666666,
              "#ed7953"
             ],
             [
              0.7777777777777778,
              "#fb9f3a"
             ],
             [
              0.8888888888888888,
              "#fdca26"
             ],
             [
              1,
              "#f0f921"
             ]
            ],
            "type": "surface"
           }
          ],
          "table": [
           {
            "cells": {
             "fill": {
              "color": "#EBF0F8"
             },
             "line": {
              "color": "white"
             }
            },
            "header": {
             "fill": {
              "color": "#C8D4E3"
             },
             "line": {
              "color": "white"
             }
            },
            "type": "table"
           }
          ]
         },
         "layout": {
          "annotationdefaults": {
           "arrowcolor": "#2a3f5f",
           "arrowhead": 0,
           "arrowwidth": 1
          },
          "autotypenumbers": "strict",
          "coloraxis": {
           "colorbar": {
            "outlinewidth": 0,
            "ticks": ""
           }
          },
          "colorscale": {
           "diverging": [
            [
             0,
             "#8e0152"
            ],
            [
             0.1,
             "#c51b7d"
            ],
            [
             0.2,
             "#de77ae"
            ],
            [
             0.3,
             "#f1b6da"
            ],
            [
             0.4,
             "#fde0ef"
            ],
            [
             0.5,
             "#f7f7f7"
            ],
            [
             0.6,
             "#e6f5d0"
            ],
            [
             0.7,
             "#b8e186"
            ],
            [
             0.8,
             "#7fbc41"
            ],
            [
             0.9,
             "#4d9221"
            ],
            [
             1,
             "#276419"
            ]
           ],
           "sequential": [
            [
             0,
             "#0d0887"
            ],
            [
             0.1111111111111111,
             "#46039f"
            ],
            [
             0.2222222222222222,
             "#7201a8"
            ],
            [
             0.3333333333333333,
             "#9c179e"
            ],
            [
             0.4444444444444444,
             "#bd3786"
            ],
            [
             0.5555555555555556,
             "#d8576b"
            ],
            [
             0.6666666666666666,
             "#ed7953"
            ],
            [
             0.7777777777777778,
             "#fb9f3a"
            ],
            [
             0.8888888888888888,
             "#fdca26"
            ],
            [
             1,
             "#f0f921"
            ]
           ],
           "sequentialminus": [
            [
             0,
             "#0d0887"
            ],
            [
             0.1111111111111111,
             "#46039f"
            ],
            [
             0.2222222222222222,
             "#7201a8"
            ],
            [
             0.3333333333333333,
             "#9c179e"
            ],
            [
             0.4444444444444444,
             "#bd3786"
            ],
            [
             0.5555555555555556,
             "#d8576b"
            ],
            [
             0.6666666666666666,
             "#ed7953"
            ],
            [
             0.7777777777777778,
             "#fb9f3a"
            ],
            [
             0.8888888888888888,
             "#fdca26"
            ],
            [
             1,
             "#f0f921"
            ]
           ]
          },
          "colorway": [
           "#636efa",
           "#EF553B",
           "#00cc96",
           "#ab63fa",
           "#FFA15A",
           "#19d3f3",
           "#FF6692",
           "#B6E880",
           "#FF97FF",
           "#FECB52"
          ],
          "font": {
           "color": "#2a3f5f"
          },
          "geo": {
           "bgcolor": "white",
           "lakecolor": "white",
           "landcolor": "#E5ECF6",
           "showlakes": true,
           "showland": true,
           "subunitcolor": "white"
          },
          "hoverlabel": {
           "align": "left"
          },
          "hovermode": "closest",
          "mapbox": {
           "style": "light"
          },
          "paper_bgcolor": "white",
          "plot_bgcolor": "#E5ECF6",
          "polar": {
           "angularaxis": {
            "gridcolor": "white",
            "linecolor": "white",
            "ticks": ""
           },
           "bgcolor": "#E5ECF6",
           "radialaxis": {
            "gridcolor": "white",
            "linecolor": "white",
            "ticks": ""
           }
          },
          "scene": {
           "xaxis": {
            "backgroundcolor": "#E5ECF6",
            "gridcolor": "white",
            "gridwidth": 2,
            "linecolor": "white",
            "showbackground": true,
            "ticks": "",
            "zerolinecolor": "white"
           },
           "yaxis": {
            "backgroundcolor": "#E5ECF6",
            "gridcolor": "white",
            "gridwidth": 2,
            "linecolor": "white",
            "showbackground": true,
            "ticks": "",
            "zerolinecolor": "white"
           },
           "zaxis": {
            "backgroundcolor": "#E5ECF6",
            "gridcolor": "white",
            "gridwidth": 2,
            "linecolor": "white",
            "showbackground": true,
            "ticks": "",
            "zerolinecolor": "white"
           }
          },
          "shapedefaults": {
           "line": {
            "color": "#2a3f5f"
           }
          },
          "ternary": {
           "aaxis": {
            "gridcolor": "white",
            "linecolor": "white",
            "ticks": ""
           },
           "baxis": {
            "gridcolor": "white",
            "linecolor": "white",
            "ticks": ""
           },
           "bgcolor": "#E5ECF6",
           "caxis": {
            "gridcolor": "white",
            "linecolor": "white",
            "ticks": ""
           }
          },
          "title": {
           "x": 0.05
          },
          "xaxis": {
           "automargin": true,
           "gridcolor": "white",
           "linecolor": "white",
           "ticks": "",
           "title": {
            "standoff": 15
           },
           "zerolinecolor": "white",
           "zerolinewidth": 2
          },
          "yaxis": {
           "automargin": true,
           "gridcolor": "white",
           "linecolor": "white",
           "ticks": "",
           "title": {
            "standoff": 15
           },
           "zerolinecolor": "white",
           "zerolinewidth": 2
          }
         }
        },
        "title": {
         "text": "Churn rate by TotalCharges_bins"
        },
        "width": 900,
        "xaxis": {
         "anchor": "y",
         "domain": [
          0,
          1
         ],
         "title": {
          "text": "TotalCharges_bins"
         }
        },
        "yaxis": {
         "anchor": "x",
         "domain": [
          0,
          1
         ],
         "title": {
          "text": "Count"
         }
        }
       }
      }
     },
     "metadata": {},
     "output_type": "display_data"
    }
   ],
   "source": [
    "# Create an empty DataFrame\n",
    "bin_df = pdas.DataFrame()\n",
    "\n",
    "# Update the binning DataFrame\n",
    "bin_df[\"tenure_bins\"] = pdas.qcut(\n",
    "    dts_dtframe[\"tenure\"], q=3, labels=[\"low\", \"medium\", \"high\"]\n",
    ")\n",
    "bin_df[\"MonthlyCharges_bins\"] = pdas.qcut(\n",
    "    dts_dtframe[\"MonthlyCharges\"], q=3, labels=[\"low\", \"medium\", \"high\"]\n",
    ")\n",
    "bin_df[\"TotalCharges_bins\"] = pdas.qcut(\n",
    "    dts_dtframe[\"TotalCharges\"], q=3, labels=[\"low\", \"medium\", \"high\"]\n",
    ")\n",
    "bin_df[\"Churn\"] = dts_dtframe[\"Churn\"]\n",
    "\n",
    "# Plot the bar chart of the binned variables\n",
    "bar_chart(\"tenure_bins\", bin_df)\n",
    "bar_chart(\"MonthlyCharges_bins\", bin_df)\n",
    "bar_chart(\"TotalCharges_bins\", bin_df)"
   ]
  },
  {
   "cell_type": "markdown",
   "id": "a0c6db8c-9bed-43a8-9190-3659dda4175e",
   "metadata": {},
   "source": [
    "### Data preprocessing"
   ]
  },
  {
   "cell_type": "code",
   "execution_count": null,
   "id": "4e9f144d-0a67-45c2-8e1f-771d00180e0c",
   "metadata": {},
   "outputs": [],
   "source": [
    "# The customerID column is not useful as the feature us used for identification of customers.\n",
    "dts_dtframe.drop([\"customerID\"], axis=1, inplace=True)\n",
    "\n",
    "# Encode categorical features\n",
    "# Defining the map function\n",
    "def binary_map(feature):\n",
    "    return feature.map({\"Yes\": 1, \"No\": 0})\n",
    "\n",
    "\n",
    "# Encoding target feature\n",
    "dts_dtframe[\"Churn\"] = dts_dtframe[[\"Churn\"]].apply(binary_map)\n",
    "\n",
    "# Encoding gender category\n",
    "dts_dtframe[\"gender\"] = dts_dtframe[\"gender\"].map({\"Male\": 1, \"Female\": 0})\n",
    "\n",
    "# Encoding other binary category\n",
    "binary_list = [\n",
    "    \"SeniorCitizen\",\n",
    "    \"Partner\",\n",
    "    \"Dependents\",\n",
    "    \"PhoneService\",\n",
    "    \"PaperlessBilling\",\n",
    "]\n",
    "dts_dtframe[binary_list] = dts_dtframe[binary_list].apply(binary_map)\n",
    "\n",
    "# Encoding the other categoric features with more than two categories\n",
    "dts_dtframe = pdas.get_dummies(dts_dtframe, drop_first=True)"
   ]
  },
  {
   "cell_type": "code",
   "execution_count": null,
   "id": "c2799dc5-177a-4914-a583-890cdcdb21a3",
   "metadata": {},
   "outputs": [],
   "source": [
    "# Checking the correlation between features\n",
    "corr = dts_dtframe.corr()\n",
    "\n",
    "chart = plotly_ex.imshow(corr, width=1000, height=1000)\n",
    "chart.show()"
   ]
  },
  {
   "cell_type": "markdown",
   "id": "40e609ea-46b1-412c-90c8-372ef6a51ced",
   "metadata": {},
   "source": [
    "Correlation is a statistical term is a measure on linear relationship with two variables. Features with high correlation are more linearly dependent and have almost the same effect on the dependent variable. So when two features have a high correlation, we can drop one of the two features."
   ]
  },
  {
   "cell_type": "code",
   "execution_count": null,
   "id": "0e764116-4a7b-489f-9df3-dbbe131bcbe3",
   "metadata": {},
   "outputs": [],
   "source": [
    "import statsmodels.api as sm_api\n",
    "import statsmodels.formula.api as sm_f_api\n",
    "\n",
    "# Change variable name seperators to '_'\n",
    "all_columns = [\n",
    "    column.replace(\" \", \"_\").replace(\"(\", \"_\").replace(\")\", \"_\").replace(\"-\", \"_\")\n",
    "    for column in dts_dtframe.columns\n",
    "]\n",
    "\n",
    "# Effect the change to the DataFrame column names\n",
    "dts_dtframe.columns = all_columns\n",
    "\n",
    "# Prepare it for the GLM formula\n",
    "glm_columns = [e for e in all_columns if e not in [\"customerID\", \"Churn\"]]\n",
    "glm_columns = \" + \".join(map(str, glm_columns))\n",
    "\n",
    "# Fiting it to the Generalized Linear Model\n",
    "glm_model = sm_f_api.glm(\n",
    "    formula=f\"Churn ~ {glm_columns}\",\n",
    "    data=dts_dtframe,\n",
    "    family=sm_api.families.Binomial(),\n",
    ")\n",
    "res = glm_model.fit()\n",
    "print(res.summary())"
   ]
  },
  {
   "cell_type": "code",
   "execution_count": null,
   "id": "05066a25-d2b0-4813-843f-2edb31f28718",
   "metadata": {},
   "outputs": [],
   "source": [
    "npy.exp(res.params)"
   ]
  },
  {
   "cell_type": "code",
   "execution_count": null,
   "id": "a77557b7-3c1f-441b-b438-6ae8cc8c608d",
   "metadata": {},
   "outputs": [],
   "source": [
    "# Feature scaling\n",
    "from sklearn.preprocessing import MinMaxScaler\n",
    "\n",
    "sc = MinMaxScaler()\n",
    "dts_dtframe[\"tenure\"] = sc.fit_transform(dts_dtframe[[\"tenure\"]])\n",
    "dts_dtframe[\"MonthlyCharges\"] = sc.fit_transform(dts_dtframe[[\"MonthlyCharges\"]])\n",
    "dts_dtframe[\"TotalCharges\"] = sc.fit_transform(dts_dtframe[[\"TotalCharges\"]])"
   ]
  },
  {
   "cell_type": "markdown",
   "id": "f7d9e7ee-2dc1-4c5f-8183-5bb8d5dcb8ea",
   "metadata": {},
   "source": [
    "#### Creating a baseline model"
   ]
  },
  {
   "cell_type": "code",
   "execution_count": null,
   "id": "43c49b86-0ca0-4c68-a29e-8af7ceab941b",
   "metadata": {},
   "outputs": [],
   "source": [
    "# Import Machine learning algorithms\n",
    "from sklearn.linear_model import LogisticRegression\n",
    "from sklearn.svm import SVC\n",
    "from sklearn.ensemble import RandomForestClassifier\n",
    "from sklearn.tree import DecisionTreeClassifier\n",
    "from sklearn.naive_bayes import GaussianNB\n",
    "\n",
    "# Import metric for performance evaluation\n",
    "from sklearn.metrics import accuracy_score, precision_score, recall_score, f1_score\n",
    "\n",
    "# Split data into train and test sets\n",
    "from sklearn.model_selection import train_test_split\n",
    "\n",
    "X = dts_dtframe.drop(\"Churn\", axis=1)\n",
    "y = dts_dtframe[\"Churn\"]\n",
    "X_train, X_test, y_train, y_test = train_test_split(\n",
    "    X, y, test_size=0.3, random_state=50\n",
    ")  "
   ]
  },
  {
   "cell_type": "code",
   "execution_count": null,
   "id": "4a28c4c1-65b3-4fb4-9e00-6ef379caadd6",
   "metadata": {},
   "outputs": [],
   "source": [
    "def modeling(alg, alg_name, params={}):\n",
    "    model = alg(\n",
    "        **params\n",
    "    )  # Instantiating the algorithm class and unpacking parameters if any\n",
    "    model.fit(X_train, y_train)\n",
    "    y_pred = model.predict(X_test)\n",
    "\n",
    "    # Performance evaluation\n",
    "    def print_scores(alg, y_true, y_pred):\n",
    "        print(alg_name)\n",
    "        acc_score = accuracy_score(y_true, y_pred)\n",
    "        print(\"accuracy: \", acc_score)\n",
    "        pre_score = precision_score(y_true, y_pred)\n",
    "        print(\"precision: \", pre_score)\n",
    "        rec_score = recall_score(y_true, y_pred)\n",
    "        print(\"recall: \", rec_score)\n",
    "        f_score = f1_score(y_true, y_pred, average=\"weighted\")\n",
    "        print(\"f1_score: \", f_score)\n",
    "\n",
    "    print_scores(alg, y_test, y_pred)\n",
    "    return model"
   ]
  },
  {
   "cell_type": "code",
   "execution_count": null,
   "id": "a9f607d8-40d8-4d93-a0f7-3b6f41fea7bc",
   "metadata": {},
   "outputs": [],
   "source": [
    "# Running logistic regression model\n",
    "log_model = modeling(LogisticRegression, \"Logistic Regression\")"
   ]
  },
  {
   "cell_type": "code",
   "execution_count": null,
   "id": "1165f82b-dcd0-4cde-8067-53133e4923b3",
   "metadata": {},
   "outputs": [],
   "source": [
    "# Feature selection to improve model building\n",
    "from sklearn.feature_selection import RFECV\n",
    "from sklearn.model_selection import StratifiedKFold\n",
    "\n",
    "log = LogisticRegression()\n",
    "rfecv = RFECV(\n",
    "    estimator=log,\n",
    "    cv=StratifiedKFold(10, random_state=50, shuffle=True),\n",
    "    scoring=\"accuracy\",\n",
    ")\n",
    "rfecv.fit(X, y)"
   ]
  },
  {
   "cell_type": "code",
   "execution_count": null,
   "id": "eefaf84c-37cf-4cd9-99c8-03ffa60478fa",
   "metadata": {},
   "outputs": [],
   "source": [
    "matplot_plt.figure(figsize=(8, 6))\n",
    "matplot_plt.plot(range(1, len(rfecv.grid_scores_) + 1), rfecv.grid_scores_)\n",
    "matplot_plt.grid()\n",
    "matplot_plt.xticks(range(1, X.shape[1] + 1))\n",
    "matplot_plt.xlabel(\"Number of Selected Features\")\n",
    "matplot_plt.ylabel(\"CV Score\")\n",
    "matplot_plt.title(\"Recursive Feature Elimination (RFE)\")\n",
    "matplot_plt.show()\n",
    "\n",
    "print(\"The optimal number of features: {}\".format(rfecv.n_features_))"
   ]
  },
  {
   "cell_type": "code",
   "execution_count": null,
   "id": "388d8e8b-8ee1-45bb-a776-5a78b3aef7db",
   "metadata": {},
   "outputs": [],
   "source": [
    "# Saving DataFrame with optimal features\n",
    "X_rfe = X.iloc[:, rfecv.support_]\n",
    "\n",
    "# Overview of the optimal features in comparison with the intial DataFrame\n",
    "print('\"X\" dimension: {}'.format(X.shape))\n",
    "print('\"X\" column list:', X.columns.tolist())\n",
    "print('\"X_rfe\" dimension: {}'.format(X_rfe.shape))\n",
    "print('\"X_rfe\" column list:', X_rfe.columns.tolist())"
   ]
  },
  {
   "cell_type": "code",
   "execution_count": null,
   "id": "d6d3d1de-bdb2-46d2-b445-1902e796a97e",
   "metadata": {},
   "outputs": [],
   "source": [
    "# Splitting data with optimal features\n",
    "X_train, X_test, y_train, y_test = train_test_split(\n",
    "    X_rfe, y, test_size=0.3, random_state=50\n",
    ") "
   ]
  },
  {
   "cell_type": "code",
   "execution_count": null,
   "id": "b397dbd0-384c-40af-96fe-b5753e8765a3",
   "metadata": {},
   "outputs": [],
   "source": [
    "# Running logistic regression model\n",
    "log_model = modeling(LogisticRegression, \"Logistic Regression Classification\")"
   ]
  },
  {
   "cell_type": "markdown",
   "id": "6d3da949",
   "metadata": {},
   "source": [
    "Trying other machine learning algorithms:"
   ]
  },
  {
   "cell_type": "code",
   "execution_count": null,
   "id": "f9c06b82-eebf-415f-a89c-a0c70242fb9f",
   "metadata": {},
   "outputs": [],
   "source": [
    "# SVC\n",
    "svc_model = modeling(SVC, \"SVC Classification\")"
   ]
  },
  {
   "cell_type": "code",
   "execution_count": null,
   "id": "876548bc-9f10-4b71-a1d8-b42ac1bedb59",
   "metadata": {},
   "outputs": [],
   "source": [
    "# Random forest\n",
    "rf_model = modeling(RandomForestClassifier, \"Random Forest Classification\")"
   ]
  },
  {
   "cell_type": "code",
   "execution_count": null,
   "id": "e40870d6-bff1-4239-b15b-4d453f6f55fb",
   "metadata": {},
   "outputs": [],
   "source": [
    "# Decision tree\n",
    "dt_model = modeling(DecisionTreeClassifier, \"Decision Tree Classification\")"
   ]
  },
  {
   "cell_type": "code",
   "execution_count": null,
   "id": "c533862f-3aa4-42f6-9999-6b44b67653de",
   "metadata": {},
   "outputs": [],
   "source": [
    "# Naive bayes\n",
    "nb_model = modeling(GaussianNB, \"Naive Bayes Classification\")"
   ]
  },
  {
   "cell_type": "code",
   "execution_count": null,
   "id": "6b67d154-1b60-4bcb-bd94-2c3a01b02bae",
   "metadata": {},
   "outputs": [],
   "source": [
    "# Improve best model by hyperparameter tuning\n",
    "# Define model\n",
    "model = LogisticRegression()\n",
    "\n",
    "# Define evaluation\n",
    "from sklearn.model_selection import RepeatedStratifiedKFold\n",
    "\n",
    "cv = RepeatedStratifiedKFold(n_splits=10, n_repeats=3, random_state=1)\n",
    "\n",
    "# Define search space\n",
    "from scipy.stats import loguniform\n",
    "\n",
    "space = dict()\n",
    "space[\"solver\"] = [\"newton-cg\", \"lbfgs\", \"liblinear\"]\n",
    "space[\"penalty\"] = [\"none\", \"l1\", \"l2\", \"elasticnet\"]\n",
    "space[\"C\"] = loguniform(1e-5, 1000)\n",
    "\n",
    "# Define search\n",
    "from sklearn.model_selection import RandomizedSearchCV\n",
    "\n",
    "search = RandomizedSearchCV(\n",
    "    model, space, n_iter=500, scoring=\"accuracy\", n_jobs=-1, cv=cv, random_state=1\n",
    ")\n",
    "\n",
    "# Execute search\n",
    "result = search.fit(X_rfe, y)\n",
    "# Summarize result\n",
    "print(\"Best Score: %s\" % result.best_score_)\n",
    "print(\"Best Hyperparameters: %s\" % result.best_params_)"
   ]
  },
  {
   "cell_type": "code",
   "execution_count": null,
   "id": "f194467d-846e-48ca-b69a-981ae6afebd7",
   "metadata": {},
   "outputs": [],
   "source": [
    "params = result.best_params_\n",
    "params"
   ]
  },
  {
   "cell_type": "code",
   "execution_count": null,
   "id": "9ad2bd8c-ae74-441b-851d-f5c8c836b7ca",
   "metadata": {},
   "outputs": [],
   "source": [
    "# Improving the Logistic Regression model\n",
    "log_model = modeling(\n",
    "    LogisticRegression, \"Logistic Regression Classification\", params=params\n",
    ")"
   ]
  },
  {
   "cell_type": "code",
   "execution_count": null,
   "id": "c5c9497a-ceb9-4509-9af5-2c5f9b038fca",
   "metadata": {},
   "outputs": [],
   "source": [
    "# Save the model to device\n",
    "filename = \"model.sav\"\n",
    "joblib.dump(log_model, filename)"
   ]
  }
 ],
 "metadata": {
  "kernelspec": {
   "display_name": "Python 3",
   "language": "python",
   "name": "python3"
  },
  "language_info": {
   "codemirror_mode": {
    "name": "ipython",
    "version": 3
   },
   "file_extension": ".py",
   "mimetype": "text/x-python",
   "name": "python",
   "nbconvert_exporter": "python",
   "pygments_lexer": "ipython3",
   "version": "3.9.5"
  }
 },
 "nbformat": 4,
 "nbformat_minor": 5
}
