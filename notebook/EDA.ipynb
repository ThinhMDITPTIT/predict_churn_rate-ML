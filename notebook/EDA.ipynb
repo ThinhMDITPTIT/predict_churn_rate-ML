{
 "cells": [
  {
   "cell_type": "code",
   "execution_count": null,
   "id": "b9e5e6ff-c8eb-491e-9033-82125b4919a6",
   "metadata": {},
   "outputs": [],
   "source": [
    "import pandas as pdas  # CSV files In/Output, data processing (e.g. pdas.read_csv)\n",
    "import numpy as npy  # Evaluating mathematical lib, linear algebra\n",
    "import matplotlib.pyplot as matplot_plt  # Draw chart lib\n",
    "import plotly.express as plotly_ex  # Draw chart lib\n",
    "\n",
    "# For Saving best model\n",
    "import joblib"
   ]
  },
  {
   "cell_type": "code",
   "execution_count": null,
   "id": "41cef049",
   "metadata": {},
   "outputs": [],
   "source": [
    "# Auto detect-width to set data to fit the width of the terminal\n",
    "pdas.set_option(\"display.max_columns\", None)\n",
    "# Input the dataset\n",
    "dts_dtframe = pdas.read_csv(\"../data/churn.csv\")"
   ]
  },
  {
   "cell_type": "code",
   "execution_count": null,
   "id": "768167ae-accc-4ffc-a56e-32a76b64b3a5",
   "metadata": {},
   "outputs": [],
   "source": [
    "# Get overview of the data\n",
    "def dataoveriew(dataframe, message):\n",
    "    print(f\"{message}:\")\n",
    "    print(\"Tổng số hàng: \", dataframe.shape[0])\n",
    "    print(\"Tổng số thuộc tính:\", dataframe.shape[1])\n",
    "    print(\"Các thuộc tính:\")\n",
    "    print(dataframe.columns.tolist())\n",
    "    print(\"Số kiểu giá trị của từng thuộc tính:\")\n",
    "    print(dataframe.nunique())\n",
    "    print(\"Giá trị null:\", dataframe.isnull().sum().values.sum())\n",
    "\n",
    "\n",
    "dataoveriew(dts_dtframe, \"Tổng quan về dataset:\")"
   ]
  },
  {
   "cell_type": "markdown",
   "id": "a8f8eddc-12eb-4e10-894a-76f11fd054f9",
   "metadata": {},
   "source": [
    "### Explore Target variable"
   ]
  },
  {
   "cell_type": "code",
   "execution_count": null,
   "id": "ea5ac4e2-e7ac-419d-aeb1-c1b1b735168e",
   "metadata": {},
   "outputs": [],
   "source": [
    "# Return the Object in descending order containing counts of unique values\n",
    "churn_instance = dts_dtframe[\"Churn\"].value_counts()\n",
    "# Convert series, object to DataFrame\n",
    "churn_instance = churn_instance.to_frame()\n",
    "# Reset index of the DataFrame\n",
    "churn_instance = churn_instance.reset_index()\n",
    "# Rename the column 'index'\n",
    "churn_instance = churn_instance.rename(columns={\"index\": \"Category\"})\n",
    "# Use plotly.express lib to draw the chart\n",
    "churn_pie_chart = plotly_ex.pie(\n",
    "    churn_instance,\n",
    "    values=\"Churn\",\n",
    "    names=\"Category\",\n",
    "    color_discrete_sequence=[\"blue\", \"red\"],\n",
    "    title=\"Distribution of Churn\",\n",
    ")\n",
    "churn_pie_chart.show()"
   ]
  },
  {
   "cell_type": "markdown",
   "id": "1de888a6-ed36-48c6-89b0-216f98a6683b",
   "metadata": {},
   "source": [
    "### Explore Categorical features"
   ]
  },
  {
   "cell_type": "code",
   "execution_count": null,
   "id": "72f13bc9-399d-46aa-9e17-c38fb1a376f5",
   "metadata": {},
   "outputs": [],
   "source": [
    "# Defining bar chart function\n",
    "def bar_chart(feature, df=dts_dtframe):\n",
    "    # Groupby the categorical feature\n",
    "    temp_df = df.groupby([feature, \"Churn\"]).size().reset_index()\n",
    "    temp_df = temp_df.rename(columns={0: \"Count\"})\n",
    "    # Calculate the value counts of each distribution and it's corresponding Percentages\n",
    "    value_counts_df = df[feature].value_counts().to_frame().reset_index()\n",
    "    categories = [cat[1][0] for cat in value_counts_df.iterrows()]\n",
    "    # Calculate the value counts of each distribution and it's corresponding Percentages\n",
    "    num_list = [num[1][1] for num in value_counts_df.iterrows()]\n",
    "    div_list = [element / sum(num_list) for element in num_list]\n",
    "    percentage = [round(element * 100, 1) for element in div_list]\n",
    "    # Defining string formatting for graph annotation\n",
    "    # Numeric section\n",
    "    def num_format(list_instance):\n",
    "        formatted_str = \"\"\n",
    "        for index, num in enumerate(list_instance):\n",
    "            if index < len(list_instance) - 2:\n",
    "                formatted_str = (\n",
    "                    formatted_str + f\"{num}%, \"\n",
    "                )  # append to empty string(formatted_str)\n",
    "            elif index == len(list_instance) - 2:\n",
    "                formatted_str = formatted_str + f\"{num}% & \"\n",
    "            else:\n",
    "                formatted_str = formatted_str + f\"{num}%\"\n",
    "        return formatted_str\n",
    "\n",
    "    # Categorical section\n",
    "    def str_format(list_instance):\n",
    "        formatted_str = \"\"\n",
    "        for index, cat in enumerate(list_instance):\n",
    "            if index < len(list_instance) - 2:\n",
    "                formatted_str = formatted_str + f\"{cat}, \"\n",
    "            elif index == len(list_instance) - 2:\n",
    "                formatted_str = formatted_str + f\"{cat} & \"\n",
    "            else:\n",
    "                formatted_str = formatted_str + f\"{cat}\"\n",
    "        return formatted_str\n",
    "\n",
    "    # Running the formatting functions\n",
    "    num_str = num_format(percentage)\n",
    "    cat_str = str_format(categories)\n",
    "\n",
    "    # Setting graph framework\n",
    "    fig = plotly_ex.bar(\n",
    "        temp_df,\n",
    "        x=feature,\n",
    "        y=\"Count\",\n",
    "        color=\"Churn\",\n",
    "        title=f\"Churn rate by {feature}\",\n",
    "        barmode=\"group\",\n",
    "        color_discrete_sequence=[\"blue\", \"red\"],\n",
    "    )\n",
    "    fig.add_annotation(\n",
    "        text=f\"Value count of distribution of {cat_str} are<br>{num_str} percentage respectively.\",\n",
    "        align=\"left\",\n",
    "        showarrow=False,\n",
    "        xref=\"paper\",\n",
    "        yref=\"paper\",\n",
    "        x=1.4,\n",
    "        y=1.3,\n",
    "        bordercolor=\"black\",\n",
    "        borderwidth=1,\n",
    "    )\n",
    "    fig.update_layout(\n",
    "        # margin space for the annotations on the right\n",
    "        margin=dict(r=400),\n",
    "    )\n",
    "\n",
    "    return fig.show()"
   ]
  },
  {
   "cell_type": "code",
   "execution_count": null,
   "id": "bc8bbd26-c106-42a4-8f59-dc5a487341c0",
   "metadata": {},
   "outputs": [],
   "source": [
    "# Gender feature plot\n",
    "bar_chart(\"gender\")\n",
    "# SeniorCitizen feature plot\n",
    "dts_dtframe.loc[\n",
    "    dts_dtframe.SeniorCitizen == 0, \"SeniorCitizen\"\n",
    "] = \"No\"  # convert 0 to No in all data instances\n",
    "dts_dtframe.loc[\n",
    "    dts_dtframe.SeniorCitizen == 1, \"SeniorCitizen\"\n",
    "] = \"Yes\"  # convert 1 to Yes in all data instances\n",
    "bar_chart(\"SeniorCitizen\")\n",
    "# Partner feature plot\n",
    "bar_chart(\"Partner\")\n",
    "# Dependents feature plot\n",
    "bar_chart(\"Dependents\")"
   ]
  },
  {
   "cell_type": "markdown",
   "id": "05bd657f-a2ad-437b-883d-02cbc9ccb797",
   "metadata": {},
   "source": [
    "***\n",
    "**Demographic analysis Insight**: \n",
    "Gender and partner are even distributed with approximate percentage values. The difference in churn is slightly higher in females but the diffreence is negligible. There is a higher proportion of churn amongst younger customers (where SeniorCitizen is No), customers with no partners and customers with no dependents. These analysis on demographic section of data highlights on-senior citizens with no partners and dependents describe a particular segment of customers that are likely to churn.\n",
    "***"
   ]
  },
  {
   "cell_type": "code",
   "execution_count": null,
   "id": "08e5e00c-279a-496b-a5e3-0e26e9a5bf29",
   "metadata": {},
   "outputs": [],
   "source": [
    "bar_chart(\"PhoneService\")\n",
    "bar_chart(\"MultipleLines\")\n",
    "bar_chart(\"InternetService\")\n",
    "bar_chart(\"OnlineSecurity\")\n",
    "bar_chart(\"OnlineBackup\")\n",
    "bar_chart(\"DeviceProtection\")\n",
    "bar_chart(\"TechSupport\")\n",
    "bar_chart(\"StreamingTV\")\n",
    "bar_chart(\"StreamingMovies\")"
   ]
  },
  {
   "cell_type": "markdown",
   "id": "985ec664-a822-4b16-800f-f533047c198c",
   "metadata": {},
   "source": [
    "***\n",
    "**Services that each customer has signed up for Insight**:\n",
    "These category of features shows significant variations across their values. If a customer does not have a phone service, he/she cannot have multiple lines. About 90.3% of the customers have phone services and have the higher rate to churn. Customers who have Fibre optic as internet service are more likely to churn, this can happen due to high prices, competition, customer service, and many other reasons. Fiber optic service is much more expensive than DSL which may be one of the reasons why customers churn. Customers with  OnlineSecurity ,OnlineBackup ,DeviceProtection and TechSupport  are more unlikely to churn. Streaming service is not predictive for churn as it evenly distributed to yes and no options.\n",
    "***"
   ]
  },
  {
   "cell_type": "code",
   "execution_count": null,
   "id": "2a81ba76-319c-4514-8b40-e112e1b38f96",
   "metadata": {},
   "outputs": [],
   "source": [
    "bar_chart(\"Contract\")\n",
    "bar_chart(\"PaperlessBilling\")\n",
    "bar_chart(\"PaymentMethod\")"
   ]
  },
  {
   "cell_type": "markdown",
   "id": "9118d7f5-12d7-4277-b090-fb0b7c50c0af",
   "metadata": {},
   "source": [
    "**Payment**:\n",
    "***\n",
    "The shorter the contract the higher churn rate as those with longer plans face additional barriers when cancelling prematurely. This clearly explains the motivation for companies to have long-term relationship with their customers. Churn Rate is higher for the customers who opted for paperless billing, About 59.2% of the customers make paperless billing. Customers who pay with electronic check are more likely to churn and this kind of payment is more common than other payment types.\n",
    "***"
   ]
  },
  {
   "cell_type": "markdown",
   "id": "ddf17f51-1477-477d-9cb8-1fefed8d25ba",
   "metadata": {},
   "source": [
    "### Explore Numeric features"
   ]
  },
  {
   "cell_type": "code",
   "execution_count": null,
   "id": "5213bf08-af65-40ba-b0a4-b96bbeed6b83",
   "metadata": {},
   "outputs": [],
   "source": [
    "dts_dtframe.dtypes"
   ]
  },
  {
   "cell_type": "code",
   "execution_count": null,
   "id": "1d83f610-3d19-426b-8f11-1010135f2aea",
   "metadata": {},
   "outputs": [],
   "source": [
    "try:\n",
    "    dts_dtframe[\"TotalCharges\"] = dts_dtframe[\"TotalCharges\"].astype(float)\n",
    "except ValueError as val_err:\n",
    "    print(val_err)"
   ]
  },
  {
   "cell_type": "code",
   "execution_count": null,
   "id": "1aa95e65-6896-436b-aa3e-2345542e8276",
   "metadata": {},
   "outputs": [],
   "source": [
    "dts_dtframe[\"TotalCharges\"] = pdas.to_numeric(\n",
    "    dts_dtframe[\"TotalCharges\"], errors=\"coerce\"\n",
    ")\n",
    "# Fill the missing values with with the median value\n",
    "dts_dtframe[\"TotalCharges\"] = dts_dtframe[\"TotalCharges\"].fillna(\n",
    "    dts_dtframe[\"TotalCharges\"].median()\n",
    ")"
   ]
  },
  {
   "cell_type": "code",
   "execution_count": null,
   "id": "08b1ebf9-d47b-426d-84d0-221eb9dc0612",
   "metadata": {},
   "outputs": [],
   "source": [
    "# Defining the histogram plotting function\n",
    "def hist(feature):\n",
    "    group_df = dts_dtframe.groupby([feature, \"Churn\"]).size().reset_index()\n",
    "    group_df = group_df.rename(columns={0: \"Count\"})\n",
    "    fig = plotly_ex.histogram(\n",
    "        group_df,\n",
    "        x=feature,\n",
    "        y=\"Count\",\n",
    "        color=\"Churn\",\n",
    "        marginal=\"box\",\n",
    "        title=f\"Churn rate frequency to {feature} distribution\",\n",
    "        color_discrete_sequence=[\"blue\", \"red\"],\n",
    "    )\n",
    "    fig.show()"
   ]
  },
  {
   "cell_type": "code",
   "execution_count": null,
   "id": "146bd0da-e217-4d94-a688-f38cadfb2acb",
   "metadata": {},
   "outputs": [],
   "source": [
    "hist(\"tenure\")\n",
    "hist(\"MonthlyCharges\")\n",
    "hist(\"TotalCharges\")"
   ]
  },
  {
   "cell_type": "markdown",
   "id": "80678843-be70-4634-bdf1-04b084934097",
   "metadata": {},
   "source": [
    "***\n",
    "**Customer account information**: The tenure histogram is rightly skewed and shows that majority of customers has been with the telecom company for just the first few months (0-9 months) and the highest rate of churn is also in that first few months (0-9months). 75% of customers who end up leaving Telcom company  do so within their first 30 months. The monthly charge histogram shows that clients with higher monthly charges have a higher churn rate (This suggests that discounts and promotions can be an enticing reason for customers to stay). The total charge trend is quite depict due to variation in frequency.\n",
    "Lets bin the numeric features into 3 sections based on quantiles (low, medium and high to get more information from it).\n",
    "***"
   ]
  },
  {
   "cell_type": "code",
   "execution_count": null,
   "id": "382aebfa-3f09-4672-868c-9c7eb6b37f24",
   "metadata": {},
   "outputs": [],
   "source": [
    "# Create an empty DataFrame\n",
    "bin_df = pdas.DataFrame()\n",
    "\n",
    "# Update the binning DataFrame\n",
    "bin_df[\"tenure_bins\"] = pdas.qcut(\n",
    "    dts_dtframe[\"tenure\"], q=3, labels=[\"low\", \"medium\", \"high\"]\n",
    ")\n",
    "bin_df[\"MonthlyCharges_bins\"] = pdas.qcut(\n",
    "    dts_dtframe[\"MonthlyCharges\"], q=3, labels=[\"low\", \"medium\", \"high\"]\n",
    ")\n",
    "bin_df[\"TotalCharges_bins\"] = pdas.qcut(\n",
    "    dts_dtframe[\"TotalCharges\"], q=3, labels=[\"low\", \"medium\", \"high\"]\n",
    ")\n",
    "bin_df[\"Churn\"] = dts_dtframe[\"Churn\"]\n",
    "\n",
    "# Plot the bar chart of the binned variables\n",
    "bar_chart(\"tenure_bins\", bin_df)\n",
    "bar_chart(\"MonthlyCharges_bins\", bin_df)\n",
    "bar_chart(\"TotalCharges_bins\", bin_df)"
   ]
  },
  {
   "cell_type": "markdown",
   "id": "b6df78e5-990c-489b-b9d1-2a3c16e2fe59",
   "metadata": {},
   "source": [
    "***\n",
    "Based on binning, the low tenure and high monthly charge bins have higher churn rates as supported with the previous analysis. While the low Total charge bin has a higher churn rate. \n",
    "***"
   ]
  },
  {
   "cell_type": "markdown",
   "id": "a0c6db8c-9bed-43a8-9190-3659dda4175e",
   "metadata": {},
   "source": [
    "### Data preprocessing"
   ]
  },
  {
   "cell_type": "code",
   "execution_count": null,
   "id": "4e9f144d-0a67-45c2-8e1f-771d00180e0c",
   "metadata": {},
   "outputs": [],
   "source": [
    "# The customerID column is not useful as the feature us used for identification of customers.\n",
    "dts_dtframe.drop([\"customerID\"], axis=1, inplace=True)\n",
    "\n",
    "# Encode categorical features\n",
    "# Defining the map function\n",
    "def binary_map(feature):\n",
    "    return feature.map({\"Yes\": 1, \"No\": 0})\n",
    "\n",
    "\n",
    "# Encoding target feature\n",
    "dts_dtframe[\"Churn\"] = dts_dtframe[[\"Churn\"]].apply(binary_map)\n",
    "\n",
    "# Encoding gender category\n",
    "dts_dtframe[\"gender\"] = dts_dtframe[\"gender\"].map({\"Male\": 1, \"Female\": 0})\n",
    "\n",
    "# Encoding other binary category\n",
    "binary_list = [\n",
    "    \"SeniorCitizen\",\n",
    "    \"Partner\",\n",
    "    \"Dependents\",\n",
    "    \"PhoneService\",\n",
    "    \"PaperlessBilling\",\n",
    "]\n",
    "dts_dtframe[binary_list] = dts_dtframe[binary_list].apply(binary_map)\n",
    "\n",
    "# Encoding the other categoric features with more than two categories\n",
    "dts_dtframe = pdas.get_dummies(dts_dtframe, drop_first=True)"
   ]
  },
  {
   "cell_type": "code",
   "execution_count": null,
   "id": "c2799dc5-177a-4914-a583-890cdcdb21a3",
   "metadata": {},
   "outputs": [],
   "source": [
    "# Checking the correlation between features\n",
    "corr = dts_dtframe.corr()\n",
    "\n",
    "fig = plotly_ex.imshow(corr, width=1000, height=1000)\n",
    "fig.show()"
   ]
  },
  {
   "cell_type": "markdown",
   "id": "40e609ea-46b1-412c-90c8-372ef6a51ced",
   "metadata": {},
   "source": [
    "Correlation is a statistical term is a measure on linear relationship with two variables. Features with high correlation are more linearly dependent and have almost the same effect on the dependent variable. So when two features have a high correlation, we can drop one of the two features."
   ]
  },
  {
   "cell_type": "code",
   "execution_count": null,
   "id": "0e764116-4a7b-489f-9df3-dbbe131bcbe3",
   "metadata": {},
   "outputs": [],
   "source": [
    "import statsmodels.api as sm_api\n",
    "import statsmodels.formula.api as sm_f_api\n",
    "\n",
    "# Change variable name seperators to '_'\n",
    "all_columns = [\n",
    "    column.replace(\" \", \"_\").replace(\"(\", \"_\").replace(\")\", \"_\").replace(\"-\", \"_\")\n",
    "    for column in dts_dtframe.columns\n",
    "]\n",
    "\n",
    "# Effect the change to the DataFrame column names\n",
    "dts_dtframe.columns = all_columns\n",
    "\n",
    "# Prepare it for the GLM formula\n",
    "glm_columns = [e for e in all_columns if e not in [\"customerID\", \"Churn\"]]\n",
    "glm_columns = \" + \".join(map(str, glm_columns))\n",
    "\n",
    "# Fiting it to the Generalized Linear Model\n",
    "glm_model = sm_f_api.glm(\n",
    "    formula=f\"Churn ~ {glm_columns}\",\n",
    "    data=dts_dtframe,\n",
    "    family=sm_api.families.Binomial(),\n",
    ")\n",
    "res = glm_model.fit()\n",
    "print(res.summary())"
   ]
  },
  {
   "cell_type": "code",
   "execution_count": null,
   "id": "05066a25-d2b0-4813-843f-2edb31f28718",
   "metadata": {},
   "outputs": [],
   "source": [
    "npy.exp(res.params)"
   ]
  },
  {
   "cell_type": "code",
   "execution_count": null,
   "id": "a77557b7-3c1f-441b-b438-6ae8cc8c608d",
   "metadata": {},
   "outputs": [],
   "source": [
    "# Feature scaling\n",
    "from sklearn.preprocessing import MinMaxScaler\n",
    "\n",
    "sc = MinMaxScaler()\n",
    "dts_dtframe[\"tenure\"] = sc.fit_transform(dts_dtframe[[\"tenure\"]])\n",
    "dts_dtframe[\"MonthlyCharges\"] = sc.fit_transform(dts_dtframe[[\"MonthlyCharges\"]])\n",
    "dts_dtframe[\"TotalCharges\"] = sc.fit_transform(dts_dtframe[[\"TotalCharges\"]])"
   ]
  },
  {
   "cell_type": "markdown",
   "id": "f7d9e7ee-2dc1-4c5f-8183-5bb8d5dcb8ea",
   "metadata": {},
   "source": [
    "#### Creating a baseline model"
   ]
  },
  {
   "cell_type": "code",
   "execution_count": null,
   "id": "43c49b86-0ca0-4c68-a29e-8af7ceab941b",
   "metadata": {},
   "outputs": [],
   "source": [
    "# Import Machine learning algorithms\n",
    "from sklearn.linear_model import LogisticRegression\n",
    "from sklearn.svm import SVC\n",
    "from sklearn.ensemble import RandomForestClassifier\n",
    "from sklearn.tree import DecisionTreeClassifier\n",
    "from sklearn.naive_bayes import GaussianNB\n",
    "\n",
    "# Import metric for performance evaluation\n",
    "from sklearn.metrics import accuracy_score, precision_score, recall_score, f1_score\n",
    "\n",
    "# Split data into train and test sets\n",
    "from sklearn.model_selection import train_test_split\n",
    "\n",
    "X = dts_dtframe.drop(\"Churn\", axis=1)\n",
    "y = dts_dtframe[\"Churn\"]\n",
    "X_train, X_test, y_train, y_test = train_test_split(\n",
    "    X, y, test_size=0.3, random_state=50\n",
    ")  "
   ]
  },
  {
   "cell_type": "code",
   "execution_count": null,
   "id": "4a28c4c1-65b3-4fb4-9e00-6ef379caadd6",
   "metadata": {},
   "outputs": [],
   "source": [
    "def modeling(alg, alg_name, params={}):\n",
    "    model = alg(\n",
    "        **params\n",
    "    )  # Instantiating the algorithm class and unpacking parameters if any\n",
    "    model.fit(X_train, y_train)\n",
    "    y_pred = model.predict(X_test)\n",
    "\n",
    "    # Performance evaluation\n",
    "    def print_scores(alg, y_true, y_pred):\n",
    "        print(alg_name)\n",
    "        acc_score = accuracy_score(y_true, y_pred)\n",
    "        print(\"accuracy: \", acc_score)\n",
    "        pre_score = precision_score(y_true, y_pred)\n",
    "        print(\"precision: \", pre_score)\n",
    "        rec_score = recall_score(y_true, y_pred)\n",
    "        print(\"recall: \", rec_score)\n",
    "        f_score = f1_score(y_true, y_pred, average=\"weighted\")\n",
    "        print(\"f1_score: \", f_score)\n",
    "\n",
    "    print_scores(alg, y_test, y_pred)\n",
    "    return model"
   ]
  },
  {
   "cell_type": "code",
   "execution_count": null,
   "id": "a9f607d8-40d8-4d93-a0f7-3b6f41fea7bc",
   "metadata": {},
   "outputs": [],
   "source": [
    "# Running logistic regression model\n",
    "log_model = modeling(LogisticRegression, \"Logistic Regression\")"
   ]
  },
  {
   "cell_type": "code",
   "execution_count": null,
   "id": "1165f82b-dcd0-4cde-8067-53133e4923b3",
   "metadata": {},
   "outputs": [],
   "source": [
    "# Feature selection to improve model building\n",
    "from sklearn.feature_selection import RFECV\n",
    "from sklearn.model_selection import StratifiedKFold\n",
    "\n",
    "log = LogisticRegression()\n",
    "rfecv = RFECV(\n",
    "    estimator=log,\n",
    "    cv=StratifiedKFold(10, random_state=50, shuffle=True),\n",
    "    scoring=\"accuracy\",\n",
    ")\n",
    "rfecv.fit(X, y)"
   ]
  },
  {
   "cell_type": "code",
   "execution_count": null,
   "id": "eefaf84c-37cf-4cd9-99c8-03ffa60478fa",
   "metadata": {},
   "outputs": [],
   "source": [
    "matplot_plt.figure(figsize=(8, 6))\n",
    "matplot_plt.plot(range(1, len(rfecv.grid_scores_) + 1), rfecv.grid_scores_)\n",
    "matplot_plt.grid()\n",
    "matplot_plt.xticks(range(1, X.shape[1] + 1))\n",
    "matplot_plt.xlabel(\"Number of Selected Features\")\n",
    "matplot_plt.ylabel(\"CV Score\")\n",
    "matplot_plt.title(\"Recursive Feature Elimination (RFE)\")\n",
    "matplot_plt.show()\n",
    "\n",
    "print(\"The optimal number of features: {}\".format(rfecv.n_features_))"
   ]
  },
  {
   "cell_type": "code",
   "execution_count": null,
   "id": "388d8e8b-8ee1-45bb-a776-5a78b3aef7db",
   "metadata": {},
   "outputs": [],
   "source": [
    "# Saving DataFrame with optimal features\n",
    "X_rfe = X.iloc[:, rfecv.support_]\n",
    "\n",
    "# Overview of the optimal features in comparison with the intial DataFrame\n",
    "print('\"X\" dimension: {}'.format(X.shape))\n",
    "print('\"X\" column list:', X.columns.tolist())\n",
    "print('\"X_rfe\" dimension: {}'.format(X_rfe.shape))\n",
    "print('\"X_rfe\" column list:', X_rfe.columns.tolist())"
   ]
  },
  {
   "cell_type": "code",
   "execution_count": null,
   "id": "d6d3d1de-bdb2-46d2-b445-1902e796a97e",
   "metadata": {},
   "outputs": [],
   "source": [
    "# Splitting data with optimal features\n",
    "X_train, X_test, y_train, y_test = train_test_split(\n",
    "    X_rfe, y, test_size=0.3, random_state=50\n",
    ") "
   ]
  },
  {
   "cell_type": "code",
   "execution_count": null,
   "id": "b397dbd0-384c-40af-96fe-b5753e8765a3",
   "metadata": {},
   "outputs": [],
   "source": [
    "# Running logistic regression model\n",
    "log_model = modeling(LogisticRegression, \"Logistic Regression Classification\")"
   ]
  },
  {
   "cell_type": "markdown",
   "id": "6d3da949",
   "metadata": {},
   "source": [
    "Trying other machine learning algorithms:"
   ]
  },
  {
   "cell_type": "code",
   "execution_count": null,
   "id": "f9c06b82-eebf-415f-a89c-a0c70242fb9f",
   "metadata": {},
   "outputs": [],
   "source": [
    "# SVC\n",
    "svc_model = modeling(SVC, \"SVC Classification\")"
   ]
  },
  {
   "cell_type": "code",
   "execution_count": null,
   "id": "876548bc-9f10-4b71-a1d8-b42ac1bedb59",
   "metadata": {},
   "outputs": [],
   "source": [
    "# Random forest\n",
    "rf_model = modeling(RandomForestClassifier, \"Random Forest Classification\")"
   ]
  },
  {
   "cell_type": "code",
   "execution_count": null,
   "id": "e40870d6-bff1-4239-b15b-4d453f6f55fb",
   "metadata": {},
   "outputs": [],
   "source": [
    "# Decision tree\n",
    "dt_model = modeling(DecisionTreeClassifier, \"Decision Tree Classification\")"
   ]
  },
  {
   "cell_type": "code",
   "execution_count": null,
   "id": "c533862f-3aa4-42f6-9999-6b44b67653de",
   "metadata": {},
   "outputs": [],
   "source": [
    "# Naive bayes\n",
    "nb_model = modeling(GaussianNB, \"Naive Bayes Classification\")"
   ]
  },
  {
   "cell_type": "code",
   "execution_count": null,
   "id": "6b67d154-1b60-4bcb-bd94-2c3a01b02bae",
   "metadata": {},
   "outputs": [],
   "source": [
    "# Improve best model by hyperparameter tuning\n",
    "# Define model\n",
    "model = LogisticRegression()\n",
    "\n",
    "# Define evaluation\n",
    "from sklearn.model_selection import RepeatedStratifiedKFold\n",
    "\n",
    "cv = RepeatedStratifiedKFold(n_splits=10, n_repeats=3, random_state=1)\n",
    "\n",
    "# Define search space\n",
    "from scipy.stats import loguniform\n",
    "\n",
    "space = dict()\n",
    "space[\"solver\"] = [\"newton-cg\", \"lbfgs\", \"liblinear\"]\n",
    "space[\"penalty\"] = [\"none\", \"l1\", \"l2\", \"elasticnet\"]\n",
    "space[\"C\"] = loguniform(1e-5, 1000)\n",
    "\n",
    "# Define search\n",
    "from sklearn.model_selection import RandomizedSearchCV\n",
    "\n",
    "search = RandomizedSearchCV(\n",
    "    model, space, n_iter=500, scoring=\"accuracy\", n_jobs=-1, cv=cv, random_state=1\n",
    ")\n",
    "\n",
    "# Execute search\n",
    "result = search.fit(X_rfe, y)\n",
    "# Summarize result\n",
    "print(\"Best Score: %s\" % result.best_score_)\n",
    "print(\"Best Hyperparameters: %s\" % result.best_params_)"
   ]
  },
  {
   "cell_type": "code",
   "execution_count": null,
   "id": "f194467d-846e-48ca-b69a-981ae6afebd7",
   "metadata": {},
   "outputs": [],
   "source": [
    "params = result.best_params_\n",
    "params"
   ]
  },
  {
   "cell_type": "code",
   "execution_count": null,
   "id": "9ad2bd8c-ae74-441b-851d-f5c8c836b7ca",
   "metadata": {},
   "outputs": [],
   "source": [
    "# Improving the Logistic Regression model\n",
    "log_model = modeling(\n",
    "    LogisticRegression, \"Logistic Regression Classification\", params=params\n",
    ")"
   ]
  },
  {
   "cell_type": "code",
   "execution_count": null,
   "id": "c5c9497a-ceb9-4509-9af5-2c5f9b038fca",
   "metadata": {},
   "outputs": [],
   "source": [
    "# Save the model to device\n",
    "filename = \"model.sav\"\n",
    "joblib.dump(log_model, filename)"
   ]
  }
 ],
 "metadata": {
  "kernelspec": {
   "display_name": "Python 3",
   "language": "python",
   "name": "python3"
  },
  "language_info": {
   "codemirror_mode": {
    "name": "ipython",
    "version": 3
   },
   "file_extension": ".py",
   "mimetype": "text/x-python",
   "name": "python",
   "nbconvert_exporter": "python",
   "pygments_lexer": "ipython3",
   "version": "3.9.5"
  }
 },
 "nbformat": 4,
 "nbformat_minor": 5
}
